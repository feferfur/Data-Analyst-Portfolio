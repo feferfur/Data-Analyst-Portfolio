{
 "cells": [
  {
   "cell_type": "markdown",
   "metadata": {
    "toc": true
   },
   "source": [
    "<h1>Содержание<span class=\"tocSkip\"></span></h1>\n",
    "<div class=\"toc\"><ul class=\"toc-item\"><li><span><a href=\"#Подготовка-данных\" data-toc-modified-id=\"Подготовка-данных-1\"><span class=\"toc-item-num\">1&nbsp;&nbsp;</span>Подготовка данных</a></span><ul class=\"toc-item\"><li><span><a href=\"#Просмотрим-данные-и-информацию-о-них\" data-toc-modified-id=\"Просмотрим-данные-и-информацию-о-них-1.1\"><span class=\"toc-item-num\">1.1&nbsp;&nbsp;</span>Просмотрим данные и информацию о них</a></span></li><li><span><a href=\"#Проверим-правильность-расчета-эффективности-обогащения\" data-toc-modified-id=\"Проверим-правильность-расчета-эффективности-обогащения-1.2\"><span class=\"toc-item-num\">1.2&nbsp;&nbsp;</span>Проверим правильность расчета эффективности обогащения</a></span></li><li><span><a href=\"#Проанализируем-признаки,-недоступные-в-тестовой-выборке.-Что-это-за-параметры?-К-какому-типу-относятся?\" data-toc-modified-id=\"Проанализируем-признаки,-недоступные-в-тестовой-выборке.-Что-это-за-параметры?-К-какому-типу-относятся?-1.3\"><span class=\"toc-item-num\">1.3&nbsp;&nbsp;</span>Проанализируем признаки, недоступные в тестовой выборке. Что это за параметры? К какому типу относятся?</a></span></li><li><span><a href=\"#Проведем-предобработку-данных.\" data-toc-modified-id=\"Проведем-предобработку-данных.-1.4\"><span class=\"toc-item-num\">1.4&nbsp;&nbsp;</span>Проведем предобработку данных.</a></span><ul class=\"toc-item\"><li><span><a href=\"#Проверим-данные-на-пропуски\" data-toc-modified-id=\"Проверим-данные-на-пропуски-1.4.1\"><span class=\"toc-item-num\">1.4.1&nbsp;&nbsp;</span>Проверим данные на пропуски</a></span></li><li><span><a href=\"#Проверим-на-дубликаты\" data-toc-modified-id=\"Проверим-на-дубликаты-1.4.2\"><span class=\"toc-item-num\">1.4.2&nbsp;&nbsp;</span>Проверим на дубликаты</a></span></li></ul></li><li><span><a href=\"#Вывод\" data-toc-modified-id=\"Вывод-1.5\"><span class=\"toc-item-num\">1.5&nbsp;&nbsp;</span>Вывод</a></span></li></ul></li><li><span><a href=\"#Анализ-данных\" data-toc-modified-id=\"Анализ-данных-2\"><span class=\"toc-item-num\">2&nbsp;&nbsp;</span>Анализ данных</a></span><ul class=\"toc-item\"><li><span><a href=\"#Посмотрим,-как-меняется-концентрация-металлов\" data-toc-modified-id=\"Посмотрим,-как-меняется-концентрация-металлов-2.1\"><span class=\"toc-item-num\">2.1&nbsp;&nbsp;</span>Посмотрим, как меняется концентрация металлов</a></span></li><li><span><a href=\"#Сравним-распределения-размеров-гранул\" data-toc-modified-id=\"Сравним-распределения-размеров-гранул-2.2\"><span class=\"toc-item-num\">2.2&nbsp;&nbsp;</span>Сравним распределения размеров гранул</a></span><ul class=\"toc-item\"><li><span><a href=\"#Построим-гистограммы-относительных-частот-для-эмпирического-анализа\" data-toc-modified-id=\"Построим-гистограммы-относительных-частот-для-эмпирического-анализа-2.2.1\"><span class=\"toc-item-num\">2.2.1&nbsp;&nbsp;</span>Построим гистограммы относительных частот для эмпирического анализа</a></span></li><li><span><a href=\"#Сравним-средние-значения-двух-распределений\" data-toc-modified-id=\"Сравним-средние-значения-двух-распределений-2.2.2\"><span class=\"toc-item-num\">2.2.2&nbsp;&nbsp;</span>Сравним средние значения двух распределений</a></span></li></ul></li><li><span><a href=\"#Исследуем-суммарную-концентрацию-металлов-на-разных-стадиях:-в-сырье,-в-черновом-концентрате,-в-концентрате-после-первой-очистки-и-в-финальном-концентрате.\" data-toc-modified-id=\"Исследуем-суммарную-концентрацию-металлов-на-разных-стадиях:-в-сырье,-в-черновом-концентрате,-в-концентрате-после-первой-очистки-и-в-финальном-концентрате.-2.3\"><span class=\"toc-item-num\">2.3&nbsp;&nbsp;</span>Исследуем суммарную концентрацию металлов на разных стадиях: в сырье, в черновом концентрате, в концентрате после первой очистки и в финальном концентрате.</a></span></li><li><span><a href=\"#Вывод\" data-toc-modified-id=\"Вывод-2.4\"><span class=\"toc-item-num\">2.4&nbsp;&nbsp;</span>Вывод</a></span></li></ul></li><li><span><a href=\"#Модель\" data-toc-modified-id=\"Модель-3\"><span class=\"toc-item-num\">3&nbsp;&nbsp;</span>Модель</a></span><ul class=\"toc-item\"><li><span><a href=\"#Восстановим-целевые-признаки-в-data_test-из-data_full\" data-toc-modified-id=\"Восстановим-целевые-признаки-в-data_test-из-data_full-3.1\"><span class=\"toc-item-num\">3.1&nbsp;&nbsp;</span>Восстановим целевые признаки в data_test из data_full</a></span></li><li><span><a href=\"#Напишем-функцию-для-вычисления-итоговой-sMAPE.\" data-toc-modified-id=\"Напишем-функцию-для-вычисления-итоговой-sMAPE.-3.2\"><span class=\"toc-item-num\">3.2&nbsp;&nbsp;</span>Напишем функцию для вычисления итоговой sMAPE.</a></span></li><li><span><a href=\"#Выделим-features-и-target-для-чернового-и-финального-концентрата\" data-toc-modified-id=\"Выделим-features-и-target-для-чернового-и-финального-концентрата-3.3\"><span class=\"toc-item-num\">3.3&nbsp;&nbsp;</span>Выделим features и target для чернового и финального концентрата</a></span></li><li><span><a href=\"#Построим-модель-для-линейной-регрессии\" data-toc-modified-id=\"Построим-модель-для-линейной-регрессии-3.4\"><span class=\"toc-item-num\">3.4&nbsp;&nbsp;</span>Построим модель для линейной регрессии</a></span></li><li><span><a href=\"#Построим-модель-решающего-дерева\" data-toc-modified-id=\"Построим-модель-решающего-дерева-3.5\"><span class=\"toc-item-num\">3.5&nbsp;&nbsp;</span>Построим модель решающего дерева</a></span></li><li><span><a href=\"#Построим-модель-для-случайного-леса\" data-toc-modified-id=\"Построим-модель-для-случайного-леса-3.6\"><span class=\"toc-item-num\">3.6&nbsp;&nbsp;</span>Построим модель для случайного леса</a></span></li><li><span><a href=\"#Проверим-лучшую-модель-на-тестовой-выборке\" data-toc-modified-id=\"Проверим-лучшую-модель-на-тестовой-выборке-3.7\"><span class=\"toc-item-num\">3.7&nbsp;&nbsp;</span>Проверим лучшую модель на тестовой выборке</a></span></li><li><span><a href=\"#Проверим-модель-на-адекватость\" data-toc-modified-id=\"Проверим-модель-на-адекватость-3.8\"><span class=\"toc-item-num\">3.8&nbsp;&nbsp;</span>Проверим модель на адекватость</a></span></li><li><span><a href=\"#Вывод\" data-toc-modified-id=\"Вывод-3.9\"><span class=\"toc-item-num\">3.9&nbsp;&nbsp;</span>Вывод</a></span></li></ul></li><li><span><a href=\"#Общий-вывод\" data-toc-modified-id=\"Общий-вывод-4\"><span class=\"toc-item-num\">4&nbsp;&nbsp;</span>Общий вывод</a></span></li></ul></div>"
   ]
  },
  {
   "cell_type": "markdown",
   "metadata": {},
   "source": [
    "# Восстановление золота из руды"
   ]
  },
  {
   "cell_type": "markdown",
   "metadata": {},
   "source": [
    "Подготовьте прототип модели машинного обучения для «Цифры». Компания разрабатывает решения для эффективной работы промышленных предприятий.\n",
    "\n",
    "Модель должна предсказать коэффициент восстановления золота из золотосодержащей руды. Используйте данные с параметрами добычи и очистки. \n",
    "\n",
    "Модель поможет оптимизировать производство, чтобы не запускать предприятие с убыточными характеристиками.\n",
    "\n",
    "Вам нужно:\n",
    "\n",
    "1. Подготовить данные;\n",
    "2. Провести исследовательский анализ данных;\n",
    "3. Построить и обучить модель.\n",
    "\n",
    "Чтобы выполнить проект, обращайтесь к библиотекам *pandas*, *matplotlib* и *sklearn.* Вам поможет их документация."
   ]
  },
  {
   "cell_type": "markdown",
   "metadata": {},
   "source": [
    "## Подготовка данных"
   ]
  },
  {
   "cell_type": "markdown",
   "metadata": {},
   "source": [
    "### Просмотрим данные и информацию о них"
   ]
  },
  {
   "cell_type": "code",
   "execution_count": 1,
   "metadata": {},
   "outputs": [],
   "source": [
    "import pandas as pd\n",
    "import numpy as np\n",
    "from IPython.display import display_markdown\n",
    "from matplotlib import pyplot as plt\n",
    "import seaborn as sns\n",
    "from scipy import stats as st\n",
    "from sklearn.metrics import mean_absolute_error, make_scorer\n",
    "from sklearn.linear_model import LinearRegression\n",
    "from sklearn.model_selection import cross_val_score\n",
    "from sklearn.model_selection import cross_val_predict\n",
    "from sklearn.tree import DecisionTreeRegressor\n",
    "from sklearn.ensemble import RandomForestRegressor\n",
    "from sklearn.model_selection import RandomizedSearchCV\n",
    "from sklearn.dummy import DummyRegressor"
   ]
  },
  {
   "cell_type": "code",
   "execution_count": 2,
   "metadata": {},
   "outputs": [],
   "source": [
    "data_train = pd.read_csv('/datasets/gold_industry_train.csv')\n",
    "data_test = pd.read_csv('/datasets/gold_industry_test.csv')\n",
    "data_full = pd.read_csv('/datasets/gold_industry_full.csv')"
   ]
  },
  {
   "cell_type": "code",
   "execution_count": 3,
   "metadata": {},
   "outputs": [],
   "source": [
    "def show_info(data):\n",
    "    display_markdown('### Первые 5 строк датафрейма', raw=True)\n",
    "    display(data.head())\n",
    "    display_markdown('### Статистика по датафрейму', raw=True)\n",
    "    display(data.describe())\n",
    "    display_markdown('### Информация о датафрейме', raw=True)\n",
    "    print(data.info())"
   ]
  },
  {
   "cell_type": "code",
   "execution_count": 4,
   "metadata": {
    "scrolled": false
   },
   "outputs": [
    {
     "data": {
      "text/markdown": [
       "### Первые 5 строк датафрейма"
      ]
     },
     "metadata": {},
     "output_type": "display_data"
    },
    {
     "data": {
      "text/html": [
       "<div>\n",
       "<style scoped>\n",
       "    .dataframe tbody tr th:only-of-type {\n",
       "        vertical-align: middle;\n",
       "    }\n",
       "\n",
       "    .dataframe tbody tr th {\n",
       "        vertical-align: top;\n",
       "    }\n",
       "\n",
       "    .dataframe thead th {\n",
       "        text-align: right;\n",
       "    }\n",
       "</style>\n",
       "<table border=\"1\" class=\"dataframe\">\n",
       "  <thead>\n",
       "    <tr style=\"text-align: right;\">\n",
       "      <th></th>\n",
       "      <th>date</th>\n",
       "      <th>rougher.input.feed_au</th>\n",
       "      <th>rougher.input.feed_ag</th>\n",
       "      <th>rougher.input.feed_pb</th>\n",
       "      <th>rougher.input.feed_sol</th>\n",
       "      <th>rougher.input.feed_rate</th>\n",
       "      <th>rougher.input.feed_size</th>\n",
       "      <th>rougher.input.floatbank10_sulfate</th>\n",
       "      <th>rougher.input.floatbank10_xanthate</th>\n",
       "      <th>rougher.state.floatbank10_a_air</th>\n",
       "      <th>...</th>\n",
       "      <th>secondary_cleaner.output.tail_sol</th>\n",
       "      <th>final.output.concentrate_au</th>\n",
       "      <th>final.output.concentrate_ag</th>\n",
       "      <th>final.output.concentrate_pb</th>\n",
       "      <th>final.output.concentrate_sol</th>\n",
       "      <th>final.output.recovery</th>\n",
       "      <th>final.output.tail_au</th>\n",
       "      <th>final.output.tail_ag</th>\n",
       "      <th>final.output.tail_pb</th>\n",
       "      <th>final.output.tail_sol</th>\n",
       "    </tr>\n",
       "  </thead>\n",
       "  <tbody>\n",
       "    <tr>\n",
       "      <th>0</th>\n",
       "      <td>2016-01-15 00:00:00</td>\n",
       "      <td>6.486150</td>\n",
       "      <td>6.100378</td>\n",
       "      <td>2.284912</td>\n",
       "      <td>36.808594</td>\n",
       "      <td>523.546326</td>\n",
       "      <td>55.486599</td>\n",
       "      <td>11.986616</td>\n",
       "      <td>6.007990</td>\n",
       "      <td>999.706909</td>\n",
       "      <td>...</td>\n",
       "      <td>8.764648</td>\n",
       "      <td>42.192020</td>\n",
       "      <td>6.055403</td>\n",
       "      <td>9.889648</td>\n",
       "      <td>5.507324</td>\n",
       "      <td>70.541216</td>\n",
       "      <td>2.143149</td>\n",
       "      <td>10.411962</td>\n",
       "      <td>0.895447</td>\n",
       "      <td>16.904297</td>\n",
       "    </tr>\n",
       "    <tr>\n",
       "      <th>1</th>\n",
       "      <td>2016-01-15 01:00:00</td>\n",
       "      <td>6.478583</td>\n",
       "      <td>6.161113</td>\n",
       "      <td>2.266033</td>\n",
       "      <td>35.753385</td>\n",
       "      <td>525.290581</td>\n",
       "      <td>57.278666</td>\n",
       "      <td>11.971193</td>\n",
       "      <td>6.005766</td>\n",
       "      <td>1000.286398</td>\n",
       "      <td>...</td>\n",
       "      <td>9.001494</td>\n",
       "      <td>42.701629</td>\n",
       "      <td>6.029369</td>\n",
       "      <td>9.968944</td>\n",
       "      <td>5.257781</td>\n",
       "      <td>69.266198</td>\n",
       "      <td>2.224930</td>\n",
       "      <td>10.462676</td>\n",
       "      <td>0.927452</td>\n",
       "      <td>16.634514</td>\n",
       "    </tr>\n",
       "    <tr>\n",
       "      <th>2</th>\n",
       "      <td>2016-01-15 02:00:00</td>\n",
       "      <td>6.362222</td>\n",
       "      <td>6.116455</td>\n",
       "      <td>2.159622</td>\n",
       "      <td>35.971630</td>\n",
       "      <td>530.026610</td>\n",
       "      <td>57.510649</td>\n",
       "      <td>11.920603</td>\n",
       "      <td>6.197377</td>\n",
       "      <td>999.719565</td>\n",
       "      <td>...</td>\n",
       "      <td>8.842896</td>\n",
       "      <td>42.657501</td>\n",
       "      <td>6.055926</td>\n",
       "      <td>10.213995</td>\n",
       "      <td>5.383759</td>\n",
       "      <td>68.116445</td>\n",
       "      <td>2.257889</td>\n",
       "      <td>10.507046</td>\n",
       "      <td>0.953716</td>\n",
       "      <td>16.208849</td>\n",
       "    </tr>\n",
       "    <tr>\n",
       "      <th>3</th>\n",
       "      <td>2016-01-15 03:00:00</td>\n",
       "      <td>6.118189</td>\n",
       "      <td>6.043309</td>\n",
       "      <td>2.037807</td>\n",
       "      <td>36.862241</td>\n",
       "      <td>542.590390</td>\n",
       "      <td>57.792734</td>\n",
       "      <td>11.630094</td>\n",
       "      <td>6.203177</td>\n",
       "      <td>999.814770</td>\n",
       "      <td>...</td>\n",
       "      <td>9.122857</td>\n",
       "      <td>42.689819</td>\n",
       "      <td>6.047977</td>\n",
       "      <td>9.977019</td>\n",
       "      <td>4.858634</td>\n",
       "      <td>68.347543</td>\n",
       "      <td>2.146849</td>\n",
       "      <td>10.422762</td>\n",
       "      <td>0.883763</td>\n",
       "      <td>16.532835</td>\n",
       "    </tr>\n",
       "    <tr>\n",
       "      <th>4</th>\n",
       "      <td>2016-01-15 04:00:00</td>\n",
       "      <td>5.663707</td>\n",
       "      <td>6.060915</td>\n",
       "      <td>1.786875</td>\n",
       "      <td>34.347666</td>\n",
       "      <td>540.531893</td>\n",
       "      <td>56.047189</td>\n",
       "      <td>10.957755</td>\n",
       "      <td>6.198826</td>\n",
       "      <td>999.678690</td>\n",
       "      <td>...</td>\n",
       "      <td>8.871028</td>\n",
       "      <td>42.774141</td>\n",
       "      <td>6.148599</td>\n",
       "      <td>10.142511</td>\n",
       "      <td>4.939416</td>\n",
       "      <td>66.927016</td>\n",
       "      <td>2.055292</td>\n",
       "      <td>10.360302</td>\n",
       "      <td>0.792826</td>\n",
       "      <td>16.525686</td>\n",
       "    </tr>\n",
       "  </tbody>\n",
       "</table>\n",
       "<p>5 rows × 87 columns</p>\n",
       "</div>"
      ],
      "text/plain": [
       "                  date  rougher.input.feed_au  rougher.input.feed_ag  \\\n",
       "0  2016-01-15 00:00:00               6.486150               6.100378   \n",
       "1  2016-01-15 01:00:00               6.478583               6.161113   \n",
       "2  2016-01-15 02:00:00               6.362222               6.116455   \n",
       "3  2016-01-15 03:00:00               6.118189               6.043309   \n",
       "4  2016-01-15 04:00:00               5.663707               6.060915   \n",
       "\n",
       "   rougher.input.feed_pb  rougher.input.feed_sol  rougher.input.feed_rate  \\\n",
       "0               2.284912               36.808594               523.546326   \n",
       "1               2.266033               35.753385               525.290581   \n",
       "2               2.159622               35.971630               530.026610   \n",
       "3               2.037807               36.862241               542.590390   \n",
       "4               1.786875               34.347666               540.531893   \n",
       "\n",
       "   rougher.input.feed_size  rougher.input.floatbank10_sulfate  \\\n",
       "0                55.486599                          11.986616   \n",
       "1                57.278666                          11.971193   \n",
       "2                57.510649                          11.920603   \n",
       "3                57.792734                          11.630094   \n",
       "4                56.047189                          10.957755   \n",
       "\n",
       "   rougher.input.floatbank10_xanthate  rougher.state.floatbank10_a_air  ...  \\\n",
       "0                            6.007990                       999.706909  ...   \n",
       "1                            6.005766                      1000.286398  ...   \n",
       "2                            6.197377                       999.719565  ...   \n",
       "3                            6.203177                       999.814770  ...   \n",
       "4                            6.198826                       999.678690  ...   \n",
       "\n",
       "   secondary_cleaner.output.tail_sol  final.output.concentrate_au  \\\n",
       "0                           8.764648                    42.192020   \n",
       "1                           9.001494                    42.701629   \n",
       "2                           8.842896                    42.657501   \n",
       "3                           9.122857                    42.689819   \n",
       "4                           8.871028                    42.774141   \n",
       "\n",
       "   final.output.concentrate_ag  final.output.concentrate_pb  \\\n",
       "0                     6.055403                     9.889648   \n",
       "1                     6.029369                     9.968944   \n",
       "2                     6.055926                    10.213995   \n",
       "3                     6.047977                     9.977019   \n",
       "4                     6.148599                    10.142511   \n",
       "\n",
       "   final.output.concentrate_sol  final.output.recovery  final.output.tail_au  \\\n",
       "0                      5.507324              70.541216              2.143149   \n",
       "1                      5.257781              69.266198              2.224930   \n",
       "2                      5.383759              68.116445              2.257889   \n",
       "3                      4.858634              68.347543              2.146849   \n",
       "4                      4.939416              66.927016              2.055292   \n",
       "\n",
       "   final.output.tail_ag  final.output.tail_pb  final.output.tail_sol  \n",
       "0             10.411962              0.895447              16.904297  \n",
       "1             10.462676              0.927452              16.634514  \n",
       "2             10.507046              0.953716              16.208849  \n",
       "3             10.422762              0.883763              16.532835  \n",
       "4             10.360302              0.792826              16.525686  \n",
       "\n",
       "[5 rows x 87 columns]"
      ]
     },
     "metadata": {},
     "output_type": "display_data"
    },
    {
     "data": {
      "text/markdown": [
       "### Статистика по датафрейму"
      ]
     },
     "metadata": {},
     "output_type": "display_data"
    },
    {
     "data": {
      "text/html": [
       "<div>\n",
       "<style scoped>\n",
       "    .dataframe tbody tr th:only-of-type {\n",
       "        vertical-align: middle;\n",
       "    }\n",
       "\n",
       "    .dataframe tbody tr th {\n",
       "        vertical-align: top;\n",
       "    }\n",
       "\n",
       "    .dataframe thead th {\n",
       "        text-align: right;\n",
       "    }\n",
       "</style>\n",
       "<table border=\"1\" class=\"dataframe\">\n",
       "  <thead>\n",
       "    <tr style=\"text-align: right;\">\n",
       "      <th></th>\n",
       "      <th>rougher.input.feed_au</th>\n",
       "      <th>rougher.input.feed_ag</th>\n",
       "      <th>rougher.input.feed_pb</th>\n",
       "      <th>rougher.input.feed_sol</th>\n",
       "      <th>rougher.input.feed_rate</th>\n",
       "      <th>rougher.input.feed_size</th>\n",
       "      <th>rougher.input.floatbank10_sulfate</th>\n",
       "      <th>rougher.input.floatbank10_xanthate</th>\n",
       "      <th>rougher.state.floatbank10_a_air</th>\n",
       "      <th>rougher.state.floatbank10_a_level</th>\n",
       "      <th>...</th>\n",
       "      <th>secondary_cleaner.output.tail_sol</th>\n",
       "      <th>final.output.concentrate_au</th>\n",
       "      <th>final.output.concentrate_ag</th>\n",
       "      <th>final.output.concentrate_pb</th>\n",
       "      <th>final.output.concentrate_sol</th>\n",
       "      <th>final.output.recovery</th>\n",
       "      <th>final.output.tail_au</th>\n",
       "      <th>final.output.tail_ag</th>\n",
       "      <th>final.output.tail_pb</th>\n",
       "      <th>final.output.tail_sol</th>\n",
       "    </tr>\n",
       "  </thead>\n",
       "  <tbody>\n",
       "    <tr>\n",
       "      <th>count</th>\n",
       "      <td>14579.000000</td>\n",
       "      <td>14579.000000</td>\n",
       "      <td>14507.000000</td>\n",
       "      <td>14502.000000</td>\n",
       "      <td>14572.000000</td>\n",
       "      <td>14478.000000</td>\n",
       "      <td>14548.000000</td>\n",
       "      <td>14572.000000</td>\n",
       "      <td>14579.000000</td>\n",
       "      <td>14579.000000</td>\n",
       "      <td>...</td>\n",
       "      <td>13659.000000</td>\n",
       "      <td>14579.000000</td>\n",
       "      <td>14578.000000</td>\n",
       "      <td>14578.000000</td>\n",
       "      <td>14387.000000</td>\n",
       "      <td>14579.000000</td>\n",
       "      <td>14579.000000</td>\n",
       "      <td>14578.000000</td>\n",
       "      <td>14504.000000</td>\n",
       "      <td>14574.000000</td>\n",
       "    </tr>\n",
       "    <tr>\n",
       "      <th>mean</th>\n",
       "      <td>8.352941</td>\n",
       "      <td>8.877460</td>\n",
       "      <td>3.604221</td>\n",
       "      <td>36.561420</td>\n",
       "      <td>474.332784</td>\n",
       "      <td>58.922712</td>\n",
       "      <td>12.427399</td>\n",
       "      <td>5.994854</td>\n",
       "      <td>1104.208278</td>\n",
       "      <td>-379.367166</td>\n",
       "      <td>...</td>\n",
       "      <td>7.111347</td>\n",
       "      <td>43.979499</td>\n",
       "      <td>5.192145</td>\n",
       "      <td>9.923809</td>\n",
       "      <td>9.566676</td>\n",
       "      <td>66.759066</td>\n",
       "      <td>3.087939</td>\n",
       "      <td>9.731972</td>\n",
       "      <td>2.719985</td>\n",
       "      <td>10.612745</td>\n",
       "    </tr>\n",
       "    <tr>\n",
       "      <th>std</th>\n",
       "      <td>1.934376</td>\n",
       "      <td>1.922536</td>\n",
       "      <td>1.056063</td>\n",
       "      <td>5.209823</td>\n",
       "      <td>108.503552</td>\n",
       "      <td>22.407410</td>\n",
       "      <td>3.428939</td>\n",
       "      <td>1.152873</td>\n",
       "      <td>162.235606</td>\n",
       "      <td>94.652311</td>\n",
       "      <td>...</td>\n",
       "      <td>3.909951</td>\n",
       "      <td>5.471437</td>\n",
       "      <td>1.388014</td>\n",
       "      <td>1.706976</td>\n",
       "      <td>2.805654</td>\n",
       "      <td>10.619709</td>\n",
       "      <td>0.915187</td>\n",
       "      <td>2.358143</td>\n",
       "      <td>0.958929</td>\n",
       "      <td>2.871075</td>\n",
       "    </tr>\n",
       "    <tr>\n",
       "      <th>min</th>\n",
       "      <td>0.010000</td>\n",
       "      <td>0.010000</td>\n",
       "      <td>0.010000</td>\n",
       "      <td>0.010000</td>\n",
       "      <td>0.002986</td>\n",
       "      <td>0.049194</td>\n",
       "      <td>0.001083</td>\n",
       "      <td>0.000568</td>\n",
       "      <td>-0.042069</td>\n",
       "      <td>-657.949759</td>\n",
       "      <td>...</td>\n",
       "      <td>0.000000</td>\n",
       "      <td>0.000000</td>\n",
       "      <td>0.000000</td>\n",
       "      <td>0.000000</td>\n",
       "      <td>0.000000</td>\n",
       "      <td>0.000000</td>\n",
       "      <td>0.000000</td>\n",
       "      <td>0.000000</td>\n",
       "      <td>0.000000</td>\n",
       "      <td>0.000000</td>\n",
       "    </tr>\n",
       "    <tr>\n",
       "      <th>25%</th>\n",
       "      <td>6.932996</td>\n",
       "      <td>7.341922</td>\n",
       "      <td>2.880490</td>\n",
       "      <td>34.093951</td>\n",
       "      <td>411.048483</td>\n",
       "      <td>47.278490</td>\n",
       "      <td>10.002832</td>\n",
       "      <td>5.304167</td>\n",
       "      <td>999.644856</td>\n",
       "      <td>-499.861797</td>\n",
       "      <td>...</td>\n",
       "      <td>3.784897</td>\n",
       "      <td>43.345906</td>\n",
       "      <td>4.283347</td>\n",
       "      <td>9.103183</td>\n",
       "      <td>7.860030</td>\n",
       "      <td>63.114596</td>\n",
       "      <td>2.505287</td>\n",
       "      <td>8.088928</td>\n",
       "      <td>2.036512</td>\n",
       "      <td>9.013412</td>\n",
       "    </tr>\n",
       "    <tr>\n",
       "      <th>50%</th>\n",
       "      <td>8.225284</td>\n",
       "      <td>8.715859</td>\n",
       "      <td>3.532399</td>\n",
       "      <td>37.097511</td>\n",
       "      <td>498.187968</td>\n",
       "      <td>54.361187</td>\n",
       "      <td>12.003320</td>\n",
       "      <td>6.003053</td>\n",
       "      <td>1000.982624</td>\n",
       "      <td>-300.314199</td>\n",
       "      <td>...</td>\n",
       "      <td>7.629968</td>\n",
       "      <td>44.975014</td>\n",
       "      <td>5.118647</td>\n",
       "      <td>10.046455</td>\n",
       "      <td>9.301970</td>\n",
       "      <td>67.962788</td>\n",
       "      <td>3.029238</td>\n",
       "      <td>9.818512</td>\n",
       "      <td>2.774847</td>\n",
       "      <td>10.670515</td>\n",
       "    </tr>\n",
       "    <tr>\n",
       "      <th>75%</th>\n",
       "      <td>9.832210</td>\n",
       "      <td>10.255843</td>\n",
       "      <td>4.257282</td>\n",
       "      <td>39.899799</td>\n",
       "      <td>549.586552</td>\n",
       "      <td>64.464926</td>\n",
       "      <td>14.929903</td>\n",
       "      <td>6.796632</td>\n",
       "      <td>1292.663971</td>\n",
       "      <td>-299.989315</td>\n",
       "      <td>...</td>\n",
       "      <td>10.367050</td>\n",
       "      <td>46.275153</td>\n",
       "      <td>5.925380</td>\n",
       "      <td>10.981203</td>\n",
       "      <td>11.001573</td>\n",
       "      <td>72.598187</td>\n",
       "      <td>3.614098</td>\n",
       "      <td>11.169187</td>\n",
       "      <td>3.353845</td>\n",
       "      <td>12.130827</td>\n",
       "    </tr>\n",
       "    <tr>\n",
       "      <th>max</th>\n",
       "      <td>13.731330</td>\n",
       "      <td>14.596026</td>\n",
       "      <td>7.052325</td>\n",
       "      <td>53.475325</td>\n",
       "      <td>717.508837</td>\n",
       "      <td>484.967466</td>\n",
       "      <td>36.118275</td>\n",
       "      <td>9.703448</td>\n",
       "      <td>1512.299531</td>\n",
       "      <td>-273.776101</td>\n",
       "      <td>...</td>\n",
       "      <td>26.000772</td>\n",
       "      <td>52.756638</td>\n",
       "      <td>16.001945</td>\n",
       "      <td>16.705297</td>\n",
       "      <td>19.423912</td>\n",
       "      <td>100.000000</td>\n",
       "      <td>8.245022</td>\n",
       "      <td>19.552149</td>\n",
       "      <td>5.804178</td>\n",
       "      <td>22.317730</td>\n",
       "    </tr>\n",
       "  </tbody>\n",
       "</table>\n",
       "<p>8 rows × 86 columns</p>\n",
       "</div>"
      ],
      "text/plain": [
       "       rougher.input.feed_au  rougher.input.feed_ag  rougher.input.feed_pb  \\\n",
       "count           14579.000000           14579.000000           14507.000000   \n",
       "mean                8.352941               8.877460               3.604221   \n",
       "std                 1.934376               1.922536               1.056063   \n",
       "min                 0.010000               0.010000               0.010000   \n",
       "25%                 6.932996               7.341922               2.880490   \n",
       "50%                 8.225284               8.715859               3.532399   \n",
       "75%                 9.832210              10.255843               4.257282   \n",
       "max                13.731330              14.596026               7.052325   \n",
       "\n",
       "       rougher.input.feed_sol  rougher.input.feed_rate  \\\n",
       "count            14502.000000             14572.000000   \n",
       "mean                36.561420               474.332784   \n",
       "std                  5.209823               108.503552   \n",
       "min                  0.010000                 0.002986   \n",
       "25%                 34.093951               411.048483   \n",
       "50%                 37.097511               498.187968   \n",
       "75%                 39.899799               549.586552   \n",
       "max                 53.475325               717.508837   \n",
       "\n",
       "       rougher.input.feed_size  rougher.input.floatbank10_sulfate  \\\n",
       "count             14478.000000                       14548.000000   \n",
       "mean                 58.922712                          12.427399   \n",
       "std                  22.407410                           3.428939   \n",
       "min                   0.049194                           0.001083   \n",
       "25%                  47.278490                          10.002832   \n",
       "50%                  54.361187                          12.003320   \n",
       "75%                  64.464926                          14.929903   \n",
       "max                 484.967466                          36.118275   \n",
       "\n",
       "       rougher.input.floatbank10_xanthate  rougher.state.floatbank10_a_air  \\\n",
       "count                        14572.000000                     14579.000000   \n",
       "mean                             5.994854                      1104.208278   \n",
       "std                              1.152873                       162.235606   \n",
       "min                              0.000568                        -0.042069   \n",
       "25%                              5.304167                       999.644856   \n",
       "50%                              6.003053                      1000.982624   \n",
       "75%                              6.796632                      1292.663971   \n",
       "max                              9.703448                      1512.299531   \n",
       "\n",
       "       rougher.state.floatbank10_a_level  ...  \\\n",
       "count                       14579.000000  ...   \n",
       "mean                         -379.367166  ...   \n",
       "std                            94.652311  ...   \n",
       "min                          -657.949759  ...   \n",
       "25%                          -499.861797  ...   \n",
       "50%                          -300.314199  ...   \n",
       "75%                          -299.989315  ...   \n",
       "max                          -273.776101  ...   \n",
       "\n",
       "       secondary_cleaner.output.tail_sol  final.output.concentrate_au  \\\n",
       "count                       13659.000000                 14579.000000   \n",
       "mean                            7.111347                    43.979499   \n",
       "std                             3.909951                     5.471437   \n",
       "min                             0.000000                     0.000000   \n",
       "25%                             3.784897                    43.345906   \n",
       "50%                             7.629968                    44.975014   \n",
       "75%                            10.367050                    46.275153   \n",
       "max                            26.000772                    52.756638   \n",
       "\n",
       "       final.output.concentrate_ag  final.output.concentrate_pb  \\\n",
       "count                 14578.000000                 14578.000000   \n",
       "mean                      5.192145                     9.923809   \n",
       "std                       1.388014                     1.706976   \n",
       "min                       0.000000                     0.000000   \n",
       "25%                       4.283347                     9.103183   \n",
       "50%                       5.118647                    10.046455   \n",
       "75%                       5.925380                    10.981203   \n",
       "max                      16.001945                    16.705297   \n",
       "\n",
       "       final.output.concentrate_sol  final.output.recovery  \\\n",
       "count                  14387.000000           14579.000000   \n",
       "mean                       9.566676              66.759066   \n",
       "std                        2.805654              10.619709   \n",
       "min                        0.000000               0.000000   \n",
       "25%                        7.860030              63.114596   \n",
       "50%                        9.301970              67.962788   \n",
       "75%                       11.001573              72.598187   \n",
       "max                       19.423912             100.000000   \n",
       "\n",
       "       final.output.tail_au  final.output.tail_ag  final.output.tail_pb  \\\n",
       "count          14579.000000          14578.000000          14504.000000   \n",
       "mean               3.087939              9.731972              2.719985   \n",
       "std                0.915187              2.358143              0.958929   \n",
       "min                0.000000              0.000000              0.000000   \n",
       "25%                2.505287              8.088928              2.036512   \n",
       "50%                3.029238              9.818512              2.774847   \n",
       "75%                3.614098             11.169187              3.353845   \n",
       "max                8.245022             19.552149              5.804178   \n",
       "\n",
       "       final.output.tail_sol  \n",
       "count           14574.000000  \n",
       "mean               10.612745  \n",
       "std                 2.871075  \n",
       "min                 0.000000  \n",
       "25%                 9.013412  \n",
       "50%                10.670515  \n",
       "75%                12.130827  \n",
       "max                22.317730  \n",
       "\n",
       "[8 rows x 86 columns]"
      ]
     },
     "metadata": {},
     "output_type": "display_data"
    },
    {
     "data": {
      "text/markdown": [
       "### Информация о датафрейме"
      ]
     },
     "metadata": {},
     "output_type": "display_data"
    },
    {
     "name": "stdout",
     "output_type": "stream",
     "text": [
      "<class 'pandas.core.frame.DataFrame'>\n",
      "RangeIndex: 14579 entries, 0 to 14578\n",
      "Data columns (total 87 columns):\n",
      " #   Column                                              Non-Null Count  Dtype  \n",
      "---  ------                                              --------------  -----  \n",
      " 0   date                                                14579 non-null  object \n",
      " 1   rougher.input.feed_au                               14579 non-null  float64\n",
      " 2   rougher.input.feed_ag                               14579 non-null  float64\n",
      " 3   rougher.input.feed_pb                               14507 non-null  float64\n",
      " 4   rougher.input.feed_sol                              14502 non-null  float64\n",
      " 5   rougher.input.feed_rate                             14572 non-null  float64\n",
      " 6   rougher.input.feed_size                             14478 non-null  float64\n",
      " 7   rougher.input.floatbank10_sulfate                   14548 non-null  float64\n",
      " 8   rougher.input.floatbank10_xanthate                  14572 non-null  float64\n",
      " 9   rougher.state.floatbank10_a_air                     14579 non-null  float64\n",
      " 10  rougher.state.floatbank10_a_level                   14579 non-null  float64\n",
      " 11  rougher.state.floatbank10_b_air                     14579 non-null  float64\n",
      " 12  rougher.state.floatbank10_b_level                   14579 non-null  float64\n",
      " 13  rougher.state.floatbank10_c_air                     14579 non-null  float64\n",
      " 14  rougher.state.floatbank10_c_level                   14579 non-null  float64\n",
      " 15  rougher.state.floatbank10_d_air                     14579 non-null  float64\n",
      " 16  rougher.state.floatbank10_d_level                   14579 non-null  float64\n",
      " 17  rougher.state.floatbank10_e_air                     14150 non-null  float64\n",
      " 18  rougher.state.floatbank10_e_level                   14579 non-null  float64\n",
      " 19  rougher.state.floatbank10_f_air                     14579 non-null  float64\n",
      " 20  rougher.state.floatbank10_f_level                   14579 non-null  float64\n",
      " 21  rougher.input.floatbank11_sulfate                   14543 non-null  float64\n",
      " 22  rougher.input.floatbank11_xanthate                  14172 non-null  float64\n",
      " 23  rougher.calculation.sulfate_to_au_concentrate       14578 non-null  float64\n",
      " 24  rougher.calculation.floatbank10_sulfate_to_au_feed  14578 non-null  float64\n",
      " 25  rougher.calculation.floatbank11_sulfate_to_au_feed  14578 non-null  float64\n",
      " 26  rougher.calculation.au_pb_ratio                     14579 non-null  float64\n",
      " 27  rougher.output.concentrate_au                       14579 non-null  float64\n",
      " 28  rougher.output.concentrate_ag                       14579 non-null  float64\n",
      " 29  rougher.output.concentrate_pb                       14579 non-null  float64\n",
      " 30  rougher.output.concentrate_sol                      14561 non-null  float64\n",
      " 31  rougher.output.recovery                             14579 non-null  float64\n",
      " 32  rougher.output.tail_au                              14579 non-null  float64\n",
      " 33  rougher.output.tail_ag                              14578 non-null  float64\n",
      " 34  rougher.output.tail_pb                              14579 non-null  float64\n",
      " 35  rougher.output.tail_sol                             14579 non-null  float64\n",
      " 36  primary_cleaner.input.sulfate                       14556 non-null  float64\n",
      " 37  primary_cleaner.input.depressant                    14551 non-null  float64\n",
      " 38  primary_cleaner.input.feed_size                     14579 non-null  float64\n",
      " 39  primary_cleaner.input.xanthate                      14518 non-null  float64\n",
      " 40  primary_cleaner.state.floatbank8_a_air              14576 non-null  float64\n",
      " 41  primary_cleaner.state.floatbank8_a_level            14579 non-null  float64\n",
      " 42  primary_cleaner.state.floatbank8_b_air              14576 non-null  float64\n",
      " 43  primary_cleaner.state.floatbank8_b_level            14579 non-null  float64\n",
      " 44  primary_cleaner.state.floatbank8_c_air              14579 non-null  float64\n",
      " 45  primary_cleaner.state.floatbank8_c_level            14579 non-null  float64\n",
      " 46  primary_cleaner.state.floatbank8_d_air              14578 non-null  float64\n",
      " 47  primary_cleaner.state.floatbank8_d_level            14579 non-null  float64\n",
      " 48  primary_cleaner.output.concentrate_au               14579 non-null  float64\n",
      " 49  primary_cleaner.output.concentrate_ag               14579 non-null  float64\n",
      " 50  primary_cleaner.output.concentrate_pb               14491 non-null  float64\n",
      " 51  primary_cleaner.output.concentrate_sol              14314 non-null  float64\n",
      " 52  primary_cleaner.output.tail_au                      14579 non-null  float64\n",
      " 53  primary_cleaner.output.tail_ag                      14575 non-null  float64\n",
      " 54  primary_cleaner.output.tail_pb                      14573 non-null  float64\n",
      " 55  primary_cleaner.output.tail_sol                     14534 non-null  float64\n",
      " 56  secondary_cleaner.state.floatbank2_a_air            14485 non-null  float64\n",
      " 57  secondary_cleaner.state.floatbank2_a_level          14579 non-null  float64\n",
      " 58  secondary_cleaner.state.floatbank2_b_air            14557 non-null  float64\n",
      " 59  secondary_cleaner.state.floatbank2_b_level          14579 non-null  float64\n",
      " 60  secondary_cleaner.state.floatbank3_a_air            14567 non-null  float64\n",
      " 61  secondary_cleaner.state.floatbank3_a_level          14579 non-null  float64\n",
      " 62  secondary_cleaner.state.floatbank3_b_air            14579 non-null  float64\n",
      " 63  secondary_cleaner.state.floatbank3_b_level          14579 non-null  float64\n",
      " 64  secondary_cleaner.state.floatbank4_a_air            14574 non-null  float64\n",
      " 65  secondary_cleaner.state.floatbank4_a_level          14579 non-null  float64\n",
      " 66  secondary_cleaner.state.floatbank4_b_air            14579 non-null  float64\n",
      " 67  secondary_cleaner.state.floatbank4_b_level          14579 non-null  float64\n",
      " 68  secondary_cleaner.state.floatbank5_a_air            14579 non-null  float64\n",
      " 69  secondary_cleaner.state.floatbank5_a_level          14579 non-null  float64\n",
      " 70  secondary_cleaner.state.floatbank5_b_air            14579 non-null  float64\n",
      " 71  secondary_cleaner.state.floatbank5_b_level          14579 non-null  float64\n",
      " 72  secondary_cleaner.state.floatbank6_a_air            14578 non-null  float64\n",
      " 73  secondary_cleaner.state.floatbank6_a_level          14579 non-null  float64\n",
      " 74  secondary_cleaner.output.tail_au                    14579 non-null  float64\n",
      " 75  secondary_cleaner.output.tail_ag                    14578 non-null  float64\n",
      " 76  secondary_cleaner.output.tail_pb                    14575 non-null  float64\n",
      " 77  secondary_cleaner.output.tail_sol                   13659 non-null  float64\n",
      " 78  final.output.concentrate_au                         14579 non-null  float64\n",
      " 79  final.output.concentrate_ag                         14578 non-null  float64\n",
      " 80  final.output.concentrate_pb                         14578 non-null  float64\n",
      " 81  final.output.concentrate_sol                        14387 non-null  float64\n",
      " 82  final.output.recovery                               14579 non-null  float64\n",
      " 83  final.output.tail_au                                14579 non-null  float64\n",
      " 84  final.output.tail_ag                                14578 non-null  float64\n",
      " 85  final.output.tail_pb                                14504 non-null  float64\n",
      " 86  final.output.tail_sol                               14574 non-null  float64\n",
      "dtypes: float64(86), object(1)\n",
      "memory usage: 9.7+ MB\n",
      "None\n"
     ]
    },
    {
     "data": {
      "text/markdown": [
       "### Первые 5 строк датафрейма"
      ]
     },
     "metadata": {},
     "output_type": "display_data"
    },
    {
     "data": {
      "text/html": [
       "<div>\n",
       "<style scoped>\n",
       "    .dataframe tbody tr th:only-of-type {\n",
       "        vertical-align: middle;\n",
       "    }\n",
       "\n",
       "    .dataframe tbody tr th {\n",
       "        vertical-align: top;\n",
       "    }\n",
       "\n",
       "    .dataframe thead th {\n",
       "        text-align: right;\n",
       "    }\n",
       "</style>\n",
       "<table border=\"1\" class=\"dataframe\">\n",
       "  <thead>\n",
       "    <tr style=\"text-align: right;\">\n",
       "      <th></th>\n",
       "      <th>date</th>\n",
       "      <th>rougher.input.feed_au</th>\n",
       "      <th>rougher.input.feed_ag</th>\n",
       "      <th>rougher.input.feed_pb</th>\n",
       "      <th>rougher.input.feed_sol</th>\n",
       "      <th>rougher.input.feed_rate</th>\n",
       "      <th>rougher.input.feed_size</th>\n",
       "      <th>rougher.input.floatbank10_sulfate</th>\n",
       "      <th>rougher.input.floatbank10_xanthate</th>\n",
       "      <th>rougher.state.floatbank10_a_air</th>\n",
       "      <th>...</th>\n",
       "      <th>secondary_cleaner.state.floatbank4_a_air</th>\n",
       "      <th>secondary_cleaner.state.floatbank4_a_level</th>\n",
       "      <th>secondary_cleaner.state.floatbank4_b_air</th>\n",
       "      <th>secondary_cleaner.state.floatbank4_b_level</th>\n",
       "      <th>secondary_cleaner.state.floatbank5_a_air</th>\n",
       "      <th>secondary_cleaner.state.floatbank5_a_level</th>\n",
       "      <th>secondary_cleaner.state.floatbank5_b_air</th>\n",
       "      <th>secondary_cleaner.state.floatbank5_b_level</th>\n",
       "      <th>secondary_cleaner.state.floatbank6_a_air</th>\n",
       "      <th>secondary_cleaner.state.floatbank6_a_level</th>\n",
       "    </tr>\n",
       "  </thead>\n",
       "  <tbody>\n",
       "    <tr>\n",
       "      <th>0</th>\n",
       "      <td>2017-12-09 14:59:59</td>\n",
       "      <td>4.365491</td>\n",
       "      <td>6.158718</td>\n",
       "      <td>3.875727</td>\n",
       "      <td>39.135119</td>\n",
       "      <td>555.820208</td>\n",
       "      <td>94.544358</td>\n",
       "      <td>6.146982</td>\n",
       "      <td>9.308612</td>\n",
       "      <td>1196.238112</td>\n",
       "      <td>...</td>\n",
       "      <td>23.018622</td>\n",
       "      <td>-500.492702</td>\n",
       "      <td>20.020205</td>\n",
       "      <td>-500.220296</td>\n",
       "      <td>17.963512</td>\n",
       "      <td>-499.939490</td>\n",
       "      <td>12.990306</td>\n",
       "      <td>-500.080993</td>\n",
       "      <td>19.990336</td>\n",
       "      <td>-499.191575</td>\n",
       "    </tr>\n",
       "    <tr>\n",
       "      <th>1</th>\n",
       "      <td>2017-12-09 15:59:59</td>\n",
       "      <td>4.362781</td>\n",
       "      <td>6.048130</td>\n",
       "      <td>3.902537</td>\n",
       "      <td>39.713906</td>\n",
       "      <td>544.731687</td>\n",
       "      <td>123.742430</td>\n",
       "      <td>6.210119</td>\n",
       "      <td>9.297709</td>\n",
       "      <td>1201.904177</td>\n",
       "      <td>...</td>\n",
       "      <td>23.024963</td>\n",
       "      <td>-501.153409</td>\n",
       "      <td>20.054122</td>\n",
       "      <td>-500.314711</td>\n",
       "      <td>17.979515</td>\n",
       "      <td>-499.272871</td>\n",
       "      <td>12.992404</td>\n",
       "      <td>-499.976268</td>\n",
       "      <td>20.013986</td>\n",
       "      <td>-500.625471</td>\n",
       "    </tr>\n",
       "    <tr>\n",
       "      <th>2</th>\n",
       "      <td>2017-12-09 16:59:59</td>\n",
       "      <td>5.081681</td>\n",
       "      <td>6.082745</td>\n",
       "      <td>4.564078</td>\n",
       "      <td>37.208683</td>\n",
       "      <td>558.155110</td>\n",
       "      <td>82.610855</td>\n",
       "      <td>7.363824</td>\n",
       "      <td>9.003562</td>\n",
       "      <td>1200.826926</td>\n",
       "      <td>...</td>\n",
       "      <td>22.993827</td>\n",
       "      <td>-501.559663</td>\n",
       "      <td>20.029144</td>\n",
       "      <td>-500.000662</td>\n",
       "      <td>18.012723</td>\n",
       "      <td>-500.024764</td>\n",
       "      <td>13.016445</td>\n",
       "      <td>-500.058432</td>\n",
       "      <td>19.973767</td>\n",
       "      <td>-501.394155</td>\n",
       "    </tr>\n",
       "    <tr>\n",
       "      <th>3</th>\n",
       "      <td>2017-12-09 17:59:59</td>\n",
       "      <td>5.145949</td>\n",
       "      <td>6.084374</td>\n",
       "      <td>4.768124</td>\n",
       "      <td>36.808874</td>\n",
       "      <td>539.713765</td>\n",
       "      <td>77.984784</td>\n",
       "      <td>6.927072</td>\n",
       "      <td>8.955597</td>\n",
       "      <td>1199.292489</td>\n",
       "      <td>...</td>\n",
       "      <td>23.032807</td>\n",
       "      <td>-501.287889</td>\n",
       "      <td>19.977466</td>\n",
       "      <td>-500.159903</td>\n",
       "      <td>17.980463</td>\n",
       "      <td>-500.504602</td>\n",
       "      <td>12.949071</td>\n",
       "      <td>-500.009937</td>\n",
       "      <td>20.010332</td>\n",
       "      <td>-508.337973</td>\n",
       "    </tr>\n",
       "    <tr>\n",
       "      <th>4</th>\n",
       "      <td>2017-12-09 18:59:59</td>\n",
       "      <td>5.735249</td>\n",
       "      <td>6.165220</td>\n",
       "      <td>4.512346</td>\n",
       "      <td>37.810642</td>\n",
       "      <td>558.713584</td>\n",
       "      <td>86.434874</td>\n",
       "      <td>7.823471</td>\n",
       "      <td>7.490356</td>\n",
       "      <td>1198.005449</td>\n",
       "      <td>...</td>\n",
       "      <td>23.001911</td>\n",
       "      <td>-499.947838</td>\n",
       "      <td>20.023735</td>\n",
       "      <td>-499.713680</td>\n",
       "      <td>17.990955</td>\n",
       "      <td>-500.334769</td>\n",
       "      <td>13.007523</td>\n",
       "      <td>-499.968459</td>\n",
       "      <td>19.995999</td>\n",
       "      <td>-499.788805</td>\n",
       "    </tr>\n",
       "  </tbody>\n",
       "</table>\n",
       "<p>5 rows × 53 columns</p>\n",
       "</div>"
      ],
      "text/plain": [
       "                  date  rougher.input.feed_au  rougher.input.feed_ag  \\\n",
       "0  2017-12-09 14:59:59               4.365491               6.158718   \n",
       "1  2017-12-09 15:59:59               4.362781               6.048130   \n",
       "2  2017-12-09 16:59:59               5.081681               6.082745   \n",
       "3  2017-12-09 17:59:59               5.145949               6.084374   \n",
       "4  2017-12-09 18:59:59               5.735249               6.165220   \n",
       "\n",
       "   rougher.input.feed_pb  rougher.input.feed_sol  rougher.input.feed_rate  \\\n",
       "0               3.875727               39.135119               555.820208   \n",
       "1               3.902537               39.713906               544.731687   \n",
       "2               4.564078               37.208683               558.155110   \n",
       "3               4.768124               36.808874               539.713765   \n",
       "4               4.512346               37.810642               558.713584   \n",
       "\n",
       "   rougher.input.feed_size  rougher.input.floatbank10_sulfate  \\\n",
       "0                94.544358                           6.146982   \n",
       "1               123.742430                           6.210119   \n",
       "2                82.610855                           7.363824   \n",
       "3                77.984784                           6.927072   \n",
       "4                86.434874                           7.823471   \n",
       "\n",
       "   rougher.input.floatbank10_xanthate  rougher.state.floatbank10_a_air  ...  \\\n",
       "0                            9.308612                      1196.238112  ...   \n",
       "1                            9.297709                      1201.904177  ...   \n",
       "2                            9.003562                      1200.826926  ...   \n",
       "3                            8.955597                      1199.292489  ...   \n",
       "4                            7.490356                      1198.005449  ...   \n",
       "\n",
       "   secondary_cleaner.state.floatbank4_a_air  \\\n",
       "0                                 23.018622   \n",
       "1                                 23.024963   \n",
       "2                                 22.993827   \n",
       "3                                 23.032807   \n",
       "4                                 23.001911   \n",
       "\n",
       "   secondary_cleaner.state.floatbank4_a_level  \\\n",
       "0                                 -500.492702   \n",
       "1                                 -501.153409   \n",
       "2                                 -501.559663   \n",
       "3                                 -501.287889   \n",
       "4                                 -499.947838   \n",
       "\n",
       "   secondary_cleaner.state.floatbank4_b_air  \\\n",
       "0                                 20.020205   \n",
       "1                                 20.054122   \n",
       "2                                 20.029144   \n",
       "3                                 19.977466   \n",
       "4                                 20.023735   \n",
       "\n",
       "   secondary_cleaner.state.floatbank4_b_level  \\\n",
       "0                                 -500.220296   \n",
       "1                                 -500.314711   \n",
       "2                                 -500.000662   \n",
       "3                                 -500.159903   \n",
       "4                                 -499.713680   \n",
       "\n",
       "   secondary_cleaner.state.floatbank5_a_air  \\\n",
       "0                                 17.963512   \n",
       "1                                 17.979515   \n",
       "2                                 18.012723   \n",
       "3                                 17.980463   \n",
       "4                                 17.990955   \n",
       "\n",
       "   secondary_cleaner.state.floatbank5_a_level  \\\n",
       "0                                 -499.939490   \n",
       "1                                 -499.272871   \n",
       "2                                 -500.024764   \n",
       "3                                 -500.504602   \n",
       "4                                 -500.334769   \n",
       "\n",
       "   secondary_cleaner.state.floatbank5_b_air  \\\n",
       "0                                 12.990306   \n",
       "1                                 12.992404   \n",
       "2                                 13.016445   \n",
       "3                                 12.949071   \n",
       "4                                 13.007523   \n",
       "\n",
       "   secondary_cleaner.state.floatbank5_b_level  \\\n",
       "0                                 -500.080993   \n",
       "1                                 -499.976268   \n",
       "2                                 -500.058432   \n",
       "3                                 -500.009937   \n",
       "4                                 -499.968459   \n",
       "\n",
       "   secondary_cleaner.state.floatbank6_a_air  \\\n",
       "0                                 19.990336   \n",
       "1                                 20.013986   \n",
       "2                                 19.973767   \n",
       "3                                 20.010332   \n",
       "4                                 19.995999   \n",
       "\n",
       "   secondary_cleaner.state.floatbank6_a_level  \n",
       "0                                 -499.191575  \n",
       "1                                 -500.625471  \n",
       "2                                 -501.394155  \n",
       "3                                 -508.337973  \n",
       "4                                 -499.788805  \n",
       "\n",
       "[5 rows x 53 columns]"
      ]
     },
     "metadata": {},
     "output_type": "display_data"
    },
    {
     "data": {
      "text/markdown": [
       "### Статистика по датафрейму"
      ]
     },
     "metadata": {},
     "output_type": "display_data"
    },
    {
     "data": {
      "text/html": [
       "<div>\n",
       "<style scoped>\n",
       "    .dataframe tbody tr th:only-of-type {\n",
       "        vertical-align: middle;\n",
       "    }\n",
       "\n",
       "    .dataframe tbody tr th {\n",
       "        vertical-align: top;\n",
       "    }\n",
       "\n",
       "    .dataframe thead th {\n",
       "        text-align: right;\n",
       "    }\n",
       "</style>\n",
       "<table border=\"1\" class=\"dataframe\">\n",
       "  <thead>\n",
       "    <tr style=\"text-align: right;\">\n",
       "      <th></th>\n",
       "      <th>rougher.input.feed_au</th>\n",
       "      <th>rougher.input.feed_ag</th>\n",
       "      <th>rougher.input.feed_pb</th>\n",
       "      <th>rougher.input.feed_sol</th>\n",
       "      <th>rougher.input.feed_rate</th>\n",
       "      <th>rougher.input.feed_size</th>\n",
       "      <th>rougher.input.floatbank10_sulfate</th>\n",
       "      <th>rougher.input.floatbank10_xanthate</th>\n",
       "      <th>rougher.state.floatbank10_a_air</th>\n",
       "      <th>rougher.state.floatbank10_a_level</th>\n",
       "      <th>...</th>\n",
       "      <th>secondary_cleaner.state.floatbank4_a_air</th>\n",
       "      <th>secondary_cleaner.state.floatbank4_a_level</th>\n",
       "      <th>secondary_cleaner.state.floatbank4_b_air</th>\n",
       "      <th>secondary_cleaner.state.floatbank4_b_level</th>\n",
       "      <th>secondary_cleaner.state.floatbank5_a_air</th>\n",
       "      <th>secondary_cleaner.state.floatbank5_a_level</th>\n",
       "      <th>secondary_cleaner.state.floatbank5_b_air</th>\n",
       "      <th>secondary_cleaner.state.floatbank5_b_level</th>\n",
       "      <th>secondary_cleaner.state.floatbank6_a_air</th>\n",
       "      <th>secondary_cleaner.state.floatbank6_a_level</th>\n",
       "    </tr>\n",
       "  </thead>\n",
       "  <tbody>\n",
       "    <tr>\n",
       "      <th>count</th>\n",
       "      <td>4860.000000</td>\n",
       "      <td>4860.000000</td>\n",
       "      <td>4832.000000</td>\n",
       "      <td>4838.000000</td>\n",
       "      <td>4856.000000</td>\n",
       "      <td>4816.000000</td>\n",
       "      <td>4857.000000</td>\n",
       "      <td>4859.000000</td>\n",
       "      <td>4859.000000</td>\n",
       "      <td>4859.000000</td>\n",
       "      <td>...</td>\n",
       "      <td>4.859000e+03</td>\n",
       "      <td>4859.000000</td>\n",
       "      <td>4.859000e+03</td>\n",
       "      <td>4859.000000</td>\n",
       "      <td>4859.000000</td>\n",
       "      <td>4859.000000</td>\n",
       "      <td>4859.000000</td>\n",
       "      <td>4859.000000</td>\n",
       "      <td>4859.000000</td>\n",
       "      <td>4859.000000</td>\n",
       "    </tr>\n",
       "    <tr>\n",
       "      <th>mean</th>\n",
       "      <td>8.005584</td>\n",
       "      <td>8.547348</td>\n",
       "      <td>3.579662</td>\n",
       "      <td>37.095864</td>\n",
       "      <td>490.285103</td>\n",
       "      <td>59.113400</td>\n",
       "      <td>12.055735</td>\n",
       "      <td>6.101308</td>\n",
       "      <td>1108.635895</td>\n",
       "      <td>-368.340127</td>\n",
       "      <td>...</td>\n",
       "      <td>1.985770e+01</td>\n",
       "      <td>-488.665140</td>\n",
       "      <td>1.557025e+01</td>\n",
       "      <td>-464.176507</td>\n",
       "      <td>16.594103</td>\n",
       "      <td>-490.815250</td>\n",
       "      <td>12.945971</td>\n",
       "      <td>-489.583564</td>\n",
       "      <td>19.053888</td>\n",
       "      <td>-504.678924</td>\n",
       "    </tr>\n",
       "    <tr>\n",
       "      <th>std</th>\n",
       "      <td>1.993590</td>\n",
       "      <td>1.958601</td>\n",
       "      <td>1.029377</td>\n",
       "      <td>4.926284</td>\n",
       "      <td>94.371623</td>\n",
       "      <td>19.125122</td>\n",
       "      <td>3.407642</td>\n",
       "      <td>1.042754</td>\n",
       "      <td>156.493143</td>\n",
       "      <td>91.155929</td>\n",
       "      <td>...</td>\n",
       "      <td>5.913105e+00</td>\n",
       "      <td>44.392714</td>\n",
       "      <td>4.927361e+00</td>\n",
       "      <td>65.706994</td>\n",
       "      <td>5.724305</td>\n",
       "      <td>32.258443</td>\n",
       "      <td>5.533176</td>\n",
       "      <td>37.084609</td>\n",
       "      <td>5.548996</td>\n",
       "      <td>38.690186</td>\n",
       "    </tr>\n",
       "    <tr>\n",
       "      <th>min</th>\n",
       "      <td>0.010000</td>\n",
       "      <td>0.010000</td>\n",
       "      <td>0.010000</td>\n",
       "      <td>0.010000</td>\n",
       "      <td>0.012786</td>\n",
       "      <td>0.046369</td>\n",
       "      <td>0.018907</td>\n",
       "      <td>0.015783</td>\n",
       "      <td>300.792494</td>\n",
       "      <td>-600.568138</td>\n",
       "      <td>...</td>\n",
       "      <td>1.079872e-16</td>\n",
       "      <td>-799.704969</td>\n",
       "      <td>2.489718e-17</td>\n",
       "      <td>-799.860767</td>\n",
       "      <td>-0.371498</td>\n",
       "      <td>-797.142475</td>\n",
       "      <td>1.358469</td>\n",
       "      <td>-800.006180</td>\n",
       "      <td>0.160386</td>\n",
       "      <td>-809.734800</td>\n",
       "    </tr>\n",
       "    <tr>\n",
       "      <th>25%</th>\n",
       "      <td>6.574363</td>\n",
       "      <td>6.975898</td>\n",
       "      <td>2.903612</td>\n",
       "      <td>34.510841</td>\n",
       "      <td>434.099695</td>\n",
       "      <td>47.596984</td>\n",
       "      <td>9.890429</td>\n",
       "      <td>5.499808</td>\n",
       "      <td>999.715729</td>\n",
       "      <td>-499.731972</td>\n",
       "      <td>...</td>\n",
       "      <td>1.501123e+01</td>\n",
       "      <td>-500.704004</td>\n",
       "      <td>1.202172e+01</td>\n",
       "      <td>-500.196517</td>\n",
       "      <td>11.073822</td>\n",
       "      <td>-500.483564</td>\n",
       "      <td>9.011890</td>\n",
       "      <td>-500.129913</td>\n",
       "      <td>14.963953</td>\n",
       "      <td>-500.668501</td>\n",
       "    </tr>\n",
       "    <tr>\n",
       "      <th>50%</th>\n",
       "      <td>7.812923</td>\n",
       "      <td>8.179714</td>\n",
       "      <td>3.540772</td>\n",
       "      <td>37.499761</td>\n",
       "      <td>502.118742</td>\n",
       "      <td>55.509481</td>\n",
       "      <td>11.997859</td>\n",
       "      <td>6.099805</td>\n",
       "      <td>1001.414798</td>\n",
       "      <td>-300.181367</td>\n",
       "      <td>...</td>\n",
       "      <td>1.996807e+01</td>\n",
       "      <td>-499.892919</td>\n",
       "      <td>1.501240e+01</td>\n",
       "      <td>-499.540776</td>\n",
       "      <td>16.631195</td>\n",
       "      <td>-499.873136</td>\n",
       "      <td>11.999417</td>\n",
       "      <td>-499.955304</td>\n",
       "      <td>19.960006</td>\n",
       "      <td>-500.033769</td>\n",
       "    </tr>\n",
       "    <tr>\n",
       "      <th>75%</th>\n",
       "      <td>9.556589</td>\n",
       "      <td>10.084339</td>\n",
       "      <td>4.199847</td>\n",
       "      <td>40.461315</td>\n",
       "      <td>555.596563</td>\n",
       "      <td>66.661547</td>\n",
       "      <td>14.496072</td>\n",
       "      <td>6.802101</td>\n",
       "      <td>1202.837565</td>\n",
       "      <td>-299.961547</td>\n",
       "      <td>...</td>\n",
       "      <td>2.498900e+01</td>\n",
       "      <td>-498.652030</td>\n",
       "      <td>1.999949e+01</td>\n",
       "      <td>-400.302329</td>\n",
       "      <td>19.983191</td>\n",
       "      <td>-498.852815</td>\n",
       "      <td>15.004198</td>\n",
       "      <td>-499.643776</td>\n",
       "      <td>24.974583</td>\n",
       "      <td>-499.460134</td>\n",
       "    </tr>\n",
       "    <tr>\n",
       "      <th>max</th>\n",
       "      <td>13.417156</td>\n",
       "      <td>14.533698</td>\n",
       "      <td>7.142594</td>\n",
       "      <td>53.477742</td>\n",
       "      <td>702.523396</td>\n",
       "      <td>363.989699</td>\n",
       "      <td>30.010759</td>\n",
       "      <td>9.396928</td>\n",
       "      <td>1521.980372</td>\n",
       "      <td>-281.039299</td>\n",
       "      <td>...</td>\n",
       "      <td>3.008450e+01</td>\n",
       "      <td>-383.373053</td>\n",
       "      <td>2.398898e+01</td>\n",
       "      <td>-114.250832</td>\n",
       "      <td>33.215996</td>\n",
       "      <td>-288.963521</td>\n",
       "      <td>24.177106</td>\n",
       "      <td>-141.934397</td>\n",
       "      <td>32.028529</td>\n",
       "      <td>-104.427459</td>\n",
       "    </tr>\n",
       "  </tbody>\n",
       "</table>\n",
       "<p>8 rows × 52 columns</p>\n",
       "</div>"
      ],
      "text/plain": [
       "       rougher.input.feed_au  rougher.input.feed_ag  rougher.input.feed_pb  \\\n",
       "count            4860.000000            4860.000000            4832.000000   \n",
       "mean                8.005584               8.547348               3.579662   \n",
       "std                 1.993590               1.958601               1.029377   \n",
       "min                 0.010000               0.010000               0.010000   \n",
       "25%                 6.574363               6.975898               2.903612   \n",
       "50%                 7.812923               8.179714               3.540772   \n",
       "75%                 9.556589              10.084339               4.199847   \n",
       "max                13.417156              14.533698               7.142594   \n",
       "\n",
       "       rougher.input.feed_sol  rougher.input.feed_rate  \\\n",
       "count             4838.000000              4856.000000   \n",
       "mean                37.095864               490.285103   \n",
       "std                  4.926284                94.371623   \n",
       "min                  0.010000                 0.012786   \n",
       "25%                 34.510841               434.099695   \n",
       "50%                 37.499761               502.118742   \n",
       "75%                 40.461315               555.596563   \n",
       "max                 53.477742               702.523396   \n",
       "\n",
       "       rougher.input.feed_size  rougher.input.floatbank10_sulfate  \\\n",
       "count              4816.000000                        4857.000000   \n",
       "mean                 59.113400                          12.055735   \n",
       "std                  19.125122                           3.407642   \n",
       "min                   0.046369                           0.018907   \n",
       "25%                  47.596984                           9.890429   \n",
       "50%                  55.509481                          11.997859   \n",
       "75%                  66.661547                          14.496072   \n",
       "max                 363.989699                          30.010759   \n",
       "\n",
       "       rougher.input.floatbank10_xanthate  rougher.state.floatbank10_a_air  \\\n",
       "count                         4859.000000                      4859.000000   \n",
       "mean                             6.101308                      1108.635895   \n",
       "std                              1.042754                       156.493143   \n",
       "min                              0.015783                       300.792494   \n",
       "25%                              5.499808                       999.715729   \n",
       "50%                              6.099805                      1001.414798   \n",
       "75%                              6.802101                      1202.837565   \n",
       "max                              9.396928                      1521.980372   \n",
       "\n",
       "       rougher.state.floatbank10_a_level  ...  \\\n",
       "count                        4859.000000  ...   \n",
       "mean                         -368.340127  ...   \n",
       "std                            91.155929  ...   \n",
       "min                          -600.568138  ...   \n",
       "25%                          -499.731972  ...   \n",
       "50%                          -300.181367  ...   \n",
       "75%                          -299.961547  ...   \n",
       "max                          -281.039299  ...   \n",
       "\n",
       "       secondary_cleaner.state.floatbank4_a_air  \\\n",
       "count                              4.859000e+03   \n",
       "mean                               1.985770e+01   \n",
       "std                                5.913105e+00   \n",
       "min                                1.079872e-16   \n",
       "25%                                1.501123e+01   \n",
       "50%                                1.996807e+01   \n",
       "75%                                2.498900e+01   \n",
       "max                                3.008450e+01   \n",
       "\n",
       "       secondary_cleaner.state.floatbank4_a_level  \\\n",
       "count                                 4859.000000   \n",
       "mean                                  -488.665140   \n",
       "std                                     44.392714   \n",
       "min                                   -799.704969   \n",
       "25%                                   -500.704004   \n",
       "50%                                   -499.892919   \n",
       "75%                                   -498.652030   \n",
       "max                                   -383.373053   \n",
       "\n",
       "       secondary_cleaner.state.floatbank4_b_air  \\\n",
       "count                              4.859000e+03   \n",
       "mean                               1.557025e+01   \n",
       "std                                4.927361e+00   \n",
       "min                                2.489718e-17   \n",
       "25%                                1.202172e+01   \n",
       "50%                                1.501240e+01   \n",
       "75%                                1.999949e+01   \n",
       "max                                2.398898e+01   \n",
       "\n",
       "       secondary_cleaner.state.floatbank4_b_level  \\\n",
       "count                                 4859.000000   \n",
       "mean                                  -464.176507   \n",
       "std                                     65.706994   \n",
       "min                                   -799.860767   \n",
       "25%                                   -500.196517   \n",
       "50%                                   -499.540776   \n",
       "75%                                   -400.302329   \n",
       "max                                   -114.250832   \n",
       "\n",
       "       secondary_cleaner.state.floatbank5_a_air  \\\n",
       "count                               4859.000000   \n",
       "mean                                  16.594103   \n",
       "std                                    5.724305   \n",
       "min                                   -0.371498   \n",
       "25%                                   11.073822   \n",
       "50%                                   16.631195   \n",
       "75%                                   19.983191   \n",
       "max                                   33.215996   \n",
       "\n",
       "       secondary_cleaner.state.floatbank5_a_level  \\\n",
       "count                                 4859.000000   \n",
       "mean                                  -490.815250   \n",
       "std                                     32.258443   \n",
       "min                                   -797.142475   \n",
       "25%                                   -500.483564   \n",
       "50%                                   -499.873136   \n",
       "75%                                   -498.852815   \n",
       "max                                   -288.963521   \n",
       "\n",
       "       secondary_cleaner.state.floatbank5_b_air  \\\n",
       "count                               4859.000000   \n",
       "mean                                  12.945971   \n",
       "std                                    5.533176   \n",
       "min                                    1.358469   \n",
       "25%                                    9.011890   \n",
       "50%                                   11.999417   \n",
       "75%                                   15.004198   \n",
       "max                                   24.177106   \n",
       "\n",
       "       secondary_cleaner.state.floatbank5_b_level  \\\n",
       "count                                 4859.000000   \n",
       "mean                                  -489.583564   \n",
       "std                                     37.084609   \n",
       "min                                   -800.006180   \n",
       "25%                                   -500.129913   \n",
       "50%                                   -499.955304   \n",
       "75%                                   -499.643776   \n",
       "max                                   -141.934397   \n",
       "\n",
       "       secondary_cleaner.state.floatbank6_a_air  \\\n",
       "count                               4859.000000   \n",
       "mean                                  19.053888   \n",
       "std                                    5.548996   \n",
       "min                                    0.160386   \n",
       "25%                                   14.963953   \n",
       "50%                                   19.960006   \n",
       "75%                                   24.974583   \n",
       "max                                   32.028529   \n",
       "\n",
       "       secondary_cleaner.state.floatbank6_a_level  \n",
       "count                                 4859.000000  \n",
       "mean                                  -504.678924  \n",
       "std                                     38.690186  \n",
       "min                                   -809.734800  \n",
       "25%                                   -500.668501  \n",
       "50%                                   -500.033769  \n",
       "75%                                   -499.460134  \n",
       "max                                   -104.427459  \n",
       "\n",
       "[8 rows x 52 columns]"
      ]
     },
     "metadata": {},
     "output_type": "display_data"
    },
    {
     "data": {
      "text/markdown": [
       "### Информация о датафрейме"
      ]
     },
     "metadata": {},
     "output_type": "display_data"
    },
    {
     "name": "stdout",
     "output_type": "stream",
     "text": [
      "<class 'pandas.core.frame.DataFrame'>\n",
      "RangeIndex: 4860 entries, 0 to 4859\n",
      "Data columns (total 53 columns):\n",
      " #   Column                                      Non-Null Count  Dtype  \n",
      "---  ------                                      --------------  -----  \n",
      " 0   date                                        4860 non-null   object \n",
      " 1   rougher.input.feed_au                       4860 non-null   float64\n",
      " 2   rougher.input.feed_ag                       4860 non-null   float64\n",
      " 3   rougher.input.feed_pb                       4832 non-null   float64\n",
      " 4   rougher.input.feed_sol                      4838 non-null   float64\n",
      " 5   rougher.input.feed_rate                     4856 non-null   float64\n",
      " 6   rougher.input.feed_size                     4816 non-null   float64\n",
      " 7   rougher.input.floatbank10_sulfate           4857 non-null   float64\n",
      " 8   rougher.input.floatbank10_xanthate          4859 non-null   float64\n",
      " 9   rougher.state.floatbank10_a_air             4859 non-null   float64\n",
      " 10  rougher.state.floatbank10_a_level           4859 non-null   float64\n",
      " 11  rougher.state.floatbank10_b_air             4859 non-null   float64\n",
      " 12  rougher.state.floatbank10_b_level           4859 non-null   float64\n",
      " 13  rougher.state.floatbank10_c_air             4859 non-null   float64\n",
      " 14  rougher.state.floatbank10_c_level           4859 non-null   float64\n",
      " 15  rougher.state.floatbank10_d_air             4860 non-null   float64\n",
      " 16  rougher.state.floatbank10_d_level           4860 non-null   float64\n",
      " 17  rougher.state.floatbank10_e_air             4853 non-null   float64\n",
      " 18  rougher.state.floatbank10_e_level           4860 non-null   float64\n",
      " 19  rougher.state.floatbank10_f_air             4860 non-null   float64\n",
      " 20  rougher.state.floatbank10_f_level           4860 non-null   float64\n",
      " 21  rougher.input.floatbank11_sulfate           4852 non-null   float64\n",
      " 22  rougher.input.floatbank11_xanthate          4814 non-null   float64\n",
      " 23  primary_cleaner.input.sulfate               4859 non-null   float64\n",
      " 24  primary_cleaner.input.depressant            4851 non-null   float64\n",
      " 25  primary_cleaner.input.feed_size             4860 non-null   float64\n",
      " 26  primary_cleaner.input.xanthate              4817 non-null   float64\n",
      " 27  primary_cleaner.state.floatbank8_a_air      4859 non-null   float64\n",
      " 28  primary_cleaner.state.floatbank8_a_level    4859 non-null   float64\n",
      " 29  primary_cleaner.state.floatbank8_b_air      4859 non-null   float64\n",
      " 30  primary_cleaner.state.floatbank8_b_level    4859 non-null   float64\n",
      " 31  primary_cleaner.state.floatbank8_c_air      4858 non-null   float64\n",
      " 32  primary_cleaner.state.floatbank8_c_level    4859 non-null   float64\n",
      " 33  primary_cleaner.state.floatbank8_d_air      4858 non-null   float64\n",
      " 34  primary_cleaner.state.floatbank8_d_level    4859 non-null   float64\n",
      " 35  secondary_cleaner.state.floatbank2_a_air    4734 non-null   float64\n",
      " 36  secondary_cleaner.state.floatbank2_a_level  4859 non-null   float64\n",
      " 37  secondary_cleaner.state.floatbank2_b_air    4859 non-null   float64\n",
      " 38  secondary_cleaner.state.floatbank2_b_level  4859 non-null   float64\n",
      " 39  secondary_cleaner.state.floatbank3_a_air    4859 non-null   float64\n",
      " 40  secondary_cleaner.state.floatbank3_a_level  4859 non-null   float64\n",
      " 41  secondary_cleaner.state.floatbank3_b_air    4859 non-null   float64\n",
      " 42  secondary_cleaner.state.floatbank3_b_level  4859 non-null   float64\n",
      " 43  secondary_cleaner.state.floatbank4_a_air    4859 non-null   float64\n",
      " 44  secondary_cleaner.state.floatbank4_a_level  4859 non-null   float64\n",
      " 45  secondary_cleaner.state.floatbank4_b_air    4859 non-null   float64\n",
      " 46  secondary_cleaner.state.floatbank4_b_level  4859 non-null   float64\n",
      " 47  secondary_cleaner.state.floatbank5_a_air    4859 non-null   float64\n",
      " 48  secondary_cleaner.state.floatbank5_a_level  4859 non-null   float64\n",
      " 49  secondary_cleaner.state.floatbank5_b_air    4859 non-null   float64\n",
      " 50  secondary_cleaner.state.floatbank5_b_level  4859 non-null   float64\n",
      " 51  secondary_cleaner.state.floatbank6_a_air    4859 non-null   float64\n",
      " 52  secondary_cleaner.state.floatbank6_a_level  4859 non-null   float64\n",
      "dtypes: float64(52), object(1)\n",
      "memory usage: 2.0+ MB\n",
      "None\n"
     ]
    },
    {
     "data": {
      "text/markdown": [
       "### Первые 5 строк датафрейма"
      ]
     },
     "metadata": {},
     "output_type": "display_data"
    },
    {
     "data": {
      "text/html": [
       "<div>\n",
       "<style scoped>\n",
       "    .dataframe tbody tr th:only-of-type {\n",
       "        vertical-align: middle;\n",
       "    }\n",
       "\n",
       "    .dataframe tbody tr th {\n",
       "        vertical-align: top;\n",
       "    }\n",
       "\n",
       "    .dataframe thead th {\n",
       "        text-align: right;\n",
       "    }\n",
       "</style>\n",
       "<table border=\"1\" class=\"dataframe\">\n",
       "  <thead>\n",
       "    <tr style=\"text-align: right;\">\n",
       "      <th></th>\n",
       "      <th>date</th>\n",
       "      <th>rougher.input.feed_au</th>\n",
       "      <th>rougher.input.feed_ag</th>\n",
       "      <th>rougher.input.feed_pb</th>\n",
       "      <th>rougher.input.feed_sol</th>\n",
       "      <th>rougher.input.feed_rate</th>\n",
       "      <th>rougher.input.feed_size</th>\n",
       "      <th>rougher.input.floatbank10_sulfate</th>\n",
       "      <th>rougher.input.floatbank10_xanthate</th>\n",
       "      <th>rougher.state.floatbank10_a_air</th>\n",
       "      <th>...</th>\n",
       "      <th>secondary_cleaner.output.tail_sol</th>\n",
       "      <th>final.output.concentrate_au</th>\n",
       "      <th>final.output.concentrate_ag</th>\n",
       "      <th>final.output.concentrate_pb</th>\n",
       "      <th>final.output.concentrate_sol</th>\n",
       "      <th>final.output.recovery</th>\n",
       "      <th>final.output.tail_au</th>\n",
       "      <th>final.output.tail_ag</th>\n",
       "      <th>final.output.tail_pb</th>\n",
       "      <th>final.output.tail_sol</th>\n",
       "    </tr>\n",
       "  </thead>\n",
       "  <tbody>\n",
       "    <tr>\n",
       "      <th>0</th>\n",
       "      <td>2016-01-15 00:00:00</td>\n",
       "      <td>6.486150</td>\n",
       "      <td>6.100378</td>\n",
       "      <td>2.284912</td>\n",
       "      <td>36.808594</td>\n",
       "      <td>523.546326</td>\n",
       "      <td>55.486599</td>\n",
       "      <td>11.986616</td>\n",
       "      <td>6.007990</td>\n",
       "      <td>999.706909</td>\n",
       "      <td>...</td>\n",
       "      <td>8.764648</td>\n",
       "      <td>42.192020</td>\n",
       "      <td>6.055403</td>\n",
       "      <td>9.889648</td>\n",
       "      <td>5.507324</td>\n",
       "      <td>70.541216</td>\n",
       "      <td>2.143149</td>\n",
       "      <td>10.411962</td>\n",
       "      <td>0.895447</td>\n",
       "      <td>16.904297</td>\n",
       "    </tr>\n",
       "    <tr>\n",
       "      <th>1</th>\n",
       "      <td>2016-01-15 01:00:00</td>\n",
       "      <td>6.478583</td>\n",
       "      <td>6.161113</td>\n",
       "      <td>2.266033</td>\n",
       "      <td>35.753385</td>\n",
       "      <td>525.290581</td>\n",
       "      <td>57.278666</td>\n",
       "      <td>11.971193</td>\n",
       "      <td>6.005766</td>\n",
       "      <td>1000.286398</td>\n",
       "      <td>...</td>\n",
       "      <td>9.001494</td>\n",
       "      <td>42.701629</td>\n",
       "      <td>6.029369</td>\n",
       "      <td>9.968944</td>\n",
       "      <td>5.257781</td>\n",
       "      <td>69.266198</td>\n",
       "      <td>2.224930</td>\n",
       "      <td>10.462676</td>\n",
       "      <td>0.927452</td>\n",
       "      <td>16.634514</td>\n",
       "    </tr>\n",
       "    <tr>\n",
       "      <th>2</th>\n",
       "      <td>2016-01-15 02:00:00</td>\n",
       "      <td>6.362222</td>\n",
       "      <td>6.116455</td>\n",
       "      <td>2.159622</td>\n",
       "      <td>35.971630</td>\n",
       "      <td>530.026610</td>\n",
       "      <td>57.510649</td>\n",
       "      <td>11.920603</td>\n",
       "      <td>6.197377</td>\n",
       "      <td>999.719565</td>\n",
       "      <td>...</td>\n",
       "      <td>8.842896</td>\n",
       "      <td>42.657501</td>\n",
       "      <td>6.055926</td>\n",
       "      <td>10.213995</td>\n",
       "      <td>5.383759</td>\n",
       "      <td>68.116445</td>\n",
       "      <td>2.257889</td>\n",
       "      <td>10.507046</td>\n",
       "      <td>0.953716</td>\n",
       "      <td>16.208849</td>\n",
       "    </tr>\n",
       "    <tr>\n",
       "      <th>3</th>\n",
       "      <td>2016-01-15 03:00:00</td>\n",
       "      <td>6.118189</td>\n",
       "      <td>6.043309</td>\n",
       "      <td>2.037807</td>\n",
       "      <td>36.862241</td>\n",
       "      <td>542.590390</td>\n",
       "      <td>57.792734</td>\n",
       "      <td>11.630094</td>\n",
       "      <td>6.203177</td>\n",
       "      <td>999.814770</td>\n",
       "      <td>...</td>\n",
       "      <td>9.122857</td>\n",
       "      <td>42.689819</td>\n",
       "      <td>6.047977</td>\n",
       "      <td>9.977019</td>\n",
       "      <td>4.858634</td>\n",
       "      <td>68.347543</td>\n",
       "      <td>2.146849</td>\n",
       "      <td>10.422762</td>\n",
       "      <td>0.883763</td>\n",
       "      <td>16.532835</td>\n",
       "    </tr>\n",
       "    <tr>\n",
       "      <th>4</th>\n",
       "      <td>2016-01-15 04:00:00</td>\n",
       "      <td>5.663707</td>\n",
       "      <td>6.060915</td>\n",
       "      <td>1.786875</td>\n",
       "      <td>34.347666</td>\n",
       "      <td>540.531893</td>\n",
       "      <td>56.047189</td>\n",
       "      <td>10.957755</td>\n",
       "      <td>6.198826</td>\n",
       "      <td>999.678690</td>\n",
       "      <td>...</td>\n",
       "      <td>8.871028</td>\n",
       "      <td>42.774141</td>\n",
       "      <td>6.148599</td>\n",
       "      <td>10.142511</td>\n",
       "      <td>4.939416</td>\n",
       "      <td>66.927016</td>\n",
       "      <td>2.055292</td>\n",
       "      <td>10.360302</td>\n",
       "      <td>0.792826</td>\n",
       "      <td>16.525686</td>\n",
       "    </tr>\n",
       "  </tbody>\n",
       "</table>\n",
       "<p>5 rows × 87 columns</p>\n",
       "</div>"
      ],
      "text/plain": [
       "                  date  rougher.input.feed_au  rougher.input.feed_ag  \\\n",
       "0  2016-01-15 00:00:00               6.486150               6.100378   \n",
       "1  2016-01-15 01:00:00               6.478583               6.161113   \n",
       "2  2016-01-15 02:00:00               6.362222               6.116455   \n",
       "3  2016-01-15 03:00:00               6.118189               6.043309   \n",
       "4  2016-01-15 04:00:00               5.663707               6.060915   \n",
       "\n",
       "   rougher.input.feed_pb  rougher.input.feed_sol  rougher.input.feed_rate  \\\n",
       "0               2.284912               36.808594               523.546326   \n",
       "1               2.266033               35.753385               525.290581   \n",
       "2               2.159622               35.971630               530.026610   \n",
       "3               2.037807               36.862241               542.590390   \n",
       "4               1.786875               34.347666               540.531893   \n",
       "\n",
       "   rougher.input.feed_size  rougher.input.floatbank10_sulfate  \\\n",
       "0                55.486599                          11.986616   \n",
       "1                57.278666                          11.971193   \n",
       "2                57.510649                          11.920603   \n",
       "3                57.792734                          11.630094   \n",
       "4                56.047189                          10.957755   \n",
       "\n",
       "   rougher.input.floatbank10_xanthate  rougher.state.floatbank10_a_air  ...  \\\n",
       "0                            6.007990                       999.706909  ...   \n",
       "1                            6.005766                      1000.286398  ...   \n",
       "2                            6.197377                       999.719565  ...   \n",
       "3                            6.203177                       999.814770  ...   \n",
       "4                            6.198826                       999.678690  ...   \n",
       "\n",
       "   secondary_cleaner.output.tail_sol  final.output.concentrate_au  \\\n",
       "0                           8.764648                    42.192020   \n",
       "1                           9.001494                    42.701629   \n",
       "2                           8.842896                    42.657501   \n",
       "3                           9.122857                    42.689819   \n",
       "4                           8.871028                    42.774141   \n",
       "\n",
       "   final.output.concentrate_ag  final.output.concentrate_pb  \\\n",
       "0                     6.055403                     9.889648   \n",
       "1                     6.029369                     9.968944   \n",
       "2                     6.055926                    10.213995   \n",
       "3                     6.047977                     9.977019   \n",
       "4                     6.148599                    10.142511   \n",
       "\n",
       "   final.output.concentrate_sol  final.output.recovery  final.output.tail_au  \\\n",
       "0                      5.507324              70.541216              2.143149   \n",
       "1                      5.257781              69.266198              2.224930   \n",
       "2                      5.383759              68.116445              2.257889   \n",
       "3                      4.858634              68.347543              2.146849   \n",
       "4                      4.939416              66.927016              2.055292   \n",
       "\n",
       "   final.output.tail_ag  final.output.tail_pb  final.output.tail_sol  \n",
       "0             10.411962              0.895447              16.904297  \n",
       "1             10.462676              0.927452              16.634514  \n",
       "2             10.507046              0.953716              16.208849  \n",
       "3             10.422762              0.883763              16.532835  \n",
       "4             10.360302              0.792826              16.525686  \n",
       "\n",
       "[5 rows x 87 columns]"
      ]
     },
     "metadata": {},
     "output_type": "display_data"
    },
    {
     "data": {
      "text/markdown": [
       "### Статистика по датафрейму"
      ]
     },
     "metadata": {},
     "output_type": "display_data"
    },
    {
     "data": {
      "text/html": [
       "<div>\n",
       "<style scoped>\n",
       "    .dataframe tbody tr th:only-of-type {\n",
       "        vertical-align: middle;\n",
       "    }\n",
       "\n",
       "    .dataframe tbody tr th {\n",
       "        vertical-align: top;\n",
       "    }\n",
       "\n",
       "    .dataframe thead th {\n",
       "        text-align: right;\n",
       "    }\n",
       "</style>\n",
       "<table border=\"1\" class=\"dataframe\">\n",
       "  <thead>\n",
       "    <tr style=\"text-align: right;\">\n",
       "      <th></th>\n",
       "      <th>rougher.input.feed_au</th>\n",
       "      <th>rougher.input.feed_ag</th>\n",
       "      <th>rougher.input.feed_pb</th>\n",
       "      <th>rougher.input.feed_sol</th>\n",
       "      <th>rougher.input.feed_rate</th>\n",
       "      <th>rougher.input.feed_size</th>\n",
       "      <th>rougher.input.floatbank10_sulfate</th>\n",
       "      <th>rougher.input.floatbank10_xanthate</th>\n",
       "      <th>rougher.state.floatbank10_a_air</th>\n",
       "      <th>rougher.state.floatbank10_a_level</th>\n",
       "      <th>...</th>\n",
       "      <th>secondary_cleaner.output.tail_sol</th>\n",
       "      <th>final.output.concentrate_au</th>\n",
       "      <th>final.output.concentrate_ag</th>\n",
       "      <th>final.output.concentrate_pb</th>\n",
       "      <th>final.output.concentrate_sol</th>\n",
       "      <th>final.output.recovery</th>\n",
       "      <th>final.output.tail_au</th>\n",
       "      <th>final.output.tail_ag</th>\n",
       "      <th>final.output.tail_pb</th>\n",
       "      <th>final.output.tail_sol</th>\n",
       "    </tr>\n",
       "  </thead>\n",
       "  <tbody>\n",
       "    <tr>\n",
       "      <th>count</th>\n",
       "      <td>19439.000000</td>\n",
       "      <td>19439.000000</td>\n",
       "      <td>19339.000000</td>\n",
       "      <td>19340.000000</td>\n",
       "      <td>19428.000000</td>\n",
       "      <td>19294.000000</td>\n",
       "      <td>19405.000000</td>\n",
       "      <td>19431.000000</td>\n",
       "      <td>19438.000000</td>\n",
       "      <td>19438.000000</td>\n",
       "      <td>...</td>\n",
       "      <td>17691.000000</td>\n",
       "      <td>19439.000000</td>\n",
       "      <td>19438.000000</td>\n",
       "      <td>19438.000000</td>\n",
       "      <td>19228.000000</td>\n",
       "      <td>19439.000000</td>\n",
       "      <td>19439.000000</td>\n",
       "      <td>19438.000000</td>\n",
       "      <td>19338.000000</td>\n",
       "      <td>19433.000000</td>\n",
       "    </tr>\n",
       "    <tr>\n",
       "      <th>mean</th>\n",
       "      <td>8.266097</td>\n",
       "      <td>8.794927</td>\n",
       "      <td>3.598085</td>\n",
       "      <td>36.695114</td>\n",
       "      <td>478.320042</td>\n",
       "      <td>58.970310</td>\n",
       "      <td>12.334373</td>\n",
       "      <td>6.021474</td>\n",
       "      <td>1105.315068</td>\n",
       "      <td>-376.610690</td>\n",
       "      <td>...</td>\n",
       "      <td>7.167247</td>\n",
       "      <td>44.076513</td>\n",
       "      <td>5.168470</td>\n",
       "      <td>9.978895</td>\n",
       "      <td>9.501224</td>\n",
       "      <td>67.050208</td>\n",
       "      <td>3.042467</td>\n",
       "      <td>9.688589</td>\n",
       "      <td>2.705795</td>\n",
       "      <td>10.583728</td>\n",
       "    </tr>\n",
       "    <tr>\n",
       "      <th>std</th>\n",
       "      <td>1.955092</td>\n",
       "      <td>1.936847</td>\n",
       "      <td>1.049486</td>\n",
       "      <td>5.145445</td>\n",
       "      <td>105.373758</td>\n",
       "      <td>21.634478</td>\n",
       "      <td>3.427317</td>\n",
       "      <td>1.127263</td>\n",
       "      <td>160.826798</td>\n",
       "      <td>93.909667</td>\n",
       "      <td>...</td>\n",
       "      <td>3.916079</td>\n",
       "      <td>5.129784</td>\n",
       "      <td>1.372348</td>\n",
       "      <td>1.669240</td>\n",
       "      <td>2.787537</td>\n",
       "      <td>10.125840</td>\n",
       "      <td>0.922808</td>\n",
       "      <td>2.328642</td>\n",
       "      <td>0.949077</td>\n",
       "      <td>2.868782</td>\n",
       "    </tr>\n",
       "    <tr>\n",
       "      <th>min</th>\n",
       "      <td>0.010000</td>\n",
       "      <td>0.010000</td>\n",
       "      <td>0.010000</td>\n",
       "      <td>0.010000</td>\n",
       "      <td>0.002986</td>\n",
       "      <td>0.046369</td>\n",
       "      <td>0.001083</td>\n",
       "      <td>0.000568</td>\n",
       "      <td>-0.042069</td>\n",
       "      <td>-657.949759</td>\n",
       "      <td>...</td>\n",
       "      <td>0.000000</td>\n",
       "      <td>0.000000</td>\n",
       "      <td>0.000000</td>\n",
       "      <td>0.000000</td>\n",
       "      <td>0.000000</td>\n",
       "      <td>0.000000</td>\n",
       "      <td>0.000000</td>\n",
       "      <td>0.000000</td>\n",
       "      <td>0.000000</td>\n",
       "      <td>0.000000</td>\n",
       "    </tr>\n",
       "    <tr>\n",
       "      <th>25%</th>\n",
       "      <td>6.854384</td>\n",
       "      <td>7.237967</td>\n",
       "      <td>2.887280</td>\n",
       "      <td>34.207799</td>\n",
       "      <td>416.525453</td>\n",
       "      <td>47.435103</td>\n",
       "      <td>10.000362</td>\n",
       "      <td>5.398678</td>\n",
       "      <td>999.661867</td>\n",
       "      <td>-499.835165</td>\n",
       "      <td>...</td>\n",
       "      <td>3.845475</td>\n",
       "      <td>43.402215</td>\n",
       "      <td>4.251240</td>\n",
       "      <td>9.137262</td>\n",
       "      <td>7.722820</td>\n",
       "      <td>63.299712</td>\n",
       "      <td>2.461138</td>\n",
       "      <td>8.062878</td>\n",
       "      <td>2.040119</td>\n",
       "      <td>8.938947</td>\n",
       "    </tr>\n",
       "    <tr>\n",
       "      <th>50%</th>\n",
       "      <td>8.125839</td>\n",
       "      <td>8.593574</td>\n",
       "      <td>3.534895</td>\n",
       "      <td>37.202650</td>\n",
       "      <td>499.416120</td>\n",
       "      <td>54.610197</td>\n",
       "      <td>12.001174</td>\n",
       "      <td>6.008273</td>\n",
       "      <td>1001.072890</td>\n",
       "      <td>-300.263994</td>\n",
       "      <td>...</td>\n",
       "      <td>7.685827</td>\n",
       "      <td>45.011244</td>\n",
       "      <td>5.066094</td>\n",
       "      <td>10.102433</td>\n",
       "      <td>9.218961</td>\n",
       "      <td>68.172738</td>\n",
       "      <td>2.984909</td>\n",
       "      <td>9.743623</td>\n",
       "      <td>2.748730</td>\n",
       "      <td>10.622456</td>\n",
       "    </tr>\n",
       "    <tr>\n",
       "      <th>75%</th>\n",
       "      <td>9.769917</td>\n",
       "      <td>10.213771</td>\n",
       "      <td>4.244161</td>\n",
       "      <td>40.039133</td>\n",
       "      <td>550.172183</td>\n",
       "      <td>65.023044</td>\n",
       "      <td>14.716595</td>\n",
       "      <td>6.798051</td>\n",
       "      <td>1205.620588</td>\n",
       "      <td>-299.981998</td>\n",
       "      <td>...</td>\n",
       "      <td>10.411296</td>\n",
       "      <td>46.275313</td>\n",
       "      <td>5.895527</td>\n",
       "      <td>11.035769</td>\n",
       "      <td>10.947813</td>\n",
       "      <td>72.686642</td>\n",
       "      <td>3.571351</td>\n",
       "      <td>11.134294</td>\n",
       "      <td>3.333216</td>\n",
       "      <td>12.104271</td>\n",
       "    </tr>\n",
       "    <tr>\n",
       "      <th>max</th>\n",
       "      <td>13.731330</td>\n",
       "      <td>14.596026</td>\n",
       "      <td>7.142594</td>\n",
       "      <td>53.477742</td>\n",
       "      <td>717.508837</td>\n",
       "      <td>484.967466</td>\n",
       "      <td>36.118275</td>\n",
       "      <td>9.703448</td>\n",
       "      <td>1521.980372</td>\n",
       "      <td>-273.776101</td>\n",
       "      <td>...</td>\n",
       "      <td>26.000772</td>\n",
       "      <td>52.756638</td>\n",
       "      <td>16.001945</td>\n",
       "      <td>17.031899</td>\n",
       "      <td>19.615720</td>\n",
       "      <td>100.000000</td>\n",
       "      <td>8.245022</td>\n",
       "      <td>19.552149</td>\n",
       "      <td>5.804178</td>\n",
       "      <td>22.317730</td>\n",
       "    </tr>\n",
       "  </tbody>\n",
       "</table>\n",
       "<p>8 rows × 86 columns</p>\n",
       "</div>"
      ],
      "text/plain": [
       "       rougher.input.feed_au  rougher.input.feed_ag  rougher.input.feed_pb  \\\n",
       "count           19439.000000           19439.000000           19339.000000   \n",
       "mean                8.266097               8.794927               3.598085   \n",
       "std                 1.955092               1.936847               1.049486   \n",
       "min                 0.010000               0.010000               0.010000   \n",
       "25%                 6.854384               7.237967               2.887280   \n",
       "50%                 8.125839               8.593574               3.534895   \n",
       "75%                 9.769917              10.213771               4.244161   \n",
       "max                13.731330              14.596026               7.142594   \n",
       "\n",
       "       rougher.input.feed_sol  rougher.input.feed_rate  \\\n",
       "count            19340.000000             19428.000000   \n",
       "mean                36.695114               478.320042   \n",
       "std                  5.145445               105.373758   \n",
       "min                  0.010000                 0.002986   \n",
       "25%                 34.207799               416.525453   \n",
       "50%                 37.202650               499.416120   \n",
       "75%                 40.039133               550.172183   \n",
       "max                 53.477742               717.508837   \n",
       "\n",
       "       rougher.input.feed_size  rougher.input.floatbank10_sulfate  \\\n",
       "count             19294.000000                       19405.000000   \n",
       "mean                 58.970310                          12.334373   \n",
       "std                  21.634478                           3.427317   \n",
       "min                   0.046369                           0.001083   \n",
       "25%                  47.435103                          10.000362   \n",
       "50%                  54.610197                          12.001174   \n",
       "75%                  65.023044                          14.716595   \n",
       "max                 484.967466                          36.118275   \n",
       "\n",
       "       rougher.input.floatbank10_xanthate  rougher.state.floatbank10_a_air  \\\n",
       "count                        19431.000000                     19438.000000   \n",
       "mean                             6.021474                      1105.315068   \n",
       "std                              1.127263                       160.826798   \n",
       "min                              0.000568                        -0.042069   \n",
       "25%                              5.398678                       999.661867   \n",
       "50%                              6.008273                      1001.072890   \n",
       "75%                              6.798051                      1205.620588   \n",
       "max                              9.703448                      1521.980372   \n",
       "\n",
       "       rougher.state.floatbank10_a_level  ...  \\\n",
       "count                       19438.000000  ...   \n",
       "mean                         -376.610690  ...   \n",
       "std                            93.909667  ...   \n",
       "min                          -657.949759  ...   \n",
       "25%                          -499.835165  ...   \n",
       "50%                          -300.263994  ...   \n",
       "75%                          -299.981998  ...   \n",
       "max                          -273.776101  ...   \n",
       "\n",
       "       secondary_cleaner.output.tail_sol  final.output.concentrate_au  \\\n",
       "count                       17691.000000                 19439.000000   \n",
       "mean                            7.167247                    44.076513   \n",
       "std                             3.916079                     5.129784   \n",
       "min                             0.000000                     0.000000   \n",
       "25%                             3.845475                    43.402215   \n",
       "50%                             7.685827                    45.011244   \n",
       "75%                            10.411296                    46.275313   \n",
       "max                            26.000772                    52.756638   \n",
       "\n",
       "       final.output.concentrate_ag  final.output.concentrate_pb  \\\n",
       "count                 19438.000000                 19438.000000   \n",
       "mean                      5.168470                     9.978895   \n",
       "std                       1.372348                     1.669240   \n",
       "min                       0.000000                     0.000000   \n",
       "25%                       4.251240                     9.137262   \n",
       "50%                       5.066094                    10.102433   \n",
       "75%                       5.895527                    11.035769   \n",
       "max                      16.001945                    17.031899   \n",
       "\n",
       "       final.output.concentrate_sol  final.output.recovery  \\\n",
       "count                  19228.000000           19439.000000   \n",
       "mean                       9.501224              67.050208   \n",
       "std                        2.787537              10.125840   \n",
       "min                        0.000000               0.000000   \n",
       "25%                        7.722820              63.299712   \n",
       "50%                        9.218961              68.172738   \n",
       "75%                       10.947813              72.686642   \n",
       "max                       19.615720             100.000000   \n",
       "\n",
       "       final.output.tail_au  final.output.tail_ag  final.output.tail_pb  \\\n",
       "count          19439.000000          19438.000000          19338.000000   \n",
       "mean               3.042467              9.688589              2.705795   \n",
       "std                0.922808              2.328642              0.949077   \n",
       "min                0.000000              0.000000              0.000000   \n",
       "25%                2.461138              8.062878              2.040119   \n",
       "50%                2.984909              9.743623              2.748730   \n",
       "75%                3.571351             11.134294              3.333216   \n",
       "max                8.245022             19.552149              5.804178   \n",
       "\n",
       "       final.output.tail_sol  \n",
       "count           19433.000000  \n",
       "mean               10.583728  \n",
       "std                 2.868782  \n",
       "min                 0.000000  \n",
       "25%                 8.938947  \n",
       "50%                10.622456  \n",
       "75%                12.104271  \n",
       "max                22.317730  \n",
       "\n",
       "[8 rows x 86 columns]"
      ]
     },
     "metadata": {},
     "output_type": "display_data"
    },
    {
     "data": {
      "text/markdown": [
       "### Информация о датафрейме"
      ]
     },
     "metadata": {},
     "output_type": "display_data"
    },
    {
     "name": "stdout",
     "output_type": "stream",
     "text": [
      "<class 'pandas.core.frame.DataFrame'>\n",
      "RangeIndex: 19439 entries, 0 to 19438\n",
      "Data columns (total 87 columns):\n",
      " #   Column                                              Non-Null Count  Dtype  \n",
      "---  ------                                              --------------  -----  \n",
      " 0   date                                                19439 non-null  object \n",
      " 1   rougher.input.feed_au                               19439 non-null  float64\n",
      " 2   rougher.input.feed_ag                               19439 non-null  float64\n",
      " 3   rougher.input.feed_pb                               19339 non-null  float64\n",
      " 4   rougher.input.feed_sol                              19340 non-null  float64\n",
      " 5   rougher.input.feed_rate                             19428 non-null  float64\n",
      " 6   rougher.input.feed_size                             19294 non-null  float64\n",
      " 7   rougher.input.floatbank10_sulfate                   19405 non-null  float64\n",
      " 8   rougher.input.floatbank10_xanthate                  19431 non-null  float64\n",
      " 9   rougher.state.floatbank10_a_air                     19438 non-null  float64\n",
      " 10  rougher.state.floatbank10_a_level                   19438 non-null  float64\n",
      " 11  rougher.state.floatbank10_b_air                     19438 non-null  float64\n",
      " 12  rougher.state.floatbank10_b_level                   19438 non-null  float64\n",
      " 13  rougher.state.floatbank10_c_air                     19438 non-null  float64\n",
      " 14  rougher.state.floatbank10_c_level                   19438 non-null  float64\n",
      " 15  rougher.state.floatbank10_d_air                     19439 non-null  float64\n",
      " 16  rougher.state.floatbank10_d_level                   19439 non-null  float64\n",
      " 17  rougher.state.floatbank10_e_air                     19003 non-null  float64\n",
      " 18  rougher.state.floatbank10_e_level                   19439 non-null  float64\n",
      " 19  rougher.state.floatbank10_f_air                     19439 non-null  float64\n",
      " 20  rougher.state.floatbank10_f_level                   19439 non-null  float64\n",
      " 21  rougher.input.floatbank11_sulfate                   19395 non-null  float64\n",
      " 22  rougher.input.floatbank11_xanthate                  18986 non-null  float64\n",
      " 23  rougher.calculation.sulfate_to_au_concentrate       19437 non-null  float64\n",
      " 24  rougher.calculation.floatbank10_sulfate_to_au_feed  19437 non-null  float64\n",
      " 25  rougher.calculation.floatbank11_sulfate_to_au_feed  19437 non-null  float64\n",
      " 26  rougher.calculation.au_pb_ratio                     19439 non-null  float64\n",
      " 27  rougher.output.concentrate_au                       19439 non-null  float64\n",
      " 28  rougher.output.concentrate_ag                       19439 non-null  float64\n",
      " 29  rougher.output.concentrate_pb                       19439 non-null  float64\n",
      " 30  rougher.output.concentrate_sol                      19416 non-null  float64\n",
      " 31  rougher.output.recovery                             19439 non-null  float64\n",
      " 32  rougher.output.tail_au                              19439 non-null  float64\n",
      " 33  rougher.output.tail_ag                              19438 non-null  float64\n",
      " 34  rougher.output.tail_pb                              19439 non-null  float64\n",
      " 35  rougher.output.tail_sol                             19439 non-null  float64\n",
      " 36  primary_cleaner.input.sulfate                       19415 non-null  float64\n",
      " 37  primary_cleaner.input.depressant                    19402 non-null  float64\n",
      " 38  primary_cleaner.input.feed_size                     19439 non-null  float64\n",
      " 39  primary_cleaner.input.xanthate                      19335 non-null  float64\n",
      " 40  primary_cleaner.state.floatbank8_a_air              19435 non-null  float64\n",
      " 41  primary_cleaner.state.floatbank8_a_level            19438 non-null  float64\n",
      " 42  primary_cleaner.state.floatbank8_b_air              19435 non-null  float64\n",
      " 43  primary_cleaner.state.floatbank8_b_level            19438 non-null  float64\n",
      " 44  primary_cleaner.state.floatbank8_c_air              19437 non-null  float64\n",
      " 45  primary_cleaner.state.floatbank8_c_level            19438 non-null  float64\n",
      " 46  primary_cleaner.state.floatbank8_d_air              19436 non-null  float64\n",
      " 47  primary_cleaner.state.floatbank8_d_level            19438 non-null  float64\n",
      " 48  primary_cleaner.output.concentrate_au               19439 non-null  float64\n",
      " 49  primary_cleaner.output.concentrate_ag               19439 non-null  float64\n",
      " 50  primary_cleaner.output.concentrate_pb               19323 non-null  float64\n",
      " 51  primary_cleaner.output.concentrate_sol              19069 non-null  float64\n",
      " 52  primary_cleaner.output.tail_au                      19439 non-null  float64\n",
      " 53  primary_cleaner.output.tail_ag                      19435 non-null  float64\n",
      " 54  primary_cleaner.output.tail_pb                      19418 non-null  float64\n",
      " 55  primary_cleaner.output.tail_sol                     19377 non-null  float64\n",
      " 56  secondary_cleaner.state.floatbank2_a_air            19219 non-null  float64\n",
      " 57  secondary_cleaner.state.floatbank2_a_level          19438 non-null  float64\n",
      " 58  secondary_cleaner.state.floatbank2_b_air            19416 non-null  float64\n",
      " 59  secondary_cleaner.state.floatbank2_b_level          19438 non-null  float64\n",
      " 60  secondary_cleaner.state.floatbank3_a_air            19426 non-null  float64\n",
      " 61  secondary_cleaner.state.floatbank3_a_level          19438 non-null  float64\n",
      " 62  secondary_cleaner.state.floatbank3_b_air            19438 non-null  float64\n",
      " 63  secondary_cleaner.state.floatbank3_b_level          19438 non-null  float64\n",
      " 64  secondary_cleaner.state.floatbank4_a_air            19433 non-null  float64\n",
      " 65  secondary_cleaner.state.floatbank4_a_level          19438 non-null  float64\n",
      " 66  secondary_cleaner.state.floatbank4_b_air            19438 non-null  float64\n",
      " 67  secondary_cleaner.state.floatbank4_b_level          19438 non-null  float64\n",
      " 68  secondary_cleaner.state.floatbank5_a_air            19438 non-null  float64\n",
      " 69  secondary_cleaner.state.floatbank5_a_level          19438 non-null  float64\n",
      " 70  secondary_cleaner.state.floatbank5_b_air            19438 non-null  float64\n",
      " 71  secondary_cleaner.state.floatbank5_b_level          19438 non-null  float64\n",
      " 72  secondary_cleaner.state.floatbank6_a_air            19437 non-null  float64\n",
      " 73  secondary_cleaner.state.floatbank6_a_level          19438 non-null  float64\n",
      " 74  secondary_cleaner.output.tail_au                    19439 non-null  float64\n",
      " 75  secondary_cleaner.output.tail_ag                    19437 non-null  float64\n",
      " 76  secondary_cleaner.output.tail_pb                    19427 non-null  float64\n",
      " 77  secondary_cleaner.output.tail_sol                   17691 non-null  float64\n",
      " 78  final.output.concentrate_au                         19439 non-null  float64\n",
      " 79  final.output.concentrate_ag                         19438 non-null  float64\n",
      " 80  final.output.concentrate_pb                         19438 non-null  float64\n",
      " 81  final.output.concentrate_sol                        19228 non-null  float64\n",
      " 82  final.output.recovery                               19439 non-null  float64\n",
      " 83  final.output.tail_au                                19439 non-null  float64\n",
      " 84  final.output.tail_ag                                19438 non-null  float64\n",
      " 85  final.output.tail_pb                                19338 non-null  float64\n",
      " 86  final.output.tail_sol                               19433 non-null  float64\n",
      "dtypes: float64(86), object(1)\n",
      "memory usage: 12.9+ MB\n",
      "None\n"
     ]
    }
   ],
   "source": [
    "dfs = [data_train, data_test, data_full]\n",
    "for df in dfs:\n",
    "    show_info(df)"
   ]
  },
  {
   "cell_type": "markdown",
   "metadata": {},
   "source": [
    "Все три выборки разного размера, в выборке data_test отсутствуют целевые признаки, но их можно извлечь из full_data"
   ]
  },
  {
   "cell_type": "markdown",
   "metadata": {},
   "source": [
    "### Проверим правильность расчета эффективности обогащения"
   ]
  },
  {
   "cell_type": "markdown",
   "metadata": {},
   "source": [
    "Запишем необходимые величины в переменные, подставим их в формулу."
   ]
  },
  {
   "cell_type": "code",
   "execution_count": 5,
   "metadata": {},
   "outputs": [],
   "source": [
    "C = data_train['rougher.output.concentrate_au']\n",
    "F = data_train['rougher.input.feed_au']\n",
    "T = data_train['rougher.output.tail_au']"
   ]
  },
  {
   "cell_type": "code",
   "execution_count": 6,
   "metadata": {},
   "outputs": [],
   "source": [
    "recovery_calc = pd.Series(((C*(F-T))/(F*(C-T)))*100)"
   ]
  },
  {
   "cell_type": "markdown",
   "metadata": {},
   "source": [
    "Посчитаем среднее значение абсолютных отклонений MAE"
   ]
  },
  {
   "cell_type": "code",
   "execution_count": 7,
   "metadata": {},
   "outputs": [
    {
     "name": "stdout",
     "output_type": "stream",
     "text": [
      "9.83758577644259e-15\n"
     ]
    }
   ],
   "source": [
    "print(mean_absolute_error(recovery_calc, data_train['rougher.output.recovery']))"
   ]
  },
  {
   "cell_type": "markdown",
   "metadata": {},
   "source": [
    "MAE очень маленькая, значит эффективность рассчитана правильно."
   ]
  },
  {
   "cell_type": "markdown",
   "metadata": {},
   "source": [
    "### Проанализируем признаки, недоступные в тестовой выборке. Что это за параметры? К какому типу относятся?"
   ]
  },
  {
   "cell_type": "code",
   "execution_count": 8,
   "metadata": {},
   "outputs": [
    {
     "data": {
      "text/plain": [
       "{'final.output.concentrate_ag',\n",
       " 'final.output.concentrate_au',\n",
       " 'final.output.concentrate_pb',\n",
       " 'final.output.concentrate_sol',\n",
       " 'final.output.recovery',\n",
       " 'final.output.tail_ag',\n",
       " 'final.output.tail_au',\n",
       " 'final.output.tail_pb',\n",
       " 'final.output.tail_sol',\n",
       " 'primary_cleaner.output.concentrate_ag',\n",
       " 'primary_cleaner.output.concentrate_au',\n",
       " 'primary_cleaner.output.concentrate_pb',\n",
       " 'primary_cleaner.output.concentrate_sol',\n",
       " 'primary_cleaner.output.tail_ag',\n",
       " 'primary_cleaner.output.tail_au',\n",
       " 'primary_cleaner.output.tail_pb',\n",
       " 'primary_cleaner.output.tail_sol',\n",
       " 'rougher.calculation.au_pb_ratio',\n",
       " 'rougher.calculation.floatbank10_sulfate_to_au_feed',\n",
       " 'rougher.calculation.floatbank11_sulfate_to_au_feed',\n",
       " 'rougher.calculation.sulfate_to_au_concentrate',\n",
       " 'rougher.output.concentrate_ag',\n",
       " 'rougher.output.concentrate_au',\n",
       " 'rougher.output.concentrate_pb',\n",
       " 'rougher.output.concentrate_sol',\n",
       " 'rougher.output.recovery',\n",
       " 'rougher.output.tail_ag',\n",
       " 'rougher.output.tail_au',\n",
       " 'rougher.output.tail_pb',\n",
       " 'rougher.output.tail_sol',\n",
       " 'secondary_cleaner.output.tail_ag',\n",
       " 'secondary_cleaner.output.tail_au',\n",
       " 'secondary_cleaner.output.tail_pb',\n",
       " 'secondary_cleaner.output.tail_sol'}"
      ]
     },
     "execution_count": 8,
     "metadata": {},
     "output_type": "execute_result"
    }
   ],
   "source": [
    "set(data_train.columns) - set(data_test.columns) "
   ]
  },
  {
   "cell_type": "markdown",
   "metadata": {},
   "source": [
    "В тестовой выборке отсутствуют колонки целевых признаков - final.output.recovery и rougher.output.recovery (эффективность), признаки типов output (параметры продукта) и calculation (расчетные характеристики), параметры concentrate (концентрации) и tail (отвальные хвосты). Эти данные относятся к фактическим данным, которые можно получить только по факту реальных измерений, а наша задача - получить прогноз, поэтому этих данных и не должно быть в тестовой выборке."
   ]
  },
  {
   "cell_type": "markdown",
   "metadata": {},
   "source": [
    "### Проведем предобработку данных."
   ]
  },
  {
   "cell_type": "markdown",
   "metadata": {},
   "source": [
    "#### Проверим данные на пропуски"
   ]
  },
  {
   "cell_type": "code",
   "execution_count": 9,
   "metadata": {},
   "outputs": [
    {
     "name": "stdout",
     "output_type": "stream",
     "text": [
      "date                       0\n",
      "rougher.input.feed_au      0\n",
      "rougher.input.feed_ag      0\n",
      "rougher.input.feed_pb     72\n",
      "rougher.input.feed_sol    77\n",
      "                          ..\n",
      "final.output.recovery      0\n",
      "final.output.tail_au       0\n",
      "final.output.tail_ag       1\n",
      "final.output.tail_pb      75\n",
      "final.output.tail_sol      5\n",
      "Length: 87, dtype: int64\n",
      "date                                            0\n",
      "rougher.input.feed_au                           0\n",
      "rougher.input.feed_ag                           0\n",
      "rougher.input.feed_pb                          28\n",
      "rougher.input.feed_sol                         22\n",
      "rougher.input.feed_rate                         4\n",
      "rougher.input.feed_size                        44\n",
      "rougher.input.floatbank10_sulfate               3\n",
      "rougher.input.floatbank10_xanthate              1\n",
      "rougher.state.floatbank10_a_air                 1\n",
      "rougher.state.floatbank10_a_level               1\n",
      "rougher.state.floatbank10_b_air                 1\n",
      "rougher.state.floatbank10_b_level               1\n",
      "rougher.state.floatbank10_c_air                 1\n",
      "rougher.state.floatbank10_c_level               1\n",
      "rougher.state.floatbank10_d_air                 0\n",
      "rougher.state.floatbank10_d_level               0\n",
      "rougher.state.floatbank10_e_air                 7\n",
      "rougher.state.floatbank10_e_level               0\n",
      "rougher.state.floatbank10_f_air                 0\n",
      "rougher.state.floatbank10_f_level               0\n",
      "rougher.input.floatbank11_sulfate               8\n",
      "rougher.input.floatbank11_xanthate             46\n",
      "primary_cleaner.input.sulfate                   1\n",
      "primary_cleaner.input.depressant                9\n",
      "primary_cleaner.input.feed_size                 0\n",
      "primary_cleaner.input.xanthate                 43\n",
      "primary_cleaner.state.floatbank8_a_air          1\n",
      "primary_cleaner.state.floatbank8_a_level        1\n",
      "primary_cleaner.state.floatbank8_b_air          1\n",
      "primary_cleaner.state.floatbank8_b_level        1\n",
      "primary_cleaner.state.floatbank8_c_air          2\n",
      "primary_cleaner.state.floatbank8_c_level        1\n",
      "primary_cleaner.state.floatbank8_d_air          2\n",
      "primary_cleaner.state.floatbank8_d_level        1\n",
      "secondary_cleaner.state.floatbank2_a_air      126\n",
      "secondary_cleaner.state.floatbank2_a_level      1\n",
      "secondary_cleaner.state.floatbank2_b_air        1\n",
      "secondary_cleaner.state.floatbank2_b_level      1\n",
      "secondary_cleaner.state.floatbank3_a_air        1\n",
      "secondary_cleaner.state.floatbank3_a_level      1\n",
      "secondary_cleaner.state.floatbank3_b_air        1\n",
      "secondary_cleaner.state.floatbank3_b_level      1\n",
      "secondary_cleaner.state.floatbank4_a_air        1\n",
      "secondary_cleaner.state.floatbank4_a_level      1\n",
      "secondary_cleaner.state.floatbank4_b_air        1\n",
      "secondary_cleaner.state.floatbank4_b_level      1\n",
      "secondary_cleaner.state.floatbank5_a_air        1\n",
      "secondary_cleaner.state.floatbank5_a_level      1\n",
      "secondary_cleaner.state.floatbank5_b_air        1\n",
      "secondary_cleaner.state.floatbank5_b_level      1\n",
      "secondary_cleaner.state.floatbank6_a_air        1\n",
      "secondary_cleaner.state.floatbank6_a_level      1\n",
      "dtype: int64\n",
      "date                        0\n",
      "rougher.input.feed_au       0\n",
      "rougher.input.feed_ag       0\n",
      "rougher.input.feed_pb     100\n",
      "rougher.input.feed_sol     99\n",
      "                         ... \n",
      "final.output.recovery       0\n",
      "final.output.tail_au        0\n",
      "final.output.tail_ag        1\n",
      "final.output.tail_pb      101\n",
      "final.output.tail_sol       6\n",
      "Length: 87, dtype: int64\n"
     ]
    }
   ],
   "source": [
    "for df in dfs:\n",
    "    print(df.isna().sum())"
   ]
  },
  {
   "cell_type": "markdown",
   "metadata": {},
   "source": [
    "Известно, что данные индексируются датой и временем получения информации (признак date) и соседние по времени параметры часто похожи, поэтому заполним пропуски значениями из предыдущего замера."
   ]
  },
  {
   "cell_type": "code",
   "execution_count": 10,
   "metadata": {},
   "outputs": [],
   "source": [
    "for df in dfs:\n",
    "    df.ffill(axis='rows', inplace=True)"
   ]
  },
  {
   "cell_type": "markdown",
   "metadata": {},
   "source": [
    "#### Проверим на дубликаты"
   ]
  },
  {
   "cell_type": "code",
   "execution_count": 11,
   "metadata": {},
   "outputs": [
    {
     "name": "stdout",
     "output_type": "stream",
     "text": [
      "0\n",
      "0\n",
      "0\n"
     ]
    }
   ],
   "source": [
    "for df in dfs:\n",
    "    print(df.duplicated().sum())"
   ]
  },
  {
   "cell_type": "markdown",
   "metadata": {},
   "source": [
    "Явных дубликатов в данных нет."
   ]
  },
  {
   "cell_type": "markdown",
   "metadata": {},
   "source": [
    "### Вывод"
   ]
  },
  {
   "cell_type": "markdown",
   "metadata": {},
   "source": [
    "Данные были загружены и изучена информация.\n",
    "\n",
    "Проверен расчет эффективности обогащения, значение MAE близко к нулю, что означает, что эффективность рассчитана верно.\n",
    "\n",
    "Проведен анализ признаков, недоступных в тестовой выборке. Эти данные относятся к фактическим данным, которые можно получить только по факту реальных измерений, а наша задача - получить прогноз, поэтому этих данных и не должно быть в тестовой выборке.\n",
    "\n",
    "Проведена предобработка данных, пропуски заполнены методом ffill, дубликаты не найдены."
   ]
  },
  {
   "cell_type": "markdown",
   "metadata": {},
   "source": [
    "## Анализ данных"
   ]
  },
  {
   "cell_type": "markdown",
   "metadata": {},
   "source": [
    "### Посмотрим, как меняется концентрация металлов"
   ]
  },
  {
   "cell_type": "markdown",
   "metadata": {},
   "source": [
    "Посмотрим, как меняется концентрация металлов (Au, Ag, Pb) на различных этапах: в сырье, в черновом концентрате, в концентрате после первой очистки и в финальном концентрате. Какие особенности имеют распределения?"
   ]
  },
  {
   "cell_type": "code",
   "execution_count": 12,
   "metadata": {},
   "outputs": [
    {
     "data": {
      "image/png": "[encoded data removed]",
      "text/plain": [
       "<Figure size 1080x360 with 1 Axes>"
      ]
     },
     "metadata": {
      "needs_background": "light"
     },
     "output_type": "display_data"
    }
   ],
   "source": [
    "plt.figure(figsize=(15,5))\n",
    "\n",
    "data_full['rougher.input.feed_au'].hist(bins=100, label='сырье', alpha=0.5)\n",
    "data_full['rougher.output.concentrate_au'].hist(bins=100, label='черновой концентрат', alpha=0.5)\n",
    "data_full['primary_cleaner.output.concentrate_au'].hist(bins=100, label='первая очистка', alpha=0.5)\n",
    "data_full['final.output.concentrate_au'].hist(bins=100, label='финальный концентрат', alpha=0.5)\n",
    "\n",
    "plt.title('Концентрации золота AU')\n",
    "plt.xlabel('Значение')\n",
    "plt.ylabel('Количество')\n",
    "plt.legend()\n",
    "plt.show()"
   ]
  },
  {
   "cell_type": "markdown",
   "metadata": {},
   "source": [
    "Концентрация золота постепенно увеличивается от стадии сырья до финальной стадии."
   ]
  },
  {
   "cell_type": "code",
   "execution_count": 13,
   "metadata": {},
   "outputs": [
    {
     "data": {
      "image/png": "[encoded data removed]",
      "text/plain": [
       "<Figure size 1080x360 with 1 Axes>"
      ]
     },
     "metadata": {
      "needs_background": "light"
     },
     "output_type": "display_data"
    }
   ],
   "source": [
    "plt.figure(figsize=(15,5))\n",
    "\n",
    "data_full['rougher.input.feed_ag'].hist(bins=100, label='сырье', alpha=0.8)\n",
    "data_full['rougher.output.concentrate_ag'].hist(bins=100, label='черновой концентрат', alpha=0.5)\n",
    "data_full['primary_cleaner.output.concentrate_ag'].hist(bins=100, label='первая очистка', alpha=0.5)\n",
    "data_full['final.output.concentrate_ag'].hist(bins=100, label='финальный концентрат', alpha=0.5)\n",
    "\n",
    "plt.title('Концентрации серебра AG')\n",
    "plt.xlabel('Значение')\n",
    "plt.ylabel('Количество')\n",
    "plt.legend()\n",
    "plt.show()"
   ]
  },
  {
   "cell_type": "markdown",
   "metadata": {},
   "source": [
    "Концентрация серебра увеличивается от стадии сырья до стадии чернового концентрата, затем постепенно уменьшается до финальной стадии."
   ]
  },
  {
   "cell_type": "code",
   "execution_count": 14,
   "metadata": {},
   "outputs": [
    {
     "data": {
      "image/png": "[encoded data removed]",
      "text/plain": [
       "<Figure size 1080x360 with 1 Axes>"
      ]
     },
     "metadata": {
      "needs_background": "light"
     },
     "output_type": "display_data"
    }
   ],
   "source": [
    "plt.figure(figsize=(15,5))\n",
    "\n",
    "data_full['rougher.input.feed_pb'].hist(bins=100, label='сырье', alpha=0.5)\n",
    "data_full['rougher.output.concentrate_pb'].hist(bins=100, label='черновой концентрат', alpha=0.5)\n",
    "data_full['primary_cleaner.output.concentrate_pb'].hist(bins=100, label='первая очистка', alpha=0.5)\n",
    "data_full['final.output.concentrate_pb'].hist(bins=100, label='финальный концентрат', alpha=0.5)\n",
    "\n",
    "plt.title('Концентрации свинца PB')\n",
    "plt.xlabel('Значение')\n",
    "plt.ylabel('Количество')\n",
    "plt.legend()\n",
    "plt.show()"
   ]
  },
  {
   "cell_type": "markdown",
   "metadata": {},
   "source": [
    "Концентрация свинца резко увеличивается от стадии сырья до стадии чернового концентрата, затем плавно увеличивается до финальной стадии."
   ]
  },
  {
   "cell_type": "markdown",
   "metadata": {},
   "source": [
    "Отдельно обратим внимание на нулевые значения, их мало на стадии сырья и финальной стадии, зато очень много на стадии первой очистки и немного меньше на черновой стадии.\n",
    "\n",
    "Эти нули могли появиться в результате сбоя оборудования, удалим их из выборки train."
   ]
  },
  {
   "cell_type": "code",
   "execution_count": 15,
   "metadata": {},
   "outputs": [],
   "source": [
    "columns = [\n",
    "     'rougher.input.feed_au',\n",
    "     'rougher.output.concentrate_au',\n",
    "     'primary_cleaner.output.concentrate_au',\n",
    "     'final.output.concentrate_au',\n",
    "     'rougher.input.feed_ag',\n",
    "     'rougher.output.concentrate_ag',\n",
    "     'primary_cleaner.output.concentrate_ag',\n",
    "     'final.output.concentrate_ag',\n",
    "     'rougher.input.feed_pb',\n",
    "     'rougher.output.concentrate_pb',\n",
    "     'primary_cleaner.output.concentrate_pb',\n",
    "     'final.output.concentrate_pb'\n",
    "]\n",
    "\n",
    "data_train = data_train[~(data_train[columns] == 0).any(axis=1)]\n"
   ]
  },
  {
   "cell_type": "markdown",
   "metadata": {},
   "source": [
    "### Сравним распределения размеров гранул"
   ]
  },
  {
   "cell_type": "markdown",
   "metadata": {},
   "source": [
    "Сравним распределения размеров гранул исходного сырья на обучающей и тестовой выборках. Если распределения сильно отличаются друг от друга, оценка модели будет неправильной."
   ]
  },
  {
   "cell_type": "markdown",
   "metadata": {},
   "source": [
    "#### Построим гистограммы относительных частот для эмпирического анализа"
   ]
  },
  {
   "cell_type": "code",
   "execution_count": 16,
   "metadata": {},
   "outputs": [
    {
     "data": {
      "image/png": "[encoded data removed]",
      "text/plain": [
       "<Figure size 1296x432 with 1 Axes>"
      ]
     },
     "metadata": {
      "needs_background": "light"
     },
     "output_type": "display_data"
    }
   ],
   "source": [
    "fig, ax = plt.subplots()\n",
    "\n",
    "ax0 = sns.kdeplot(data=data_train['rougher.input.feed_size'], label='train')\n",
    "ax1 = sns.kdeplot(data=data_test['rougher.input.feed_size'], label='test')\n",
    "\n",
    "fig.set_size_inches(18, 6)\n",
    "ax.grid(True)\n",
    "ax.set_axisbelow(True)\n",
    "ax.set_xlabel('размер частиц', fontsize=14)\n",
    "ax.set_ylabel('плотность распределения', fontsize=14)\n",
    "fig.suptitle('Распределение размеров гранул', fontsize=22, fontweight='bold')\n",
    "fig.legend(prop={'size': 20});"
   ]
  },
  {
   "cell_type": "markdown",
   "metadata": {},
   "source": [
    "Распределение размеров гранул на тестовой и обучающей выборках похожи."
   ]
  },
  {
   "cell_type": "markdown",
   "metadata": {},
   "source": [
    "#### Сравним средние значения двух распределений"
   ]
  },
  {
   "cell_type": "markdown",
   "metadata": {},
   "source": [
    "Сравним средние с помощью т-теста. За нулевую гипотезу примем равенство средних двух распределений."
   ]
  },
  {
   "cell_type": "code",
   "execution_count": 17,
   "metadata": {},
   "outputs": [
    {
     "name": "stdout",
     "output_type": "stream",
     "text": [
      "0.9233782195495766\n",
      "Не получилось отвергнуть нулевую гипотезу\n"
     ]
    }
   ],
   "source": [
    "alpha = 0.05\n",
    "\n",
    "pvalue = (st.ttest_ind(\n",
    "    data_train['rougher.input.feed_size'], \n",
    "    data_test['rougher.input.feed_size']\n",
    ")).pvalue\n",
    "print(pvalue)\n",
    "if (pvalue < alpha):\n",
    "    print(\"Отвергаем нулевую гипотезу\")\n",
    "else:\n",
    "\n",
    "    print(\"Не получилось отвергнуть нулевую гипотезу\")"
   ]
  },
  {
   "cell_type": "markdown",
   "metadata": {},
   "source": [
    "Наше p-значение составляет 0.86, поэтому не отвергаем нулевую гипотезу о равенстве средних наших распределений."
   ]
  },
  {
   "cell_type": "markdown",
   "metadata": {},
   "source": [
    "### Исследуем суммарную концентрацию металлов на разных стадиях: в сырье, в черновом концентрате, в концентрате после первой очистки и в финальном концентрате."
   ]
  },
  {
   "cell_type": "markdown",
   "metadata": {},
   "source": [
    "Суммарная концентрация в сырье."
   ]
  },
  {
   "cell_type": "code",
   "execution_count": 18,
   "metadata": {},
   "outputs": [],
   "source": [
    "rough_feed_sum = data_train[[\n",
    "    'rougher.input.feed_ag', \n",
    "    'rougher.input.feed_pb', \n",
    "    'rougher.input.feed_sol', \n",
    "    'rougher.input.feed_au'\n",
    "]].sum(axis=1)"
   ]
  },
  {
   "cell_type": "markdown",
   "metadata": {},
   "source": [
    "Суммарная концентрация в черновом концентрате."
   ]
  },
  {
   "cell_type": "code",
   "execution_count": 19,
   "metadata": {},
   "outputs": [],
   "source": [
    "rough_conc_sum = data_train[[\n",
    "    'rougher.output.concentrate_au',\n",
    "    'rougher.output.concentrate_ag',\n",
    "    'rougher.output.concentrate_pb',\n",
    "    'rougher.output.concentrate_sol'\n",
    "]].sum(axis=1)"
   ]
  },
  {
   "cell_type": "markdown",
   "metadata": {},
   "source": [
    "Суммарная концентрация в концентрате после первой очистки."
   ]
  },
  {
   "cell_type": "code",
   "execution_count": 20,
   "metadata": {},
   "outputs": [],
   "source": [
    "prim_conc_sum = data_train[[\n",
    "    'primary_cleaner.output.concentrate_au',\n",
    "    'primary_cleaner.output.concentrate_ag',\n",
    "    'primary_cleaner.output.concentrate_pb',\n",
    "    'primary_cleaner.output.concentrate_sol'\n",
    "]].sum(axis=1)"
   ]
  },
  {
   "cell_type": "markdown",
   "metadata": {},
   "source": [
    "Суммарная концентрация в финальном концентрате."
   ]
  },
  {
   "cell_type": "code",
   "execution_count": 21,
   "metadata": {},
   "outputs": [],
   "source": [
    "final_conc_sum = data_train[[\n",
    "    'final.output.concentrate_au',\n",
    "    'final.output.concentrate_ag',\n",
    "    'final.output.concentrate_pb',\n",
    "    'final.output.concentrate_sol'\n",
    "]].sum(axis=1)"
   ]
  },
  {
   "cell_type": "markdown",
   "metadata": {},
   "source": [
    "Гистограммы по стадиям обработки"
   ]
  },
  {
   "cell_type": "code",
   "execution_count": 22,
   "metadata": {},
   "outputs": [
    {
     "data": {
      "text/plain": [
       "Text(0.5, 0.98, 'Суммарная концентрация металлов на различных стадиях')"
      ]
     },
     "execution_count": 22,
     "metadata": {},
     "output_type": "execute_result"
    },
    {
     "data": {
      "image/png": "[encoded data removed]",
      "text/plain": [
       "<Figure size 1008x1008 with 4 Axes>"
      ]
     },
     "metadata": {
      "needs_background": "light"
     },
     "output_type": "display_data"
    }
   ],
   "source": [
    "fig, ax = plt.subplots(2, 2, figsize=(14, 14))\n",
    "\n",
    "ax[0, 0].hist(x=rough_feed_sum, bins=200)\n",
    "ax[0, 0].set_title('Сырье', fontsize=20)\n",
    "ax[0, 0].set_ylabel('Частота', fontsize=16)\n",
    "ax[0, 0].set_xlabel('Концентрация металлов', fontsize=16)\n",
    "\n",
    "ax[0, 1].hist(x=rough_conc_sum, bins=200)\n",
    "ax[0, 1].set_title('Черновой концентрат', fontsize=20)\n",
    "ax[0, 1].set_ylabel('Частота', fontsize=16)\n",
    "ax[0, 1].set_xlabel('Концентрация металла', fontsize=16)\n",
    "\n",
    "ax[1, 0].hist(x=prim_conc_sum, bins=200)\n",
    "ax[1, 0].set_title('Первая очистка', fontsize=20)\n",
    "ax[1, 0].set_ylabel('Частота', fontsize=16)\n",
    "ax[1, 0].set_xlabel('Концентрация металла', fontsize=16)\n",
    "\n",
    "ax[1, 1].hist(x=final_conc_sum, bins=200)\n",
    "ax[1, 1].set_title('Финальный концентрат', fontsize=20)\n",
    "ax[1, 1].set_ylabel('Частота', fontsize=16)\n",
    "ax[1, 1].set_xlabel('Концентрация металла', fontsize=16)\n",
    "\n",
    "\n",
    "plt.suptitle('Суммарная концентрация металлов на различных стадиях', fontsize=22, fontweight='bold')"
   ]
  },
  {
   "cell_type": "markdown",
   "metadata": {},
   "source": [
    "От сырьевого до финального этапа суммарная концентрация металлов постепенно растет."
   ]
  },
  {
   "cell_type": "markdown",
   "metadata": {},
   "source": [
    "### Вывод"
   ]
  },
  {
   "cell_type": "markdown",
   "metadata": {},
   "source": [
    "Проведен анализ изменения концентрации металлов на различных этапах:\n",
    "\n",
    "- Концентрация золота постепенно увеличивается от стадии сырья до финальной стадии.\n",
    "- Концентрация серебра увеличивается от стадии сырья до стадии чернового концентрата, затем постепенно уменьшается до финальной стадии.\n",
    "- Концентрация свинца резко увеличивается от стадии сырья до стадии чернового концентрата, затем плавно увеличивается до финальной стадии.\n",
    "\n",
    "Отдельно обратили внимание на нулевые значения, их мало на стадии сырья и финальной стадии, зато очень много на стадии первой очистки и немного меньше на черновой стадии. Эти нули могли появиться в результате сбоя оборудования, удалили их из выборки train.\n",
    "\n",
    "Проведено сравнение распределения гранул исходного сырья на обучающей и тестовой выборках с помощью графика и с помощью т-теста. Распределения похожи, что говорит об однородности данных о размерах сырья в выборках train и test\n",
    "\n",
    "Исследована суммарная концентрация всех веществ на разных стадиях: в сырье, в черновом, после первой обработки и в финальном концентратах: от сырьевого до финального этапа суммарная концентрация металлов постепенно растет."
   ]
  },
  {
   "cell_type": "markdown",
   "metadata": {},
   "source": [
    "## Модель"
   ]
  },
  {
   "cell_type": "markdown",
   "metadata": {},
   "source": [
    "### Восстановим целевые признаки в data_test из data_full"
   ]
  },
  {
   "cell_type": "code",
   "execution_count": 23,
   "metadata": {},
   "outputs": [],
   "source": [
    "data_target = data_full[['date', 'rougher.output.recovery', 'final.output.recovery']]\n",
    "data_test = data_test.merge(data_target, how='left', on='date')"
   ]
  },
  {
   "cell_type": "markdown",
   "metadata": {},
   "source": [
    "Теперь удалим колонку date, она больше нам не нужна."
   ]
  },
  {
   "cell_type": "code",
   "execution_count": 24,
   "metadata": {},
   "outputs": [
    {
     "data": {
      "text/plain": [
       "(4860, 54)"
      ]
     },
     "execution_count": 24,
     "metadata": {},
     "output_type": "execute_result"
    }
   ],
   "source": [
    "data_test.drop(['date'], axis=1, inplace=True)\n",
    "data_test.shape"
   ]
  },
  {
   "cell_type": "markdown",
   "metadata": {},
   "source": [
    "Также удалим колонки из train, которых нет в test"
   ]
  },
  {
   "cell_type": "code",
   "execution_count": 25,
   "metadata": {},
   "outputs": [
    {
     "data": {
      "text/plain": [
       "(13982, 54)"
      ]
     },
     "execution_count": 25,
     "metadata": {},
     "output_type": "execute_result"
    }
   ],
   "source": [
    "data_train = data_train.drop(set(data_train.columns) - set(data_test.columns), axis=1)\n",
    "data_train.shape"
   ]
  },
  {
   "cell_type": "markdown",
   "metadata": {},
   "source": [
    "### Напишем функцию для вычисления итоговой sMAPE."
   ]
  },
  {
   "cell_type": "code",
   "execution_count": 26,
   "metadata": {},
   "outputs": [],
   "source": [
    "def smape(target, predicted):\n",
    "    smape = 1 / len(target) * sum(2 * abs(target - predicted) / (abs(target) + abs(predicted)) * 100)\n",
    "    return smape"
   ]
  },
  {
   "cell_type": "code",
   "execution_count": 27,
   "metadata": {},
   "outputs": [],
   "source": [
    "def smape_total(rougher, final):\n",
    "    smape_total = 0.25 * rougher + 0.75 * final\n",
    "    return smape_total"
   ]
  },
  {
   "cell_type": "markdown",
   "metadata": {},
   "source": [
    "### Выделим features и target для чернового и финального концентрата"
   ]
  },
  {
   "cell_type": "code",
   "execution_count": 28,
   "metadata": {},
   "outputs": [
    {
     "name": "stdout",
     "output_type": "stream",
     "text": [
      "(13982, 52)\n",
      "(13982,)\n",
      "\n",
      "(4860, 52)\n",
      "(4860,)\n",
      "\n",
      "(13982, 52)\n",
      "(13982,)\n",
      "\n",
      "(4860, 52)\n",
      "(4860,)\n"
     ]
    }
   ],
   "source": [
    "features_train_rougher = data_train.drop(['rougher.output.recovery', 'final.output.recovery'], axis=1)\n",
    "target_train_rougher = data_train['rougher.output.recovery']\n",
    "\n",
    "features_test_rougher = data_test.drop(['rougher.output.recovery', 'final.output.recovery'], axis=1)\n",
    "target_test_rougher = data_test['rougher.output.recovery']\n",
    "\n",
    "features_train_final = data_train.drop(['rougher.output.recovery', 'final.output.recovery'], axis=1)\n",
    "target_train_final = data_train['final.output.recovery']\n",
    "\n",
    "features_test_final = data_test.drop(['rougher.output.recovery', 'final.output.recovery'], axis=1)\n",
    "target_test_final = data_test['final.output.recovery']\n",
    "\n",
    "print(features_train_rougher.shape)\n",
    "print(target_train_rougher.shape)\n",
    "print()\n",
    "print(features_test_rougher.shape)\n",
    "print(target_test_rougher.shape)\n",
    "print()\n",
    "print(features_train_final.shape)\n",
    "print(target_train_final.shape)\n",
    "print()\n",
    "print(features_test_final.shape)\n",
    "print(target_test_final.shape)"
   ]
  },
  {
   "cell_type": "markdown",
   "metadata": {},
   "source": [
    "### Построим модель для линейной регрессии"
   ]
  },
  {
   "cell_type": "code",
   "execution_count": 29,
   "metadata": {},
   "outputs": [],
   "source": [
    "scorer = make_scorer(smape, greater_is_better=False)"
   ]
  },
  {
   "cell_type": "code",
   "execution_count": 30,
   "metadata": {},
   "outputs": [
    {
     "data": {
      "text/plain": [
       "8.866318998588971"
      ]
     },
     "execution_count": 30,
     "metadata": {},
     "output_type": "execute_result"
    }
   ],
   "source": [
    "model_lr = LinearRegression()\n",
    "rougher_lr = cross_val_score(model_lr, features_train_rougher, target_train_rougher, scoring=scorer, cv=5)\n",
    "final_lr =  cross_val_score(model_lr, features_train_final, target_train_final, scoring=scorer, cv=5)\n",
    "abs(smape_total(rougher_lr, final_lr).mean())"
   ]
  },
  {
   "cell_type": "markdown",
   "metadata": {},
   "source": [
    "Итоговое sMAPE для линейной регрессии равно 8.866318998588971"
   ]
  },
  {
   "cell_type": "markdown",
   "metadata": {},
   "source": [
    "### Построим модель решающего дерева"
   ]
  },
  {
   "cell_type": "code",
   "execution_count": 31,
   "metadata": {},
   "outputs": [
    {
     "name": "stdout",
     "output_type": "stream",
     "text": [
      "{'min_samples_split': 8, 'min_samples_leaf': 4, 'max_features': 5, 'max_depth': 5}\n",
      "7.284134254770254\n",
      "{'min_samples_split': 4, 'min_samples_leaf': 12, 'max_features': 3, 'max_depth': 3}\n",
      "9.643967143777536\n",
      "9.054008921525714\n"
     ]
    }
   ],
   "source": [
    "model_dtr = DecisionTreeRegressor(random_state=12345)\n",
    "params = {'max_depth': [1, 3, 5, 7, 9],\n",
    "              'max_features': [2, 3, 4, 5],\n",
    "              'min_samples_split': [4, 8, 12],\n",
    "              'min_samples_leaf': [4, 8, 12]\n",
    "             }\n",
    "\n",
    "grid_dtr_rougher = RandomizedSearchCV(model_dtr, params, n_iter=100, cv=5, scoring=scorer, random_state=12345)\n",
    "grid_dtr_rougher.fit(features_train_rougher, target_train_rougher)\n",
    "print(grid_dtr_rougher.best_params_)\n",
    "print(abs(grid_dtr_rougher.best_score_))\n",
    "\n",
    "grid_dtr_final = RandomizedSearchCV(model_dtr, params, n_iter=100, cv=5, scoring=scorer, random_state=12345)\n",
    "grid_dtr_final.fit(features_train_final, target_train_final)\n",
    "print(grid_dtr_final.best_params_)\n",
    "print(abs(grid_dtr_final.best_score_))\n",
    "\n",
    "print(abs(smape_total(grid_dtr_rougher.best_score_, grid_dtr_final.best_score_)))"
   ]
  },
  {
   "cell_type": "markdown",
   "metadata": {},
   "source": [
    "Итоговое sMAPE для решающего дерева равно 9.054008921525714"
   ]
  },
  {
   "cell_type": "markdown",
   "metadata": {},
   "source": [
    "### Построим модель для случайного леса"
   ]
  },
  {
   "cell_type": "code",
   "execution_count": 32,
   "metadata": {},
   "outputs": [
    {
     "name": "stdout",
     "output_type": "stream",
     "text": [
      "{'n_estimators': 150, 'min_samples_split': 12, 'min_samples_leaf': 20, 'max_features': 8, 'max_depth': 5}\n",
      "6.003770298265297\n",
      "{'n_estimators': 150, 'min_samples_split': 12, 'min_samples_leaf': 20, 'max_features': 8, 'max_depth': 5}\n",
      "8.693285412631386\n",
      "8.020906634039864\n"
     ]
    }
   ],
   "source": [
    "model_rfr = RandomForestRegressor(random_state=12345)\n",
    "params = {'max_depth': [1, 3, 5, 7, 9, 11, 13, 15],\n",
    "          'n_estimators': [50, 100, 150, 200, 250, 300],\n",
    "          'max_features': [2, 4, 6, 8, 10],\n",
    "          'min_samples_split': [2, 4, 8, 12, 16, 18, 20],\n",
    "          'min_samples_leaf': [2, 4, 8, 12, 16, 18, 20]\n",
    "         }\n",
    "\n",
    "grid_rfr_rougher = RandomizedSearchCV(model_rfr, params, n_iter=10, cv=5, scoring=scorer, random_state=12345)\n",
    "grid_rfr_rougher.fit(features_train_rougher, target_train_rougher)\n",
    "print(grid_rfr_rougher.best_params_)\n",
    "print(abs(grid_rfr_rougher.best_score_))\n",
    "\n",
    "grid_rfr_final = RandomizedSearchCV(model_rfr, params, n_iter=10, cv=5, scoring=scorer, random_state=12345)\n",
    "grid_rfr_final.fit(features_train_final, target_train_final)\n",
    "print(grid_rfr_final.best_params_)\n",
    "print(abs(grid_rfr_final.best_score_))\n",
    "\n",
    "print(abs(smape_total(grid_rfr_rougher.best_score_, grid_rfr_final.best_score_)))"
   ]
  },
  {
   "cell_type": "markdown",
   "metadata": {},
   "source": [
    "Итоговое sMAPE для случайного леса равно 8.020906634039864"
   ]
  },
  {
   "cell_type": "markdown",
   "metadata": {},
   "source": [
    "Наилучший sMAPE показала модель случайного леса\n",
    "- с гиперпараметрами n_estimators = 150, min_samples_split = 12, min_samples_leaf = 20, max_features = 8, max_depth = 5 для чернового этапа\n",
    "- с гиперпараметрами n_estimators = 150, min_samples_split = 12, min_samples_leaf = 20, max_features = 8, max_depth = 5 для финального этапа\n",
    "\n",
    "Эти модели проверим на тестовой выборке."
   ]
  },
  {
   "cell_type": "markdown",
   "metadata": {},
   "source": [
    "### Проверим лучшую модель на тестовой выборке"
   ]
  },
  {
   "cell_type": "code",
   "execution_count": 33,
   "metadata": {},
   "outputs": [
    {
     "data": {
      "text/plain": [
       "6.537594367562538"
      ]
     },
     "execution_count": 33,
     "metadata": {},
     "output_type": "execute_result"
    }
   ],
   "source": [
    "best_model_rougher = RandomForestRegressor(\n",
    "    n_estimators = 150,\n",
    "    min_samples_split = 12,\n",
    "    min_samples_leaf = 20,\n",
    "    max_features = 8,\n",
    "    max_depth = 5,\n",
    "    random_state=12345\n",
    ")\n",
    "\n",
    "best_model_rougher.fit(features_train_rougher, target_train_rougher)\n",
    "predicted_rougher = best_model_rougher.predict(features_test_rougher)\n",
    "smape_rougher = smape(target_test_rougher, predicted_rougher)\n",
    "\n",
    "best_model_final= RandomForestRegressor(\n",
    "    n_estimators = 150,\n",
    "    min_samples_split = 12,\n",
    "    min_samples_leaf = 20,\n",
    "    max_features = 8,\n",
    "    max_depth = 5,\n",
    "    random_state=12345)\n",
    "\n",
    "best_model_final.fit(features_train_final, target_train_final)\n",
    "predicted_final = best_model_final.predict(features_test_final)\n",
    "smape_final = smape(target_test_final, predicted_final)\n",
    "\n",
    "abs(smape_total(smape_rougher, smape_final))"
   ]
  },
  {
   "cell_type": "markdown",
   "metadata": {},
   "source": [
    "Итоговое sMAPE для случайного леса на тестовой выборке равно 6.537594367562538"
   ]
  },
  {
   "cell_type": "markdown",
   "metadata": {},
   "source": [
    "### Проверим модель на адекватость"
   ]
  },
  {
   "cell_type": "code",
   "execution_count": 34,
   "metadata": {},
   "outputs": [
    {
     "data": {
      "text/plain": [
       "8.471903961218104"
      ]
     },
     "execution_count": 34,
     "metadata": {},
     "output_type": "execute_result"
    }
   ],
   "source": [
    "dummy_rougher = DummyRegressor(strategy=\"mean\")\n",
    "dummy_rougher.fit(features_train_rougher, target_train_rougher)\n",
    "predicted_test_rougher = dummy_rougher.predict(features_test_rougher)\n",
    "smape_rougher = smape(target_test_rougher, predicted_test_rougher)\n",
    "\n",
    "dummy_final = DummyRegressor(strategy=\"mean\")\n",
    "dummy_final.fit(features_train_final, target_train_final)\n",
    "predicted_test_final = dummy_final.predict(features_test_final)\n",
    "smape_final = smape(target_test_final, predicted_test_final)\n",
    "\n",
    "abs(smape_total(smape_rougher, smape_final))"
   ]
  },
  {
   "cell_type": "markdown",
   "metadata": {},
   "source": [
    "sMAPE константной модели равно 8.47264825132129 и оно выше, чем наше итоговое sMAPE случайного леса, значит, наша модель адекватна."
   ]
  },
  {
   "cell_type": "markdown",
   "metadata": {},
   "source": [
    "### Вывод"
   ]
  },
  {
   "cell_type": "markdown",
   "metadata": {},
   "source": [
    "Написана функция для вычисления sMAPE\n",
    "\n",
    "Обучены три модели:\n",
    "- Линейная регрессия показала метрику sMAPE равную 8.866318998588971 на обучающей выборке\n",
    "- Решающее дерево показало метрику sMAPE равную 9.054008921525714 на обучающей выборке\n",
    "- Случайный лес показал метрику sMAPE равную 8.020906634039864 на обучающей выборке\n",
    "\n",
    "Для проверки на тестовых данных, как модель с наилучшей метрикой, была выбрана модель случайного леса\n",
    "\n",
    "- с гиперпараметрами n_estimators = 150, min_samples_split = 12, min_samples_leaf = 20, max_features = 8, max_depth = 5 для чернового этапа\n",
    "- с гиперпараметрами n_estimators = 150, min_samples_split = 12, min_samples_leaf = 20, max_features = 8, max_depth = 5 для финального этапа\n",
    "\n",
    "Эта модель показала метрику sMAPE равную 6.537594367562538\n",
    "\n",
    "Модель была проверена на адекватность. sMAPE константной модели равно 8.471903961218104 и оно выше, чем итоговое sMAPE случайного леса, значит, модель адекватна."
   ]
  },
  {
   "cell_type": "markdown",
   "metadata": {},
   "source": [
    "## Общий вывод"
   ]
  },
  {
   "cell_type": "markdown",
   "metadata": {},
   "source": [
    "Данные были загружены и изучена информация.\n",
    "\n",
    "Проверен расчет эффективности обогащения, значение MAE близко к нулю, что означает, что эффективность рассчитана верно.\n",
    "\n",
    "Проведен анализ признаков, недоступных в тестовой выборке. Эти данные относятся к фактическим данным, которые можно получить только по факту реальных измерений, а наша задача - получить прогноз, поэтому этих данных и не должно быть в тестовой выборке.\n",
    "\n",
    "Проведена предобработка данных, пропуски заполнены методом ffill, дубликаты не найдены.\n",
    "\n",
    "Проведен анализ изменения концентрации металлов на различных этапах:\n",
    "- Концентрация золота постепенно увеличивается от стадии сырья до финальной стадии.\n",
    "- Концентрация серебра увеличивается от стадии сырья до стадии чернового концентрата, затем постепенно уменьшается до финальной стадии.\n",
    "- Концентрация свинца резко увеличивается от стадии сырья до стадии чернового концентрата, затем плавно увеличивается до финальной стадии.\n",
    "\n",
    "Отдельно обратили внимание на нулевые значения, их мало на стадии сырья и финальной стадии, зато очень много на стадии первой очистки и немного меньше на черновой стадии. Эти значения были удалены.\n",
    "\n",
    "Проведено сравнение распределения гранул исходного сырья на обучающей и тестовой выборках с помощью графика и с помощью т-теста. Распределения похожи, что говорит об однородности данных о размерах сырья в выборках train и test\n",
    "\n",
    "Исследована суммарная концентрация всех веществ на разных стадиях: в сырье, в черновом, после первой обработки и в финальном концентратах. От сырьевого до финального этапа суммарная концентрация металлов постепенно растет.\n",
    "\n",
    "Написана функция для вычисления sMAPE.\n",
    "\n",
    "Обучены три модели:\n",
    "- Линейная регрессия показала метрику sMAPE равную 8.866318998588971 на обучающей выборке\n",
    "- Решающее дерево показало метрику sMAPE равную 9.054008921525714 на обучающей выборке\n",
    "- Случайный лес показал метрику sMAPE равную 8.020906634039864 на обучающей выборке\n",
    "\n",
    "Для проверки на тестовых данных, как модель с наилучшей метрикой, была выбрана модель случайного леса\n",
    "\n",
    "- с гиперпараметрами n_estimators = 150, min_samples_split = 12, min_samples_leaf = 20, max_features = 8, max_depth = 5 для чернового этапа\n",
    "- с гиперпараметрами n_estimators = 150, min_samples_split = 12, min_samples_leaf = 20, max_features = 8, max_depth = 5 для финального этапа\n",
    "\n",
    "Эта модель показала метрику sMAPE равную 6.537594367562538\n",
    "\n",
    "Модель была проверена на адекватность. sMAPE константной модели равно 8.471903961218104 и оно выше, чем итоговое sMAPE случайного леса, значит, модель адекватна."
   ]
  }
 ],
 "metadata": {
  "ExecuteTimeLog": [
   {
    "duration": 390,
    "start_time": "2023-05-22T13:47:27.290Z"
   },
   {
    "duration": 92,
    "start_time": "2023-05-22T13:47:28.375Z"
   },
   {
    "duration": 2185,
    "start_time": "2023-05-22T13:48:02.677Z"
   },
   {
    "duration": 55,
    "start_time": "2023-05-22T13:52:47.253Z"
   },
   {
    "duration": 3,
    "start_time": "2023-05-22T13:53:08.791Z"
   },
   {
    "duration": 764,
    "start_time": "2023-05-22T13:54:21.779Z"
   },
   {
    "duration": 3,
    "start_time": "2023-05-22T14:04:36.587Z"
   },
   {
    "duration": 749,
    "start_time": "2023-05-22T14:04:39.090Z"
   },
   {
    "duration": 8,
    "start_time": "2023-05-22T15:12:18.954Z"
   },
   {
    "duration": 3,
    "start_time": "2023-05-22T15:12:38.338Z"
   },
   {
    "duration": 8,
    "start_time": "2023-05-22T15:12:59.138Z"
   },
   {
    "duration": 75,
    "start_time": "2023-05-22T15:14:21.025Z"
   },
   {
    "duration": 785,
    "start_time": "2023-05-22T17:46:51.225Z"
   },
   {
    "duration": 6,
    "start_time": "2023-05-22T17:49:24.269Z"
   },
   {
    "duration": 9,
    "start_time": "2023-05-22T17:50:50.815Z"
   },
   {
    "duration": 6,
    "start_time": "2023-05-22T17:51:18.659Z"
   },
   {
    "duration": 1118,
    "start_time": "2023-05-22T17:51:30.897Z"
   },
   {
    "duration": 812,
    "start_time": "2023-05-22T17:51:32.017Z"
   },
   {
    "duration": 4,
    "start_time": "2023-05-22T17:51:32.831Z"
   },
   {
    "duration": 867,
    "start_time": "2023-05-22T17:51:32.837Z"
   },
   {
    "duration": 3,
    "start_time": "2023-05-22T17:51:33.707Z"
   },
   {
    "duration": 49,
    "start_time": "2023-05-22T17:51:33.711Z"
   },
   {
    "duration": 24,
    "start_time": "2023-05-22T17:51:33.762Z"
   },
   {
    "duration": 99,
    "start_time": "2023-05-22T17:59:57.654Z"
   },
   {
    "duration": 4,
    "start_time": "2023-05-22T18:00:15.886Z"
   },
   {
    "duration": 5,
    "start_time": "2023-05-22T18:08:09.903Z"
   },
   {
    "duration": 22,
    "start_time": "2023-05-22T18:23:26.694Z"
   },
   {
    "duration": 734,
    "start_time": "2023-05-22T18:44:30.540Z"
   },
   {
    "duration": 16,
    "start_time": "2023-05-22T18:44:50.642Z"
   },
   {
    "duration": 11,
    "start_time": "2023-05-22T18:46:04.386Z"
   },
   {
    "duration": 14,
    "start_time": "2023-05-22T18:46:12.352Z"
   },
   {
    "duration": 15,
    "start_time": "2023-05-22T18:46:27.645Z"
   },
   {
    "duration": 292,
    "start_time": "2023-05-22T18:50:09.116Z"
   },
   {
    "duration": 13,
    "start_time": "2023-05-22T20:11:54.806Z"
   },
   {
    "duration": 3,
    "start_time": "2023-05-22T20:12:21.187Z"
   },
   {
    "duration": 5,
    "start_time": "2023-05-22T20:12:26.469Z"
   },
   {
    "duration": 5,
    "start_time": "2023-05-22T20:12:56.064Z"
   },
   {
    "duration": 15,
    "start_time": "2023-05-22T20:15:09.721Z"
   },
   {
    "duration": 16,
    "start_time": "2023-05-22T20:15:16.945Z"
   },
   {
    "duration": 366,
    "start_time": "2023-05-22T20:16:08.074Z"
   },
   {
    "duration": 456,
    "start_time": "2023-05-22T20:16:14.217Z"
   },
   {
    "duration": 559,
    "start_time": "2023-05-22T20:17:04.823Z"
   },
   {
    "duration": 415,
    "start_time": "2023-05-22T20:19:08.955Z"
   },
   {
    "duration": 384,
    "start_time": "2023-05-22T20:20:15.761Z"
   },
   {
    "duration": 56,
    "start_time": "2023-05-22T20:23:31.864Z"
   },
   {
    "duration": 15,
    "start_time": "2023-05-22T20:23:47.045Z"
   },
   {
    "duration": 20,
    "start_time": "2023-05-22T20:24:15.205Z"
   },
   {
    "duration": 8,
    "start_time": "2023-05-22T20:24:21.415Z"
   },
   {
    "duration": 4,
    "start_time": "2023-05-22T20:24:37.182Z"
   },
   {
    "duration": 7,
    "start_time": "2023-05-22T20:25:01.082Z"
   },
   {
    "duration": 5,
    "start_time": "2023-05-22T20:25:43.037Z"
   },
   {
    "duration": 391,
    "start_time": "2023-05-22T20:25:45.369Z"
   },
   {
    "duration": 543,
    "start_time": "2023-05-22T20:26:12.917Z"
   },
   {
    "duration": 374,
    "start_time": "2023-05-22T20:29:05.912Z"
   },
   {
    "duration": 550,
    "start_time": "2023-05-22T20:34:00.970Z"
   },
   {
    "duration": 399,
    "start_time": "2023-05-22T20:34:10.502Z"
   },
   {
    "duration": 355,
    "start_time": "2023-05-22T20:35:02.674Z"
   },
   {
    "duration": 398,
    "start_time": "2023-05-22T20:35:27.493Z"
   },
   {
    "duration": 357,
    "start_time": "2023-05-22T20:36:01.904Z"
   },
   {
    "duration": 394,
    "start_time": "2023-05-22T20:37:52.100Z"
   },
   {
    "duration": 487,
    "start_time": "2023-05-22T20:38:03.625Z"
   },
   {
    "duration": 417,
    "start_time": "2023-05-22T20:38:53.177Z"
   },
   {
    "duration": 299,
    "start_time": "2023-05-22T20:39:46.478Z"
   },
   {
    "duration": 309,
    "start_time": "2023-05-22T20:39:55.597Z"
   },
   {
    "duration": 425,
    "start_time": "2023-05-22T20:41:15.144Z"
   },
   {
    "duration": 386,
    "start_time": "2023-05-22T20:41:33.468Z"
   },
   {
    "duration": 347,
    "start_time": "2023-05-22T20:42:36.073Z"
   },
   {
    "duration": 370,
    "start_time": "2023-05-22T20:42:57.640Z"
   },
   {
    "duration": 512,
    "start_time": "2023-05-22T20:43:30.300Z"
   },
   {
    "duration": 350,
    "start_time": "2023-05-22T20:44:05.985Z"
   },
   {
    "duration": 403,
    "start_time": "2023-05-22T20:45:03.935Z"
   },
   {
    "duration": 42,
    "start_time": "2023-05-22T20:47:40.125Z"
   },
   {
    "duration": 7,
    "start_time": "2023-05-22T20:52:45.144Z"
   },
   {
    "duration": 5,
    "start_time": "2023-05-22T20:52:49.434Z"
   },
   {
    "duration": 4,
    "start_time": "2023-05-22T20:52:49.847Z"
   },
   {
    "duration": 7,
    "start_time": "2023-05-22T20:52:50.281Z"
   },
   {
    "duration": 389,
    "start_time": "2023-05-22T20:52:52.508Z"
   },
   {
    "duration": 794,
    "start_time": "2023-05-22T21:01:04.664Z"
   },
   {
    "duration": 935,
    "start_time": "2023-05-22T21:02:35.180Z"
   },
   {
    "duration": 659,
    "start_time": "2023-05-22T21:02:44.096Z"
   },
   {
    "duration": 882,
    "start_time": "2023-05-22T21:03:57.237Z"
   },
   {
    "duration": 609,
    "start_time": "2023-05-22T21:04:32.115Z"
   },
   {
    "duration": 883,
    "start_time": "2023-05-22T21:04:50.641Z"
   },
   {
    "duration": 611,
    "start_time": "2023-05-22T21:05:45.472Z"
   },
   {
    "duration": 821,
    "start_time": "2023-05-22T21:06:01.882Z"
   },
   {
    "duration": 3,
    "start_time": "2023-05-22T21:15:07.254Z"
   },
   {
    "duration": 327,
    "start_time": "2023-05-22T21:15:14.738Z"
   },
   {
    "duration": 300,
    "start_time": "2023-05-22T21:23:33.846Z"
   },
   {
    "duration": 289,
    "start_time": "2023-05-22T21:41:24.561Z"
   },
   {
    "duration": 228,
    "start_time": "2023-05-22T21:45:14.312Z"
   },
   {
    "duration": 228,
    "start_time": "2023-05-22T21:45:27.065Z"
   },
   {
    "duration": 1070,
    "start_time": "2023-05-22T21:46:18.595Z"
   },
   {
    "duration": 738,
    "start_time": "2023-05-22T21:46:45.756Z"
   },
   {
    "duration": 65,
    "start_time": "2023-05-22T22:05:43.069Z"
   },
   {
    "duration": 296,
    "start_time": "2023-05-22T22:19:04.608Z"
   },
   {
    "duration": 266,
    "start_time": "2023-05-22T22:19:14.660Z"
   },
   {
    "duration": 228,
    "start_time": "2023-05-22T22:19:26.464Z"
   },
   {
    "duration": 3,
    "start_time": "2023-05-22T22:21:03.960Z"
   },
   {
    "duration": 848,
    "start_time": "2023-05-22T22:27:58.613Z"
   },
   {
    "duration": 1239,
    "start_time": "2023-05-22T22:29:01.606Z"
   },
   {
    "duration": 909,
    "start_time": "2023-05-22T22:29:30.068Z"
   },
   {
    "duration": 9,
    "start_time": "2023-05-22T22:32:47.511Z"
   },
   {
    "duration": 2,
    "start_time": "2023-05-22T22:33:19.657Z"
   },
   {
    "duration": 11,
    "start_time": "2023-05-22T22:33:26.396Z"
   },
   {
    "duration": 6,
    "start_time": "2023-05-22T22:33:34.559Z"
   },
   {
    "duration": 5,
    "start_time": "2023-05-22T22:45:57.493Z"
   },
   {
    "duration": 6,
    "start_time": "2023-05-22T22:46:41.777Z"
   },
   {
    "duration": 5,
    "start_time": "2023-05-22T22:56:39.775Z"
   },
   {
    "duration": 5,
    "start_time": "2023-05-22T23:02:07.322Z"
   },
   {
    "duration": 5,
    "start_time": "2023-05-22T23:04:12.009Z"
   },
   {
    "duration": 5,
    "start_time": "2023-05-22T23:06:13.600Z"
   },
   {
    "duration": 5,
    "start_time": "2023-05-22T23:06:14.181Z"
   },
   {
    "duration": 5,
    "start_time": "2023-05-22T23:06:14.574Z"
   },
   {
    "duration": 5,
    "start_time": "2023-05-22T23:06:15.031Z"
   },
   {
    "duration": 4,
    "start_time": "2023-05-22T23:08:58.410Z"
   },
   {
    "duration": 6,
    "start_time": "2023-05-22T23:08:58.730Z"
   },
   {
    "duration": 5,
    "start_time": "2023-05-22T23:08:59.034Z"
   },
   {
    "duration": 6,
    "start_time": "2023-05-22T23:08:59.282Z"
   },
   {
    "duration": 91,
    "start_time": "2023-05-22T23:26:45.911Z"
   },
   {
    "duration": 375,
    "start_time": "2023-05-22T23:27:46.978Z"
   },
   {
    "duration": 437,
    "start_time": "2023-05-22T23:31:55.726Z"
   },
   {
    "duration": 430,
    "start_time": "2023-05-22T23:32:21.737Z"
   },
   {
    "duration": 392,
    "start_time": "2023-05-22T23:36:27.234Z"
   },
   {
    "duration": 119,
    "start_time": "2023-05-22T23:37:15.860Z"
   },
   {
    "duration": 375,
    "start_time": "2023-05-22T23:37:24.652Z"
   },
   {
    "duration": 396,
    "start_time": "2023-05-22T23:39:06.171Z"
   },
   {
    "duration": 1211,
    "start_time": "2023-05-22T23:41:12.965Z"
   },
   {
    "duration": 807,
    "start_time": "2023-05-22T23:41:14.178Z"
   },
   {
    "duration": 2,
    "start_time": "2023-05-22T23:41:14.987Z"
   },
   {
    "duration": 746,
    "start_time": "2023-05-22T23:41:14.992Z"
   },
   {
    "duration": 4,
    "start_time": "2023-05-22T23:41:15.740Z"
   },
   {
    "duration": 14,
    "start_time": "2023-05-22T23:41:15.746Z"
   },
   {
    "duration": 7,
    "start_time": "2023-05-22T23:41:15.762Z"
   },
   {
    "duration": 7,
    "start_time": "2023-05-22T23:41:15.771Z"
   },
   {
    "duration": 19,
    "start_time": "2023-05-22T23:41:15.779Z"
   },
   {
    "duration": 19,
    "start_time": "2023-05-22T23:41:15.823Z"
   },
   {
    "duration": 224,
    "start_time": "2023-05-22T23:41:15.844Z"
   },
   {
    "duration": 6,
    "start_time": "2023-05-22T23:41:16.070Z"
   },
   {
    "duration": 11,
    "start_time": "2023-05-22T23:41:16.079Z"
   },
   {
    "duration": 6,
    "start_time": "2023-05-22T23:41:16.091Z"
   },
   {
    "duration": 388,
    "start_time": "2023-05-22T23:41:16.098Z"
   },
   {
    "duration": 920,
    "start_time": "2023-05-22T23:41:16.487Z"
   },
   {
    "duration": 4,
    "start_time": "2023-05-22T23:41:17.409Z"
   },
   {
    "duration": 16,
    "start_time": "2023-05-22T23:41:17.415Z"
   },
   {
    "duration": 14,
    "start_time": "2023-05-22T23:41:17.433Z"
   },
   {
    "duration": 7,
    "start_time": "2023-05-22T23:41:17.449Z"
   },
   {
    "duration": 10,
    "start_time": "2023-05-22T23:41:17.458Z"
   },
   {
    "duration": 515,
    "start_time": "2023-05-22T23:41:17.470Z"
   },
   {
    "duration": 385,
    "start_time": "2023-05-22T23:42:18.662Z"
   },
   {
    "duration": 351,
    "start_time": "2023-05-22T23:42:35.092Z"
   },
   {
    "duration": 358,
    "start_time": "2023-05-22T23:45:29.536Z"
   },
   {
    "duration": 77,
    "start_time": "2023-05-23T00:48:46.090Z"
   },
   {
    "duration": 454,
    "start_time": "2023-05-23T01:00:15.482Z"
   },
   {
    "duration": 360,
    "start_time": "2023-05-23T01:00:30.227Z"
   },
   {
    "duration": 60,
    "start_time": "2023-05-23T01:06:23.397Z"
   },
   {
    "duration": 353,
    "start_time": "2023-05-23T01:09:10.306Z"
   },
   {
    "duration": 341,
    "start_time": "2023-05-23T01:13:46.448Z"
   },
   {
    "duration": 1543,
    "start_time": "2023-05-23T01:16:55.942Z"
   },
   {
    "duration": 307,
    "start_time": "2023-05-23T16:18:10.278Z"
   },
   {
    "duration": 32,
    "start_time": "2023-05-23T16:18:52.643Z"
   },
   {
    "duration": 4,
    "start_time": "2023-05-23T16:19:14.274Z"
   },
   {
    "duration": 6,
    "start_time": "2023-05-24T00:11:45.639Z"
   },
   {
    "duration": 5,
    "start_time": "2023-05-24T00:12:21.817Z"
   },
   {
    "duration": 30,
    "start_time": "2023-05-24T00:14:35.624Z"
   },
   {
    "duration": 13,
    "start_time": "2023-05-24T00:14:49.774Z"
   },
   {
    "duration": 4,
    "start_time": "2023-05-24T00:15:51.423Z"
   },
   {
    "duration": 21,
    "start_time": "2023-05-24T00:17:03.504Z"
   },
   {
    "duration": 18,
    "start_time": "2023-05-24T00:17:13.351Z"
   },
   {
    "duration": 9,
    "start_time": "2023-05-24T00:18:10.100Z"
   },
   {
    "duration": 19,
    "start_time": "2023-05-24T00:18:44.533Z"
   },
   {
    "duration": 14,
    "start_time": "2023-05-24T00:18:49.502Z"
   },
   {
    "duration": 15,
    "start_time": "2023-05-24T00:19:08.656Z"
   },
   {
    "duration": 14,
    "start_time": "2023-05-24T00:19:42.138Z"
   },
   {
    "duration": 1221,
    "start_time": "2023-05-24T00:19:50.327Z"
   },
   {
    "duration": 750,
    "start_time": "2023-05-24T00:19:51.550Z"
   },
   {
    "duration": 3,
    "start_time": "2023-05-24T00:19:52.302Z"
   },
   {
    "duration": 1259,
    "start_time": "2023-05-24T00:19:52.306Z"
   },
   {
    "duration": 4,
    "start_time": "2023-05-24T00:19:53.567Z"
   },
   {
    "duration": 9,
    "start_time": "2023-05-24T00:19:53.624Z"
   },
   {
    "duration": 4,
    "start_time": "2023-05-24T00:19:53.634Z"
   },
   {
    "duration": 9,
    "start_time": "2023-05-24T00:19:53.640Z"
   },
   {
    "duration": 17,
    "start_time": "2023-05-24T00:19:53.650Z"
   },
   {
    "duration": 65,
    "start_time": "2023-05-24T00:19:53.668Z"
   },
   {
    "duration": 357,
    "start_time": "2023-05-24T00:19:53.734Z"
   },
   {
    "duration": 4,
    "start_time": "2023-05-24T00:19:54.093Z"
   },
   {
    "duration": 7,
    "start_time": "2023-05-24T00:19:54.099Z"
   },
   {
    "duration": 15,
    "start_time": "2023-05-24T00:19:54.109Z"
   },
   {
    "duration": 365,
    "start_time": "2023-05-24T00:19:54.126Z"
   },
   {
    "duration": 928,
    "start_time": "2023-05-24T00:19:54.493Z"
   },
   {
    "duration": 6,
    "start_time": "2023-05-24T00:19:55.422Z"
   },
   {
    "duration": 33,
    "start_time": "2023-05-24T00:19:55.429Z"
   },
   {
    "duration": 14,
    "start_time": "2023-05-24T00:19:55.464Z"
   },
   {
    "duration": 7,
    "start_time": "2023-05-24T00:19:55.479Z"
   },
   {
    "duration": 18,
    "start_time": "2023-05-24T00:19:55.487Z"
   },
   {
    "duration": 1403,
    "start_time": "2023-05-24T00:19:55.506Z"
   },
   {
    "duration": 18,
    "start_time": "2023-05-24T00:19:56.911Z"
   },
   {
    "duration": 12,
    "start_time": "2023-05-24T00:19:56.931Z"
   },
   {
    "duration": 7,
    "start_time": "2023-05-24T00:19:56.944Z"
   },
   {
    "duration": 21,
    "start_time": "2023-05-24T00:19:56.952Z"
   },
   {
    "duration": 48,
    "start_time": "2023-05-24T00:19:56.974Z"
   },
   {
    "duration": 104,
    "start_time": "2023-05-24T00:20:17.490Z"
   },
   {
    "duration": 1724,
    "start_time": "2023-05-24T00:20:38.846Z"
   },
   {
    "duration": 1208,
    "start_time": "2023-05-24T00:20:40.572Z"
   },
   {
    "duration": 3,
    "start_time": "2023-05-24T00:20:41.782Z"
   },
   {
    "duration": 656,
    "start_time": "2023-05-24T00:20:41.787Z"
   },
   {
    "duration": 2,
    "start_time": "2023-05-24T00:20:42.446Z"
   },
   {
    "duration": 10,
    "start_time": "2023-05-24T00:20:42.450Z"
   },
   {
    "duration": 4,
    "start_time": "2023-05-24T00:20:42.461Z"
   },
   {
    "duration": 10,
    "start_time": "2023-05-24T00:20:42.467Z"
   },
   {
    "duration": 28,
    "start_time": "2023-05-24T00:20:42.478Z"
   },
   {
    "duration": 12,
    "start_time": "2023-05-24T00:20:42.525Z"
   },
   {
    "duration": 247,
    "start_time": "2023-05-24T00:20:42.539Z"
   },
   {
    "duration": 5,
    "start_time": "2023-05-24T00:20:42.788Z"
   },
   {
    "duration": 7,
    "start_time": "2023-05-24T00:20:42.795Z"
   },
   {
    "duration": 20,
    "start_time": "2023-05-24T00:20:42.805Z"
   },
   {
    "duration": 413,
    "start_time": "2023-05-24T00:20:42.826Z"
   },
   {
    "duration": 1002,
    "start_time": "2023-05-24T00:20:43.241Z"
   },
   {
    "duration": 5,
    "start_time": "2023-05-24T00:20:44.245Z"
   },
   {
    "duration": 8,
    "start_time": "2023-05-24T00:20:44.252Z"
   },
   {
    "duration": 5,
    "start_time": "2023-05-24T00:20:44.262Z"
   },
   {
    "duration": 6,
    "start_time": "2023-05-24T00:20:44.269Z"
   },
   {
    "duration": 6,
    "start_time": "2023-05-24T00:20:44.276Z"
   },
   {
    "duration": 1543,
    "start_time": "2023-05-24T00:20:44.284Z"
   },
   {
    "duration": 15,
    "start_time": "2023-05-24T00:20:45.829Z"
   },
   {
    "duration": 12,
    "start_time": "2023-05-24T00:20:45.846Z"
   },
   {
    "duration": 7,
    "start_time": "2023-05-24T00:20:45.860Z"
   },
   {
    "duration": 7,
    "start_time": "2023-05-24T00:20:45.868Z"
   },
   {
    "duration": 49,
    "start_time": "2023-05-24T00:20:45.877Z"
   },
   {
    "duration": 21,
    "start_time": "2023-05-24T00:21:23.107Z"
   },
   {
    "duration": 4,
    "start_time": "2023-05-24T00:34:10.983Z"
   },
   {
    "duration": 4,
    "start_time": "2023-05-24T00:36:30.531Z"
   },
   {
    "duration": 160,
    "start_time": "2023-05-24T12:44:29.280Z"
   },
   {
    "duration": 16,
    "start_time": "2023-05-24T12:45:50.778Z"
   },
   {
    "duration": 18,
    "start_time": "2023-05-24T12:47:09.373Z"
   },
   {
    "duration": 13,
    "start_time": "2023-05-24T12:50:09.182Z"
   },
   {
    "duration": 25,
    "start_time": "2023-05-24T12:51:40.663Z"
   },
   {
    "duration": 22,
    "start_time": "2023-05-24T12:52:02.019Z"
   },
   {
    "duration": 5,
    "start_time": "2023-05-24T13:15:59.013Z"
   },
   {
    "duration": 15,
    "start_time": "2023-05-24T13:16:06.620Z"
   },
   {
    "duration": 59,
    "start_time": "2023-05-24T13:16:55.769Z"
   },
   {
    "duration": 4,
    "start_time": "2023-05-24T13:17:51.414Z"
   },
   {
    "duration": 9013,
    "start_time": "2023-05-24T13:17:56.569Z"
   },
   {
    "duration": 3,
    "start_time": "2023-05-24T13:18:46.983Z"
   },
   {
    "duration": 3,
    "start_time": "2023-05-24T13:18:47.598Z"
   },
   {
    "duration": 18,
    "start_time": "2023-05-24T13:18:49.973Z"
   },
   {
    "duration": 12924,
    "start_time": "2023-05-24T13:18:51.356Z"
   },
   {
    "duration": 3,
    "start_time": "2023-05-24T13:21:19.914Z"
   },
   {
    "duration": 13020,
    "start_time": "2023-05-24T13:21:22.521Z"
   },
   {
    "duration": 12,
    "start_time": "2023-05-24T13:41:11.501Z"
   },
   {
    "duration": 15,
    "start_time": "2023-05-24T13:41:20.072Z"
   },
   {
    "duration": 10250,
    "start_time": "2023-05-24T13:41:47.288Z"
   },
   {
    "duration": 9184,
    "start_time": "2023-05-24T14:10:31.269Z"
   },
   {
    "duration": 9916,
    "start_time": "2023-05-24T14:16:17.270Z"
   },
   {
    "duration": 22525,
    "start_time": "2023-05-24T14:25:23.051Z"
   },
   {
    "duration": 21945,
    "start_time": "2023-05-24T14:28:29.642Z"
   },
   {
    "duration": 7,
    "start_time": "2023-05-24T14:34:04.775Z"
   },
   {
    "duration": 5,
    "start_time": "2023-05-24T14:34:08.017Z"
   },
   {
    "duration": 22408,
    "start_time": "2023-05-24T14:44:17.754Z"
   },
   {
    "duration": 23423,
    "start_time": "2023-05-24T14:45:07.868Z"
   },
   {
    "duration": 11135,
    "start_time": "2023-05-24T14:46:42.714Z"
   },
   {
    "duration": 7308,
    "start_time": "2023-05-24T14:51:04.406Z"
   },
   {
    "duration": 553615,
    "start_time": "2023-05-24T14:56:34.439Z"
   },
   {
    "duration": 4,
    "start_time": "2023-05-24T15:10:42.480Z"
   },
   {
    "duration": 3,
    "start_time": "2023-05-24T15:10:44.159Z"
   },
   {
    "duration": 7416,
    "start_time": "2023-05-24T15:11:34.918Z"
   },
   {
    "duration": 1566,
    "start_time": "2023-05-24T15:12:04.806Z"
   },
   {
    "duration": 929,
    "start_time": "2023-05-24T15:12:06.374Z"
   },
   {
    "duration": 2,
    "start_time": "2023-05-24T15:12:07.305Z"
   },
   {
    "duration": 801,
    "start_time": "2023-05-24T15:12:07.309Z"
   },
   {
    "duration": 16,
    "start_time": "2023-05-24T15:12:08.112Z"
   },
   {
    "duration": 40,
    "start_time": "2023-05-24T15:12:08.135Z"
   },
   {
    "duration": 21,
    "start_time": "2023-05-24T15:12:08.177Z"
   },
   {
    "duration": 20,
    "start_time": "2023-05-24T15:12:08.200Z"
   },
   {
    "duration": 58,
    "start_time": "2023-05-24T15:12:08.222Z"
   },
   {
    "duration": 25,
    "start_time": "2023-05-24T15:12:08.282Z"
   },
   {
    "duration": 265,
    "start_time": "2023-05-24T15:12:08.309Z"
   },
   {
    "duration": 5,
    "start_time": "2023-05-24T15:12:08.576Z"
   },
   {
    "duration": 13,
    "start_time": "2023-05-24T15:12:08.583Z"
   },
   {
    "duration": 11,
    "start_time": "2023-05-24T15:12:08.600Z"
   },
   {
    "duration": 540,
    "start_time": "2023-05-24T15:12:08.613Z"
   },
   {
    "duration": 1117,
    "start_time": "2023-05-24T15:12:09.155Z"
   },
   {
    "duration": 5,
    "start_time": "2023-05-24T15:12:10.274Z"
   },
   {
    "duration": 12,
    "start_time": "2023-05-24T15:12:10.281Z"
   },
   {
    "duration": 8,
    "start_time": "2023-05-24T15:12:10.295Z"
   },
   {
    "duration": 30,
    "start_time": "2023-05-24T15:12:10.305Z"
   },
   {
    "duration": 20,
    "start_time": "2023-05-24T15:12:10.339Z"
   },
   {
    "duration": 3645,
    "start_time": "2023-05-24T15:12:10.362Z"
   },
   {
    "duration": 30,
    "start_time": "2023-05-24T15:12:14.009Z"
   },
   {
    "duration": 31,
    "start_time": "2023-05-24T15:12:14.048Z"
   },
   {
    "duration": 12,
    "start_time": "2023-05-24T15:12:14.081Z"
   },
   {
    "duration": 19,
    "start_time": "2023-05-24T15:12:14.095Z"
   },
   {
    "duration": 39,
    "start_time": "2023-05-24T15:12:14.116Z"
   },
   {
    "duration": 9,
    "start_time": "2023-05-24T15:12:14.158Z"
   },
   {
    "duration": 21,
    "start_time": "2023-05-24T15:12:14.170Z"
   },
   {
    "duration": 14,
    "start_time": "2023-05-24T15:12:14.194Z"
   },
   {
    "duration": 7819,
    "start_time": "2023-05-24T15:12:14.210Z"
   },
   {
    "duration": 6449,
    "start_time": "2023-05-24T15:12:22.031Z"
   },
   {
    "duration": 535371,
    "start_time": "2023-05-24T15:12:28.482Z"
   },
   {
    "duration": 11595,
    "start_time": "2023-05-24T15:21:23.863Z"
   },
   {
    "duration": 8,
    "start_time": "2023-05-24T15:21:35.534Z"
   },
   {
    "duration": 3,
    "start_time": "2023-05-24T15:24:52.318Z"
   },
   {
    "duration": 9286,
    "start_time": "2023-05-24T15:24:59.474Z"
   },
   {
    "duration": 4,
    "start_time": "2023-05-24T15:25:17.682Z"
   },
   {
    "duration": 2781,
    "start_time": "2023-05-24T17:24:40.248Z"
   },
   {
    "duration": 112,
    "start_time": "2023-05-24T17:26:43.847Z"
   },
   {
    "duration": 2426,
    "start_time": "2023-05-24T17:28:38.900Z"
   },
   {
    "duration": 19132,
    "start_time": "2023-05-24T17:53:12.794Z"
   },
   {
    "duration": 6,
    "start_time": "2023-05-24T18:18:08.891Z"
   },
   {
    "duration": 17,
    "start_time": "2023-05-24T18:18:13.543Z"
   },
   {
    "duration": 3,
    "start_time": "2023-05-24T18:19:03.755Z"
   },
   {
    "duration": 21,
    "start_time": "2023-05-24T18:20:56.069Z"
   },
   {
    "duration": 11,
    "start_time": "2023-05-24T18:21:08.998Z"
   },
   {
    "duration": 1644008,
    "start_time": "2023-05-24T18:22:50.221Z"
   },
   {
    "duration": 1523923,
    "start_time": "2023-05-24T18:50:56.011Z"
   },
   {
    "duration": 314841,
    "start_time": "2023-05-24T19:18:05.216Z"
   },
   {
    "duration": 11,
    "start_time": "2023-05-24T19:23:20.059Z"
   },
   {
    "duration": 1455,
    "start_time": "2023-05-24T21:48:52.901Z"
   },
   {
    "duration": 909,
    "start_time": "2023-05-24T21:48:54.359Z"
   },
   {
    "duration": 3,
    "start_time": "2023-05-24T21:48:55.270Z"
   },
   {
    "duration": 749,
    "start_time": "2023-05-24T21:48:55.275Z"
   },
   {
    "duration": 3,
    "start_time": "2023-05-24T21:48:56.026Z"
   },
   {
    "duration": 7,
    "start_time": "2023-05-24T21:48:56.030Z"
   },
   {
    "duration": 26,
    "start_time": "2023-05-24T21:48:56.039Z"
   },
   {
    "duration": 9,
    "start_time": "2023-05-24T21:48:56.067Z"
   },
   {
    "duration": 20,
    "start_time": "2023-05-24T21:48:56.077Z"
   },
   {
    "duration": 13,
    "start_time": "2023-05-24T21:48:56.098Z"
   },
   {
    "duration": 261,
    "start_time": "2023-05-24T21:48:56.113Z"
   },
   {
    "duration": 5,
    "start_time": "2023-05-24T21:48:56.377Z"
   },
   {
    "duration": 28,
    "start_time": "2023-05-24T21:48:56.384Z"
   },
   {
    "duration": 34,
    "start_time": "2023-05-24T21:48:56.415Z"
   },
   {
    "duration": 454,
    "start_time": "2023-05-24T21:48:56.451Z"
   },
   {
    "duration": 1050,
    "start_time": "2023-05-24T21:48:56.907Z"
   },
   {
    "duration": 6,
    "start_time": "2023-05-24T21:48:57.959Z"
   },
   {
    "duration": 17,
    "start_time": "2023-05-24T21:48:57.966Z"
   },
   {
    "duration": 6,
    "start_time": "2023-05-24T21:48:57.985Z"
   },
   {
    "duration": 8,
    "start_time": "2023-05-24T21:48:57.993Z"
   },
   {
    "duration": 9,
    "start_time": "2023-05-24T21:48:58.002Z"
   },
   {
    "duration": 1692,
    "start_time": "2023-05-24T21:48:58.013Z"
   },
   {
    "duration": 38,
    "start_time": "2023-05-24T21:48:59.707Z"
   },
   {
    "duration": 15,
    "start_time": "2023-05-24T21:48:59.747Z"
   },
   {
    "duration": 7,
    "start_time": "2023-05-24T21:48:59.765Z"
   },
   {
    "duration": 11,
    "start_time": "2023-05-24T21:48:59.773Z"
   },
   {
    "duration": 7,
    "start_time": "2023-05-24T21:48:59.786Z"
   },
   {
    "duration": 5,
    "start_time": "2023-05-24T21:48:59.794Z"
   },
   {
    "duration": 27,
    "start_time": "2023-05-24T21:48:59.801Z"
   },
   {
    "duration": 24,
    "start_time": "2023-05-24T21:48:59.834Z"
   },
   {
    "duration": 8298,
    "start_time": "2023-05-24T21:48:59.860Z"
   },
   {
    "duration": 29827,
    "start_time": "2023-05-24T21:49:08.161Z"
   },
   {
    "duration": 28164,
    "start_time": "2023-05-24T21:49:37.990Z"
   },
   {
    "duration": 19372,
    "start_time": "2023-05-24T21:50:06.156Z"
   },
   {
    "duration": 24,
    "start_time": "2023-05-24T21:50:25.529Z"
   },
   {
    "duration": 390220,
    "start_time": "2023-05-24T21:50:45.411Z"
   },
   {
    "duration": 24503,
    "start_time": "2023-05-24T22:00:34.658Z"
   },
   {
    "duration": 10,
    "start_time": "2023-05-24T22:03:59.391Z"
   },
   {
    "duration": 14,
    "start_time": "2023-05-26T07:15:24.243Z"
   },
   {
    "duration": 323,
    "start_time": "2023-05-26T07:15:30.438Z"
   },
   {
    "duration": 50,
    "start_time": "2023-05-26T15:48:07.153Z"
   },
   {
    "duration": 1532,
    "start_time": "2023-05-26T15:48:18.811Z"
   },
   {
    "duration": 2069,
    "start_time": "2023-05-26T15:48:23.418Z"
   },
   {
    "duration": 1405,
    "start_time": "2023-05-26T15:48:30.232Z"
   },
   {
    "duration": 744,
    "start_time": "2023-05-26T15:48:31.639Z"
   },
   {
    "duration": 2,
    "start_time": "2023-05-26T15:48:32.385Z"
   },
   {
    "duration": 617,
    "start_time": "2023-05-26T15:48:32.389Z"
   },
   {
    "duration": 10,
    "start_time": "2023-05-26T15:48:33.008Z"
   },
   {
    "duration": 11,
    "start_time": "2023-05-26T15:48:33.019Z"
   },
   {
    "duration": 5,
    "start_time": "2023-05-26T15:48:33.031Z"
   },
   {
    "duration": 7,
    "start_time": "2023-05-26T15:48:33.037Z"
   },
   {
    "duration": 24,
    "start_time": "2023-05-26T15:48:33.045Z"
   },
   {
    "duration": 11,
    "start_time": "2023-05-26T15:48:33.071Z"
   },
   {
    "duration": 236,
    "start_time": "2023-05-26T15:48:33.084Z"
   },
   {
    "duration": 5,
    "start_time": "2023-05-26T15:48:33.322Z"
   },
   {
    "duration": 19,
    "start_time": "2023-05-26T15:48:33.328Z"
   },
   {
    "duration": 6,
    "start_time": "2023-05-26T15:48:33.350Z"
   },
   {
    "duration": 390,
    "start_time": "2023-05-26T15:48:33.358Z"
   },
   {
    "duration": 361,
    "start_time": "2023-05-26T15:48:33.750Z"
   },
   {
    "duration": 374,
    "start_time": "2023-05-26T15:48:34.118Z"
   },
   {
    "duration": 760,
    "start_time": "2023-05-26T15:48:34.493Z"
   },
   {
    "duration": 5,
    "start_time": "2023-05-26T15:48:35.255Z"
   },
   {
    "duration": 5,
    "start_time": "2023-05-26T15:48:35.262Z"
   },
   {
    "duration": 12,
    "start_time": "2023-05-26T15:48:35.269Z"
   },
   {
    "duration": 6,
    "start_time": "2023-05-26T15:48:35.283Z"
   },
   {
    "duration": 8,
    "start_time": "2023-05-26T15:48:35.290Z"
   },
   {
    "duration": 1392,
    "start_time": "2023-05-26T15:48:35.300Z"
   },
   {
    "duration": 15,
    "start_time": "2023-05-26T15:48:36.694Z"
   },
   {
    "duration": 33,
    "start_time": "2023-05-26T15:48:36.710Z"
   },
   {
    "duration": 9,
    "start_time": "2023-05-26T15:48:36.744Z"
   },
   {
    "duration": 18,
    "start_time": "2023-05-26T15:48:36.755Z"
   },
   {
    "duration": 25,
    "start_time": "2023-05-26T15:48:36.774Z"
   },
   {
    "duration": 14,
    "start_time": "2023-05-26T15:48:36.801Z"
   },
   {
    "duration": 14,
    "start_time": "2023-05-26T15:48:36.816Z"
   },
   {
    "duration": 3,
    "start_time": "2023-05-26T15:48:36.831Z"
   },
   {
    "duration": 2782,
    "start_time": "2023-05-26T15:48:36.836Z"
   },
   {
    "duration": 28214,
    "start_time": "2023-05-26T15:48:39.619Z"
   },
   {
    "duration": 510006,
    "start_time": "2023-05-26T15:49:07.835Z"
   },
   {
    "duration": 27147,
    "start_time": "2023-05-26T15:57:37.843Z"
   },
   {
    "duration": 8,
    "start_time": "2023-05-26T15:58:04.992Z"
   },
   {
    "duration": 597,
    "start_time": "2023-05-26T15:58:05.003Z"
   },
   {
    "duration": 735,
    "start_time": "2023-05-26T16:04:24.340Z"
   },
   {
    "duration": 566,
    "start_time": "2023-05-26T16:05:08.524Z"
   },
   {
    "duration": 735,
    "start_time": "2023-05-26T16:12:40.426Z"
   },
   {
    "duration": 567,
    "start_time": "2023-05-26T16:12:45.017Z"
   },
   {
    "duration": 721,
    "start_time": "2023-05-26T16:12:48.804Z"
   },
   {
    "duration": 49,
    "start_time": "2023-05-26T16:20:41.689Z"
   },
   {
    "duration": 139,
    "start_time": "2023-05-26T16:21:29.492Z"
   },
   {
    "duration": 1315,
    "start_time": "2023-05-26T16:23:41.098Z"
   },
   {
    "duration": 701,
    "start_time": "2023-05-26T16:23:42.415Z"
   },
   {
    "duration": 3,
    "start_time": "2023-05-26T16:23:43.118Z"
   },
   {
    "duration": 609,
    "start_time": "2023-05-26T16:23:43.123Z"
   },
   {
    "duration": 4,
    "start_time": "2023-05-26T16:23:43.733Z"
   },
   {
    "duration": 6,
    "start_time": "2023-05-26T16:23:43.738Z"
   },
   {
    "duration": 4,
    "start_time": "2023-05-26T16:23:43.746Z"
   },
   {
    "duration": 4,
    "start_time": "2023-05-26T16:23:43.752Z"
   },
   {
    "duration": 15,
    "start_time": "2023-05-26T16:23:43.758Z"
   },
   {
    "duration": 48,
    "start_time": "2023-05-26T16:23:43.777Z"
   },
   {
    "duration": 230,
    "start_time": "2023-05-26T16:23:43.827Z"
   },
   {
    "duration": 691,
    "start_time": "2023-05-26T16:23:44.059Z"
   },
   {
    "duration": 571,
    "start_time": "2023-05-26T16:23:44.752Z"
   },
   {
    "duration": 664,
    "start_time": "2023-05-26T16:23:45.325Z"
   },
   {
    "duration": 159,
    "start_time": "2023-05-26T16:23:45.991Z"
   },
   {
    "duration": 0,
    "start_time": "2023-05-26T16:23:46.153Z"
   },
   {
    "duration": 0,
    "start_time": "2023-05-26T16:23:46.155Z"
   },
   {
    "duration": 0,
    "start_time": "2023-05-26T16:23:46.157Z"
   },
   {
    "duration": 0,
    "start_time": "2023-05-26T16:23:46.158Z"
   },
   {
    "duration": 0,
    "start_time": "2023-05-26T16:23:46.160Z"
   },
   {
    "duration": 0,
    "start_time": "2023-05-26T16:23:46.161Z"
   },
   {
    "duration": 0,
    "start_time": "2023-05-26T16:23:46.163Z"
   },
   {
    "duration": 0,
    "start_time": "2023-05-26T16:23:46.164Z"
   },
   {
    "duration": 0,
    "start_time": "2023-05-26T16:23:46.165Z"
   },
   {
    "duration": 0,
    "start_time": "2023-05-26T16:23:46.166Z"
   },
   {
    "duration": 1,
    "start_time": "2023-05-26T16:23:46.168Z"
   },
   {
    "duration": 0,
    "start_time": "2023-05-26T16:23:46.170Z"
   },
   {
    "duration": 0,
    "start_time": "2023-05-26T16:23:46.171Z"
   },
   {
    "duration": 0,
    "start_time": "2023-05-26T16:23:46.172Z"
   },
   {
    "duration": 0,
    "start_time": "2023-05-26T16:23:46.174Z"
   },
   {
    "duration": 0,
    "start_time": "2023-05-26T16:23:46.175Z"
   },
   {
    "duration": 0,
    "start_time": "2023-05-26T16:23:46.176Z"
   },
   {
    "duration": 0,
    "start_time": "2023-05-26T16:23:46.217Z"
   },
   {
    "duration": 0,
    "start_time": "2023-05-26T16:23:46.219Z"
   },
   {
    "duration": 0,
    "start_time": "2023-05-26T16:23:46.220Z"
   },
   {
    "duration": 14,
    "start_time": "2023-05-26T16:33:29.606Z"
   },
   {
    "duration": 17,
    "start_time": "2023-05-26T16:33:55.010Z"
   },
   {
    "duration": 15,
    "start_time": "2023-05-26T16:37:00.299Z"
   },
   {
    "duration": 125,
    "start_time": "2023-05-26T16:39:55.232Z"
   },
   {
    "duration": 1898,
    "start_time": "2023-05-26T16:40:02.496Z"
   },
   {
    "duration": 578,
    "start_time": "2023-05-26T16:43:17.594Z"
   },
   {
    "duration": 836,
    "start_time": "2023-05-26T16:43:31.199Z"
   },
   {
    "duration": 692,
    "start_time": "2023-05-26T16:43:39.847Z"
   },
   {
    "duration": 792,
    "start_time": "2023-05-26T16:46:09.124Z"
   },
   {
    "duration": 684,
    "start_time": "2023-05-26T16:46:42.279Z"
   },
   {
    "duration": 817,
    "start_time": "2023-05-26T16:47:10.780Z"
   },
   {
    "duration": 71,
    "start_time": "2023-05-26T16:52:40.693Z"
   },
   {
    "duration": 1184,
    "start_time": "2023-05-26T16:52:55.100Z"
   },
   {
    "duration": 1187,
    "start_time": "2023-05-26T16:53:05.472Z"
   },
   {
    "duration": 1288,
    "start_time": "2023-05-26T16:53:57.646Z"
   },
   {
    "duration": 1350,
    "start_time": "2023-05-26T16:55:25.488Z"
   },
   {
    "duration": 729,
    "start_time": "2023-05-26T16:55:26.840Z"
   },
   {
    "duration": 3,
    "start_time": "2023-05-26T16:55:27.570Z"
   },
   {
    "duration": 617,
    "start_time": "2023-05-26T16:55:27.575Z"
   },
   {
    "duration": 3,
    "start_time": "2023-05-26T16:55:28.193Z"
   },
   {
    "duration": 7,
    "start_time": "2023-05-26T16:55:28.197Z"
   },
   {
    "duration": 14,
    "start_time": "2023-05-26T16:55:28.205Z"
   },
   {
    "duration": 14,
    "start_time": "2023-05-26T16:55:28.221Z"
   },
   {
    "duration": 26,
    "start_time": "2023-05-26T16:55:28.236Z"
   },
   {
    "duration": 11,
    "start_time": "2023-05-26T16:55:28.265Z"
   },
   {
    "duration": 242,
    "start_time": "2023-05-26T16:55:28.278Z"
   },
   {
    "duration": 1041,
    "start_time": "2023-05-26T16:55:28.521Z"
   },
   {
    "duration": 1401,
    "start_time": "2023-05-26T16:55:29.617Z"
   },
   {
    "duration": 1633,
    "start_time": "2023-05-26T16:55:31.020Z"
   },
   {
    "duration": 1388,
    "start_time": "2023-05-26T16:55:32.654Z"
   },
   {
    "duration": 0,
    "start_time": "2023-05-26T16:55:34.044Z"
   },
   {
    "duration": 0,
    "start_time": "2023-05-26T16:55:34.045Z"
   },
   {
    "duration": 0,
    "start_time": "2023-05-26T16:55:34.046Z"
   },
   {
    "duration": 0,
    "start_time": "2023-05-26T16:55:34.047Z"
   },
   {
    "duration": 0,
    "start_time": "2023-05-26T16:55:34.048Z"
   },
   {
    "duration": 0,
    "start_time": "2023-05-26T16:55:34.049Z"
   },
   {
    "duration": 0,
    "start_time": "2023-05-26T16:55:34.050Z"
   },
   {
    "duration": 0,
    "start_time": "2023-05-26T16:55:34.050Z"
   },
   {
    "duration": 0,
    "start_time": "2023-05-26T16:55:34.051Z"
   },
   {
    "duration": 0,
    "start_time": "2023-05-26T16:55:34.052Z"
   },
   {
    "duration": 0,
    "start_time": "2023-05-26T16:55:34.052Z"
   },
   {
    "duration": 0,
    "start_time": "2023-05-26T16:55:34.053Z"
   },
   {
    "duration": 0,
    "start_time": "2023-05-26T16:55:34.054Z"
   },
   {
    "duration": 0,
    "start_time": "2023-05-26T16:55:34.055Z"
   },
   {
    "duration": 0,
    "start_time": "2023-05-26T16:55:34.056Z"
   },
   {
    "duration": 0,
    "start_time": "2023-05-26T16:55:34.057Z"
   },
   {
    "duration": 0,
    "start_time": "2023-05-26T16:55:34.058Z"
   },
   {
    "duration": 0,
    "start_time": "2023-05-26T16:55:34.058Z"
   },
   {
    "duration": 0,
    "start_time": "2023-05-26T16:55:34.060Z"
   },
   {
    "duration": 0,
    "start_time": "2023-05-26T16:55:34.061Z"
   },
   {
    "duration": 5,
    "start_time": "2023-05-26T16:56:14.287Z"
   },
   {
    "duration": 15,
    "start_time": "2023-05-26T16:56:36.780Z"
   },
   {
    "duration": 33,
    "start_time": "2023-05-26T17:00:48.493Z"
   },
   {
    "duration": 10,
    "start_time": "2023-05-26T17:02:36.734Z"
   },
   {
    "duration": 744,
    "start_time": "2023-05-26T17:10:12.022Z"
   },
   {
    "duration": 55,
    "start_time": "2023-05-26T17:13:54.874Z"
   },
   {
    "duration": 321,
    "start_time": "2023-05-26T17:15:36.631Z"
   },
   {
    "duration": 442,
    "start_time": "2023-05-26T17:16:06.936Z"
   },
   {
    "duration": 15,
    "start_time": "2023-05-26T17:19:44.149Z"
   },
   {
    "duration": 9,
    "start_time": "2023-05-26T17:20:03.682Z"
   },
   {
    "duration": 403,
    "start_time": "2023-05-26T17:20:15.173Z"
   },
   {
    "duration": 405,
    "start_time": "2023-05-26T17:20:28.699Z"
   },
   {
    "duration": 415,
    "start_time": "2023-05-26T17:22:11.294Z"
   },
   {
    "duration": 369,
    "start_time": "2023-05-26T17:23:17.738Z"
   },
   {
    "duration": 467,
    "start_time": "2023-05-26T17:24:25.377Z"
   },
   {
    "duration": 433,
    "start_time": "2023-05-26T17:24:52.110Z"
   },
   {
    "duration": 451,
    "start_time": "2023-05-26T17:27:19.602Z"
   },
   {
    "duration": 511,
    "start_time": "2023-05-26T17:27:28.537Z"
   },
   {
    "duration": 463,
    "start_time": "2023-05-26T17:27:33.378Z"
   },
   {
    "duration": 438,
    "start_time": "2023-05-26T17:28:06.568Z"
   },
   {
    "duration": 447,
    "start_time": "2023-05-26T17:28:14.210Z"
   },
   {
    "duration": 423,
    "start_time": "2023-05-26T17:28:20.026Z"
   },
   {
    "duration": 5,
    "start_time": "2023-05-26T17:32:09.543Z"
   },
   {
    "duration": 5,
    "start_time": "2023-05-26T17:32:11.130Z"
   },
   {
    "duration": 5,
    "start_time": "2023-05-26T17:32:11.854Z"
   },
   {
    "duration": 5,
    "start_time": "2023-05-26T17:32:12.798Z"
   },
   {
    "duration": 1417,
    "start_time": "2023-05-26T17:32:15.801Z"
   },
   {
    "duration": 5,
    "start_time": "2023-05-26T19:05:55.904Z"
   },
   {
    "duration": 4,
    "start_time": "2023-05-26T19:05:56.808Z"
   },
   {
    "duration": 5,
    "start_time": "2023-05-26T19:05:57.602Z"
   },
   {
    "duration": 4,
    "start_time": "2023-05-26T19:05:58.427Z"
   },
   {
    "duration": 1376,
    "start_time": "2023-05-26T19:06:02.826Z"
   },
   {
    "duration": 13,
    "start_time": "2023-05-26T19:11:51.720Z"
   },
   {
    "duration": 8,
    "start_time": "2023-05-26T19:12:32.879Z"
   },
   {
    "duration": 4,
    "start_time": "2023-05-26T19:13:12.808Z"
   },
   {
    "duration": 5,
    "start_time": "2023-05-26T19:13:14.135Z"
   },
   {
    "duration": 5,
    "start_time": "2023-05-26T19:13:15.086Z"
   },
   {
    "duration": 4,
    "start_time": "2023-05-26T19:13:15.943Z"
   },
   {
    "duration": 1406,
    "start_time": "2023-05-26T19:13:19.732Z"
   },
   {
    "duration": 4,
    "start_time": "2023-05-26T19:15:06.186Z"
   },
   {
    "duration": 4,
    "start_time": "2023-05-26T19:15:07.587Z"
   },
   {
    "duration": 5,
    "start_time": "2023-05-26T19:15:08.200Z"
   },
   {
    "duration": 4,
    "start_time": "2023-05-26T19:15:08.784Z"
   },
   {
    "duration": 1446,
    "start_time": "2023-05-26T19:15:10.383Z"
   },
   {
    "duration": 108,
    "start_time": "2023-05-26T19:31:56.566Z"
   },
   {
    "duration": 3,
    "start_time": "2023-05-26T19:33:35.425Z"
   },
   {
    "duration": 12,
    "start_time": "2023-05-26T19:33:44.711Z"
   },
   {
    "duration": 6,
    "start_time": "2023-05-26T19:33:47.178Z"
   },
   {
    "duration": 7,
    "start_time": "2023-05-26T19:33:49.896Z"
   },
   {
    "duration": 3,
    "start_time": "2023-05-26T19:33:52.015Z"
   },
   {
    "duration": 2,
    "start_time": "2023-05-26T19:33:52.451Z"
   },
   {
    "duration": 13,
    "start_time": "2023-05-26T19:33:54.797Z"
   },
   {
    "duration": 2,
    "start_time": "2023-05-26T19:33:57.990Z"
   },
   {
    "duration": 2604,
    "start_time": "2023-05-26T19:33:58.418Z"
   },
   {
    "duration": 26537,
    "start_time": "2023-05-26T19:34:02.394Z"
   },
   {
    "duration": 2402,
    "start_time": "2023-05-26T19:34:49.820Z"
   },
   {
    "duration": 27250,
    "start_time": "2023-05-26T19:37:52.648Z"
   },
   {
    "duration": 92,
    "start_time": "2023-05-26T19:38:28.882Z"
   },
   {
    "duration": 27720,
    "start_time": "2023-05-26T19:39:15.206Z"
   },
   {
    "duration": 27960,
    "start_time": "2023-05-26T19:40:10.614Z"
   },
   {
    "duration": 27297,
    "start_time": "2023-05-26T19:41:02.834Z"
   },
   {
    "duration": 572567,
    "start_time": "2023-05-26T19:48:55.864Z"
   },
   {
    "duration": 35885,
    "start_time": "2023-05-26T19:59:24.385Z"
   },
   {
    "duration": 21067,
    "start_time": "2023-05-26T20:00:32.600Z"
   },
   {
    "duration": 11329,
    "start_time": "2023-05-26T20:03:31.724Z"
   },
   {
    "duration": 8,
    "start_time": "2023-05-26T20:08:04.696Z"
   },
   {
    "duration": 9,
    "start_time": "2023-05-26T20:09:26.916Z"
   },
   {
    "duration": 59,
    "start_time": "2023-06-01T10:01:38.278Z"
   },
   {
    "duration": 1744,
    "start_time": "2023-06-01T10:01:46.706Z"
   },
   {
    "duration": 3513,
    "start_time": "2023-06-01T10:01:48.452Z"
   },
   {
    "duration": 3,
    "start_time": "2023-06-01T10:01:51.967Z"
   },
   {
    "duration": 768,
    "start_time": "2023-06-01T10:01:51.973Z"
   },
   {
    "duration": 14,
    "start_time": "2023-06-01T10:01:52.743Z"
   },
   {
    "duration": 28,
    "start_time": "2023-06-01T10:01:52.759Z"
   },
   {
    "duration": 15,
    "start_time": "2023-06-01T10:01:52.789Z"
   },
   {
    "duration": 9,
    "start_time": "2023-06-01T10:01:52.806Z"
   },
   {
    "duration": 43,
    "start_time": "2023-06-01T10:01:52.816Z"
   },
   {
    "duration": 29,
    "start_time": "2023-06-01T10:01:52.863Z"
   },
   {
    "duration": 236,
    "start_time": "2023-06-01T10:01:52.895Z"
   },
   {
    "duration": 974,
    "start_time": "2023-06-01T10:01:53.133Z"
   },
   {
    "duration": 864,
    "start_time": "2023-06-01T10:01:54.109Z"
   },
   {
    "duration": 998,
    "start_time": "2023-06-01T10:01:54.976Z"
   },
   {
    "duration": 11,
    "start_time": "2023-06-01T10:01:55.976Z"
   },
   {
    "duration": 498,
    "start_time": "2023-06-01T10:01:55.989Z"
   },
   {
    "duration": 5,
    "start_time": "2023-06-01T10:01:56.489Z"
   },
   {
    "duration": 5,
    "start_time": "2023-06-01T10:01:56.496Z"
   },
   {
    "duration": 11,
    "start_time": "2023-06-01T10:01:56.502Z"
   },
   {
    "duration": 6,
    "start_time": "2023-06-01T10:01:56.515Z"
   },
   {
    "duration": 6,
    "start_time": "2023-06-01T10:01:56.523Z"
   },
   {
    "duration": 1695,
    "start_time": "2023-06-01T10:01:56.531Z"
   },
   {
    "duration": 14,
    "start_time": "2023-06-01T10:01:58.227Z"
   },
   {
    "duration": 24,
    "start_time": "2023-06-01T10:01:58.243Z"
   },
   {
    "duration": 11,
    "start_time": "2023-06-01T10:01:58.269Z"
   },
   {
    "duration": 6,
    "start_time": "2023-06-01T10:01:58.281Z"
   },
   {
    "duration": 7,
    "start_time": "2023-06-01T10:01:58.289Z"
   },
   {
    "duration": 16,
    "start_time": "2023-06-01T10:01:58.299Z"
   },
   {
    "duration": 19,
    "start_time": "2023-06-01T10:01:58.317Z"
   },
   {
    "duration": 2824,
    "start_time": "2023-06-01T10:01:58.338Z"
   },
   {
    "duration": 26593,
    "start_time": "2023-06-01T10:02:01.165Z"
   },
   {
    "duration": 505113,
    "start_time": "2023-06-01T10:02:27.760Z"
   },
   {
    "duration": 9717,
    "start_time": "2023-06-01T10:10:52.875Z"
   },
   {
    "duration": 11,
    "start_time": "2023-06-01T10:11:02.594Z"
   },
   {
    "duration": 1631,
    "start_time": "2023-06-01T10:11:02.608Z"
   },
   {
    "duration": 1651,
    "start_time": "2023-06-01T10:15:31.810Z"
   },
   {
    "duration": 8,
    "start_time": "2023-10-24T15:48:23.092Z"
   },
   {
    "duration": 42,
    "start_time": "2023-10-24T15:48:26.086Z"
   },
   {
    "duration": 1476,
    "start_time": "2023-10-24T15:48:35.095Z"
   },
   {
    "duration": 3779,
    "start_time": "2023-10-24T15:48:36.574Z"
   },
   {
    "duration": 3,
    "start_time": "2023-10-24T15:48:40.355Z"
   },
   {
    "duration": 745,
    "start_time": "2023-10-24T15:48:40.359Z"
   },
   {
    "duration": 3,
    "start_time": "2023-10-24T15:48:41.106Z"
   },
   {
    "duration": 33,
    "start_time": "2023-10-24T15:48:41.110Z"
   },
   {
    "duration": 12,
    "start_time": "2023-10-24T15:48:41.145Z"
   },
   {
    "duration": 5,
    "start_time": "2023-10-24T15:48:41.159Z"
   },
   {
    "duration": 22,
    "start_time": "2023-10-24T15:48:41.166Z"
   },
   {
    "duration": 11,
    "start_time": "2023-10-24T15:48:41.190Z"
   },
   {
    "duration": 233,
    "start_time": "2023-10-24T15:48:41.203Z"
   },
   {
    "duration": 937,
    "start_time": "2023-10-24T15:48:41.443Z"
   },
   {
    "duration": 895,
    "start_time": "2023-10-24T15:48:42.382Z"
   },
   {
    "duration": 978,
    "start_time": "2023-10-24T15:48:43.280Z"
   },
   {
    "duration": 14,
    "start_time": "2023-10-24T15:48:44.260Z"
   },
   {
    "duration": 523,
    "start_time": "2023-10-24T15:48:44.276Z"
   },
   {
    "duration": 5,
    "start_time": "2023-10-24T15:48:44.800Z"
   },
   {
    "duration": 16,
    "start_time": "2023-10-24T15:48:44.806Z"
   },
   {
    "duration": 25,
    "start_time": "2023-10-24T15:48:44.824Z"
   },
   {
    "duration": 33,
    "start_time": "2023-10-24T15:48:44.851Z"
   },
   {
    "duration": 31,
    "start_time": "2023-10-24T15:48:44.885Z"
   },
   {
    "duration": 1632,
    "start_time": "2023-10-24T15:48:44.917Z"
   },
   {
    "duration": 14,
    "start_time": "2023-10-24T15:48:46.552Z"
   },
   {
    "duration": 31,
    "start_time": "2023-10-24T15:48:46.568Z"
   },
   {
    "duration": 24,
    "start_time": "2023-10-24T15:48:46.600Z"
   },
   {
    "duration": 6,
    "start_time": "2023-10-24T15:48:46.626Z"
   },
   {
    "duration": 16,
    "start_time": "2023-10-24T15:48:46.633Z"
   },
   {
    "duration": 35,
    "start_time": "2023-10-24T15:48:46.650Z"
   },
   {
    "duration": 11,
    "start_time": "2023-10-24T15:48:46.686Z"
   },
   {
    "duration": 4547,
    "start_time": "2023-10-24T15:48:46.698Z"
   },
   {
    "duration": 1519,
    "start_time": "2023-10-24T15:48:59.705Z"
   },
   {
    "duration": 898,
    "start_time": "2023-10-24T15:49:01.226Z"
   },
   {
    "duration": 4,
    "start_time": "2023-10-24T15:49:02.127Z"
   },
   {
    "duration": 816,
    "start_time": "2023-10-24T15:49:02.133Z"
   },
   {
    "duration": 3,
    "start_time": "2023-10-24T15:49:02.951Z"
   },
   {
    "duration": 11,
    "start_time": "2023-10-24T15:49:02.956Z"
   },
   {
    "duration": 7,
    "start_time": "2023-10-24T15:49:02.969Z"
   },
   {
    "duration": 5,
    "start_time": "2023-10-24T15:49:02.978Z"
   },
   {
    "duration": 21,
    "start_time": "2023-10-24T15:49:02.984Z"
   },
   {
    "duration": 43,
    "start_time": "2023-10-24T15:49:03.007Z"
   },
   {
    "duration": 273,
    "start_time": "2023-10-24T15:49:03.052Z"
   },
   {
    "duration": 1044,
    "start_time": "2023-10-24T15:49:03.327Z"
   },
   {
    "duration": 817,
    "start_time": "2023-10-24T15:49:04.374Z"
   },
   {
    "duration": 941,
    "start_time": "2023-10-24T15:49:05.192Z"
   },
   {
    "duration": 18,
    "start_time": "2023-10-24T15:49:06.135Z"
   },
   {
    "duration": 472,
    "start_time": "2023-10-24T15:49:06.155Z"
   },
   {
    "duration": 5,
    "start_time": "2023-10-24T15:49:06.628Z"
   },
   {
    "duration": 21,
    "start_time": "2023-10-24T15:49:06.634Z"
   },
   {
    "duration": 15,
    "start_time": "2023-10-24T15:49:06.658Z"
   },
   {
    "duration": 15,
    "start_time": "2023-10-24T15:49:06.675Z"
   },
   {
    "duration": 10,
    "start_time": "2023-10-24T15:49:06.692Z"
   },
   {
    "duration": 1578,
    "start_time": "2023-10-24T15:49:06.703Z"
   },
   {
    "duration": 13,
    "start_time": "2023-10-24T15:49:08.283Z"
   },
   {
    "duration": 41,
    "start_time": "2023-10-24T15:49:08.298Z"
   },
   {
    "duration": 21,
    "start_time": "2023-10-24T15:49:08.341Z"
   },
   {
    "duration": 22,
    "start_time": "2023-10-24T15:49:08.364Z"
   },
   {
    "duration": 18,
    "start_time": "2023-10-24T15:49:08.388Z"
   },
   {
    "duration": 13,
    "start_time": "2023-10-24T15:49:08.409Z"
   },
   {
    "duration": 33,
    "start_time": "2023-10-24T15:49:08.423Z"
   },
   {
    "duration": 5496,
    "start_time": "2023-10-24T15:49:08.459Z"
   },
   {
    "duration": 26789,
    "start_time": "2023-10-24T15:49:13.960Z"
   },
   {
    "duration": 1511,
    "start_time": "2023-10-24T15:54:12.438Z"
   },
   {
    "duration": 887,
    "start_time": "2023-10-24T15:54:13.950Z"
   },
   {
    "duration": 6,
    "start_time": "2023-10-24T15:54:14.839Z"
   },
   {
    "duration": 731,
    "start_time": "2023-10-24T15:54:14.847Z"
   },
   {
    "duration": 2,
    "start_time": "2023-10-24T15:54:15.580Z"
   },
   {
    "duration": 20,
    "start_time": "2023-10-24T15:54:15.584Z"
   },
   {
    "duration": 4,
    "start_time": "2023-10-24T15:54:15.606Z"
   },
   {
    "duration": 7,
    "start_time": "2023-10-24T15:54:15.612Z"
   },
   {
    "duration": 37,
    "start_time": "2023-10-24T15:54:15.620Z"
   },
   {
    "duration": 13,
    "start_time": "2023-10-24T15:54:15.662Z"
   },
   {
    "duration": 250,
    "start_time": "2023-10-24T15:54:15.677Z"
   },
   {
    "duration": 951,
    "start_time": "2023-10-24T15:54:15.929Z"
   },
   {
    "duration": 784,
    "start_time": "2023-10-24T15:54:16.882Z"
   },
   {
    "duration": 845,
    "start_time": "2023-10-24T15:54:17.668Z"
   },
   {
    "duration": 10,
    "start_time": "2023-10-24T15:54:18.515Z"
   },
   {
    "duration": 522,
    "start_time": "2023-10-24T15:54:18.526Z"
   },
   {
    "duration": 6,
    "start_time": "2023-10-24T15:54:19.050Z"
   },
   {
    "duration": 20,
    "start_time": "2023-10-24T15:54:19.057Z"
   },
   {
    "duration": 20,
    "start_time": "2023-10-24T15:54:19.078Z"
   },
   {
    "duration": 22,
    "start_time": "2023-10-24T15:54:19.099Z"
   },
   {
    "duration": 27,
    "start_time": "2023-10-24T15:54:19.122Z"
   },
   {
    "duration": 1456,
    "start_time": "2023-10-24T15:54:19.150Z"
   },
   {
    "duration": 13,
    "start_time": "2023-10-24T15:54:20.607Z"
   },
   {
    "duration": 38,
    "start_time": "2023-10-24T15:54:20.621Z"
   },
   {
    "duration": 31,
    "start_time": "2023-10-24T15:54:20.661Z"
   },
   {
    "duration": 47,
    "start_time": "2023-10-24T15:54:20.694Z"
   },
   {
    "duration": 27,
    "start_time": "2023-10-24T15:54:20.742Z"
   },
   {
    "duration": 50,
    "start_time": "2023-10-24T15:54:20.774Z"
   },
   {
    "duration": 33,
    "start_time": "2023-10-24T15:54:20.825Z"
   },
   {
    "duration": 5686,
    "start_time": "2023-10-24T15:54:20.860Z"
   },
   {
    "duration": 26001,
    "start_time": "2023-10-24T15:54:26.548Z"
   },
   {
    "duration": 1594,
    "start_time": "2023-10-24T15:55:02.337Z"
   },
   {
    "duration": 977,
    "start_time": "2023-10-24T15:55:03.933Z"
   },
   {
    "duration": 3,
    "start_time": "2023-10-24T15:55:04.912Z"
   },
   {
    "duration": 795,
    "start_time": "2023-10-24T15:55:04.916Z"
   },
   {
    "duration": 3,
    "start_time": "2023-10-24T15:55:05.713Z"
   },
   {
    "duration": 57,
    "start_time": "2023-10-24T15:55:05.718Z"
   },
   {
    "duration": 42,
    "start_time": "2023-10-24T15:55:05.777Z"
   },
   {
    "duration": 20,
    "start_time": "2023-10-24T15:55:05.820Z"
   },
   {
    "duration": 45,
    "start_time": "2023-10-24T15:55:05.842Z"
   },
   {
    "duration": 87,
    "start_time": "2023-10-24T15:55:05.889Z"
   },
   {
    "duration": 258,
    "start_time": "2023-10-24T15:55:05.978Z"
   },
   {
    "duration": 980,
    "start_time": "2023-10-24T15:55:06.238Z"
   },
   {
    "duration": 772,
    "start_time": "2023-10-24T15:55:07.220Z"
   },
   {
    "duration": 879,
    "start_time": "2023-10-24T15:55:07.994Z"
   },
   {
    "duration": 11,
    "start_time": "2023-10-24T15:55:08.875Z"
   },
   {
    "duration": 548,
    "start_time": "2023-10-24T15:55:08.888Z"
   },
   {
    "duration": 9,
    "start_time": "2023-10-24T15:55:09.438Z"
   },
   {
    "duration": 6,
    "start_time": "2023-10-24T15:55:09.449Z"
   },
   {
    "duration": 6,
    "start_time": "2023-10-24T15:55:09.457Z"
   },
   {
    "duration": 11,
    "start_time": "2023-10-24T15:55:09.464Z"
   },
   {
    "duration": 15,
    "start_time": "2023-10-24T15:55:09.477Z"
   },
   {
    "duration": 1676,
    "start_time": "2023-10-24T15:55:09.494Z"
   },
   {
    "duration": 14,
    "start_time": "2023-10-24T15:55:11.172Z"
   },
   {
    "duration": 8,
    "start_time": "2023-10-24T15:55:11.187Z"
   },
   {
    "duration": 14,
    "start_time": "2023-10-24T15:55:11.197Z"
   },
   {
    "duration": 23,
    "start_time": "2023-10-24T15:55:11.213Z"
   },
   {
    "duration": 21,
    "start_time": "2023-10-24T15:55:11.237Z"
   },
   {
    "duration": 19,
    "start_time": "2023-10-24T15:55:11.260Z"
   },
   {
    "duration": 22,
    "start_time": "2023-10-24T15:55:11.281Z"
   },
   {
    "duration": 2647,
    "start_time": "2023-10-24T15:55:11.305Z"
   },
   {
    "duration": 26354,
    "start_time": "2023-10-24T15:55:13.954Z"
   },
   {
    "duration": 524862,
    "start_time": "2023-10-24T15:55:40.310Z"
   },
   {
    "duration": 10239,
    "start_time": "2023-10-24T16:04:25.174Z"
   },
   {
    "duration": 11,
    "start_time": "2023-10-24T16:04:35.416Z"
   }
  ],
  "kernelspec": {
   "display_name": "Python 3 (ipykernel)",
   "language": "python",
   "name": "python3"
  },
  "language_info": {
   "codemirror_mode": {
    "name": "ipython",
    "version": 3
   },
   "file_extension": ".py",
   "mimetype": "text/x-python",
   "name": "python",
   "nbconvert_exporter": "python",
   "pygments_lexer": "ipython3",
   "version": "3.9.5"
  },
  "toc": {
   "base_numbering": 1,
   "nav_menu": {},
   "number_sections": true,
   "sideBar": true,
   "skip_h1_title": true,
   "title_cell": "Содержание",
   "title_sidebar": "Contents",
   "toc_cell": true,
   "toc_position": {
    "height": "696.364px",
    "left": "137px",
    "top": "110.782px",
    "width": "223.75px"
   },
   "toc_section_display": true,
   "toc_window_display": true
  }
 },
 "nbformat": 4,
 "nbformat_minor": 2
}
