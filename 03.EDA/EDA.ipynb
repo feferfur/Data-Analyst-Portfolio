{
 "cells": [
  {
   "cell_type": "markdown",
   "metadata": {},
   "source": [
    "# Исследование объявлений о продаже квартир\n",
    "\n",
    "В вашем распоряжении данные сервиса Яндекс.Недвижимость — архив объявлений о продаже квартир в Санкт-Петербурге и соседних населённых пунктов за несколько лет. Нужно научиться определять рыночную стоимость объектов недвижимости. Ваша задача — установить параметры. Это позволит построить автоматизированную систему: она отследит аномалии и мошенническую деятельность. \n",
    "\n",
    "По каждой квартире на продажу доступны два вида данных. Первые вписаны пользователем, вторые — получены автоматически на основе картографических данных. Например, расстояние до центра, аэропорта, ближайшего парка и водоёма. "
   ]
  },
  {
   "cell_type": "markdown",
   "metadata": {},
   "source": [
    "### Откройте файл с данными и изучите общую информацию. "
   ]
  },
  {
   "cell_type": "markdown",
   "metadata": {},
   "source": [
    "#### Импортируем библиотеки"
   ]
  },
  {
   "cell_type": "code",
   "execution_count": 1,
   "metadata": {},
   "outputs": [],
   "source": [
    "import pandas as pd\n",
    "import matplotlib.pyplot as plt"
   ]
  },
  {
   "cell_type": "markdown",
   "metadata": {},
   "source": [
    "#### Познакомимся с файлом"
   ]
  },
  {
   "cell_type": "code",
   "execution_count": 2,
   "metadata": {},
   "outputs": [],
   "source": [
    "pd.set_option('display.max_columns', None)"
   ]
  },
  {
   "cell_type": "code",
   "execution_count": 3,
   "metadata": {},
   "outputs": [
    {
     "data": {
      "text/html": [
       "<div>\n",
       "<style scoped>\n",
       "    .dataframe tbody tr th:only-of-type {\n",
       "        vertical-align: middle;\n",
       "    }\n",
       "\n",
       "    .dataframe tbody tr th {\n",
       "        vertical-align: top;\n",
       "    }\n",
       "\n",
       "    .dataframe thead th {\n",
       "        text-align: right;\n",
       "    }\n",
       "</style>\n",
       "<table border=\"1\" class=\"dataframe\">\n",
       "  <thead>\n",
       "    <tr style=\"text-align: right;\">\n",
       "      <th></th>\n",
       "      <th>total_images</th>\n",
       "      <th>last_price</th>\n",
       "      <th>total_area</th>\n",
       "      <th>first_day_exposition</th>\n",
       "      <th>rooms</th>\n",
       "      <th>ceiling_height</th>\n",
       "      <th>floors_total</th>\n",
       "      <th>living_area</th>\n",
       "      <th>floor</th>\n",
       "      <th>is_apartment</th>\n",
       "      <th>studio</th>\n",
       "      <th>open_plan</th>\n",
       "      <th>kitchen_area</th>\n",
       "      <th>balcony</th>\n",
       "      <th>locality_name</th>\n",
       "      <th>airports_nearest</th>\n",
       "      <th>cityCenters_nearest</th>\n",
       "      <th>parks_around3000</th>\n",
       "      <th>parks_nearest</th>\n",
       "      <th>ponds_around3000</th>\n",
       "      <th>ponds_nearest</th>\n",
       "      <th>days_exposition</th>\n",
       "    </tr>\n",
       "  </thead>\n",
       "  <tbody>\n",
       "    <tr>\n",
       "      <th>0</th>\n",
       "      <td>20</td>\n",
       "      <td>13000000.0</td>\n",
       "      <td>108.00</td>\n",
       "      <td>2019-03-07T00:00:00</td>\n",
       "      <td>3</td>\n",
       "      <td>2.70</td>\n",
       "      <td>16.0</td>\n",
       "      <td>51.00</td>\n",
       "      <td>8</td>\n",
       "      <td>NaN</td>\n",
       "      <td>False</td>\n",
       "      <td>False</td>\n",
       "      <td>25.00</td>\n",
       "      <td>NaN</td>\n",
       "      <td>Санкт-Петербург</td>\n",
       "      <td>18863.0</td>\n",
       "      <td>16028.0</td>\n",
       "      <td>1.0</td>\n",
       "      <td>482.0</td>\n",
       "      <td>2.0</td>\n",
       "      <td>755.0</td>\n",
       "      <td>NaN</td>\n",
       "    </tr>\n",
       "    <tr>\n",
       "      <th>1</th>\n",
       "      <td>7</td>\n",
       "      <td>3350000.0</td>\n",
       "      <td>40.40</td>\n",
       "      <td>2018-12-04T00:00:00</td>\n",
       "      <td>1</td>\n",
       "      <td>NaN</td>\n",
       "      <td>11.0</td>\n",
       "      <td>18.60</td>\n",
       "      <td>1</td>\n",
       "      <td>NaN</td>\n",
       "      <td>False</td>\n",
       "      <td>False</td>\n",
       "      <td>11.00</td>\n",
       "      <td>2.0</td>\n",
       "      <td>посёлок Шушары</td>\n",
       "      <td>12817.0</td>\n",
       "      <td>18603.0</td>\n",
       "      <td>0.0</td>\n",
       "      <td>NaN</td>\n",
       "      <td>0.0</td>\n",
       "      <td>NaN</td>\n",
       "      <td>81.0</td>\n",
       "    </tr>\n",
       "    <tr>\n",
       "      <th>2</th>\n",
       "      <td>10</td>\n",
       "      <td>5196000.0</td>\n",
       "      <td>56.00</td>\n",
       "      <td>2015-08-20T00:00:00</td>\n",
       "      <td>2</td>\n",
       "      <td>NaN</td>\n",
       "      <td>5.0</td>\n",
       "      <td>34.30</td>\n",
       "      <td>4</td>\n",
       "      <td>NaN</td>\n",
       "      <td>False</td>\n",
       "      <td>False</td>\n",
       "      <td>8.30</td>\n",
       "      <td>0.0</td>\n",
       "      <td>Санкт-Петербург</td>\n",
       "      <td>21741.0</td>\n",
       "      <td>13933.0</td>\n",
       "      <td>1.0</td>\n",
       "      <td>90.0</td>\n",
       "      <td>2.0</td>\n",
       "      <td>574.0</td>\n",
       "      <td>558.0</td>\n",
       "    </tr>\n",
       "    <tr>\n",
       "      <th>3</th>\n",
       "      <td>0</td>\n",
       "      <td>64900000.0</td>\n",
       "      <td>159.00</td>\n",
       "      <td>2015-07-24T00:00:00</td>\n",
       "      <td>3</td>\n",
       "      <td>NaN</td>\n",
       "      <td>14.0</td>\n",
       "      <td>NaN</td>\n",
       "      <td>9</td>\n",
       "      <td>NaN</td>\n",
       "      <td>False</td>\n",
       "      <td>False</td>\n",
       "      <td>NaN</td>\n",
       "      <td>0.0</td>\n",
       "      <td>Санкт-Петербург</td>\n",
       "      <td>28098.0</td>\n",
       "      <td>6800.0</td>\n",
       "      <td>2.0</td>\n",
       "      <td>84.0</td>\n",
       "      <td>3.0</td>\n",
       "      <td>234.0</td>\n",
       "      <td>424.0</td>\n",
       "    </tr>\n",
       "    <tr>\n",
       "      <th>4</th>\n",
       "      <td>2</td>\n",
       "      <td>10000000.0</td>\n",
       "      <td>100.00</td>\n",
       "      <td>2018-06-19T00:00:00</td>\n",
       "      <td>2</td>\n",
       "      <td>3.03</td>\n",
       "      <td>14.0</td>\n",
       "      <td>32.00</td>\n",
       "      <td>13</td>\n",
       "      <td>NaN</td>\n",
       "      <td>False</td>\n",
       "      <td>False</td>\n",
       "      <td>41.00</td>\n",
       "      <td>NaN</td>\n",
       "      <td>Санкт-Петербург</td>\n",
       "      <td>31856.0</td>\n",
       "      <td>8098.0</td>\n",
       "      <td>2.0</td>\n",
       "      <td>112.0</td>\n",
       "      <td>1.0</td>\n",
       "      <td>48.0</td>\n",
       "      <td>121.0</td>\n",
       "    </tr>\n",
       "    <tr>\n",
       "      <th>5</th>\n",
       "      <td>10</td>\n",
       "      <td>2890000.0</td>\n",
       "      <td>30.40</td>\n",
       "      <td>2018-09-10T00:00:00</td>\n",
       "      <td>1</td>\n",
       "      <td>NaN</td>\n",
       "      <td>12.0</td>\n",
       "      <td>14.40</td>\n",
       "      <td>5</td>\n",
       "      <td>NaN</td>\n",
       "      <td>False</td>\n",
       "      <td>False</td>\n",
       "      <td>9.10</td>\n",
       "      <td>NaN</td>\n",
       "      <td>городской посёлок Янино-1</td>\n",
       "      <td>NaN</td>\n",
       "      <td>NaN</td>\n",
       "      <td>NaN</td>\n",
       "      <td>NaN</td>\n",
       "      <td>NaN</td>\n",
       "      <td>NaN</td>\n",
       "      <td>55.0</td>\n",
       "    </tr>\n",
       "    <tr>\n",
       "      <th>6</th>\n",
       "      <td>6</td>\n",
       "      <td>3700000.0</td>\n",
       "      <td>37.30</td>\n",
       "      <td>2017-11-02T00:00:00</td>\n",
       "      <td>1</td>\n",
       "      <td>NaN</td>\n",
       "      <td>26.0</td>\n",
       "      <td>10.60</td>\n",
       "      <td>6</td>\n",
       "      <td>NaN</td>\n",
       "      <td>False</td>\n",
       "      <td>False</td>\n",
       "      <td>14.40</td>\n",
       "      <td>1.0</td>\n",
       "      <td>посёлок Парголово</td>\n",
       "      <td>52996.0</td>\n",
       "      <td>19143.0</td>\n",
       "      <td>0.0</td>\n",
       "      <td>NaN</td>\n",
       "      <td>0.0</td>\n",
       "      <td>NaN</td>\n",
       "      <td>155.0</td>\n",
       "    </tr>\n",
       "    <tr>\n",
       "      <th>7</th>\n",
       "      <td>5</td>\n",
       "      <td>7915000.0</td>\n",
       "      <td>71.60</td>\n",
       "      <td>2019-04-18T00:00:00</td>\n",
       "      <td>2</td>\n",
       "      <td>NaN</td>\n",
       "      <td>24.0</td>\n",
       "      <td>NaN</td>\n",
       "      <td>22</td>\n",
       "      <td>NaN</td>\n",
       "      <td>False</td>\n",
       "      <td>False</td>\n",
       "      <td>18.90</td>\n",
       "      <td>2.0</td>\n",
       "      <td>Санкт-Петербург</td>\n",
       "      <td>23982.0</td>\n",
       "      <td>11634.0</td>\n",
       "      <td>0.0</td>\n",
       "      <td>NaN</td>\n",
       "      <td>0.0</td>\n",
       "      <td>NaN</td>\n",
       "      <td>NaN</td>\n",
       "    </tr>\n",
       "    <tr>\n",
       "      <th>8</th>\n",
       "      <td>20</td>\n",
       "      <td>2900000.0</td>\n",
       "      <td>33.16</td>\n",
       "      <td>2018-05-23T00:00:00</td>\n",
       "      <td>1</td>\n",
       "      <td>NaN</td>\n",
       "      <td>27.0</td>\n",
       "      <td>15.43</td>\n",
       "      <td>26</td>\n",
       "      <td>NaN</td>\n",
       "      <td>False</td>\n",
       "      <td>False</td>\n",
       "      <td>8.81</td>\n",
       "      <td>NaN</td>\n",
       "      <td>посёлок Мурино</td>\n",
       "      <td>NaN</td>\n",
       "      <td>NaN</td>\n",
       "      <td>NaN</td>\n",
       "      <td>NaN</td>\n",
       "      <td>NaN</td>\n",
       "      <td>NaN</td>\n",
       "      <td>189.0</td>\n",
       "    </tr>\n",
       "    <tr>\n",
       "      <th>9</th>\n",
       "      <td>18</td>\n",
       "      <td>5400000.0</td>\n",
       "      <td>61.00</td>\n",
       "      <td>2017-02-26T00:00:00</td>\n",
       "      <td>3</td>\n",
       "      <td>2.50</td>\n",
       "      <td>9.0</td>\n",
       "      <td>43.60</td>\n",
       "      <td>7</td>\n",
       "      <td>NaN</td>\n",
       "      <td>False</td>\n",
       "      <td>False</td>\n",
       "      <td>6.50</td>\n",
       "      <td>2.0</td>\n",
       "      <td>Санкт-Петербург</td>\n",
       "      <td>50898.0</td>\n",
       "      <td>15008.0</td>\n",
       "      <td>0.0</td>\n",
       "      <td>NaN</td>\n",
       "      <td>0.0</td>\n",
       "      <td>NaN</td>\n",
       "      <td>289.0</td>\n",
       "    </tr>\n",
       "  </tbody>\n",
       "</table>\n",
       "</div>"
      ],
      "text/plain": [
       "   total_images  last_price  total_area first_day_exposition  rooms  \\\n",
       "0            20  13000000.0      108.00  2019-03-07T00:00:00      3   \n",
       "1             7   3350000.0       40.40  2018-12-04T00:00:00      1   \n",
       "2            10   5196000.0       56.00  2015-08-20T00:00:00      2   \n",
       "3             0  64900000.0      159.00  2015-07-24T00:00:00      3   \n",
       "4             2  10000000.0      100.00  2018-06-19T00:00:00      2   \n",
       "5            10   2890000.0       30.40  2018-09-10T00:00:00      1   \n",
       "6             6   3700000.0       37.30  2017-11-02T00:00:00      1   \n",
       "7             5   7915000.0       71.60  2019-04-18T00:00:00      2   \n",
       "8            20   2900000.0       33.16  2018-05-23T00:00:00      1   \n",
       "9            18   5400000.0       61.00  2017-02-26T00:00:00      3   \n",
       "\n",
       "   ceiling_height  floors_total  living_area  floor is_apartment  studio  \\\n",
       "0            2.70          16.0        51.00      8          NaN   False   \n",
       "1             NaN          11.0        18.60      1          NaN   False   \n",
       "2             NaN           5.0        34.30      4          NaN   False   \n",
       "3             NaN          14.0          NaN      9          NaN   False   \n",
       "4            3.03          14.0        32.00     13          NaN   False   \n",
       "5             NaN          12.0        14.40      5          NaN   False   \n",
       "6             NaN          26.0        10.60      6          NaN   False   \n",
       "7             NaN          24.0          NaN     22          NaN   False   \n",
       "8             NaN          27.0        15.43     26          NaN   False   \n",
       "9            2.50           9.0        43.60      7          NaN   False   \n",
       "\n",
       "   open_plan  kitchen_area  balcony              locality_name  \\\n",
       "0      False         25.00      NaN            Санкт-Петербург   \n",
       "1      False         11.00      2.0             посёлок Шушары   \n",
       "2      False          8.30      0.0            Санкт-Петербург   \n",
       "3      False           NaN      0.0            Санкт-Петербург   \n",
       "4      False         41.00      NaN            Санкт-Петербург   \n",
       "5      False          9.10      NaN  городской посёлок Янино-1   \n",
       "6      False         14.40      1.0          посёлок Парголово   \n",
       "7      False         18.90      2.0            Санкт-Петербург   \n",
       "8      False          8.81      NaN             посёлок Мурино   \n",
       "9      False          6.50      2.0            Санкт-Петербург   \n",
       "\n",
       "   airports_nearest  cityCenters_nearest  parks_around3000  parks_nearest  \\\n",
       "0           18863.0              16028.0               1.0          482.0   \n",
       "1           12817.0              18603.0               0.0            NaN   \n",
       "2           21741.0              13933.0               1.0           90.0   \n",
       "3           28098.0               6800.0               2.0           84.0   \n",
       "4           31856.0               8098.0               2.0          112.0   \n",
       "5               NaN                  NaN               NaN            NaN   \n",
       "6           52996.0              19143.0               0.0            NaN   \n",
       "7           23982.0              11634.0               0.0            NaN   \n",
       "8               NaN                  NaN               NaN            NaN   \n",
       "9           50898.0              15008.0               0.0            NaN   \n",
       "\n",
       "   ponds_around3000  ponds_nearest  days_exposition  \n",
       "0               2.0          755.0              NaN  \n",
       "1               0.0            NaN             81.0  \n",
       "2               2.0          574.0            558.0  \n",
       "3               3.0          234.0            424.0  \n",
       "4               1.0           48.0            121.0  \n",
       "5               NaN            NaN             55.0  \n",
       "6               0.0            NaN            155.0  \n",
       "7               0.0            NaN              NaN  \n",
       "8               NaN            NaN            189.0  \n",
       "9               0.0            NaN            289.0  "
      ]
     },
     "execution_count": 3,
     "metadata": {},
     "output_type": "execute_result"
    }
   ],
   "source": [
    "data = pd.read_csv('/datasets/real_estate_data.csv', sep='\\t')\n",
    "data.head(10)"
   ]
  },
  {
   "cell_type": "code",
   "execution_count": 4,
   "metadata": {},
   "outputs": [
    {
     "name": "stdout",
     "output_type": "stream",
     "text": [
      "<class 'pandas.core.frame.DataFrame'>\n",
      "RangeIndex: 23699 entries, 0 to 23698\n",
      "Data columns (total 22 columns):\n",
      " #   Column                Non-Null Count  Dtype  \n",
      "---  ------                --------------  -----  \n",
      " 0   total_images          23699 non-null  int64  \n",
      " 1   last_price            23699 non-null  float64\n",
      " 2   total_area            23699 non-null  float64\n",
      " 3   first_day_exposition  23699 non-null  object \n",
      " 4   rooms                 23699 non-null  int64  \n",
      " 5   ceiling_height        14504 non-null  float64\n",
      " 6   floors_total          23613 non-null  float64\n",
      " 7   living_area           21796 non-null  float64\n",
      " 8   floor                 23699 non-null  int64  \n",
      " 9   is_apartment          2775 non-null   object \n",
      " 10  studio                23699 non-null  bool   \n",
      " 11  open_plan             23699 non-null  bool   \n",
      " 12  kitchen_area          21421 non-null  float64\n",
      " 13  balcony               12180 non-null  float64\n",
      " 14  locality_name         23650 non-null  object \n",
      " 15  airports_nearest      18157 non-null  float64\n",
      " 16  cityCenters_nearest   18180 non-null  float64\n",
      " 17  parks_around3000      18181 non-null  float64\n",
      " 18  parks_nearest         8079 non-null   float64\n",
      " 19  ponds_around3000      18181 non-null  float64\n",
      " 20  ponds_nearest         9110 non-null   float64\n",
      " 21  days_exposition       20518 non-null  float64\n",
      "dtypes: bool(2), float64(14), int64(3), object(3)\n",
      "memory usage: 3.7+ MB\n"
     ]
    }
   ],
   "source": [
    "data.info()"
   ]
  },
  {
   "cell_type": "markdown",
   "metadata": {},
   "source": [
    "Из общей информации видим, что в данных много пропусков, и некоторые колонки нуждаются в замене типов."
   ]
  },
  {
   "cell_type": "code",
   "execution_count": 5,
   "metadata": {},
   "outputs": [
    {
     "data": {
      "image/png": "[encoded data removed]",
      "text/plain": [
       "<Figure size 1080x1440 with 20 Axes>"
      ]
     },
     "metadata": {
      "needs_background": "light"
     },
     "output_type": "display_data"
    }
   ],
   "source": [
    "data.hist(figsize=(15, 20));"
   ]
  },
  {
   "cell_type": "markdown",
   "metadata": {},
   "source": [
    "В колонках last_price, ceiling_height, total_area, living_area, kitchen_area присутствуют аномальные значения, с которыми стоит разобраться."
   ]
  },
  {
   "cell_type": "markdown",
   "metadata": {},
   "source": [
    "### Предобработка данных"
   ]
  },
  {
   "cell_type": "markdown",
   "metadata": {},
   "source": [
    "#### Удаление пропусков"
   ]
  },
  {
   "cell_type": "code",
   "execution_count": 6,
   "metadata": {},
   "outputs": [
    {
     "data": {
      "text/plain": [
       "total_images                0\n",
       "last_price                  0\n",
       "total_area                  0\n",
       "first_day_exposition        0\n",
       "rooms                       0\n",
       "ceiling_height           9195\n",
       "floors_total               86\n",
       "living_area              1903\n",
       "floor                       0\n",
       "is_apartment            20924\n",
       "studio                      0\n",
       "open_plan                   0\n",
       "kitchen_area             2278\n",
       "balcony                 11519\n",
       "locality_name              49\n",
       "airports_nearest         5542\n",
       "cityCenters_nearest      5519\n",
       "parks_around3000         5518\n",
       "parks_nearest           15620\n",
       "ponds_around3000         5518\n",
       "ponds_nearest           14589\n",
       "days_exposition          3181\n",
       "dtype: int64"
      ]
     },
     "execution_count": 6,
     "metadata": {},
     "output_type": "execute_result"
    }
   ],
   "source": [
    "data.isna().sum()"
   ]
  },
  {
   "cell_type": "markdown",
   "metadata": {},
   "source": [
    "В колонках is_apartment, balcony, parks_around3000 и ponds_around3000 скорее всего отсутствуют значения потому, что квартиры не являются аппартементами, балконов, парков и прудов поблизости нет. Поэтому пропуски в этих столбцах заменим на нули. Логично, что если парков и прудов рядом нет, то и колонки parks_nearest и ponds_nearest остаются пустыми."
   ]
  },
  {
   "cell_type": "code",
   "execution_count": 9,
   "metadata": {},
   "outputs": [
    {
     "data": {
      "text/plain": [
       "total_images                0\n",
       "last_price                  0\n",
       "total_area                  0\n",
       "first_day_exposition        0\n",
       "rooms                       0\n",
       "ceiling_height           9195\n",
       "floors_total               86\n",
       "living_area              1903\n",
       "floor                       0\n",
       "is_apartment                0\n",
       "studio                      0\n",
       "open_plan                   0\n",
       "kitchen_area             2278\n",
       "balcony                     0\n",
       "locality_name              49\n",
       "airports_nearest         5542\n",
       "cityCenters_nearest      5519\n",
       "parks_around3000            0\n",
       "parks_nearest           15620\n",
       "ponds_around3000            0\n",
       "ponds_nearest           14589\n",
       "days_exposition          3181\n",
       "dtype: int64"
      ]
     },
     "execution_count": 9,
     "metadata": {},
     "output_type": "execute_result"
    }
   ],
   "source": [
    "data['is_apartment'] = data['is_apartment'].fillna(False)\n",
    "data['balcony'] = data['balcony'].fillna(0)\n",
    "data['parks_around3000'] = data['parks_around3000'].fillna(0)\n",
    "data['ponds_around3000'] = data['ponds_around3000'].fillna(0)\n",
    "data.isna().sum()"
   ]
  },
  {
   "cell_type": "code",
   "execution_count": 10,
   "metadata": {},
   "outputs": [
    {
     "data": {
      "text/plain": [
       "5458"
      ]
     },
     "execution_count": 10,
     "metadata": {},
     "output_type": "execute_result"
    }
   ],
   "source": [
    "data.query('cityCenters_nearest.isna() and locality_name != \"Санкт-Петербург\"')['cityCenters_nearest'].isna().count()"
   ]
  },
  {
   "cell_type": "markdown",
   "metadata": {},
   "source": [
    "Почти во всех случаях, когда в колонке cityCenters_nearest встречаются пропуски - это данные о квартирах в областных населенных пунктах, до какого центра считать расстояние не понятно, поэтому оставим как есть, но будем иметь в виду."
   ]
  },
  {
   "cell_type": "markdown",
   "metadata": {},
   "source": [
    "В колонке floors_total количество пропусков минимально, их можно удалить."
   ]
  },
  {
   "cell_type": "code",
   "execution_count": 11,
   "metadata": {},
   "outputs": [],
   "source": [
    "data = data.dropna(subset=['floors_total'])"
   ]
  },
  {
   "cell_type": "markdown",
   "metadata": {},
   "source": [
    "В колонках ceiling_height, floors_total, living_area, kitchen_area, locality_name и airports_nearest могли возникнуть пропуски, потому что составитель объявления не указал эти данные, однако, пропуски в колонке days_exposition никак не могут быть связаны с человеческим фактором, поэтому, я делаю ставку на сбои в системе. Таким пропускам не получается найти логичную замену, поэтому оставим их как есть."
   ]
  },
  {
   "cell_type": "markdown",
   "metadata": {},
   "source": [
    "#### Изменение типов данных"
   ]
  },
  {
   "cell_type": "code",
   "execution_count": 12,
   "metadata": {},
   "outputs": [
    {
     "data": {
      "text/plain": [
       "total_images              int64\n",
       "last_price              float64\n",
       "total_area              float64\n",
       "first_day_exposition     object\n",
       "rooms                     int64\n",
       "ceiling_height          float64\n",
       "floors_total            float64\n",
       "living_area             float64\n",
       "floor                     int64\n",
       "is_apartment               bool\n",
       "studio                     bool\n",
       "open_plan                  bool\n",
       "kitchen_area            float64\n",
       "balcony                 float64\n",
       "locality_name            object\n",
       "airports_nearest        float64\n",
       "cityCenters_nearest     float64\n",
       "parks_around3000        float64\n",
       "parks_nearest           float64\n",
       "ponds_around3000        float64\n",
       "ponds_nearest           float64\n",
       "days_exposition         float64\n",
       "dtype: object"
      ]
     },
     "execution_count": 12,
     "metadata": {},
     "output_type": "execute_result"
    }
   ],
   "source": [
    "data.dtypes"
   ]
  },
  {
   "cell_type": "markdown",
   "metadata": {},
   "source": [
    "**- first_day_exposition переведем в тип datetime**  \n",
    "чтобы работать с этим столбцом как с датами\n",
    "\n",
    "**- is_apartment переведем в bool**  \n",
    "здесь либо аппартаменты, либо нет\n",
    "\n",
    "**- floors_total и balcony переведем в int**  \n",
    "количество этажей и балконов - это целочисленные величины"
   ]
  },
  {
   "cell_type": "code",
   "execution_count": 13,
   "metadata": {},
   "outputs": [],
   "source": [
    "data['first_day_exposition'] = pd.to_datetime(data['first_day_exposition'], format='%Y-%m-%dT%H:%M:%S')\n",
    "data['is_apartment'] = data['is_apartment'].replace({1: True, 0: False})\n",
    "data['floors_total'] = data['floors_total'].astype(int)\n",
    "data['balcony'] = data['balcony'].astype(int)"
   ]
  },
  {
   "cell_type": "code",
   "execution_count": 14,
   "metadata": {},
   "outputs": [
    {
     "data": {
      "text/plain": [
       "total_images                     int64\n",
       "last_price                     float64\n",
       "total_area                     float64\n",
       "first_day_exposition    datetime64[ns]\n",
       "rooms                            int64\n",
       "ceiling_height                 float64\n",
       "floors_total                     int64\n",
       "living_area                    float64\n",
       "floor                            int64\n",
       "is_apartment                      bool\n",
       "studio                            bool\n",
       "open_plan                         bool\n",
       "kitchen_area                   float64\n",
       "balcony                          int64\n",
       "locality_name                   object\n",
       "airports_nearest               float64\n",
       "cityCenters_nearest            float64\n",
       "parks_around3000               float64\n",
       "parks_nearest                  float64\n",
       "ponds_around3000               float64\n",
       "ponds_nearest                  float64\n",
       "days_exposition                float64\n",
       "dtype: object"
      ]
     },
     "execution_count": 14,
     "metadata": {},
     "output_type": "execute_result"
    }
   ],
   "source": [
    "data.dtypes"
   ]
  },
  {
   "cell_type": "code",
   "execution_count": null,
   "metadata": {},
   "outputs": [],
   "source": []
  },
  {
   "cell_type": "markdown",
   "metadata": {},
   "source": [
    "#### Удаление дубликатов"
   ]
  },
  {
   "cell_type": "code",
   "execution_count": 15,
   "metadata": {},
   "outputs": [
    {
     "data": {
      "text/plain": [
       "0"
      ]
     },
     "execution_count": 15,
     "metadata": {},
     "output_type": "execute_result"
    }
   ],
   "source": [
    "data.duplicated().sum()"
   ]
  },
  {
   "cell_type": "markdown",
   "metadata": {},
   "source": [
    "Явных дубликатов нет, будем искать неявные"
   ]
  },
  {
   "cell_type": "code",
   "execution_count": 16,
   "metadata": {},
   "outputs": [
    {
     "data": {
      "text/plain": [
       "['Бокситогорск',\n",
       " 'Волосово',\n",
       " 'Волхов',\n",
       " 'Всеволожск',\n",
       " 'Выборг',\n",
       " 'Высоцк',\n",
       " 'Гатчина',\n",
       " 'Зеленогорск',\n",
       " 'Ивангород',\n",
       " 'Каменногорск',\n",
       " 'Кингисепп',\n",
       " 'Кириши',\n",
       " 'Кировск',\n",
       " 'Колпино',\n",
       " 'Коммунар',\n",
       " 'Красное Село',\n",
       " 'Кронштадт',\n",
       " 'Кудрово',\n",
       " 'Лодейное Поле',\n",
       " 'Ломоносов',\n",
       " 'Луга',\n",
       " 'Любань',\n",
       " 'Мурино',\n",
       " 'Никольское',\n",
       " 'Новая Ладога',\n",
       " 'Отрадное',\n",
       " 'Павловск',\n",
       " 'Петергоф',\n",
       " 'Пикалёво',\n",
       " 'Подпорожье',\n",
       " 'Приморск',\n",
       " 'Приозерск',\n",
       " 'Пушкин',\n",
       " 'Санкт-Петербург',\n",
       " 'Светогорск',\n",
       " 'Сертолово',\n",
       " 'Сестрорецк',\n",
       " 'Сланцы',\n",
       " 'Сосновый Бор',\n",
       " 'Сясьстрой',\n",
       " 'Тихвин',\n",
       " 'Тосно',\n",
       " 'Шлиссельбург',\n",
       " 'городской поселок Большая Ижора',\n",
       " 'городской поселок Янино-1',\n",
       " 'городской посёлок Будогощь',\n",
       " 'городской посёлок Виллози',\n",
       " 'городской посёлок Лесогорский',\n",
       " 'городской посёлок Мга',\n",
       " 'городской посёлок Назия',\n",
       " 'городской посёлок Новоселье',\n",
       " 'городской посёлок Павлово',\n",
       " 'городской посёлок Рощино',\n",
       " 'городской посёлок Свирьстрой',\n",
       " 'городской посёлок Советский',\n",
       " 'городской посёлок Фёдоровское',\n",
       " 'городской посёлок Янино-1',\n",
       " 'деревня Агалатово',\n",
       " 'деревня Аро',\n",
       " 'деревня Батово',\n",
       " 'деревня Бегуницы',\n",
       " 'деревня Белогорка',\n",
       " 'деревня Большая Вруда',\n",
       " 'деревня Большая Пустомержа',\n",
       " 'деревня Большие Колпаны',\n",
       " 'деревня Большое Рейзино',\n",
       " 'деревня Большой Сабск',\n",
       " 'деревня Бор',\n",
       " 'деревня Борисова Грива',\n",
       " 'деревня Ваганово',\n",
       " 'деревня Вартемяги',\n",
       " 'деревня Вахнова Кара',\n",
       " 'деревня Выскатка',\n",
       " 'деревня Гарболово',\n",
       " 'деревня Глинка',\n",
       " 'деревня Горбунки',\n",
       " 'деревня Гостилицы',\n",
       " 'деревня Заклинье',\n",
       " 'деревня Заневка',\n",
       " 'деревня Зимитицы',\n",
       " 'деревня Извара',\n",
       " 'деревня Иссад',\n",
       " 'деревня Калитино',\n",
       " 'деревня Кальтино',\n",
       " 'деревня Камышовка',\n",
       " 'деревня Каськово',\n",
       " 'деревня Келози',\n",
       " 'деревня Кипень',\n",
       " 'деревня Кисельня',\n",
       " 'деревня Колтуши',\n",
       " 'деревня Коркино',\n",
       " 'деревня Котлы',\n",
       " 'деревня Кривко',\n",
       " 'деревня Кудрово',\n",
       " 'деревня Кузьмолово',\n",
       " 'деревня Курковицы',\n",
       " 'деревня Куровицы',\n",
       " 'деревня Куттузи',\n",
       " 'деревня Лаврики',\n",
       " 'деревня Лаголово',\n",
       " 'деревня Лампово',\n",
       " 'деревня Лесколово',\n",
       " 'деревня Лопухинка',\n",
       " 'деревня Лупполово',\n",
       " 'деревня Малая Романовка',\n",
       " 'деревня Малое Верево',\n",
       " 'деревня Малое Карлино',\n",
       " 'деревня Малые Колпаны',\n",
       " 'деревня Мануйлово',\n",
       " 'деревня Меньково',\n",
       " 'деревня Мины',\n",
       " 'деревня Мистолово',\n",
       " 'деревня Ненимяки',\n",
       " 'деревня Нижние Осельки',\n",
       " 'деревня Нижняя',\n",
       " 'деревня Низино',\n",
       " 'деревня Новое Девяткино',\n",
       " 'деревня Новолисино',\n",
       " 'деревня Нурма',\n",
       " 'деревня Оржицы',\n",
       " 'деревня Парицы',\n",
       " 'деревня Пельгора',\n",
       " 'деревня Пеники',\n",
       " 'деревня Пижма',\n",
       " 'деревня Пикколово',\n",
       " 'деревня Пудомяги',\n",
       " 'деревня Пустынка',\n",
       " 'деревня Пчева',\n",
       " 'деревня Рабитицы',\n",
       " 'деревня Разбегаево',\n",
       " 'деревня Раздолье',\n",
       " 'деревня Разметелево',\n",
       " 'деревня Рапполово',\n",
       " 'деревня Реброво',\n",
       " 'деревня Русско',\n",
       " 'деревня Сижно',\n",
       " 'деревня Снегирёвка',\n",
       " 'деревня Старая',\n",
       " 'деревня Старая Пустошь',\n",
       " 'деревня Старое Хинколово',\n",
       " 'деревня Старополье',\n",
       " 'деревня Старосиверская',\n",
       " 'деревня Старые Бегуницы',\n",
       " 'деревня Суоранда',\n",
       " 'деревня Сяськелево',\n",
       " 'деревня Тарасово',\n",
       " 'деревня Терпилицы',\n",
       " 'деревня Тихковицы',\n",
       " 'деревня Тойворово',\n",
       " 'деревня Торосово',\n",
       " 'деревня Торошковичи',\n",
       " 'деревня Трубников Бор',\n",
       " 'деревня Фалилеево',\n",
       " 'деревня Фёдоровское',\n",
       " 'деревня Хапо-Ое',\n",
       " 'деревня Хязельки',\n",
       " 'деревня Чудской Бор',\n",
       " 'деревня Шпаньково',\n",
       " 'деревня Щеглово',\n",
       " 'деревня Юкки',\n",
       " 'деревня Ялгино',\n",
       " 'деревня Яльгелево',\n",
       " 'деревня Ям-Тесово',\n",
       " 'коттеджный поселок Кивеннапа Север',\n",
       " 'коттеджный поселок Счастье',\n",
       " 'коттеджный посёлок Лесное',\n",
       " 'поселок Аннино',\n",
       " 'поселок Барышево',\n",
       " 'поселок Бугры',\n",
       " 'поселок Возрождение',\n",
       " 'поселок Войсковицы',\n",
       " 'поселок Володарское',\n",
       " 'поселок Гаврилово',\n",
       " 'поселок Гарболово',\n",
       " 'поселок Гладкое',\n",
       " 'поселок Глажево',\n",
       " 'поселок Глебычево',\n",
       " 'поселок Гончарово',\n",
       " 'поселок Громово',\n",
       " 'поселок Дружноселье',\n",
       " 'поселок Елизаветино',\n",
       " 'поселок Жилгородок',\n",
       " 'поселок Жилпосёлок',\n",
       " 'поселок Житково',\n",
       " 'поселок Заводской',\n",
       " 'поселок Запорожское',\n",
       " 'поселок Зимитицы',\n",
       " 'поселок Ильичёво',\n",
       " 'поселок Калитино',\n",
       " 'поселок Каложицы',\n",
       " 'поселок Кингисеппский',\n",
       " 'поселок Кирпичное',\n",
       " 'поселок Кобралово',\n",
       " 'поселок Кобринское',\n",
       " 'поселок Коммунары',\n",
       " 'поселок Коробицыно',\n",
       " 'поселок Котельский',\n",
       " 'поселок Красная Долина',\n",
       " 'поселок Красносельское',\n",
       " 'поселок Лесное',\n",
       " 'поселок Лисий Нос',\n",
       " 'поселок Лукаши',\n",
       " 'поселок Любань',\n",
       " 'поселок Мельниково',\n",
       " 'поселок Мичуринское',\n",
       " 'поселок Молодцово',\n",
       " 'поселок Мурино',\n",
       " 'поселок Новый Свет',\n",
       " 'поселок Новый Учхоз',\n",
       " 'поселок Оредеж',\n",
       " 'поселок Пансионат Зелёный Бор',\n",
       " 'поселок Первомайское',\n",
       " 'поселок Перово',\n",
       " 'поселок Петровское',\n",
       " 'поселок Победа',\n",
       " 'поселок Поляны',\n",
       " 'поселок Почап',\n",
       " 'поселок Починок',\n",
       " 'поселок Пушное',\n",
       " 'поселок Пчевжа',\n",
       " 'поселок Рабитицы',\n",
       " 'поселок Романовка',\n",
       " 'поселок Ромашки',\n",
       " 'поселок Рябово',\n",
       " 'поселок Севастьяново',\n",
       " 'поселок Селезнёво',\n",
       " 'поселок Сельцо',\n",
       " 'поселок Семиозерье',\n",
       " 'поселок Семрино',\n",
       " 'поселок Серебрянский',\n",
       " 'поселок Совхозный',\n",
       " 'поселок Старая Малукса',\n",
       " 'поселок Стеклянный',\n",
       " 'поселок Сумино',\n",
       " 'поселок Суходолье',\n",
       " 'поселок Тельмана',\n",
       " 'поселок Терволово',\n",
       " 'поселок Торковичи',\n",
       " 'поселок Тёсово-4',\n",
       " 'поселок Углово',\n",
       " 'поселок Усть-Луга',\n",
       " 'поселок Ушаки',\n",
       " 'поселок Цвелодубово',\n",
       " 'поселок Цвылёво',\n",
       " 'поселок городского типа Большая Ижора',\n",
       " 'поселок городского типа Вырица',\n",
       " 'поселок городского типа Дружная Горка',\n",
       " 'поселок городского типа Дубровка',\n",
       " 'поселок городского типа Ефимовский',\n",
       " 'поселок городского типа Кондратьево',\n",
       " 'поселок городского типа Красный Бор',\n",
       " 'поселок городского типа Кузьмоловский',\n",
       " 'поселок городского типа Лебяжье',\n",
       " 'поселок городского типа Лесогорский',\n",
       " 'поселок городского типа Назия',\n",
       " 'поселок городского типа Никольский',\n",
       " 'поселок городского типа Приладожский',\n",
       " 'поселок городского типа Рахья',\n",
       " 'поселок городского типа Рощино',\n",
       " 'поселок городского типа Рябово',\n",
       " 'поселок городского типа Синявино',\n",
       " 'поселок городского типа Советский',\n",
       " 'поселок городского типа Токсово',\n",
       " 'поселок городского типа Форносово',\n",
       " 'поселок городского типа имени Свердлова',\n",
       " 'поселок станции Вещево',\n",
       " 'поселок станции Корнево',\n",
       " 'поселок станции Лужайка',\n",
       " 'поселок станции Приветнинское',\n",
       " 'посёлок Александровская',\n",
       " 'посёлок Алексеевка',\n",
       " 'посёлок Аннино',\n",
       " 'посёлок Белоостров',\n",
       " 'посёлок Бугры',\n",
       " 'посёлок Возрождение',\n",
       " 'посёлок Войскорово',\n",
       " 'посёлок Высокоключевой',\n",
       " 'посёлок Гаврилово',\n",
       " 'посёлок Дзержинского',\n",
       " 'посёлок Жилгородок',\n",
       " 'посёлок Ильичёво',\n",
       " 'посёлок Кикерино',\n",
       " 'посёлок Кобралово',\n",
       " 'посёлок Коробицыно',\n",
       " 'посёлок Левашово',\n",
       " 'посёлок Ленинское',\n",
       " 'посёлок Лисий Нос',\n",
       " 'посёлок Мельниково',\n",
       " 'посёлок Металлострой',\n",
       " 'посёлок Мичуринское',\n",
       " 'посёлок Молодёжное',\n",
       " 'посёлок Мурино',\n",
       " 'посёлок Мыза-Ивановка',\n",
       " 'посёлок Новогорелово',\n",
       " 'посёлок Новый Свет',\n",
       " 'посёлок Пансионат Зелёный Бор',\n",
       " 'посёлок Парголово',\n",
       " 'посёлок Перово',\n",
       " 'посёлок Песочный',\n",
       " 'посёлок Петро-Славянка',\n",
       " 'посёлок Петровское',\n",
       " 'посёлок Платформа 69-й километр',\n",
       " 'посёлок Плодовое',\n",
       " 'посёлок Плоское',\n",
       " 'посёлок Победа',\n",
       " 'посёлок Поляны',\n",
       " 'посёлок Понтонный',\n",
       " 'посёлок Пригородный',\n",
       " 'посёлок Пудость',\n",
       " 'посёлок Репино',\n",
       " 'посёлок Ропша',\n",
       " 'посёлок Сапёрное',\n",
       " 'посёлок Сапёрный',\n",
       " 'посёлок Сосново',\n",
       " 'посёлок Старая Малукса',\n",
       " 'посёлок Стеклянный',\n",
       " 'посёлок Стрельна',\n",
       " 'посёлок Суйда',\n",
       " 'посёлок Сумино',\n",
       " 'посёлок Тельмана',\n",
       " 'посёлок Терволово',\n",
       " 'посёлок Торфяное',\n",
       " 'посёлок Усть-Ижора',\n",
       " 'посёлок Усть-Луга',\n",
       " 'посёлок Форт Красная Горка',\n",
       " 'посёлок Шугозеро',\n",
       " 'посёлок Шушары',\n",
       " 'посёлок Щеглово',\n",
       " 'посёлок городского типа Важины',\n",
       " 'посёлок городского типа Вознесенье',\n",
       " 'посёлок городского типа Вырица',\n",
       " 'посёлок городского типа Красный Бор',\n",
       " 'посёлок городского типа Кузнечное',\n",
       " 'посёлок городского типа Кузьмоловский',\n",
       " 'посёлок городского типа Лебяжье',\n",
       " 'посёлок городского типа Мга',\n",
       " 'посёлок городского типа Павлово',\n",
       " 'посёлок городского типа Рощино',\n",
       " 'посёлок городского типа Рябово',\n",
       " 'посёлок городского типа Сиверский',\n",
       " 'посёлок городского типа Тайцы',\n",
       " 'посёлок городского типа Токсово',\n",
       " 'посёлок городского типа Ульяновка',\n",
       " 'посёлок городского типа Форносово',\n",
       " 'посёлок городского типа имени Морозова',\n",
       " 'посёлок городского типа имени Свердлова',\n",
       " 'посёлок при железнодорожной станции Вещево',\n",
       " 'посёлок при железнодорожной станции Приветнинское',\n",
       " 'посёлок станции Громово',\n",
       " 'посёлок станции Свирь',\n",
       " 'садоводческое некоммерческое товарищество Лесная Поляна',\n",
       " 'садовое товарищество Новая Ропша',\n",
       " 'садовое товарищество Приладожский',\n",
       " 'садовое товарищество Рахья',\n",
       " 'садовое товарищество Садко',\n",
       " 'село Копорье',\n",
       " 'село Никольское',\n",
       " 'село Павлово',\n",
       " 'село Паша',\n",
       " 'село Путилово',\n",
       " 'село Рождествено',\n",
       " 'село Русско-Высоцкое',\n",
       " 'село Старая Ладога',\n",
       " 'село Шум']"
      ]
     },
     "execution_count": 16,
     "metadata": {},
     "output_type": "execute_result"
    }
   ],
   "source": [
    "sorted(data['locality_name'].dropna().unique())"
   ]
  },
  {
   "cell_type": "markdown",
   "metadata": {},
   "source": [
    "\"Поселок\" и \"посёлок\" или \"городской посе(ё)лок\" и \"посе(ё)лок городского типа\" или \"поселок при железнодорожной станции\" и \"поселок станции\" - это неявные дубликаты, приведем их к одному виду."
   ]
  },
  {
   "cell_type": "code",
   "execution_count": 17,
   "metadata": {},
   "outputs": [],
   "source": [
    "data['locality_name'].replace({'посёлок' : 'поселок',\n",
    "                               'городской пос[её]лок' : 'поселок городского типа',\n",
    "                               'пос[её]лок при железнодорожной станции' : 'поселок станции'}, regex=True, inplace=True)"
   ]
  },
  {
   "cell_type": "code",
   "execution_count": null,
   "metadata": {},
   "outputs": [
    {
     "data": {
      "text/plain": [
       "321"
      ]
     },
     "execution_count": 18,
     "metadata": {},
     "output_type": "execute_result"
    }
   ],
   "source": [
    "data.locality_name.nunique()"
   ]
  },
  {
   "cell_type": "code",
   "execution_count": null,
   "metadata": {
    "scrolled": true
   },
   "outputs": [
    {
     "data": {
      "text/plain": [
       "array(['Санкт-Петербург', 'поселок Шушары',\n",
       "       'поселок городского типа Янино-1', 'поселок Парголово',\n",
       "       'поселок Мурино', 'Ломоносов', 'Сертолово', 'Петергоф', 'Пушкин',\n",
       "       'деревня Кудрово', 'Коммунар', 'Колпино',\n",
       "       'поселок городского типа Красный Бор', 'Гатчина',\n",
       "       'деревня Фёдоровское', 'Выборг', 'Кронштадт', 'Кировск',\n",
       "       'деревня Новое Девяткино', 'поселок Металлострой',\n",
       "       'поселок городского типа Лебяжье',\n",
       "       'поселок городского типа Сиверский', 'поселок Молодцово',\n",
       "       'поселок городского типа Кузьмоловский',\n",
       "       'садовое товарищество Новая Ропша', 'Павловск',\n",
       "       'деревня Пикколово', 'Всеволожск', 'Волхов', 'Кингисепп',\n",
       "       'Приозерск', 'Сестрорецк', 'деревня Куттузи', 'поселок Аннино',\n",
       "       'поселок городского типа Ефимовский', 'поселок Плодовое',\n",
       "       'деревня Заклинье', 'поселок Торковичи', 'поселок Первомайское',\n",
       "       'Красное Село', 'поселок Понтонный', 'Сясьстрой', 'деревня Старая',\n",
       "       'деревня Лесколово', 'поселок Новый Свет', 'Сланцы',\n",
       "       'село Путилово', 'Ивангород', 'Мурино', 'Шлиссельбург',\n",
       "       'Никольское', 'Зеленогорск', 'Сосновый Бор', 'деревня Оржицы',\n",
       "       'деревня Кальтино', 'Кудрово', 'поселок Романовка',\n",
       "       'поселок Бугры', 'поселок городского типа Рощино', 'Кириши',\n",
       "       'Луга', 'Волосово', 'Отрадное', 'село Павлово', 'поселок Оредеж',\n",
       "       'село Копорье', 'поселок Молодёжное', 'Тихвин', 'поселок Победа',\n",
       "       'деревня Нурма', 'поселок городского типа Синявино', 'Тосно',\n",
       "       'поселок Стрельна', 'Бокситогорск', 'поселок Александровская',\n",
       "       'деревня Лопухинка', 'Пикалёво', 'поселок Терволово',\n",
       "       'поселок городского типа Советский', 'Подпорожье',\n",
       "       'поселок Петровское', 'поселок городского типа Токсово',\n",
       "       'поселок Сельцо', 'поселок городского типа Вырица',\n",
       "       'деревня Кипень', 'деревня Келози', 'деревня Вартемяги',\n",
       "       'поселок Тельмана', 'поселок Севастьяново',\n",
       "       'поселок городского типа Большая Ижора', nan,\n",
       "       'поселок городского типа Павлово', 'деревня Агалатово',\n",
       "       'поселок Новогорелово', 'поселок городского типа Лесогорский',\n",
       "       'деревня Лаголово', 'поселок Цвелодубово',\n",
       "       'поселок городского типа Рахья', 'деревня Белогорка',\n",
       "       'поселок Заводской', 'поселок городского типа Новоселье',\n",
       "       'деревня Большие Колпаны', 'деревня Горбунки', 'деревня Батово',\n",
       "       'деревня Заневка', 'деревня Иссад', 'Приморск',\n",
       "       'поселок городского типа Фёдоровское', 'деревня Мистолово',\n",
       "       'Новая Ладога', 'поселок Зимитицы', 'поселок Барышево',\n",
       "       'деревня Разметелево', 'поселок городского типа имени Свердлова',\n",
       "       'деревня Пеники', 'поселок Рябово', 'деревня Пудомяги',\n",
       "       'поселок станции Корнево', 'деревня Низино', 'деревня Бегуницы',\n",
       "       'поселок Поляны', 'поселок городского типа Мга',\n",
       "       'поселок Елизаветино', 'поселок городского типа Кузнечное',\n",
       "       'деревня Колтуши', 'поселок Запорожское', 'деревня Гостилицы',\n",
       "       'деревня Малое Карлино', 'поселок Мичуринское',\n",
       "       'поселок городского типа имени Морозова', 'поселок Песочный',\n",
       "       'поселок Сосново', 'деревня Аро', 'поселок Ильичёво',\n",
       "       'поселок городского типа Тайцы', 'деревня Малое Верево',\n",
       "       'деревня Извара', 'поселок станции Вещево', 'село Паша',\n",
       "       'деревня Калитино', 'поселок городского типа Ульяновка',\n",
       "       'деревня Чудской Бор', 'поселок городского типа Дубровка',\n",
       "       'деревня Мины', 'поселок Войсковицы', 'деревня Коркино',\n",
       "       'поселок Ропша', 'поселок городского типа Приладожский',\n",
       "       'поселок Щеглово', 'поселок Гаврилово', 'Лодейное Поле',\n",
       "       'деревня Рабитицы', 'поселок городского типа Никольский',\n",
       "       'деревня Кузьмолово', 'деревня Малые Колпаны',\n",
       "       'поселок Петро-Славянка', 'поселок городского типа Назия',\n",
       "       'поселок Репино', 'поселок Углово', 'поселок Старая Малукса',\n",
       "       'садовое товарищество Рахья', 'деревня Меньково',\n",
       "       'деревня Старые Бегуницы', 'поселок Сапёрный', 'поселок Семрино',\n",
       "       'поселок Глажево', 'поселок Кобринское', 'деревня Гарболово',\n",
       "       'деревня Юкки', 'поселок станции Приветнинское',\n",
       "       'деревня Мануйлово', 'деревня Пчева', 'поселок Цвылёво',\n",
       "       'поселок Мельниково', 'поселок Пудость', 'поселок Усть-Луга',\n",
       "       'Светогорск', 'Любань', 'поселок Селезнёво',\n",
       "       'поселок городского типа Рябово', 'Каменногорск', 'деревня Кривко',\n",
       "       'поселок Глебычево', 'деревня Парицы', 'поселок Жилпоселок',\n",
       "       'поселок Войскорово', 'село Никольское', 'поселок Стеклянный',\n",
       "       'поселок городского типа Важины', 'поселок Мыза-Ивановка',\n",
       "       'село Русско-Высоцкое', 'поселок городского типа Форносово',\n",
       "       'село Старая Ладога', 'поселок Житково',\n",
       "       'поселок городского типа Виллози', 'деревня Лампово',\n",
       "       'деревня Шпаньково', 'деревня Лаврики', 'поселок Сумино',\n",
       "       'поселок Возрождение', 'деревня Старосиверская',\n",
       "       'поселок Кикерино', 'деревня Старое Хинколово',\n",
       "       'поселок Пригородный', 'поселок Торфяное',\n",
       "       'поселок городского типа Будогощь', 'поселок Суходолье',\n",
       "       'поселок Красная Долина', 'деревня Хапо-Ое',\n",
       "       'поселок городского типа Дружная Горка', 'поселок Лисий Нос',\n",
       "       'деревня Яльгелево', 'село Рождествено', 'деревня Старополье',\n",
       "       'поселок Левашово', 'деревня Сяськелево', 'деревня Камышовка',\n",
       "       'садоводческое некоммерческое товарищество Лесная Поляна',\n",
       "       'деревня Хязельки', 'поселок Жилгородок', 'деревня Ялгино',\n",
       "       'поселок Новый Учхоз', 'поселок Гончарово', 'поселок Почап',\n",
       "       'поселок Сапёрное', 'поселок Платформа 69-й километр',\n",
       "       'поселок Каложицы', 'деревня Фалилеево', 'деревня Пельгора',\n",
       "       'деревня Торошковичи', 'поселок Белоостров', 'поселок Алексеевка',\n",
       "       'поселок Серебрянский', 'поселок Лукаши', 'деревня Щеглово',\n",
       "       'деревня Тарасово', 'поселок Кингисеппский', 'поселок Ушаки',\n",
       "       'деревня Котлы', 'деревня Сижно', 'деревня Торосово',\n",
       "       'поселок Форт Красная Горка', 'деревня Новолисино',\n",
       "       'поселок станции Громово', 'деревня Глинка',\n",
       "       'деревня Старая Пустошь', 'поселок Коммунары', 'поселок Починок',\n",
       "       'поселок городского типа Вознесенье', 'деревня Разбегаево',\n",
       "       'поселок Гладкое', 'поселок Тёсово-4', 'деревня Бор',\n",
       "       'поселок Коробицыно', 'деревня Большая Вруда', 'деревня Курковицы',\n",
       "       'поселок Кобралово', 'деревня Суоранда',\n",
       "       'поселок городского типа Кондратьево',\n",
       "       'коттеджный поселок Счастье', 'поселок Любань', 'деревня Реброво',\n",
       "       'деревня Зимитицы', 'деревня Тойворово', 'поселок Семиозерье',\n",
       "       'поселок Лесное', 'поселок Совхозный', 'поселок Ленинское',\n",
       "       'поселок Суйда', 'деревня Нижние Осельки', 'поселок станции Свирь',\n",
       "       'поселок Перово', 'Высоцк', 'поселок Гарболово', 'село Шум',\n",
       "       'поселок Котельский', 'поселок станции Лужайка',\n",
       "       'деревня Большая Пустомержа', 'поселок Красносельское',\n",
       "       'деревня Вахнова Кара', 'деревня Пижма',\n",
       "       'коттеджный поселок Кивеннапа Север', 'поселок Ромашки',\n",
       "       'деревня Каськово', 'деревня Куровицы', 'поселок Плоское',\n",
       "       'поселок Кирпичное', 'деревня Ям-Тесово', 'деревня Раздолье',\n",
       "       'деревня Терпилицы', 'поселок Шугозеро', 'деревня Ваганово',\n",
       "       'поселок Пушное', 'садовое товарищество Садко',\n",
       "       'поселок Усть-Ижора', 'деревня Выскатка',\n",
       "       'поселок городского типа Свирьстрой', 'поселок Громово',\n",
       "       'деревня Кисельня', 'деревня Трубников Бор', 'поселок Калитино',\n",
       "       'поселок Высокоключевой', 'садовое товарищество Приладожский',\n",
       "       'поселок Пансионат Зелёный Бор', 'деревня Ненимяки',\n",
       "       'деревня Снегирёвка', 'деревня Рапполово', 'деревня Пустынка',\n",
       "       'поселок Рабитицы', 'деревня Большой Сабск', 'деревня Русско',\n",
       "       'деревня Лупполово', 'деревня Большое Рейзино',\n",
       "       'деревня Малая Романовка', 'поселок Дружноселье', 'поселок Пчевжа',\n",
       "       'поселок Володарское', 'деревня Нижняя',\n",
       "       'коттеджный поселок Лесное', 'деревня Тихковицы',\n",
       "       'деревня Борисова Грива', 'поселок Дзержинского'], dtype=object)"
      ]
     },
     "execution_count": 19,
     "metadata": {},
     "output_type": "execute_result"
    }
   ],
   "source": [
    "data.locality_name.unique()"
   ]
  },
  {
   "cell_type": "markdown",
   "metadata": {},
   "source": [
    "В списке уникальных значений можно увидеть такие похожие названия как, например, \"Кудрово\" и \"деревня Кудрово\". Деревня стала городом в 2018 году, поэтому в данных присутствуют оба варианта. Смена статуса могла повлиять на рыночную стоимость, а, значит, это важно для исследования. Поэтому оставляю типы населенных пунктов"
   ]
  },
  {
   "cell_type": "markdown",
   "metadata": {},
   "source": [
    "#### Устранение аномалий"
   ]
  },
  {
   "cell_type": "markdown",
   "metadata": {},
   "source": [
    "В колонке last_price удалим по полпроцента выдающихся данных с обеих сторон. Для нашего исследования это редкие выбивающиеся из общей картины уникальные объекты, по которым необходимо проводить отдельную работу"
   ]
  },
  {
   "cell_type": "code",
   "execution_count": 31,
   "metadata": {},
   "outputs": [
    {
     "data": {
      "text/plain": [
       "<AxesSubplot:>"
      ]
     },
     "execution_count": 31,
     "metadata": {},
     "output_type": "execute_result"
    },
    {
     "data": {
      "image/png": "[encoded data removed]",
      "text/plain": [
       "<Figure size 1080x360 with 1 Axes>"
      ]
     },
     "metadata": {
      "needs_background": "light"
     },
     "output_type": "display_data"
    }
   ],
   "source": [
    "data['last_price'].hist(bins=200, figsize=(15, 5))"
   ]
  },
  {
   "cell_type": "code",
   "execution_count": 32,
   "metadata": {},
   "outputs": [
    {
     "data": {
      "text/plain": [
       "0.005    8.000000e+05\n",
       "0.250    3.400000e+06\n",
       "0.500    4.650000e+06\n",
       "0.750    6.799000e+06\n",
       "0.995    5.494000e+07\n",
       "Name: last_price, dtype: float64"
      ]
     },
     "execution_count": 32,
     "metadata": {},
     "output_type": "execute_result"
    }
   ],
   "source": [
    "data['last_price'].quantile([.005, .25, .5, .75, .995])"
   ]
  },
  {
   "cell_type": "code",
   "execution_count": 33,
   "metadata": {},
   "outputs": [],
   "source": [
    "data = data.query('800000 <= last_price <= 53929000')"
   ]
  },
  {
   "cell_type": "code",
   "execution_count": 34,
   "metadata": {},
   "outputs": [
    {
     "data": {
      "text/plain": [
       "<AxesSubplot:>"
      ]
     },
     "execution_count": 34,
     "metadata": {},
     "output_type": "execute_result"
    },
    {
     "data": {
      "image/png": "[encoded data removed]",
      "text/plain": [
       "<Figure size 1080x360 with 1 Axes>"
      ]
     },
     "metadata": {
      "needs_background": "light"
     },
     "output_type": "display_data"
    }
   ],
   "source": [
    "data['last_price'].hist(bins=200, figsize=(15, 5))"
   ]
  },
  {
   "cell_type": "markdown",
   "metadata": {},
   "source": [
    "Так гистограмма стала намного нагляднее"
   ]
  },
  {
   "cell_type": "markdown",
   "metadata": {},
   "source": [
    "Подобным образом рассмотрим и остальные параметры"
   ]
  },
  {
   "cell_type": "code",
   "execution_count": null,
   "metadata": {
    "scrolled": false
   },
   "outputs": [
    {
     "data": {
      "text/html": [
       "<style  type=\"text/css\" >\n",
       "</style><table id=\"T_1a61d_\" ><thead>    <tr>        <th class=\"blank level0\" ></th>        <th class=\"col_heading level0 col0\" >rooms</th>        <th class=\"col_heading level0 col1\" >total_area</th>        <th class=\"col_heading level0 col2\" >ceiling_height</th>        <th class=\"col_heading level0 col3\" >days_exposition</th>        <th class=\"col_heading level0 col4\" >last_price</th>        <th class=\"col_heading level0 col5\" >living_area</th>        <th class=\"col_heading level0 col6\" >kitchen_area</th>        <th class=\"col_heading level0 col7\" >floor</th>        <th class=\"col_heading level0 col8\" >floors_total</th>    </tr></thead><tbody>\n",
       "                <tr>\n",
       "                        <th id=\"T_1a61d_level0_row0\" class=\"row_heading level0 row0\" >count</th>\n",
       "                        <td id=\"T_1a61d_row0_col0\" class=\"data row0 col0\" >23,376.00</td>\n",
       "                        <td id=\"T_1a61d_row0_col1\" class=\"data row0 col1\" >23,376.00</td>\n",
       "                        <td id=\"T_1a61d_row0_col2\" class=\"data row0 col2\" >14,366.00</td>\n",
       "                        <td id=\"T_1a61d_row0_col3\" class=\"data row0 col3\" >20,246.00</td>\n",
       "                        <td id=\"T_1a61d_row0_col4\" class=\"data row0 col4\" >23,376.00</td>\n",
       "                        <td id=\"T_1a61d_row0_col5\" class=\"data row0 col5\" >21,542.00</td>\n",
       "                        <td id=\"T_1a61d_row0_col6\" class=\"data row0 col6\" >21,185.00</td>\n",
       "                        <td id=\"T_1a61d_row0_col7\" class=\"data row0 col7\" >23,376.00</td>\n",
       "                        <td id=\"T_1a61d_row0_col8\" class=\"data row0 col8\" >23,376.00</td>\n",
       "            </tr>\n",
       "            <tr>\n",
       "                        <th id=\"T_1a61d_level0_row1\" class=\"row_heading level0 row1\" >min</th>\n",
       "                        <td id=\"T_1a61d_row1_col0\" class=\"data row1 col0\" >0.00</td>\n",
       "                        <td id=\"T_1a61d_row1_col1\" class=\"data row1 col1\" >12.00</td>\n",
       "                        <td id=\"T_1a61d_row1_col2\" class=\"data row1 col2\" >1.00</td>\n",
       "                        <td id=\"T_1a61d_row1_col3\" class=\"data row1 col3\" >1.00</td>\n",
       "                        <td id=\"T_1a61d_row1_col4\" class=\"data row1 col4\" >800,000.00</td>\n",
       "                        <td id=\"T_1a61d_row1_col5\" class=\"data row1 col5\" >2.00</td>\n",
       "                        <td id=\"T_1a61d_row1_col6\" class=\"data row1 col6\" >1.30</td>\n",
       "                        <td id=\"T_1a61d_row1_col7\" class=\"data row1 col7\" >1.00</td>\n",
       "                        <td id=\"T_1a61d_row1_col8\" class=\"data row1 col8\" >1.00</td>\n",
       "            </tr>\n",
       "            <tr>\n",
       "                        <th id=\"T_1a61d_level0_row2\" class=\"row_heading level0 row2\" >max</th>\n",
       "                        <td id=\"T_1a61d_row2_col0\" class=\"data row2 col0\" >19.00</td>\n",
       "                        <td id=\"T_1a61d_row2_col1\" class=\"data row2 col1\" >517.00</td>\n",
       "                        <td id=\"T_1a61d_row2_col2\" class=\"data row2 col2\" >100.00</td>\n",
       "                        <td id=\"T_1a61d_row2_col3\" class=\"data row2 col3\" >1,580.00</td>\n",
       "                        <td id=\"T_1a61d_row2_col4\" class=\"data row2 col4\" >53,800,000.00</td>\n",
       "                        <td id=\"T_1a61d_row2_col5\" class=\"data row2 col5\" >332.00</td>\n",
       "                        <td id=\"T_1a61d_row2_col6\" class=\"data row2 col6\" >100.70</td>\n",
       "                        <td id=\"T_1a61d_row2_col7\" class=\"data row2 col7\" >33.00</td>\n",
       "                        <td id=\"T_1a61d_row2_col8\" class=\"data row2 col8\" >60.00</td>\n",
       "            </tr>\n",
       "            <tr>\n",
       "                        <th id=\"T_1a61d_level0_row3\" class=\"row_heading level0 row3\" >median</th>\n",
       "                        <td id=\"T_1a61d_row3_col0\" class=\"data row3 col0\" >2.00</td>\n",
       "                        <td id=\"T_1a61d_row3_col1\" class=\"data row3 col1\" >52.00</td>\n",
       "                        <td id=\"T_1a61d_row3_col2\" class=\"data row3 col2\" >2.65</td>\n",
       "                        <td id=\"T_1a61d_row3_col3\" class=\"data row3 col3\" >95.00</td>\n",
       "                        <td id=\"T_1a61d_row3_col4\" class=\"data row3 col4\" >4,650,000.00</td>\n",
       "                        <td id=\"T_1a61d_row3_col5\" class=\"data row3 col5\" >30.00</td>\n",
       "                        <td id=\"T_1a61d_row3_col6\" class=\"data row3 col6\" >9.10</td>\n",
       "                        <td id=\"T_1a61d_row3_col7\" class=\"data row3 col7\" >4.00</td>\n",
       "                        <td id=\"T_1a61d_row3_col8\" class=\"data row3 col8\" >9.00</td>\n",
       "            </tr>\n",
       "    </tbody></table>"
      ],
      "text/plain": [
       "<pandas.io.formats.style.Styler at 0x7f6e2add9250>"
      ]
     },
     "execution_count": 37,
     "metadata": {},
     "output_type": "execute_result"
    }
   ],
   "source": [
    "(\n",
    "    data[['rooms', 'total_area', 'ceiling_height', 'days_exposition', 'last_price', 'living_area',  'kitchen_area',\n",
    "          'floor', 'floors_total']]\n",
    "    .apply (['count', 'min', 'max', 'median'])   \n",
    "    .style.format(\"{:,.2f}\")\n",
    ")"
   ]
  },
  {
   "cell_type": "markdown",
   "metadata": {},
   "source": [
    "Остались аномалии и редкости в колонках: rooms, total_area, ceiling_height, days_exposition, living_area, kitchen_area, floors_total"
   ]
  },
  {
   "cell_type": "code",
   "execution_count": 47,
   "metadata": {},
   "outputs": [
    {
     "data": {
      "text/html": [
       "<style  type=\"text/css\" >\n",
       "</style><table id=\"T_d9685_\" ><thead>    <tr>        <th class=\"blank level0\" ></th>        <th class=\"col_heading level0 col0\" >rooms</th>        <th class=\"col_heading level0 col1\" >total_area</th>        <th class=\"col_heading level0 col2\" >ceiling_height</th>        <th class=\"col_heading level0 col3\" >days_exposition</th>        <th class=\"col_heading level0 col4\" >living_area</th>        <th class=\"col_heading level0 col5\" >kitchen_area</th>        <th class=\"col_heading level0 col6\" >floors_total</th>    </tr></thead><tbody>\n",
       "                <tr>\n",
       "                        <th id=\"T_d9685_level0_row0\" class=\"row_heading level0 row0\" >0.025</th>\n",
       "                        <td id=\"T_d9685_row0_col0\" class=\"data row0 col0\" >1.00</td>\n",
       "                        <td id=\"T_d9685_row0_col1\" class=\"data row0 col1\" >29.80</td>\n",
       "                        <td id=\"T_d9685_row0_col2\" class=\"data row0 col2\" >2.50</td>\n",
       "                        <td id=\"T_d9685_row0_col3\" class=\"data row0 col3\" >6.00</td>\n",
       "                        <td id=\"T_d9685_row0_col4\" class=\"data row0 col4\" >14.60</td>\n",
       "                        <td id=\"T_d9685_row0_col5\" class=\"data row0 col5\" >5.20</td>\n",
       "                        <td id=\"T_d9685_row0_col6\" class=\"data row0 col6\" >3.00</td>\n",
       "            </tr>\n",
       "            <tr>\n",
       "                        <th id=\"T_d9685_level0_row1\" class=\"row_heading level0 row1\" >0.25</th>\n",
       "                        <td id=\"T_d9685_row1_col0\" class=\"data row1 col0\" >1.00</td>\n",
       "                        <td id=\"T_d9685_row1_col1\" class=\"data row1 col1\" >40.00</td>\n",
       "                        <td id=\"T_d9685_row1_col2\" class=\"data row1 col2\" >2.52</td>\n",
       "                        <td id=\"T_d9685_row1_col3\" class=\"data row1 col3\" >45.00</td>\n",
       "                        <td id=\"T_d9685_row1_col4\" class=\"data row1 col4\" >18.62</td>\n",
       "                        <td id=\"T_d9685_row1_col5\" class=\"data row1 col5\" >7.00</td>\n",
       "                        <td id=\"T_d9685_row1_col6\" class=\"data row1 col6\" >5.00</td>\n",
       "            </tr>\n",
       "            <tr>\n",
       "                        <th id=\"T_d9685_level0_row2\" class=\"row_heading level0 row2\" >0.5</th>\n",
       "                        <td id=\"T_d9685_row2_col0\" class=\"data row2 col0\" >2.00</td>\n",
       "                        <td id=\"T_d9685_row2_col1\" class=\"data row2 col1\" >52.00</td>\n",
       "                        <td id=\"T_d9685_row2_col2\" class=\"data row2 col2\" >2.65</td>\n",
       "                        <td id=\"T_d9685_row2_col3\" class=\"data row2 col3\" >95.00</td>\n",
       "                        <td id=\"T_d9685_row2_col4\" class=\"data row2 col4\" >30.00</td>\n",
       "                        <td id=\"T_d9685_row2_col5\" class=\"data row2 col5\" >9.10</td>\n",
       "                        <td id=\"T_d9685_row2_col6\" class=\"data row2 col6\" >9.00</td>\n",
       "            </tr>\n",
       "            <tr>\n",
       "                        <th id=\"T_d9685_level0_row3\" class=\"row_heading level0 row3\" >0.75</th>\n",
       "                        <td id=\"T_d9685_row3_col0\" class=\"data row3 col0\" >3.00</td>\n",
       "                        <td id=\"T_d9685_row3_col1\" class=\"data row3 col1\" >69.00</td>\n",
       "                        <td id=\"T_d9685_row3_col2\" class=\"data row3 col2\" >2.80</td>\n",
       "                        <td id=\"T_d9685_row3_col3\" class=\"data row3 col3\" >229.00</td>\n",
       "                        <td id=\"T_d9685_row3_col4\" class=\"data row3 col4\" >42.10</td>\n",
       "                        <td id=\"T_d9685_row3_col5\" class=\"data row3 col5\" >12.00</td>\n",
       "                        <td id=\"T_d9685_row3_col6\" class=\"data row3 col6\" >16.00</td>\n",
       "            </tr>\n",
       "            <tr>\n",
       "                        <th id=\"T_d9685_level0_row4\" class=\"row_heading level0 row4\" >0.975</th>\n",
       "                        <td id=\"T_d9685_row4_col0\" class=\"data row4 col0\" >4.00</td>\n",
       "                        <td id=\"T_d9685_row4_col1\" class=\"data row4 col1\" >134.70</td>\n",
       "                        <td id=\"T_d9685_row4_col2\" class=\"data row4 col2\" >3.46</td>\n",
       "                        <td id=\"T_d9685_row4_col3\" class=\"data row4 col3\" >834.97</td>\n",
       "                        <td id=\"T_d9685_row4_col4\" class=\"data row4 col4\" >80.20</td>\n",
       "                        <td id=\"T_d9685_row4_col5\" class=\"data row4 col5\" >24.00</td>\n",
       "                        <td id=\"T_d9685_row4_col6\" class=\"data row4 col6\" >25.00</td>\n",
       "            </tr>\n",
       "    </tbody></table>"
      ],
      "text/plain": [
       "<pandas.io.formats.style.Styler at 0x7f6de95f8d60>"
      ]
     },
     "execution_count": 47,
     "metadata": {},
     "output_type": "execute_result"
    }
   ],
   "source": [
    "(\n",
    "    data[['rooms', 'total_area', 'ceiling_height', 'days_exposition', 'living_area', 'kitchen_area', 'floors_total']]\n",
    "    .quantile([0.025, 0.25, .5, .75, .975]) #по полпроцента с каждой стороны - получатся оптимальные 5%\n",
    "    .style.format(\"{:,.2f}\")\n",
    ")"
   ]
  },
  {
   "cell_type": "code",
   "execution_count": 48,
   "metadata": {},
   "outputs": [
    {
     "data": {
      "text/html": [
       "<div>\n",
       "<style scoped>\n",
       "    .dataframe tbody tr th:only-of-type {\n",
       "        vertical-align: middle;\n",
       "    }\n",
       "\n",
       "    .dataframe tbody tr th {\n",
       "        vertical-align: top;\n",
       "    }\n",
       "\n",
       "    .dataframe thead th {\n",
       "        text-align: right;\n",
       "    }\n",
       "</style>\n",
       "<table border=\"1\" class=\"dataframe\">\n",
       "  <thead>\n",
       "    <tr style=\"text-align: right;\">\n",
       "      <th></th>\n",
       "      <th>total_images</th>\n",
       "      <th>last_price</th>\n",
       "      <th>total_area</th>\n",
       "      <th>first_day_exposition</th>\n",
       "      <th>rooms</th>\n",
       "      <th>ceiling_height</th>\n",
       "      <th>floors_total</th>\n",
       "      <th>living_area</th>\n",
       "      <th>floor</th>\n",
       "      <th>is_apartment</th>\n",
       "      <th>studio</th>\n",
       "      <th>open_plan</th>\n",
       "      <th>kitchen_area</th>\n",
       "      <th>balcony</th>\n",
       "      <th>locality_name</th>\n",
       "      <th>airports_nearest</th>\n",
       "      <th>cityCenters_nearest</th>\n",
       "      <th>parks_around3000</th>\n",
       "      <th>parks_nearest</th>\n",
       "      <th>ponds_around3000</th>\n",
       "      <th>ponds_nearest</th>\n",
       "      <th>days_exposition</th>\n",
       "    </tr>\n",
       "  </thead>\n",
       "  <tbody>\n",
       "    <tr>\n",
       "      <th>1</th>\n",
       "      <td>7</td>\n",
       "      <td>3350000.0</td>\n",
       "      <td>40.4</td>\n",
       "      <td>2018-12-04</td>\n",
       "      <td>1</td>\n",
       "      <td>NaN</td>\n",
       "      <td>11</td>\n",
       "      <td>18.6</td>\n",
       "      <td>1</td>\n",
       "      <td>False</td>\n",
       "      <td>False</td>\n",
       "      <td>False</td>\n",
       "      <td>11.0</td>\n",
       "      <td>2</td>\n",
       "      <td>поселок Шушары</td>\n",
       "      <td>12817.0</td>\n",
       "      <td>18603.0</td>\n",
       "      <td>0.0</td>\n",
       "      <td>NaN</td>\n",
       "      <td>0.0</td>\n",
       "      <td>NaN</td>\n",
       "      <td>81.0</td>\n",
       "    </tr>\n",
       "    <tr>\n",
       "      <th>2</th>\n",
       "      <td>10</td>\n",
       "      <td>5196000.0</td>\n",
       "      <td>56.0</td>\n",
       "      <td>2015-08-20</td>\n",
       "      <td>2</td>\n",
       "      <td>NaN</td>\n",
       "      <td>5</td>\n",
       "      <td>34.3</td>\n",
       "      <td>4</td>\n",
       "      <td>False</td>\n",
       "      <td>False</td>\n",
       "      <td>False</td>\n",
       "      <td>8.3</td>\n",
       "      <td>0</td>\n",
       "      <td>Санкт-Петербург</td>\n",
       "      <td>21741.0</td>\n",
       "      <td>13933.0</td>\n",
       "      <td>1.0</td>\n",
       "      <td>90.0</td>\n",
       "      <td>2.0</td>\n",
       "      <td>574.0</td>\n",
       "      <td>558.0</td>\n",
       "    </tr>\n",
       "    <tr>\n",
       "      <th>7</th>\n",
       "      <td>5</td>\n",
       "      <td>7915000.0</td>\n",
       "      <td>71.6</td>\n",
       "      <td>2019-04-18</td>\n",
       "      <td>2</td>\n",
       "      <td>NaN</td>\n",
       "      <td>24</td>\n",
       "      <td>NaN</td>\n",
       "      <td>22</td>\n",
       "      <td>False</td>\n",
       "      <td>False</td>\n",
       "      <td>False</td>\n",
       "      <td>18.9</td>\n",
       "      <td>2</td>\n",
       "      <td>Санкт-Петербург</td>\n",
       "      <td>23982.0</td>\n",
       "      <td>11634.0</td>\n",
       "      <td>0.0</td>\n",
       "      <td>NaN</td>\n",
       "      <td>0.0</td>\n",
       "      <td>NaN</td>\n",
       "      <td>NaN</td>\n",
       "    </tr>\n",
       "    <tr>\n",
       "      <th>9</th>\n",
       "      <td>18</td>\n",
       "      <td>5400000.0</td>\n",
       "      <td>61.0</td>\n",
       "      <td>2017-02-26</td>\n",
       "      <td>3</td>\n",
       "      <td>2.50</td>\n",
       "      <td>9</td>\n",
       "      <td>43.6</td>\n",
       "      <td>7</td>\n",
       "      <td>False</td>\n",
       "      <td>False</td>\n",
       "      <td>False</td>\n",
       "      <td>6.5</td>\n",
       "      <td>2</td>\n",
       "      <td>Санкт-Петербург</td>\n",
       "      <td>50898.0</td>\n",
       "      <td>15008.0</td>\n",
       "      <td>0.0</td>\n",
       "      <td>NaN</td>\n",
       "      <td>0.0</td>\n",
       "      <td>NaN</td>\n",
       "      <td>289.0</td>\n",
       "    </tr>\n",
       "    <tr>\n",
       "      <th>10</th>\n",
       "      <td>5</td>\n",
       "      <td>5050000.0</td>\n",
       "      <td>39.6</td>\n",
       "      <td>2017-11-16</td>\n",
       "      <td>1</td>\n",
       "      <td>2.67</td>\n",
       "      <td>12</td>\n",
       "      <td>20.3</td>\n",
       "      <td>3</td>\n",
       "      <td>False</td>\n",
       "      <td>False</td>\n",
       "      <td>False</td>\n",
       "      <td>8.5</td>\n",
       "      <td>0</td>\n",
       "      <td>Санкт-Петербург</td>\n",
       "      <td>38357.0</td>\n",
       "      <td>13878.0</td>\n",
       "      <td>1.0</td>\n",
       "      <td>310.0</td>\n",
       "      <td>2.0</td>\n",
       "      <td>553.0</td>\n",
       "      <td>137.0</td>\n",
       "    </tr>\n",
       "    <tr>\n",
       "      <th>...</th>\n",
       "      <td>...</td>\n",
       "      <td>...</td>\n",
       "      <td>...</td>\n",
       "      <td>...</td>\n",
       "      <td>...</td>\n",
       "      <td>...</td>\n",
       "      <td>...</td>\n",
       "      <td>...</td>\n",
       "      <td>...</td>\n",
       "      <td>...</td>\n",
       "      <td>...</td>\n",
       "      <td>...</td>\n",
       "      <td>...</td>\n",
       "      <td>...</td>\n",
       "      <td>...</td>\n",
       "      <td>...</td>\n",
       "      <td>...</td>\n",
       "      <td>...</td>\n",
       "      <td>...</td>\n",
       "      <td>...</td>\n",
       "      <td>...</td>\n",
       "      <td>...</td>\n",
       "    </tr>\n",
       "    <tr>\n",
       "      <th>23691</th>\n",
       "      <td>11</td>\n",
       "      <td>9470000.0</td>\n",
       "      <td>72.9</td>\n",
       "      <td>2016-10-13</td>\n",
       "      <td>2</td>\n",
       "      <td>2.75</td>\n",
       "      <td>25</td>\n",
       "      <td>40.3</td>\n",
       "      <td>7</td>\n",
       "      <td>False</td>\n",
       "      <td>False</td>\n",
       "      <td>False</td>\n",
       "      <td>10.6</td>\n",
       "      <td>1</td>\n",
       "      <td>Санкт-Петербург</td>\n",
       "      <td>19424.0</td>\n",
       "      <td>4489.0</td>\n",
       "      <td>0.0</td>\n",
       "      <td>NaN</td>\n",
       "      <td>1.0</td>\n",
       "      <td>806.0</td>\n",
       "      <td>519.0</td>\n",
       "    </tr>\n",
       "    <tr>\n",
       "      <th>23692</th>\n",
       "      <td>2</td>\n",
       "      <td>1350000.0</td>\n",
       "      <td>30.0</td>\n",
       "      <td>2017-07-07</td>\n",
       "      <td>1</td>\n",
       "      <td>NaN</td>\n",
       "      <td>5</td>\n",
       "      <td>17.5</td>\n",
       "      <td>4</td>\n",
       "      <td>False</td>\n",
       "      <td>False</td>\n",
       "      <td>False</td>\n",
       "      <td>6.0</td>\n",
       "      <td>0</td>\n",
       "      <td>Тихвин</td>\n",
       "      <td>NaN</td>\n",
       "      <td>NaN</td>\n",
       "      <td>0.0</td>\n",
       "      <td>NaN</td>\n",
       "      <td>0.0</td>\n",
       "      <td>NaN</td>\n",
       "      <td>413.0</td>\n",
       "    </tr>\n",
       "    <tr>\n",
       "      <th>23693</th>\n",
       "      <td>9</td>\n",
       "      <td>4600000.0</td>\n",
       "      <td>62.4</td>\n",
       "      <td>2016-08-05</td>\n",
       "      <td>3</td>\n",
       "      <td>2.60</td>\n",
       "      <td>9</td>\n",
       "      <td>40.0</td>\n",
       "      <td>8</td>\n",
       "      <td>False</td>\n",
       "      <td>False</td>\n",
       "      <td>False</td>\n",
       "      <td>8.0</td>\n",
       "      <td>0</td>\n",
       "      <td>Петергоф</td>\n",
       "      <td>45602.0</td>\n",
       "      <td>34104.0</td>\n",
       "      <td>1.0</td>\n",
       "      <td>352.0</td>\n",
       "      <td>1.0</td>\n",
       "      <td>675.0</td>\n",
       "      <td>239.0</td>\n",
       "    </tr>\n",
       "    <tr>\n",
       "      <th>23695</th>\n",
       "      <td>14</td>\n",
       "      <td>3100000.0</td>\n",
       "      <td>59.0</td>\n",
       "      <td>2018-01-15</td>\n",
       "      <td>3</td>\n",
       "      <td>NaN</td>\n",
       "      <td>5</td>\n",
       "      <td>38.0</td>\n",
       "      <td>4</td>\n",
       "      <td>False</td>\n",
       "      <td>False</td>\n",
       "      <td>False</td>\n",
       "      <td>8.5</td>\n",
       "      <td>0</td>\n",
       "      <td>Тосно</td>\n",
       "      <td>NaN</td>\n",
       "      <td>NaN</td>\n",
       "      <td>0.0</td>\n",
       "      <td>NaN</td>\n",
       "      <td>0.0</td>\n",
       "      <td>NaN</td>\n",
       "      <td>45.0</td>\n",
       "    </tr>\n",
       "    <tr>\n",
       "      <th>23696</th>\n",
       "      <td>18</td>\n",
       "      <td>2500000.0</td>\n",
       "      <td>56.7</td>\n",
       "      <td>2018-02-11</td>\n",
       "      <td>2</td>\n",
       "      <td>NaN</td>\n",
       "      <td>3</td>\n",
       "      <td>29.7</td>\n",
       "      <td>1</td>\n",
       "      <td>False</td>\n",
       "      <td>False</td>\n",
       "      <td>False</td>\n",
       "      <td>NaN</td>\n",
       "      <td>0</td>\n",
       "      <td>село Рождествено</td>\n",
       "      <td>NaN</td>\n",
       "      <td>NaN</td>\n",
       "      <td>0.0</td>\n",
       "      <td>NaN</td>\n",
       "      <td>0.0</td>\n",
       "      <td>NaN</td>\n",
       "      <td>NaN</td>\n",
       "    </tr>\n",
       "  </tbody>\n",
       "</table>\n",
       "<p>18825 rows × 22 columns</p>\n",
       "</div>"
      ],
      "text/plain": [
       "       total_images  last_price  total_area first_day_exposition  rooms  \\\n",
       "1                 7   3350000.0        40.4           2018-12-04      1   \n",
       "2                10   5196000.0        56.0           2015-08-20      2   \n",
       "7                 5   7915000.0        71.6           2019-04-18      2   \n",
       "9                18   5400000.0        61.0           2017-02-26      3   \n",
       "10                5   5050000.0        39.6           2017-11-16      1   \n",
       "...             ...         ...         ...                  ...    ...   \n",
       "23691            11   9470000.0        72.9           2016-10-13      2   \n",
       "23692             2   1350000.0        30.0           2017-07-07      1   \n",
       "23693             9   4600000.0        62.4           2016-08-05      3   \n",
       "23695            14   3100000.0        59.0           2018-01-15      3   \n",
       "23696            18   2500000.0        56.7           2018-02-11      2   \n",
       "\n",
       "       ceiling_height  floors_total  living_area  floor  is_apartment  studio  \\\n",
       "1                 NaN            11         18.6      1         False   False   \n",
       "2                 NaN             5         34.3      4         False   False   \n",
       "7                 NaN            24          NaN     22         False   False   \n",
       "9                2.50             9         43.6      7         False   False   \n",
       "10               2.67            12         20.3      3         False   False   \n",
       "...               ...           ...          ...    ...           ...     ...   \n",
       "23691            2.75            25         40.3      7         False   False   \n",
       "23692             NaN             5         17.5      4         False   False   \n",
       "23693            2.60             9         40.0      8         False   False   \n",
       "23695             NaN             5         38.0      4         False   False   \n",
       "23696             NaN             3         29.7      1         False   False   \n",
       "\n",
       "       open_plan  kitchen_area  balcony     locality_name  airports_nearest  \\\n",
       "1          False          11.0        2    поселок Шушары           12817.0   \n",
       "2          False           8.3        0   Санкт-Петербург           21741.0   \n",
       "7          False          18.9        2   Санкт-Петербург           23982.0   \n",
       "9          False           6.5        2   Санкт-Петербург           50898.0   \n",
       "10         False           8.5        0   Санкт-Петербург           38357.0   \n",
       "...          ...           ...      ...               ...               ...   \n",
       "23691      False          10.6        1   Санкт-Петербург           19424.0   \n",
       "23692      False           6.0        0            Тихвин               NaN   \n",
       "23693      False           8.0        0          Петергоф           45602.0   \n",
       "23695      False           8.5        0             Тосно               NaN   \n",
       "23696      False           NaN        0  село Рождествено               NaN   \n",
       "\n",
       "       cityCenters_nearest  parks_around3000  parks_nearest  ponds_around3000  \\\n",
       "1                  18603.0               0.0            NaN               0.0   \n",
       "2                  13933.0               1.0           90.0               2.0   \n",
       "7                  11634.0               0.0            NaN               0.0   \n",
       "9                  15008.0               0.0            NaN               0.0   \n",
       "10                 13878.0               1.0          310.0               2.0   \n",
       "...                    ...               ...            ...               ...   \n",
       "23691               4489.0               0.0            NaN               1.0   \n",
       "23692                  NaN               0.0            NaN               0.0   \n",
       "23693              34104.0               1.0          352.0               1.0   \n",
       "23695                  NaN               0.0            NaN               0.0   \n",
       "23696                  NaN               0.0            NaN               0.0   \n",
       "\n",
       "       ponds_nearest  days_exposition  \n",
       "1                NaN             81.0  \n",
       "2              574.0            558.0  \n",
       "7                NaN              NaN  \n",
       "9                NaN            289.0  \n",
       "10             553.0            137.0  \n",
       "...              ...              ...  \n",
       "23691          806.0            519.0  \n",
       "23692            NaN            413.0  \n",
       "23693          675.0            239.0  \n",
       "23695            NaN             45.0  \n",
       "23696            NaN              NaN  \n",
       "\n",
       "[18825 rows x 22 columns]"
      ]
     },
     "execution_count": 48,
     "metadata": {},
     "output_type": "execute_result"
    }
   ],
   "source": [
    "data.query(        #\n",
    "    \n",
    "    '(rooms <= 4 or rooms.isna()) and \\\n",
    "     29.4 <= total_area <= 141 and \\\n",
    "     (2.5 <= ceiling_height <= 3.5 or ceiling_height.isna()) and \\\n",
    "     (6 <= days_exposition <= 845 or days_exposition.isna()) and \\\n",
    "     (15 <= living_area <= 83.57 or living_area.isna()) and \\\n",
    "     (5.2 <= kitchen_area <= 23 or kitchen_area.isna()) and \\\n",
    "     3 <= floors_total <= 25'\n",
    ")"
   ]
  },
  {
   "cell_type": "markdown",
   "metadata": {},
   "source": [
    "При предобработке потеряно 4,8% данных, результат, близкий к оптимальному"
   ]
  },
  {
   "cell_type": "code",
   "execution_count": null,
   "metadata": {
    "scrolled": false
   },
   "outputs": [
    {
     "data": {
      "text/html": [
       "<style  type=\"text/css\" >\n",
       "</style><table id=\"T_05dbb_\" ><thead>    <tr>        <th class=\"blank level0\" ></th>        <th class=\"col_heading level0 col0\" >rooms</th>        <th class=\"col_heading level0 col1\" >total_area</th>        <th class=\"col_heading level0 col2\" >ceiling_height</th>        <th class=\"col_heading level0 col3\" >days_exposition</th>        <th class=\"col_heading level0 col4\" >last_price</th>        <th class=\"col_heading level0 col5\" >living_area</th>        <th class=\"col_heading level0 col6\" >kitchen_area</th>        <th class=\"col_heading level0 col7\" >floor</th>        <th class=\"col_heading level0 col8\" >floors_total</th>    </tr></thead><tbody>\n",
       "                <tr>\n",
       "                        <th id=\"T_05dbb_level0_row0\" class=\"row_heading level0 row0\" >count</th>\n",
       "                        <td id=\"T_05dbb_row0_col0\" class=\"data row0 col0\" >22,896.00</td>\n",
       "                        <td id=\"T_05dbb_row0_col1\" class=\"data row0 col1\" >22,896.00</td>\n",
       "                        <td id=\"T_05dbb_row0_col2\" class=\"data row0 col2\" >14,034.00</td>\n",
       "                        <td id=\"T_05dbb_row0_col3\" class=\"data row0 col3\" >19,842.00</td>\n",
       "                        <td id=\"T_05dbb_row0_col4\" class=\"data row0 col4\" >22,896.00</td>\n",
       "                        <td id=\"T_05dbb_row0_col5\" class=\"data row0 col5\" >21,093.00</td>\n",
       "                        <td id=\"T_05dbb_row0_col6\" class=\"data row0 col6\" >20,770.00</td>\n",
       "                        <td id=\"T_05dbb_row0_col7\" class=\"data row0 col7\" >22,896.00</td>\n",
       "                        <td id=\"T_05dbb_row0_col8\" class=\"data row0 col8\" >22,896.00</td>\n",
       "            </tr>\n",
       "            <tr>\n",
       "                        <th id=\"T_05dbb_level0_row1\" class=\"row_heading level0 row1\" >min</th>\n",
       "                        <td id=\"T_05dbb_row1_col0\" class=\"data row1 col0\" >0.00</td>\n",
       "                        <td id=\"T_05dbb_row1_col1\" class=\"data row1 col1\" >20.00</td>\n",
       "                        <td id=\"T_05dbb_row1_col2\" class=\"data row1 col2\" >2.50</td>\n",
       "                        <td id=\"T_05dbb_row1_col3\" class=\"data row1 col3\" >3.00</td>\n",
       "                        <td id=\"T_05dbb_row1_col4\" class=\"data row1 col4\" >800,000.00</td>\n",
       "                        <td id=\"T_05dbb_row1_col5\" class=\"data row1 col5\" >10.90</td>\n",
       "                        <td id=\"T_05dbb_row1_col6\" class=\"data row1 col6\" >5.00</td>\n",
       "                        <td id=\"T_05dbb_row1_col7\" class=\"data row1 col7\" >1.00</td>\n",
       "                        <td id=\"T_05dbb_row1_col8\" class=\"data row1 col8\" >2.00</td>\n",
       "            </tr>\n",
       "            <tr>\n",
       "                        <th id=\"T_05dbb_level0_row2\" class=\"row_heading level0 row2\" >max</th>\n",
       "                        <td id=\"T_05dbb_row2_col0\" class=\"data row2 col0\" >7.00</td>\n",
       "                        <td id=\"T_05dbb_row2_col1\" class=\"data row2 col1\" >301.90</td>\n",
       "                        <td id=\"T_05dbb_row2_col2\" class=\"data row2 col2\" >4.40</td>\n",
       "                        <td id=\"T_05dbb_row2_col3\" class=\"data row2 col3\" >1,373.00</td>\n",
       "                        <td id=\"T_05dbb_row2_col4\" class=\"data row2 col4\" >53,800,000.00</td>\n",
       "                        <td id=\"T_05dbb_row2_col5\" class=\"data row2 col5\" >180.00</td>\n",
       "                        <td id=\"T_05dbb_row2_col6\" class=\"data row2 col6\" >46.00</td>\n",
       "                        <td id=\"T_05dbb_row2_col7\" class=\"data row2 col7\" >27.00</td>\n",
       "                        <td id=\"T_05dbb_row2_col8\" class=\"data row2 col8\" >28.00</td>\n",
       "            </tr>\n",
       "    </tbody></table>"
      ],
      "text/plain": [
       "<pandas.io.formats.style.Styler at 0x7f6e2a9a64f0>"
      ]
     },
     "execution_count": 49,
     "metadata": {},
     "output_type": "execute_result"
    }
   ],
   "source": [
    "(\n",
    "    data[['rooms', 'total_area', 'ceiling_height', 'days_exposition', 'last_price', 'living_area',  'kitchen_area',\n",
    "          'floor', 'floors_total']]\n",
    "    .apply (['count', 'min', 'max'])   \n",
    "    .style.format(\"{:,.2f}\")\n",
    ")"
   ]
  },
  {
   "cell_type": "markdown",
   "metadata": {},
   "source": [
    "### Посчитайте и добавьте в таблицу новые столбцы"
   ]
  },
  {
   "cell_type": "markdown",
   "metadata": {},
   "source": [
    "Добавим в таблицу колонку с ценой одного квадратного метра."
   ]
  },
  {
   "cell_type": "code",
   "execution_count": 50,
   "metadata": {},
   "outputs": [],
   "source": [
    "try:\n",
    "    data['sq_m_price'] = round(data['last_price'] / data['total_area'])\n",
    "except:\n",
    "    pass"
   ]
  },
  {
   "cell_type": "markdown",
   "metadata": {},
   "source": [
    "Добавим в таблицу колонку с днем недели публикации объявления (0 — понедельник, 1 — вторник и так далее)."
   ]
  },
  {
   "cell_type": "code",
   "execution_count": 51,
   "metadata": {},
   "outputs": [],
   "source": [
    "data['weekday'] = data['first_day_exposition'].dt.day_of_week"
   ]
  },
  {
   "cell_type": "markdown",
   "metadata": {},
   "source": [
    "Добавим в таблицу колонку с месяцем публикации объявления."
   ]
  },
  {
   "cell_type": "code",
   "execution_count": 52,
   "metadata": {},
   "outputs": [],
   "source": [
    "data['month'] = data['first_day_exposition'].dt.month"
   ]
  },
  {
   "cell_type": "markdown",
   "metadata": {},
   "source": [
    "Добавим в таблицу колонку с годом публикации объявления."
   ]
  },
  {
   "cell_type": "code",
   "execution_count": 53,
   "metadata": {},
   "outputs": [],
   "source": [
    "data['year'] = data['first_day_exposition'].dt.year"
   ]
  },
  {
   "cell_type": "markdown",
   "metadata": {},
   "source": [
    "Добавим в таблицу колонку с типом этажа квартиры (значения — «первый», «последний», «другой»)."
   ]
  },
  {
   "cell_type": "code",
   "execution_count": 54,
   "metadata": {},
   "outputs": [],
   "source": [
    "def floor_type(row):\n",
    "    if row['floor'] == 1:\n",
    "        return 'first'\n",
    "    elif row['floor'] == row['floors_total']:\n",
    "        return 'last'\n",
    "    else:\n",
    "        return 'other'\n",
    "\n",
    "data['floor_type'] = data.apply(floor_type, axis=1)"
   ]
  },
  {
   "cell_type": "markdown",
   "metadata": {},
   "source": [
    "Добавим в таблицу колонку с расстоянием до центра города в километрах (переведем из м в км и округлим до целых значений)."
   ]
  },
  {
   "cell_type": "code",
   "execution_count": 55,
   "metadata": {},
   "outputs": [],
   "source": [
    "data['cityCenters_nearest_km'] = round(data['cityCenters_nearest']/1000)"
   ]
  },
  {
   "cell_type": "markdown",
   "metadata": {},
   "source": [
    "Посмотрим, что получилось."
   ]
  },
  {
   "cell_type": "code",
   "execution_count": 56,
   "metadata": {
    "scrolled": true
   },
   "outputs": [
    {
     "data": {
      "text/html": [
       "<div>\n",
       "<style scoped>\n",
       "    .dataframe tbody tr th:only-of-type {\n",
       "        vertical-align: middle;\n",
       "    }\n",
       "\n",
       "    .dataframe tbody tr th {\n",
       "        vertical-align: top;\n",
       "    }\n",
       "\n",
       "    .dataframe thead th {\n",
       "        text-align: right;\n",
       "    }\n",
       "</style>\n",
       "<table border=\"1\" class=\"dataframe\">\n",
       "  <thead>\n",
       "    <tr style=\"text-align: right;\">\n",
       "      <th></th>\n",
       "      <th>total_images</th>\n",
       "      <th>last_price</th>\n",
       "      <th>total_area</th>\n",
       "      <th>first_day_exposition</th>\n",
       "      <th>rooms</th>\n",
       "      <th>ceiling_height</th>\n",
       "      <th>floors_total</th>\n",
       "      <th>living_area</th>\n",
       "      <th>floor</th>\n",
       "      <th>is_apartment</th>\n",
       "      <th>studio</th>\n",
       "      <th>open_plan</th>\n",
       "      <th>kitchen_area</th>\n",
       "      <th>balcony</th>\n",
       "      <th>locality_name</th>\n",
       "      <th>airports_nearest</th>\n",
       "      <th>cityCenters_nearest</th>\n",
       "      <th>parks_around3000</th>\n",
       "      <th>parks_nearest</th>\n",
       "      <th>ponds_around3000</th>\n",
       "      <th>ponds_nearest</th>\n",
       "      <th>days_exposition</th>\n",
       "      <th>sq_m_price</th>\n",
       "      <th>weekday</th>\n",
       "      <th>month</th>\n",
       "      <th>year</th>\n",
       "      <th>floor_type</th>\n",
       "      <th>cityCenters_nearest_km</th>\n",
       "    </tr>\n",
       "  </thead>\n",
       "  <tbody>\n",
       "    <tr>\n",
       "      <th>0</th>\n",
       "      <td>20</td>\n",
       "      <td>13000000.0</td>\n",
       "      <td>108.00</td>\n",
       "      <td>2019-03-07</td>\n",
       "      <td>3</td>\n",
       "      <td>2.70</td>\n",
       "      <td>16</td>\n",
       "      <td>51.00</td>\n",
       "      <td>8</td>\n",
       "      <td>False</td>\n",
       "      <td>False</td>\n",
       "      <td>False</td>\n",
       "      <td>25.00</td>\n",
       "      <td>0</td>\n",
       "      <td>Санкт-Петербург</td>\n",
       "      <td>18863.0</td>\n",
       "      <td>16028.0</td>\n",
       "      <td>1.0</td>\n",
       "      <td>482.0</td>\n",
       "      <td>2.0</td>\n",
       "      <td>755.0</td>\n",
       "      <td>NaN</td>\n",
       "      <td>120370.0</td>\n",
       "      <td>3</td>\n",
       "      <td>3</td>\n",
       "      <td>2019</td>\n",
       "      <td>other</td>\n",
       "      <td>16.0</td>\n",
       "    </tr>\n",
       "    <tr>\n",
       "      <th>1</th>\n",
       "      <td>7</td>\n",
       "      <td>3350000.0</td>\n",
       "      <td>40.40</td>\n",
       "      <td>2018-12-04</td>\n",
       "      <td>1</td>\n",
       "      <td>NaN</td>\n",
       "      <td>11</td>\n",
       "      <td>18.60</td>\n",
       "      <td>1</td>\n",
       "      <td>False</td>\n",
       "      <td>False</td>\n",
       "      <td>False</td>\n",
       "      <td>11.00</td>\n",
       "      <td>2</td>\n",
       "      <td>поселок Шушары</td>\n",
       "      <td>12817.0</td>\n",
       "      <td>18603.0</td>\n",
       "      <td>0.0</td>\n",
       "      <td>NaN</td>\n",
       "      <td>0.0</td>\n",
       "      <td>NaN</td>\n",
       "      <td>81.0</td>\n",
       "      <td>82921.0</td>\n",
       "      <td>1</td>\n",
       "      <td>12</td>\n",
       "      <td>2018</td>\n",
       "      <td>first</td>\n",
       "      <td>19.0</td>\n",
       "    </tr>\n",
       "    <tr>\n",
       "      <th>2</th>\n",
       "      <td>10</td>\n",
       "      <td>5196000.0</td>\n",
       "      <td>56.00</td>\n",
       "      <td>2015-08-20</td>\n",
       "      <td>2</td>\n",
       "      <td>NaN</td>\n",
       "      <td>5</td>\n",
       "      <td>34.30</td>\n",
       "      <td>4</td>\n",
       "      <td>False</td>\n",
       "      <td>False</td>\n",
       "      <td>False</td>\n",
       "      <td>8.30</td>\n",
       "      <td>0</td>\n",
       "      <td>Санкт-Петербург</td>\n",
       "      <td>21741.0</td>\n",
       "      <td>13933.0</td>\n",
       "      <td>1.0</td>\n",
       "      <td>90.0</td>\n",
       "      <td>2.0</td>\n",
       "      <td>574.0</td>\n",
       "      <td>558.0</td>\n",
       "      <td>92786.0</td>\n",
       "      <td>3</td>\n",
       "      <td>8</td>\n",
       "      <td>2015</td>\n",
       "      <td>other</td>\n",
       "      <td>14.0</td>\n",
       "    </tr>\n",
       "    <tr>\n",
       "      <th>4</th>\n",
       "      <td>2</td>\n",
       "      <td>10000000.0</td>\n",
       "      <td>100.00</td>\n",
       "      <td>2018-06-19</td>\n",
       "      <td>2</td>\n",
       "      <td>3.03</td>\n",
       "      <td>14</td>\n",
       "      <td>32.00</td>\n",
       "      <td>13</td>\n",
       "      <td>False</td>\n",
       "      <td>False</td>\n",
       "      <td>False</td>\n",
       "      <td>41.00</td>\n",
       "      <td>0</td>\n",
       "      <td>Санкт-Петербург</td>\n",
       "      <td>31856.0</td>\n",
       "      <td>8098.0</td>\n",
       "      <td>2.0</td>\n",
       "      <td>112.0</td>\n",
       "      <td>1.0</td>\n",
       "      <td>48.0</td>\n",
       "      <td>121.0</td>\n",
       "      <td>100000.0</td>\n",
       "      <td>1</td>\n",
       "      <td>6</td>\n",
       "      <td>2018</td>\n",
       "      <td>other</td>\n",
       "      <td>8.0</td>\n",
       "    </tr>\n",
       "    <tr>\n",
       "      <th>5</th>\n",
       "      <td>10</td>\n",
       "      <td>2890000.0</td>\n",
       "      <td>30.40</td>\n",
       "      <td>2018-09-10</td>\n",
       "      <td>1</td>\n",
       "      <td>NaN</td>\n",
       "      <td>12</td>\n",
       "      <td>14.40</td>\n",
       "      <td>5</td>\n",
       "      <td>False</td>\n",
       "      <td>False</td>\n",
       "      <td>False</td>\n",
       "      <td>9.10</td>\n",
       "      <td>0</td>\n",
       "      <td>поселок городского типа Янино-1</td>\n",
       "      <td>NaN</td>\n",
       "      <td>NaN</td>\n",
       "      <td>0.0</td>\n",
       "      <td>NaN</td>\n",
       "      <td>0.0</td>\n",
       "      <td>NaN</td>\n",
       "      <td>55.0</td>\n",
       "      <td>95066.0</td>\n",
       "      <td>0</td>\n",
       "      <td>9</td>\n",
       "      <td>2018</td>\n",
       "      <td>other</td>\n",
       "      <td>NaN</td>\n",
       "    </tr>\n",
       "    <tr>\n",
       "      <th>7</th>\n",
       "      <td>5</td>\n",
       "      <td>7915000.0</td>\n",
       "      <td>71.60</td>\n",
       "      <td>2019-04-18</td>\n",
       "      <td>2</td>\n",
       "      <td>NaN</td>\n",
       "      <td>24</td>\n",
       "      <td>NaN</td>\n",
       "      <td>22</td>\n",
       "      <td>False</td>\n",
       "      <td>False</td>\n",
       "      <td>False</td>\n",
       "      <td>18.90</td>\n",
       "      <td>2</td>\n",
       "      <td>Санкт-Петербург</td>\n",
       "      <td>23982.0</td>\n",
       "      <td>11634.0</td>\n",
       "      <td>0.0</td>\n",
       "      <td>NaN</td>\n",
       "      <td>0.0</td>\n",
       "      <td>NaN</td>\n",
       "      <td>NaN</td>\n",
       "      <td>110545.0</td>\n",
       "      <td>3</td>\n",
       "      <td>4</td>\n",
       "      <td>2019</td>\n",
       "      <td>other</td>\n",
       "      <td>12.0</td>\n",
       "    </tr>\n",
       "    <tr>\n",
       "      <th>8</th>\n",
       "      <td>20</td>\n",
       "      <td>2900000.0</td>\n",
       "      <td>33.16</td>\n",
       "      <td>2018-05-23</td>\n",
       "      <td>1</td>\n",
       "      <td>NaN</td>\n",
       "      <td>27</td>\n",
       "      <td>15.43</td>\n",
       "      <td>26</td>\n",
       "      <td>False</td>\n",
       "      <td>False</td>\n",
       "      <td>False</td>\n",
       "      <td>8.81</td>\n",
       "      <td>0</td>\n",
       "      <td>поселок Мурино</td>\n",
       "      <td>NaN</td>\n",
       "      <td>NaN</td>\n",
       "      <td>0.0</td>\n",
       "      <td>NaN</td>\n",
       "      <td>0.0</td>\n",
       "      <td>NaN</td>\n",
       "      <td>189.0</td>\n",
       "      <td>87455.0</td>\n",
       "      <td>2</td>\n",
       "      <td>5</td>\n",
       "      <td>2018</td>\n",
       "      <td>other</td>\n",
       "      <td>NaN</td>\n",
       "    </tr>\n",
       "    <tr>\n",
       "      <th>9</th>\n",
       "      <td>18</td>\n",
       "      <td>5400000.0</td>\n",
       "      <td>61.00</td>\n",
       "      <td>2017-02-26</td>\n",
       "      <td>3</td>\n",
       "      <td>2.50</td>\n",
       "      <td>9</td>\n",
       "      <td>43.60</td>\n",
       "      <td>7</td>\n",
       "      <td>False</td>\n",
       "      <td>False</td>\n",
       "      <td>False</td>\n",
       "      <td>6.50</td>\n",
       "      <td>2</td>\n",
       "      <td>Санкт-Петербург</td>\n",
       "      <td>50898.0</td>\n",
       "      <td>15008.0</td>\n",
       "      <td>0.0</td>\n",
       "      <td>NaN</td>\n",
       "      <td>0.0</td>\n",
       "      <td>NaN</td>\n",
       "      <td>289.0</td>\n",
       "      <td>88525.0</td>\n",
       "      <td>6</td>\n",
       "      <td>2</td>\n",
       "      <td>2017</td>\n",
       "      <td>other</td>\n",
       "      <td>15.0</td>\n",
       "    </tr>\n",
       "    <tr>\n",
       "      <th>10</th>\n",
       "      <td>5</td>\n",
       "      <td>5050000.0</td>\n",
       "      <td>39.60</td>\n",
       "      <td>2017-11-16</td>\n",
       "      <td>1</td>\n",
       "      <td>2.67</td>\n",
       "      <td>12</td>\n",
       "      <td>20.30</td>\n",
       "      <td>3</td>\n",
       "      <td>False</td>\n",
       "      <td>False</td>\n",
       "      <td>False</td>\n",
       "      <td>8.50</td>\n",
       "      <td>0</td>\n",
       "      <td>Санкт-Петербург</td>\n",
       "      <td>38357.0</td>\n",
       "      <td>13878.0</td>\n",
       "      <td>1.0</td>\n",
       "      <td>310.0</td>\n",
       "      <td>2.0</td>\n",
       "      <td>553.0</td>\n",
       "      <td>137.0</td>\n",
       "      <td>127525.0</td>\n",
       "      <td>3</td>\n",
       "      <td>11</td>\n",
       "      <td>2017</td>\n",
       "      <td>other</td>\n",
       "      <td>14.0</td>\n",
       "    </tr>\n",
       "    <tr>\n",
       "      <th>11</th>\n",
       "      <td>9</td>\n",
       "      <td>3300000.0</td>\n",
       "      <td>44.00</td>\n",
       "      <td>2018-08-27</td>\n",
       "      <td>2</td>\n",
       "      <td>NaN</td>\n",
       "      <td>5</td>\n",
       "      <td>31.00</td>\n",
       "      <td>4</td>\n",
       "      <td>False</td>\n",
       "      <td>False</td>\n",
       "      <td>False</td>\n",
       "      <td>6.00</td>\n",
       "      <td>1</td>\n",
       "      <td>Ломоносов</td>\n",
       "      <td>48252.0</td>\n",
       "      <td>51677.0</td>\n",
       "      <td>0.0</td>\n",
       "      <td>NaN</td>\n",
       "      <td>0.0</td>\n",
       "      <td>NaN</td>\n",
       "      <td>7.0</td>\n",
       "      <td>75000.0</td>\n",
       "      <td>0</td>\n",
       "      <td>8</td>\n",
       "      <td>2018</td>\n",
       "      <td>other</td>\n",
       "      <td>52.0</td>\n",
       "    </tr>\n",
       "  </tbody>\n",
       "</table>\n",
       "</div>"
      ],
      "text/plain": [
       "    total_images  last_price  total_area first_day_exposition  rooms  \\\n",
       "0             20  13000000.0      108.00           2019-03-07      3   \n",
       "1              7   3350000.0       40.40           2018-12-04      1   \n",
       "2             10   5196000.0       56.00           2015-08-20      2   \n",
       "4              2  10000000.0      100.00           2018-06-19      2   \n",
       "5             10   2890000.0       30.40           2018-09-10      1   \n",
       "7              5   7915000.0       71.60           2019-04-18      2   \n",
       "8             20   2900000.0       33.16           2018-05-23      1   \n",
       "9             18   5400000.0       61.00           2017-02-26      3   \n",
       "10             5   5050000.0       39.60           2017-11-16      1   \n",
       "11             9   3300000.0       44.00           2018-08-27      2   \n",
       "\n",
       "    ceiling_height  floors_total  living_area  floor  is_apartment  studio  \\\n",
       "0             2.70            16        51.00      8         False   False   \n",
       "1              NaN            11        18.60      1         False   False   \n",
       "2              NaN             5        34.30      4         False   False   \n",
       "4             3.03            14        32.00     13         False   False   \n",
       "5              NaN            12        14.40      5         False   False   \n",
       "7              NaN            24          NaN     22         False   False   \n",
       "8              NaN            27        15.43     26         False   False   \n",
       "9             2.50             9        43.60      7         False   False   \n",
       "10            2.67            12        20.30      3         False   False   \n",
       "11             NaN             5        31.00      4         False   False   \n",
       "\n",
       "    open_plan  kitchen_area  balcony                    locality_name  \\\n",
       "0       False         25.00        0                  Санкт-Петербург   \n",
       "1       False         11.00        2                   поселок Шушары   \n",
       "2       False          8.30        0                  Санкт-Петербург   \n",
       "4       False         41.00        0                  Санкт-Петербург   \n",
       "5       False          9.10        0  поселок городского типа Янино-1   \n",
       "7       False         18.90        2                  Санкт-Петербург   \n",
       "8       False          8.81        0                   поселок Мурино   \n",
       "9       False          6.50        2                  Санкт-Петербург   \n",
       "10      False          8.50        0                  Санкт-Петербург   \n",
       "11      False          6.00        1                        Ломоносов   \n",
       "\n",
       "    airports_nearest  cityCenters_nearest  parks_around3000  parks_nearest  \\\n",
       "0            18863.0              16028.0               1.0          482.0   \n",
       "1            12817.0              18603.0               0.0            NaN   \n",
       "2            21741.0              13933.0               1.0           90.0   \n",
       "4            31856.0               8098.0               2.0          112.0   \n",
       "5                NaN                  NaN               0.0            NaN   \n",
       "7            23982.0              11634.0               0.0            NaN   \n",
       "8                NaN                  NaN               0.0            NaN   \n",
       "9            50898.0              15008.0               0.0            NaN   \n",
       "10           38357.0              13878.0               1.0          310.0   \n",
       "11           48252.0              51677.0               0.0            NaN   \n",
       "\n",
       "    ponds_around3000  ponds_nearest  days_exposition  sq_m_price  weekday  \\\n",
       "0                2.0          755.0              NaN    120370.0        3   \n",
       "1                0.0            NaN             81.0     82921.0        1   \n",
       "2                2.0          574.0            558.0     92786.0        3   \n",
       "4                1.0           48.0            121.0    100000.0        1   \n",
       "5                0.0            NaN             55.0     95066.0        0   \n",
       "7                0.0            NaN              NaN    110545.0        3   \n",
       "8                0.0            NaN            189.0     87455.0        2   \n",
       "9                0.0            NaN            289.0     88525.0        6   \n",
       "10               2.0          553.0            137.0    127525.0        3   \n",
       "11               0.0            NaN              7.0     75000.0        0   \n",
       "\n",
       "    month  year floor_type  cityCenters_nearest_km  \n",
       "0       3  2019      other                    16.0  \n",
       "1      12  2018      first                    19.0  \n",
       "2       8  2015      other                    14.0  \n",
       "4       6  2018      other                     8.0  \n",
       "5       9  2018      other                     NaN  \n",
       "7       4  2019      other                    12.0  \n",
       "8       5  2018      other                     NaN  \n",
       "9       2  2017      other                    15.0  \n",
       "10     11  2017      other                    14.0  \n",
       "11      8  2018      other                    52.0  "
      ]
     },
     "execution_count": 56,
     "metadata": {},
     "output_type": "execute_result"
    }
   ],
   "source": [
    "data.head(10)"
   ]
  },
  {
   "cell_type": "markdown",
   "metadata": {},
   "source": [
    "### Проведите исследовательский анализ данных"
   ]
  },
  {
   "cell_type": "markdown",
   "metadata": {},
   "source": [
    "#### Изучите параметры объектов"
   ]
  },
  {
   "cell_type": "markdown",
   "metadata": {},
   "source": [
    "##### Общая площадь"
   ]
  },
  {
   "cell_type": "code",
   "execution_count": 57,
   "metadata": {},
   "outputs": [
    {
     "data": {
      "text/plain": [
       "Text(0.5, 1.0, 'Total area')"
      ]
     },
     "execution_count": 57,
     "metadata": {},
     "output_type": "execute_result"
    },
    {
     "data": {
      "image/png": "[encoded data removed]",
      "text/plain": [
       "<Figure size 1080x216 with 1 Axes>"
      ]
     },
     "metadata": {
      "needs_background": "light"
     },
     "output_type": "display_data"
    }
   ],
   "source": [
    "ax = data['total_area'].hist(bins=50, figsize=(15, 3))\n",
    "ax.set_xlabel('total area, sq.m')\n",
    "ax.set_ylabel('frequency')\n",
    "ax.set_title('Total area')"
   ]
  },
  {
   "cell_type": "code",
   "execution_count": 58,
   "metadata": {},
   "outputs": [
    {
     "data": {
      "text/plain": [
       "count    22896.000000\n",
       "mean        58.806419\n",
       "std         28.123876\n",
       "min         20.000000\n",
       "25%         40.000000\n",
       "50%         52.000000\n",
       "75%         69.000000\n",
       "max        301.900000\n",
       "Name: total_area, dtype: float64"
      ]
     },
     "execution_count": 58,
     "metadata": {},
     "output_type": "execute_result"
    }
   ],
   "source": [
    "data['total_area'].describe()"
   ]
  },
  {
   "cell_type": "markdown",
   "metadata": {},
   "source": [
    "В выборке представлены квартиры общей площадью от 20 до 301 квадратных метров. Средний показатель выборки - 59 кв. м. Медианный показатель - 52 кв. м. Основная часть квартир имеют общую площадь от 40 до 69 кв. м."
   ]
  },
  {
   "cell_type": "markdown",
   "metadata": {},
   "source": [
    "##### Жилая площадь"
   ]
  },
  {
   "cell_type": "code",
   "execution_count": 59,
   "metadata": {},
   "outputs": [
    {
     "data": {
      "text/plain": [
       "Text(0.5, 1.0, 'Living area')"
      ]
     },
     "execution_count": 59,
     "metadata": {},
     "output_type": "execute_result"
    },
    {
     "data": {
      "image/png": "[encoded data removed]",
      "text/plain": [
       "<Figure size 1080x216 with 1 Axes>"
      ]
     },
     "metadata": {
      "needs_background": "light"
     },
     "output_type": "display_data"
    }
   ],
   "source": [
    "ax = data['living_area'].hist(bins=50, figsize=(15, 3))\n",
    "ax.set_xlabel('living area, sq.m')\n",
    "ax.set_ylabel('frequency')\n",
    "ax.set_title('Living area')"
   ]
  },
  {
   "cell_type": "code",
   "execution_count": 60,
   "metadata": {},
   "outputs": [
    {
     "data": {
      "text/plain": [
       "count    21093.000000\n",
       "mean        33.680000\n",
       "std         18.364801\n",
       "min         10.900000\n",
       "25%         18.620000\n",
       "50%         30.000000\n",
       "75%         42.100000\n",
       "max        180.000000\n",
       "Name: living_area, dtype: float64"
      ]
     },
     "execution_count": 60,
     "metadata": {},
     "output_type": "execute_result"
    }
   ],
   "source": [
    "data['living_area'].describe()"
   ]
  },
  {
   "cell_type": "markdown",
   "metadata": {},
   "source": [
    "В выборке представлены квартиры с жилой площадью от 11 до 180 квадратных метров. Средний показатель выборки - 34 кв. м. Медианный показатель - 30 кв. м. Основная часть квартир имеют жилую площадь от 19 до 42 кв. м."
   ]
  },
  {
   "cell_type": "markdown",
   "metadata": {},
   "source": [
    "##### Площадь кухни"
   ]
  },
  {
   "cell_type": "code",
   "execution_count": 61,
   "metadata": {},
   "outputs": [
    {
     "data": {
      "text/plain": [
       "Text(0.5, 1.0, 'Kitchen area')"
      ]
     },
     "execution_count": 61,
     "metadata": {},
     "output_type": "execute_result"
    },
    {
     "data": {
      "image/png": "[encoded data removed]",
      "text/plain": [
       "<Figure size 1080x216 with 1 Axes>"
      ]
     },
     "metadata": {
      "needs_background": "light"
     },
     "output_type": "display_data"
    }
   ],
   "source": [
    "ax = data['kitchen_area'].hist(bins=50, figsize=(15, 3))\n",
    "ax.set_xlabel('kitchen area, sq.m')\n",
    "ax.set_ylabel('frequency')\n",
    "ax.set_title('Kitchen area')"
   ]
  },
  {
   "cell_type": "code",
   "execution_count": 62,
   "metadata": {},
   "outputs": [
    {
     "data": {
      "text/plain": [
       "count    20770.000000\n",
       "mean        10.344982\n",
       "std          4.946060\n",
       "min          5.000000\n",
       "25%          7.000000\n",
       "50%          9.100000\n",
       "75%         12.000000\n",
       "max         46.000000\n",
       "Name: kitchen_area, dtype: float64"
      ]
     },
     "execution_count": 62,
     "metadata": {},
     "output_type": "execute_result"
    }
   ],
   "source": [
    "data['kitchen_area'].describe()"
   ]
  },
  {
   "cell_type": "markdown",
   "metadata": {},
   "source": [
    "В выборке представлены квартиры с площадью кухни от 5 до 46 квадратных метров. Средний показатель выборки - 10 кв. м. Медианный показатель - 9 кв. м. Основная часть квартир имеют площадь кухни от 7 до 12 кв. м."
   ]
  },
  {
   "cell_type": "markdown",
   "metadata": {},
   "source": [
    "##### Цена объекта"
   ]
  },
  {
   "cell_type": "code",
   "execution_count": 63,
   "metadata": {},
   "outputs": [
    {
     "data": {
      "text/plain": [
       "Text(0.5, 1.0, 'Last price')"
      ]
     },
     "execution_count": 63,
     "metadata": {},
     "output_type": "execute_result"
    },
    {
     "data": {
      "image/png": "[encoded data removed]",
      "text/plain": [
       "<Figure size 1080x216 with 1 Axes>"
      ]
     },
     "metadata": {
      "needs_background": "light"
     },
     "output_type": "display_data"
    }
   ],
   "source": [
    "ax = data['last_price'].hist(bins=200, figsize=(15, 3))\n",
    "ax.set_xlabel('price, 10M')\n",
    "ax.set_ylabel('frequency')\n",
    "ax.set_title('Last price')"
   ]
  },
  {
   "cell_type": "code",
   "execution_count": 64,
   "metadata": {},
   "outputs": [
    {
     "data": {
      "text/plain": [
       "count    2.289600e+04\n",
       "mean     5.970191e+06\n",
       "std      4.811039e+06\n",
       "min      8.000000e+05\n",
       "25%      3.450000e+06\n",
       "50%      4.650000e+06\n",
       "75%      6.700000e+06\n",
       "max      5.380000e+07\n",
       "Name: last_price, dtype: float64"
      ]
     },
     "execution_count": 64,
     "metadata": {},
     "output_type": "execute_result"
    }
   ],
   "source": [
    "data['last_price'].describe()"
   ]
  },
  {
   "cell_type": "markdown",
   "metadata": {},
   "source": [
    "В выборке представлены квартиры стоимостью от 800 тысяч до 54 млн. Средний показатель выборки - 6 млн. Медианный показатель - 4,7 млн. Основная часть квартир имеют стоимость от 3,5 до 6,7 млн."
   ]
  },
  {
   "cell_type": "markdown",
   "metadata": {},
   "source": [
    "##### Количество комнат"
   ]
  },
  {
   "cell_type": "code",
   "execution_count": 65,
   "metadata": {},
   "outputs": [
    {
     "data": {
      "text/plain": [
       "Text(0.5, 1.0, 'Number of rooms')"
      ]
     },
     "execution_count": 65,
     "metadata": {},
     "output_type": "execute_result"
    },
    {
     "data": {
      "image/png": "[encoded data removed]",
      "text/plain": [
       "<Figure size 1080x216 with 1 Axes>"
      ]
     },
     "metadata": {
      "needs_background": "light"
     },
     "output_type": "display_data"
    }
   ],
   "source": [
    "ax = data['rooms'].hist(bins=7, figsize=(15, 3))\n",
    "ax.set_xlabel('number of rooms')\n",
    "ax.set_ylabel('frequency')\n",
    "ax.set_title('Number of rooms')"
   ]
  },
  {
   "cell_type": "code",
   "execution_count": 66,
   "metadata": {},
   "outputs": [
    {
     "data": {
      "text/plain": [
       "count    22896.000000\n",
       "mean         2.050751\n",
       "std          1.011207\n",
       "min          0.000000\n",
       "25%          1.000000\n",
       "50%          2.000000\n",
       "75%          3.000000\n",
       "max          7.000000\n",
       "Name: rooms, dtype: float64"
      ]
     },
     "execution_count": 66,
     "metadata": {},
     "output_type": "execute_result"
    }
   ],
   "source": [
    "data['rooms'].describe()"
   ]
  },
  {
   "cell_type": "markdown",
   "metadata": {},
   "source": [
    "В выборке представлены квартиры с количеством комнат от 0 до 7. Средний показатель выборки - 2 комнаты. Медианный показатель - 2 комнаты. Основная часть квартир имеют от 1 до 3 комнат."
   ]
  },
  {
   "cell_type": "markdown",
   "metadata": {},
   "source": [
    "##### Высота потолков"
   ]
  },
  {
   "cell_type": "code",
   "execution_count": 67,
   "metadata": {},
   "outputs": [
    {
     "data": {
      "text/plain": [
       "Text(0.5, 1.0, 'Ceiling height')"
      ]
     },
     "execution_count": 67,
     "metadata": {},
     "output_type": "execute_result"
    },
    {
     "data": {
      "image/png": "[encoded data removed]",
      "text/plain": [
       "<Figure size 1080x216 with 1 Axes>"
      ]
     },
     "metadata": {
      "needs_background": "light"
     },
     "output_type": "display_data"
    }
   ],
   "source": [
    "ax = data['ceiling_height'].hist(bins=50, figsize=(15, 3))\n",
    "ax.set_xlabel('ceiling height, m')\n",
    "ax.set_ylabel('frequency')\n",
    "ax.set_title('Ceiling height')"
   ]
  },
  {
   "cell_type": "code",
   "execution_count": 68,
   "metadata": {},
   "outputs": [
    {
     "data": {
      "text/html": [
       "<div>\n",
       "<style scoped>\n",
       "    .dataframe tbody tr th:only-of-type {\n",
       "        vertical-align: middle;\n",
       "    }\n",
       "\n",
       "    .dataframe tbody tr th {\n",
       "        vertical-align: top;\n",
       "    }\n",
       "\n",
       "    .dataframe thead th {\n",
       "        text-align: right;\n",
       "    }\n",
       "</style>\n",
       "<table border=\"1\" class=\"dataframe\">\n",
       "  <thead>\n",
       "    <tr style=\"text-align: right;\">\n",
       "      <th></th>\n",
       "      <th>total_images</th>\n",
       "      <th>last_price</th>\n",
       "      <th>total_area</th>\n",
       "      <th>first_day_exposition</th>\n",
       "      <th>rooms</th>\n",
       "      <th>ceiling_height</th>\n",
       "      <th>floors_total</th>\n",
       "      <th>living_area</th>\n",
       "      <th>floor</th>\n",
       "      <th>is_apartment</th>\n",
       "      <th>studio</th>\n",
       "      <th>open_plan</th>\n",
       "      <th>kitchen_area</th>\n",
       "      <th>balcony</th>\n",
       "      <th>locality_name</th>\n",
       "      <th>airports_nearest</th>\n",
       "      <th>cityCenters_nearest</th>\n",
       "      <th>parks_around3000</th>\n",
       "      <th>parks_nearest</th>\n",
       "      <th>ponds_around3000</th>\n",
       "      <th>ponds_nearest</th>\n",
       "      <th>days_exposition</th>\n",
       "      <th>sq_m_price</th>\n",
       "      <th>weekday</th>\n",
       "      <th>month</th>\n",
       "      <th>year</th>\n",
       "      <th>floor_type</th>\n",
       "      <th>cityCenters_nearest_km</th>\n",
       "    </tr>\n",
       "  </thead>\n",
       "  <tbody>\n",
       "    <tr>\n",
       "      <th>144</th>\n",
       "      <td>1</td>\n",
       "      <td>2450000.0</td>\n",
       "      <td>27.00</td>\n",
       "      <td>2017-03-30</td>\n",
       "      <td>0</td>\n",
       "      <td>NaN</td>\n",
       "      <td>24</td>\n",
       "      <td>15.50</td>\n",
       "      <td>2</td>\n",
       "      <td>False</td>\n",
       "      <td>True</td>\n",
       "      <td>False</td>\n",
       "      <td>NaN</td>\n",
       "      <td>2</td>\n",
       "      <td>поселок Мурино</td>\n",
       "      <td>NaN</td>\n",
       "      <td>NaN</td>\n",
       "      <td>0.0</td>\n",
       "      <td>NaN</td>\n",
       "      <td>0.0</td>\n",
       "      <td>NaN</td>\n",
       "      <td>181.0</td>\n",
       "      <td>90741.0</td>\n",
       "      <td>3</td>\n",
       "      <td>3</td>\n",
       "      <td>2017</td>\n",
       "      <td>other</td>\n",
       "      <td>NaN</td>\n",
       "    </tr>\n",
       "    <tr>\n",
       "      <th>349</th>\n",
       "      <td>4</td>\n",
       "      <td>2320000.0</td>\n",
       "      <td>25.00</td>\n",
       "      <td>2017-09-27</td>\n",
       "      <td>0</td>\n",
       "      <td>NaN</td>\n",
       "      <td>14</td>\n",
       "      <td>17.00</td>\n",
       "      <td>1</td>\n",
       "      <td>False</td>\n",
       "      <td>False</td>\n",
       "      <td>True</td>\n",
       "      <td>NaN</td>\n",
       "      <td>0</td>\n",
       "      <td>деревня Кудрово</td>\n",
       "      <td>NaN</td>\n",
       "      <td>NaN</td>\n",
       "      <td>0.0</td>\n",
       "      <td>NaN</td>\n",
       "      <td>0.0</td>\n",
       "      <td>NaN</td>\n",
       "      <td>45.0</td>\n",
       "      <td>92800.0</td>\n",
       "      <td>2</td>\n",
       "      <td>9</td>\n",
       "      <td>2017</td>\n",
       "      <td>first</td>\n",
       "      <td>NaN</td>\n",
       "    </tr>\n",
       "    <tr>\n",
       "      <th>440</th>\n",
       "      <td>8</td>\n",
       "      <td>2480000.0</td>\n",
       "      <td>27.11</td>\n",
       "      <td>2018-03-12</td>\n",
       "      <td>0</td>\n",
       "      <td>NaN</td>\n",
       "      <td>17</td>\n",
       "      <td>24.75</td>\n",
       "      <td>4</td>\n",
       "      <td>False</td>\n",
       "      <td>True</td>\n",
       "      <td>False</td>\n",
       "      <td>NaN</td>\n",
       "      <td>2</td>\n",
       "      <td>Санкт-Петербург</td>\n",
       "      <td>38171.0</td>\n",
       "      <td>15015.0</td>\n",
       "      <td>0.0</td>\n",
       "      <td>NaN</td>\n",
       "      <td>2.0</td>\n",
       "      <td>982.0</td>\n",
       "      <td>64.0</td>\n",
       "      <td>91479.0</td>\n",
       "      <td>0</td>\n",
       "      <td>3</td>\n",
       "      <td>2018</td>\n",
       "      <td>other</td>\n",
       "      <td>15.0</td>\n",
       "    </tr>\n",
       "    <tr>\n",
       "      <th>508</th>\n",
       "      <td>0</td>\n",
       "      <td>3375000.0</td>\n",
       "      <td>34.40</td>\n",
       "      <td>2017-03-28</td>\n",
       "      <td>0</td>\n",
       "      <td>NaN</td>\n",
       "      <td>26</td>\n",
       "      <td>24.30</td>\n",
       "      <td>19</td>\n",
       "      <td>False</td>\n",
       "      <td>False</td>\n",
       "      <td>True</td>\n",
       "      <td>NaN</td>\n",
       "      <td>1</td>\n",
       "      <td>поселок Парголово</td>\n",
       "      <td>53115.0</td>\n",
       "      <td>19292.0</td>\n",
       "      <td>0.0</td>\n",
       "      <td>NaN</td>\n",
       "      <td>1.0</td>\n",
       "      <td>593.0</td>\n",
       "      <td>430.0</td>\n",
       "      <td>98110.0</td>\n",
       "      <td>1</td>\n",
       "      <td>3</td>\n",
       "      <td>2017</td>\n",
       "      <td>other</td>\n",
       "      <td>19.0</td>\n",
       "    </tr>\n",
       "    <tr>\n",
       "      <th>608</th>\n",
       "      <td>2</td>\n",
       "      <td>1850000.0</td>\n",
       "      <td>25.00</td>\n",
       "      <td>2019-02-20</td>\n",
       "      <td>0</td>\n",
       "      <td>NaN</td>\n",
       "      <td>10</td>\n",
       "      <td>NaN</td>\n",
       "      <td>7</td>\n",
       "      <td>False</td>\n",
       "      <td>True</td>\n",
       "      <td>False</td>\n",
       "      <td>NaN</td>\n",
       "      <td>0</td>\n",
       "      <td>поселок Шушары</td>\n",
       "      <td>NaN</td>\n",
       "      <td>NaN</td>\n",
       "      <td>0.0</td>\n",
       "      <td>NaN</td>\n",
       "      <td>0.0</td>\n",
       "      <td>NaN</td>\n",
       "      <td>29.0</td>\n",
       "      <td>74000.0</td>\n",
       "      <td>2</td>\n",
       "      <td>2</td>\n",
       "      <td>2019</td>\n",
       "      <td>other</td>\n",
       "      <td>NaN</td>\n",
       "    </tr>\n",
       "    <tr>\n",
       "      <th>...</th>\n",
       "      <td>...</td>\n",
       "      <td>...</td>\n",
       "      <td>...</td>\n",
       "      <td>...</td>\n",
       "      <td>...</td>\n",
       "      <td>...</td>\n",
       "      <td>...</td>\n",
       "      <td>...</td>\n",
       "      <td>...</td>\n",
       "      <td>...</td>\n",
       "      <td>...</td>\n",
       "      <td>...</td>\n",
       "      <td>...</td>\n",
       "      <td>...</td>\n",
       "      <td>...</td>\n",
       "      <td>...</td>\n",
       "      <td>...</td>\n",
       "      <td>...</td>\n",
       "      <td>...</td>\n",
       "      <td>...</td>\n",
       "      <td>...</td>\n",
       "      <td>...</td>\n",
       "      <td>...</td>\n",
       "      <td>...</td>\n",
       "      <td>...</td>\n",
       "      <td>...</td>\n",
       "      <td>...</td>\n",
       "      <td>...</td>\n",
       "    </tr>\n",
       "    <tr>\n",
       "      <th>23210</th>\n",
       "      <td>7</td>\n",
       "      <td>3200000.0</td>\n",
       "      <td>26.00</td>\n",
       "      <td>2017-09-01</td>\n",
       "      <td>0</td>\n",
       "      <td>NaN</td>\n",
       "      <td>25</td>\n",
       "      <td>18.00</td>\n",
       "      <td>16</td>\n",
       "      <td>False</td>\n",
       "      <td>True</td>\n",
       "      <td>False</td>\n",
       "      <td>NaN</td>\n",
       "      <td>0</td>\n",
       "      <td>Санкт-Петербург</td>\n",
       "      <td>11405.0</td>\n",
       "      <td>13222.0</td>\n",
       "      <td>0.0</td>\n",
       "      <td>NaN</td>\n",
       "      <td>1.0</td>\n",
       "      <td>623.0</td>\n",
       "      <td>14.0</td>\n",
       "      <td>123077.0</td>\n",
       "      <td>4</td>\n",
       "      <td>9</td>\n",
       "      <td>2017</td>\n",
       "      <td>other</td>\n",
       "      <td>13.0</td>\n",
       "    </tr>\n",
       "    <tr>\n",
       "      <th>23442</th>\n",
       "      <td>0</td>\n",
       "      <td>2500000.0</td>\n",
       "      <td>27.70</td>\n",
       "      <td>2017-09-28</td>\n",
       "      <td>0</td>\n",
       "      <td>NaN</td>\n",
       "      <td>24</td>\n",
       "      <td>18.00</td>\n",
       "      <td>4</td>\n",
       "      <td>False</td>\n",
       "      <td>False</td>\n",
       "      <td>True</td>\n",
       "      <td>NaN</td>\n",
       "      <td>2</td>\n",
       "      <td>поселок Мурино</td>\n",
       "      <td>NaN</td>\n",
       "      <td>NaN</td>\n",
       "      <td>0.0</td>\n",
       "      <td>NaN</td>\n",
       "      <td>0.0</td>\n",
       "      <td>NaN</td>\n",
       "      <td>4.0</td>\n",
       "      <td>90253.0</td>\n",
       "      <td>3</td>\n",
       "      <td>9</td>\n",
       "      <td>2017</td>\n",
       "      <td>other</td>\n",
       "      <td>NaN</td>\n",
       "    </tr>\n",
       "    <tr>\n",
       "      <th>23554</th>\n",
       "      <td>15</td>\n",
       "      <td>3350000.0</td>\n",
       "      <td>26.00</td>\n",
       "      <td>2018-09-07</td>\n",
       "      <td>0</td>\n",
       "      <td>NaN</td>\n",
       "      <td>19</td>\n",
       "      <td>NaN</td>\n",
       "      <td>8</td>\n",
       "      <td>False</td>\n",
       "      <td>True</td>\n",
       "      <td>False</td>\n",
       "      <td>NaN</td>\n",
       "      <td>0</td>\n",
       "      <td>Санкт-Петербург</td>\n",
       "      <td>18090.0</td>\n",
       "      <td>17092.0</td>\n",
       "      <td>0.0</td>\n",
       "      <td>NaN</td>\n",
       "      <td>2.0</td>\n",
       "      <td>112.0</td>\n",
       "      <td>31.0</td>\n",
       "      <td>128846.0</td>\n",
       "      <td>4</td>\n",
       "      <td>9</td>\n",
       "      <td>2018</td>\n",
       "      <td>other</td>\n",
       "      <td>17.0</td>\n",
       "    </tr>\n",
       "    <tr>\n",
       "      <th>23592</th>\n",
       "      <td>10</td>\n",
       "      <td>1450000.0</td>\n",
       "      <td>29.00</td>\n",
       "      <td>2017-11-11</td>\n",
       "      <td>0</td>\n",
       "      <td>NaN</td>\n",
       "      <td>9</td>\n",
       "      <td>18.00</td>\n",
       "      <td>8</td>\n",
       "      <td>False</td>\n",
       "      <td>False</td>\n",
       "      <td>True</td>\n",
       "      <td>NaN</td>\n",
       "      <td>2</td>\n",
       "      <td>Никольское</td>\n",
       "      <td>NaN</td>\n",
       "      <td>NaN</td>\n",
       "      <td>0.0</td>\n",
       "      <td>NaN</td>\n",
       "      <td>0.0</td>\n",
       "      <td>NaN</td>\n",
       "      <td>82.0</td>\n",
       "      <td>50000.0</td>\n",
       "      <td>5</td>\n",
       "      <td>11</td>\n",
       "      <td>2017</td>\n",
       "      <td>other</td>\n",
       "      <td>NaN</td>\n",
       "    </tr>\n",
       "    <tr>\n",
       "      <th>23637</th>\n",
       "      <td>8</td>\n",
       "      <td>2350000.0</td>\n",
       "      <td>26.00</td>\n",
       "      <td>2018-06-26</td>\n",
       "      <td>0</td>\n",
       "      <td>NaN</td>\n",
       "      <td>25</td>\n",
       "      <td>17.00</td>\n",
       "      <td>4</td>\n",
       "      <td>False</td>\n",
       "      <td>True</td>\n",
       "      <td>False</td>\n",
       "      <td>NaN</td>\n",
       "      <td>2</td>\n",
       "      <td>поселок Бугры</td>\n",
       "      <td>NaN</td>\n",
       "      <td>NaN</td>\n",
       "      <td>0.0</td>\n",
       "      <td>NaN</td>\n",
       "      <td>0.0</td>\n",
       "      <td>NaN</td>\n",
       "      <td>207.0</td>\n",
       "      <td>90385.0</td>\n",
       "      <td>1</td>\n",
       "      <td>6</td>\n",
       "      <td>2018</td>\n",
       "      <td>other</td>\n",
       "      <td>NaN</td>\n",
       "    </tr>\n",
       "  </tbody>\n",
       "</table>\n",
       "<p>178 rows × 28 columns</p>\n",
       "</div>"
      ],
      "text/plain": [
       "       total_images  last_price  total_area first_day_exposition  rooms  \\\n",
       "144               1   2450000.0       27.00           2017-03-30      0   \n",
       "349               4   2320000.0       25.00           2017-09-27      0   \n",
       "440               8   2480000.0       27.11           2018-03-12      0   \n",
       "508               0   3375000.0       34.40           2017-03-28      0   \n",
       "608               2   1850000.0       25.00           2019-02-20      0   \n",
       "...             ...         ...         ...                  ...    ...   \n",
       "23210             7   3200000.0       26.00           2017-09-01      0   \n",
       "23442             0   2500000.0       27.70           2017-09-28      0   \n",
       "23554            15   3350000.0       26.00           2018-09-07      0   \n",
       "23592            10   1450000.0       29.00           2017-11-11      0   \n",
       "23637             8   2350000.0       26.00           2018-06-26      0   \n",
       "\n",
       "       ceiling_height  floors_total  living_area  floor  is_apartment  studio  \\\n",
       "144               NaN            24        15.50      2         False    True   \n",
       "349               NaN            14        17.00      1         False   False   \n",
       "440               NaN            17        24.75      4         False    True   \n",
       "508               NaN            26        24.30     19         False   False   \n",
       "608               NaN            10          NaN      7         False    True   \n",
       "...               ...           ...          ...    ...           ...     ...   \n",
       "23210             NaN            25        18.00     16         False    True   \n",
       "23442             NaN            24        18.00      4         False   False   \n",
       "23554             NaN            19          NaN      8         False    True   \n",
       "23592             NaN             9        18.00      8         False   False   \n",
       "23637             NaN            25        17.00      4         False    True   \n",
       "\n",
       "       open_plan  kitchen_area  balcony      locality_name  airports_nearest  \\\n",
       "144        False           NaN        2     поселок Мурино               NaN   \n",
       "349         True           NaN        0    деревня Кудрово               NaN   \n",
       "440        False           NaN        2    Санкт-Петербург           38171.0   \n",
       "508         True           NaN        1  поселок Парголово           53115.0   \n",
       "608        False           NaN        0     поселок Шушары               NaN   \n",
       "...          ...           ...      ...                ...               ...   \n",
       "23210      False           NaN        0    Санкт-Петербург           11405.0   \n",
       "23442       True           NaN        2     поселок Мурино               NaN   \n",
       "23554      False           NaN        0    Санкт-Петербург           18090.0   \n",
       "23592       True           NaN        2         Никольское               NaN   \n",
       "23637      False           NaN        2      поселок Бугры               NaN   \n",
       "\n",
       "       cityCenters_nearest  parks_around3000  parks_nearest  ponds_around3000  \\\n",
       "144                    NaN               0.0            NaN               0.0   \n",
       "349                    NaN               0.0            NaN               0.0   \n",
       "440                15015.0               0.0            NaN               2.0   \n",
       "508                19292.0               0.0            NaN               1.0   \n",
       "608                    NaN               0.0            NaN               0.0   \n",
       "...                    ...               ...            ...               ...   \n",
       "23210              13222.0               0.0            NaN               1.0   \n",
       "23442                  NaN               0.0            NaN               0.0   \n",
       "23554              17092.0               0.0            NaN               2.0   \n",
       "23592                  NaN               0.0            NaN               0.0   \n",
       "23637                  NaN               0.0            NaN               0.0   \n",
       "\n",
       "       ponds_nearest  days_exposition  sq_m_price  weekday  month  year  \\\n",
       "144              NaN            181.0     90741.0        3      3  2017   \n",
       "349              NaN             45.0     92800.0        2      9  2017   \n",
       "440            982.0             64.0     91479.0        0      3  2018   \n",
       "508            593.0            430.0     98110.0        1      3  2017   \n",
       "608              NaN             29.0     74000.0        2      2  2019   \n",
       "...              ...              ...         ...      ...    ...   ...   \n",
       "23210          623.0             14.0    123077.0        4      9  2017   \n",
       "23442            NaN              4.0     90253.0        3      9  2017   \n",
       "23554          112.0             31.0    128846.0        4      9  2018   \n",
       "23592            NaN             82.0     50000.0        5     11  2017   \n",
       "23637            NaN            207.0     90385.0        1      6  2018   \n",
       "\n",
       "      floor_type  cityCenters_nearest_km  \n",
       "144        other                     NaN  \n",
       "349        first                     NaN  \n",
       "440        other                    15.0  \n",
       "508        other                    19.0  \n",
       "608        other                     NaN  \n",
       "...          ...                     ...  \n",
       "23210      other                    13.0  \n",
       "23442      other                     NaN  \n",
       "23554      other                    17.0  \n",
       "23592      other                     NaN  \n",
       "23637      other                     NaN  \n",
       "\n",
       "[178 rows x 28 columns]"
      ]
     },
     "execution_count": 68,
     "metadata": {},
     "output_type": "execute_result"
    }
   ],
   "source": [
    "data.query('rooms == 0')"
   ]
  },
  {
   "cell_type": "code",
   "execution_count": 69,
   "metadata": {},
   "outputs": [
    {
     "data": {
      "text/plain": [
       "count    14034.000000\n",
       "mean         2.720338\n",
       "std          0.257694\n",
       "min          2.500000\n",
       "25%          2.520000\n",
       "50%          2.650000\n",
       "75%          2.800000\n",
       "max          4.400000\n",
       "Name: ceiling_height, dtype: float64"
      ]
     },
     "execution_count": 69,
     "metadata": {},
     "output_type": "execute_result"
    }
   ],
   "source": [
    "data['ceiling_height'].describe()"
   ]
  },
  {
   "cell_type": "markdown",
   "metadata": {},
   "source": [
    "В выборке представлены квартиры с высотой потолков от 2,5 м до 4,4 м. Средний показатель выборки - 2,7 м. Медианный показатель - 2,7 млн. Основная часть квартир имеют высоту потолков от 2,5 до 2,8 м."
   ]
  },
  {
   "cell_type": "markdown",
   "metadata": {},
   "source": [
    "##### Этаж квартиры"
   ]
  },
  {
   "cell_type": "code",
   "execution_count": null,
   "metadata": {},
   "outputs": [
    {
     "data": {
      "text/plain": [
       "Text(0.5, 1.0, 'Floor')"
      ]
     },
     "execution_count": 71,
     "metadata": {},
     "output_type": "execute_result"
    },
    {
     "data": {
      "image/png": "[encoded data removed]",
      "text/plain": [
       "<Figure size 1080x216 with 1 Axes>"
      ]
     },
     "metadata": {
      "needs_background": "light"
     },
     "output_type": "display_data"
    }
   ],
   "source": [
    "ax = data['floor'].hist(bins=54, figsize=(15, 3))\n",
    "ax.set_xlabel('floor')\n",
    "ax.set_ylabel('frequency')\n",
    "ax.set_title('Floor')"
   ]
  },
  {
   "cell_type": "markdown",
   "metadata": {},
   "source": [
    "Провал появляется после 5 этажей, и затем после 9. Это логично, учитывая что типовая застройка 5-ти и 9-тиэтажная"
   ]
  },
  {
   "cell_type": "code",
   "execution_count": 72,
   "metadata": {},
   "outputs": [
    {
     "data": {
      "text/plain": [
       "count    22896.000000\n",
       "mean         5.898672\n",
       "std          4.861555\n",
       "min          1.000000\n",
       "25%          2.000000\n",
       "50%          4.000000\n",
       "75%          8.000000\n",
       "max         27.000000\n",
       "Name: floor, dtype: float64"
      ]
     },
     "execution_count": 72,
     "metadata": {},
     "output_type": "execute_result"
    }
   ],
   "source": [
    "data['floor'].describe()"
   ]
  },
  {
   "cell_type": "markdown",
   "metadata": {},
   "source": [
    "В выборке представлены квартиры, находящееся на этажах от 1 до 27. Средний показатель выборки - 6 этаж. Медианный показатель - 4 этаж. Основная часть квартир находятся на этажах от 2 до 8."
   ]
  },
  {
   "cell_type": "markdown",
   "metadata": {},
   "source": [
    "##### Тип этажа квартиры"
   ]
  },
  {
   "cell_type": "code",
   "execution_count": 73,
   "metadata": {},
   "outputs": [
    {
     "data": {
      "text/plain": [
       "Text(0.5, 1.0, 'Floor type')"
      ]
     },
     "execution_count": 73,
     "metadata": {},
     "output_type": "execute_result"
    },
    {
     "data": {
      "image/png": "[encoded data removed]",
      "text/plain": [
       "<Figure size 1080x216 with 1 Axes>"
      ]
     },
     "metadata": {
      "needs_background": "light"
     },
     "output_type": "display_data"
    }
   ],
   "source": [
    "data['floor_type'].hist(bins=3, figsize=(15, 3))\n",
    "ax.set_xlabel('floor type')\n",
    "ax.set_ylabel('frequency')\n",
    "ax.set_title('Floor type')"
   ]
  },
  {
   "cell_type": "code",
   "execution_count": 74,
   "metadata": {},
   "outputs": [
    {
     "data": {
      "text/plain": [
       "floor_type\n",
       "first     2786\n",
       "last      3164\n",
       "other    16946\n",
       "Name: floor_type, dtype: int64"
      ]
     },
     "execution_count": 74,
     "metadata": {},
     "output_type": "execute_result"
    }
   ],
   "source": [
    "data.groupby(by='floor_type')['floor_type'].count()"
   ]
  },
  {
   "cell_type": "markdown",
   "metadata": {},
   "source": [
    "В основном квартиры, представленные в выборке, находятся не на первом и не на последнем этаже. Квартиры на первом и последнем этаже составляют примерно по 20% в выборке."
   ]
  },
  {
   "cell_type": "markdown",
   "metadata": {},
   "source": [
    "##### Общее количество этажей в доме"
   ]
  },
  {
   "cell_type": "code",
   "execution_count": 75,
   "metadata": {
    "scrolled": true
   },
   "outputs": [
    {
     "data": {
      "text/plain": [
       "Text(0.5, 1.0, 'Floors total')"
      ]
     },
     "execution_count": 75,
     "metadata": {},
     "output_type": "execute_result"
    },
    {
     "data": {
      "image/png": "[encoded data removed]",
      "text/plain": [
       "<Figure size 1080x216 with 1 Axes>"
      ]
     },
     "metadata": {
      "needs_background": "light"
     },
     "output_type": "display_data"
    }
   ],
   "source": [
    "ax = data['floors_total'].hist(bins=27, figsize=(15, 3))\n",
    "ax.set_xlabel('floors total')\n",
    "ax.set_ylabel('frequency')\n",
    "ax.set_title('Floors total')"
   ]
  },
  {
   "cell_type": "markdown",
   "metadata": {},
   "source": [
    "В выборке представлены дома от 1 до 27 этажей. Основная часть квартир находится в пятиэтажках и девятиэтажках. Пики поменьше приходятся на 12-, 16- и 25-этажки."
   ]
  },
  {
   "cell_type": "markdown",
   "metadata": {},
   "source": [
    "##### Расстояние до центра города"
   ]
  },
  {
   "cell_type": "code",
   "execution_count": 76,
   "metadata": {},
   "outputs": [
    {
     "data": {
      "text/plain": [
       "Text(0.5, 1.0, 'City center nearest')"
      ]
     },
     "execution_count": 76,
     "metadata": {},
     "output_type": "execute_result"
    },
    {
     "data": {
      "image/png": "[encoded data removed]",
      "text/plain": [
       "<Figure size 1080x216 with 1 Axes>"
      ]
     },
     "metadata": {
      "needs_background": "light"
     },
     "output_type": "display_data"
    }
   ],
   "source": [
    "ax = data['cityCenters_nearest'].hist(bins=66, figsize=(15, 3))\n",
    "ax.set_xlabel('city center nearest, m')\n",
    "ax.set_ylabel('frequency')\n",
    "ax.set_title('City center nearest')"
   ]
  },
  {
   "cell_type": "code",
   "execution_count": 77,
   "metadata": {},
   "outputs": [
    {
     "data": {
      "text/plain": [
       "count    17620.000000\n",
       "mean     14252.653178\n",
       "std       8560.618603\n",
       "min        181.000000\n",
       "25%       9425.000000\n",
       "50%      13145.000000\n",
       "75%      16293.000000\n",
       "max      65968.000000\n",
       "Name: cityCenters_nearest, dtype: float64"
      ]
     },
     "execution_count": 77,
     "metadata": {},
     "output_type": "execute_result"
    }
   ],
   "source": [
    "data['cityCenters_nearest'].describe()"
   ]
  },
  {
   "cell_type": "markdown",
   "metadata": {},
   "source": [
    "Расстояние от центра города до квартир в выборке может достигать 66 км. Основная часть квартир находится на расстоянии от 10 до 16 км - это спальные районы и ближайший пригород. Пик поменьше приходится на центр города - от 3 до 6 км. Также есть небольшой пик от 30 до 34 км - это города-сателлиты Петербурга"
   ]
  },
  {
   "cell_type": "markdown",
   "metadata": {},
   "source": [
    "##### Расстояние до ближайшего аэропорта"
   ]
  },
  {
   "cell_type": "code",
   "execution_count": 78,
   "metadata": {},
   "outputs": [
    {
     "data": {
      "text/plain": [
       "Text(0.5, 1.0, 'Airport nearest')"
      ]
     },
     "execution_count": 78,
     "metadata": {},
     "output_type": "execute_result"
    },
    {
     "data": {
      "image/png": "[encoded data removed]",
      "text/plain": [
       "<Figure size 1080x216 with 1 Axes>"
      ]
     },
     "metadata": {
      "needs_background": "light"
     },
     "output_type": "display_data"
    }
   ],
   "source": [
    "ax = data['airports_nearest'].hist(bins=20, figsize=(15, 3))\n",
    "ax.set_xlabel('airport nearest, m')\n",
    "ax.set_ylabel('frequency')\n",
    "ax.set_title('Airport nearest')"
   ]
  },
  {
   "cell_type": "code",
   "execution_count": 79,
   "metadata": {},
   "outputs": [
    {
     "data": {
      "text/plain": [
       "count    17600.000000\n",
       "mean     28823.068125\n",
       "std      12650.367556\n",
       "min          0.000000\n",
       "25%      18497.500000\n",
       "50%      26817.000000\n",
       "75%      37347.250000\n",
       "max      84869.000000\n",
       "Name: airports_nearest, dtype: float64"
      ]
     },
     "execution_count": 79,
     "metadata": {},
     "output_type": "execute_result"
    }
   ],
   "source": [
    "data['airports_nearest'].describe()"
   ]
  },
  {
   "cell_type": "markdown",
   "metadata": {},
   "source": [
    "Расстояние от квартир, представленных в выборке, до аэропорта варьируется от 7 км до 85 км. Среднее растояние - 29 км. Медианное расстояние - 27 км. Основная часть квартир находится от аэропорта на расстоянии от 18 до 37 км."
   ]
  },
  {
   "cell_type": "markdown",
   "metadata": {},
   "source": [
    "##### Расстояние до ближайшего парка"
   ]
  },
  {
   "cell_type": "code",
   "execution_count": 80,
   "metadata": {},
   "outputs": [
    {
     "data": {
      "text/plain": [
       "Text(0.5, 1.0, 'Parks nearest')"
      ]
     },
     "execution_count": 80,
     "metadata": {},
     "output_type": "execute_result"
    },
    {
     "data": {
      "image/png": "[encoded data removed]",
      "text/plain": [
       "<Figure size 1080x216 with 1 Axes>"
      ]
     },
     "metadata": {
      "needs_background": "light"
     },
     "output_type": "display_data"
    }
   ],
   "source": [
    "ax = data['parks_nearest'].hist(bins=50, figsize=(15, 3))\n",
    "ax.set_xlabel('parks nearest, m')\n",
    "ax.set_ylabel('frequency')\n",
    "ax.set_title('Parks nearest')"
   ]
  },
  {
   "cell_type": "code",
   "execution_count": 81,
   "metadata": {},
   "outputs": [
    {
     "data": {
      "text/plain": [
       "count    7770.000000\n",
       "mean      492.388546\n",
       "std       341.403263\n",
       "min         1.000000\n",
       "25%       289.000000\n",
       "50%       456.000000\n",
       "75%       613.000000\n",
       "max      3190.000000\n",
       "Name: parks_nearest, dtype: float64"
      ]
     },
     "execution_count": 81,
     "metadata": {},
     "output_type": "execute_result"
    }
   ],
   "source": [
    "data['parks_nearest'].describe()"
   ]
  },
  {
   "cell_type": "markdown",
   "metadata": {},
   "source": [
    "Для тех квартир, недалеко от которых есть парк, он находится на расстоянии от 1 до 3190 м. Среднее расстояние до ближайшего парка составляет 492 м. Медианное растояние - 456 м. В основном парк находится на расстоянии от 289 до 613 м."
   ]
  },
  {
   "cell_type": "markdown",
   "metadata": {},
   "source": [
    "##### День публикации объявления"
   ]
  },
  {
   "cell_type": "code",
   "execution_count": 82,
   "metadata": {},
   "outputs": [
    {
     "data": {
      "text/plain": [
       "Text(0.5, 1.0, 'Day of week')"
      ]
     },
     "execution_count": 82,
     "metadata": {},
     "output_type": "execute_result"
    },
    {
     "data": {
      "image/png": "[encoded data removed]",
      "text/plain": [
       "<Figure size 1080x216 with 1 Axes>"
      ]
     },
     "metadata": {
      "needs_background": "light"
     },
     "output_type": "display_data"
    }
   ],
   "source": [
    "ax = data['weekday'].hist(bins=7, figsize=(15, 3))\n",
    "ax.set_xlabel('day of week')\n",
    "ax.set_ylabel('frequency')\n",
    "ax.set_title('Day of week')"
   ]
  },
  {
   "cell_type": "markdown",
   "metadata": {},
   "source": [
    "В будние дни публикуют примерно в два раза больше объявлений о продаже квартиры, чем в выходные дни."
   ]
  },
  {
   "cell_type": "markdown",
   "metadata": {},
   "source": [
    "##### Месяц публикации объявления"
   ]
  },
  {
   "cell_type": "code",
   "execution_count": 83,
   "metadata": {},
   "outputs": [
    {
     "data": {
      "text/plain": [
       "Text(0.5, 1.0, 'Month')"
      ]
     },
     "execution_count": 83,
     "metadata": {},
     "output_type": "execute_result"
    },
    {
     "data": {
      "image/png": "[encoded data removed]",
      "text/plain": [
       "<Figure size 1080x216 with 1 Axes>"
      ]
     },
     "metadata": {
      "needs_background": "light"
     },
     "output_type": "display_data"
    }
   ],
   "source": [
    "ax = data['month'].hist(bins=12, figsize=(15, 3))\n",
    "ax.set_xlabel('month')\n",
    "ax.set_ylabel('frequency')\n",
    "ax.set_title('Month')"
   ]
  },
  {
   "cell_type": "markdown",
   "metadata": {},
   "source": [
    "Пик публикаций объявлений о продаже квартир приходится на февраль-апрель. Затем в мае происходит значительный спад. И затем вплоть до ноября идет плавный подъем. Затем в декабре-январе снова происходит спад. "
   ]
  },
  {
   "cell_type": "markdown",
   "metadata": {},
   "source": [
    "##### Длительность публикации"
   ]
  },
  {
   "cell_type": "code",
   "execution_count": 84,
   "metadata": {},
   "outputs": [
    {
     "data": {
      "text/plain": [
       "Text(0.5, 1.0, 'Days exposition')"
      ]
     },
     "execution_count": 84,
     "metadata": {},
     "output_type": "execute_result"
    },
    {
     "data": {
      "image/png": "[encoded data removed]",
      "text/plain": [
       "<Figure size 1080x216 with 1 Axes>"
      ]
     },
     "metadata": {
      "needs_background": "light"
     },
     "output_type": "display_data"
    }
   ],
   "source": [
    "ax = data['days_exposition'].hist(bins=200, figsize=(15, 3))\n",
    "ax.set_xlabel('days exposition')\n",
    "ax.set_ylabel('frequency')\n",
    "ax.set_title('Days exposition')"
   ]
  },
  {
   "cell_type": "code",
   "execution_count": 85,
   "metadata": {
    "scrolled": true
   },
   "outputs": [
    {
     "data": {
      "text/plain": [
       "count    19842.000000\n",
       "mean       178.750932\n",
       "std        214.956713\n",
       "min          3.000000\n",
       "25%         45.000000\n",
       "50%         95.000000\n",
       "75%        229.000000\n",
       "max       1373.000000\n",
       "Name: days_exposition, dtype: float64"
      ]
     },
     "execution_count": 85,
     "metadata": {},
     "output_type": "execute_result"
    }
   ],
   "source": [
    "data['days_exposition'].describe()"
   ]
  },
  {
   "cell_type": "markdown",
   "metadata": {},
   "source": [
    "Объявления о продаже квартир «висели» от 3 до 1373 дней. Среднее значение - 179 дней. Медианное значение - 95 дней. В основном публикация длилась от 45 до 229 дней. Продажи меньше 45 дней можно считать быстрыми, а продажи дольше 229 дней - необычно долгими."
   ]
  },
  {
   "cell_type": "code",
   "execution_count": 86,
   "metadata": {},
   "outputs": [
    {
     "data": {
      "text/html": [
       "<div>\n",
       "<style scoped>\n",
       "    .dataframe tbody tr th:only-of-type {\n",
       "        vertical-align: middle;\n",
       "    }\n",
       "\n",
       "    .dataframe tbody tr th {\n",
       "        vertical-align: top;\n",
       "    }\n",
       "\n",
       "    .dataframe thead th {\n",
       "        text-align: right;\n",
       "    }\n",
       "</style>\n",
       "<table border=\"1\" class=\"dataframe\">\n",
       "  <thead>\n",
       "    <tr style=\"text-align: right;\">\n",
       "      <th></th>\n",
       "      <th>days_exposition</th>\n",
       "    </tr>\n",
       "    <tr>\n",
       "      <th>year</th>\n",
       "      <th></th>\n",
       "    </tr>\n",
       "  </thead>\n",
       "  <tbody>\n",
       "    <tr>\n",
       "      <th>2014</th>\n",
       "      <td>858.669811</td>\n",
       "    </tr>\n",
       "    <tr>\n",
       "      <th>2015</th>\n",
       "      <td>639.012264</td>\n",
       "    </tr>\n",
       "    <tr>\n",
       "      <th>2016</th>\n",
       "      <td>320.739114</td>\n",
       "    </tr>\n",
       "    <tr>\n",
       "      <th>2017</th>\n",
       "      <td>158.211971</td>\n",
       "    </tr>\n",
       "    <tr>\n",
       "      <th>2018</th>\n",
       "      <td>94.260377</td>\n",
       "    </tr>\n",
       "    <tr>\n",
       "      <th>2019</th>\n",
       "      <td>30.969495</td>\n",
       "    </tr>\n",
       "  </tbody>\n",
       "</table>\n",
       "</div>"
      ],
      "text/plain": [
       "      days_exposition\n",
       "year                 \n",
       "2014       858.669811\n",
       "2015       639.012264\n",
       "2016       320.739114\n",
       "2017       158.211971\n",
       "2018        94.260377\n",
       "2019        30.969495"
      ]
     },
     "execution_count": 86,
     "metadata": {},
     "output_type": "execute_result"
    }
   ],
   "source": [
    "data.pivot_table(index='year', values='days_exposition', aggfunc='mean')"
   ]
  },
  {
   "cell_type": "code",
   "execution_count": 87,
   "metadata": {},
   "outputs": [
    {
     "data": {
      "text/plain": [
       "Text(0.5, 1.0, 'Days exposition by years')"
      ]
     },
     "execution_count": 87,
     "metadata": {},
     "output_type": "execute_result"
    },
    {
     "data": {
      "image/png": "[encoded data removed]",
      "text/plain": [
       "<Figure size 432x288 with 1 Axes>"
      ]
     },
     "metadata": {
      "needs_background": "light"
     },
     "output_type": "display_data"
    }
   ],
   "source": [
    "ax = data.groupby(by='year')['days_exposition'].mean().plot(style='o-')\n",
    "ax.set_xlabel('year')\n",
    "ax.set_ylabel('days')\n",
    "ax.set_title('Days exposition by years')"
   ]
  },
  {
   "cell_type": "markdown",
   "metadata": {},
   "source": [
    "Кажется, что среднее время продажи уменьшается с каждым годом, но в статистике нет более 3 000 квартир, которые еще не проданы, и их время продажи еще неизвестно"
   ]
  },
  {
   "cell_type": "code",
   "execution_count": 88,
   "metadata": {},
   "outputs": [
    {
     "data": {
      "text/plain": [
       "<AxesSubplot:>"
      ]
     },
     "execution_count": 88,
     "metadata": {},
     "output_type": "execute_result"
    },
    {
     "data": {
      "image/png": "[encoded data removed]",
      "text/plain": [
       "<Figure size 1080x216 with 1 Axes>"
      ]
     },
     "metadata": {
      "needs_background": "light"
     },
     "output_type": "display_data"
    }
   ],
   "source": [
    "data['days_exposition'].hist(bins=100, figsize=(15, 3), range=(0, 100))"
   ]
  },
  {
   "cell_type": "markdown",
   "metadata": {},
   "source": [
    "Наиболее часто встречающиеся показатели - 45, 60 и 90 дней. Это связано с правилами сроков публикации сервиса"
   ]
  },
  {
   "cell_type": "markdown",
   "metadata": {},
   "source": [
    "#### Какие факторы больше всего влияют на общую стоимость объекта?"
   ]
  },
  {
   "cell_type": "markdown",
   "metadata": {},
   "source": [
    "##### Общая площадь"
   ]
  },
  {
   "cell_type": "code",
   "execution_count": 90,
   "metadata": {},
   "outputs": [
    {
     "data": {
      "text/html": [
       "<div>\n",
       "<style scoped>\n",
       "    .dataframe tbody tr th:only-of-type {\n",
       "        vertical-align: middle;\n",
       "    }\n",
       "\n",
       "    .dataframe tbody tr th {\n",
       "        vertical-align: top;\n",
       "    }\n",
       "\n",
       "    .dataframe thead th {\n",
       "        text-align: right;\n",
       "    }\n",
       "</style>\n",
       "<table border=\"1\" class=\"dataframe\">\n",
       "  <thead>\n",
       "    <tr style=\"text-align: right;\">\n",
       "      <th></th>\n",
       "      <th>total_area</th>\n",
       "      <th>last_price</th>\n",
       "    </tr>\n",
       "  </thead>\n",
       "  <tbody>\n",
       "    <tr>\n",
       "      <th>0</th>\n",
       "      <td>20.00</td>\n",
       "      <td>2300000.0</td>\n",
       "    </tr>\n",
       "    <tr>\n",
       "      <th>1</th>\n",
       "      <td>20.10</td>\n",
       "      <td>2150000.0</td>\n",
       "    </tr>\n",
       "    <tr>\n",
       "      <th>2</th>\n",
       "      <td>20.50</td>\n",
       "      <td>2085000.0</td>\n",
       "    </tr>\n",
       "    <tr>\n",
       "      <th>3</th>\n",
       "      <td>20.67</td>\n",
       "      <td>1855625.0</td>\n",
       "    </tr>\n",
       "    <tr>\n",
       "      <th>4</th>\n",
       "      <td>20.80</td>\n",
       "      <td>1900000.0</td>\n",
       "    </tr>\n",
       "    <tr>\n",
       "      <th>...</th>\n",
       "      <td>...</td>\n",
       "      <td>...</td>\n",
       "    </tr>\n",
       "    <tr>\n",
       "      <th>2003</th>\n",
       "      <td>284.00</td>\n",
       "      <td>26450000.0</td>\n",
       "    </tr>\n",
       "    <tr>\n",
       "      <th>2004</th>\n",
       "      <td>290.00</td>\n",
       "      <td>39625000.0</td>\n",
       "    </tr>\n",
       "    <tr>\n",
       "      <th>2005</th>\n",
       "      <td>293.60</td>\n",
       "      <td>39000000.0</td>\n",
       "    </tr>\n",
       "    <tr>\n",
       "      <th>2006</th>\n",
       "      <td>295.00</td>\n",
       "      <td>35000000.0</td>\n",
       "    </tr>\n",
       "    <tr>\n",
       "      <th>2007</th>\n",
       "      <td>301.90</td>\n",
       "      <td>30000000.0</td>\n",
       "    </tr>\n",
       "  </tbody>\n",
       "</table>\n",
       "<p>2008 rows × 2 columns</p>\n",
       "</div>"
      ],
      "text/plain": [
       "      total_area  last_price\n",
       "0          20.00   2300000.0\n",
       "1          20.10   2150000.0\n",
       "2          20.50   2085000.0\n",
       "3          20.67   1855625.0\n",
       "4          20.80   1900000.0\n",
       "...          ...         ...\n",
       "2003      284.00  26450000.0\n",
       "2004      290.00  39625000.0\n",
       "2005      293.60  39000000.0\n",
       "2006      295.00  35000000.0\n",
       "2007      301.90  30000000.0\n",
       "\n",
       "[2008 rows x 2 columns]"
      ]
     },
     "execution_count": 90,
     "metadata": {},
     "output_type": "execute_result"
    }
   ],
   "source": [
    "price_by_total_area = data.pivot_table(index='total_area', values='last_price', aggfunc='median').reset_index()\n",
    "price_by_total_area"
   ]
  },
  {
   "cell_type": "code",
   "execution_count": 91,
   "metadata": {},
   "outputs": [
    {
     "data": {
      "text/plain": [
       "0.8534465724463516"
      ]
     },
     "execution_count": 91,
     "metadata": {},
     "output_type": "execute_result"
    }
   ],
   "source": [
    "price_by_total_area['total_area'].corr(price_by_total_area['last_price'])"
   ]
  },
  {
   "cell_type": "code",
   "execution_count": 92,
   "metadata": {},
   "outputs": [
    {
     "data": {
      "text/plain": [
       "<AxesSubplot:xlabel='total_area', ylabel='last_price'>"
      ]
     },
     "execution_count": 92,
     "metadata": {},
     "output_type": "execute_result"
    },
    {
     "data": {
      "image/png": "[encoded data removed]",
      "text/plain": [
       "<Figure size 432x288 with 1 Axes>"
      ]
     },
     "metadata": {
      "needs_background": "light"
     },
     "output_type": "display_data"
    }
   ],
   "source": [
    "price_by_total_area.plot(x='total_area', y='last_price', kind='scatter', alpha=0.3)"
   ]
  },
  {
   "cell_type": "markdown",
   "metadata": {},
   "source": [
    "Корреляция между общей площадью и ценой квартиры очень высока: чем больше площадь, тем выше цена. На каждые 100 кв.м площади цена увеличивается на 10 млн.\n",
    "\n",
    "Коэффициент Пирсона для этих двух величин составляет 0,93."
   ]
  },
  {
   "cell_type": "markdown",
   "metadata": {},
   "source": [
    "##### Жилая площадь"
   ]
  },
  {
   "cell_type": "code",
   "execution_count": 93,
   "metadata": {},
   "outputs": [
    {
     "data": {
      "text/html": [
       "<div>\n",
       "<style scoped>\n",
       "    .dataframe tbody tr th:only-of-type {\n",
       "        vertical-align: middle;\n",
       "    }\n",
       "\n",
       "    .dataframe tbody tr th {\n",
       "        vertical-align: top;\n",
       "    }\n",
       "\n",
       "    .dataframe thead th {\n",
       "        text-align: right;\n",
       "    }\n",
       "</style>\n",
       "<table border=\"1\" class=\"dataframe\">\n",
       "  <thead>\n",
       "    <tr style=\"text-align: right;\">\n",
       "      <th></th>\n",
       "      <th>living_area</th>\n",
       "      <th>last_price</th>\n",
       "    </tr>\n",
       "  </thead>\n",
       "  <tbody>\n",
       "    <tr>\n",
       "      <th>0</th>\n",
       "      <td>10.90</td>\n",
       "      <td>2750000.0</td>\n",
       "    </tr>\n",
       "    <tr>\n",
       "      <th>1</th>\n",
       "      <td>10.93</td>\n",
       "      <td>1900000.0</td>\n",
       "    </tr>\n",
       "    <tr>\n",
       "      <th>2</th>\n",
       "      <td>10.94</td>\n",
       "      <td>1550000.0</td>\n",
       "    </tr>\n",
       "    <tr>\n",
       "      <th>3</th>\n",
       "      <td>11.00</td>\n",
       "      <td>3277000.0</td>\n",
       "    </tr>\n",
       "    <tr>\n",
       "      <th>4</th>\n",
       "      <td>11.10</td>\n",
       "      <td>3590000.0</td>\n",
       "    </tr>\n",
       "    <tr>\n",
       "      <th>...</th>\n",
       "      <td>...</td>\n",
       "      <td>...</td>\n",
       "    </tr>\n",
       "    <tr>\n",
       "      <th>1642</th>\n",
       "      <td>171.00</td>\n",
       "      <td>17000000.0</td>\n",
       "    </tr>\n",
       "    <tr>\n",
       "      <th>1643</th>\n",
       "      <td>174.00</td>\n",
       "      <td>52000000.0</td>\n",
       "    </tr>\n",
       "    <tr>\n",
       "      <th>1644</th>\n",
       "      <td>174.30</td>\n",
       "      <td>37000000.0</td>\n",
       "    </tr>\n",
       "    <tr>\n",
       "      <th>1645</th>\n",
       "      <td>175.00</td>\n",
       "      <td>45900000.0</td>\n",
       "    </tr>\n",
       "    <tr>\n",
       "      <th>1646</th>\n",
       "      <td>180.00</td>\n",
       "      <td>29000000.0</td>\n",
       "    </tr>\n",
       "  </tbody>\n",
       "</table>\n",
       "<p>1647 rows × 2 columns</p>\n",
       "</div>"
      ],
      "text/plain": [
       "      living_area  last_price\n",
       "0           10.90   2750000.0\n",
       "1           10.93   1900000.0\n",
       "2           10.94   1550000.0\n",
       "3           11.00   3277000.0\n",
       "4           11.10   3590000.0\n",
       "...           ...         ...\n",
       "1642       171.00  17000000.0\n",
       "1643       174.00  52000000.0\n",
       "1644       174.30  37000000.0\n",
       "1645       175.00  45900000.0\n",
       "1646       180.00  29000000.0\n",
       "\n",
       "[1647 rows x 2 columns]"
      ]
     },
     "execution_count": 93,
     "metadata": {},
     "output_type": "execute_result"
    }
   ],
   "source": [
    "price_by_living_area = data.pivot_table(index='living_area', values='last_price', aggfunc='median').reset_index()\n",
    "price_by_living_area"
   ]
  },
  {
   "cell_type": "code",
   "execution_count": 94,
   "metadata": {},
   "outputs": [
    {
     "data": {
      "text/plain": [
       "0.7886299984659861"
      ]
     },
     "execution_count": 94,
     "metadata": {},
     "output_type": "execute_result"
    }
   ],
   "source": [
    "price_by_living_area['living_area'].corr(price_by_living_area['last_price'])"
   ]
  },
  {
   "cell_type": "code",
   "execution_count": 95,
   "metadata": {},
   "outputs": [
    {
     "data": {
      "text/plain": [
       "<AxesSubplot:xlabel='living_area', ylabel='last_price'>"
      ]
     },
     "execution_count": 95,
     "metadata": {},
     "output_type": "execute_result"
    },
    {
     "data": {
      "image/png": "[encoded data removed]",
      "text/plain": [
       "<Figure size 432x288 with 1 Axes>"
      ]
     },
     "metadata": {
      "needs_background": "light"
     },
     "output_type": "display_data"
    }
   ],
   "source": [
    "price_by_living_area.plot(x='living_area', y='last_price', kind='scatter', alpha=0.3)"
   ]
  },
  {
   "cell_type": "markdown",
   "metadata": {},
   "source": [
    "Корреляция между жилой площадью и ценой квартиры немного меньше, но все еще довольно высока: чем больше площадь, тем выше цена. Коэффициент Пирсона для этих двух величин составляет 0,89."
   ]
  },
  {
   "cell_type": "markdown",
   "metadata": {},
   "source": [
    "##### Площадь кухни"
   ]
  },
  {
   "cell_type": "code",
   "execution_count": 96,
   "metadata": {},
   "outputs": [
    {
     "data": {
      "text/html": [
       "<div>\n",
       "<style scoped>\n",
       "    .dataframe tbody tr th:only-of-type {\n",
       "        vertical-align: middle;\n",
       "    }\n",
       "\n",
       "    .dataframe tbody tr th {\n",
       "        vertical-align: top;\n",
       "    }\n",
       "\n",
       "    .dataframe thead th {\n",
       "        text-align: right;\n",
       "    }\n",
       "</style>\n",
       "<table border=\"1\" class=\"dataframe\">\n",
       "  <thead>\n",
       "    <tr style=\"text-align: right;\">\n",
       "      <th></th>\n",
       "      <th>kitchen_area</th>\n",
       "      <th>last_price</th>\n",
       "    </tr>\n",
       "  </thead>\n",
       "  <tbody>\n",
       "    <tr>\n",
       "      <th>0</th>\n",
       "      <td>5.00</td>\n",
       "      <td>3200000.0</td>\n",
       "    </tr>\n",
       "    <tr>\n",
       "      <th>1</th>\n",
       "      <td>5.04</td>\n",
       "      <td>3900000.0</td>\n",
       "    </tr>\n",
       "    <tr>\n",
       "      <th>2</th>\n",
       "      <td>5.06</td>\n",
       "      <td>3400000.0</td>\n",
       "    </tr>\n",
       "    <tr>\n",
       "      <th>3</th>\n",
       "      <td>5.10</td>\n",
       "      <td>3625000.0</td>\n",
       "    </tr>\n",
       "    <tr>\n",
       "      <th>4</th>\n",
       "      <td>5.14</td>\n",
       "      <td>1800000.0</td>\n",
       "    </tr>\n",
       "    <tr>\n",
       "      <th>...</th>\n",
       "      <td>...</td>\n",
       "      <td>...</td>\n",
       "    </tr>\n",
       "    <tr>\n",
       "      <th>880</th>\n",
       "      <td>44.00</td>\n",
       "      <td>23200000.0</td>\n",
       "    </tr>\n",
       "    <tr>\n",
       "      <th>881</th>\n",
       "      <td>44.70</td>\n",
       "      <td>17150000.0</td>\n",
       "    </tr>\n",
       "    <tr>\n",
       "      <th>882</th>\n",
       "      <td>44.90</td>\n",
       "      <td>17480000.0</td>\n",
       "    </tr>\n",
       "    <tr>\n",
       "      <th>883</th>\n",
       "      <td>45.00</td>\n",
       "      <td>22000000.0</td>\n",
       "    </tr>\n",
       "    <tr>\n",
       "      <th>884</th>\n",
       "      <td>46.00</td>\n",
       "      <td>19245000.0</td>\n",
       "    </tr>\n",
       "  </tbody>\n",
       "</table>\n",
       "<p>885 rows × 2 columns</p>\n",
       "</div>"
      ],
      "text/plain": [
       "     kitchen_area  last_price\n",
       "0            5.00   3200000.0\n",
       "1            5.04   3900000.0\n",
       "2            5.06   3400000.0\n",
       "3            5.10   3625000.0\n",
       "4            5.14   1800000.0\n",
       "..            ...         ...\n",
       "880         44.00  23200000.0\n",
       "881         44.70  17150000.0\n",
       "882         44.90  17480000.0\n",
       "883         45.00  22000000.0\n",
       "884         46.00  19245000.0\n",
       "\n",
       "[885 rows x 2 columns]"
      ]
     },
     "execution_count": 96,
     "metadata": {},
     "output_type": "execute_result"
    }
   ],
   "source": [
    "price_by_kitchen_area = data.pivot_table(index='kitchen_area', values='last_price', aggfunc='median').reset_index()\n",
    "price_by_kitchen_area"
   ]
  },
  {
   "cell_type": "code",
   "execution_count": 97,
   "metadata": {},
   "outputs": [
    {
     "data": {
      "text/plain": [
       "0.6669006802961823"
      ]
     },
     "execution_count": 97,
     "metadata": {},
     "output_type": "execute_result"
    }
   ],
   "source": [
    "price_by_kitchen_area['kitchen_area'].corr(price_by_kitchen_area['last_price'])"
   ]
  },
  {
   "cell_type": "code",
   "execution_count": 98,
   "metadata": {},
   "outputs": [
    {
     "data": {
      "text/plain": [
       "<AxesSubplot:xlabel='kitchen_area', ylabel='last_price'>"
      ]
     },
     "execution_count": 98,
     "metadata": {},
     "output_type": "execute_result"
    },
    {
     "data": {
      "image/png": "[encoded data removed]",
      "text/plain": [
       "<Figure size 432x288 with 1 Axes>"
      ]
     },
     "metadata": {
      "needs_background": "light"
     },
     "output_type": "display_data"
    }
   ],
   "source": [
    "price_by_kitchen_area.plot(x='kitchen_area', y='last_price', kind='scatter', alpha=0.3)"
   ]
  },
  {
   "cell_type": "markdown",
   "metadata": {},
   "source": [
    "Связь между площадью кухни и ценой более расплывчата по сравнению с предыдущими величинами, но все еще наблюдается: чем больше площадь, тем выше цена. Коэффициент Пирсона для этих двух величин составляет 0,79."
   ]
  },
  {
   "cell_type": "markdown",
   "metadata": {},
   "source": [
    "##### Количество комнат"
   ]
  },
  {
   "cell_type": "code",
   "execution_count": 99,
   "metadata": {},
   "outputs": [
    {
     "data": {
      "text/html": [
       "<div>\n",
       "<style scoped>\n",
       "    .dataframe tbody tr th:only-of-type {\n",
       "        vertical-align: middle;\n",
       "    }\n",
       "\n",
       "    .dataframe tbody tr th {\n",
       "        vertical-align: top;\n",
       "    }\n",
       "\n",
       "    .dataframe thead th {\n",
       "        text-align: right;\n",
       "    }\n",
       "</style>\n",
       "<table border=\"1\" class=\"dataframe\">\n",
       "  <thead>\n",
       "    <tr style=\"text-align: right;\">\n",
       "      <th></th>\n",
       "      <th>rooms</th>\n",
       "      <th>last_price</th>\n",
       "    </tr>\n",
       "  </thead>\n",
       "  <tbody>\n",
       "    <tr>\n",
       "      <th>0</th>\n",
       "      <td>0</td>\n",
       "      <td>2750000.0</td>\n",
       "    </tr>\n",
       "    <tr>\n",
       "      <th>1</th>\n",
       "      <td>1</td>\n",
       "      <td>3600000.0</td>\n",
       "    </tr>\n",
       "    <tr>\n",
       "      <th>2</th>\n",
       "      <td>2</td>\n",
       "      <td>4800000.0</td>\n",
       "    </tr>\n",
       "    <tr>\n",
       "      <th>3</th>\n",
       "      <td>3</td>\n",
       "      <td>6190000.0</td>\n",
       "    </tr>\n",
       "    <tr>\n",
       "      <th>4</th>\n",
       "      <td>4</td>\n",
       "      <td>8900000.0</td>\n",
       "    </tr>\n",
       "    <tr>\n",
       "      <th>5</th>\n",
       "      <td>5</td>\n",
       "      <td>12900000.0</td>\n",
       "    </tr>\n",
       "    <tr>\n",
       "      <th>6</th>\n",
       "      <td>6</td>\n",
       "      <td>16550000.0</td>\n",
       "    </tr>\n",
       "    <tr>\n",
       "      <th>7</th>\n",
       "      <td>7</td>\n",
       "      <td>18000000.0</td>\n",
       "    </tr>\n",
       "  </tbody>\n",
       "</table>\n",
       "</div>"
      ],
      "text/plain": [
       "   rooms  last_price\n",
       "0      0   2750000.0\n",
       "1      1   3600000.0\n",
       "2      2   4800000.0\n",
       "3      3   6190000.0\n",
       "4      4   8900000.0\n",
       "5      5  12900000.0\n",
       "6      6  16550000.0\n",
       "7      7  18000000.0"
      ]
     },
     "execution_count": 99,
     "metadata": {},
     "output_type": "execute_result"
    }
   ],
   "source": [
    "price_by_rooms = data.pivot_table(index='rooms', values='last_price', aggfunc='median').reset_index()\n",
    "price_by_rooms"
   ]
  },
  {
   "cell_type": "code",
   "execution_count": 100,
   "metadata": {},
   "outputs": [
    {
     "data": {
      "text/plain": [
       "0.9752366249207627"
      ]
     },
     "execution_count": 100,
     "metadata": {},
     "output_type": "execute_result"
    }
   ],
   "source": [
    "price_by_rooms['rooms'].corr(price_by_rooms['last_price'])"
   ]
  },
  {
   "cell_type": "code",
   "execution_count": 101,
   "metadata": {},
   "outputs": [
    {
     "data": {
      "text/plain": [
       "<AxesSubplot:xlabel='rooms', ylabel='last_price'>"
      ]
     },
     "execution_count": 101,
     "metadata": {},
     "output_type": "execute_result"
    },
    {
     "data": {
      "image/png": "[encoded data removed]",
      "text/plain": [
       "<Figure size 432x288 with 1 Axes>"
      ]
     },
     "metadata": {
      "needs_background": "light"
     },
     "output_type": "display_data"
    }
   ],
   "source": [
    "price_by_rooms.plot(x='rooms', y='last_price', kind='scatter')"
   ]
  },
  {
   "cell_type": "markdown",
   "metadata": {},
   "source": [
    "Тенденция увеличения цены с увеличением количества комнат в квартире прослеживается, но не так ярко, как в первых двух пунктах. Коэффициент Пирсона здесь равен 0,79."
   ]
  },
  {
   "cell_type": "markdown",
   "metadata": {},
   "source": [
    "##### Тип этажа, на котором расположена квартира"
   ]
  },
  {
   "cell_type": "code",
   "execution_count": 102,
   "metadata": {},
   "outputs": [
    {
     "data": {
      "text/html": [
       "<div>\n",
       "<style scoped>\n",
       "    .dataframe tbody tr th:only-of-type {\n",
       "        vertical-align: middle;\n",
       "    }\n",
       "\n",
       "    .dataframe tbody tr th {\n",
       "        vertical-align: top;\n",
       "    }\n",
       "\n",
       "    .dataframe thead th {\n",
       "        text-align: right;\n",
       "    }\n",
       "</style>\n",
       "<table border=\"1\" class=\"dataframe\">\n",
       "  <thead>\n",
       "    <tr style=\"text-align: right;\">\n",
       "      <th></th>\n",
       "      <th>floor_type</th>\n",
       "      <th>last_price</th>\n",
       "    </tr>\n",
       "  </thead>\n",
       "  <tbody>\n",
       "    <tr>\n",
       "      <th>0</th>\n",
       "      <td>first</td>\n",
       "      <td>3950000.0</td>\n",
       "    </tr>\n",
       "    <tr>\n",
       "      <th>1</th>\n",
       "      <td>last</td>\n",
       "      <td>4350000.0</td>\n",
       "    </tr>\n",
       "    <tr>\n",
       "      <th>2</th>\n",
       "      <td>other</td>\n",
       "      <td>4800000.0</td>\n",
       "    </tr>\n",
       "  </tbody>\n",
       "</table>\n",
       "</div>"
      ],
      "text/plain": [
       "  floor_type  last_price\n",
       "0      first   3950000.0\n",
       "1       last   4350000.0\n",
       "2      other   4800000.0"
      ]
     },
     "execution_count": 102,
     "metadata": {},
     "output_type": "execute_result"
    }
   ],
   "source": [
    "price_by_floor_type = data.pivot_table(index='floor_type', values='last_price', aggfunc='median').reset_index()\n",
    "price_by_floor_type"
   ]
  },
  {
   "cell_type": "code",
   "execution_count": 103,
   "metadata": {},
   "outputs": [
    {
     "data": {
      "text/plain": [
       "<AxesSubplot:xlabel='floor_type'>"
      ]
     },
     "execution_count": 103,
     "metadata": {},
     "output_type": "execute_result"
    },
    {
     "data": {
      "image/png": "[encoded data removed]",
      "text/plain": [
       "<Figure size 432x288 with 1 Axes>"
      ]
     },
     "metadata": {
      "needs_background": "light"
     },
     "output_type": "display_data"
    }
   ],
   "source": [
    "price_by_floor_type.plot(x='floor_type', y='last_price', kind='bar')"
   ]
  },
  {
   "cell_type": "markdown",
   "metadata": {},
   "source": [
    "Между типом этажа и ценой квартиры прослеживается такая зависимость: на первом этаже квартиры самые дешевые - в среднем 4 млн, средняя цена на квартиры на последнем этаже - 4,4 млн, и остальные квартиры более дорогие - 4,8 млн."
   ]
  },
  {
   "cell_type": "markdown",
   "metadata": {},
   "source": [
    "##### Дата размещения - день недели"
   ]
  },
  {
   "cell_type": "code",
   "execution_count": 104,
   "metadata": {},
   "outputs": [
    {
     "data": {
      "text/html": [
       "<div>\n",
       "<style scoped>\n",
       "    .dataframe tbody tr th:only-of-type {\n",
       "        vertical-align: middle;\n",
       "    }\n",
       "\n",
       "    .dataframe tbody tr th {\n",
       "        vertical-align: top;\n",
       "    }\n",
       "\n",
       "    .dataframe thead th {\n",
       "        text-align: right;\n",
       "    }\n",
       "</style>\n",
       "<table border=\"1\" class=\"dataframe\">\n",
       "  <thead>\n",
       "    <tr style=\"text-align: right;\">\n",
       "      <th></th>\n",
       "      <th>weekday</th>\n",
       "      <th>last_price</th>\n",
       "    </tr>\n",
       "  </thead>\n",
       "  <tbody>\n",
       "    <tr>\n",
       "      <th>0</th>\n",
       "      <td>0</td>\n",
       "      <td>4650000.0</td>\n",
       "    </tr>\n",
       "    <tr>\n",
       "      <th>1</th>\n",
       "      <td>1</td>\n",
       "      <td>4714595.0</td>\n",
       "    </tr>\n",
       "    <tr>\n",
       "      <th>2</th>\n",
       "      <td>2</td>\n",
       "      <td>4700000.0</td>\n",
       "    </tr>\n",
       "    <tr>\n",
       "      <th>3</th>\n",
       "      <td>3</td>\n",
       "      <td>4630000.0</td>\n",
       "    </tr>\n",
       "    <tr>\n",
       "      <th>4</th>\n",
       "      <td>4</td>\n",
       "      <td>4577500.0</td>\n",
       "    </tr>\n",
       "    <tr>\n",
       "      <th>5</th>\n",
       "      <td>5</td>\n",
       "      <td>4560000.0</td>\n",
       "    </tr>\n",
       "    <tr>\n",
       "      <th>6</th>\n",
       "      <td>6</td>\n",
       "      <td>4550000.0</td>\n",
       "    </tr>\n",
       "  </tbody>\n",
       "</table>\n",
       "</div>"
      ],
      "text/plain": [
       "   weekday  last_price\n",
       "0        0   4650000.0\n",
       "1        1   4714595.0\n",
       "2        2   4700000.0\n",
       "3        3   4630000.0\n",
       "4        4   4577500.0\n",
       "5        5   4560000.0\n",
       "6        6   4550000.0"
      ]
     },
     "execution_count": 104,
     "metadata": {},
     "output_type": "execute_result"
    }
   ],
   "source": [
    "price_by_weekday = data.pivot_table(index='weekday', values='last_price', aggfunc='median').reset_index()\n",
    "price_by_weekday"
   ]
  },
  {
   "cell_type": "code",
   "execution_count": 105,
   "metadata": {},
   "outputs": [
    {
     "data": {
      "text/plain": [
       "<AxesSubplot:xlabel='weekday'>"
      ]
     },
     "execution_count": 105,
     "metadata": {},
     "output_type": "execute_result"
    },
    {
     "data": {
      "image/png": "[encoded data removed]",
      "text/plain": [
       "<Figure size 432x288 with 1 Axes>"
      ]
     },
     "metadata": {
      "needs_background": "light"
     },
     "output_type": "display_data"
    }
   ],
   "source": [
    "price_by_weekday.plot(x='weekday', y='last_price', kind='bar')"
   ]
  },
  {
   "cell_type": "markdown",
   "metadata": {},
   "source": [
    "Чем ближе к концу недели выставлена на продажу квартира, тем ниже ее цена. Самая высокая - во вторник - 4,8 млн, самая низкая - 4,5 млн в субботу. Впрочем, колебания достаточно незначительны."
   ]
  },
  {
   "cell_type": "markdown",
   "metadata": {},
   "source": [
    "##### Дата размещения - месяц"
   ]
  },
  {
   "cell_type": "code",
   "execution_count": 106,
   "metadata": {},
   "outputs": [
    {
     "data": {
      "text/html": [
       "<div>\n",
       "<style scoped>\n",
       "    .dataframe tbody tr th:only-of-type {\n",
       "        vertical-align: middle;\n",
       "    }\n",
       "\n",
       "    .dataframe tbody tr th {\n",
       "        vertical-align: top;\n",
       "    }\n",
       "\n",
       "    .dataframe thead th {\n",
       "        text-align: right;\n",
       "    }\n",
       "</style>\n",
       "<table border=\"1\" class=\"dataframe\">\n",
       "  <thead>\n",
       "    <tr style=\"text-align: right;\">\n",
       "      <th></th>\n",
       "      <th>month</th>\n",
       "      <th>last_price</th>\n",
       "    </tr>\n",
       "  </thead>\n",
       "  <tbody>\n",
       "    <tr>\n",
       "      <th>0</th>\n",
       "      <td>1</td>\n",
       "      <td>4600000.0</td>\n",
       "    </tr>\n",
       "    <tr>\n",
       "      <th>1</th>\n",
       "      <td>2</td>\n",
       "      <td>4650000.0</td>\n",
       "    </tr>\n",
       "    <tr>\n",
       "      <th>2</th>\n",
       "      <td>3</td>\n",
       "      <td>4650000.0</td>\n",
       "    </tr>\n",
       "    <tr>\n",
       "      <th>3</th>\n",
       "      <td>4</td>\n",
       "      <td>4800000.0</td>\n",
       "    </tr>\n",
       "    <tr>\n",
       "      <th>4</th>\n",
       "      <td>5</td>\n",
       "      <td>4500000.0</td>\n",
       "    </tr>\n",
       "    <tr>\n",
       "      <th>5</th>\n",
       "      <td>6</td>\n",
       "      <td>4400000.0</td>\n",
       "    </tr>\n",
       "    <tr>\n",
       "      <th>6</th>\n",
       "      <td>7</td>\n",
       "      <td>4650000.0</td>\n",
       "    </tr>\n",
       "    <tr>\n",
       "      <th>7</th>\n",
       "      <td>8</td>\n",
       "      <td>4600000.0</td>\n",
       "    </tr>\n",
       "    <tr>\n",
       "      <th>8</th>\n",
       "      <td>9</td>\n",
       "      <td>4700000.0</td>\n",
       "    </tr>\n",
       "    <tr>\n",
       "      <th>9</th>\n",
       "      <td>10</td>\n",
       "      <td>4590000.0</td>\n",
       "    </tr>\n",
       "    <tr>\n",
       "      <th>10</th>\n",
       "      <td>11</td>\n",
       "      <td>4700000.0</td>\n",
       "    </tr>\n",
       "    <tr>\n",
       "      <th>11</th>\n",
       "      <td>12</td>\n",
       "      <td>4700000.0</td>\n",
       "    </tr>\n",
       "  </tbody>\n",
       "</table>\n",
       "</div>"
      ],
      "text/plain": [
       "    month  last_price\n",
       "0       1   4600000.0\n",
       "1       2   4650000.0\n",
       "2       3   4650000.0\n",
       "3       4   4800000.0\n",
       "4       5   4500000.0\n",
       "5       6   4400000.0\n",
       "6       7   4650000.0\n",
       "7       8   4600000.0\n",
       "8       9   4700000.0\n",
       "9      10   4590000.0\n",
       "10     11   4700000.0\n",
       "11     12   4700000.0"
      ]
     },
     "execution_count": 106,
     "metadata": {},
     "output_type": "execute_result"
    }
   ],
   "source": [
    "price_by_month = data.pivot_table(index='month', values='last_price', aggfunc='median').reset_index()\n",
    "price_by_month"
   ]
  },
  {
   "cell_type": "code",
   "execution_count": 107,
   "metadata": {},
   "outputs": [
    {
     "data": {
      "text/plain": [
       "<AxesSubplot:xlabel='month'>"
      ]
     },
     "execution_count": 107,
     "metadata": {},
     "output_type": "execute_result"
    },
    {
     "data": {
      "image/png": "[encoded data removed]",
      "text/plain": [
       "<Figure size 432x288 with 1 Axes>"
      ]
     },
     "metadata": {
      "needs_background": "light"
     },
     "output_type": "display_data"
    }
   ],
   "source": [
    "price_by_month.plot(x='month', y='last_price', kind='bar')"
   ]
  },
  {
   "cell_type": "markdown",
   "metadata": {},
   "source": [
    "За самую низкую цену продаются квартиры, выставленные на продажу в июне, октябре и марте (4,5 млн, 4,6 млн и 4,6 млн соответственно). Самую высокую цену имеют квартиры, выставленные на продажу в феврале и апреле (по 4,8 млн)."
   ]
  },
  {
   "cell_type": "markdown",
   "metadata": {},
   "source": [
    "##### Дата размещения - год"
   ]
  },
  {
   "cell_type": "code",
   "execution_count": 108,
   "metadata": {},
   "outputs": [
    {
     "data": {
      "text/html": [
       "<div>\n",
       "<style scoped>\n",
       "    .dataframe tbody tr th:only-of-type {\n",
       "        vertical-align: middle;\n",
       "    }\n",
       "\n",
       "    .dataframe tbody tr th {\n",
       "        vertical-align: top;\n",
       "    }\n",
       "\n",
       "    .dataframe thead th {\n",
       "        text-align: right;\n",
       "    }\n",
       "</style>\n",
       "<table border=\"1\" class=\"dataframe\">\n",
       "  <thead>\n",
       "    <tr style=\"text-align: right;\">\n",
       "      <th></th>\n",
       "      <th>year</th>\n",
       "      <th>last_price</th>\n",
       "    </tr>\n",
       "  </thead>\n",
       "  <tbody>\n",
       "    <tr>\n",
       "      <th>0</th>\n",
       "      <td>2014</td>\n",
       "      <td>7488280.0</td>\n",
       "    </tr>\n",
       "    <tr>\n",
       "      <th>1</th>\n",
       "      <td>2015</td>\n",
       "      <td>5244500.0</td>\n",
       "    </tr>\n",
       "    <tr>\n",
       "      <th>2</th>\n",
       "      <td>2016</td>\n",
       "      <td>4550000.0</td>\n",
       "    </tr>\n",
       "    <tr>\n",
       "      <th>3</th>\n",
       "      <td>2017</td>\n",
       "      <td>4500000.0</td>\n",
       "    </tr>\n",
       "    <tr>\n",
       "      <th>4</th>\n",
       "      <td>2018</td>\n",
       "      <td>4600000.0</td>\n",
       "    </tr>\n",
       "    <tr>\n",
       "      <th>5</th>\n",
       "      <td>2019</td>\n",
       "      <td>5100000.0</td>\n",
       "    </tr>\n",
       "  </tbody>\n",
       "</table>\n",
       "</div>"
      ],
      "text/plain": [
       "   year  last_price\n",
       "0  2014   7488280.0\n",
       "1  2015   5244500.0\n",
       "2  2016   4550000.0\n",
       "3  2017   4500000.0\n",
       "4  2018   4600000.0\n",
       "5  2019   5100000.0"
      ]
     },
     "execution_count": 108,
     "metadata": {},
     "output_type": "execute_result"
    }
   ],
   "source": [
    "price_by_year = data.pivot_table(index='year', values='last_price', aggfunc='median').reset_index()\n",
    "price_by_year"
   ]
  },
  {
   "cell_type": "code",
   "execution_count": 109,
   "metadata": {},
   "outputs": [
    {
     "data": {
      "text/plain": [
       "-0.6524391923100387"
      ]
     },
     "execution_count": 109,
     "metadata": {},
     "output_type": "execute_result"
    }
   ],
   "source": [
    "price_by_year['year'].corr(price_by_year['last_price'])"
   ]
  },
  {
   "cell_type": "code",
   "execution_count": 110,
   "metadata": {},
   "outputs": [
    {
     "data": {
      "text/plain": [
       "<AxesSubplot:xlabel='year'>"
      ]
     },
     "execution_count": 110,
     "metadata": {},
     "output_type": "execute_result"
    },
    {
     "data": {
      "image/png": "[encoded data removed]",
      "text/plain": [
       "<Figure size 432x288 with 1 Axes>"
      ]
     },
     "metadata": {
      "needs_background": "light"
     },
     "output_type": "display_data"
    }
   ],
   "source": [
    "price_by_year.plot(x='year', y='last_price', kind='bar')"
   ]
  },
  {
   "cell_type": "markdown",
   "metadata": {},
   "source": [
    "Цена на недвижимость падала с 7,5 млн в 2014 году до 4,5 млн в 2017 году, затем росла до 5,1 млн в 2019 году."
   ]
  },
  {
   "cell_type": "code",
   "execution_count": 111,
   "metadata": {},
   "outputs": [
    {
     "data": {
      "text/html": [
       "<div>\n",
       "<style scoped>\n",
       "    .dataframe tbody tr th:only-of-type {\n",
       "        vertical-align: middle;\n",
       "    }\n",
       "\n",
       "    .dataframe tbody tr th {\n",
       "        vertical-align: top;\n",
       "    }\n",
       "\n",
       "    .dataframe thead th {\n",
       "        text-align: right;\n",
       "    }\n",
       "</style>\n",
       "<table border=\"1\" class=\"dataframe\">\n",
       "  <thead>\n",
       "    <tr style=\"text-align: right;\">\n",
       "      <th></th>\n",
       "      <th>year</th>\n",
       "      <th>total_area</th>\n",
       "    </tr>\n",
       "  </thead>\n",
       "  <tbody>\n",
       "    <tr>\n",
       "      <th>0</th>\n",
       "      <td>2014</td>\n",
       "      <td>75.265</td>\n",
       "    </tr>\n",
       "    <tr>\n",
       "      <th>1</th>\n",
       "      <td>2015</td>\n",
       "      <td>60.000</td>\n",
       "    </tr>\n",
       "    <tr>\n",
       "      <th>2</th>\n",
       "      <td>2016</td>\n",
       "      <td>53.010</td>\n",
       "    </tr>\n",
       "    <tr>\n",
       "      <th>3</th>\n",
       "      <td>2017</td>\n",
       "      <td>51.800</td>\n",
       "    </tr>\n",
       "    <tr>\n",
       "      <th>4</th>\n",
       "      <td>2018</td>\n",
       "      <td>50.800</td>\n",
       "    </tr>\n",
       "    <tr>\n",
       "      <th>5</th>\n",
       "      <td>2019</td>\n",
       "      <td>52.000</td>\n",
       "    </tr>\n",
       "  </tbody>\n",
       "</table>\n",
       "</div>"
      ],
      "text/plain": [
       "   year  total_area\n",
       "0  2014      75.265\n",
       "1  2015      60.000\n",
       "2  2016      53.010\n",
       "3  2017      51.800\n",
       "4  2018      50.800\n",
       "5  2019      52.000"
      ]
     },
     "execution_count": 111,
     "metadata": {},
     "output_type": "execute_result"
    }
   ],
   "source": [
    "area_by_year = data.pivot_table(index='year', values='total_area', aggfunc='median').reset_index()\n",
    "area_by_year"
   ]
  },
  {
   "cell_type": "code",
   "execution_count": 112,
   "metadata": {},
   "outputs": [
    {
     "data": {
      "text/plain": [
       "<AxesSubplot:xlabel='year'>"
      ]
     },
     "execution_count": 112,
     "metadata": {},
     "output_type": "execute_result"
    },
    {
     "data": {
      "image/png": "[encoded data removed]",
      "text/plain": [
       "<Figure size 432x288 with 1 Axes>"
      ]
     },
     "metadata": {
      "needs_background": "light"
     },
     "output_type": "display_data"
    }
   ],
   "source": [
    "area_by_year.plot(x='year', y='total_area', kind='bar')"
   ]
  },
  {
   "cell_type": "markdown",
   "metadata": {},
   "source": [
    "Если посмотреть на эти два графика, то можно заметить, что они похожи, и предположить, что это не год влиял на цену недвижимости, а площадь."
   ]
  },
  {
   "cell_type": "code",
   "execution_count": 113,
   "metadata": {},
   "outputs": [
    {
     "data": {
      "text/html": [
       "<div>\n",
       "<style scoped>\n",
       "    .dataframe tbody tr th:only-of-type {\n",
       "        vertical-align: middle;\n",
       "    }\n",
       "\n",
       "    .dataframe tbody tr th {\n",
       "        vertical-align: top;\n",
       "    }\n",
       "\n",
       "    .dataframe thead th {\n",
       "        text-align: right;\n",
       "    }\n",
       "</style>\n",
       "<table border=\"1\" class=\"dataframe\">\n",
       "  <thead>\n",
       "    <tr style=\"text-align: right;\">\n",
       "      <th></th>\n",
       "      <th>year</th>\n",
       "      <th>number_of_objects</th>\n",
       "    </tr>\n",
       "  </thead>\n",
       "  <tbody>\n",
       "    <tr>\n",
       "      <th>0</th>\n",
       "      <td>2014</td>\n",
       "      <td>124</td>\n",
       "    </tr>\n",
       "    <tr>\n",
       "      <th>1</th>\n",
       "      <td>2015</td>\n",
       "      <td>1128</td>\n",
       "    </tr>\n",
       "    <tr>\n",
       "      <th>2</th>\n",
       "      <td>2016</td>\n",
       "      <td>2680</td>\n",
       "    </tr>\n",
       "    <tr>\n",
       "      <th>3</th>\n",
       "      <td>2017</td>\n",
       "      <td>7940</td>\n",
       "    </tr>\n",
       "    <tr>\n",
       "      <th>4</th>\n",
       "      <td>2018</td>\n",
       "      <td>8246</td>\n",
       "    </tr>\n",
       "    <tr>\n",
       "      <th>5</th>\n",
       "      <td>2019</td>\n",
       "      <td>2778</td>\n",
       "    </tr>\n",
       "  </tbody>\n",
       "</table>\n",
       "</div>"
      ],
      "text/plain": [
       "   year  number_of_objects\n",
       "0  2014                124\n",
       "1  2015               1128\n",
       "2  2016               2680\n",
       "3  2017               7940\n",
       "4  2018               8246\n",
       "5  2019               2778"
      ]
     },
     "execution_count": 113,
     "metadata": {},
     "output_type": "execute_result"
    }
   ],
   "source": [
    "count_by_year = data.pivot_table(index='year', values='total_area', aggfunc='count').reset_index()\n",
    "count_by_year = count_by_year.rename(columns={'total_area': 'number_of_objects'})\n",
    "count_by_year"
   ]
  },
  {
   "cell_type": "code",
   "execution_count": 114,
   "metadata": {},
   "outputs": [
    {
     "data": {
      "text/plain": [
       "<AxesSubplot:xlabel='year'>"
      ]
     },
     "execution_count": 114,
     "metadata": {},
     "output_type": "execute_result"
    },
    {
     "data": {
      "image/png": "[encoded data removed]",
      "text/plain": [
       "<Figure size 432x288 with 1 Axes>"
      ]
     },
     "metadata": {
      "needs_background": "light"
     },
     "output_type": "display_data"
    }
   ],
   "source": [
    "count_by_year.plot(x='year', y='number_of_objects', kind='bar')"
   ]
  },
  {
   "cell_type": "markdown",
   "metadata": {},
   "source": [
    "Количество объявлений растет с каждым годом, за последний год, видимо, представлена только часть данных. Чем меньше данных, тем более подвержена выборка выбросам, из-за этого могут быть такие показатели."
   ]
  },
  {
   "cell_type": "markdown",
   "metadata": {},
   "source": [
    "#### Посчитайте среднюю цену одного квадратного метра в 10 населённых пунктах  с наибольшим числом объявлений"
   ]
  },
  {
   "cell_type": "code",
   "execution_count": 115,
   "metadata": {},
   "outputs": [
    {
     "data": {
      "text/plain": [
       "['Санкт-Петербург',\n",
       " 'поселок Мурино',\n",
       " 'поселок Шушары',\n",
       " 'Всеволожск',\n",
       " 'Пушкин',\n",
       " 'Колпино',\n",
       " 'поселок Парголово',\n",
       " 'Гатчина',\n",
       " 'деревня Кудрово',\n",
       " 'Выборг']"
      ]
     },
     "execution_count": 115,
     "metadata": {},
     "output_type": "execute_result"
    }
   ],
   "source": [
    "top_10_localities = data.groupby(by='locality_name')['locality_name'] \\\n",
    "                        .count().sort_values(ascending=False).head(10).index.to_list()\n",
    "top_10_localities"
   ]
  },
  {
   "cell_type": "code",
   "execution_count": 116,
   "metadata": {},
   "outputs": [
    {
     "data": {
      "text/html": [
       "<div>\n",
       "<style scoped>\n",
       "    .dataframe tbody tr th:only-of-type {\n",
       "        vertical-align: middle;\n",
       "    }\n",
       "\n",
       "    .dataframe tbody tr th {\n",
       "        vertical-align: top;\n",
       "    }\n",
       "\n",
       "    .dataframe thead th {\n",
       "        text-align: right;\n",
       "    }\n",
       "</style>\n",
       "<table border=\"1\" class=\"dataframe\">\n",
       "  <thead>\n",
       "    <tr style=\"text-align: right;\">\n",
       "      <th></th>\n",
       "      <th>total_images</th>\n",
       "      <th>last_price</th>\n",
       "      <th>total_area</th>\n",
       "      <th>first_day_exposition</th>\n",
       "      <th>rooms</th>\n",
       "      <th>ceiling_height</th>\n",
       "      <th>floors_total</th>\n",
       "      <th>living_area</th>\n",
       "      <th>floor</th>\n",
       "      <th>is_apartment</th>\n",
       "      <th>studio</th>\n",
       "      <th>open_plan</th>\n",
       "      <th>kitchen_area</th>\n",
       "      <th>balcony</th>\n",
       "      <th>locality_name</th>\n",
       "      <th>airports_nearest</th>\n",
       "      <th>cityCenters_nearest</th>\n",
       "      <th>parks_around3000</th>\n",
       "      <th>parks_nearest</th>\n",
       "      <th>ponds_around3000</th>\n",
       "      <th>ponds_nearest</th>\n",
       "      <th>days_exposition</th>\n",
       "      <th>sq_m_price</th>\n",
       "      <th>weekday</th>\n",
       "      <th>month</th>\n",
       "      <th>year</th>\n",
       "      <th>floor_type</th>\n",
       "      <th>cityCenters_nearest_km</th>\n",
       "    </tr>\n",
       "  </thead>\n",
       "  <tbody>\n",
       "    <tr>\n",
       "      <th>0</th>\n",
       "      <td>20</td>\n",
       "      <td>13000000.0</td>\n",
       "      <td>108.00</td>\n",
       "      <td>2019-03-07</td>\n",
       "      <td>3</td>\n",
       "      <td>2.70</td>\n",
       "      <td>16</td>\n",
       "      <td>51.0</td>\n",
       "      <td>8</td>\n",
       "      <td>False</td>\n",
       "      <td>False</td>\n",
       "      <td>False</td>\n",
       "      <td>25.00</td>\n",
       "      <td>0</td>\n",
       "      <td>Санкт-Петербург</td>\n",
       "      <td>18863.0</td>\n",
       "      <td>16028.0</td>\n",
       "      <td>1.0</td>\n",
       "      <td>482.0</td>\n",
       "      <td>2.0</td>\n",
       "      <td>755.0</td>\n",
       "      <td>NaN</td>\n",
       "      <td>120370.0</td>\n",
       "      <td>3</td>\n",
       "      <td>3</td>\n",
       "      <td>2019</td>\n",
       "      <td>other</td>\n",
       "      <td>16.0</td>\n",
       "    </tr>\n",
       "    <tr>\n",
       "      <th>1</th>\n",
       "      <td>7</td>\n",
       "      <td>3350000.0</td>\n",
       "      <td>40.40</td>\n",
       "      <td>2018-12-04</td>\n",
       "      <td>1</td>\n",
       "      <td>NaN</td>\n",
       "      <td>11</td>\n",
       "      <td>18.6</td>\n",
       "      <td>1</td>\n",
       "      <td>False</td>\n",
       "      <td>False</td>\n",
       "      <td>False</td>\n",
       "      <td>11.00</td>\n",
       "      <td>2</td>\n",
       "      <td>поселок Шушары</td>\n",
       "      <td>12817.0</td>\n",
       "      <td>18603.0</td>\n",
       "      <td>0.0</td>\n",
       "      <td>NaN</td>\n",
       "      <td>0.0</td>\n",
       "      <td>NaN</td>\n",
       "      <td>81.0</td>\n",
       "      <td>82921.0</td>\n",
       "      <td>1</td>\n",
       "      <td>12</td>\n",
       "      <td>2018</td>\n",
       "      <td>first</td>\n",
       "      <td>19.0</td>\n",
       "    </tr>\n",
       "    <tr>\n",
       "      <th>2</th>\n",
       "      <td>10</td>\n",
       "      <td>5196000.0</td>\n",
       "      <td>56.00</td>\n",
       "      <td>2015-08-20</td>\n",
       "      <td>2</td>\n",
       "      <td>NaN</td>\n",
       "      <td>5</td>\n",
       "      <td>34.3</td>\n",
       "      <td>4</td>\n",
       "      <td>False</td>\n",
       "      <td>False</td>\n",
       "      <td>False</td>\n",
       "      <td>8.30</td>\n",
       "      <td>0</td>\n",
       "      <td>Санкт-Петербург</td>\n",
       "      <td>21741.0</td>\n",
       "      <td>13933.0</td>\n",
       "      <td>1.0</td>\n",
       "      <td>90.0</td>\n",
       "      <td>2.0</td>\n",
       "      <td>574.0</td>\n",
       "      <td>558.0</td>\n",
       "      <td>92786.0</td>\n",
       "      <td>3</td>\n",
       "      <td>8</td>\n",
       "      <td>2015</td>\n",
       "      <td>other</td>\n",
       "      <td>14.0</td>\n",
       "    </tr>\n",
       "    <tr>\n",
       "      <th>4</th>\n",
       "      <td>2</td>\n",
       "      <td>10000000.0</td>\n",
       "      <td>100.00</td>\n",
       "      <td>2018-06-19</td>\n",
       "      <td>2</td>\n",
       "      <td>3.03</td>\n",
       "      <td>14</td>\n",
       "      <td>32.0</td>\n",
       "      <td>13</td>\n",
       "      <td>False</td>\n",
       "      <td>False</td>\n",
       "      <td>False</td>\n",
       "      <td>41.00</td>\n",
       "      <td>0</td>\n",
       "      <td>Санкт-Петербург</td>\n",
       "      <td>31856.0</td>\n",
       "      <td>8098.0</td>\n",
       "      <td>2.0</td>\n",
       "      <td>112.0</td>\n",
       "      <td>1.0</td>\n",
       "      <td>48.0</td>\n",
       "      <td>121.0</td>\n",
       "      <td>100000.0</td>\n",
       "      <td>1</td>\n",
       "      <td>6</td>\n",
       "      <td>2018</td>\n",
       "      <td>other</td>\n",
       "      <td>8.0</td>\n",
       "    </tr>\n",
       "    <tr>\n",
       "      <th>7</th>\n",
       "      <td>5</td>\n",
       "      <td>7915000.0</td>\n",
       "      <td>71.60</td>\n",
       "      <td>2019-04-18</td>\n",
       "      <td>2</td>\n",
       "      <td>NaN</td>\n",
       "      <td>24</td>\n",
       "      <td>NaN</td>\n",
       "      <td>22</td>\n",
       "      <td>False</td>\n",
       "      <td>False</td>\n",
       "      <td>False</td>\n",
       "      <td>18.90</td>\n",
       "      <td>2</td>\n",
       "      <td>Санкт-Петербург</td>\n",
       "      <td>23982.0</td>\n",
       "      <td>11634.0</td>\n",
       "      <td>0.0</td>\n",
       "      <td>NaN</td>\n",
       "      <td>0.0</td>\n",
       "      <td>NaN</td>\n",
       "      <td>NaN</td>\n",
       "      <td>110545.0</td>\n",
       "      <td>3</td>\n",
       "      <td>4</td>\n",
       "      <td>2019</td>\n",
       "      <td>other</td>\n",
       "      <td>12.0</td>\n",
       "    </tr>\n",
       "    <tr>\n",
       "      <th>...</th>\n",
       "      <td>...</td>\n",
       "      <td>...</td>\n",
       "      <td>...</td>\n",
       "      <td>...</td>\n",
       "      <td>...</td>\n",
       "      <td>...</td>\n",
       "      <td>...</td>\n",
       "      <td>...</td>\n",
       "      <td>...</td>\n",
       "      <td>...</td>\n",
       "      <td>...</td>\n",
       "      <td>...</td>\n",
       "      <td>...</td>\n",
       "      <td>...</td>\n",
       "      <td>...</td>\n",
       "      <td>...</td>\n",
       "      <td>...</td>\n",
       "      <td>...</td>\n",
       "      <td>...</td>\n",
       "      <td>...</td>\n",
       "      <td>...</td>\n",
       "      <td>...</td>\n",
       "      <td>...</td>\n",
       "      <td>...</td>\n",
       "      <td>...</td>\n",
       "      <td>...</td>\n",
       "      <td>...</td>\n",
       "      <td>...</td>\n",
       "    </tr>\n",
       "    <tr>\n",
       "      <th>23689</th>\n",
       "      <td>13</td>\n",
       "      <td>3550000.0</td>\n",
       "      <td>35.30</td>\n",
       "      <td>2018-02-28</td>\n",
       "      <td>1</td>\n",
       "      <td>2.86</td>\n",
       "      <td>15</td>\n",
       "      <td>16.3</td>\n",
       "      <td>4</td>\n",
       "      <td>False</td>\n",
       "      <td>False</td>\n",
       "      <td>False</td>\n",
       "      <td>9.10</td>\n",
       "      <td>2</td>\n",
       "      <td>Санкт-Петербург</td>\n",
       "      <td>17284.0</td>\n",
       "      <td>16081.0</td>\n",
       "      <td>1.0</td>\n",
       "      <td>353.0</td>\n",
       "      <td>2.0</td>\n",
       "      <td>652.0</td>\n",
       "      <td>29.0</td>\n",
       "      <td>100567.0</td>\n",
       "      <td>2</td>\n",
       "      <td>2</td>\n",
       "      <td>2018</td>\n",
       "      <td>other</td>\n",
       "      <td>16.0</td>\n",
       "    </tr>\n",
       "    <tr>\n",
       "      <th>23690</th>\n",
       "      <td>3</td>\n",
       "      <td>5500000.0</td>\n",
       "      <td>52.00</td>\n",
       "      <td>2018-07-19</td>\n",
       "      <td>2</td>\n",
       "      <td>NaN</td>\n",
       "      <td>5</td>\n",
       "      <td>31.0</td>\n",
       "      <td>2</td>\n",
       "      <td>False</td>\n",
       "      <td>False</td>\n",
       "      <td>False</td>\n",
       "      <td>6.00</td>\n",
       "      <td>0</td>\n",
       "      <td>Санкт-Петербург</td>\n",
       "      <td>20151.0</td>\n",
       "      <td>6263.0</td>\n",
       "      <td>1.0</td>\n",
       "      <td>300.0</td>\n",
       "      <td>0.0</td>\n",
       "      <td>NaN</td>\n",
       "      <td>15.0</td>\n",
       "      <td>105769.0</td>\n",
       "      <td>3</td>\n",
       "      <td>7</td>\n",
       "      <td>2018</td>\n",
       "      <td>other</td>\n",
       "      <td>6.0</td>\n",
       "    </tr>\n",
       "    <tr>\n",
       "      <th>23691</th>\n",
       "      <td>11</td>\n",
       "      <td>9470000.0</td>\n",
       "      <td>72.90</td>\n",
       "      <td>2016-10-13</td>\n",
       "      <td>2</td>\n",
       "      <td>2.75</td>\n",
       "      <td>25</td>\n",
       "      <td>40.3</td>\n",
       "      <td>7</td>\n",
       "      <td>False</td>\n",
       "      <td>False</td>\n",
       "      <td>False</td>\n",
       "      <td>10.60</td>\n",
       "      <td>1</td>\n",
       "      <td>Санкт-Петербург</td>\n",
       "      <td>19424.0</td>\n",
       "      <td>4489.0</td>\n",
       "      <td>0.0</td>\n",
       "      <td>NaN</td>\n",
       "      <td>1.0</td>\n",
       "      <td>806.0</td>\n",
       "      <td>519.0</td>\n",
       "      <td>129904.0</td>\n",
       "      <td>3</td>\n",
       "      <td>10</td>\n",
       "      <td>2016</td>\n",
       "      <td>other</td>\n",
       "      <td>4.0</td>\n",
       "    </tr>\n",
       "    <tr>\n",
       "      <th>23694</th>\n",
       "      <td>9</td>\n",
       "      <td>9700000.0</td>\n",
       "      <td>133.81</td>\n",
       "      <td>2017-03-21</td>\n",
       "      <td>3</td>\n",
       "      <td>3.70</td>\n",
       "      <td>5</td>\n",
       "      <td>73.3</td>\n",
       "      <td>3</td>\n",
       "      <td>False</td>\n",
       "      <td>False</td>\n",
       "      <td>False</td>\n",
       "      <td>13.83</td>\n",
       "      <td>0</td>\n",
       "      <td>Санкт-Петербург</td>\n",
       "      <td>24665.0</td>\n",
       "      <td>4232.0</td>\n",
       "      <td>1.0</td>\n",
       "      <td>796.0</td>\n",
       "      <td>3.0</td>\n",
       "      <td>381.0</td>\n",
       "      <td>NaN</td>\n",
       "      <td>72491.0</td>\n",
       "      <td>1</td>\n",
       "      <td>3</td>\n",
       "      <td>2017</td>\n",
       "      <td>other</td>\n",
       "      <td>4.0</td>\n",
       "    </tr>\n",
       "    <tr>\n",
       "      <th>23697</th>\n",
       "      <td>13</td>\n",
       "      <td>11475000.0</td>\n",
       "      <td>76.75</td>\n",
       "      <td>2017-03-28</td>\n",
       "      <td>2</td>\n",
       "      <td>3.00</td>\n",
       "      <td>17</td>\n",
       "      <td>NaN</td>\n",
       "      <td>12</td>\n",
       "      <td>False</td>\n",
       "      <td>False</td>\n",
       "      <td>False</td>\n",
       "      <td>23.30</td>\n",
       "      <td>2</td>\n",
       "      <td>Санкт-Петербург</td>\n",
       "      <td>39140.0</td>\n",
       "      <td>10364.0</td>\n",
       "      <td>2.0</td>\n",
       "      <td>173.0</td>\n",
       "      <td>3.0</td>\n",
       "      <td>196.0</td>\n",
       "      <td>602.0</td>\n",
       "      <td>149511.0</td>\n",
       "      <td>1</td>\n",
       "      <td>3</td>\n",
       "      <td>2017</td>\n",
       "      <td>other</td>\n",
       "      <td>10.0</td>\n",
       "    </tr>\n",
       "  </tbody>\n",
       "</table>\n",
       "<p>18431 rows × 28 columns</p>\n",
       "</div>"
      ],
      "text/plain": [
       "       total_images  last_price  total_area first_day_exposition  rooms  \\\n",
       "0                20  13000000.0      108.00           2019-03-07      3   \n",
       "1                 7   3350000.0       40.40           2018-12-04      1   \n",
       "2                10   5196000.0       56.00           2015-08-20      2   \n",
       "4                 2  10000000.0      100.00           2018-06-19      2   \n",
       "7                 5   7915000.0       71.60           2019-04-18      2   \n",
       "...             ...         ...         ...                  ...    ...   \n",
       "23689            13   3550000.0       35.30           2018-02-28      1   \n",
       "23690             3   5500000.0       52.00           2018-07-19      2   \n",
       "23691            11   9470000.0       72.90           2016-10-13      2   \n",
       "23694             9   9700000.0      133.81           2017-03-21      3   \n",
       "23697            13  11475000.0       76.75           2017-03-28      2   \n",
       "\n",
       "       ceiling_height  floors_total  living_area  floor  is_apartment  studio  \\\n",
       "0                2.70            16         51.0      8         False   False   \n",
       "1                 NaN            11         18.6      1         False   False   \n",
       "2                 NaN             5         34.3      4         False   False   \n",
       "4                3.03            14         32.0     13         False   False   \n",
       "7                 NaN            24          NaN     22         False   False   \n",
       "...               ...           ...          ...    ...           ...     ...   \n",
       "23689            2.86            15         16.3      4         False   False   \n",
       "23690             NaN             5         31.0      2         False   False   \n",
       "23691            2.75            25         40.3      7         False   False   \n",
       "23694            3.70             5         73.3      3         False   False   \n",
       "23697            3.00            17          NaN     12         False   False   \n",
       "\n",
       "       open_plan  kitchen_area  balcony    locality_name  airports_nearest  \\\n",
       "0          False         25.00        0  Санкт-Петербург           18863.0   \n",
       "1          False         11.00        2   поселок Шушары           12817.0   \n",
       "2          False          8.30        0  Санкт-Петербург           21741.0   \n",
       "4          False         41.00        0  Санкт-Петербург           31856.0   \n",
       "7          False         18.90        2  Санкт-Петербург           23982.0   \n",
       "...          ...           ...      ...              ...               ...   \n",
       "23689      False          9.10        2  Санкт-Петербург           17284.0   \n",
       "23690      False          6.00        0  Санкт-Петербург           20151.0   \n",
       "23691      False         10.60        1  Санкт-Петербург           19424.0   \n",
       "23694      False         13.83        0  Санкт-Петербург           24665.0   \n",
       "23697      False         23.30        2  Санкт-Петербург           39140.0   \n",
       "\n",
       "       cityCenters_nearest  parks_around3000  parks_nearest  ponds_around3000  \\\n",
       "0                  16028.0               1.0          482.0               2.0   \n",
       "1                  18603.0               0.0            NaN               0.0   \n",
       "2                  13933.0               1.0           90.0               2.0   \n",
       "4                   8098.0               2.0          112.0               1.0   \n",
       "7                  11634.0               0.0            NaN               0.0   \n",
       "...                    ...               ...            ...               ...   \n",
       "23689              16081.0               1.0          353.0               2.0   \n",
       "23690               6263.0               1.0          300.0               0.0   \n",
       "23691               4489.0               0.0            NaN               1.0   \n",
       "23694               4232.0               1.0          796.0               3.0   \n",
       "23697              10364.0               2.0          173.0               3.0   \n",
       "\n",
       "       ponds_nearest  days_exposition  sq_m_price  weekday  month  year  \\\n",
       "0              755.0              NaN    120370.0        3      3  2019   \n",
       "1                NaN             81.0     82921.0        1     12  2018   \n",
       "2              574.0            558.0     92786.0        3      8  2015   \n",
       "4               48.0            121.0    100000.0        1      6  2018   \n",
       "7                NaN              NaN    110545.0        3      4  2019   \n",
       "...              ...              ...         ...      ...    ...   ...   \n",
       "23689          652.0             29.0    100567.0        2      2  2018   \n",
       "23690            NaN             15.0    105769.0        3      7  2018   \n",
       "23691          806.0            519.0    129904.0        3     10  2016   \n",
       "23694          381.0              NaN     72491.0        1      3  2017   \n",
       "23697          196.0            602.0    149511.0        1      3  2017   \n",
       "\n",
       "      floor_type  cityCenters_nearest_km  \n",
       "0          other                    16.0  \n",
       "1          first                    19.0  \n",
       "2          other                    14.0  \n",
       "4          other                     8.0  \n",
       "7          other                    12.0  \n",
       "...          ...                     ...  \n",
       "23689      other                    16.0  \n",
       "23690      other                     6.0  \n",
       "23691      other                     4.0  \n",
       "23694      other                     4.0  \n",
       "23697      other                    10.0  \n",
       "\n",
       "[18431 rows x 28 columns]"
      ]
     },
     "execution_count": 116,
     "metadata": {},
     "output_type": "execute_result"
    }
   ],
   "source": [
    "top_10_localities_data = data.query('locality_name in @top_10_localities')\n",
    "top_10_localities_data"
   ]
  },
  {
   "cell_type": "code",
   "execution_count": 117,
   "metadata": {},
   "outputs": [
    {
     "data": {
      "text/html": [
       "<style  type=\"text/css\" >\n",
       "</style><table id=\"T_be3d9_\" ><thead>    <tr>        <th class=\"blank level0\" ></th>        <th class=\"col_heading level0 col0\" >sq_m_price</th>    </tr>    <tr>        <th class=\"index_name level0\" >locality_name</th>        <th class=\"blank\" ></th>    </tr></thead><tbody>\n",
       "                <tr>\n",
       "                        <th id=\"T_be3d9_level0_row0\" class=\"row_heading level0 row0\" >Выборг</th>\n",
       "                        <td id=\"T_be3d9_row0_col0\" class=\"data row0 col0\" >58,510.33</td>\n",
       "            </tr>\n",
       "            <tr>\n",
       "                        <th id=\"T_be3d9_level0_row1\" class=\"row_heading level0 row1\" >Всеволожск</th>\n",
       "                        <td id=\"T_be3d9_row1_col0\" class=\"data row1 col0\" >68,735.61</td>\n",
       "            </tr>\n",
       "            <tr>\n",
       "                        <th id=\"T_be3d9_level0_row2\" class=\"row_heading level0 row2\" >Гатчина</th>\n",
       "                        <td id=\"T_be3d9_row2_col0\" class=\"data row2 col0\" >68,858.45</td>\n",
       "            </tr>\n",
       "            <tr>\n",
       "                        <th id=\"T_be3d9_level0_row3\" class=\"row_heading level0 row3\" >Колпино</th>\n",
       "                        <td id=\"T_be3d9_row3_col0\" class=\"data row3 col0\" >75,352.47</td>\n",
       "            </tr>\n",
       "            <tr>\n",
       "                        <th id=\"T_be3d9_level0_row4\" class=\"row_heading level0 row4\" >поселок Шушары</th>\n",
       "                        <td id=\"T_be3d9_row4_col0\" class=\"data row4 col0\" >78,516.75</td>\n",
       "            </tr>\n",
       "            <tr>\n",
       "                        <th id=\"T_be3d9_level0_row5\" class=\"row_heading level0 row5\" >поселок Мурино</th>\n",
       "                        <td id=\"T_be3d9_row5_col0\" class=\"data row5 col0\" >85,327.28</td>\n",
       "            </tr>\n",
       "            <tr>\n",
       "                        <th id=\"T_be3d9_level0_row6\" class=\"row_heading level0 row6\" >поселок Парголово</th>\n",
       "                        <td id=\"T_be3d9_row6_col0\" class=\"data row6 col0\" >90,089.64</td>\n",
       "            </tr>\n",
       "            <tr>\n",
       "                        <th id=\"T_be3d9_level0_row7\" class=\"row_heading level0 row7\" >деревня Кудрово</th>\n",
       "                        <td id=\"T_be3d9_row7_col0\" class=\"data row7 col0\" >92,463.94</td>\n",
       "            </tr>\n",
       "            <tr>\n",
       "                        <th id=\"T_be3d9_level0_row8\" class=\"row_heading level0 row8\" >Пушкин</th>\n",
       "                        <td id=\"T_be3d9_row8_col0\" class=\"data row8 col0\" >102,987.68</td>\n",
       "            </tr>\n",
       "            <tr>\n",
       "                        <th id=\"T_be3d9_level0_row9\" class=\"row_heading level0 row9\" >Санкт-Петербург</th>\n",
       "                        <td id=\"T_be3d9_row9_col0\" class=\"data row9 col0\" >112,053.45</td>\n",
       "            </tr>\n",
       "    </tbody></table>"
      ],
      "text/plain": [
       "<pandas.io.formats.style.Styler at 0x7f6de8f476a0>"
      ]
     },
     "execution_count": 117,
     "metadata": {},
     "output_type": "execute_result"
    }
   ],
   "source": [
    "top_10_pivot_table = top_10_localities_data.pivot_table(index='locality_name', values='sq_m_price', aggfunc='mean') \\\n",
    "                      .sort_values(by='sq_m_price', ascending=True) \n",
    "                      \n",
    "top_10_pivot_table.style.format('{:,.2f}')"
   ]
  },
  {
   "cell_type": "code",
   "execution_count": 118,
   "metadata": {},
   "outputs": [
    {
     "data": {
      "text/plain": [
       "<AxesSubplot:ylabel='locality_name'>"
      ]
     },
     "execution_count": 118,
     "metadata": {},
     "output_type": "execute_result"
    },
    {
     "data": {
      "image/png": "[encoded data removed]",
      "text/plain": [
       "<Figure size 432x288 with 1 Axes>"
      ]
     },
     "metadata": {
      "needs_background": "light"
     },
     "output_type": "display_data"
    }
   ],
   "source": [
    "top_10_pivot_table.plot(kind='barh')"
   ]
  },
  {
   "cell_type": "markdown",
   "metadata": {},
   "source": [
    "Самая высокая цена квадратного метра в Санкт-Петербурге, самая низкая - в Выборге."
   ]
  },
  {
   "cell_type": "markdown",
   "metadata": {},
   "source": [
    "#### Посчитайте цену квадратного метра в Санкт-Петербурге за каждый километр от центра"
   ]
  },
  {
   "cell_type": "code",
   "execution_count": 119,
   "metadata": {},
   "outputs": [
    {
     "data": {
      "text/html": [
       "<div>\n",
       "<style scoped>\n",
       "    .dataframe tbody tr th:only-of-type {\n",
       "        vertical-align: middle;\n",
       "    }\n",
       "\n",
       "    .dataframe tbody tr th {\n",
       "        vertical-align: top;\n",
       "    }\n",
       "\n",
       "    .dataframe thead th {\n",
       "        text-align: right;\n",
       "    }\n",
       "</style>\n",
       "<table border=\"1\" class=\"dataframe\">\n",
       "  <thead>\n",
       "    <tr style=\"text-align: right;\">\n",
       "      <th></th>\n",
       "      <th>total_images</th>\n",
       "      <th>last_price</th>\n",
       "      <th>total_area</th>\n",
       "      <th>first_day_exposition</th>\n",
       "      <th>rooms</th>\n",
       "      <th>ceiling_height</th>\n",
       "      <th>floors_total</th>\n",
       "      <th>living_area</th>\n",
       "      <th>floor</th>\n",
       "      <th>is_apartment</th>\n",
       "      <th>studio</th>\n",
       "      <th>open_plan</th>\n",
       "      <th>kitchen_area</th>\n",
       "      <th>balcony</th>\n",
       "      <th>locality_name</th>\n",
       "      <th>airports_nearest</th>\n",
       "      <th>cityCenters_nearest</th>\n",
       "      <th>parks_around3000</th>\n",
       "      <th>parks_nearest</th>\n",
       "      <th>ponds_around3000</th>\n",
       "      <th>ponds_nearest</th>\n",
       "      <th>days_exposition</th>\n",
       "      <th>sq_m_price</th>\n",
       "      <th>weekday</th>\n",
       "      <th>month</th>\n",
       "      <th>year</th>\n",
       "      <th>floor_type</th>\n",
       "      <th>cityCenters_nearest_km</th>\n",
       "    </tr>\n",
       "  </thead>\n",
       "  <tbody>\n",
       "    <tr>\n",
       "      <th>0</th>\n",
       "      <td>20</td>\n",
       "      <td>13000000.0</td>\n",
       "      <td>108.00</td>\n",
       "      <td>2019-03-07</td>\n",
       "      <td>3</td>\n",
       "      <td>2.70</td>\n",
       "      <td>16</td>\n",
       "      <td>51.0</td>\n",
       "      <td>8</td>\n",
       "      <td>False</td>\n",
       "      <td>False</td>\n",
       "      <td>False</td>\n",
       "      <td>25.00</td>\n",
       "      <td>0</td>\n",
       "      <td>Санкт-Петербург</td>\n",
       "      <td>18863.0</td>\n",
       "      <td>16028.0</td>\n",
       "      <td>1.0</td>\n",
       "      <td>482.0</td>\n",
       "      <td>2.0</td>\n",
       "      <td>755.0</td>\n",
       "      <td>NaN</td>\n",
       "      <td>120370.0</td>\n",
       "      <td>3</td>\n",
       "      <td>3</td>\n",
       "      <td>2019</td>\n",
       "      <td>other</td>\n",
       "      <td>16.0</td>\n",
       "    </tr>\n",
       "    <tr>\n",
       "      <th>2</th>\n",
       "      <td>10</td>\n",
       "      <td>5196000.0</td>\n",
       "      <td>56.00</td>\n",
       "      <td>2015-08-20</td>\n",
       "      <td>2</td>\n",
       "      <td>NaN</td>\n",
       "      <td>5</td>\n",
       "      <td>34.3</td>\n",
       "      <td>4</td>\n",
       "      <td>False</td>\n",
       "      <td>False</td>\n",
       "      <td>False</td>\n",
       "      <td>8.30</td>\n",
       "      <td>0</td>\n",
       "      <td>Санкт-Петербург</td>\n",
       "      <td>21741.0</td>\n",
       "      <td>13933.0</td>\n",
       "      <td>1.0</td>\n",
       "      <td>90.0</td>\n",
       "      <td>2.0</td>\n",
       "      <td>574.0</td>\n",
       "      <td>558.0</td>\n",
       "      <td>92786.0</td>\n",
       "      <td>3</td>\n",
       "      <td>8</td>\n",
       "      <td>2015</td>\n",
       "      <td>other</td>\n",
       "      <td>14.0</td>\n",
       "    </tr>\n",
       "    <tr>\n",
       "      <th>4</th>\n",
       "      <td>2</td>\n",
       "      <td>10000000.0</td>\n",
       "      <td>100.00</td>\n",
       "      <td>2018-06-19</td>\n",
       "      <td>2</td>\n",
       "      <td>3.03</td>\n",
       "      <td>14</td>\n",
       "      <td>32.0</td>\n",
       "      <td>13</td>\n",
       "      <td>False</td>\n",
       "      <td>False</td>\n",
       "      <td>False</td>\n",
       "      <td>41.00</td>\n",
       "      <td>0</td>\n",
       "      <td>Санкт-Петербург</td>\n",
       "      <td>31856.0</td>\n",
       "      <td>8098.0</td>\n",
       "      <td>2.0</td>\n",
       "      <td>112.0</td>\n",
       "      <td>1.0</td>\n",
       "      <td>48.0</td>\n",
       "      <td>121.0</td>\n",
       "      <td>100000.0</td>\n",
       "      <td>1</td>\n",
       "      <td>6</td>\n",
       "      <td>2018</td>\n",
       "      <td>other</td>\n",
       "      <td>8.0</td>\n",
       "    </tr>\n",
       "    <tr>\n",
       "      <th>7</th>\n",
       "      <td>5</td>\n",
       "      <td>7915000.0</td>\n",
       "      <td>71.60</td>\n",
       "      <td>2019-04-18</td>\n",
       "      <td>2</td>\n",
       "      <td>NaN</td>\n",
       "      <td>24</td>\n",
       "      <td>NaN</td>\n",
       "      <td>22</td>\n",
       "      <td>False</td>\n",
       "      <td>False</td>\n",
       "      <td>False</td>\n",
       "      <td>18.90</td>\n",
       "      <td>2</td>\n",
       "      <td>Санкт-Петербург</td>\n",
       "      <td>23982.0</td>\n",
       "      <td>11634.0</td>\n",
       "      <td>0.0</td>\n",
       "      <td>NaN</td>\n",
       "      <td>0.0</td>\n",
       "      <td>NaN</td>\n",
       "      <td>NaN</td>\n",
       "      <td>110545.0</td>\n",
       "      <td>3</td>\n",
       "      <td>4</td>\n",
       "      <td>2019</td>\n",
       "      <td>other</td>\n",
       "      <td>12.0</td>\n",
       "    </tr>\n",
       "    <tr>\n",
       "      <th>9</th>\n",
       "      <td>18</td>\n",
       "      <td>5400000.0</td>\n",
       "      <td>61.00</td>\n",
       "      <td>2017-02-26</td>\n",
       "      <td>3</td>\n",
       "      <td>2.50</td>\n",
       "      <td>9</td>\n",
       "      <td>43.6</td>\n",
       "      <td>7</td>\n",
       "      <td>False</td>\n",
       "      <td>False</td>\n",
       "      <td>False</td>\n",
       "      <td>6.50</td>\n",
       "      <td>2</td>\n",
       "      <td>Санкт-Петербург</td>\n",
       "      <td>50898.0</td>\n",
       "      <td>15008.0</td>\n",
       "      <td>0.0</td>\n",
       "      <td>NaN</td>\n",
       "      <td>0.0</td>\n",
       "      <td>NaN</td>\n",
       "      <td>289.0</td>\n",
       "      <td>88525.0</td>\n",
       "      <td>6</td>\n",
       "      <td>2</td>\n",
       "      <td>2017</td>\n",
       "      <td>other</td>\n",
       "      <td>15.0</td>\n",
       "    </tr>\n",
       "    <tr>\n",
       "      <th>...</th>\n",
       "      <td>...</td>\n",
       "      <td>...</td>\n",
       "      <td>...</td>\n",
       "      <td>...</td>\n",
       "      <td>...</td>\n",
       "      <td>...</td>\n",
       "      <td>...</td>\n",
       "      <td>...</td>\n",
       "      <td>...</td>\n",
       "      <td>...</td>\n",
       "      <td>...</td>\n",
       "      <td>...</td>\n",
       "      <td>...</td>\n",
       "      <td>...</td>\n",
       "      <td>...</td>\n",
       "      <td>...</td>\n",
       "      <td>...</td>\n",
       "      <td>...</td>\n",
       "      <td>...</td>\n",
       "      <td>...</td>\n",
       "      <td>...</td>\n",
       "      <td>...</td>\n",
       "      <td>...</td>\n",
       "      <td>...</td>\n",
       "      <td>...</td>\n",
       "      <td>...</td>\n",
       "      <td>...</td>\n",
       "      <td>...</td>\n",
       "    </tr>\n",
       "    <tr>\n",
       "      <th>23689</th>\n",
       "      <td>13</td>\n",
       "      <td>3550000.0</td>\n",
       "      <td>35.30</td>\n",
       "      <td>2018-02-28</td>\n",
       "      <td>1</td>\n",
       "      <td>2.86</td>\n",
       "      <td>15</td>\n",
       "      <td>16.3</td>\n",
       "      <td>4</td>\n",
       "      <td>False</td>\n",
       "      <td>False</td>\n",
       "      <td>False</td>\n",
       "      <td>9.10</td>\n",
       "      <td>2</td>\n",
       "      <td>Санкт-Петербург</td>\n",
       "      <td>17284.0</td>\n",
       "      <td>16081.0</td>\n",
       "      <td>1.0</td>\n",
       "      <td>353.0</td>\n",
       "      <td>2.0</td>\n",
       "      <td>652.0</td>\n",
       "      <td>29.0</td>\n",
       "      <td>100567.0</td>\n",
       "      <td>2</td>\n",
       "      <td>2</td>\n",
       "      <td>2018</td>\n",
       "      <td>other</td>\n",
       "      <td>16.0</td>\n",
       "    </tr>\n",
       "    <tr>\n",
       "      <th>23690</th>\n",
       "      <td>3</td>\n",
       "      <td>5500000.0</td>\n",
       "      <td>52.00</td>\n",
       "      <td>2018-07-19</td>\n",
       "      <td>2</td>\n",
       "      <td>NaN</td>\n",
       "      <td>5</td>\n",
       "      <td>31.0</td>\n",
       "      <td>2</td>\n",
       "      <td>False</td>\n",
       "      <td>False</td>\n",
       "      <td>False</td>\n",
       "      <td>6.00</td>\n",
       "      <td>0</td>\n",
       "      <td>Санкт-Петербург</td>\n",
       "      <td>20151.0</td>\n",
       "      <td>6263.0</td>\n",
       "      <td>1.0</td>\n",
       "      <td>300.0</td>\n",
       "      <td>0.0</td>\n",
       "      <td>NaN</td>\n",
       "      <td>15.0</td>\n",
       "      <td>105769.0</td>\n",
       "      <td>3</td>\n",
       "      <td>7</td>\n",
       "      <td>2018</td>\n",
       "      <td>other</td>\n",
       "      <td>6.0</td>\n",
       "    </tr>\n",
       "    <tr>\n",
       "      <th>23691</th>\n",
       "      <td>11</td>\n",
       "      <td>9470000.0</td>\n",
       "      <td>72.90</td>\n",
       "      <td>2016-10-13</td>\n",
       "      <td>2</td>\n",
       "      <td>2.75</td>\n",
       "      <td>25</td>\n",
       "      <td>40.3</td>\n",
       "      <td>7</td>\n",
       "      <td>False</td>\n",
       "      <td>False</td>\n",
       "      <td>False</td>\n",
       "      <td>10.60</td>\n",
       "      <td>1</td>\n",
       "      <td>Санкт-Петербург</td>\n",
       "      <td>19424.0</td>\n",
       "      <td>4489.0</td>\n",
       "      <td>0.0</td>\n",
       "      <td>NaN</td>\n",
       "      <td>1.0</td>\n",
       "      <td>806.0</td>\n",
       "      <td>519.0</td>\n",
       "      <td>129904.0</td>\n",
       "      <td>3</td>\n",
       "      <td>10</td>\n",
       "      <td>2016</td>\n",
       "      <td>other</td>\n",
       "      <td>4.0</td>\n",
       "    </tr>\n",
       "    <tr>\n",
       "      <th>23694</th>\n",
       "      <td>9</td>\n",
       "      <td>9700000.0</td>\n",
       "      <td>133.81</td>\n",
       "      <td>2017-03-21</td>\n",
       "      <td>3</td>\n",
       "      <td>3.70</td>\n",
       "      <td>5</td>\n",
       "      <td>73.3</td>\n",
       "      <td>3</td>\n",
       "      <td>False</td>\n",
       "      <td>False</td>\n",
       "      <td>False</td>\n",
       "      <td>13.83</td>\n",
       "      <td>0</td>\n",
       "      <td>Санкт-Петербург</td>\n",
       "      <td>24665.0</td>\n",
       "      <td>4232.0</td>\n",
       "      <td>1.0</td>\n",
       "      <td>796.0</td>\n",
       "      <td>3.0</td>\n",
       "      <td>381.0</td>\n",
       "      <td>NaN</td>\n",
       "      <td>72491.0</td>\n",
       "      <td>1</td>\n",
       "      <td>3</td>\n",
       "      <td>2017</td>\n",
       "      <td>other</td>\n",
       "      <td>4.0</td>\n",
       "    </tr>\n",
       "    <tr>\n",
       "      <th>23697</th>\n",
       "      <td>13</td>\n",
       "      <td>11475000.0</td>\n",
       "      <td>76.75</td>\n",
       "      <td>2017-03-28</td>\n",
       "      <td>2</td>\n",
       "      <td>3.00</td>\n",
       "      <td>17</td>\n",
       "      <td>NaN</td>\n",
       "      <td>12</td>\n",
       "      <td>False</td>\n",
       "      <td>False</td>\n",
       "      <td>False</td>\n",
       "      <td>23.30</td>\n",
       "      <td>2</td>\n",
       "      <td>Санкт-Петербург</td>\n",
       "      <td>39140.0</td>\n",
       "      <td>10364.0</td>\n",
       "      <td>2.0</td>\n",
       "      <td>173.0</td>\n",
       "      <td>3.0</td>\n",
       "      <td>196.0</td>\n",
       "      <td>602.0</td>\n",
       "      <td>149511.0</td>\n",
       "      <td>1</td>\n",
       "      <td>3</td>\n",
       "      <td>2017</td>\n",
       "      <td>other</td>\n",
       "      <td>10.0</td>\n",
       "    </tr>\n",
       "  </tbody>\n",
       "</table>\n",
       "<p>15216 rows × 28 columns</p>\n",
       "</div>"
      ],
      "text/plain": [
       "       total_images  last_price  total_area first_day_exposition  rooms  \\\n",
       "0                20  13000000.0      108.00           2019-03-07      3   \n",
       "2                10   5196000.0       56.00           2015-08-20      2   \n",
       "4                 2  10000000.0      100.00           2018-06-19      2   \n",
       "7                 5   7915000.0       71.60           2019-04-18      2   \n",
       "9                18   5400000.0       61.00           2017-02-26      3   \n",
       "...             ...         ...         ...                  ...    ...   \n",
       "23689            13   3550000.0       35.30           2018-02-28      1   \n",
       "23690             3   5500000.0       52.00           2018-07-19      2   \n",
       "23691            11   9470000.0       72.90           2016-10-13      2   \n",
       "23694             9   9700000.0      133.81           2017-03-21      3   \n",
       "23697            13  11475000.0       76.75           2017-03-28      2   \n",
       "\n",
       "       ceiling_height  floors_total  living_area  floor  is_apartment  studio  \\\n",
       "0                2.70            16         51.0      8         False   False   \n",
       "2                 NaN             5         34.3      4         False   False   \n",
       "4                3.03            14         32.0     13         False   False   \n",
       "7                 NaN            24          NaN     22         False   False   \n",
       "9                2.50             9         43.6      7         False   False   \n",
       "...               ...           ...          ...    ...           ...     ...   \n",
       "23689            2.86            15         16.3      4         False   False   \n",
       "23690             NaN             5         31.0      2         False   False   \n",
       "23691            2.75            25         40.3      7         False   False   \n",
       "23694            3.70             5         73.3      3         False   False   \n",
       "23697            3.00            17          NaN     12         False   False   \n",
       "\n",
       "       open_plan  kitchen_area  balcony    locality_name  airports_nearest  \\\n",
       "0          False         25.00        0  Санкт-Петербург           18863.0   \n",
       "2          False          8.30        0  Санкт-Петербург           21741.0   \n",
       "4          False         41.00        0  Санкт-Петербург           31856.0   \n",
       "7          False         18.90        2  Санкт-Петербург           23982.0   \n",
       "9          False          6.50        2  Санкт-Петербург           50898.0   \n",
       "...          ...           ...      ...              ...               ...   \n",
       "23689      False          9.10        2  Санкт-Петербург           17284.0   \n",
       "23690      False          6.00        0  Санкт-Петербург           20151.0   \n",
       "23691      False         10.60        1  Санкт-Петербург           19424.0   \n",
       "23694      False         13.83        0  Санкт-Петербург           24665.0   \n",
       "23697      False         23.30        2  Санкт-Петербург           39140.0   \n",
       "\n",
       "       cityCenters_nearest  parks_around3000  parks_nearest  ponds_around3000  \\\n",
       "0                  16028.0               1.0          482.0               2.0   \n",
       "2                  13933.0               1.0           90.0               2.0   \n",
       "4                   8098.0               2.0          112.0               1.0   \n",
       "7                  11634.0               0.0            NaN               0.0   \n",
       "9                  15008.0               0.0            NaN               0.0   \n",
       "...                    ...               ...            ...               ...   \n",
       "23689              16081.0               1.0          353.0               2.0   \n",
       "23690               6263.0               1.0          300.0               0.0   \n",
       "23691               4489.0               0.0            NaN               1.0   \n",
       "23694               4232.0               1.0          796.0               3.0   \n",
       "23697              10364.0               2.0          173.0               3.0   \n",
       "\n",
       "       ponds_nearest  days_exposition  sq_m_price  weekday  month  year  \\\n",
       "0              755.0              NaN    120370.0        3      3  2019   \n",
       "2              574.0            558.0     92786.0        3      8  2015   \n",
       "4               48.0            121.0    100000.0        1      6  2018   \n",
       "7                NaN              NaN    110545.0        3      4  2019   \n",
       "9                NaN            289.0     88525.0        6      2  2017   \n",
       "...              ...              ...         ...      ...    ...   ...   \n",
       "23689          652.0             29.0    100567.0        2      2  2018   \n",
       "23690            NaN             15.0    105769.0        3      7  2018   \n",
       "23691          806.0            519.0    129904.0        3     10  2016   \n",
       "23694          381.0              NaN     72491.0        1      3  2017   \n",
       "23697          196.0            602.0    149511.0        1      3  2017   \n",
       "\n",
       "      floor_type  cityCenters_nearest_km  \n",
       "0          other                    16.0  \n",
       "2          other                    14.0  \n",
       "4          other                     8.0  \n",
       "7          other                    12.0  \n",
       "9          other                    15.0  \n",
       "...          ...                     ...  \n",
       "23689      other                    16.0  \n",
       "23690      other                     6.0  \n",
       "23691      other                     4.0  \n",
       "23694      other                     4.0  \n",
       "23697      other                    10.0  \n",
       "\n",
       "[15216 rows x 28 columns]"
      ]
     },
     "execution_count": 119,
     "metadata": {},
     "output_type": "execute_result"
    }
   ],
   "source": [
    "spb_data = data.query('locality_name == \"Санкт-Петербург\"')\n",
    "spb_data"
   ]
  },
  {
   "cell_type": "code",
   "execution_count": 120,
   "metadata": {},
   "outputs": [
    {
     "data": {
      "text/html": [
       "<div>\n",
       "<style scoped>\n",
       "    .dataframe tbody tr th:only-of-type {\n",
       "        vertical-align: middle;\n",
       "    }\n",
       "\n",
       "    .dataframe tbody tr th {\n",
       "        vertical-align: top;\n",
       "    }\n",
       "\n",
       "    .dataframe thead th {\n",
       "        text-align: right;\n",
       "    }\n",
       "</style>\n",
       "<table border=\"1\" class=\"dataframe\">\n",
       "  <thead>\n",
       "    <tr style=\"text-align: right;\">\n",
       "      <th></th>\n",
       "      <th>cityCenters_nearest_km</th>\n",
       "      <th>sq_m_price</th>\n",
       "    </tr>\n",
       "  </thead>\n",
       "  <tbody>\n",
       "    <tr>\n",
       "      <th>0</th>\n",
       "      <td>0.0</td>\n",
       "      <td>197284.000000</td>\n",
       "    </tr>\n",
       "    <tr>\n",
       "      <th>1</th>\n",
       "      <td>1.0</td>\n",
       "      <td>145777.423529</td>\n",
       "    </tr>\n",
       "    <tr>\n",
       "      <th>2</th>\n",
       "      <td>2.0</td>\n",
       "      <td>137942.380435</td>\n",
       "    </tr>\n",
       "    <tr>\n",
       "      <th>3</th>\n",
       "      <td>3.0</td>\n",
       "      <td>118375.541667</td>\n",
       "    </tr>\n",
       "    <tr>\n",
       "      <th>4</th>\n",
       "      <td>4.0</td>\n",
       "      <td>127082.873303</td>\n",
       "    </tr>\n",
       "    <tr>\n",
       "      <th>5</th>\n",
       "      <td>5.0</td>\n",
       "      <td>134339.834112</td>\n",
       "    </tr>\n",
       "    <tr>\n",
       "      <th>6</th>\n",
       "      <td>6.0</td>\n",
       "      <td>141098.865749</td>\n",
       "    </tr>\n",
       "    <tr>\n",
       "      <th>7</th>\n",
       "      <td>7.0</td>\n",
       "      <td>142433.547558</td>\n",
       "    </tr>\n",
       "    <tr>\n",
       "      <th>8</th>\n",
       "      <td>8.0</td>\n",
       "      <td>123868.908146</td>\n",
       "    </tr>\n",
       "    <tr>\n",
       "      <th>9</th>\n",
       "      <td>9.0</td>\n",
       "      <td>113299.153713</td>\n",
       "    </tr>\n",
       "    <tr>\n",
       "      <th>10</th>\n",
       "      <td>10.0</td>\n",
       "      <td>112458.055556</td>\n",
       "    </tr>\n",
       "    <tr>\n",
       "      <th>11</th>\n",
       "      <td>11.0</td>\n",
       "      <td>107917.834201</td>\n",
       "    </tr>\n",
       "    <tr>\n",
       "      <th>12</th>\n",
       "      <td>12.0</td>\n",
       "      <td>107432.180038</td>\n",
       "    </tr>\n",
       "    <tr>\n",
       "      <th>13</th>\n",
       "      <td>13.0</td>\n",
       "      <td>108067.873868</td>\n",
       "    </tr>\n",
       "    <tr>\n",
       "      <th>14</th>\n",
       "      <td>14.0</td>\n",
       "      <td>104183.873609</td>\n",
       "    </tr>\n",
       "    <tr>\n",
       "      <th>15</th>\n",
       "      <td>15.0</td>\n",
       "      <td>104295.363459</td>\n",
       "    </tr>\n",
       "    <tr>\n",
       "      <th>16</th>\n",
       "      <td>16.0</td>\n",
       "      <td>100455.651721</td>\n",
       "    </tr>\n",
       "    <tr>\n",
       "      <th>17</th>\n",
       "      <td>17.0</td>\n",
       "      <td>96855.673256</td>\n",
       "    </tr>\n",
       "    <tr>\n",
       "      <th>18</th>\n",
       "      <td>18.0</td>\n",
       "      <td>96445.505792</td>\n",
       "    </tr>\n",
       "    <tr>\n",
       "      <th>19</th>\n",
       "      <td>19.0</td>\n",
       "      <td>98061.012987</td>\n",
       "    </tr>\n",
       "    <tr>\n",
       "      <th>20</th>\n",
       "      <td>20.0</td>\n",
       "      <td>87214.842105</td>\n",
       "    </tr>\n",
       "    <tr>\n",
       "      <th>21</th>\n",
       "      <td>21.0</td>\n",
       "      <td>94441.652174</td>\n",
       "    </tr>\n",
       "    <tr>\n",
       "      <th>22</th>\n",
       "      <td>22.0</td>\n",
       "      <td>91330.405941</td>\n",
       "    </tr>\n",
       "    <tr>\n",
       "      <th>23</th>\n",
       "      <td>23.0</td>\n",
       "      <td>91490.845238</td>\n",
       "    </tr>\n",
       "    <tr>\n",
       "      <th>24</th>\n",
       "      <td>24.0</td>\n",
       "      <td>85736.884615</td>\n",
       "    </tr>\n",
       "    <tr>\n",
       "      <th>25</th>\n",
       "      <td>25.0</td>\n",
       "      <td>90956.600000</td>\n",
       "    </tr>\n",
       "    <tr>\n",
       "      <th>26</th>\n",
       "      <td>26.0</td>\n",
       "      <td>87674.459459</td>\n",
       "    </tr>\n",
       "    <tr>\n",
       "      <th>27</th>\n",
       "      <td>27.0</td>\n",
       "      <td>132115.500000</td>\n",
       "    </tr>\n",
       "    <tr>\n",
       "      <th>28</th>\n",
       "      <td>28.0</td>\n",
       "      <td>81161.857143</td>\n",
       "    </tr>\n",
       "    <tr>\n",
       "      <th>29</th>\n",
       "      <td>29.0</td>\n",
       "      <td>72953.500000</td>\n",
       "    </tr>\n",
       "  </tbody>\n",
       "</table>\n",
       "</div>"
      ],
      "text/plain": [
       "    cityCenters_nearest_km     sq_m_price\n",
       "0                      0.0  197284.000000\n",
       "1                      1.0  145777.423529\n",
       "2                      2.0  137942.380435\n",
       "3                      3.0  118375.541667\n",
       "4                      4.0  127082.873303\n",
       "5                      5.0  134339.834112\n",
       "6                      6.0  141098.865749\n",
       "7                      7.0  142433.547558\n",
       "8                      8.0  123868.908146\n",
       "9                      9.0  113299.153713\n",
       "10                    10.0  112458.055556\n",
       "11                    11.0  107917.834201\n",
       "12                    12.0  107432.180038\n",
       "13                    13.0  108067.873868\n",
       "14                    14.0  104183.873609\n",
       "15                    15.0  104295.363459\n",
       "16                    16.0  100455.651721\n",
       "17                    17.0   96855.673256\n",
       "18                    18.0   96445.505792\n",
       "19                    19.0   98061.012987\n",
       "20                    20.0   87214.842105\n",
       "21                    21.0   94441.652174\n",
       "22                    22.0   91330.405941\n",
       "23                    23.0   91490.845238\n",
       "24                    24.0   85736.884615\n",
       "25                    25.0   90956.600000\n",
       "26                    26.0   87674.459459\n",
       "27                    27.0  132115.500000\n",
       "28                    28.0   81161.857143\n",
       "29                    29.0   72953.500000"
      ]
     },
     "execution_count": 120,
     "metadata": {},
     "output_type": "execute_result"
    }
   ],
   "source": [
    "sq_m_price_by_km = spb_data.pivot_table(index=['cityCenters_nearest_km'], values='sq_m_price', aggfunc='mean').reset_index()\n",
    "sq_m_price_by_km"
   ]
  },
  {
   "cell_type": "code",
   "execution_count": 121,
   "metadata": {},
   "outputs": [
    {
     "data": {
      "text/plain": [
       "-0.7975515026055234"
      ]
     },
     "execution_count": 121,
     "metadata": {},
     "output_type": "execute_result"
    }
   ],
   "source": [
    "sq_m_price_by_km['cityCenters_nearest_km'].corr(sq_m_price_by_km['sq_m_price'])"
   ]
  },
  {
   "cell_type": "code",
   "execution_count": 122,
   "metadata": {},
   "outputs": [
    {
     "data": {
      "text/plain": [
       "<AxesSubplot:xlabel='cityCenters_nearest_km', ylabel='sq_m_price'>"
      ]
     },
     "execution_count": 122,
     "metadata": {},
     "output_type": "execute_result"
    },
    {
     "data": {
      "image/png": "[encoded data removed]",
      "text/plain": [
       "<Figure size 432x288 with 1 Axes>"
      ]
     },
     "metadata": {
      "needs_background": "light"
     },
     "output_type": "display_data"
    }
   ],
   "source": [
    "sq_m_price_by_km.plot(x='cityCenters_nearest_km', y='sq_m_price', kind='scatter')"
   ]
  },
  {
   "cell_type": "markdown",
   "metadata": {},
   "source": [
    "В пределах первых 10 км от центра цена за кв метр не зависит от удаленности от центра и варьируется в пределах 106-113 тыс за кв.м, после 10 км цена падает до 68 тыс на 28-ом километре. Коэффициент Пирсона между этими двумя величинами равен -0,9."
   ]
  },
  {
   "cell_type": "code",
   "execution_count": 137,
   "metadata": {},
   "outputs": [
    {
     "data": {
      "text/html": [
       "<div>\n",
       "<style scoped>\n",
       "    .dataframe tbody tr th:only-of-type {\n",
       "        vertical-align: middle;\n",
       "    }\n",
       "\n",
       "    .dataframe tbody tr th {\n",
       "        vertical-align: top;\n",
       "    }\n",
       "\n",
       "    .dataframe thead th {\n",
       "        text-align: right;\n",
       "    }\n",
       "</style>\n",
       "<table border=\"1\" class=\"dataframe\">\n",
       "  <thead>\n",
       "    <tr style=\"text-align: right;\">\n",
       "      <th></th>\n",
       "      <th>cityCenters_nearest_km</th>\n",
       "      <th>last_price</th>\n",
       "    </tr>\n",
       "  </thead>\n",
       "  <tbody>\n",
       "    <tr>\n",
       "      <th>0</th>\n",
       "      <td>0.0</td>\n",
       "      <td>1.932872e+07</td>\n",
       "    </tr>\n",
       "    <tr>\n",
       "      <th>1</th>\n",
       "      <td>1.0</td>\n",
       "      <td>1.268029e+07</td>\n",
       "    </tr>\n",
       "    <tr>\n",
       "      <th>2</th>\n",
       "      <td>2.0</td>\n",
       "      <td>1.212069e+07</td>\n",
       "    </tr>\n",
       "    <tr>\n",
       "      <th>3</th>\n",
       "      <td>3.0</td>\n",
       "      <td>1.017236e+07</td>\n",
       "    </tr>\n",
       "    <tr>\n",
       "      <th>4</th>\n",
       "      <td>4.0</td>\n",
       "      <td>1.104635e+07</td>\n",
       "    </tr>\n",
       "    <tr>\n",
       "      <th>5</th>\n",
       "      <td>5.0</td>\n",
       "      <td>1.148556e+07</td>\n",
       "    </tr>\n",
       "    <tr>\n",
       "      <th>6</th>\n",
       "      <td>6.0</td>\n",
       "      <td>1.193105e+07</td>\n",
       "    </tr>\n",
       "    <tr>\n",
       "      <th>7</th>\n",
       "      <td>7.0</td>\n",
       "      <td>1.148634e+07</td>\n",
       "    </tr>\n",
       "    <tr>\n",
       "      <th>8</th>\n",
       "      <td>8.0</td>\n",
       "      <td>9.020725e+06</td>\n",
       "    </tr>\n",
       "    <tr>\n",
       "      <th>9</th>\n",
       "      <td>9.0</td>\n",
       "      <td>6.981640e+06</td>\n",
       "    </tr>\n",
       "    <tr>\n",
       "      <th>10</th>\n",
       "      <td>10.0</td>\n",
       "      <td>6.414965e+06</td>\n",
       "    </tr>\n",
       "    <tr>\n",
       "      <th>11</th>\n",
       "      <td>11.0</td>\n",
       "      <td>6.115461e+06</td>\n",
       "    </tr>\n",
       "    <tr>\n",
       "      <th>12</th>\n",
       "      <td>12.0</td>\n",
       "      <td>5.809782e+06</td>\n",
       "    </tr>\n",
       "    <tr>\n",
       "      <th>13</th>\n",
       "      <td>13.0</td>\n",
       "      <td>6.087591e+06</td>\n",
       "    </tr>\n",
       "    <tr>\n",
       "      <th>14</th>\n",
       "      <td>14.0</td>\n",
       "      <td>5.597093e+06</td>\n",
       "    </tr>\n",
       "    <tr>\n",
       "      <th>15</th>\n",
       "      <td>15.0</td>\n",
       "      <td>5.797796e+06</td>\n",
       "    </tr>\n",
       "    <tr>\n",
       "      <th>16</th>\n",
       "      <td>16.0</td>\n",
       "      <td>5.386501e+06</td>\n",
       "    </tr>\n",
       "    <tr>\n",
       "      <th>17</th>\n",
       "      <td>17.0</td>\n",
       "      <td>5.226329e+06</td>\n",
       "    </tr>\n",
       "    <tr>\n",
       "      <th>18</th>\n",
       "      <td>18.0</td>\n",
       "      <td>5.008639e+06</td>\n",
       "    </tr>\n",
       "    <tr>\n",
       "      <th>19</th>\n",
       "      <td>19.0</td>\n",
       "      <td>5.043376e+06</td>\n",
       "    </tr>\n",
       "    <tr>\n",
       "      <th>20</th>\n",
       "      <td>20.0</td>\n",
       "      <td>4.611579e+06</td>\n",
       "    </tr>\n",
       "    <tr>\n",
       "      <th>21</th>\n",
       "      <td>21.0</td>\n",
       "      <td>5.458854e+06</td>\n",
       "    </tr>\n",
       "    <tr>\n",
       "      <th>22</th>\n",
       "      <td>22.0</td>\n",
       "      <td>5.415524e+06</td>\n",
       "    </tr>\n",
       "    <tr>\n",
       "      <th>23</th>\n",
       "      <td>23.0</td>\n",
       "      <td>5.000798e+06</td>\n",
       "    </tr>\n",
       "    <tr>\n",
       "      <th>24</th>\n",
       "      <td>24.0</td>\n",
       "      <td>3.854430e+06</td>\n",
       "    </tr>\n",
       "    <tr>\n",
       "      <th>25</th>\n",
       "      <td>25.0</td>\n",
       "      <td>4.069405e+06</td>\n",
       "    </tr>\n",
       "    <tr>\n",
       "      <th>26</th>\n",
       "      <td>26.0</td>\n",
       "      <td>4.159851e+06</td>\n",
       "    </tr>\n",
       "    <tr>\n",
       "      <th>27</th>\n",
       "      <td>27.0</td>\n",
       "      <td>8.300000e+06</td>\n",
       "    </tr>\n",
       "    <tr>\n",
       "      <th>28</th>\n",
       "      <td>28.0</td>\n",
       "      <td>5.026429e+06</td>\n",
       "    </tr>\n",
       "    <tr>\n",
       "      <th>29</th>\n",
       "      <td>29.0</td>\n",
       "      <td>4.236667e+06</td>\n",
       "    </tr>\n",
       "  </tbody>\n",
       "</table>\n",
       "</div>"
      ],
      "text/plain": [
       "    cityCenters_nearest_km    last_price\n",
       "0                      0.0  1.932872e+07\n",
       "1                      1.0  1.268029e+07\n",
       "2                      2.0  1.212069e+07\n",
       "3                      3.0  1.017236e+07\n",
       "4                      4.0  1.104635e+07\n",
       "5                      5.0  1.148556e+07\n",
       "6                      6.0  1.193105e+07\n",
       "7                      7.0  1.148634e+07\n",
       "8                      8.0  9.020725e+06\n",
       "9                      9.0  6.981640e+06\n",
       "10                    10.0  6.414965e+06\n",
       "11                    11.0  6.115461e+06\n",
       "12                    12.0  5.809782e+06\n",
       "13                    13.0  6.087591e+06\n",
       "14                    14.0  5.597093e+06\n",
       "15                    15.0  5.797796e+06\n",
       "16                    16.0  5.386501e+06\n",
       "17                    17.0  5.226329e+06\n",
       "18                    18.0  5.008639e+06\n",
       "19                    19.0  5.043376e+06\n",
       "20                    20.0  4.611579e+06\n",
       "21                    21.0  5.458854e+06\n",
       "22                    22.0  5.415524e+06\n",
       "23                    23.0  5.000798e+06\n",
       "24                    24.0  3.854430e+06\n",
       "25                    25.0  4.069405e+06\n",
       "26                    26.0  4.159851e+06\n",
       "27                    27.0  8.300000e+06\n",
       "28                    28.0  5.026429e+06\n",
       "29                    29.0  4.236667e+06"
      ]
     },
     "execution_count": 137,
     "metadata": {},
     "output_type": "execute_result"
    }
   ],
   "source": [
    "price_by_km = spb_data.pivot_table(index='cityCenters_nearest_km', values='last_price', aggfunc='mean').reset_index()\n",
    "price_by_km"
   ]
  },
  {
   "cell_type": "code",
   "execution_count": 124,
   "metadata": {},
   "outputs": [
    {
     "data": {
      "text/plain": [
       "-0.804059393319589"
      ]
     },
     "execution_count": 124,
     "metadata": {},
     "output_type": "execute_result"
    }
   ],
   "source": [
    "price_by_km['cityCenters_nearest_km'].corr(price_by_km['last_price'])"
   ]
  },
  {
   "cell_type": "code",
   "execution_count": 125,
   "metadata": {
    "scrolled": true
   },
   "outputs": [
    {
     "data": {
      "text/plain": [
       "<AxesSubplot:xlabel='cityCenters_nearest_km', ylabel='last_price'>"
      ]
     },
     "execution_count": 125,
     "metadata": {},
     "output_type": "execute_result"
    },
    {
     "data": {
      "image/png": "[encoded data removed]",
      "text/plain": [
       "<Figure size 432x288 with 1 Axes>"
      ]
     },
     "metadata": {
      "needs_background": "light"
     },
     "output_type": "display_data"
    }
   ],
   "source": [
    "price_by_km.plot(x='cityCenters_nearest_km', y='last_price', kind='scatter')"
   ]
  },
  {
   "cell_type": "code",
   "execution_count": 126,
   "metadata": {},
   "outputs": [
    {
     "data": {
      "text/html": [
       "<div>\n",
       "<style scoped>\n",
       "    .dataframe tbody tr th:only-of-type {\n",
       "        vertical-align: middle;\n",
       "    }\n",
       "\n",
       "    .dataframe tbody tr th {\n",
       "        vertical-align: top;\n",
       "    }\n",
       "\n",
       "    .dataframe thead th {\n",
       "        text-align: right;\n",
       "    }\n",
       "</style>\n",
       "<table border=\"1\" class=\"dataframe\">\n",
       "  <thead>\n",
       "    <tr style=\"text-align: right;\">\n",
       "      <th></th>\n",
       "      <th>total_images</th>\n",
       "      <th>last_price</th>\n",
       "      <th>total_area</th>\n",
       "      <th>first_day_exposition</th>\n",
       "      <th>rooms</th>\n",
       "      <th>ceiling_height</th>\n",
       "      <th>floors_total</th>\n",
       "      <th>living_area</th>\n",
       "      <th>floor</th>\n",
       "      <th>is_apartment</th>\n",
       "      <th>studio</th>\n",
       "      <th>open_plan</th>\n",
       "      <th>kitchen_area</th>\n",
       "      <th>balcony</th>\n",
       "      <th>locality_name</th>\n",
       "      <th>airports_nearest</th>\n",
       "      <th>cityCenters_nearest</th>\n",
       "      <th>parks_around3000</th>\n",
       "      <th>parks_nearest</th>\n",
       "      <th>ponds_around3000</th>\n",
       "      <th>ponds_nearest</th>\n",
       "      <th>days_exposition</th>\n",
       "      <th>sq_m_price</th>\n",
       "      <th>weekday</th>\n",
       "      <th>month</th>\n",
       "      <th>year</th>\n",
       "      <th>floor_type</th>\n",
       "      <th>cityCenters_nearest_km</th>\n",
       "    </tr>\n",
       "  </thead>\n",
       "  <tbody>\n",
       "    <tr>\n",
       "      <th>2414</th>\n",
       "      <td>20</td>\n",
       "      <td>29500000.0</td>\n",
       "      <td>115.00</td>\n",
       "      <td>2017-07-21</td>\n",
       "      <td>3</td>\n",
       "      <td>3.00</td>\n",
       "      <td>2</td>\n",
       "      <td>69.75</td>\n",
       "      <td>2</td>\n",
       "      <td>False</td>\n",
       "      <td>False</td>\n",
       "      <td>False</td>\n",
       "      <td>19.2</td>\n",
       "      <td>4</td>\n",
       "      <td>Пушкин</td>\n",
       "      <td>14456.0</td>\n",
       "      <td>26609.0</td>\n",
       "      <td>3.0</td>\n",
       "      <td>229.0</td>\n",
       "      <td>3.0</td>\n",
       "      <td>172.0</td>\n",
       "      <td>328.0</td>\n",
       "      <td>256522.0</td>\n",
       "      <td>4</td>\n",
       "      <td>7</td>\n",
       "      <td>2017</td>\n",
       "      <td>last</td>\n",
       "      <td>27.0</td>\n",
       "    </tr>\n",
       "    <tr>\n",
       "      <th>4978</th>\n",
       "      <td>8</td>\n",
       "      <td>29000000.0</td>\n",
       "      <td>228.00</td>\n",
       "      <td>2016-12-29</td>\n",
       "      <td>4</td>\n",
       "      <td>3.50</td>\n",
       "      <td>3</td>\n",
       "      <td>141.00</td>\n",
       "      <td>2</td>\n",
       "      <td>False</td>\n",
       "      <td>False</td>\n",
       "      <td>False</td>\n",
       "      <td>40.4</td>\n",
       "      <td>1</td>\n",
       "      <td>Пушкин</td>\n",
       "      <td>14651.0</td>\n",
       "      <td>26805.0</td>\n",
       "      <td>3.0</td>\n",
       "      <td>421.0</td>\n",
       "      <td>3.0</td>\n",
       "      <td>237.0</td>\n",
       "      <td>572.0</td>\n",
       "      <td>127193.0</td>\n",
       "      <td>3</td>\n",
       "      <td>12</td>\n",
       "      <td>2016</td>\n",
       "      <td>other</td>\n",
       "      <td>27.0</td>\n",
       "    </tr>\n",
       "    <tr>\n",
       "      <th>18386</th>\n",
       "      <td>15</td>\n",
       "      <td>24800000.0</td>\n",
       "      <td>190.00</td>\n",
       "      <td>2014-12-10</td>\n",
       "      <td>4</td>\n",
       "      <td>2.62</td>\n",
       "      <td>4</td>\n",
       "      <td>104.10</td>\n",
       "      <td>3</td>\n",
       "      <td>False</td>\n",
       "      <td>False</td>\n",
       "      <td>False</td>\n",
       "      <td>30.0</td>\n",
       "      <td>0</td>\n",
       "      <td>Пушкин</td>\n",
       "      <td>15072.0</td>\n",
       "      <td>27226.0</td>\n",
       "      <td>1.0</td>\n",
       "      <td>114.0</td>\n",
       "      <td>0.0</td>\n",
       "      <td>NaN</td>\n",
       "      <td>NaN</td>\n",
       "      <td>130526.0</td>\n",
       "      <td>2</td>\n",
       "      <td>12</td>\n",
       "      <td>2014</td>\n",
       "      <td>other</td>\n",
       "      <td>27.0</td>\n",
       "    </tr>\n",
       "    <tr>\n",
       "      <th>140</th>\n",
       "      <td>8</td>\n",
       "      <td>16912000.0</td>\n",
       "      <td>105.70</td>\n",
       "      <td>2016-12-09</td>\n",
       "      <td>2</td>\n",
       "      <td>2.70</td>\n",
       "      <td>3</td>\n",
       "      <td>48.40</td>\n",
       "      <td>1</td>\n",
       "      <td>False</td>\n",
       "      <td>False</td>\n",
       "      <td>False</td>\n",
       "      <td>15.4</td>\n",
       "      <td>0</td>\n",
       "      <td>Пушкин</td>\n",
       "      <td>14352.0</td>\n",
       "      <td>26506.0</td>\n",
       "      <td>3.0</td>\n",
       "      <td>366.0</td>\n",
       "      <td>3.0</td>\n",
       "      <td>179.0</td>\n",
       "      <td>390.0</td>\n",
       "      <td>160000.0</td>\n",
       "      <td>4</td>\n",
       "      <td>12</td>\n",
       "      <td>2016</td>\n",
       "      <td>first</td>\n",
       "      <td>27.0</td>\n",
       "    </tr>\n",
       "    <tr>\n",
       "      <th>7996</th>\n",
       "      <td>17</td>\n",
       "      <td>16600000.0</td>\n",
       "      <td>106.00</td>\n",
       "      <td>2017-12-02</td>\n",
       "      <td>4</td>\n",
       "      <td>3.20</td>\n",
       "      <td>3</td>\n",
       "      <td>50.00</td>\n",
       "      <td>3</td>\n",
       "      <td>False</td>\n",
       "      <td>False</td>\n",
       "      <td>False</td>\n",
       "      <td>30.0</td>\n",
       "      <td>0</td>\n",
       "      <td>Пушкин</td>\n",
       "      <td>14822.0</td>\n",
       "      <td>26976.0</td>\n",
       "      <td>1.0</td>\n",
       "      <td>254.0</td>\n",
       "      <td>0.0</td>\n",
       "      <td>NaN</td>\n",
       "      <td>NaN</td>\n",
       "      <td>156604.0</td>\n",
       "      <td>5</td>\n",
       "      <td>12</td>\n",
       "      <td>2017</td>\n",
       "      <td>last</td>\n",
       "      <td>27.0</td>\n",
       "    </tr>\n",
       "    <tr>\n",
       "      <th>15578</th>\n",
       "      <td>20</td>\n",
       "      <td>16000000.0</td>\n",
       "      <td>101.90</td>\n",
       "      <td>2018-01-08</td>\n",
       "      <td>2</td>\n",
       "      <td>2.87</td>\n",
       "      <td>4</td>\n",
       "      <td>48.10</td>\n",
       "      <td>1</td>\n",
       "      <td>False</td>\n",
       "      <td>False</td>\n",
       "      <td>False</td>\n",
       "      <td>26.9</td>\n",
       "      <td>0</td>\n",
       "      <td>Пушкин</td>\n",
       "      <td>15201.0</td>\n",
       "      <td>27355.0</td>\n",
       "      <td>2.0</td>\n",
       "      <td>273.0</td>\n",
       "      <td>3.0</td>\n",
       "      <td>368.0</td>\n",
       "      <td>NaN</td>\n",
       "      <td>157017.0</td>\n",
       "      <td>0</td>\n",
       "      <td>1</td>\n",
       "      <td>2018</td>\n",
       "      <td>first</td>\n",
       "      <td>27.0</td>\n",
       "    </tr>\n",
       "    <tr>\n",
       "      <th>12466</th>\n",
       "      <td>11</td>\n",
       "      <td>15000000.0</td>\n",
       "      <td>89.60</td>\n",
       "      <td>2017-01-31</td>\n",
       "      <td>3</td>\n",
       "      <td>NaN</td>\n",
       "      <td>3</td>\n",
       "      <td>57.00</td>\n",
       "      <td>3</td>\n",
       "      <td>False</td>\n",
       "      <td>False</td>\n",
       "      <td>False</td>\n",
       "      <td>13.5</td>\n",
       "      <td>0</td>\n",
       "      <td>Пушкин</td>\n",
       "      <td>15065.0</td>\n",
       "      <td>27218.0</td>\n",
       "      <td>3.0</td>\n",
       "      <td>317.0</td>\n",
       "      <td>3.0</td>\n",
       "      <td>509.0</td>\n",
       "      <td>357.0</td>\n",
       "      <td>167411.0</td>\n",
       "      <td>1</td>\n",
       "      <td>1</td>\n",
       "      <td>2017</td>\n",
       "      <td>last</td>\n",
       "      <td>27.0</td>\n",
       "    </tr>\n",
       "    <tr>\n",
       "      <th>748</th>\n",
       "      <td>13</td>\n",
       "      <td>14350000.0</td>\n",
       "      <td>74.00</td>\n",
       "      <td>2017-11-28</td>\n",
       "      <td>2</td>\n",
       "      <td>3.13</td>\n",
       "      <td>5</td>\n",
       "      <td>30.00</td>\n",
       "      <td>3</td>\n",
       "      <td>False</td>\n",
       "      <td>False</td>\n",
       "      <td>False</td>\n",
       "      <td>25.0</td>\n",
       "      <td>0</td>\n",
       "      <td>Санкт-Петербург</td>\n",
       "      <td>23888.0</td>\n",
       "      <td>27313.0</td>\n",
       "      <td>1.0</td>\n",
       "      <td>1496.0</td>\n",
       "      <td>0.0</td>\n",
       "      <td>NaN</td>\n",
       "      <td>128.0</td>\n",
       "      <td>193919.0</td>\n",
       "      <td>1</td>\n",
       "      <td>11</td>\n",
       "      <td>2017</td>\n",
       "      <td>other</td>\n",
       "      <td>27.0</td>\n",
       "    </tr>\n",
       "    <tr>\n",
       "      <th>4400</th>\n",
       "      <td>4</td>\n",
       "      <td>12300000.0</td>\n",
       "      <td>78.65</td>\n",
       "      <td>2017-09-09</td>\n",
       "      <td>3</td>\n",
       "      <td>NaN</td>\n",
       "      <td>5</td>\n",
       "      <td>48.00</td>\n",
       "      <td>1</td>\n",
       "      <td>False</td>\n",
       "      <td>False</td>\n",
       "      <td>False</td>\n",
       "      <td>11.0</td>\n",
       "      <td>0</td>\n",
       "      <td>Пушкин</td>\n",
       "      <td>14567.0</td>\n",
       "      <td>26720.0</td>\n",
       "      <td>2.0</td>\n",
       "      <td>403.0</td>\n",
       "      <td>0.0</td>\n",
       "      <td>NaN</td>\n",
       "      <td>4.0</td>\n",
       "      <td>156389.0</td>\n",
       "      <td>5</td>\n",
       "      <td>9</td>\n",
       "      <td>2017</td>\n",
       "      <td>first</td>\n",
       "      <td>27.0</td>\n",
       "    </tr>\n",
       "    <tr>\n",
       "      <th>2948</th>\n",
       "      <td>23</td>\n",
       "      <td>11350000.0</td>\n",
       "      <td>75.00</td>\n",
       "      <td>2017-08-15</td>\n",
       "      <td>3</td>\n",
       "      <td>3.50</td>\n",
       "      <td>2</td>\n",
       "      <td>52.70</td>\n",
       "      <td>2</td>\n",
       "      <td>False</td>\n",
       "      <td>False</td>\n",
       "      <td>False</td>\n",
       "      <td>8.7</td>\n",
       "      <td>4</td>\n",
       "      <td>Пушкин</td>\n",
       "      <td>15337.0</td>\n",
       "      <td>27490.0</td>\n",
       "      <td>3.0</td>\n",
       "      <td>216.0</td>\n",
       "      <td>3.0</td>\n",
       "      <td>153.0</td>\n",
       "      <td>207.0</td>\n",
       "      <td>151333.0</td>\n",
       "      <td>1</td>\n",
       "      <td>8</td>\n",
       "      <td>2017</td>\n",
       "      <td>last</td>\n",
       "      <td>27.0</td>\n",
       "    </tr>\n",
       "  </tbody>\n",
       "</table>\n",
       "</div>"
      ],
      "text/plain": [
       "       total_images  last_price  total_area first_day_exposition  rooms  \\\n",
       "2414             20  29500000.0      115.00           2017-07-21      3   \n",
       "4978              8  29000000.0      228.00           2016-12-29      4   \n",
       "18386            15  24800000.0      190.00           2014-12-10      4   \n",
       "140               8  16912000.0      105.70           2016-12-09      2   \n",
       "7996             17  16600000.0      106.00           2017-12-02      4   \n",
       "15578            20  16000000.0      101.90           2018-01-08      2   \n",
       "12466            11  15000000.0       89.60           2017-01-31      3   \n",
       "748              13  14350000.0       74.00           2017-11-28      2   \n",
       "4400              4  12300000.0       78.65           2017-09-09      3   \n",
       "2948             23  11350000.0       75.00           2017-08-15      3   \n",
       "\n",
       "       ceiling_height  floors_total  living_area  floor  is_apartment  studio  \\\n",
       "2414             3.00             2        69.75      2         False   False   \n",
       "4978             3.50             3       141.00      2         False   False   \n",
       "18386            2.62             4       104.10      3         False   False   \n",
       "140              2.70             3        48.40      1         False   False   \n",
       "7996             3.20             3        50.00      3         False   False   \n",
       "15578            2.87             4        48.10      1         False   False   \n",
       "12466             NaN             3        57.00      3         False   False   \n",
       "748              3.13             5        30.00      3         False   False   \n",
       "4400              NaN             5        48.00      1         False   False   \n",
       "2948             3.50             2        52.70      2         False   False   \n",
       "\n",
       "       open_plan  kitchen_area  balcony    locality_name  airports_nearest  \\\n",
       "2414       False          19.2        4           Пушкин           14456.0   \n",
       "4978       False          40.4        1           Пушкин           14651.0   \n",
       "18386      False          30.0        0           Пушкин           15072.0   \n",
       "140        False          15.4        0           Пушкин           14352.0   \n",
       "7996       False          30.0        0           Пушкин           14822.0   \n",
       "15578      False          26.9        0           Пушкин           15201.0   \n",
       "12466      False          13.5        0           Пушкин           15065.0   \n",
       "748        False          25.0        0  Санкт-Петербург           23888.0   \n",
       "4400       False          11.0        0           Пушкин           14567.0   \n",
       "2948       False           8.7        4           Пушкин           15337.0   \n",
       "\n",
       "       cityCenters_nearest  parks_around3000  parks_nearest  ponds_around3000  \\\n",
       "2414               26609.0               3.0          229.0               3.0   \n",
       "4978               26805.0               3.0          421.0               3.0   \n",
       "18386              27226.0               1.0          114.0               0.0   \n",
       "140                26506.0               3.0          366.0               3.0   \n",
       "7996               26976.0               1.0          254.0               0.0   \n",
       "15578              27355.0               2.0          273.0               3.0   \n",
       "12466              27218.0               3.0          317.0               3.0   \n",
       "748                27313.0               1.0         1496.0               0.0   \n",
       "4400               26720.0               2.0          403.0               0.0   \n",
       "2948               27490.0               3.0          216.0               3.0   \n",
       "\n",
       "       ponds_nearest  days_exposition  sq_m_price  weekday  month  year  \\\n",
       "2414           172.0            328.0    256522.0        4      7  2017   \n",
       "4978           237.0            572.0    127193.0        3     12  2016   \n",
       "18386            NaN              NaN    130526.0        2     12  2014   \n",
       "140            179.0            390.0    160000.0        4     12  2016   \n",
       "7996             NaN              NaN    156604.0        5     12  2017   \n",
       "15578          368.0              NaN    157017.0        0      1  2018   \n",
       "12466          509.0            357.0    167411.0        1      1  2017   \n",
       "748              NaN            128.0    193919.0        1     11  2017   \n",
       "4400             NaN              4.0    156389.0        5      9  2017   \n",
       "2948           153.0            207.0    151333.0        1      8  2017   \n",
       "\n",
       "      floor_type  cityCenters_nearest_km  \n",
       "2414        last                    27.0  \n",
       "4978       other                    27.0  \n",
       "18386      other                    27.0  \n",
       "140        first                    27.0  \n",
       "7996        last                    27.0  \n",
       "15578      first                    27.0  \n",
       "12466       last                    27.0  \n",
       "748        other                    27.0  \n",
       "4400       first                    27.0  \n",
       "2948        last                    27.0  "
      ]
     },
     "execution_count": 126,
     "metadata": {},
     "output_type": "execute_result"
    }
   ],
   "source": [
    "data.query('cityCenters_nearest_km == 27').sort_values(by='last_price', ascending=False).head(10)"
   ]
  },
  {
   "cell_type": "markdown",
   "metadata": {},
   "source": [
    "В 27 км от центра СПб находится город Пушкин - самый дорогой из городов-сателлитов, поэтому имеет место такой выброс."
   ]
  },
  {
   "cell_type": "code",
   "execution_count": 127,
   "metadata": {},
   "outputs": [
    {
     "data": {
      "text/plain": [
       "floor_type\n",
       "first     54\n",
       "last      77\n",
       "other    207\n",
       "Name: floor_type, dtype: int64"
      ]
     },
     "execution_count": 127,
     "metadata": {},
     "output_type": "execute_result"
    }
   ],
   "source": [
    "data.query('cityCenters_nearest_km == 3').groupby(by='floor_type')['floor_type'].count()"
   ]
  },
  {
   "cell_type": "markdown",
   "metadata": {},
   "source": [
    "На третьем километре велика доля дешевых квартир на первом и последнем этажах - 63%, поэтому на графике видно провал."
   ]
  },
  {
   "cell_type": "code",
   "execution_count": 128,
   "metadata": {},
   "outputs": [
    {
     "data": {
      "text/plain": [
       "floor_type\n",
       "first     78\n",
       "last     132\n",
       "other    650\n",
       "Name: floor_type, dtype: int64"
      ]
     },
     "execution_count": 128,
     "metadata": {},
     "output_type": "execute_result"
    }
   ],
   "source": [
    "data.query('cityCenters_nearest_km == 5').groupby(by='floor_type')['floor_type'].count()"
   ]
  },
  {
   "cell_type": "markdown",
   "metadata": {},
   "source": [
    "На пятом километре наоборот доля таких квартир низкая - 32%, поэтому наблюдаем пик."
   ]
  },
  {
   "cell_type": "code",
   "execution_count": 129,
   "metadata": {
    "scrolled": true
   },
   "outputs": [
    {
     "data": {
      "text/plain": [
       "<AxesSubplot:xlabel='floor_type'>"
      ]
     },
     "execution_count": 129,
     "metadata": {},
     "output_type": "execute_result"
    },
    {
     "data": {
      "image/png": "[encoded data removed]",
      "text/plain": [
       "<Figure size 432x288 with 1 Axes>"
      ]
     },
     "metadata": {
      "needs_background": "light"
     },
     "output_type": "display_data"
    }
   ],
   "source": [
    "floors = pd.DataFrame(\n",
    "    [\n",
    "        data.query('cityCenters_nearest_km == 3').groupby('floor_type')['floor_type'].count().rename('3km'),\n",
    "        data.query('cityCenters_nearest_km == 5').groupby('floor_type')['floor_type'].count().rename('5km')\n",
    "    ]\n",
    ").T.reset_index()\n",
    "floors['3km_pc'] = floors['3km'].apply(lambda x: x/floors['3km'].sum())\n",
    "floors['5km_pc'] = floors['5km'].apply(lambda x: x/floors['5km'].sum())\n",
    "floors[['floor_type', '3km_pc', '5km_pc']].plot(x='floor_type', kind='bar')"
   ]
  },
  {
   "cell_type": "markdown",
   "metadata": {},
   "source": [
    "### Общий вывод"
   ]
  },
  {
   "cell_type": "markdown",
   "metadata": {},
   "source": [
    "На ценообразование недвижимости влияют многие факторы.\n",
    "\n",
    "В первую очередь играет роль близость объекта к центру города: самый высокий показатель цены за квадратный метр имеют объекты, находящиеся в 10 км от центра - от 112 до 197 тыс за кв.м. В некоторых пригородных населенных пунктах цена за кв.м сравнима с ценой за кв.м в Санкт-Петербурге, например, Пушкин c ценой за кв.м. 103 тыс.\n",
    "\n",
    "Также большую роль играет общая и жилая площадь недвижимости. За каждый 1 кв.м площади цена увеличивается примерно на 100 тыс.\n",
    "\n",
    "Площадь кухни и количество комнат влияют на цену недвижимости немного менее значительно. Здесь проследить взаимосвязь сложнее, так как данные более разрознены, но за каждый 1 кв.м кухни цена увеличивается в среднем на 500 тыс, а за каждую комнату на 250 тыс.\n",
    "\n",
    "Также цена зависит от типа этажа: квартиры дешевле на первом этаже (4 млн в среднем) и на последнем (4,4 млн в среднем), чем на остальных этажах (4,8 млн в среднем).\n",
    "\n",
    "Также цена зависит от даты публикации. Чем ближе к концу недели выставлена на продажу квартира, тем ниже ее цена. Самая высокая - во вторник - 4,8 млн, самая низкая - 4,5 млн в субботу. Впрочем, колебания достаточно незначительны.\n",
    "\n",
    "По месяцам ситуация такая: за самую низкую цену продаются квартиры, выставленные на продажу в июне и мае (4,4 млн и 4,5 млн соответственно). Самую высокую цену имеют квартиры, выставленные на продажу в апреле (по 4,8 млн). Однако, здесь, так же как и с днями недели, колебания незначительны.\n",
    "\n",
    "Цена на недвижимость падала с 7,5 млн в 2014 году до 4,5 млн в 2017 году, затем росла до 5,1 млн в 2019 году, но сравнив по годам такие факторы, как площадь помещения и количество объявлений, можно сделать вывод, что от этих величин стоимость зависит больше, нежели от года продажи."
   ]
  }
 ],
 "metadata": {
  "ExecuteTimeLog": [
   {
    "duration": 411,
    "start_time": "2023-03-06T20:47:34.536Z"
   },
   {
    "duration": 143,
    "start_time": "2023-03-06T20:48:55.512Z"
   },
   {
    "duration": 90,
    "start_time": "2023-03-06T20:49:40.045Z"
   },
   {
    "duration": 111,
    "start_time": "2023-03-06T20:49:53.652Z"
   },
   {
    "duration": 14,
    "start_time": "2023-03-06T20:50:40.772Z"
   },
   {
    "duration": 108,
    "start_time": "2023-03-06T20:53:41.922Z"
   },
   {
    "duration": 2221,
    "start_time": "2023-03-06T20:56:11.764Z"
   },
   {
    "duration": 11,
    "start_time": "2023-03-06T22:46:51.623Z"
   },
   {
    "duration": 18,
    "start_time": "2023-03-07T19:46:30.779Z"
   },
   {
    "duration": 10,
    "start_time": "2023-03-07T19:47:02.099Z"
   },
   {
    "duration": 14,
    "start_time": "2023-03-07T19:47:25.643Z"
   },
   {
    "duration": 12,
    "start_time": "2023-03-07T19:47:50.504Z"
   },
   {
    "duration": 21,
    "start_time": "2023-03-07T19:49:00.104Z"
   },
   {
    "duration": 366,
    "start_time": "2023-03-07T19:49:43.985Z"
   },
   {
    "duration": 121,
    "start_time": "2023-03-07T19:49:44.354Z"
   },
   {
    "duration": 14,
    "start_time": "2023-03-07T19:49:44.476Z"
   },
   {
    "duration": 2074,
    "start_time": "2023-03-07T19:49:44.492Z"
   },
   {
    "duration": 12,
    "start_time": "2023-03-07T19:49:46.568Z"
   },
   {
    "duration": 25,
    "start_time": "2023-03-07T19:49:46.582Z"
   },
   {
    "duration": 141,
    "start_time": "2023-03-07T19:58:21.641Z"
   },
   {
    "duration": 45,
    "start_time": "2023-03-07T20:04:01.199Z"
   },
   {
    "duration": 42,
    "start_time": "2023-03-07T20:04:18.645Z"
   },
   {
    "duration": 46,
    "start_time": "2023-03-07T20:05:05.249Z"
   },
   {
    "duration": 44,
    "start_time": "2023-03-07T20:07:22.083Z"
   },
   {
    "duration": 37,
    "start_time": "2023-03-07T20:11:03.970Z"
   },
   {
    "duration": 18,
    "start_time": "2023-03-07T20:18:30.117Z"
   },
   {
    "duration": 13,
    "start_time": "2023-03-07T20:19:27.534Z"
   },
   {
    "duration": 13,
    "start_time": "2023-03-07T20:20:33.484Z"
   },
   {
    "duration": 13,
    "start_time": "2023-03-07T20:21:18.556Z"
   },
   {
    "duration": 13,
    "start_time": "2023-03-07T20:23:36.372Z"
   },
   {
    "duration": 11,
    "start_time": "2023-03-07T20:54:47.275Z"
   },
   {
    "duration": 11,
    "start_time": "2023-03-07T20:55:22.384Z"
   },
   {
    "duration": 9,
    "start_time": "2023-03-07T20:55:41.854Z"
   },
   {
    "duration": 14,
    "start_time": "2023-03-07T20:56:43.387Z"
   },
   {
    "duration": 10,
    "start_time": "2023-03-07T20:58:40.533Z"
   },
   {
    "duration": 29,
    "start_time": "2023-03-07T21:06:33.679Z"
   },
   {
    "duration": 12,
    "start_time": "2023-03-07T21:06:55.541Z"
   },
   {
    "duration": 12,
    "start_time": "2023-03-07T21:08:51.921Z"
   },
   {
    "duration": 11,
    "start_time": "2023-03-07T21:09:05.743Z"
   },
   {
    "duration": 15,
    "start_time": "2023-03-07T21:09:17.542Z"
   },
   {
    "duration": 45,
    "start_time": "2023-03-07T23:30:00.413Z"
   },
   {
    "duration": 36,
    "start_time": "2023-03-07T23:30:13.775Z"
   },
   {
    "duration": 37,
    "start_time": "2023-03-07T23:30:48.843Z"
   },
   {
    "duration": 37,
    "start_time": "2023-03-08T00:08:33.140Z"
   },
   {
    "duration": 24,
    "start_time": "2023-03-08T00:10:26.735Z"
   },
   {
    "duration": 35,
    "start_time": "2023-03-08T00:11:06.047Z"
   },
   {
    "duration": 39,
    "start_time": "2023-03-08T00:11:21.353Z"
   },
   {
    "duration": 45,
    "start_time": "2023-03-08T00:11:52.780Z"
   },
   {
    "duration": 42,
    "start_time": "2023-03-08T00:12:09.973Z"
   },
   {
    "duration": 17,
    "start_time": "2023-03-08T00:12:56.302Z"
   },
   {
    "duration": 40,
    "start_time": "2023-03-08T00:13:08.565Z"
   },
   {
    "duration": 7,
    "start_time": "2023-03-08T00:13:44.573Z"
   },
   {
    "duration": 5,
    "start_time": "2023-03-08T00:14:35.308Z"
   },
   {
    "duration": 36,
    "start_time": "2023-03-08T00:15:55.493Z"
   },
   {
    "duration": 36,
    "start_time": "2023-03-08T00:16:24.301Z"
   },
   {
    "duration": 44,
    "start_time": "2023-03-08T00:16:28.884Z"
   },
   {
    "duration": 35,
    "start_time": "2023-03-08T00:16:40.239Z"
   },
   {
    "duration": 37,
    "start_time": "2023-03-08T00:17:01.915Z"
   },
   {
    "duration": 19,
    "start_time": "2023-03-08T22:13:37.052Z"
   },
   {
    "duration": 21,
    "start_time": "2023-03-08T22:23:08.772Z"
   },
   {
    "duration": 35,
    "start_time": "2023-03-08T22:23:13.524Z"
   },
   {
    "duration": 89,
    "start_time": "2023-03-08T22:25:30.215Z"
   },
   {
    "duration": 35,
    "start_time": "2023-03-08T22:25:44.629Z"
   },
   {
    "duration": 36,
    "start_time": "2023-03-08T22:26:06.172Z"
   },
   {
    "duration": 68,
    "start_time": "2023-03-08T22:31:23.485Z"
   },
   {
    "duration": 28,
    "start_time": "2023-03-09T00:01:48.218Z"
   },
   {
    "duration": 13,
    "start_time": "2023-03-09T00:07:27.303Z"
   },
   {
    "duration": 35,
    "start_time": "2023-03-09T00:07:57.765Z"
   },
   {
    "duration": 13,
    "start_time": "2023-03-09T00:08:34.824Z"
   },
   {
    "duration": 10,
    "start_time": "2023-03-09T00:09:09.369Z"
   },
   {
    "duration": 42,
    "start_time": "2023-03-09T00:09:31.618Z"
   },
   {
    "duration": 1106,
    "start_time": "2023-03-09T00:13:19.912Z"
   },
   {
    "duration": 9,
    "start_time": "2023-03-09T00:13:37.061Z"
   },
   {
    "duration": 582,
    "start_time": "2023-03-09T00:22:27.702Z"
   },
   {
    "duration": 560,
    "start_time": "2023-03-09T00:22:50.901Z"
   },
   {
    "duration": 595,
    "start_time": "2023-03-09T00:23:00.531Z"
   },
   {
    "duration": 8,
    "start_time": "2023-03-09T00:24:13.215Z"
   },
   {
    "duration": 23,
    "start_time": "2023-03-09T00:24:36.074Z"
   },
   {
    "duration": 11,
    "start_time": "2023-03-09T00:25:09.215Z"
   },
   {
    "duration": 7,
    "start_time": "2023-03-09T00:25:50.188Z"
   },
   {
    "duration": 6,
    "start_time": "2023-03-09T00:25:56.437Z"
   },
   {
    "duration": 14,
    "start_time": "2023-03-09T00:28:03.018Z"
   },
   {
    "duration": 5,
    "start_time": "2023-03-09T00:28:14.601Z"
   },
   {
    "duration": 5,
    "start_time": "2023-03-09T00:28:36.705Z"
   },
   {
    "duration": 18,
    "start_time": "2023-03-09T00:29:10.093Z"
   },
   {
    "duration": 5,
    "start_time": "2023-03-09T00:29:19.326Z"
   },
   {
    "duration": 7,
    "start_time": "2023-03-09T00:30:57.327Z"
   },
   {
    "duration": 11,
    "start_time": "2023-03-09T00:32:00.633Z"
   },
   {
    "duration": 8,
    "start_time": "2023-03-09T00:32:09.963Z"
   },
   {
    "duration": 417,
    "start_time": "2023-03-09T00:32:34.526Z"
   },
   {
    "duration": 121,
    "start_time": "2023-03-09T00:32:34.945Z"
   },
   {
    "duration": 14,
    "start_time": "2023-03-09T00:32:35.068Z"
   },
   {
    "duration": 2031,
    "start_time": "2023-03-09T00:32:35.083Z"
   },
   {
    "duration": 9,
    "start_time": "2023-03-09T00:32:37.116Z"
   },
   {
    "duration": 13,
    "start_time": "2023-03-09T00:32:37.126Z"
   },
   {
    "duration": 11,
    "start_time": "2023-03-09T00:32:37.155Z"
   },
   {
    "duration": 5,
    "start_time": "2023-03-09T00:32:37.167Z"
   },
   {
    "duration": 9,
    "start_time": "2023-03-09T00:32:37.173Z"
   },
   {
    "duration": 6,
    "start_time": "2023-03-09T00:32:42.281Z"
   },
   {
    "duration": 78,
    "start_time": "2023-03-09T01:05:30.628Z"
   },
   {
    "duration": 24,
    "start_time": "2023-03-09T01:05:45.643Z"
   },
   {
    "duration": 20,
    "start_time": "2023-03-09T01:06:01.943Z"
   },
   {
    "duration": 19,
    "start_time": "2023-03-09T01:06:05.572Z"
   },
   {
    "duration": 5,
    "start_time": "2023-03-09T01:09:28.545Z"
   },
   {
    "duration": 10,
    "start_time": "2023-03-09T01:09:49.396Z"
   },
   {
    "duration": 9,
    "start_time": "2023-03-09T01:10:04.794Z"
   },
   {
    "duration": 8,
    "start_time": "2023-03-09T01:11:42.501Z"
   },
   {
    "duration": 8,
    "start_time": "2023-03-09T01:11:59.050Z"
   },
   {
    "duration": 8,
    "start_time": "2023-03-09T01:12:09.047Z"
   },
   {
    "duration": 7,
    "start_time": "2023-03-09T01:12:26.806Z"
   },
   {
    "duration": 8,
    "start_time": "2023-03-09T01:12:32.534Z"
   },
   {
    "duration": 9,
    "start_time": "2023-03-09T01:21:57.704Z"
   },
   {
    "duration": 8,
    "start_time": "2023-03-09T01:23:11.579Z"
   },
   {
    "duration": 6,
    "start_time": "2023-03-09T01:23:21.392Z"
   },
   {
    "duration": 8,
    "start_time": "2023-03-09T01:34:04.368Z"
   },
   {
    "duration": 11,
    "start_time": "2023-03-09T01:34:08.477Z"
   },
   {
    "duration": 21,
    "start_time": "2023-03-09T20:57:19.843Z"
   },
   {
    "duration": 14,
    "start_time": "2023-03-09T20:58:40.919Z"
   },
   {
    "duration": 65,
    "start_time": "2023-03-09T20:59:16.898Z"
   },
   {
    "duration": 58,
    "start_time": "2023-03-09T21:00:33.175Z"
   },
   {
    "duration": 104,
    "start_time": "2023-03-09T21:00:50.676Z"
   },
   {
    "duration": 75,
    "start_time": "2023-03-09T21:01:56.784Z"
   },
   {
    "duration": 72,
    "start_time": "2023-03-09T21:03:19.949Z"
   },
   {
    "duration": 96,
    "start_time": "2023-03-09T21:03:32.384Z"
   },
   {
    "duration": 96,
    "start_time": "2023-03-09T21:05:29.694Z"
   },
   {
    "duration": 63,
    "start_time": "2023-03-09T22:01:36.855Z"
   },
   {
    "duration": 62,
    "start_time": "2023-03-09T22:02:20.338Z"
   },
   {
    "duration": 2,
    "start_time": "2023-03-09T22:04:09.750Z"
   },
   {
    "duration": 2,
    "start_time": "2023-03-09T22:25:16.883Z"
   },
   {
    "duration": 64,
    "start_time": "2023-03-09T22:28:13.450Z"
   },
   {
    "duration": 66,
    "start_time": "2023-03-12T18:22:30.442Z"
   },
   {
    "duration": 916,
    "start_time": "2023-03-12T18:22:38.524Z"
   },
   {
    "duration": 271,
    "start_time": "2023-03-12T18:22:39.442Z"
   },
   {
    "duration": 17,
    "start_time": "2023-03-12T18:22:39.715Z"
   },
   {
    "duration": 2404,
    "start_time": "2023-03-12T18:22:39.735Z"
   },
   {
    "duration": 13,
    "start_time": "2023-03-12T18:22:42.142Z"
   },
   {
    "duration": 20,
    "start_time": "2023-03-12T18:22:42.157Z"
   },
   {
    "duration": 21,
    "start_time": "2023-03-12T18:22:42.179Z"
   },
   {
    "duration": 8,
    "start_time": "2023-03-12T18:22:42.202Z"
   },
   {
    "duration": 12,
    "start_time": "2023-03-12T18:22:42.213Z"
   },
   {
    "duration": 56,
    "start_time": "2023-03-12T18:22:42.228Z"
   },
   {
    "duration": 12,
    "start_time": "2023-03-12T18:22:42.287Z"
   },
   {
    "duration": 86,
    "start_time": "2023-03-12T18:22:42.301Z"
   },
   {
    "duration": 19,
    "start_time": "2023-03-12T18:22:42.389Z"
   },
   {
    "duration": 62,
    "start_time": "2023-03-12T19:46:23.730Z"
   },
   {
    "duration": 69,
    "start_time": "2023-03-12T19:48:05.770Z"
   },
   {
    "duration": 71,
    "start_time": "2023-03-12T19:48:14.268Z"
   },
   {
    "duration": 76,
    "start_time": "2023-03-12T19:49:21.718Z"
   },
   {
    "duration": 65,
    "start_time": "2023-03-12T19:50:45.347Z"
   },
   {
    "duration": 56,
    "start_time": "2023-03-17T17:17:02.540Z"
   },
   {
    "duration": 872,
    "start_time": "2023-03-17T17:17:11.114Z"
   },
   {
    "duration": 380,
    "start_time": "2023-03-17T17:17:11.989Z"
   },
   {
    "duration": 19,
    "start_time": "2023-03-17T17:17:12.370Z"
   },
   {
    "duration": 2145,
    "start_time": "2023-03-17T17:17:12.391Z"
   },
   {
    "duration": 12,
    "start_time": "2023-03-17T17:17:14.538Z"
   },
   {
    "duration": 60,
    "start_time": "2023-03-17T17:17:14.552Z"
   },
   {
    "duration": 12,
    "start_time": "2023-03-17T17:17:14.614Z"
   },
   {
    "duration": 5,
    "start_time": "2023-03-17T17:17:14.628Z"
   },
   {
    "duration": 10,
    "start_time": "2023-03-17T17:17:14.635Z"
   },
   {
    "duration": 44,
    "start_time": "2023-03-17T17:17:14.648Z"
   },
   {
    "duration": 13,
    "start_time": "2023-03-17T17:17:14.694Z"
   },
   {
    "duration": 88,
    "start_time": "2023-03-17T17:17:14.710Z"
   },
   {
    "duration": 90,
    "start_time": "2023-03-17T17:17:14.800Z"
   },
   {
    "duration": 2463,
    "start_time": "2023-03-17T17:25:46.153Z"
   },
   {
    "duration": 45,
    "start_time": "2023-03-17T17:27:40.653Z"
   },
   {
    "duration": 4559,
    "start_time": "2023-03-17T17:28:55.747Z"
   },
   {
    "duration": 2379,
    "start_time": "2023-03-17T17:29:20.958Z"
   },
   {
    "duration": 41,
    "start_time": "2023-03-17T18:10:13.784Z"
   },
   {
    "duration": 6,
    "start_time": "2023-03-17T18:15:56.956Z"
   },
   {
    "duration": 6,
    "start_time": "2023-03-17T18:16:08.262Z"
   },
   {
    "duration": 7,
    "start_time": "2023-03-17T18:17:51.577Z"
   },
   {
    "duration": 222,
    "start_time": "2023-03-17T18:18:22.768Z"
   },
   {
    "duration": 129,
    "start_time": "2023-03-17T18:18:38.757Z"
   },
   {
    "duration": 139,
    "start_time": "2023-03-17T18:19:01.535Z"
   },
   {
    "duration": 134,
    "start_time": "2023-03-17T18:19:15.534Z"
   },
   {
    "duration": 128,
    "start_time": "2023-03-17T18:19:23.226Z"
   },
   {
    "duration": 619,
    "start_time": "2023-03-17T18:20:28.422Z"
   },
   {
    "duration": 131,
    "start_time": "2023-03-17T18:20:29.043Z"
   },
   {
    "duration": 16,
    "start_time": "2023-03-17T18:20:29.175Z"
   },
   {
    "duration": 2172,
    "start_time": "2023-03-17T18:20:29.192Z"
   },
   {
    "duration": 10,
    "start_time": "2023-03-17T18:20:31.366Z"
   },
   {
    "duration": 38,
    "start_time": "2023-03-17T18:20:31.377Z"
   },
   {
    "duration": 35,
    "start_time": "2023-03-17T18:20:31.416Z"
   },
   {
    "duration": 43,
    "start_time": "2023-03-17T18:20:31.453Z"
   },
   {
    "duration": 35,
    "start_time": "2023-03-17T18:20:31.498Z"
   },
   {
    "duration": 44,
    "start_time": "2023-03-17T18:20:31.535Z"
   },
   {
    "duration": 15,
    "start_time": "2023-03-17T18:20:31.580Z"
   },
   {
    "duration": 92,
    "start_time": "2023-03-17T18:20:31.596Z"
   },
   {
    "duration": 2451,
    "start_time": "2023-03-17T18:20:31.689Z"
   },
   {
    "duration": 172,
    "start_time": "2023-03-17T18:20:34.141Z"
   },
   {
    "duration": 155,
    "start_time": "2023-03-17T18:20:56.757Z"
   },
   {
    "duration": 145,
    "start_time": "2023-03-17T18:21:01.352Z"
   },
   {
    "duration": 146,
    "start_time": "2023-03-17T18:27:56.349Z"
   },
   {
    "duration": 8,
    "start_time": "2023-03-17T18:28:46.120Z"
   },
   {
    "duration": 20,
    "start_time": "2023-03-17T18:28:57.342Z"
   },
   {
    "duration": 16,
    "start_time": "2023-03-17T18:29:15.701Z"
   },
   {
    "duration": 3,
    "start_time": "2023-03-17T18:29:23.444Z"
   },
   {
    "duration": 17,
    "start_time": "2023-03-17T18:29:25.532Z"
   },
   {
    "duration": 681,
    "start_time": "2023-03-17T18:29:31.675Z"
   },
   {
    "duration": 149,
    "start_time": "2023-03-17T18:29:32.359Z"
   },
   {
    "duration": 16,
    "start_time": "2023-03-17T18:29:32.510Z"
   },
   {
    "duration": 2143,
    "start_time": "2023-03-17T18:29:32.529Z"
   },
   {
    "duration": 11,
    "start_time": "2023-03-17T18:29:34.675Z"
   },
   {
    "duration": 16,
    "start_time": "2023-03-17T18:29:34.688Z"
   },
   {
    "duration": 16,
    "start_time": "2023-03-17T18:29:34.705Z"
   },
   {
    "duration": 6,
    "start_time": "2023-03-17T18:29:34.722Z"
   },
   {
    "duration": 45,
    "start_time": "2023-03-17T18:29:34.730Z"
   },
   {
    "duration": 24,
    "start_time": "2023-03-17T18:29:34.778Z"
   },
   {
    "duration": 11,
    "start_time": "2023-03-17T18:29:34.804Z"
   },
   {
    "duration": 87,
    "start_time": "2023-03-17T18:29:34.816Z"
   },
   {
    "duration": 2432,
    "start_time": "2023-03-17T18:29:34.905Z"
   },
   {
    "duration": 56,
    "start_time": "2023-03-17T18:29:37.339Z"
   },
   {
    "duration": 2,
    "start_time": "2023-03-17T18:29:37.397Z"
   },
   {
    "duration": 43,
    "start_time": "2023-03-17T18:29:37.401Z"
   },
   {
    "duration": 125,
    "start_time": "2023-03-17T18:30:13.206Z"
   },
   {
    "duration": 11,
    "start_time": "2023-03-17T18:30:30.499Z"
   },
   {
    "duration": 10,
    "start_time": "2023-03-17T18:45:11.352Z"
   },
   {
    "duration": 12,
    "start_time": "2023-03-17T18:46:46.932Z"
   },
   {
    "duration": 8,
    "start_time": "2023-03-17T19:25:11.422Z"
   },
   {
    "duration": 8,
    "start_time": "2023-03-17T20:28:14.966Z"
   },
   {
    "duration": 2374,
    "start_time": "2023-03-17T20:31:45.502Z"
   },
   {
    "duration": 8,
    "start_time": "2023-03-17T20:34:14.492Z"
   },
   {
    "duration": 2277,
    "start_time": "2023-03-17T20:34:17.538Z"
   },
   {
    "duration": 6,
    "start_time": "2023-03-17T20:41:30.421Z"
   },
   {
    "duration": 74,
    "start_time": "2023-03-17T20:43:24.846Z"
   },
   {
    "duration": 5,
    "start_time": "2023-03-17T20:44:00.734Z"
   },
   {
    "duration": 5,
    "start_time": "2023-03-17T20:44:03.364Z"
   },
   {
    "duration": 5,
    "start_time": "2023-03-17T20:44:33.680Z"
   },
   {
    "duration": 5,
    "start_time": "2023-03-17T20:45:10.232Z"
   },
   {
    "duration": 5,
    "start_time": "2023-03-17T20:48:24.688Z"
   },
   {
    "duration": 47,
    "start_time": "2023-03-17T20:50:49.333Z"
   },
   {
    "duration": 47,
    "start_time": "2023-03-17T20:50:58.296Z"
   },
   {
    "duration": 52,
    "start_time": "2023-03-17T20:51:08.126Z"
   },
   {
    "duration": 54,
    "start_time": "2023-03-17T20:51:15.908Z"
   },
   {
    "duration": 44,
    "start_time": "2023-03-17T20:53:20.061Z"
   },
   {
    "duration": 137,
    "start_time": "2023-03-17T20:55:32.107Z"
   },
   {
    "duration": 781,
    "start_time": "2023-03-17T20:59:00.617Z"
   },
   {
    "duration": 4,
    "start_time": "2023-03-17T20:59:28.458Z"
   },
   {
    "duration": 34,
    "start_time": "2023-03-17T21:00:08.091Z"
   },
   {
    "duration": 4,
    "start_time": "2023-03-17T21:00:57.570Z"
   },
   {
    "duration": 35,
    "start_time": "2023-03-17T21:01:01.168Z"
   },
   {
    "duration": 256,
    "start_time": "2023-03-17T22:31:58.374Z"
   },
   {
    "duration": 267,
    "start_time": "2023-03-17T22:32:32.148Z"
   },
   {
    "duration": 240,
    "start_time": "2023-03-17T22:32:55.806Z"
   },
   {
    "duration": 208,
    "start_time": "2023-03-17T22:33:35.217Z"
   },
   {
    "duration": 192,
    "start_time": "2023-03-17T22:34:05.215Z"
   },
   {
    "duration": 356,
    "start_time": "2023-03-17T22:34:12.596Z"
   },
   {
    "duration": 2,
    "start_time": "2023-03-17T22:35:24.772Z"
   },
   {
    "duration": 3,
    "start_time": "2023-03-17T22:35:27.871Z"
   },
   {
    "duration": 2,
    "start_time": "2023-03-17T22:35:36.990Z"
   },
   {
    "duration": 2,
    "start_time": "2023-03-17T22:35:40.131Z"
   },
   {
    "duration": 3,
    "start_time": "2023-03-17T22:35:47.847Z"
   },
   {
    "duration": 9,
    "start_time": "2023-03-17T23:59:10.322Z"
   },
   {
    "duration": 9,
    "start_time": "2023-03-18T15:27:43.862Z"
   },
   {
    "duration": 11,
    "start_time": "2023-03-18T15:28:21.913Z"
   },
   {
    "duration": 176,
    "start_time": "2023-03-18T15:31:15.440Z"
   },
   {
    "duration": 244,
    "start_time": "2023-03-18T15:31:20.505Z"
   },
   {
    "duration": 201,
    "start_time": "2023-03-18T15:31:23.846Z"
   },
   {
    "duration": 725,
    "start_time": "2023-03-18T15:31:27.146Z"
   },
   {
    "duration": 223,
    "start_time": "2023-03-18T15:31:33.389Z"
   },
   {
    "duration": 192,
    "start_time": "2023-03-18T15:31:36.561Z"
   },
   {
    "duration": 201,
    "start_time": "2023-03-18T15:31:39.209Z"
   },
   {
    "duration": 187,
    "start_time": "2023-03-18T15:31:41.827Z"
   },
   {
    "duration": 208,
    "start_time": "2023-03-18T15:31:43.708Z"
   },
   {
    "duration": 190,
    "start_time": "2023-03-18T15:31:46.335Z"
   },
   {
    "duration": 208,
    "start_time": "2023-03-18T15:31:49.534Z"
   },
   {
    "duration": 207,
    "start_time": "2023-03-18T19:12:51.612Z"
   },
   {
    "duration": 34,
    "start_time": "2023-03-18T20:33:18.515Z"
   },
   {
    "duration": 3,
    "start_time": "2023-03-18T20:35:09.053Z"
   },
   {
    "duration": 618,
    "start_time": "2023-03-18T20:35:25.624Z"
   },
   {
    "duration": 3,
    "start_time": "2023-03-18T20:35:26.244Z"
   },
   {
    "duration": 144,
    "start_time": "2023-03-18T20:35:26.249Z"
   },
   {
    "duration": 16,
    "start_time": "2023-03-18T20:35:26.395Z"
   },
   {
    "duration": 2268,
    "start_time": "2023-03-18T20:35:26.413Z"
   },
   {
    "duration": 11,
    "start_time": "2023-03-18T20:35:28.684Z"
   },
   {
    "duration": 47,
    "start_time": "2023-03-18T20:35:28.697Z"
   },
   {
    "duration": 16,
    "start_time": "2023-03-18T20:35:28.747Z"
   },
   {
    "duration": 6,
    "start_time": "2023-03-18T20:35:28.765Z"
   },
   {
    "duration": 13,
    "start_time": "2023-03-18T20:35:28.775Z"
   },
   {
    "duration": 32,
    "start_time": "2023-03-18T20:35:28.790Z"
   },
   {
    "duration": 11,
    "start_time": "2023-03-18T20:35:28.824Z"
   },
   {
    "duration": 104,
    "start_time": "2023-03-18T20:35:28.837Z"
   },
   {
    "duration": 10,
    "start_time": "2023-03-18T20:35:28.944Z"
   },
   {
    "duration": 61,
    "start_time": "2023-03-18T20:35:28.956Z"
   },
   {
    "duration": 13,
    "start_time": "2023-03-18T20:35:29.019Z"
   },
   {
    "duration": 24,
    "start_time": "2023-03-18T20:35:29.034Z"
   },
   {
    "duration": 26,
    "start_time": "2023-03-18T20:35:29.060Z"
   },
   {
    "duration": 16,
    "start_time": "2023-03-18T20:35:29.088Z"
   },
   {
    "duration": 17,
    "start_time": "2023-03-18T20:35:29.106Z"
   },
   {
    "duration": 13,
    "start_time": "2023-03-18T20:35:29.125Z"
   },
   {
    "duration": 39,
    "start_time": "2023-03-18T20:35:29.140Z"
   },
   {
    "duration": 153,
    "start_time": "2023-03-18T20:35:29.182Z"
   },
   {
    "duration": 4,
    "start_time": "2023-03-18T20:35:29.337Z"
   },
   {
    "duration": 59,
    "start_time": "2023-03-18T20:35:29.343Z"
   },
   {
    "duration": 233,
    "start_time": "2023-03-18T20:35:29.405Z"
   },
   {
    "duration": 11,
    "start_time": "2023-03-18T20:35:29.640Z"
   },
   {
    "duration": 324,
    "start_time": "2023-03-18T20:35:29.655Z"
   },
   {
    "duration": 13,
    "start_time": "2023-03-18T20:35:29.981Z"
   },
   {
    "duration": 306,
    "start_time": "2023-03-18T20:35:29.996Z"
   },
   {
    "duration": 13,
    "start_time": "2023-03-18T20:35:30.304Z"
   },
   {
    "duration": 453,
    "start_time": "2023-03-18T20:35:30.320Z"
   },
   {
    "duration": 318,
    "start_time": "2023-03-18T20:35:30.776Z"
   },
   {
    "duration": 228,
    "start_time": "2023-03-18T20:35:31.096Z"
   },
   {
    "duration": 247,
    "start_time": "2023-03-18T20:35:31.326Z"
   },
   {
    "duration": 240,
    "start_time": "2023-03-18T20:35:31.575Z"
   },
   {
    "duration": 304,
    "start_time": "2023-03-18T20:35:31.817Z"
   },
   {
    "duration": 267,
    "start_time": "2023-03-18T20:35:32.123Z"
   },
   {
    "duration": 272,
    "start_time": "2023-03-18T20:35:32.392Z"
   },
   {
    "duration": 244,
    "start_time": "2023-03-18T20:35:32.672Z"
   },
   {
    "duration": 237,
    "start_time": "2023-03-18T20:35:32.919Z"
   },
   {
    "duration": 218,
    "start_time": "2023-03-18T20:35:33.158Z"
   },
   {
    "duration": 33,
    "start_time": "2023-03-18T20:35:33.378Z"
   },
   {
    "duration": 61,
    "start_time": "2023-03-18T20:40:11.024Z"
   },
   {
    "duration": 176,
    "start_time": "2023-03-18T20:40:47.635Z"
   },
   {
    "duration": 712,
    "start_time": "2023-03-18T20:44:55.622Z"
   },
   {
    "duration": 3,
    "start_time": "2023-03-18T20:44:56.336Z"
   },
   {
    "duration": 144,
    "start_time": "2023-03-18T20:44:56.341Z"
   },
   {
    "duration": 18,
    "start_time": "2023-03-18T20:44:56.487Z"
   },
   {
    "duration": 2240,
    "start_time": "2023-03-18T20:44:56.508Z"
   },
   {
    "duration": 11,
    "start_time": "2023-03-18T20:44:58.750Z"
   },
   {
    "duration": 17,
    "start_time": "2023-03-18T20:44:58.763Z"
   },
   {
    "duration": 15,
    "start_time": "2023-03-18T20:44:58.782Z"
   },
   {
    "duration": 5,
    "start_time": "2023-03-18T20:44:58.799Z"
   },
   {
    "duration": 12,
    "start_time": "2023-03-18T20:44:58.806Z"
   },
   {
    "duration": 28,
    "start_time": "2023-03-18T20:44:58.820Z"
   },
   {
    "duration": 13,
    "start_time": "2023-03-18T20:44:58.874Z"
   },
   {
    "duration": 90,
    "start_time": "2023-03-18T20:44:58.889Z"
   },
   {
    "duration": 10,
    "start_time": "2023-03-18T20:44:58.982Z"
   },
   {
    "duration": 11,
    "start_time": "2023-03-18T20:44:58.994Z"
   },
   {
    "duration": 12,
    "start_time": "2023-03-18T20:44:59.008Z"
   },
   {
    "duration": 10,
    "start_time": "2023-03-18T20:44:59.022Z"
   },
   {
    "duration": 8,
    "start_time": "2023-03-18T20:44:59.034Z"
   },
   {
    "duration": 37,
    "start_time": "2023-03-18T20:44:59.044Z"
   },
   {
    "duration": 6,
    "start_time": "2023-03-18T20:44:59.083Z"
   },
   {
    "duration": 7,
    "start_time": "2023-03-18T20:44:59.090Z"
   },
   {
    "duration": 7,
    "start_time": "2023-03-18T20:44:59.099Z"
   },
   {
    "duration": 8,
    "start_time": "2023-03-18T20:44:59.108Z"
   },
   {
    "duration": 171,
    "start_time": "2023-03-18T20:44:59.118Z"
   },
   {
    "duration": 4,
    "start_time": "2023-03-18T20:44:59.291Z"
   },
   {
    "duration": 41,
    "start_time": "2023-03-18T20:44:59.297Z"
   },
   {
    "duration": 200,
    "start_time": "2023-03-18T20:44:59.340Z"
   },
   {
    "duration": 10,
    "start_time": "2023-03-18T20:44:59.542Z"
   },
   {
    "duration": 245,
    "start_time": "2023-03-18T20:44:59.553Z"
   },
   {
    "duration": 10,
    "start_time": "2023-03-18T20:44:59.800Z"
   },
   {
    "duration": 194,
    "start_time": "2023-03-18T20:44:59.812Z"
   },
   {
    "duration": 10,
    "start_time": "2023-03-18T20:45:00.008Z"
   },
   {
    "duration": 298,
    "start_time": "2023-03-18T20:45:00.020Z"
   },
   {
    "duration": 269,
    "start_time": "2023-03-18T20:45:00.320Z"
   },
   {
    "duration": 243,
    "start_time": "2023-03-18T20:45:00.592Z"
   },
   {
    "duration": 235,
    "start_time": "2023-03-18T20:45:00.838Z"
   },
   {
    "duration": 198,
    "start_time": "2023-03-18T20:45:01.075Z"
   },
   {
    "duration": 230,
    "start_time": "2023-03-18T20:45:01.275Z"
   },
   {
    "duration": 210,
    "start_time": "2023-03-18T20:45:01.507Z"
   },
   {
    "duration": 248,
    "start_time": "2023-03-18T20:45:01.720Z"
   },
   {
    "duration": 271,
    "start_time": "2023-03-18T20:45:01.976Z"
   },
   {
    "duration": 262,
    "start_time": "2023-03-18T20:45:02.250Z"
   },
   {
    "duration": 212,
    "start_time": "2023-03-18T20:45:02.515Z"
   },
   {
    "duration": 63,
    "start_time": "2023-03-18T20:45:02.729Z"
   },
   {
    "duration": 9,
    "start_time": "2023-03-18T21:05:06.726Z"
   },
   {
    "duration": 10,
    "start_time": "2023-03-18T21:09:54.689Z"
   },
   {
    "duration": 8,
    "start_time": "2023-03-18T21:14:31.602Z"
   },
   {
    "duration": 10,
    "start_time": "2023-03-18T21:15:12.604Z"
   },
   {
    "duration": 705,
    "start_time": "2023-03-18T21:15:18.777Z"
   },
   {
    "duration": 3,
    "start_time": "2023-03-18T21:15:19.484Z"
   },
   {
    "duration": 134,
    "start_time": "2023-03-18T21:15:19.489Z"
   },
   {
    "duration": 18,
    "start_time": "2023-03-18T21:15:19.625Z"
   },
   {
    "duration": 2235,
    "start_time": "2023-03-18T21:15:19.645Z"
   },
   {
    "duration": 11,
    "start_time": "2023-03-18T21:15:21.882Z"
   },
   {
    "duration": 15,
    "start_time": "2023-03-18T21:15:21.895Z"
   },
   {
    "duration": 14,
    "start_time": "2023-03-18T21:15:21.911Z"
   },
   {
    "duration": 5,
    "start_time": "2023-03-18T21:15:21.927Z"
   },
   {
    "duration": 9,
    "start_time": "2023-03-18T21:15:21.935Z"
   },
   {
    "duration": 27,
    "start_time": "2023-03-18T21:15:21.973Z"
   },
   {
    "duration": 12,
    "start_time": "2023-03-18T21:15:22.001Z"
   },
   {
    "duration": 86,
    "start_time": "2023-03-18T21:15:22.014Z"
   },
   {
    "duration": 8,
    "start_time": "2023-03-18T21:15:22.101Z"
   },
   {
    "duration": 21,
    "start_time": "2023-03-18T21:15:22.111Z"
   },
   {
    "duration": 8,
    "start_time": "2023-03-18T21:15:22.133Z"
   },
   {
    "duration": 13,
    "start_time": "2023-03-18T21:15:22.143Z"
   },
   {
    "duration": 30,
    "start_time": "2023-03-18T21:15:22.158Z"
   },
   {
    "duration": 11,
    "start_time": "2023-03-18T21:15:22.190Z"
   },
   {
    "duration": 19,
    "start_time": "2023-03-18T21:15:22.203Z"
   },
   {
    "duration": 21,
    "start_time": "2023-03-18T21:15:22.223Z"
   },
   {
    "duration": 8,
    "start_time": "2023-03-18T21:15:22.246Z"
   },
   {
    "duration": 11,
    "start_time": "2023-03-18T21:15:22.255Z"
   },
   {
    "duration": 182,
    "start_time": "2023-03-18T21:15:22.268Z"
   },
   {
    "duration": 4,
    "start_time": "2023-03-18T21:15:22.452Z"
   },
   {
    "duration": 42,
    "start_time": "2023-03-18T21:15:22.458Z"
   },
   {
    "duration": 190,
    "start_time": "2023-03-18T21:15:22.501Z"
   },
   {
    "duration": 9,
    "start_time": "2023-03-18T21:15:22.694Z"
   },
   {
    "duration": 218,
    "start_time": "2023-03-18T21:15:22.704Z"
   },
   {
    "duration": 10,
    "start_time": "2023-03-18T21:15:22.925Z"
   },
   {
    "duration": 202,
    "start_time": "2023-03-18T21:15:22.937Z"
   },
   {
    "duration": 11,
    "start_time": "2023-03-18T21:15:23.141Z"
   },
   {
    "duration": 223,
    "start_time": "2023-03-18T21:15:23.173Z"
   },
   {
    "duration": 11,
    "start_time": "2023-03-18T21:15:23.398Z"
   },
   {
    "duration": 321,
    "start_time": "2023-03-18T21:15:23.411Z"
   },
   {
    "duration": 9,
    "start_time": "2023-03-18T21:15:23.734Z"
   },
   {
    "duration": 221,
    "start_time": "2023-03-18T21:15:23.745Z"
   },
   {
    "duration": 11,
    "start_time": "2023-03-18T21:15:23.968Z"
   },
   {
    "duration": 216,
    "start_time": "2023-03-18T21:15:23.981Z"
   },
   {
    "duration": 198,
    "start_time": "2023-03-18T21:15:24.199Z"
   },
   {
    "duration": 209,
    "start_time": "2023-03-18T21:15:24.399Z"
   },
   {
    "duration": 212,
    "start_time": "2023-03-18T21:15:24.609Z"
   },
   {
    "duration": 204,
    "start_time": "2023-03-18T21:15:24.823Z"
   },
   {
    "duration": 200,
    "start_time": "2023-03-18T21:15:25.029Z"
   },
   {
    "duration": 191,
    "start_time": "2023-03-18T21:15:25.231Z"
   },
   {
    "duration": 202,
    "start_time": "2023-03-18T21:15:25.424Z"
   },
   {
    "duration": 62,
    "start_time": "2023-03-18T21:15:25.628Z"
   },
   {
    "duration": 9,
    "start_time": "2023-03-18T21:19:16.884Z"
   },
   {
    "duration": 102,
    "start_time": "2023-03-18T21:22:18.797Z"
   },
   {
    "duration": 327,
    "start_time": "2023-03-18T21:22:45.188Z"
   },
   {
    "duration": 182,
    "start_time": "2023-03-18T21:22:52.974Z"
   },
   {
    "duration": 182,
    "start_time": "2023-03-18T21:23:06.459Z"
   },
   {
    "duration": 206,
    "start_time": "2023-03-18T21:23:52.884Z"
   },
   {
    "duration": 12,
    "start_time": "2023-03-18T21:25:28.641Z"
   },
   {
    "duration": 127,
    "start_time": "2023-03-18T21:27:52.098Z"
   },
   {
    "duration": 164,
    "start_time": "2023-03-18T21:28:06.674Z"
   },
   {
    "duration": 8,
    "start_time": "2023-03-18T21:37:00.134Z"
   },
   {
    "duration": 8,
    "start_time": "2023-03-18T21:37:09.099Z"
   },
   {
    "duration": 9,
    "start_time": "2023-03-18T21:37:14.281Z"
   },
   {
    "duration": 8,
    "start_time": "2023-03-18T22:08:36.709Z"
   },
   {
    "duration": 257,
    "start_time": "2023-03-18T22:26:35.689Z"
   },
   {
    "duration": 169,
    "start_time": "2023-03-18T22:27:28.734Z"
   },
   {
    "duration": 154,
    "start_time": "2023-03-18T22:28:43.886Z"
   },
   {
    "duration": 196,
    "start_time": "2023-03-18T22:32:03.001Z"
   },
   {
    "duration": 181,
    "start_time": "2023-03-18T22:32:30.694Z"
   },
   {
    "duration": 228,
    "start_time": "2023-03-18T22:33:13.039Z"
   },
   {
    "duration": 102,
    "start_time": "2023-03-18T22:33:31.623Z"
   },
   {
    "duration": 321,
    "start_time": "2023-03-18T22:33:39.046Z"
   },
   {
    "duration": 201,
    "start_time": "2023-03-18T22:33:49.541Z"
   },
   {
    "duration": 202,
    "start_time": "2023-03-18T22:33:55.158Z"
   },
   {
    "duration": 258,
    "start_time": "2023-03-18T22:34:00.333Z"
   },
   {
    "duration": 193,
    "start_time": "2023-03-18T22:34:07.717Z"
   },
   {
    "duration": 214,
    "start_time": "2023-03-18T22:34:13.728Z"
   },
   {
    "duration": 207,
    "start_time": "2023-03-18T22:34:20.730Z"
   },
   {
    "duration": 685,
    "start_time": "2023-03-18T22:37:26.401Z"
   },
   {
    "duration": 4,
    "start_time": "2023-03-18T22:37:27.089Z"
   },
   {
    "duration": 140,
    "start_time": "2023-03-18T22:37:27.095Z"
   },
   {
    "duration": 18,
    "start_time": "2023-03-18T22:37:27.237Z"
   },
   {
    "duration": 2351,
    "start_time": "2023-03-18T22:37:27.273Z"
   },
   {
    "duration": 11,
    "start_time": "2023-03-18T22:37:29.626Z"
   },
   {
    "duration": 17,
    "start_time": "2023-03-18T22:37:29.638Z"
   },
   {
    "duration": 15,
    "start_time": "2023-03-18T22:37:29.657Z"
   },
   {
    "duration": 14,
    "start_time": "2023-03-18T22:37:29.674Z"
   },
   {
    "duration": 11,
    "start_time": "2023-03-18T22:37:29.690Z"
   },
   {
    "duration": 27,
    "start_time": "2023-03-18T22:37:29.703Z"
   },
   {
    "duration": 194,
    "start_time": "2023-03-18T22:37:29.732Z"
   },
   {
    "duration": 75,
    "start_time": "2023-03-18T22:37:29.928Z"
   },
   {
    "duration": 8,
    "start_time": "2023-03-18T22:37:30.008Z"
   },
   {
    "duration": 17,
    "start_time": "2023-03-18T22:37:30.018Z"
   },
   {
    "duration": 10,
    "start_time": "2023-03-18T22:37:30.037Z"
   },
   {
    "duration": 32,
    "start_time": "2023-03-18T22:37:30.050Z"
   },
   {
    "duration": 33,
    "start_time": "2023-03-18T22:37:30.085Z"
   },
   {
    "duration": 12,
    "start_time": "2023-03-18T22:37:30.120Z"
   },
   {
    "duration": 10,
    "start_time": "2023-03-18T22:37:30.134Z"
   },
   {
    "duration": 13,
    "start_time": "2023-03-18T22:37:30.146Z"
   },
   {
    "duration": 25,
    "start_time": "2023-03-18T22:37:30.161Z"
   },
   {
    "duration": 19,
    "start_time": "2023-03-18T22:37:30.188Z"
   },
   {
    "duration": 220,
    "start_time": "2023-03-18T22:37:30.210Z"
   },
   {
    "duration": 6,
    "start_time": "2023-03-18T22:37:30.433Z"
   },
   {
    "duration": 106,
    "start_time": "2023-03-18T22:37:30.441Z"
   },
   {
    "duration": 274,
    "start_time": "2023-03-18T22:37:30.548Z"
   },
   {
    "duration": 10,
    "start_time": "2023-03-18T22:37:30.824Z"
   },
   {
    "duration": 273,
    "start_time": "2023-03-18T22:37:30.836Z"
   },
   {
    "duration": 13,
    "start_time": "2023-03-18T22:37:31.112Z"
   },
   {
    "duration": 226,
    "start_time": "2023-03-18T22:37:31.128Z"
   },
   {
    "duration": 24,
    "start_time": "2023-03-18T22:37:31.356Z"
   },
   {
    "duration": 509,
    "start_time": "2023-03-18T22:37:31.382Z"
   },
   {
    "duration": 9,
    "start_time": "2023-03-18T22:37:31.893Z"
   },
   {
    "duration": 225,
    "start_time": "2023-03-18T22:37:31.904Z"
   },
   {
    "duration": 9,
    "start_time": "2023-03-18T22:37:32.131Z"
   },
   {
    "duration": 234,
    "start_time": "2023-03-18T22:37:32.142Z"
   },
   {
    "duration": 14,
    "start_time": "2023-03-18T22:37:32.378Z"
   },
   {
    "duration": 228,
    "start_time": "2023-03-18T22:37:32.395Z"
   },
   {
    "duration": 11,
    "start_time": "2023-03-18T22:37:32.626Z"
   },
   {
    "duration": 158,
    "start_time": "2023-03-18T22:37:32.641Z"
   },
   {
    "duration": 9,
    "start_time": "2023-03-18T22:37:32.800Z"
   },
   {
    "duration": 277,
    "start_time": "2023-03-18T22:37:32.811Z"
   },
   {
    "duration": 11,
    "start_time": "2023-03-18T22:37:33.090Z"
   },
   {
    "duration": 222,
    "start_time": "2023-03-18T22:37:33.103Z"
   },
   {
    "duration": 285,
    "start_time": "2023-03-18T22:37:33.327Z"
   },
   {
    "duration": 287,
    "start_time": "2023-03-18T22:37:33.614Z"
   },
   {
    "duration": 161,
    "start_time": "2023-03-18T22:37:33.903Z"
   },
   {
    "duration": 328,
    "start_time": "2023-03-18T22:37:34.066Z"
   },
   {
    "duration": 8,
    "start_time": "2023-03-18T22:44:03.829Z"
   },
   {
    "duration": 176,
    "start_time": "2023-03-18T22:44:16.273Z"
   },
   {
    "duration": 263,
    "start_time": "2023-03-18T22:44:31.490Z"
   },
   {
    "duration": 225,
    "start_time": "2023-03-18T22:44:50.597Z"
   },
   {
    "duration": 210,
    "start_time": "2023-03-18T22:55:31.851Z"
   },
   {
    "duration": 194,
    "start_time": "2023-03-18T22:56:34.761Z"
   },
   {
    "duration": 232,
    "start_time": "2023-03-18T23:00:05.014Z"
   },
   {
    "duration": 907,
    "start_time": "2023-03-18T23:01:09.204Z"
   },
   {
    "duration": 9,
    "start_time": "2023-03-18T23:01:23.432Z"
   },
   {
    "duration": 9,
    "start_time": "2023-03-18T23:05:08.852Z"
   },
   {
    "duration": 132,
    "start_time": "2023-03-18T23:09:56.776Z"
   },
   {
    "duration": 52,
    "start_time": "2023-03-18T23:12:38.033Z"
   },
   {
    "duration": 208,
    "start_time": "2023-03-18T23:21:01.005Z"
   },
   {
    "duration": 12,
    "start_time": "2023-03-18T23:21:37.364Z"
   },
   {
    "duration": 294,
    "start_time": "2023-03-18T23:25:00.389Z"
   },
   {
    "duration": 12,
    "start_time": "2023-03-18T23:25:19.687Z"
   },
   {
    "duration": 11,
    "start_time": "2023-03-19T01:04:37.537Z"
   },
   {
    "duration": 17,
    "start_time": "2023-03-19T01:04:51.257Z"
   },
   {
    "duration": 16,
    "start_time": "2023-03-19T01:05:28.407Z"
   },
   {
    "duration": 1017,
    "start_time": "2023-03-19T01:07:48.619Z"
   },
   {
    "duration": 60,
    "start_time": "2023-03-19T01:08:49.016Z"
   },
   {
    "duration": 17,
    "start_time": "2023-03-19T01:09:04.068Z"
   },
   {
    "duration": 17,
    "start_time": "2023-03-19T01:09:21.704Z"
   },
   {
    "duration": 13,
    "start_time": "2023-03-19T01:09:32.259Z"
   },
   {
    "duration": 885,
    "start_time": "2023-03-19T01:11:12.427Z"
   },
   {
    "duration": 690,
    "start_time": "2023-03-19T01:11:29.077Z"
   },
   {
    "duration": 3,
    "start_time": "2023-03-19T01:11:29.769Z"
   },
   {
    "duration": 134,
    "start_time": "2023-03-19T01:11:29.774Z"
   },
   {
    "duration": 15,
    "start_time": "2023-03-19T01:11:29.910Z"
   },
   {
    "duration": 2358,
    "start_time": "2023-03-19T01:11:29.927Z"
   },
   {
    "duration": 10,
    "start_time": "2023-03-19T01:11:32.287Z"
   },
   {
    "duration": 24,
    "start_time": "2023-03-19T01:11:32.299Z"
   },
   {
    "duration": 33,
    "start_time": "2023-03-19T01:11:32.324Z"
   },
   {
    "duration": 6,
    "start_time": "2023-03-19T01:11:32.359Z"
   },
   {
    "duration": 25,
    "start_time": "2023-03-19T01:11:32.366Z"
   },
   {
    "duration": 33,
    "start_time": "2023-03-19T01:11:32.393Z"
   },
   {
    "duration": 13,
    "start_time": "2023-03-19T01:11:32.428Z"
   },
   {
    "duration": 78,
    "start_time": "2023-03-19T01:11:32.443Z"
   },
   {
    "duration": 9,
    "start_time": "2023-03-19T01:11:32.524Z"
   },
   {
    "duration": 9,
    "start_time": "2023-03-19T01:11:32.534Z"
   },
   {
    "duration": 31,
    "start_time": "2023-03-19T01:11:32.544Z"
   },
   {
    "duration": 9,
    "start_time": "2023-03-19T01:11:32.577Z"
   },
   {
    "duration": 11,
    "start_time": "2023-03-19T01:11:32.588Z"
   },
   {
    "duration": 9,
    "start_time": "2023-03-19T01:11:32.601Z"
   },
   {
    "duration": 7,
    "start_time": "2023-03-19T01:11:32.612Z"
   },
   {
    "duration": 8,
    "start_time": "2023-03-19T01:11:32.621Z"
   },
   {
    "duration": 10,
    "start_time": "2023-03-19T01:11:32.630Z"
   },
   {
    "duration": 31,
    "start_time": "2023-03-19T01:11:32.642Z"
   },
   {
    "duration": 201,
    "start_time": "2023-03-19T01:11:32.675Z"
   },
   {
    "duration": 5,
    "start_time": "2023-03-19T01:11:32.878Z"
   },
   {
    "duration": 40,
    "start_time": "2023-03-19T01:11:32.884Z"
   },
   {
    "duration": 209,
    "start_time": "2023-03-19T01:11:32.926Z"
   },
   {
    "duration": 10,
    "start_time": "2023-03-19T01:11:33.137Z"
   },
   {
    "duration": 235,
    "start_time": "2023-03-19T01:11:33.149Z"
   },
   {
    "duration": 10,
    "start_time": "2023-03-19T01:11:33.386Z"
   },
   {
    "duration": 209,
    "start_time": "2023-03-19T01:11:33.398Z"
   },
   {
    "duration": 11,
    "start_time": "2023-03-19T01:11:33.609Z"
   },
   {
    "duration": 293,
    "start_time": "2023-03-19T01:11:33.622Z"
   },
   {
    "duration": 9,
    "start_time": "2023-03-19T01:11:33.916Z"
   },
   {
    "duration": 188,
    "start_time": "2023-03-19T01:11:33.927Z"
   },
   {
    "duration": 9,
    "start_time": "2023-03-19T01:11:34.116Z"
   },
   {
    "duration": 233,
    "start_time": "2023-03-19T01:11:34.127Z"
   },
   {
    "duration": 15,
    "start_time": "2023-03-19T01:11:34.361Z"
   },
   {
    "duration": 201,
    "start_time": "2023-03-19T01:11:34.378Z"
   },
   {
    "duration": 11,
    "start_time": "2023-03-19T01:11:34.580Z"
   },
   {
    "duration": 128,
    "start_time": "2023-03-19T01:11:34.596Z"
   },
   {
    "duration": 9,
    "start_time": "2023-03-19T01:11:34.727Z"
   },
   {
    "duration": 243,
    "start_time": "2023-03-19T01:11:34.738Z"
   },
   {
    "duration": 8,
    "start_time": "2023-03-19T01:11:34.982Z"
   },
   {
    "duration": 244,
    "start_time": "2023-03-19T01:11:34.992Z"
   },
   {
    "duration": 12,
    "start_time": "2023-03-19T01:11:35.237Z"
   },
   {
    "duration": 203,
    "start_time": "2023-03-19T01:11:35.251Z"
   },
   {
    "duration": 20,
    "start_time": "2023-03-19T01:11:35.456Z"
   },
   {
    "duration": 201,
    "start_time": "2023-03-19T01:11:35.477Z"
   },
   {
    "duration": 9,
    "start_time": "2023-03-19T01:11:35.679Z"
   },
   {
    "duration": 255,
    "start_time": "2023-03-19T01:11:35.690Z"
   },
   {
    "duration": 161,
    "start_time": "2023-03-19T01:11:35.947Z"
   },
   {
    "duration": 274,
    "start_time": "2023-03-19T01:11:36.110Z"
   },
   {
    "duration": 10,
    "start_time": "2023-03-19T01:11:36.386Z"
   },
   {
    "duration": 20,
    "start_time": "2023-03-19T01:11:36.397Z"
   },
   {
    "duration": 929,
    "start_time": "2023-03-19T01:11:36.418Z"
   },
   {
    "duration": 18,
    "start_time": "2023-03-19T01:13:16.024Z"
   },
   {
    "duration": 196,
    "start_time": "2023-03-19T01:13:20.332Z"
   },
   {
    "duration": 6,
    "start_time": "2023-03-19T01:17:28.964Z"
   },
   {
    "duration": 6,
    "start_time": "2023-03-19T01:18:20.976Z"
   },
   {
    "duration": 21,
    "start_time": "2023-03-19T01:19:00.688Z"
   },
   {
    "duration": 6,
    "start_time": "2023-03-19T01:19:06.268Z"
   },
   {
    "duration": 157,
    "start_time": "2023-03-19T01:19:07.437Z"
   },
   {
    "duration": 19,
    "start_time": "2023-03-19T01:26:07.392Z"
   },
   {
    "duration": 6,
    "start_time": "2023-03-19T01:26:45.897Z"
   },
   {
    "duration": 153,
    "start_time": "2023-03-19T01:27:11.892Z"
   },
   {
    "duration": 26,
    "start_time": "2023-03-19T01:29:31.869Z"
   },
   {
    "duration": 6,
    "start_time": "2023-03-19T01:30:12.796Z"
   },
   {
    "duration": 138,
    "start_time": "2023-03-19T01:30:45.116Z"
   },
   {
    "duration": 15,
    "start_time": "2023-03-19T01:33:22.589Z"
   },
   {
    "duration": 6,
    "start_time": "2023-03-19T01:33:53.020Z"
   },
   {
    "duration": 140,
    "start_time": "2023-03-19T01:34:37.501Z"
   },
   {
    "duration": 15,
    "start_time": "2023-03-19T01:39:30.265Z"
   },
   {
    "duration": 170,
    "start_time": "2023-03-19T01:40:34.706Z"
   },
   {
    "duration": 110,
    "start_time": "2023-03-19T01:41:27.113Z"
   },
   {
    "duration": 15,
    "start_time": "2023-03-19T02:00:07.577Z"
   },
   {
    "duration": 5,
    "start_time": "2023-03-19T02:01:06.385Z"
   },
   {
    "duration": 146,
    "start_time": "2023-03-19T02:01:46.888Z"
   },
   {
    "duration": 6,
    "start_time": "2023-03-19T02:02:54.820Z"
   },
   {
    "duration": 16,
    "start_time": "2023-03-19T02:09:53.730Z"
   },
   {
    "duration": 5,
    "start_time": "2023-03-19T02:10:25.989Z"
   },
   {
    "duration": 163,
    "start_time": "2023-03-19T02:10:48.968Z"
   },
   {
    "duration": 18,
    "start_time": "2023-03-19T02:13:47.007Z"
   },
   {
    "duration": 5,
    "start_time": "2023-03-19T02:14:13.014Z"
   },
   {
    "duration": 147,
    "start_time": "2023-03-19T02:15:01.504Z"
   },
   {
    "duration": 672,
    "start_time": "2023-03-19T02:25:16.677Z"
   },
   {
    "duration": 3,
    "start_time": "2023-03-19T02:25:17.351Z"
   },
   {
    "duration": 136,
    "start_time": "2023-03-19T02:25:17.356Z"
   },
   {
    "duration": 17,
    "start_time": "2023-03-19T02:25:17.494Z"
   },
   {
    "duration": 2155,
    "start_time": "2023-03-19T02:25:17.513Z"
   },
   {
    "duration": 10,
    "start_time": "2023-03-19T02:25:19.670Z"
   },
   {
    "duration": 16,
    "start_time": "2023-03-19T02:25:19.682Z"
   },
   {
    "duration": 13,
    "start_time": "2023-03-19T02:25:19.701Z"
   },
   {
    "duration": 5,
    "start_time": "2023-03-19T02:25:19.716Z"
   },
   {
    "duration": 52,
    "start_time": "2023-03-19T02:25:19.723Z"
   },
   {
    "duration": 29,
    "start_time": "2023-03-19T02:25:19.777Z"
   },
   {
    "duration": 12,
    "start_time": "2023-03-19T02:25:19.808Z"
   },
   {
    "duration": 88,
    "start_time": "2023-03-19T02:25:19.822Z"
   },
   {
    "duration": 9,
    "start_time": "2023-03-19T02:25:19.913Z"
   },
   {
    "duration": 10,
    "start_time": "2023-03-19T02:25:19.924Z"
   },
   {
    "duration": 39,
    "start_time": "2023-03-19T02:25:19.936Z"
   },
   {
    "duration": 10,
    "start_time": "2023-03-19T02:25:19.976Z"
   },
   {
    "duration": 10,
    "start_time": "2023-03-19T02:25:19.988Z"
   },
   {
    "duration": 11,
    "start_time": "2023-03-19T02:25:20.000Z"
   },
   {
    "duration": 6,
    "start_time": "2023-03-19T02:25:20.013Z"
   },
   {
    "duration": 8,
    "start_time": "2023-03-19T02:25:20.021Z"
   },
   {
    "duration": 42,
    "start_time": "2023-03-19T02:25:20.031Z"
   },
   {
    "duration": 10,
    "start_time": "2023-03-19T02:25:20.075Z"
   },
   {
    "duration": 194,
    "start_time": "2023-03-19T02:25:20.087Z"
   },
   {
    "duration": 5,
    "start_time": "2023-03-19T02:25:20.283Z"
   },
   {
    "duration": 38,
    "start_time": "2023-03-19T02:25:20.290Z"
   },
   {
    "duration": 266,
    "start_time": "2023-03-19T02:25:20.329Z"
   },
   {
    "duration": 13,
    "start_time": "2023-03-19T02:25:20.597Z"
   },
   {
    "duration": 252,
    "start_time": "2023-03-19T02:25:20.613Z"
   },
   {
    "duration": 9,
    "start_time": "2023-03-19T02:25:20.872Z"
   },
   {
    "duration": 213,
    "start_time": "2023-03-19T02:25:20.883Z"
   },
   {
    "duration": 11,
    "start_time": "2023-03-19T02:25:21.098Z"
   },
   {
    "duration": 305,
    "start_time": "2023-03-19T02:25:21.111Z"
   },
   {
    "duration": 12,
    "start_time": "2023-03-19T02:25:21.418Z"
   },
   {
    "duration": 185,
    "start_time": "2023-03-19T02:25:21.432Z"
   },
   {
    "duration": 10,
    "start_time": "2023-03-19T02:25:21.619Z"
   },
   {
    "duration": 218,
    "start_time": "2023-03-19T02:25:21.632Z"
   },
   {
    "duration": 23,
    "start_time": "2023-03-19T02:25:21.851Z"
   },
   {
    "duration": 189,
    "start_time": "2023-03-19T02:25:21.876Z"
   },
   {
    "duration": 17,
    "start_time": "2023-03-19T02:25:22.066Z"
   },
   {
    "duration": 135,
    "start_time": "2023-03-19T02:25:22.088Z"
   },
   {
    "duration": 10,
    "start_time": "2023-03-19T02:25:22.225Z"
   },
   {
    "duration": 258,
    "start_time": "2023-03-19T02:25:22.237Z"
   },
   {
    "duration": 9,
    "start_time": "2023-03-19T02:25:22.497Z"
   },
   {
    "duration": 279,
    "start_time": "2023-03-19T02:25:22.508Z"
   },
   {
    "duration": 10,
    "start_time": "2023-03-19T02:25:22.790Z"
   },
   {
    "duration": 241,
    "start_time": "2023-03-19T02:25:22.803Z"
   },
   {
    "duration": 28,
    "start_time": "2023-03-19T02:25:23.046Z"
   },
   {
    "duration": 258,
    "start_time": "2023-03-19T02:25:23.076Z"
   },
   {
    "duration": 10,
    "start_time": "2023-03-19T02:25:23.336Z"
   },
   {
    "duration": 296,
    "start_time": "2023-03-19T02:25:23.348Z"
   },
   {
    "duration": 167,
    "start_time": "2023-03-19T02:25:23.647Z"
   },
   {
    "duration": 271,
    "start_time": "2023-03-19T02:25:23.816Z"
   },
   {
    "duration": 13,
    "start_time": "2023-03-19T02:25:24.090Z"
   },
   {
    "duration": 24,
    "start_time": "2023-03-19T02:25:24.105Z"
   },
   {
    "duration": 6,
    "start_time": "2023-03-19T02:25:24.131Z"
   },
   {
    "duration": 219,
    "start_time": "2023-03-19T02:25:24.138Z"
   },
   {
    "duration": 29,
    "start_time": "2023-03-19T02:25:24.359Z"
   },
   {
    "duration": 6,
    "start_time": "2023-03-19T02:25:24.389Z"
   },
   {
    "duration": 188,
    "start_time": "2023-03-19T02:25:24.396Z"
   },
   {
    "duration": 18,
    "start_time": "2023-03-19T02:25:24.585Z"
   },
   {
    "duration": 5,
    "start_time": "2023-03-19T02:25:24.604Z"
   },
   {
    "duration": 163,
    "start_time": "2023-03-19T02:25:24.610Z"
   },
   {
    "duration": 14,
    "start_time": "2023-03-19T02:25:24.775Z"
   },
   {
    "duration": 5,
    "start_time": "2023-03-19T02:25:24.791Z"
   },
   {
    "duration": 174,
    "start_time": "2023-03-19T02:25:24.798Z"
   },
   {
    "duration": 16,
    "start_time": "2023-03-19T02:25:24.974Z"
   },
   {
    "duration": 135,
    "start_time": "2023-03-19T02:25:24.992Z"
   },
   {
    "duration": 15,
    "start_time": "2023-03-19T02:25:25.128Z"
   },
   {
    "duration": 173,
    "start_time": "2023-03-19T02:25:25.145Z"
   },
   {
    "duration": 15,
    "start_time": "2023-03-19T02:25:25.320Z"
   },
   {
    "duration": 164,
    "start_time": "2023-03-19T02:25:25.337Z"
   },
   {
    "duration": 14,
    "start_time": "2023-03-19T02:25:25.503Z"
   },
   {
    "duration": 5,
    "start_time": "2023-03-19T02:25:25.518Z"
   },
   {
    "duration": 174,
    "start_time": "2023-03-19T02:25:25.525Z"
   },
   {
    "duration": 6,
    "start_time": "2023-03-19T18:35:55.706Z"
   },
   {
    "duration": 12,
    "start_time": "2023-03-19T18:36:17.703Z"
   },
   {
    "duration": 9,
    "start_time": "2023-03-19T18:36:32.574Z"
   },
   {
    "duration": 79,
    "start_time": "2023-03-19T18:36:44.003Z"
   },
   {
    "duration": 10,
    "start_time": "2023-03-19T18:37:15.302Z"
   },
   {
    "duration": 9,
    "start_time": "2023-03-19T18:37:27.653Z"
   },
   {
    "duration": 8,
    "start_time": "2023-03-19T18:38:39.890Z"
   },
   {
    "duration": 9,
    "start_time": "2023-03-19T18:40:24.842Z"
   },
   {
    "duration": 10,
    "start_time": "2023-03-19T18:40:41.419Z"
   },
   {
    "duration": 14,
    "start_time": "2023-03-19T18:41:59.216Z"
   },
   {
    "duration": 34,
    "start_time": "2023-03-19T18:42:55.237Z"
   },
   {
    "duration": 31,
    "start_time": "2023-03-19T18:43:05.559Z"
   },
   {
    "duration": 12,
    "start_time": "2023-03-19T18:43:11.192Z"
   },
   {
    "duration": 12,
    "start_time": "2023-03-19T18:44:14.433Z"
   },
   {
    "duration": 11,
    "start_time": "2023-03-19T18:46:09.542Z"
   },
   {
    "duration": 7,
    "start_time": "2023-03-19T18:51:08.363Z"
   },
   {
    "duration": 8,
    "start_time": "2023-03-19T18:51:22.709Z"
   },
   {
    "duration": 12,
    "start_time": "2023-03-19T18:52:59.508Z"
   },
   {
    "duration": 13,
    "start_time": "2023-03-19T18:53:06.624Z"
   },
   {
    "duration": 9,
    "start_time": "2023-03-19T18:57:55.490Z"
   },
   {
    "duration": 28,
    "start_time": "2023-03-19T19:00:10.014Z"
   },
   {
    "duration": 28,
    "start_time": "2023-03-19T19:08:24.586Z"
   },
   {
    "duration": 27,
    "start_time": "2023-03-19T19:08:57.681Z"
   },
   {
    "duration": 8,
    "start_time": "2023-03-19T19:08:59.481Z"
   },
   {
    "duration": 27,
    "start_time": "2023-03-19T19:09:00.684Z"
   },
   {
    "duration": 43,
    "start_time": "2023-03-19T19:09:22.879Z"
   },
   {
    "duration": 9,
    "start_time": "2023-03-19T19:10:55.385Z"
   },
   {
    "duration": 44,
    "start_time": "2023-03-19T19:11:44.889Z"
   },
   {
    "duration": 15,
    "start_time": "2023-03-19T19:12:46.754Z"
   },
   {
    "duration": 14,
    "start_time": "2023-03-19T19:13:36.425Z"
   },
   {
    "duration": 16,
    "start_time": "2023-03-19T19:14:37.558Z"
   },
   {
    "duration": 15,
    "start_time": "2023-03-19T19:14:41.920Z"
   },
   {
    "duration": 58,
    "start_time": "2023-03-19T19:24:41.027Z"
   },
   {
    "duration": 6,
    "start_time": "2023-03-19T19:24:47.782Z"
   },
   {
    "duration": 15,
    "start_time": "2023-03-19T19:25:03.887Z"
   },
   {
    "duration": 15,
    "start_time": "2023-03-19T19:25:27.379Z"
   },
   {
    "duration": 54,
    "start_time": "2023-03-19T19:26:00.579Z"
   },
   {
    "duration": 18,
    "start_time": "2023-03-19T19:28:11.162Z"
   },
   {
    "duration": 16,
    "start_time": "2023-03-19T19:28:47.615Z"
   },
   {
    "duration": 15,
    "start_time": "2023-03-19T19:29:30.962Z"
   },
   {
    "duration": 16,
    "start_time": "2023-03-19T19:29:34.901Z"
   },
   {
    "duration": 12,
    "start_time": "2023-03-19T19:30:55.784Z"
   },
   {
    "duration": 16,
    "start_time": "2023-03-19T19:31:43.949Z"
   },
   {
    "duration": 148,
    "start_time": "2023-03-19T19:32:10.053Z"
   },
   {
    "duration": 136,
    "start_time": "2023-03-19T19:41:01.005Z"
   },
   {
    "duration": 152,
    "start_time": "2023-03-19T19:41:19.375Z"
   },
   {
    "duration": 165,
    "start_time": "2023-03-19T19:41:29.162Z"
   },
   {
    "duration": 171,
    "start_time": "2023-03-19T19:41:35.028Z"
   },
   {
    "duration": 153,
    "start_time": "2023-03-19T19:41:41.775Z"
   },
   {
    "duration": 116,
    "start_time": "2023-03-19T19:41:50.004Z"
   },
   {
    "duration": 264,
    "start_time": "2023-03-19T19:41:57.728Z"
   },
   {
    "duration": 5,
    "start_time": "2023-03-19T19:51:58.585Z"
   },
   {
    "duration": 687,
    "start_time": "2023-03-19T21:21:57.871Z"
   },
   {
    "duration": 3,
    "start_time": "2023-03-19T21:21:58.561Z"
   },
   {
    "duration": 137,
    "start_time": "2023-03-19T21:21:58.565Z"
   },
   {
    "duration": 16,
    "start_time": "2023-03-19T21:21:58.703Z"
   },
   {
    "duration": 1915,
    "start_time": "2023-03-19T21:21:58.721Z"
   },
   {
    "duration": 10,
    "start_time": "2023-03-19T21:22:00.638Z"
   },
   {
    "duration": 26,
    "start_time": "2023-03-19T21:22:00.649Z"
   },
   {
    "duration": 30,
    "start_time": "2023-03-19T21:22:00.676Z"
   },
   {
    "duration": 21,
    "start_time": "2023-03-19T21:22:00.707Z"
   },
   {
    "duration": 36,
    "start_time": "2023-03-19T21:22:00.729Z"
   },
   {
    "duration": 26,
    "start_time": "2023-03-19T21:22:00.766Z"
   },
   {
    "duration": 11,
    "start_time": "2023-03-19T21:22:00.794Z"
   },
   {
    "duration": 75,
    "start_time": "2023-03-19T21:22:00.806Z"
   },
   {
    "duration": 13,
    "start_time": "2023-03-19T21:22:00.884Z"
   },
   {
    "duration": 51,
    "start_time": "2023-03-19T21:22:00.898Z"
   },
   {
    "duration": 62,
    "start_time": "2023-03-19T21:22:00.950Z"
   },
   {
    "duration": 52,
    "start_time": "2023-03-19T21:22:01.013Z"
   },
   {
    "duration": 35,
    "start_time": "2023-03-19T21:22:01.067Z"
   },
   {
    "duration": 29,
    "start_time": "2023-03-19T21:22:01.104Z"
   },
   {
    "duration": 27,
    "start_time": "2023-03-19T21:22:01.134Z"
   },
   {
    "duration": 73,
    "start_time": "2023-03-19T21:22:01.163Z"
   },
   {
    "duration": 31,
    "start_time": "2023-03-19T21:22:01.238Z"
   },
   {
    "duration": 29,
    "start_time": "2023-03-19T21:22:01.271Z"
   },
   {
    "duration": 55,
    "start_time": "2023-03-19T21:22:01.302Z"
   },
   {
    "duration": 31,
    "start_time": "2023-03-19T21:22:01.358Z"
   },
   {
    "duration": 21,
    "start_time": "2023-03-19T21:22:01.391Z"
   },
   {
    "duration": 84,
    "start_time": "2023-03-19T21:22:01.414Z"
   },
   {
    "duration": 0,
    "start_time": "2023-03-19T21:22:01.502Z"
   },
   {
    "duration": 0,
    "start_time": "2023-03-19T21:22:01.503Z"
   },
   {
    "duration": 0,
    "start_time": "2023-03-19T21:22:01.505Z"
   },
   {
    "duration": 0,
    "start_time": "2023-03-19T21:22:01.506Z"
   },
   {
    "duration": 0,
    "start_time": "2023-03-19T21:22:01.507Z"
   },
   {
    "duration": 0,
    "start_time": "2023-03-19T21:22:01.508Z"
   },
   {
    "duration": 0,
    "start_time": "2023-03-19T21:22:01.510Z"
   },
   {
    "duration": 0,
    "start_time": "2023-03-19T21:22:01.511Z"
   },
   {
    "duration": 0,
    "start_time": "2023-03-19T21:22:01.513Z"
   },
   {
    "duration": 0,
    "start_time": "2023-03-19T21:22:01.514Z"
   },
   {
    "duration": 0,
    "start_time": "2023-03-19T21:22:01.516Z"
   },
   {
    "duration": 0,
    "start_time": "2023-03-19T21:22:01.517Z"
   },
   {
    "duration": 0,
    "start_time": "2023-03-19T21:22:01.518Z"
   },
   {
    "duration": 0,
    "start_time": "2023-03-19T21:22:01.519Z"
   },
   {
    "duration": 0,
    "start_time": "2023-03-19T21:22:01.520Z"
   },
   {
    "duration": 0,
    "start_time": "2023-03-19T21:22:01.521Z"
   },
   {
    "duration": 0,
    "start_time": "2023-03-19T21:22:01.522Z"
   },
   {
    "duration": 0,
    "start_time": "2023-03-19T21:22:01.523Z"
   },
   {
    "duration": 0,
    "start_time": "2023-03-19T21:22:01.524Z"
   },
   {
    "duration": 0,
    "start_time": "2023-03-19T21:22:01.525Z"
   },
   {
    "duration": 0,
    "start_time": "2023-03-19T21:22:01.526Z"
   },
   {
    "duration": 0,
    "start_time": "2023-03-19T21:22:01.527Z"
   },
   {
    "duration": 0,
    "start_time": "2023-03-19T21:22:01.562Z"
   },
   {
    "duration": 0,
    "start_time": "2023-03-19T21:22:01.563Z"
   },
   {
    "duration": 0,
    "start_time": "2023-03-19T21:22:01.564Z"
   },
   {
    "duration": 0,
    "start_time": "2023-03-19T21:22:01.565Z"
   },
   {
    "duration": 0,
    "start_time": "2023-03-19T21:22:01.566Z"
   },
   {
    "duration": 0,
    "start_time": "2023-03-19T21:22:01.567Z"
   },
   {
    "duration": 0,
    "start_time": "2023-03-19T21:22:01.568Z"
   },
   {
    "duration": 0,
    "start_time": "2023-03-19T21:22:01.569Z"
   },
   {
    "duration": 0,
    "start_time": "2023-03-19T21:22:01.571Z"
   },
   {
    "duration": 0,
    "start_time": "2023-03-19T21:22:01.572Z"
   },
   {
    "duration": 0,
    "start_time": "2023-03-19T21:22:01.573Z"
   },
   {
    "duration": 0,
    "start_time": "2023-03-19T21:22:01.574Z"
   },
   {
    "duration": 0,
    "start_time": "2023-03-19T21:22:01.575Z"
   },
   {
    "duration": 0,
    "start_time": "2023-03-19T21:22:01.576Z"
   },
   {
    "duration": 0,
    "start_time": "2023-03-19T21:22:01.577Z"
   },
   {
    "duration": 0,
    "start_time": "2023-03-19T21:22:01.578Z"
   },
   {
    "duration": 0,
    "start_time": "2023-03-19T21:22:01.579Z"
   },
   {
    "duration": 0,
    "start_time": "2023-03-19T21:22:01.580Z"
   },
   {
    "duration": 0,
    "start_time": "2023-03-19T21:22:01.581Z"
   },
   {
    "duration": 0,
    "start_time": "2023-03-19T21:22:01.582Z"
   },
   {
    "duration": 0,
    "start_time": "2023-03-19T21:22:01.583Z"
   },
   {
    "duration": 0,
    "start_time": "2023-03-19T21:22:01.584Z"
   },
   {
    "duration": 0,
    "start_time": "2023-03-19T21:22:01.586Z"
   },
   {
    "duration": 0,
    "start_time": "2023-03-19T21:22:01.587Z"
   },
   {
    "duration": 0,
    "start_time": "2023-03-19T21:22:01.588Z"
   },
   {
    "duration": 0,
    "start_time": "2023-03-19T21:22:01.589Z"
   },
   {
    "duration": 0,
    "start_time": "2023-03-19T21:22:01.590Z"
   },
   {
    "duration": 0,
    "start_time": "2023-03-19T21:22:01.591Z"
   },
   {
    "duration": 0,
    "start_time": "2023-03-19T21:22:01.593Z"
   },
   {
    "duration": 0,
    "start_time": "2023-03-19T21:22:01.594Z"
   },
   {
    "duration": 0,
    "start_time": "2023-03-19T21:22:01.596Z"
   },
   {
    "duration": 0,
    "start_time": "2023-03-19T21:22:01.597Z"
   },
   {
    "duration": 0,
    "start_time": "2023-03-19T21:22:01.598Z"
   },
   {
    "duration": 0,
    "start_time": "2023-03-19T21:22:01.599Z"
   },
   {
    "duration": 0,
    "start_time": "2023-03-19T21:22:01.662Z"
   },
   {
    "duration": 0,
    "start_time": "2023-03-19T21:22:01.664Z"
   },
   {
    "duration": 0,
    "start_time": "2023-03-19T21:22:01.665Z"
   },
   {
    "duration": 0,
    "start_time": "2023-03-19T21:22:01.667Z"
   },
   {
    "duration": 0,
    "start_time": "2023-03-19T21:22:01.668Z"
   },
   {
    "duration": 0,
    "start_time": "2023-03-19T21:22:01.669Z"
   },
   {
    "duration": 0,
    "start_time": "2023-03-19T21:22:01.671Z"
   },
   {
    "duration": 0,
    "start_time": "2023-03-19T21:22:01.672Z"
   },
   {
    "duration": 0,
    "start_time": "2023-03-19T21:22:01.674Z"
   },
   {
    "duration": 0,
    "start_time": "2023-03-19T21:22:01.675Z"
   },
   {
    "duration": 0,
    "start_time": "2023-03-19T21:22:01.676Z"
   },
   {
    "duration": 0,
    "start_time": "2023-03-19T21:22:01.678Z"
   },
   {
    "duration": 0,
    "start_time": "2023-03-19T21:22:01.679Z"
   },
   {
    "duration": 0,
    "start_time": "2023-03-19T21:22:01.681Z"
   },
   {
    "duration": 0,
    "start_time": "2023-03-19T21:22:01.682Z"
   },
   {
    "duration": 0,
    "start_time": "2023-03-19T21:22:01.684Z"
   },
   {
    "duration": 15,
    "start_time": "2023-03-19T21:24:41.371Z"
   },
   {
    "duration": 56,
    "start_time": "2023-03-19T21:25:10.923Z"
   },
   {
    "duration": 6,
    "start_time": "2023-03-19T21:28:30.668Z"
   },
   {
    "duration": 7,
    "start_time": "2023-03-19T21:28:35.860Z"
   },
   {
    "duration": 705,
    "start_time": "2023-03-19T21:29:39.751Z"
   },
   {
    "duration": 4,
    "start_time": "2023-03-19T21:29:40.458Z"
   },
   {
    "duration": 128,
    "start_time": "2023-03-19T21:29:40.463Z"
   },
   {
    "duration": 15,
    "start_time": "2023-03-19T21:29:40.592Z"
   },
   {
    "duration": 2009,
    "start_time": "2023-03-19T21:29:40.609Z"
   },
   {
    "duration": 9,
    "start_time": "2023-03-19T21:29:42.620Z"
   },
   {
    "duration": 4,
    "start_time": "2023-03-19T21:29:42.631Z"
   },
   {
    "duration": 263,
    "start_time": "2023-03-19T21:29:42.637Z"
   },
   {
    "duration": 13,
    "start_time": "2023-03-19T21:29:42.902Z"
   },
   {
    "duration": 13,
    "start_time": "2023-03-19T21:29:42.917Z"
   },
   {
    "duration": 6,
    "start_time": "2023-03-19T21:29:42.931Z"
   },
   {
    "duration": 31,
    "start_time": "2023-03-19T21:29:42.938Z"
   },
   {
    "duration": 33,
    "start_time": "2023-03-19T21:29:42.971Z"
   },
   {
    "duration": 15,
    "start_time": "2023-03-19T21:29:43.008Z"
   },
   {
    "duration": 97,
    "start_time": "2023-03-19T21:29:43.025Z"
   },
   {
    "duration": 8,
    "start_time": "2023-03-19T21:29:43.123Z"
   },
   {
    "duration": 28,
    "start_time": "2023-03-19T21:29:43.133Z"
   },
   {
    "duration": 20,
    "start_time": "2023-03-19T21:29:43.164Z"
   },
   {
    "duration": 10,
    "start_time": "2023-03-19T21:29:43.186Z"
   },
   {
    "duration": 6,
    "start_time": "2023-03-19T21:29:43.198Z"
   },
   {
    "duration": 9,
    "start_time": "2023-03-19T21:29:43.206Z"
   },
   {
    "duration": 4,
    "start_time": "2023-03-19T21:29:43.217Z"
   },
   {
    "duration": 45,
    "start_time": "2023-03-19T21:29:43.223Z"
   },
   {
    "duration": 7,
    "start_time": "2023-03-19T21:29:43.270Z"
   },
   {
    "duration": 11,
    "start_time": "2023-03-19T21:29:43.278Z"
   },
   {
    "duration": 6,
    "start_time": "2023-03-19T21:29:43.291Z"
   },
   {
    "duration": 10,
    "start_time": "2023-03-19T21:29:43.298Z"
   },
   {
    "duration": 8,
    "start_time": "2023-03-19T21:29:43.310Z"
   },
   {
    "duration": 9,
    "start_time": "2023-03-19T21:29:43.319Z"
   },
   {
    "duration": 33,
    "start_time": "2023-03-19T21:29:43.330Z"
   },
   {
    "duration": 14,
    "start_time": "2023-03-19T21:29:43.364Z"
   },
   {
    "duration": 51,
    "start_time": "2023-03-19T21:29:43.380Z"
   },
   {
    "duration": 200,
    "start_time": "2023-03-19T21:29:43.432Z"
   },
   {
    "duration": 9,
    "start_time": "2023-03-19T21:29:43.634Z"
   },
   {
    "duration": 351,
    "start_time": "2023-03-19T21:29:43.644Z"
   },
   {
    "duration": 350,
    "start_time": "2023-03-19T21:29:43.998Z"
   },
   {
    "duration": 239,
    "start_time": "2023-03-19T21:29:44.351Z"
   },
   {
    "duration": 145,
    "start_time": "2023-03-19T21:29:44.592Z"
   },
   {
    "duration": 22,
    "start_time": "2023-03-19T21:29:44.739Z"
   },
   {
    "duration": 5,
    "start_time": "2023-03-19T21:29:44.763Z"
   },
   {
    "duration": 22,
    "start_time": "2023-03-19T21:29:44.773Z"
   },
   {
    "duration": 8,
    "start_time": "2023-03-19T21:29:44.796Z"
   },
   {
    "duration": 5,
    "start_time": "2023-03-19T21:29:44.805Z"
   },
   {
    "duration": 163,
    "start_time": "2023-03-19T21:29:44.811Z"
   },
   {
    "duration": 5,
    "start_time": "2023-03-19T21:29:44.975Z"
   },
   {
    "duration": 37,
    "start_time": "2023-03-19T21:29:44.981Z"
   },
   {
    "duration": 190,
    "start_time": "2023-03-19T21:29:45.019Z"
   },
   {
    "duration": 9,
    "start_time": "2023-03-19T21:29:45.210Z"
   },
   {
    "duration": 197,
    "start_time": "2023-03-19T21:29:45.221Z"
   },
   {
    "duration": 10,
    "start_time": "2023-03-19T21:29:45.420Z"
   },
   {
    "duration": 196,
    "start_time": "2023-03-19T21:29:45.431Z"
   },
   {
    "duration": 8,
    "start_time": "2023-03-19T21:29:45.629Z"
   },
   {
    "duration": 193,
    "start_time": "2023-03-19T21:29:45.639Z"
   },
   {
    "duration": 8,
    "start_time": "2023-03-19T21:29:45.834Z"
   },
   {
    "duration": 166,
    "start_time": "2023-03-19T21:29:45.843Z"
   },
   {
    "duration": 9,
    "start_time": "2023-03-19T21:29:46.010Z"
   },
   {
    "duration": 212,
    "start_time": "2023-03-19T21:29:46.021Z"
   },
   {
    "duration": 10,
    "start_time": "2023-03-19T21:29:46.235Z"
   },
   {
    "duration": 300,
    "start_time": "2023-03-19T21:29:46.247Z"
   },
   {
    "duration": 13,
    "start_time": "2023-03-19T21:29:46.549Z"
   },
   {
    "duration": 125,
    "start_time": "2023-03-19T21:29:46.565Z"
   },
   {
    "duration": 8,
    "start_time": "2023-03-19T21:29:46.693Z"
   },
   {
    "duration": 241,
    "start_time": "2023-03-19T21:29:46.703Z"
   },
   {
    "duration": 19,
    "start_time": "2023-03-19T21:29:46.946Z"
   },
   {
    "duration": 220,
    "start_time": "2023-03-19T21:29:46.967Z"
   },
   {
    "duration": 10,
    "start_time": "2023-03-19T21:29:47.189Z"
   },
   {
    "duration": 195,
    "start_time": "2023-03-19T21:29:47.201Z"
   },
   {
    "duration": 9,
    "start_time": "2023-03-19T21:29:47.398Z"
   },
   {
    "duration": 202,
    "start_time": "2023-03-19T21:29:47.409Z"
   },
   {
    "duration": 9,
    "start_time": "2023-03-19T21:29:47.613Z"
   },
   {
    "duration": 150,
    "start_time": "2023-03-19T21:29:47.624Z"
   },
   {
    "duration": 166,
    "start_time": "2023-03-19T21:29:47.776Z"
   },
   {
    "duration": 230,
    "start_time": "2023-03-19T21:29:47.944Z"
   },
   {
    "duration": 11,
    "start_time": "2023-03-19T21:29:48.177Z"
   },
   {
    "duration": 23,
    "start_time": "2023-03-19T21:29:48.190Z"
   },
   {
    "duration": 5,
    "start_time": "2023-03-19T21:29:48.215Z"
   },
   {
    "duration": 315,
    "start_time": "2023-03-19T21:29:48.222Z"
   },
   {
    "duration": 33,
    "start_time": "2023-03-19T21:29:48.539Z"
   },
   {
    "duration": 6,
    "start_time": "2023-03-19T21:29:48.575Z"
   },
   {
    "duration": 204,
    "start_time": "2023-03-19T21:29:48.583Z"
   },
   {
    "duration": 18,
    "start_time": "2023-03-19T21:29:48.789Z"
   },
   {
    "duration": 6,
    "start_time": "2023-03-19T21:29:48.809Z"
   },
   {
    "duration": 189,
    "start_time": "2023-03-19T21:29:48.816Z"
   },
   {
    "duration": 17,
    "start_time": "2023-03-19T21:29:49.007Z"
   },
   {
    "duration": 6,
    "start_time": "2023-03-19T21:29:49.025Z"
   },
   {
    "duration": 181,
    "start_time": "2023-03-19T21:29:49.032Z"
   },
   {
    "duration": 17,
    "start_time": "2023-03-19T21:29:49.214Z"
   },
   {
    "duration": 148,
    "start_time": "2023-03-19T21:29:49.233Z"
   },
   {
    "duration": 16,
    "start_time": "2023-03-19T21:29:49.383Z"
   },
   {
    "duration": 256,
    "start_time": "2023-03-19T21:29:49.401Z"
   },
   {
    "duration": 18,
    "start_time": "2023-03-19T21:29:49.662Z"
   },
   {
    "duration": 172,
    "start_time": "2023-03-19T21:29:49.682Z"
   },
   {
    "duration": 18,
    "start_time": "2023-03-19T21:29:49.855Z"
   },
   {
    "duration": 5,
    "start_time": "2023-03-19T21:29:49.874Z"
   },
   {
    "duration": 186,
    "start_time": "2023-03-19T21:29:49.881Z"
   },
   {
    "duration": 8,
    "start_time": "2023-03-19T21:29:50.069Z"
   },
   {
    "duration": 50,
    "start_time": "2023-03-19T21:29:50.079Z"
   },
   {
    "duration": 36,
    "start_time": "2023-03-19T21:29:50.130Z"
   },
   {
    "duration": 46,
    "start_time": "2023-03-19T21:29:50.168Z"
   },
   {
    "duration": 19,
    "start_time": "2023-03-19T21:29:50.216Z"
   },
   {
    "duration": 30,
    "start_time": "2023-03-19T21:29:50.237Z"
   },
   {
    "duration": 194,
    "start_time": "2023-03-19T21:29:50.269Z"
   },
   {
    "duration": 663,
    "start_time": "2023-03-19T21:34:58.470Z"
   },
   {
    "duration": 2,
    "start_time": "2023-03-19T21:34:59.135Z"
   },
   {
    "duration": 120,
    "start_time": "2023-03-19T21:34:59.139Z"
   },
   {
    "duration": 14,
    "start_time": "2023-03-19T21:34:59.261Z"
   },
   {
    "duration": 1985,
    "start_time": "2023-03-19T21:34:59.276Z"
   },
   {
    "duration": 8,
    "start_time": "2023-03-19T21:35:01.263Z"
   },
   {
    "duration": 9,
    "start_time": "2023-03-19T21:35:01.273Z"
   },
   {
    "duration": 251,
    "start_time": "2023-03-19T21:35:01.284Z"
   },
   {
    "duration": 25,
    "start_time": "2023-03-19T21:35:01.537Z"
   },
   {
    "duration": 15,
    "start_time": "2023-03-19T21:35:01.565Z"
   },
   {
    "duration": 24,
    "start_time": "2023-03-19T21:35:01.582Z"
   },
   {
    "duration": 33,
    "start_time": "2023-03-19T21:35:01.610Z"
   },
   {
    "duration": 47,
    "start_time": "2023-03-19T21:35:01.645Z"
   },
   {
    "duration": 31,
    "start_time": "2023-03-19T21:35:01.693Z"
   },
   {
    "duration": 94,
    "start_time": "2023-03-19T21:35:01.726Z"
   },
   {
    "duration": 7,
    "start_time": "2023-03-19T21:35:01.822Z"
   },
   {
    "duration": 41,
    "start_time": "2023-03-19T21:35:01.831Z"
   },
   {
    "duration": 41,
    "start_time": "2023-03-19T21:35:01.874Z"
   },
   {
    "duration": 14,
    "start_time": "2023-03-19T21:35:01.917Z"
   },
   {
    "duration": 8,
    "start_time": "2023-03-19T21:35:01.933Z"
   },
   {
    "duration": 27,
    "start_time": "2023-03-19T21:35:01.943Z"
   },
   {
    "duration": 16,
    "start_time": "2023-03-19T21:35:01.971Z"
   },
   {
    "duration": 27,
    "start_time": "2023-03-19T21:35:01.989Z"
   },
   {
    "duration": 19,
    "start_time": "2023-03-19T21:35:02.017Z"
   },
   {
    "duration": 20,
    "start_time": "2023-03-19T21:35:02.038Z"
   },
   {
    "duration": 18,
    "start_time": "2023-03-19T21:35:02.059Z"
   },
   {
    "duration": 16,
    "start_time": "2023-03-19T21:35:02.079Z"
   },
   {
    "duration": 6,
    "start_time": "2023-03-19T21:35:02.101Z"
   },
   {
    "duration": 21,
    "start_time": "2023-03-19T21:35:02.109Z"
   },
   {
    "duration": 11,
    "start_time": "2023-03-19T21:35:02.131Z"
   },
   {
    "duration": 33,
    "start_time": "2023-03-19T21:35:02.144Z"
   },
   {
    "duration": 63,
    "start_time": "2023-03-19T21:35:02.179Z"
   },
   {
    "duration": 264,
    "start_time": "2023-03-19T21:35:02.244Z"
   },
   {
    "duration": 8,
    "start_time": "2023-03-19T21:35:02.510Z"
   },
   {
    "duration": 303,
    "start_time": "2023-03-19T21:35:02.519Z"
   },
   {
    "duration": 387,
    "start_time": "2023-03-19T21:35:02.824Z"
   },
   {
    "duration": 135,
    "start_time": "2023-03-19T21:35:03.213Z"
   },
   {
    "duration": 136,
    "start_time": "2023-03-19T21:35:03.349Z"
   },
   {
    "duration": 13,
    "start_time": "2023-03-19T21:35:03.486Z"
   },
   {
    "duration": 4,
    "start_time": "2023-03-19T21:35:03.501Z"
   },
   {
    "duration": 17,
    "start_time": "2023-03-19T21:35:03.507Z"
   },
   {
    "duration": 8,
    "start_time": "2023-03-19T21:35:03.525Z"
   },
   {
    "duration": 23,
    "start_time": "2023-03-19T21:35:03.535Z"
   },
   {
    "duration": 163,
    "start_time": "2023-03-19T21:35:03.559Z"
   },
   {
    "duration": 4,
    "start_time": "2023-03-19T21:35:03.723Z"
   },
   {
    "duration": 38,
    "start_time": "2023-03-19T21:35:03.729Z"
   },
   {
    "duration": 177,
    "start_time": "2023-03-19T21:35:03.769Z"
   },
   {
    "duration": 15,
    "start_time": "2023-03-19T21:35:03.947Z"
   },
   {
    "duration": 191,
    "start_time": "2023-03-19T21:35:03.964Z"
   },
   {
    "duration": 14,
    "start_time": "2023-03-19T21:35:04.156Z"
   },
   {
    "duration": 192,
    "start_time": "2023-03-19T21:35:04.172Z"
   },
   {
    "duration": 11,
    "start_time": "2023-03-19T21:35:04.365Z"
   },
   {
    "duration": 212,
    "start_time": "2023-03-19T21:35:04.378Z"
   },
   {
    "duration": 9,
    "start_time": "2023-03-19T21:35:04.591Z"
   },
   {
    "duration": 179,
    "start_time": "2023-03-19T21:35:04.602Z"
   },
   {
    "duration": 9,
    "start_time": "2023-03-19T21:35:04.782Z"
   },
   {
    "duration": 289,
    "start_time": "2023-03-19T21:35:04.793Z"
   },
   {
    "duration": 10,
    "start_time": "2023-03-19T21:35:05.084Z"
   },
   {
    "duration": 178,
    "start_time": "2023-03-19T21:35:05.096Z"
   },
   {
    "duration": 9,
    "start_time": "2023-03-19T21:35:05.276Z"
   },
   {
    "duration": 114,
    "start_time": "2023-03-19T21:35:05.287Z"
   },
   {
    "duration": 8,
    "start_time": "2023-03-19T21:35:05.403Z"
   },
   {
    "duration": 198,
    "start_time": "2023-03-19T21:35:05.412Z"
   },
   {
    "duration": 7,
    "start_time": "2023-03-19T21:35:05.612Z"
   },
   {
    "duration": 204,
    "start_time": "2023-03-19T21:35:05.620Z"
   },
   {
    "duration": 8,
    "start_time": "2023-03-19T21:35:05.826Z"
   },
   {
    "duration": 178,
    "start_time": "2023-03-19T21:35:05.836Z"
   },
   {
    "duration": 10,
    "start_time": "2023-03-19T21:35:06.016Z"
   },
   {
    "duration": 204,
    "start_time": "2023-03-19T21:35:06.028Z"
   },
   {
    "duration": 9,
    "start_time": "2023-03-19T21:35:06.234Z"
   },
   {
    "duration": 151,
    "start_time": "2023-03-19T21:35:06.245Z"
   },
   {
    "duration": 165,
    "start_time": "2023-03-19T21:35:06.398Z"
   },
   {
    "duration": 344,
    "start_time": "2023-03-19T21:35:06.564Z"
   },
   {
    "duration": 11,
    "start_time": "2023-03-19T21:35:06.910Z"
   },
   {
    "duration": 41,
    "start_time": "2023-03-19T21:35:06.922Z"
   },
   {
    "duration": 7,
    "start_time": "2023-03-19T21:35:06.965Z"
   },
   {
    "duration": 172,
    "start_time": "2023-03-19T21:35:06.974Z"
   },
   {
    "duration": 22,
    "start_time": "2023-03-19T21:35:07.148Z"
   },
   {
    "duration": 5,
    "start_time": "2023-03-19T21:35:07.172Z"
   },
   {
    "duration": 185,
    "start_time": "2023-03-19T21:35:07.179Z"
   },
   {
    "duration": 18,
    "start_time": "2023-03-19T21:35:07.366Z"
   },
   {
    "duration": 6,
    "start_time": "2023-03-19T21:35:07.390Z"
   },
   {
    "duration": 170,
    "start_time": "2023-03-19T21:35:07.398Z"
   },
   {
    "duration": 16,
    "start_time": "2023-03-19T21:35:07.569Z"
   },
   {
    "duration": 5,
    "start_time": "2023-03-19T21:35:07.587Z"
   },
   {
    "duration": 176,
    "start_time": "2023-03-19T21:35:07.594Z"
   },
   {
    "duration": 17,
    "start_time": "2023-03-19T21:35:07.772Z"
   },
   {
    "duration": 141,
    "start_time": "2023-03-19T21:35:07.791Z"
   },
   {
    "duration": 28,
    "start_time": "2023-03-19T21:35:07.934Z"
   },
   {
    "duration": 164,
    "start_time": "2023-03-19T21:35:07.963Z"
   },
   {
    "duration": 17,
    "start_time": "2023-03-19T21:35:08.129Z"
   },
   {
    "duration": 160,
    "start_time": "2023-03-19T21:35:08.162Z"
   },
   {
    "duration": 15,
    "start_time": "2023-03-19T21:35:08.324Z"
   },
   {
    "duration": 24,
    "start_time": "2023-03-19T21:35:08.341Z"
   },
   {
    "duration": 166,
    "start_time": "2023-03-19T21:35:08.367Z"
   },
   {
    "duration": 9,
    "start_time": "2023-03-19T21:35:08.536Z"
   },
   {
    "duration": 67,
    "start_time": "2023-03-19T21:35:08.547Z"
   },
   {
    "duration": 16,
    "start_time": "2023-03-19T21:35:08.616Z"
   },
   {
    "duration": 58,
    "start_time": "2023-03-19T21:35:08.634Z"
   },
   {
    "duration": 18,
    "start_time": "2023-03-19T21:35:08.694Z"
   },
   {
    "duration": 7,
    "start_time": "2023-03-19T21:35:08.713Z"
   },
   {
    "duration": 167,
    "start_time": "2023-03-19T21:35:08.721Z"
   },
   {
    "duration": 50,
    "start_time": "2023-03-20T21:31:19.243Z"
   },
   {
    "duration": 833,
    "start_time": "2023-03-20T21:31:28.587Z"
   },
   {
    "duration": 4,
    "start_time": "2023-03-20T21:31:29.422Z"
   },
   {
    "duration": 205,
    "start_time": "2023-03-20T21:31:29.427Z"
   },
   {
    "duration": 23,
    "start_time": "2023-03-20T21:31:29.636Z"
   },
   {
    "duration": 2337,
    "start_time": "2023-03-20T21:31:29.661Z"
   },
   {
    "duration": 11,
    "start_time": "2023-03-20T21:31:32.000Z"
   },
   {
    "duration": 18,
    "start_time": "2023-03-20T21:31:32.012Z"
   },
   {
    "duration": 241,
    "start_time": "2023-03-20T21:31:32.032Z"
   },
   {
    "duration": 22,
    "start_time": "2023-03-20T21:31:32.275Z"
   },
   {
    "duration": 14,
    "start_time": "2023-03-20T21:31:32.301Z"
   },
   {
    "duration": 6,
    "start_time": "2023-03-20T21:31:32.317Z"
   },
   {
    "duration": 12,
    "start_time": "2023-03-20T21:31:32.325Z"
   },
   {
    "duration": 58,
    "start_time": "2023-03-20T21:31:32.338Z"
   },
   {
    "duration": 14,
    "start_time": "2023-03-20T21:31:32.398Z"
   },
   {
    "duration": 81,
    "start_time": "2023-03-20T21:31:32.414Z"
   },
   {
    "duration": 7,
    "start_time": "2023-03-20T21:31:32.497Z"
   },
   {
    "duration": 7,
    "start_time": "2023-03-20T21:31:32.506Z"
   },
   {
    "duration": 17,
    "start_time": "2023-03-20T21:31:32.515Z"
   },
   {
    "duration": 7,
    "start_time": "2023-03-20T21:31:32.534Z"
   },
   {
    "duration": 20,
    "start_time": "2023-03-20T21:31:32.543Z"
   },
   {
    "duration": 28,
    "start_time": "2023-03-20T21:31:32.565Z"
   },
   {
    "duration": 14,
    "start_time": "2023-03-20T21:31:32.596Z"
   },
   {
    "duration": 7,
    "start_time": "2023-03-20T21:31:32.612Z"
   },
   {
    "duration": 4,
    "start_time": "2023-03-20T21:31:32.622Z"
   },
   {
    "duration": 12,
    "start_time": "2023-03-20T21:31:32.627Z"
   },
   {
    "duration": 4,
    "start_time": "2023-03-20T21:31:32.641Z"
   },
   {
    "duration": 9,
    "start_time": "2023-03-20T21:31:32.647Z"
   },
   {
    "duration": 7,
    "start_time": "2023-03-20T21:31:32.690Z"
   },
   {
    "duration": 12,
    "start_time": "2023-03-20T21:31:32.699Z"
   },
   {
    "duration": 5,
    "start_time": "2023-03-20T21:31:32.713Z"
   },
   {
    "duration": 18,
    "start_time": "2023-03-20T21:31:32.720Z"
   },
   {
    "duration": 78,
    "start_time": "2023-03-20T21:31:32.741Z"
   },
   {
    "duration": 242,
    "start_time": "2023-03-20T21:31:32.820Z"
   },
   {
    "duration": 10,
    "start_time": "2023-03-20T21:31:33.064Z"
   },
   {
    "duration": 343,
    "start_time": "2023-03-20T21:31:33.076Z"
   },
   {
    "duration": 426,
    "start_time": "2023-03-20T21:31:33.421Z"
   },
   {
    "duration": 186,
    "start_time": "2023-03-20T21:31:33.849Z"
   },
   {
    "duration": 142,
    "start_time": "2023-03-20T21:31:34.036Z"
   },
   {
    "duration": 19,
    "start_time": "2023-03-20T21:31:34.180Z"
   },
   {
    "duration": 4,
    "start_time": "2023-03-20T21:31:34.201Z"
   },
   {
    "duration": 7,
    "start_time": "2023-03-20T21:31:34.207Z"
   },
   {
    "duration": 6,
    "start_time": "2023-03-20T21:31:34.216Z"
   },
   {
    "duration": 5,
    "start_time": "2023-03-20T21:31:34.224Z"
   },
   {
    "duration": 240,
    "start_time": "2023-03-20T21:31:34.232Z"
   },
   {
    "duration": 6,
    "start_time": "2023-03-20T21:31:34.474Z"
   },
   {
    "duration": 50,
    "start_time": "2023-03-20T21:31:34.490Z"
   },
   {
    "duration": 241,
    "start_time": "2023-03-20T21:31:34.542Z"
   },
   {
    "duration": 12,
    "start_time": "2023-03-20T21:31:34.785Z"
   },
   {
    "duration": 230,
    "start_time": "2023-03-20T21:31:34.798Z"
   },
   {
    "duration": 11,
    "start_time": "2023-03-20T21:31:35.031Z"
   },
   {
    "duration": 244,
    "start_time": "2023-03-20T21:31:35.045Z"
   },
   {
    "duration": 10,
    "start_time": "2023-03-20T21:31:35.294Z"
   },
   {
    "duration": 209,
    "start_time": "2023-03-20T21:31:35.306Z"
   },
   {
    "duration": 10,
    "start_time": "2023-03-20T21:31:35.518Z"
   },
   {
    "duration": 238,
    "start_time": "2023-03-20T21:31:35.530Z"
   },
   {
    "duration": 10,
    "start_time": "2023-03-20T21:31:35.770Z"
   },
   {
    "duration": 253,
    "start_time": "2023-03-20T21:31:35.794Z"
   },
   {
    "duration": 9,
    "start_time": "2023-03-20T21:31:36.049Z"
   },
   {
    "duration": 215,
    "start_time": "2023-03-20T21:31:36.060Z"
   },
   {
    "duration": 14,
    "start_time": "2023-03-20T21:31:36.277Z"
   },
   {
    "duration": 126,
    "start_time": "2023-03-20T21:31:36.292Z"
   },
   {
    "duration": 9,
    "start_time": "2023-03-20T21:31:36.421Z"
   },
   {
    "duration": 236,
    "start_time": "2023-03-20T21:31:36.432Z"
   },
   {
    "duration": 8,
    "start_time": "2023-03-20T21:31:36.672Z"
   },
   {
    "duration": 212,
    "start_time": "2023-03-20T21:31:36.681Z"
   },
   {
    "duration": 10,
    "start_time": "2023-03-20T21:31:36.895Z"
   },
   {
    "duration": 184,
    "start_time": "2023-03-20T21:31:36.908Z"
   },
   {
    "duration": 12,
    "start_time": "2023-03-20T21:31:37.095Z"
   },
   {
    "duration": 186,
    "start_time": "2023-03-20T21:31:37.109Z"
   },
   {
    "duration": 11,
    "start_time": "2023-03-20T21:31:37.297Z"
   },
   {
    "duration": 174,
    "start_time": "2023-03-20T21:31:37.310Z"
   },
   {
    "duration": 147,
    "start_time": "2023-03-20T21:31:37.489Z"
   },
   {
    "duration": 314,
    "start_time": "2023-03-20T21:31:37.638Z"
   },
   {
    "duration": 8,
    "start_time": "2023-03-20T21:31:37.954Z"
   },
   {
    "duration": 33,
    "start_time": "2023-03-20T21:31:37.963Z"
   },
   {
    "duration": 6,
    "start_time": "2023-03-20T21:31:37.998Z"
   },
   {
    "duration": 158,
    "start_time": "2023-03-20T21:31:38.006Z"
   },
   {
    "duration": 32,
    "start_time": "2023-03-20T21:31:38.167Z"
   },
   {
    "duration": 6,
    "start_time": "2023-03-20T21:31:38.202Z"
   },
   {
    "duration": 152,
    "start_time": "2023-03-20T21:31:38.209Z"
   },
   {
    "duration": 31,
    "start_time": "2023-03-20T21:31:38.363Z"
   },
   {
    "duration": 8,
    "start_time": "2023-03-20T21:31:38.404Z"
   },
   {
    "duration": 165,
    "start_time": "2023-03-20T21:31:38.413Z"
   },
   {
    "duration": 27,
    "start_time": "2023-03-20T21:31:38.580Z"
   },
   {
    "duration": 6,
    "start_time": "2023-03-20T21:31:38.612Z"
   },
   {
    "duration": 195,
    "start_time": "2023-03-20T21:31:38.620Z"
   },
   {
    "duration": 22,
    "start_time": "2023-03-20T21:31:38.817Z"
   },
   {
    "duration": 186,
    "start_time": "2023-03-20T21:31:38.842Z"
   },
   {
    "duration": 20,
    "start_time": "2023-03-20T21:31:39.031Z"
   },
   {
    "duration": 170,
    "start_time": "2023-03-20T21:31:39.053Z"
   },
   {
    "duration": 18,
    "start_time": "2023-03-20T21:31:39.225Z"
   },
   {
    "duration": 176,
    "start_time": "2023-03-20T21:31:39.245Z"
   },
   {
    "duration": 17,
    "start_time": "2023-03-20T21:31:39.423Z"
   },
   {
    "duration": 7,
    "start_time": "2023-03-20T21:31:39.442Z"
   },
   {
    "duration": 179,
    "start_time": "2023-03-20T21:31:39.451Z"
   },
   {
    "duration": 12,
    "start_time": "2023-03-20T21:31:39.632Z"
   },
   {
    "duration": 82,
    "start_time": "2023-03-20T21:31:39.647Z"
   },
   {
    "duration": 22,
    "start_time": "2023-03-20T21:31:39.732Z"
   },
   {
    "duration": 82,
    "start_time": "2023-03-20T21:31:39.757Z"
   },
   {
    "duration": 25,
    "start_time": "2023-03-20T21:31:39.841Z"
   },
   {
    "duration": 21,
    "start_time": "2023-03-20T21:31:39.869Z"
   },
   {
    "duration": 165,
    "start_time": "2023-03-20T21:31:39.892Z"
   },
   {
    "duration": 105,
    "start_time": "2023-03-20T21:45:15.218Z"
   },
   {
    "duration": 10,
    "start_time": "2023-03-20T21:47:07.635Z"
   },
   {
    "duration": 10,
    "start_time": "2023-03-20T21:47:33.266Z"
   },
   {
    "duration": 4,
    "start_time": "2023-03-20T21:47:34.014Z"
   },
   {
    "duration": 9,
    "start_time": "2023-03-20T21:47:42.664Z"
   },
   {
    "duration": 4,
    "start_time": "2023-03-20T21:47:43.492Z"
   },
   {
    "duration": 11,
    "start_time": "2023-03-20T21:47:46.294Z"
   },
   {
    "duration": 4,
    "start_time": "2023-03-20T21:47:47.102Z"
   },
   {
    "duration": 13,
    "start_time": "2023-03-20T21:49:19.606Z"
   },
   {
    "duration": 4,
    "start_time": "2023-03-20T21:49:20.413Z"
   },
   {
    "duration": 9,
    "start_time": "2023-03-20T21:49:40.452Z"
   },
   {
    "duration": 4,
    "start_time": "2023-03-20T21:49:42.474Z"
   },
   {
    "duration": 10,
    "start_time": "2023-03-20T21:50:38.996Z"
   },
   {
    "duration": 10,
    "start_time": "2023-03-20T23:09:00.718Z"
   },
   {
    "duration": 9,
    "start_time": "2023-03-20T23:09:15.073Z"
   },
   {
    "duration": 59,
    "start_time": "2023-03-20T23:11:03.696Z"
   },
   {
    "duration": 11,
    "start_time": "2023-03-20T23:11:15.454Z"
   },
   {
    "duration": 12,
    "start_time": "2023-03-20T23:11:47.859Z"
   },
   {
    "duration": 4,
    "start_time": "2023-03-20T23:11:49.983Z"
   },
   {
    "duration": 5,
    "start_time": "2023-03-20T23:11:54.204Z"
   },
   {
    "duration": 4,
    "start_time": "2023-03-20T23:12:32.030Z"
   },
   {
    "duration": 4,
    "start_time": "2023-03-20T23:12:37.167Z"
   },
   {
    "duration": 258,
    "start_time": "2023-03-20T23:14:06.632Z"
   },
   {
    "duration": 344,
    "start_time": "2023-03-20T23:14:11.973Z"
   },
   {
    "duration": 256,
    "start_time": "2023-03-20T23:14:15.646Z"
   },
   {
    "duration": 377,
    "start_time": "2023-03-20T23:14:22.644Z"
   },
   {
    "duration": 9,
    "start_time": "2023-03-20T23:19:19.618Z"
   },
   {
    "duration": 8,
    "start_time": "2023-03-20T23:20:07.514Z"
   },
   {
    "duration": 372,
    "start_time": "2023-03-20T23:23:37.559Z"
   },
   {
    "duration": 465,
    "start_time": "2023-03-20T23:23:58.651Z"
   },
   {
    "duration": 8,
    "start_time": "2023-03-20T23:25:12.158Z"
   },
   {
    "duration": 361,
    "start_time": "2023-03-20T23:25:14.540Z"
   },
   {
    "duration": 243,
    "start_time": "2023-03-20T23:26:06.727Z"
   },
   {
    "duration": 371,
    "start_time": "2023-03-20T23:30:06.200Z"
   },
   {
    "duration": 671,
    "start_time": "2023-03-20T23:30:21.351Z"
   },
   {
    "duration": 3,
    "start_time": "2023-03-20T23:30:22.025Z"
   },
   {
    "duration": 128,
    "start_time": "2023-03-20T23:30:22.030Z"
   },
   {
    "duration": 16,
    "start_time": "2023-03-20T23:30:22.160Z"
   },
   {
    "duration": 1968,
    "start_time": "2023-03-20T23:30:22.178Z"
   },
   {
    "duration": 10,
    "start_time": "2023-03-20T23:30:24.147Z"
   },
   {
    "duration": 5,
    "start_time": "2023-03-20T23:30:24.159Z"
   },
   {
    "duration": 235,
    "start_time": "2023-03-20T23:30:24.165Z"
   },
   {
    "duration": 14,
    "start_time": "2023-03-20T23:30:24.402Z"
   },
   {
    "duration": 12,
    "start_time": "2023-03-20T23:30:24.418Z"
   },
   {
    "duration": 5,
    "start_time": "2023-03-20T23:30:24.432Z"
   },
   {
    "duration": 9,
    "start_time": "2023-03-20T23:30:24.439Z"
   },
   {
    "duration": 50,
    "start_time": "2023-03-20T23:30:24.450Z"
   },
   {
    "duration": 10,
    "start_time": "2023-03-20T23:30:24.502Z"
   },
   {
    "duration": 75,
    "start_time": "2023-03-20T23:30:24.514Z"
   },
   {
    "duration": 8,
    "start_time": "2023-03-20T23:30:24.591Z"
   },
   {
    "duration": 28,
    "start_time": "2023-03-20T23:30:24.601Z"
   },
   {
    "duration": 21,
    "start_time": "2023-03-20T23:30:24.630Z"
   },
   {
    "duration": 11,
    "start_time": "2023-03-20T23:30:24.653Z"
   },
   {
    "duration": 4,
    "start_time": "2023-03-20T23:30:24.666Z"
   },
   {
    "duration": 24,
    "start_time": "2023-03-20T23:30:24.672Z"
   },
   {
    "duration": 19,
    "start_time": "2023-03-20T23:30:24.699Z"
   },
   {
    "duration": 12,
    "start_time": "2023-03-20T23:30:24.720Z"
   },
   {
    "duration": 6,
    "start_time": "2023-03-20T23:30:24.734Z"
   },
   {
    "duration": 26,
    "start_time": "2023-03-20T23:30:24.743Z"
   },
   {
    "duration": 4,
    "start_time": "2023-03-20T23:30:24.771Z"
   },
   {
    "duration": 18,
    "start_time": "2023-03-20T23:30:24.777Z"
   },
   {
    "duration": 5,
    "start_time": "2023-03-20T23:30:24.800Z"
   },
   {
    "duration": 400,
    "start_time": "2023-03-20T23:30:24.807Z"
   },
   {
    "duration": 9,
    "start_time": "2023-03-20T23:30:25.210Z"
   },
   {
    "duration": 31,
    "start_time": "2023-03-20T23:30:25.220Z"
   },
   {
    "duration": 10,
    "start_time": "2023-03-20T23:30:25.254Z"
   },
   {
    "duration": 19,
    "start_time": "2023-03-20T23:30:25.266Z"
   },
   {
    "duration": 52,
    "start_time": "2023-03-20T23:30:25.286Z"
   },
   {
    "duration": 224,
    "start_time": "2023-03-20T23:30:25.340Z"
   },
   {
    "duration": 8,
    "start_time": "2023-03-20T23:30:25.566Z"
   },
   {
    "duration": 378,
    "start_time": "2023-03-20T23:30:25.575Z"
   },
   {
    "duration": 293,
    "start_time": "2023-03-20T23:30:25.955Z"
   },
   {
    "duration": 140,
    "start_time": "2023-03-20T23:30:26.249Z"
   },
   {
    "duration": 139,
    "start_time": "2023-03-20T23:30:26.391Z"
   },
   {
    "duration": 15,
    "start_time": "2023-03-20T23:30:26.531Z"
   },
   {
    "duration": 9,
    "start_time": "2023-03-20T23:30:26.547Z"
   },
   {
    "duration": 16,
    "start_time": "2023-03-20T23:30:26.558Z"
   },
   {
    "duration": 12,
    "start_time": "2023-03-20T23:30:26.576Z"
   },
   {
    "duration": 7,
    "start_time": "2023-03-20T23:30:26.590Z"
   },
   {
    "duration": 291,
    "start_time": "2023-03-20T23:30:26.599Z"
   },
   {
    "duration": 4,
    "start_time": "2023-03-20T23:30:26.892Z"
   },
   {
    "duration": 29,
    "start_time": "2023-03-20T23:30:26.898Z"
   },
   {
    "duration": 173,
    "start_time": "2023-03-20T23:30:26.929Z"
   },
   {
    "duration": 11,
    "start_time": "2023-03-20T23:30:27.103Z"
   },
   {
    "duration": 189,
    "start_time": "2023-03-20T23:30:27.116Z"
   },
   {
    "duration": 10,
    "start_time": "2023-03-20T23:30:27.306Z"
   },
   {
    "duration": 250,
    "start_time": "2023-03-20T23:30:27.317Z"
   },
   {
    "duration": 19,
    "start_time": "2023-03-20T23:30:27.569Z"
   },
   {
    "duration": 170,
    "start_time": "2023-03-20T23:30:27.590Z"
   },
   {
    "duration": 9,
    "start_time": "2023-03-20T23:30:27.761Z"
   },
   {
    "duration": 156,
    "start_time": "2023-03-20T23:30:27.771Z"
   },
   {
    "duration": 8,
    "start_time": "2023-03-20T23:30:27.929Z"
   },
   {
    "duration": 189,
    "start_time": "2023-03-20T23:30:27.939Z"
   },
   {
    "duration": 11,
    "start_time": "2023-03-20T23:30:28.129Z"
   },
   {
    "duration": 184,
    "start_time": "2023-03-20T23:30:28.142Z"
   },
   {
    "duration": 10,
    "start_time": "2023-03-20T23:30:28.327Z"
   },
   {
    "duration": 131,
    "start_time": "2023-03-20T23:30:28.338Z"
   },
   {
    "duration": 19,
    "start_time": "2023-03-20T23:30:28.470Z"
   },
   {
    "duration": 202,
    "start_time": "2023-03-20T23:30:28.490Z"
   },
   {
    "duration": 10,
    "start_time": "2023-03-20T23:30:28.693Z"
   },
   {
    "duration": 218,
    "start_time": "2023-03-20T23:30:28.705Z"
   },
   {
    "duration": 10,
    "start_time": "2023-03-20T23:30:28.925Z"
   },
   {
    "duration": 136,
    "start_time": "2023-03-20T23:30:28.936Z"
   },
   {
    "duration": 17,
    "start_time": "2023-03-20T23:30:29.074Z"
   },
   {
    "duration": 284,
    "start_time": "2023-03-20T23:30:29.093Z"
   },
   {
    "duration": 16,
    "start_time": "2023-03-20T23:30:29.379Z"
   },
   {
    "duration": 143,
    "start_time": "2023-03-20T23:30:29.397Z"
   },
   {
    "duration": 170,
    "start_time": "2023-03-20T23:30:29.542Z"
   },
   {
    "duration": 215,
    "start_time": "2023-03-20T23:30:29.714Z"
   },
   {
    "duration": 9,
    "start_time": "2023-03-20T23:30:29.931Z"
   },
   {
    "duration": 19,
    "start_time": "2023-03-20T23:30:29.942Z"
   },
   {
    "duration": 28,
    "start_time": "2023-03-20T23:30:29.963Z"
   },
   {
    "duration": 133,
    "start_time": "2023-03-20T23:30:29.992Z"
   },
   {
    "duration": 17,
    "start_time": "2023-03-20T23:30:30.126Z"
   },
   {
    "duration": 6,
    "start_time": "2023-03-20T23:30:30.144Z"
   },
   {
    "duration": 151,
    "start_time": "2023-03-20T23:30:30.156Z"
   },
   {
    "duration": 16,
    "start_time": "2023-03-20T23:30:30.309Z"
   },
   {
    "duration": 25,
    "start_time": "2023-03-20T23:30:30.326Z"
   },
   {
    "duration": 143,
    "start_time": "2023-03-20T23:30:30.352Z"
   },
   {
    "duration": 15,
    "start_time": "2023-03-20T23:30:30.496Z"
   },
   {
    "duration": 5,
    "start_time": "2023-03-20T23:30:30.512Z"
   },
   {
    "duration": 160,
    "start_time": "2023-03-20T23:30:30.519Z"
   },
   {
    "duration": 20,
    "start_time": "2023-03-20T23:30:30.681Z"
   },
   {
    "duration": 119,
    "start_time": "2023-03-20T23:30:30.702Z"
   },
   {
    "duration": 14,
    "start_time": "2023-03-20T23:30:30.822Z"
   },
   {
    "duration": 160,
    "start_time": "2023-03-20T23:30:30.838Z"
   },
   {
    "duration": 14,
    "start_time": "2023-03-20T23:30:31.000Z"
   },
   {
    "duration": 181,
    "start_time": "2023-03-20T23:30:31.015Z"
   },
   {
    "duration": 14,
    "start_time": "2023-03-20T23:30:31.198Z"
   },
   {
    "duration": 46,
    "start_time": "2023-03-20T23:30:31.213Z"
   },
   {
    "duration": 196,
    "start_time": "2023-03-20T23:30:31.260Z"
   },
   {
    "duration": 8,
    "start_time": "2023-03-20T23:30:31.457Z"
   },
   {
    "duration": 66,
    "start_time": "2023-03-20T23:30:31.467Z"
   },
   {
    "duration": 14,
    "start_time": "2023-03-20T23:30:31.535Z"
   },
   {
    "duration": 87,
    "start_time": "2023-03-20T23:30:31.551Z"
   },
   {
    "duration": 34,
    "start_time": "2023-03-20T23:30:31.640Z"
   },
   {
    "duration": 29,
    "start_time": "2023-03-20T23:30:31.675Z"
   },
   {
    "duration": 155,
    "start_time": "2023-03-20T23:30:31.706Z"
   },
   {
    "duration": 12,
    "start_time": "2023-03-21T00:02:49.651Z"
   },
   {
    "duration": 4,
    "start_time": "2023-03-21T00:03:01.420Z"
   },
   {
    "duration": 179,
    "start_time": "2023-03-21T00:08:56.288Z"
   },
   {
    "duration": 14,
    "start_time": "2023-03-21T00:10:31.257Z"
   },
   {
    "duration": 5,
    "start_time": "2023-03-21T00:10:51.852Z"
   },
   {
    "duration": 14,
    "start_time": "2023-03-21T00:11:34.443Z"
   },
   {
    "duration": 5,
    "start_time": "2023-03-21T00:11:35.376Z"
   },
   {
    "duration": 12,
    "start_time": "2023-03-21T00:11:58.516Z"
   },
   {
    "duration": 5,
    "start_time": "2023-03-21T00:11:59.064Z"
   },
   {
    "duration": 23,
    "start_time": "2023-03-21T00:13:49.842Z"
   },
   {
    "duration": 20,
    "start_time": "2023-03-21T00:14:21.698Z"
   },
   {
    "duration": 7,
    "start_time": "2023-03-21T00:14:23.640Z"
   },
   {
    "duration": 12,
    "start_time": "2023-03-21T00:15:54.508Z"
   },
   {
    "duration": 6,
    "start_time": "2023-03-21T00:15:55.127Z"
   },
   {
    "duration": 77,
    "start_time": "2023-03-21T00:56:09.663Z"
   },
   {
    "duration": 15,
    "start_time": "2023-03-21T00:56:14.277Z"
   },
   {
    "duration": 6,
    "start_time": "2023-03-21T00:56:31.457Z"
   },
   {
    "duration": 705,
    "start_time": "2023-03-21T00:56:49.209Z"
   },
   {
    "duration": 3,
    "start_time": "2023-03-21T00:56:49.916Z"
   },
   {
    "duration": 128,
    "start_time": "2023-03-21T00:56:49.920Z"
   },
   {
    "duration": 14,
    "start_time": "2023-03-21T00:56:50.050Z"
   },
   {
    "duration": 1837,
    "start_time": "2023-03-21T00:56:50.065Z"
   },
   {
    "duration": 10,
    "start_time": "2023-03-21T00:56:51.903Z"
   },
   {
    "duration": 4,
    "start_time": "2023-03-21T00:56:51.914Z"
   },
   {
    "duration": 224,
    "start_time": "2023-03-21T00:56:51.920Z"
   },
   {
    "duration": 13,
    "start_time": "2023-03-21T00:56:52.145Z"
   },
   {
    "duration": 28,
    "start_time": "2023-03-21T00:56:52.161Z"
   },
   {
    "duration": 5,
    "start_time": "2023-03-21T00:56:52.191Z"
   },
   {
    "duration": 11,
    "start_time": "2023-03-21T00:56:52.197Z"
   },
   {
    "duration": 5,
    "start_time": "2023-03-21T00:56:52.210Z"
   },
   {
    "duration": 25,
    "start_time": "2023-03-21T00:56:52.216Z"
   },
   {
    "duration": 10,
    "start_time": "2023-03-21T00:56:52.242Z"
   },
   {
    "duration": 69,
    "start_time": "2023-03-21T00:56:52.289Z"
   },
   {
    "duration": 6,
    "start_time": "2023-03-21T00:56:52.360Z"
   },
   {
    "duration": 21,
    "start_time": "2023-03-21T00:56:52.368Z"
   },
   {
    "duration": 19,
    "start_time": "2023-03-21T00:56:52.391Z"
   },
   {
    "duration": 8,
    "start_time": "2023-03-21T00:56:52.411Z"
   },
   {
    "duration": 11,
    "start_time": "2023-03-21T00:56:52.421Z"
   },
   {
    "duration": 26,
    "start_time": "2023-03-21T00:56:52.433Z"
   },
   {
    "duration": 3,
    "start_time": "2023-03-21T00:56:52.460Z"
   },
   {
    "duration": 15,
    "start_time": "2023-03-21T00:56:52.465Z"
   },
   {
    "duration": 12,
    "start_time": "2023-03-21T00:56:52.481Z"
   },
   {
    "duration": 28,
    "start_time": "2023-03-21T00:56:52.494Z"
   },
   {
    "duration": 3,
    "start_time": "2023-03-21T00:56:52.524Z"
   },
   {
    "duration": 10,
    "start_time": "2023-03-21T00:56:52.531Z"
   },
   {
    "duration": 3,
    "start_time": "2023-03-21T00:56:52.542Z"
   },
   {
    "duration": 378,
    "start_time": "2023-03-21T00:56:52.547Z"
   },
   {
    "duration": 7,
    "start_time": "2023-03-21T00:56:52.927Z"
   },
   {
    "duration": 9,
    "start_time": "2023-03-21T00:56:52.935Z"
   },
   {
    "duration": 4,
    "start_time": "2023-03-21T00:56:52.945Z"
   },
   {
    "duration": 39,
    "start_time": "2023-03-21T00:56:52.950Z"
   },
   {
    "duration": 47,
    "start_time": "2023-03-21T00:56:52.991Z"
   },
   {
    "duration": 266,
    "start_time": "2023-03-21T00:56:53.040Z"
   },
   {
    "duration": 7,
    "start_time": "2023-03-21T00:56:53.308Z"
   },
   {
    "duration": 392,
    "start_time": "2023-03-21T00:56:53.317Z"
   },
   {
    "duration": 284,
    "start_time": "2023-03-21T00:56:53.711Z"
   },
   {
    "duration": 134,
    "start_time": "2023-03-21T00:56:53.997Z"
   },
   {
    "duration": 135,
    "start_time": "2023-03-21T00:56:54.132Z"
   },
   {
    "duration": 26,
    "start_time": "2023-03-21T00:56:54.269Z"
   },
   {
    "duration": 4,
    "start_time": "2023-03-21T00:56:54.296Z"
   },
   {
    "duration": 7,
    "start_time": "2023-03-21T00:56:54.302Z"
   },
   {
    "duration": 5,
    "start_time": "2023-03-21T00:56:54.310Z"
   },
   {
    "duration": 5,
    "start_time": "2023-03-21T00:56:54.316Z"
   },
   {
    "duration": 319,
    "start_time": "2023-03-21T00:56:54.323Z"
   },
   {
    "duration": 4,
    "start_time": "2023-03-21T00:56:54.644Z"
   },
   {
    "duration": 43,
    "start_time": "2023-03-21T00:56:54.649Z"
   },
   {
    "duration": 185,
    "start_time": "2023-03-21T00:56:54.694Z"
   },
   {
    "duration": 13,
    "start_time": "2023-03-21T00:56:54.881Z"
   },
   {
    "duration": 183,
    "start_time": "2023-03-21T00:56:54.896Z"
   },
   {
    "duration": 12,
    "start_time": "2023-03-21T00:56:55.081Z"
   },
   {
    "duration": 250,
    "start_time": "2023-03-21T00:56:55.095Z"
   },
   {
    "duration": 9,
    "start_time": "2023-03-21T00:56:55.347Z"
   },
   {
    "duration": 191,
    "start_time": "2023-03-21T00:56:55.358Z"
   },
   {
    "duration": 9,
    "start_time": "2023-03-21T00:56:55.550Z"
   },
   {
    "duration": 167,
    "start_time": "2023-03-21T00:56:55.561Z"
   },
   {
    "duration": 8,
    "start_time": "2023-03-21T00:56:55.730Z"
   },
   {
    "duration": 189,
    "start_time": "2023-03-21T00:56:55.740Z"
   },
   {
    "duration": 9,
    "start_time": "2023-03-21T00:56:55.931Z"
   },
   {
    "duration": 167,
    "start_time": "2023-03-21T00:56:55.941Z"
   },
   {
    "duration": 9,
    "start_time": "2023-03-21T00:56:56.109Z"
   },
   {
    "duration": 122,
    "start_time": "2023-03-21T00:56:56.119Z"
   },
   {
    "duration": 7,
    "start_time": "2023-03-21T00:56:56.242Z"
   },
   {
    "duration": 189,
    "start_time": "2023-03-21T00:56:56.251Z"
   },
   {
    "duration": 6,
    "start_time": "2023-03-21T00:56:56.442Z"
   },
   {
    "duration": 196,
    "start_time": "2023-03-21T00:56:56.449Z"
   },
   {
    "duration": 9,
    "start_time": "2023-03-21T00:56:56.647Z"
   },
   {
    "duration": 143,
    "start_time": "2023-03-21T00:56:56.658Z"
   },
   {
    "duration": 9,
    "start_time": "2023-03-21T00:56:56.802Z"
   },
   {
    "duration": 274,
    "start_time": "2023-03-21T00:56:56.813Z"
   },
   {
    "duration": 10,
    "start_time": "2023-03-21T00:56:57.088Z"
   },
   {
    "duration": 141,
    "start_time": "2023-03-21T00:56:57.100Z"
   },
   {
    "duration": 126,
    "start_time": "2023-03-21T00:56:57.242Z"
   },
   {
    "duration": 202,
    "start_time": "2023-03-21T00:56:57.369Z"
   },
   {
    "duration": 21,
    "start_time": "2023-03-21T00:56:57.572Z"
   },
   {
    "duration": 18,
    "start_time": "2023-03-21T00:56:57.594Z"
   },
   {
    "duration": 5,
    "start_time": "2023-03-21T00:56:57.614Z"
   },
   {
    "duration": 143,
    "start_time": "2023-03-21T00:56:57.621Z"
   },
   {
    "duration": 24,
    "start_time": "2023-03-21T00:56:57.766Z"
   },
   {
    "duration": 4,
    "start_time": "2023-03-21T00:56:57.795Z"
   },
   {
    "duration": 151,
    "start_time": "2023-03-21T00:56:57.801Z"
   },
   {
    "duration": 17,
    "start_time": "2023-03-21T00:56:57.954Z"
   },
   {
    "duration": 19,
    "start_time": "2023-03-21T00:56:57.973Z"
   },
   {
    "duration": 149,
    "start_time": "2023-03-21T00:56:57.993Z"
   },
   {
    "duration": 14,
    "start_time": "2023-03-21T00:56:58.144Z"
   },
   {
    "duration": 5,
    "start_time": "2023-03-21T00:56:58.160Z"
   },
   {
    "duration": 156,
    "start_time": "2023-03-21T00:56:58.166Z"
   },
   {
    "duration": 14,
    "start_time": "2023-03-21T00:56:58.324Z"
   },
   {
    "duration": 116,
    "start_time": "2023-03-21T00:56:58.340Z"
   },
   {
    "duration": 14,
    "start_time": "2023-03-21T00:56:58.458Z"
   },
   {
    "duration": 152,
    "start_time": "2023-03-21T00:56:58.474Z"
   },
   {
    "duration": 15,
    "start_time": "2023-03-21T00:56:58.627Z"
   },
   {
    "duration": 161,
    "start_time": "2023-03-21T00:56:58.644Z"
   },
   {
    "duration": 14,
    "start_time": "2023-03-21T00:56:58.806Z"
   },
   {
    "duration": 4,
    "start_time": "2023-03-21T00:56:58.821Z"
   },
   {
    "duration": 163,
    "start_time": "2023-03-21T00:56:58.827Z"
   },
   {
    "duration": 8,
    "start_time": "2023-03-21T00:56:58.991Z"
   },
   {
    "duration": 42,
    "start_time": "2023-03-21T00:56:59.001Z"
   },
   {
    "duration": 14,
    "start_time": "2023-03-21T00:56:59.045Z"
   },
   {
    "duration": 64,
    "start_time": "2023-03-21T00:56:59.061Z"
   },
   {
    "duration": 16,
    "start_time": "2023-03-21T00:56:59.127Z"
   },
   {
    "duration": 4,
    "start_time": "2023-03-21T00:56:59.145Z"
   },
   {
    "duration": 169,
    "start_time": "2023-03-21T00:56:59.151Z"
   },
   {
    "duration": 179,
    "start_time": "2023-03-21T01:00:45.721Z"
   },
   {
    "duration": 13,
    "start_time": "2023-03-21T01:01:15.119Z"
   },
   {
    "duration": 5,
    "start_time": "2023-03-21T01:01:17.193Z"
   },
   {
    "duration": 681,
    "start_time": "2023-03-21T01:02:18.968Z"
   },
   {
    "duration": 3,
    "start_time": "2023-03-21T01:02:19.652Z"
   },
   {
    "duration": 122,
    "start_time": "2023-03-21T01:02:19.657Z"
   },
   {
    "duration": 19,
    "start_time": "2023-03-21T01:02:19.781Z"
   },
   {
    "duration": 1816,
    "start_time": "2023-03-21T01:02:19.802Z"
   },
   {
    "duration": 10,
    "start_time": "2023-03-21T01:02:21.620Z"
   },
   {
    "duration": 24,
    "start_time": "2023-03-21T01:02:21.632Z"
   },
   {
    "duration": 254,
    "start_time": "2023-03-21T01:02:21.658Z"
   },
   {
    "duration": 15,
    "start_time": "2023-03-21T01:02:21.913Z"
   },
   {
    "duration": 27,
    "start_time": "2023-03-21T01:02:21.930Z"
   },
   {
    "duration": 16,
    "start_time": "2023-03-21T01:02:21.959Z"
   },
   {
    "duration": 22,
    "start_time": "2023-03-21T01:02:21.977Z"
   },
   {
    "duration": 7,
    "start_time": "2023-03-21T01:02:22.001Z"
   },
   {
    "duration": 23,
    "start_time": "2023-03-21T01:02:22.010Z"
   },
   {
    "duration": 9,
    "start_time": "2023-03-21T01:02:22.035Z"
   },
   {
    "duration": 71,
    "start_time": "2023-03-21T01:02:22.046Z"
   },
   {
    "duration": 7,
    "start_time": "2023-03-21T01:02:22.119Z"
   },
   {
    "duration": 17,
    "start_time": "2023-03-21T01:02:22.128Z"
   },
   {
    "duration": 21,
    "start_time": "2023-03-21T01:02:22.147Z"
   },
   {
    "duration": 18,
    "start_time": "2023-03-21T01:02:22.170Z"
   },
   {
    "duration": 4,
    "start_time": "2023-03-21T01:02:22.190Z"
   },
   {
    "duration": 16,
    "start_time": "2023-03-21T01:02:22.196Z"
   },
   {
    "duration": 5,
    "start_time": "2023-03-21T01:02:22.214Z"
   },
   {
    "duration": 11,
    "start_time": "2023-03-21T01:02:22.221Z"
   },
   {
    "duration": 4,
    "start_time": "2023-03-21T01:02:22.233Z"
   },
   {
    "duration": 15,
    "start_time": "2023-03-21T01:02:22.238Z"
   },
   {
    "duration": 3,
    "start_time": "2023-03-21T01:02:22.255Z"
   },
   {
    "duration": 11,
    "start_time": "2023-03-21T01:02:22.290Z"
   },
   {
    "duration": 6,
    "start_time": "2023-03-21T01:02:22.303Z"
   },
   {
    "duration": 381,
    "start_time": "2023-03-21T01:02:22.310Z"
   },
   {
    "duration": 10,
    "start_time": "2023-03-21T01:02:22.693Z"
   },
   {
    "duration": 15,
    "start_time": "2023-03-21T01:02:22.705Z"
   },
   {
    "duration": 8,
    "start_time": "2023-03-21T01:02:22.721Z"
   },
   {
    "duration": 20,
    "start_time": "2023-03-21T01:02:22.731Z"
   },
   {
    "duration": 61,
    "start_time": "2023-03-21T01:02:22.753Z"
   },
   {
    "duration": 223,
    "start_time": "2023-03-21T01:02:22.816Z"
   },
   {
    "duration": 8,
    "start_time": "2023-03-21T01:02:23.041Z"
   },
   {
    "duration": 396,
    "start_time": "2023-03-21T01:02:23.051Z"
   },
   {
    "duration": 319,
    "start_time": "2023-03-21T01:02:23.448Z"
   },
   {
    "duration": 135,
    "start_time": "2023-03-21T01:02:23.770Z"
   },
   {
    "duration": 134,
    "start_time": "2023-03-21T01:02:23.907Z"
   },
   {
    "duration": 14,
    "start_time": "2023-03-21T01:02:24.043Z"
   },
   {
    "duration": 4,
    "start_time": "2023-03-21T01:02:24.059Z"
   },
   {
    "duration": 24,
    "start_time": "2023-03-21T01:02:24.064Z"
   },
   {
    "duration": 6,
    "start_time": "2023-03-21T01:02:24.090Z"
   },
   {
    "duration": 5,
    "start_time": "2023-03-21T01:02:24.097Z"
   },
   {
    "duration": 312,
    "start_time": "2023-03-21T01:02:24.104Z"
   },
   {
    "duration": 4,
    "start_time": "2023-03-21T01:02:24.417Z"
   },
   {
    "duration": 38,
    "start_time": "2023-03-21T01:02:24.423Z"
   },
   {
    "duration": 172,
    "start_time": "2023-03-21T01:02:24.463Z"
   },
   {
    "duration": 10,
    "start_time": "2023-03-21T01:02:24.636Z"
   },
   {
    "duration": 185,
    "start_time": "2023-03-21T01:02:24.648Z"
   },
   {
    "duration": 9,
    "start_time": "2023-03-21T01:02:24.834Z"
   },
   {
    "duration": 246,
    "start_time": "2023-03-21T01:02:24.844Z"
   },
   {
    "duration": 9,
    "start_time": "2023-03-21T01:02:25.092Z"
   },
   {
    "duration": 182,
    "start_time": "2023-03-21T01:02:25.103Z"
   },
   {
    "duration": 9,
    "start_time": "2023-03-21T01:02:25.287Z"
   },
   {
    "duration": 162,
    "start_time": "2023-03-21T01:02:25.298Z"
   },
   {
    "duration": 8,
    "start_time": "2023-03-21T01:02:25.462Z"
   },
   {
    "duration": 179,
    "start_time": "2023-03-21T01:02:25.472Z"
   },
   {
    "duration": 9,
    "start_time": "2023-03-21T01:02:25.653Z"
   },
   {
    "duration": 163,
    "start_time": "2023-03-21T01:02:25.664Z"
   },
   {
    "duration": 8,
    "start_time": "2023-03-21T01:02:25.828Z"
   },
   {
    "duration": 144,
    "start_time": "2023-03-21T01:02:25.838Z"
   },
   {
    "duration": 9,
    "start_time": "2023-03-21T01:02:25.984Z"
   },
   {
    "duration": 178,
    "start_time": "2023-03-21T01:02:25.995Z"
   },
   {
    "duration": 15,
    "start_time": "2023-03-21T01:02:26.174Z"
   },
   {
    "duration": 200,
    "start_time": "2023-03-21T01:02:26.190Z"
   },
   {
    "duration": 9,
    "start_time": "2023-03-21T01:02:26.391Z"
   },
   {
    "duration": 133,
    "start_time": "2023-03-21T01:02:26.401Z"
   },
   {
    "duration": 8,
    "start_time": "2023-03-21T01:02:26.536Z"
   },
   {
    "duration": 256,
    "start_time": "2023-03-21T01:02:26.546Z"
   },
   {
    "duration": 9,
    "start_time": "2023-03-21T01:02:26.804Z"
   },
   {
    "duration": 148,
    "start_time": "2023-03-21T01:02:26.814Z"
   },
   {
    "duration": 130,
    "start_time": "2023-03-21T01:02:26.963Z"
   },
   {
    "duration": 197,
    "start_time": "2023-03-21T01:02:27.094Z"
   },
   {
    "duration": 9,
    "start_time": "2023-03-21T01:02:27.293Z"
   },
   {
    "duration": 19,
    "start_time": "2023-03-21T01:02:27.303Z"
   },
   {
    "duration": 5,
    "start_time": "2023-03-21T01:02:27.323Z"
   },
   {
    "duration": 143,
    "start_time": "2023-03-21T01:02:27.329Z"
   },
   {
    "duration": 23,
    "start_time": "2023-03-21T01:02:27.473Z"
   },
   {
    "duration": 5,
    "start_time": "2023-03-21T01:02:27.501Z"
   },
   {
    "duration": 186,
    "start_time": "2023-03-21T01:02:27.507Z"
   },
   {
    "duration": 17,
    "start_time": "2023-03-21T01:02:27.694Z"
   },
   {
    "duration": 5,
    "start_time": "2023-03-21T01:02:27.712Z"
   },
   {
    "duration": 138,
    "start_time": "2023-03-21T01:02:27.718Z"
   },
   {
    "duration": 15,
    "start_time": "2023-03-21T01:02:27.857Z"
   },
   {
    "duration": 18,
    "start_time": "2023-03-21T01:02:27.873Z"
   },
   {
    "duration": 144,
    "start_time": "2023-03-21T01:02:27.893Z"
   },
   {
    "duration": 16,
    "start_time": "2023-03-21T01:02:28.039Z"
   },
   {
    "duration": 119,
    "start_time": "2023-03-21T01:02:28.057Z"
   },
   {
    "duration": 22,
    "start_time": "2023-03-21T01:02:28.178Z"
   },
   {
    "duration": 150,
    "start_time": "2023-03-21T01:02:28.201Z"
   },
   {
    "duration": 13,
    "start_time": "2023-03-21T01:02:28.352Z"
   },
   {
    "duration": 155,
    "start_time": "2023-03-21T01:02:28.368Z"
   },
   {
    "duration": 17,
    "start_time": "2023-03-21T01:02:28.526Z"
   },
   {
    "duration": 6,
    "start_time": "2023-03-21T01:02:28.545Z"
   },
   {
    "duration": 171,
    "start_time": "2023-03-21T01:02:28.552Z"
   },
   {
    "duration": 8,
    "start_time": "2023-03-21T01:02:28.725Z"
   },
   {
    "duration": 41,
    "start_time": "2023-03-21T01:02:28.734Z"
   },
   {
    "duration": 15,
    "start_time": "2023-03-21T01:02:28.789Z"
   },
   {
    "duration": 40,
    "start_time": "2023-03-21T01:02:28.806Z"
   },
   {
    "duration": 40,
    "start_time": "2023-03-21T01:02:28.848Z"
   },
   {
    "duration": 5,
    "start_time": "2023-03-21T01:02:28.890Z"
   },
   {
    "duration": 141,
    "start_time": "2023-03-21T01:02:28.897Z"
   },
   {
    "duration": 75,
    "start_time": "2023-03-21T01:09:08.762Z"
   },
   {
    "duration": 75,
    "start_time": "2023-03-21T01:10:12.054Z"
   },
   {
    "duration": 40,
    "start_time": "2023-03-21T01:10:28.360Z"
   },
   {
    "duration": 10,
    "start_time": "2023-03-21T01:10:46.054Z"
   },
   {
    "duration": 595,
    "start_time": "2023-03-21T01:10:54.032Z"
   },
   {
    "duration": 3,
    "start_time": "2023-03-21T01:10:54.629Z"
   },
   {
    "duration": 130,
    "start_time": "2023-03-21T01:10:54.634Z"
   },
   {
    "duration": 12,
    "start_time": "2023-03-21T01:10:54.766Z"
   },
   {
    "duration": 1830,
    "start_time": "2023-03-21T01:10:54.780Z"
   },
   {
    "duration": 8,
    "start_time": "2023-03-21T01:10:56.612Z"
   },
   {
    "duration": 6,
    "start_time": "2023-03-21T01:10:56.621Z"
   },
   {
    "duration": 222,
    "start_time": "2023-03-21T01:10:56.628Z"
   },
   {
    "duration": 14,
    "start_time": "2023-03-21T01:10:56.852Z"
   },
   {
    "duration": 27,
    "start_time": "2023-03-21T01:10:56.868Z"
   },
   {
    "duration": 6,
    "start_time": "2023-03-21T01:10:56.896Z"
   },
   {
    "duration": 5,
    "start_time": "2023-03-21T01:10:56.904Z"
   },
   {
    "duration": 13,
    "start_time": "2023-03-21T01:10:56.910Z"
   },
   {
    "duration": 4,
    "start_time": "2023-03-21T01:10:56.925Z"
   },
   {
    "duration": 23,
    "start_time": "2023-03-21T01:10:56.930Z"
   },
   {
    "duration": 11,
    "start_time": "2023-03-21T01:10:56.987Z"
   },
   {
    "duration": 54,
    "start_time": "2023-03-21T01:10:56.999Z"
   },
   {
    "duration": 6,
    "start_time": "2023-03-21T01:10:57.054Z"
   },
   {
    "duration": 28,
    "start_time": "2023-03-21T01:10:57.062Z"
   },
   {
    "duration": 12,
    "start_time": "2023-03-21T01:10:57.092Z"
   },
   {
    "duration": 8,
    "start_time": "2023-03-21T01:10:57.105Z"
   },
   {
    "duration": 7,
    "start_time": "2023-03-21T01:10:57.115Z"
   },
   {
    "duration": 11,
    "start_time": "2023-03-21T01:10:57.123Z"
   },
   {
    "duration": 3,
    "start_time": "2023-03-21T01:10:57.135Z"
   },
   {
    "duration": 8,
    "start_time": "2023-03-21T01:10:57.140Z"
   },
   {
    "duration": 38,
    "start_time": "2023-03-21T01:10:57.150Z"
   },
   {
    "duration": 11,
    "start_time": "2023-03-21T01:10:57.190Z"
   },
   {
    "duration": 3,
    "start_time": "2023-03-21T01:10:57.205Z"
   },
   {
    "duration": 10,
    "start_time": "2023-03-21T01:10:57.210Z"
   },
   {
    "duration": 3,
    "start_time": "2023-03-21T01:10:57.221Z"
   },
   {
    "duration": 371,
    "start_time": "2023-03-21T01:10:57.225Z"
   },
   {
    "duration": 6,
    "start_time": "2023-03-21T01:10:57.598Z"
   },
   {
    "duration": 7,
    "start_time": "2023-03-21T01:10:57.606Z"
   },
   {
    "duration": 3,
    "start_time": "2023-03-21T01:10:57.614Z"
   },
   {
    "duration": 13,
    "start_time": "2023-03-21T01:10:57.619Z"
   },
   {
    "duration": 80,
    "start_time": "2023-03-21T01:10:57.633Z"
   },
   {
    "duration": 416,
    "start_time": "2023-03-21T01:10:57.715Z"
   },
   {
    "duration": 7,
    "start_time": "2023-03-21T01:10:58.133Z"
   },
   {
    "duration": 369,
    "start_time": "2023-03-21T01:10:58.141Z"
   },
   {
    "duration": 297,
    "start_time": "2023-03-21T01:10:58.511Z"
   },
   {
    "duration": 132,
    "start_time": "2023-03-21T01:10:58.810Z"
   },
   {
    "duration": 129,
    "start_time": "2023-03-21T01:10:58.943Z"
   },
   {
    "duration": 21,
    "start_time": "2023-03-21T01:10:59.073Z"
   },
   {
    "duration": 8,
    "start_time": "2023-03-21T01:10:59.095Z"
   },
   {
    "duration": 12,
    "start_time": "2023-03-21T01:10:59.104Z"
   },
   {
    "duration": 19,
    "start_time": "2023-03-21T01:10:59.118Z"
   },
   {
    "duration": 6,
    "start_time": "2023-03-21T01:10:59.138Z"
   },
   {
    "duration": 294,
    "start_time": "2023-03-21T01:10:59.145Z"
   },
   {
    "duration": 4,
    "start_time": "2023-03-21T01:10:59.440Z"
   },
   {
    "duration": 29,
    "start_time": "2023-03-21T01:10:59.446Z"
   },
   {
    "duration": 187,
    "start_time": "2023-03-21T01:10:59.488Z"
   },
   {
    "duration": 19,
    "start_time": "2023-03-21T01:10:59.676Z"
   },
   {
    "duration": 181,
    "start_time": "2023-03-21T01:10:59.696Z"
   },
   {
    "duration": 14,
    "start_time": "2023-03-21T01:10:59.878Z"
   },
   {
    "duration": 249,
    "start_time": "2023-03-21T01:10:59.894Z"
   },
   {
    "duration": 9,
    "start_time": "2023-03-21T01:11:00.145Z"
   },
   {
    "duration": 174,
    "start_time": "2023-03-21T01:11:00.156Z"
   },
   {
    "duration": 8,
    "start_time": "2023-03-21T01:11:00.332Z"
   },
   {
    "duration": 159,
    "start_time": "2023-03-21T01:11:00.342Z"
   },
   {
    "duration": 8,
    "start_time": "2023-03-21T01:11:00.502Z"
   },
   {
    "duration": 179,
    "start_time": "2023-03-21T01:11:00.512Z"
   },
   {
    "duration": 11,
    "start_time": "2023-03-21T01:11:00.693Z"
   },
   {
    "duration": 159,
    "start_time": "2023-03-21T01:11:00.706Z"
   },
   {
    "duration": 8,
    "start_time": "2023-03-21T01:11:00.867Z"
   },
   {
    "duration": 133,
    "start_time": "2023-03-21T01:11:00.877Z"
   },
   {
    "duration": 8,
    "start_time": "2023-03-21T01:11:01.011Z"
   },
   {
    "duration": 236,
    "start_time": "2023-03-21T01:11:01.020Z"
   },
   {
    "duration": 6,
    "start_time": "2023-03-21T01:11:01.257Z"
   },
   {
    "duration": 217,
    "start_time": "2023-03-21T01:11:01.265Z"
   },
   {
    "duration": 8,
    "start_time": "2023-03-21T01:11:01.488Z"
   },
   {
    "duration": 141,
    "start_time": "2023-03-21T01:11:01.497Z"
   },
   {
    "duration": 9,
    "start_time": "2023-03-21T01:11:01.639Z"
   },
   {
    "duration": 295,
    "start_time": "2023-03-21T01:11:01.650Z"
   },
   {
    "duration": 21,
    "start_time": "2023-03-21T01:11:01.947Z"
   },
   {
    "duration": 147,
    "start_time": "2023-03-21T01:11:01.970Z"
   },
   {
    "duration": 119,
    "start_time": "2023-03-21T01:11:02.119Z"
   },
   {
    "duration": 189,
    "start_time": "2023-03-21T01:11:02.240Z"
   },
   {
    "duration": 9,
    "start_time": "2023-03-21T01:11:02.431Z"
   },
   {
    "duration": 17,
    "start_time": "2023-03-21T01:11:02.441Z"
   },
   {
    "duration": 10,
    "start_time": "2023-03-21T01:11:02.460Z"
   },
   {
    "duration": 136,
    "start_time": "2023-03-21T01:11:02.471Z"
   },
   {
    "duration": 16,
    "start_time": "2023-03-21T01:11:02.613Z"
   },
   {
    "duration": 7,
    "start_time": "2023-03-21T01:11:02.630Z"
   },
   {
    "duration": 159,
    "start_time": "2023-03-21T01:11:02.638Z"
   },
   {
    "duration": 17,
    "start_time": "2023-03-21T01:11:02.798Z"
   },
   {
    "duration": 5,
    "start_time": "2023-03-21T01:11:02.816Z"
   },
   {
    "duration": 136,
    "start_time": "2023-03-21T01:11:02.823Z"
   },
   {
    "duration": 13,
    "start_time": "2023-03-21T01:11:02.961Z"
   },
   {
    "duration": 16,
    "start_time": "2023-03-21T01:11:02.976Z"
   },
   {
    "duration": 131,
    "start_time": "2023-03-21T01:11:02.993Z"
   },
   {
    "duration": 14,
    "start_time": "2023-03-21T01:11:03.125Z"
   },
   {
    "duration": 108,
    "start_time": "2023-03-21T01:11:03.141Z"
   },
   {
    "duration": 13,
    "start_time": "2023-03-21T01:11:03.251Z"
   },
   {
    "duration": 144,
    "start_time": "2023-03-21T01:11:03.265Z"
   },
   {
    "duration": 17,
    "start_time": "2023-03-21T01:11:03.411Z"
   },
   {
    "duration": 141,
    "start_time": "2023-03-21T01:11:03.430Z"
   },
   {
    "duration": 24,
    "start_time": "2023-03-21T01:11:03.573Z"
   },
   {
    "duration": 4,
    "start_time": "2023-03-21T01:11:03.599Z"
   },
   {
    "duration": 147,
    "start_time": "2023-03-21T01:11:03.604Z"
   },
   {
    "duration": 10,
    "start_time": "2023-03-21T01:11:03.753Z"
   },
   {
    "duration": 59,
    "start_time": "2023-03-21T01:11:03.764Z"
   },
   {
    "duration": 14,
    "start_time": "2023-03-21T01:11:03.825Z"
   },
   {
    "duration": 49,
    "start_time": "2023-03-21T01:11:03.840Z"
   },
   {
    "duration": 15,
    "start_time": "2023-03-21T01:11:03.890Z"
   },
   {
    "duration": 4,
    "start_time": "2023-03-21T01:11:03.906Z"
   },
   {
    "duration": 141,
    "start_time": "2023-03-21T01:11:03.911Z"
   },
   {
    "duration": 26,
    "start_time": "2023-03-21T14:27:47.035Z"
   },
   {
    "duration": 304,
    "start_time": "2023-03-21T17:34:19.240Z"
   },
   {
    "duration": 225,
    "start_time": "2023-03-21T17:42:41.911Z"
   },
   {
    "duration": 13,
    "start_time": "2023-03-21T17:46:03.313Z"
   },
   {
    "duration": 14,
    "start_time": "2023-03-21T17:46:13.018Z"
   },
   {
    "duration": 12,
    "start_time": "2023-03-21T17:53:33.309Z"
   },
   {
    "duration": 175,
    "start_time": "2023-03-21T17:53:59.744Z"
   },
   {
    "duration": 14,
    "start_time": "2023-03-21T17:54:08.333Z"
   },
   {
    "duration": 121,
    "start_time": "2023-03-21T17:55:30.919Z"
   },
   {
    "duration": 15,
    "start_time": "2023-03-21T17:55:39.357Z"
   },
   {
    "duration": 31,
    "start_time": "2023-03-21T17:55:53.238Z"
   },
   {
    "duration": 316,
    "start_time": "2023-03-21T17:56:04.218Z"
   },
   {
    "duration": 17,
    "start_time": "2023-03-21T17:56:29.142Z"
   },
   {
    "duration": 379,
    "start_time": "2023-03-21T17:56:49.067Z"
   },
   {
    "duration": 212,
    "start_time": "2023-03-21T18:00:16.331Z"
   },
   {
    "duration": 15,
    "start_time": "2023-03-21T18:01:23.809Z"
   },
   {
    "duration": 185,
    "start_time": "2023-03-21T18:01:32.028Z"
   },
   {
    "duration": 36,
    "start_time": "2023-03-21T18:04:05.911Z"
   },
   {
    "duration": 14,
    "start_time": "2023-03-21T18:04:26.370Z"
   },
   {
    "duration": 17,
    "start_time": "2023-03-21T18:04:39.619Z"
   },
   {
    "duration": 185,
    "start_time": "2023-03-21T18:04:50.846Z"
   },
   {
    "duration": 9,
    "start_time": "2023-03-21T18:05:39.371Z"
   },
   {
    "duration": 20,
    "start_time": "2023-03-21T18:06:24.376Z"
   },
   {
    "duration": 128,
    "start_time": "2023-03-21T18:09:19.623Z"
   },
   {
    "duration": 322,
    "start_time": "2023-03-21T18:12:52.314Z"
   },
   {
    "duration": 532,
    "start_time": "2023-03-21T18:13:16.455Z"
   },
   {
    "duration": 530,
    "start_time": "2023-03-21T18:13:24.756Z"
   },
   {
    "duration": 570,
    "start_time": "2023-03-21T18:16:18.417Z"
   },
   {
    "duration": 368,
    "start_time": "2023-03-21T18:16:39.071Z"
   },
   {
    "duration": 128,
    "start_time": "2023-03-21T18:19:21.741Z"
   },
   {
    "duration": 29,
    "start_time": "2023-03-21T18:20:01.761Z"
   },
   {
    "duration": 15,
    "start_time": "2023-03-21T18:20:07.854Z"
   },
   {
    "duration": 201,
    "start_time": "2023-03-21T18:20:43.017Z"
   },
   {
    "duration": 210,
    "start_time": "2023-03-21T18:21:06.777Z"
   },
   {
    "duration": 217,
    "start_time": "2023-03-21T18:23:50.073Z"
   },
   {
    "duration": 207,
    "start_time": "2023-03-21T18:24:09.137Z"
   },
   {
    "duration": 28,
    "start_time": "2023-03-21T18:27:33.248Z"
   },
   {
    "duration": 331,
    "start_time": "2023-03-21T18:28:59.373Z"
   },
   {
    "duration": 15,
    "start_time": "2023-03-21T18:29:40.750Z"
   },
   {
    "duration": 19,
    "start_time": "2023-03-21T18:31:08.966Z"
   },
   {
    "duration": 87,
    "start_time": "2023-03-21T18:33:35.184Z"
   },
   {
    "duration": 8,
    "start_time": "2023-03-21T18:33:47.742Z"
   },
   {
    "duration": 866,
    "start_time": "2023-03-21T18:33:54.080Z"
   },
   {
    "duration": 6,
    "start_time": "2023-03-21T18:33:54.949Z"
   },
   {
    "duration": 202,
    "start_time": "2023-03-21T18:33:54.958Z"
   },
   {
    "duration": 21,
    "start_time": "2023-03-21T18:33:55.162Z"
   },
   {
    "duration": 2361,
    "start_time": "2023-03-21T18:33:55.189Z"
   },
   {
    "duration": 19,
    "start_time": "2023-03-21T18:33:57.552Z"
   },
   {
    "duration": 5,
    "start_time": "2023-03-21T18:33:57.573Z"
   },
   {
    "duration": 318,
    "start_time": "2023-03-21T18:33:57.580Z"
   },
   {
    "duration": 23,
    "start_time": "2023-03-21T18:33:57.900Z"
   },
   {
    "duration": 19,
    "start_time": "2023-03-21T18:33:57.926Z"
   },
   {
    "duration": 9,
    "start_time": "2023-03-21T18:33:57.947Z"
   },
   {
    "duration": 7,
    "start_time": "2023-03-21T18:33:57.960Z"
   },
   {
    "duration": 40,
    "start_time": "2023-03-21T18:33:57.969Z"
   },
   {
    "duration": 7,
    "start_time": "2023-03-21T18:33:58.017Z"
   },
   {
    "duration": 25,
    "start_time": "2023-03-21T18:33:58.027Z"
   },
   {
    "duration": 16,
    "start_time": "2023-03-21T18:33:58.055Z"
   },
   {
    "duration": 77,
    "start_time": "2023-03-21T18:33:58.090Z"
   },
   {
    "duration": 23,
    "start_time": "2023-03-21T18:33:58.169Z"
   },
   {
    "duration": 10,
    "start_time": "2023-03-21T18:33:58.194Z"
   },
   {
    "duration": 24,
    "start_time": "2023-03-21T18:33:58.206Z"
   },
   {
    "duration": 12,
    "start_time": "2023-03-21T18:33:58.232Z"
   },
   {
    "duration": 7,
    "start_time": "2023-03-21T18:33:58.246Z"
   },
   {
    "duration": 11,
    "start_time": "2023-03-21T18:33:58.255Z"
   },
   {
    "duration": 32,
    "start_time": "2023-03-21T18:33:58.267Z"
   },
   {
    "duration": 17,
    "start_time": "2023-03-21T18:33:58.301Z"
   },
   {
    "duration": 4,
    "start_time": "2023-03-21T18:33:58.320Z"
   },
   {
    "duration": 15,
    "start_time": "2023-03-21T18:33:58.326Z"
   },
   {
    "duration": 5,
    "start_time": "2023-03-21T18:33:58.343Z"
   },
   {
    "duration": 41,
    "start_time": "2023-03-21T18:33:58.350Z"
   },
   {
    "duration": 5,
    "start_time": "2023-03-21T18:33:58.394Z"
   },
   {
    "duration": 620,
    "start_time": "2023-03-21T18:33:58.402Z"
   },
   {
    "duration": 10,
    "start_time": "2023-03-21T18:33:59.024Z"
   },
   {
    "duration": 11,
    "start_time": "2023-03-21T18:33:59.036Z"
   },
   {
    "duration": 5,
    "start_time": "2023-03-21T18:33:59.049Z"
   },
   {
    "duration": 42,
    "start_time": "2023-03-21T18:33:59.056Z"
   },
   {
    "duration": 65,
    "start_time": "2023-03-21T18:33:59.103Z"
   },
   {
    "duration": 282,
    "start_time": "2023-03-21T18:33:59.170Z"
   },
   {
    "duration": 10,
    "start_time": "2023-03-21T18:33:59.453Z"
   },
   {
    "duration": 603,
    "start_time": "2023-03-21T18:33:59.465Z"
   },
   {
    "duration": 426,
    "start_time": "2023-03-21T18:34:00.070Z"
   },
   {
    "duration": 162,
    "start_time": "2023-03-21T18:34:00.502Z"
   },
   {
    "duration": 231,
    "start_time": "2023-03-21T18:34:00.666Z"
   },
   {
    "duration": 27,
    "start_time": "2023-03-21T18:34:00.902Z"
   },
   {
    "duration": 39,
    "start_time": "2023-03-21T18:34:00.932Z"
   },
   {
    "duration": 33,
    "start_time": "2023-03-21T18:34:00.973Z"
   },
   {
    "duration": 31,
    "start_time": "2023-03-21T18:34:01.010Z"
   },
   {
    "duration": 71,
    "start_time": "2023-03-21T18:34:01.043Z"
   },
   {
    "duration": 636,
    "start_time": "2023-03-21T18:34:01.118Z"
   },
   {
    "duration": 7,
    "start_time": "2023-03-21T18:34:01.756Z"
   },
   {
    "duration": 98,
    "start_time": "2023-03-21T18:34:01.766Z"
   },
   {
    "duration": 252,
    "start_time": "2023-03-21T18:34:01.866Z"
   },
   {
    "duration": 11,
    "start_time": "2023-03-21T18:34:02.120Z"
   },
   {
    "duration": 282,
    "start_time": "2023-03-21T18:34:02.135Z"
   },
   {
    "duration": 13,
    "start_time": "2023-03-21T18:34:02.420Z"
   },
   {
    "duration": 384,
    "start_time": "2023-03-21T18:34:02.435Z"
   },
   {
    "duration": 11,
    "start_time": "2023-03-21T18:34:02.823Z"
   },
   {
    "duration": 298,
    "start_time": "2023-03-21T18:34:02.836Z"
   },
   {
    "duration": 10,
    "start_time": "2023-03-21T18:34:03.139Z"
   },
   {
    "duration": 246,
    "start_time": "2023-03-21T18:34:03.153Z"
   },
   {
    "duration": 16,
    "start_time": "2023-03-21T18:34:03.401Z"
   },
   {
    "duration": 216,
    "start_time": "2023-03-21T18:34:03.419Z"
   },
   {
    "duration": 11,
    "start_time": "2023-03-21T18:34:03.637Z"
   },
   {
    "duration": 250,
    "start_time": "2023-03-21T18:34:03.650Z"
   },
   {
    "duration": 15,
    "start_time": "2023-03-21T18:34:03.902Z"
   },
   {
    "duration": 152,
    "start_time": "2023-03-21T18:34:03.919Z"
   },
   {
    "duration": 18,
    "start_time": "2023-03-21T18:34:04.073Z"
   },
   {
    "duration": 270,
    "start_time": "2023-03-21T18:34:04.092Z"
   },
   {
    "duration": 306,
    "start_time": "2023-03-21T18:34:04.364Z"
   },
   {
    "duration": 42,
    "start_time": "2023-03-21T18:34:04.672Z"
   },
   {
    "duration": 181,
    "start_time": "2023-03-21T18:34:04.718Z"
   },
   {
    "duration": 10,
    "start_time": "2023-03-21T18:34:04.903Z"
   },
   {
    "duration": 375,
    "start_time": "2023-03-21T18:34:04.918Z"
   },
   {
    "duration": 17,
    "start_time": "2023-03-21T18:34:05.295Z"
   },
   {
    "duration": 217,
    "start_time": "2023-03-21T18:34:05.314Z"
   },
   {
    "duration": 182,
    "start_time": "2023-03-21T18:34:05.536Z"
   },
   {
    "duration": 562,
    "start_time": "2023-03-21T18:34:05.720Z"
   },
   {
    "duration": 20,
    "start_time": "2023-03-21T18:34:06.284Z"
   },
   {
    "duration": 36,
    "start_time": "2023-03-21T18:34:06.311Z"
   },
   {
    "duration": 130,
    "start_time": "2023-03-21T18:34:06.349Z"
   },
   {
    "duration": 314,
    "start_time": "2023-03-21T18:34:06.481Z"
   },
   {
    "duration": 32,
    "start_time": "2023-03-21T18:34:06.796Z"
   },
   {
    "duration": 8,
    "start_time": "2023-03-21T18:34:06.829Z"
   },
   {
    "duration": 163,
    "start_time": "2023-03-21T18:34:06.838Z"
   },
   {
    "duration": 41,
    "start_time": "2023-03-21T18:34:07.002Z"
   },
   {
    "duration": 8,
    "start_time": "2023-03-21T18:34:07.045Z"
   },
   {
    "duration": 204,
    "start_time": "2023-03-21T18:34:07.056Z"
   },
   {
    "duration": 35,
    "start_time": "2023-03-21T18:34:07.263Z"
   },
   {
    "duration": 8,
    "start_time": "2023-03-21T18:34:07.300Z"
   },
   {
    "duration": 254,
    "start_time": "2023-03-21T18:34:07.309Z"
   },
   {
    "duration": 42,
    "start_time": "2023-03-21T18:34:07.565Z"
   },
   {
    "duration": 6,
    "start_time": "2023-03-21T18:34:07.611Z"
   },
   {
    "duration": 217,
    "start_time": "2023-03-21T18:34:07.619Z"
   },
   {
    "duration": 21,
    "start_time": "2023-03-21T18:34:07.838Z"
   },
   {
    "duration": 172,
    "start_time": "2023-03-21T18:34:07.861Z"
   },
   {
    "duration": 17,
    "start_time": "2023-03-21T18:34:08.035Z"
   },
   {
    "duration": 178,
    "start_time": "2023-03-21T18:34:08.054Z"
   },
   {
    "duration": 20,
    "start_time": "2023-03-21T18:34:08.234Z"
   },
   {
    "duration": 189,
    "start_time": "2023-03-21T18:34:08.255Z"
   },
   {
    "duration": 18,
    "start_time": "2023-03-21T18:34:08.446Z"
   },
   {
    "duration": 29,
    "start_time": "2023-03-21T18:34:08.465Z"
   },
   {
    "duration": 163,
    "start_time": "2023-03-21T18:34:08.496Z"
   },
   {
    "duration": 11,
    "start_time": "2023-03-21T18:34:08.661Z"
   },
   {
    "duration": 68,
    "start_time": "2023-03-21T18:34:08.674Z"
   },
   {
    "duration": 18,
    "start_time": "2023-03-21T18:34:08.744Z"
   },
   {
    "duration": 72,
    "start_time": "2023-03-21T18:34:08.765Z"
   },
   {
    "duration": 18,
    "start_time": "2023-03-21T18:34:08.839Z"
   },
   {
    "duration": 153,
    "start_time": "2023-03-21T18:34:08.859Z"
   },
   {
    "duration": 254,
    "start_time": "2023-03-21T18:34:09.014Z"
   },
   {
    "duration": 35,
    "start_time": "2023-03-21T18:37:11.087Z"
   },
   {
    "duration": 123,
    "start_time": "2023-03-21T18:38:34.633Z"
   },
   {
    "duration": 22,
    "start_time": "2023-03-21T18:39:01.350Z"
   },
   {
    "duration": 32,
    "start_time": "2023-03-21T18:40:43.841Z"
   },
   {
    "duration": 20,
    "start_time": "2023-03-21T18:41:01.836Z"
   },
   {
    "duration": 289,
    "start_time": "2023-03-21T18:41:34.113Z"
   },
   {
    "duration": 18,
    "start_time": "2023-03-21T18:42:09.428Z"
   },
   {
    "duration": 227,
    "start_time": "2023-03-21T18:42:29.413Z"
   },
   {
    "duration": 238,
    "start_time": "2023-03-21T18:45:07.528Z"
   },
   {
    "duration": 17,
    "start_time": "2023-03-21T18:46:20.235Z"
   },
   {
    "duration": 176,
    "start_time": "2023-03-21T18:46:22.655Z"
   },
   {
    "duration": 149,
    "start_time": "2023-03-21T18:54:17.606Z"
   },
   {
    "duration": 154,
    "start_time": "2023-03-21T18:54:24.794Z"
   },
   {
    "duration": 72,
    "start_time": "2023-03-21T18:56:22.307Z"
   },
   {
    "duration": 75,
    "start_time": "2023-03-21T18:56:51.923Z"
   },
   {
    "duration": 18,
    "start_time": "2023-03-21T18:57:02.256Z"
   },
   {
    "duration": 17,
    "start_time": "2023-03-21T18:57:36.004Z"
   },
   {
    "duration": 18,
    "start_time": "2023-03-21T18:58:52.013Z"
   },
   {
    "duration": 18,
    "start_time": "2023-03-21T18:58:56.656Z"
   },
   {
    "duration": 25,
    "start_time": "2023-03-21T19:00:09.119Z"
   },
   {
    "duration": 16,
    "start_time": "2023-03-21T19:00:38.459Z"
   },
   {
    "duration": 17,
    "start_time": "2023-03-21T19:01:57.917Z"
   },
   {
    "duration": 13,
    "start_time": "2023-03-21T19:02:19.225Z"
   },
   {
    "duration": 8,
    "start_time": "2023-03-21T19:02:42.449Z"
   },
   {
    "duration": 10,
    "start_time": "2023-03-21T19:02:59.069Z"
   },
   {
    "duration": 13,
    "start_time": "2023-03-21T19:03:32.514Z"
   },
   {
    "duration": 1180,
    "start_time": "2023-03-21T19:03:38.881Z"
   },
   {
    "duration": 193,
    "start_time": "2023-03-21T19:03:45.083Z"
   },
   {
    "duration": 13,
    "start_time": "2023-03-21T19:07:25.212Z"
   },
   {
    "duration": 18,
    "start_time": "2023-03-21T19:07:37.556Z"
   },
   {
    "duration": 5,
    "start_time": "2023-03-21T19:07:52.539Z"
   },
   {
    "duration": 157,
    "start_time": "2023-03-21T19:08:14.403Z"
   },
   {
    "duration": 44,
    "start_time": "2023-03-21T19:10:24.816Z"
   },
   {
    "duration": 83,
    "start_time": "2023-03-21T19:11:30.105Z"
   },
   {
    "duration": 46,
    "start_time": "2023-03-21T19:11:34.206Z"
   },
   {
    "duration": 8,
    "start_time": "2023-03-21T19:13:41.183Z"
   },
   {
    "duration": 7,
    "start_time": "2023-03-21T19:13:52.510Z"
   },
   {
    "duration": 9,
    "start_time": "2023-03-21T19:14:15.221Z"
   },
   {
    "duration": 694,
    "start_time": "2023-03-21T19:14:35.086Z"
   },
   {
    "duration": 3,
    "start_time": "2023-03-21T19:14:35.782Z"
   },
   {
    "duration": 144,
    "start_time": "2023-03-21T19:14:35.786Z"
   },
   {
    "duration": 20,
    "start_time": "2023-03-21T19:14:35.933Z"
   },
   {
    "duration": 1988,
    "start_time": "2023-03-21T19:14:35.954Z"
   },
   {
    "duration": 14,
    "start_time": "2023-03-21T19:14:37.945Z"
   },
   {
    "duration": 6,
    "start_time": "2023-03-21T19:14:37.962Z"
   },
   {
    "duration": 250,
    "start_time": "2023-03-21T19:14:37.970Z"
   },
   {
    "duration": 15,
    "start_time": "2023-03-21T19:14:38.222Z"
   },
   {
    "duration": 12,
    "start_time": "2023-03-21T19:14:38.239Z"
   },
   {
    "duration": 11,
    "start_time": "2023-03-21T19:14:38.253Z"
   },
   {
    "duration": 23,
    "start_time": "2023-03-21T19:14:38.266Z"
   },
   {
    "duration": 18,
    "start_time": "2023-03-21T19:14:38.291Z"
   },
   {
    "duration": 6,
    "start_time": "2023-03-21T19:14:38.310Z"
   },
   {
    "duration": 21,
    "start_time": "2023-03-21T19:14:38.318Z"
   },
   {
    "duration": 12,
    "start_time": "2023-03-21T19:14:38.341Z"
   },
   {
    "duration": 92,
    "start_time": "2023-03-21T19:14:38.354Z"
   },
   {
    "duration": 9,
    "start_time": "2023-03-21T19:14:38.448Z"
   },
   {
    "duration": 7,
    "start_time": "2023-03-21T19:14:38.458Z"
   },
   {
    "duration": 19,
    "start_time": "2023-03-21T19:14:38.490Z"
   },
   {
    "duration": 10,
    "start_time": "2023-03-21T19:14:38.511Z"
   },
   {
    "duration": 5,
    "start_time": "2023-03-21T19:14:38.523Z"
   },
   {
    "duration": 14,
    "start_time": "2023-03-21T19:14:38.529Z"
   },
   {
    "duration": 13,
    "start_time": "2023-03-21T19:14:38.545Z"
   },
   {
    "duration": 31,
    "start_time": "2023-03-21T19:14:38.560Z"
   },
   {
    "duration": 4,
    "start_time": "2023-03-21T19:14:38.593Z"
   },
   {
    "duration": 18,
    "start_time": "2023-03-21T19:14:38.599Z"
   },
   {
    "duration": 7,
    "start_time": "2023-03-21T19:14:38.623Z"
   },
   {
    "duration": 12,
    "start_time": "2023-03-21T19:14:38.631Z"
   },
   {
    "duration": 4,
    "start_time": "2023-03-21T19:14:38.644Z"
   },
   {
    "duration": 449,
    "start_time": "2023-03-21T19:14:38.649Z"
   },
   {
    "duration": 12,
    "start_time": "2023-03-21T19:14:39.100Z"
   },
   {
    "duration": 9,
    "start_time": "2023-03-21T19:14:39.114Z"
   },
   {
    "duration": 5,
    "start_time": "2023-03-21T19:14:39.125Z"
   },
   {
    "duration": 18,
    "start_time": "2023-03-21T19:14:39.131Z"
   },
   {
    "duration": 107,
    "start_time": "2023-03-21T19:14:39.151Z"
   },
   {
    "duration": 194,
    "start_time": "2023-03-21T19:14:39.260Z"
   },
   {
    "duration": 8,
    "start_time": "2023-03-21T19:14:39.456Z"
   },
   {
    "duration": 504,
    "start_time": "2023-03-21T19:14:39.465Z"
   },
   {
    "duration": 309,
    "start_time": "2023-03-21T19:14:39.971Z"
   },
   {
    "duration": 162,
    "start_time": "2023-03-21T19:14:40.282Z"
   },
   {
    "duration": 163,
    "start_time": "2023-03-21T19:14:40.446Z"
   },
   {
    "duration": 16,
    "start_time": "2023-03-21T19:14:40.611Z"
   },
   {
    "duration": 5,
    "start_time": "2023-03-21T19:14:40.629Z"
   },
   {
    "duration": 7,
    "start_time": "2023-03-21T19:14:40.636Z"
   },
   {
    "duration": 7,
    "start_time": "2023-03-21T19:14:40.644Z"
   },
   {
    "duration": 36,
    "start_time": "2023-03-21T19:14:40.653Z"
   },
   {
    "duration": 367,
    "start_time": "2023-03-21T19:14:40.691Z"
   },
   {
    "duration": 6,
    "start_time": "2023-03-21T19:14:41.060Z"
   },
   {
    "duration": 37,
    "start_time": "2023-03-21T19:14:41.068Z"
   },
   {
    "duration": 176,
    "start_time": "2023-03-21T19:14:41.107Z"
   },
   {
    "duration": 9,
    "start_time": "2023-03-21T19:14:41.288Z"
   },
   {
    "duration": 189,
    "start_time": "2023-03-21T19:14:41.299Z"
   },
   {
    "duration": 9,
    "start_time": "2023-03-21T19:14:41.490Z"
   },
   {
    "duration": 266,
    "start_time": "2023-03-21T19:14:41.501Z"
   },
   {
    "duration": 22,
    "start_time": "2023-03-21T19:14:41.769Z"
   },
   {
    "duration": 173,
    "start_time": "2023-03-21T19:14:41.793Z"
   },
   {
    "duration": 9,
    "start_time": "2023-03-21T19:14:41.968Z"
   },
   {
    "duration": 185,
    "start_time": "2023-03-21T19:14:41.978Z"
   },
   {
    "duration": 10,
    "start_time": "2023-03-21T19:14:42.165Z"
   },
   {
    "duration": 190,
    "start_time": "2023-03-21T19:14:42.189Z"
   },
   {
    "duration": 15,
    "start_time": "2023-03-21T19:14:42.381Z"
   },
   {
    "duration": 170,
    "start_time": "2023-03-21T19:14:42.397Z"
   },
   {
    "duration": 9,
    "start_time": "2023-03-21T19:14:42.568Z"
   },
   {
    "duration": 125,
    "start_time": "2023-03-21T19:14:42.589Z"
   },
   {
    "duration": 10,
    "start_time": "2023-03-21T19:14:42.716Z"
   },
   {
    "duration": 228,
    "start_time": "2023-03-21T19:14:42.728Z"
   },
   {
    "duration": 218,
    "start_time": "2023-03-21T19:14:42.958Z"
   },
   {
    "duration": 17,
    "start_time": "2023-03-21T19:14:43.178Z"
   },
   {
    "duration": 136,
    "start_time": "2023-03-21T19:14:43.197Z"
   },
   {
    "duration": 11,
    "start_time": "2023-03-21T19:14:43.335Z"
   },
   {
    "duration": 273,
    "start_time": "2023-03-21T19:14:43.348Z"
   },
   {
    "duration": 11,
    "start_time": "2023-03-21T19:14:43.623Z"
   },
   {
    "duration": 164,
    "start_time": "2023-03-21T19:14:43.636Z"
   },
   {
    "duration": 141,
    "start_time": "2023-03-21T19:14:43.802Z"
   },
   {
    "duration": 377,
    "start_time": "2023-03-21T19:14:43.945Z"
   },
   {
    "duration": 11,
    "start_time": "2023-03-21T19:14:44.324Z"
   },
   {
    "duration": 17,
    "start_time": "2023-03-21T19:14:44.337Z"
   },
   {
    "duration": 139,
    "start_time": "2023-03-21T19:14:44.356Z"
   },
   {
    "duration": 249,
    "start_time": "2023-03-21T19:14:44.498Z"
   },
   {
    "duration": 19,
    "start_time": "2023-03-21T19:14:44.749Z"
   },
   {
    "duration": 6,
    "start_time": "2023-03-21T19:14:44.787Z"
   },
   {
    "duration": 153,
    "start_time": "2023-03-21T19:14:44.795Z"
   },
   {
    "duration": 18,
    "start_time": "2023-03-21T19:14:44.949Z"
   },
   {
    "duration": 4,
    "start_time": "2023-03-21T19:14:44.969Z"
   },
   {
    "duration": 153,
    "start_time": "2023-03-21T19:14:44.989Z"
   },
   {
    "duration": 22,
    "start_time": "2023-03-21T19:14:45.144Z"
   },
   {
    "duration": 23,
    "start_time": "2023-03-21T19:14:45.168Z"
   },
   {
    "duration": 246,
    "start_time": "2023-03-21T19:14:45.193Z"
   },
   {
    "duration": 15,
    "start_time": "2023-03-21T19:14:45.441Z"
   },
   {
    "duration": 5,
    "start_time": "2023-03-21T19:14:45.458Z"
   },
   {
    "duration": 243,
    "start_time": "2023-03-21T19:14:45.465Z"
   },
   {
    "duration": 17,
    "start_time": "2023-03-21T19:14:45.711Z"
   },
   {
    "duration": 143,
    "start_time": "2023-03-21T19:14:45.730Z"
   },
   {
    "duration": 23,
    "start_time": "2023-03-21T19:14:45.875Z"
   },
   {
    "duration": 147,
    "start_time": "2023-03-21T19:14:45.900Z"
   },
   {
    "duration": 14,
    "start_time": "2023-03-21T19:14:46.049Z"
   },
   {
    "duration": 208,
    "start_time": "2023-03-21T19:14:46.065Z"
   },
   {
    "duration": 21,
    "start_time": "2023-03-21T19:14:46.275Z"
   },
   {
    "duration": 5,
    "start_time": "2023-03-21T19:14:46.298Z"
   },
   {
    "duration": 159,
    "start_time": "2023-03-21T19:14:46.304Z"
   },
   {
    "duration": 11,
    "start_time": "2023-03-21T19:14:46.466Z"
   },
   {
    "duration": 54,
    "start_time": "2023-03-21T19:14:46.488Z"
   },
   {
    "duration": 20,
    "start_time": "2023-03-21T19:14:46.545Z"
   },
   {
    "duration": 206,
    "start_time": "2023-03-21T19:14:46.566Z"
   },
   {
    "duration": 70,
    "start_time": "2023-03-21T19:14:46.774Z"
   },
   {
    "duration": 16,
    "start_time": "2023-03-21T19:14:46.846Z"
   },
   {
    "duration": 25,
    "start_time": "2023-03-21T19:14:46.863Z"
   },
   {
    "duration": 135,
    "start_time": "2023-03-21T19:14:46.890Z"
   },
   {
    "duration": 17,
    "start_time": "2023-03-21T19:14:47.027Z"
   },
   {
    "duration": 5,
    "start_time": "2023-03-21T19:14:47.045Z"
   },
   {
    "duration": 163,
    "start_time": "2023-03-21T19:14:47.052Z"
   },
   {
    "duration": 40,
    "start_time": "2023-03-21T19:14:47.217Z"
   },
   {
    "duration": 396,
    "start_time": "2023-03-21T20:10:21.447Z"
   },
   {
    "duration": 668,
    "start_time": "2023-03-21T20:11:22.551Z"
   },
   {
    "duration": 3,
    "start_time": "2023-03-21T20:11:23.221Z"
   },
   {
    "duration": 129,
    "start_time": "2023-03-21T20:11:23.225Z"
   },
   {
    "duration": 15,
    "start_time": "2023-03-21T20:11:23.355Z"
   },
   {
    "duration": 2111,
    "start_time": "2023-03-21T20:11:23.371Z"
   },
   {
    "duration": 16,
    "start_time": "2023-03-21T20:11:25.484Z"
   },
   {
    "duration": 5,
    "start_time": "2023-03-21T20:11:25.503Z"
   },
   {
    "duration": 253,
    "start_time": "2023-03-21T20:11:25.509Z"
   },
   {
    "duration": 30,
    "start_time": "2023-03-21T20:11:25.765Z"
   },
   {
    "duration": 10,
    "start_time": "2023-03-21T20:11:25.801Z"
   },
   {
    "duration": 11,
    "start_time": "2023-03-21T20:11:25.813Z"
   },
   {
    "duration": 6,
    "start_time": "2023-03-21T20:11:25.826Z"
   },
   {
    "duration": 13,
    "start_time": "2023-03-21T20:11:25.834Z"
   },
   {
    "duration": 5,
    "start_time": "2023-03-21T20:11:25.849Z"
   },
   {
    "duration": 48,
    "start_time": "2023-03-21T20:11:25.856Z"
   },
   {
    "duration": 10,
    "start_time": "2023-03-21T20:11:25.906Z"
   },
   {
    "duration": 57,
    "start_time": "2023-03-21T20:11:25.917Z"
   },
   {
    "duration": 22,
    "start_time": "2023-03-21T20:11:25.976Z"
   },
   {
    "duration": 8,
    "start_time": "2023-03-21T20:11:26.001Z"
   },
   {
    "duration": 14,
    "start_time": "2023-03-21T20:11:26.010Z"
   },
   {
    "duration": 9,
    "start_time": "2023-03-21T20:11:26.026Z"
   },
   {
    "duration": 4,
    "start_time": "2023-03-21T20:11:26.037Z"
   },
   {
    "duration": 13,
    "start_time": "2023-03-21T20:11:26.043Z"
   },
   {
    "duration": 43,
    "start_time": "2023-03-21T20:11:26.058Z"
   },
   {
    "duration": 8,
    "start_time": "2023-03-21T20:11:26.104Z"
   },
   {
    "duration": 3,
    "start_time": "2023-03-21T20:11:26.114Z"
   },
   {
    "duration": 12,
    "start_time": "2023-03-21T20:11:26.119Z"
   },
   {
    "duration": 4,
    "start_time": "2023-03-21T20:11:26.135Z"
   },
   {
    "duration": 24,
    "start_time": "2023-03-21T20:11:26.140Z"
   },
   {
    "duration": 3,
    "start_time": "2023-03-21T20:11:26.165Z"
   },
   {
    "duration": 397,
    "start_time": "2023-03-21T20:11:26.170Z"
   },
   {
    "duration": 26,
    "start_time": "2023-03-21T20:11:26.569Z"
   },
   {
    "duration": 10,
    "start_time": "2023-03-21T20:11:26.596Z"
   },
   {
    "duration": 475,
    "start_time": "2023-03-21T20:11:26.608Z"
   },
   {
    "duration": 14,
    "start_time": "2023-03-21T20:11:27.085Z"
   },
   {
    "duration": 12,
    "start_time": "2023-03-21T20:11:27.105Z"
   },
   {
    "duration": 54,
    "start_time": "2023-03-21T20:11:27.118Z"
   },
   {
    "duration": 418,
    "start_time": "2023-03-21T20:11:27.174Z"
   },
   {
    "duration": 13,
    "start_time": "2023-03-21T20:11:27.594Z"
   },
   {
    "duration": 315,
    "start_time": "2023-03-21T20:11:27.609Z"
   },
   {
    "duration": 308,
    "start_time": "2023-03-21T20:11:27.926Z"
   },
   {
    "duration": 145,
    "start_time": "2023-03-21T20:11:28.235Z"
   },
   {
    "duration": 147,
    "start_time": "2023-03-21T20:11:28.381Z"
   },
   {
    "duration": 14,
    "start_time": "2023-03-21T20:11:28.530Z"
   },
   {
    "duration": 3,
    "start_time": "2023-03-21T20:11:28.546Z"
   },
   {
    "duration": 10,
    "start_time": "2023-03-21T20:11:28.551Z"
   },
   {
    "duration": 6,
    "start_time": "2023-03-21T20:11:28.563Z"
   },
   {
    "duration": 12,
    "start_time": "2023-03-21T20:11:28.590Z"
   },
   {
    "duration": 408,
    "start_time": "2023-03-21T20:11:28.605Z"
   },
   {
    "duration": 5,
    "start_time": "2023-03-21T20:11:29.014Z"
   },
   {
    "duration": 30,
    "start_time": "2023-03-21T20:11:29.020Z"
   },
   {
    "duration": 199,
    "start_time": "2023-03-21T20:11:29.051Z"
   },
   {
    "duration": 9,
    "start_time": "2023-03-21T20:11:29.252Z"
   },
   {
    "duration": 202,
    "start_time": "2023-03-21T20:11:29.262Z"
   },
   {
    "duration": 9,
    "start_time": "2023-03-21T20:11:29.465Z"
   },
   {
    "duration": 189,
    "start_time": "2023-03-21T20:11:29.475Z"
   },
   {
    "duration": 12,
    "start_time": "2023-03-21T20:11:29.666Z"
   },
   {
    "duration": 230,
    "start_time": "2023-03-21T20:11:29.691Z"
   },
   {
    "duration": 10,
    "start_time": "2023-03-21T20:11:29.925Z"
   },
   {
    "duration": 191,
    "start_time": "2023-03-21T20:11:29.937Z"
   },
   {
    "duration": 8,
    "start_time": "2023-03-21T20:11:30.130Z"
   },
   {
    "duration": 192,
    "start_time": "2023-03-21T20:11:30.140Z"
   },
   {
    "duration": 9,
    "start_time": "2023-03-21T20:11:30.335Z"
   },
   {
    "duration": 179,
    "start_time": "2023-03-21T20:11:30.346Z"
   },
   {
    "duration": 8,
    "start_time": "2023-03-21T20:11:30.526Z"
   },
   {
    "duration": 131,
    "start_time": "2023-03-21T20:11:30.535Z"
   },
   {
    "duration": 9,
    "start_time": "2023-03-21T20:11:30.668Z"
   },
   {
    "duration": 209,
    "start_time": "2023-03-21T20:11:30.692Z"
   },
   {
    "duration": 314,
    "start_time": "2023-03-21T20:11:30.902Z"
   },
   {
    "duration": 10,
    "start_time": "2023-03-21T20:11:31.218Z"
   },
   {
    "duration": 150,
    "start_time": "2023-03-21T20:11:31.229Z"
   },
   {
    "duration": 18,
    "start_time": "2023-03-21T20:11:31.381Z"
   },
   {
    "duration": 219,
    "start_time": "2023-03-21T20:11:31.401Z"
   },
   {
    "duration": 10,
    "start_time": "2023-03-21T20:11:31.621Z"
   },
   {
    "duration": 173,
    "start_time": "2023-03-21T20:11:31.633Z"
   },
   {
    "duration": 135,
    "start_time": "2023-03-21T20:11:31.807Z"
   },
   {
    "duration": 382,
    "start_time": "2023-03-21T20:11:31.943Z"
   },
   {
    "duration": 9,
    "start_time": "2023-03-21T20:11:32.326Z"
   },
   {
    "duration": 21,
    "start_time": "2023-03-21T20:11:32.336Z"
   },
   {
    "duration": 119,
    "start_time": "2023-03-21T20:11:32.359Z"
   },
   {
    "duration": 352,
    "start_time": "2023-03-21T20:11:32.480Z"
   },
   {
    "duration": 17,
    "start_time": "2023-03-21T20:11:32.838Z"
   },
   {
    "duration": 5,
    "start_time": "2023-03-21T20:11:32.856Z"
   },
   {
    "duration": 158,
    "start_time": "2023-03-21T20:11:32.862Z"
   },
   {
    "duration": 17,
    "start_time": "2023-03-21T20:11:33.022Z"
   },
   {
    "duration": 5,
    "start_time": "2023-03-21T20:11:33.040Z"
   },
   {
    "duration": 161,
    "start_time": "2023-03-21T20:11:33.046Z"
   },
   {
    "duration": 17,
    "start_time": "2023-03-21T20:11:33.209Z"
   },
   {
    "duration": 5,
    "start_time": "2023-03-21T20:11:33.227Z"
   },
   {
    "duration": 143,
    "start_time": "2023-03-21T20:11:33.233Z"
   },
   {
    "duration": 33,
    "start_time": "2023-03-21T20:11:33.378Z"
   },
   {
    "duration": 5,
    "start_time": "2023-03-21T20:11:33.413Z"
   },
   {
    "duration": 146,
    "start_time": "2023-03-21T20:11:33.419Z"
   },
   {
    "duration": 24,
    "start_time": "2023-03-21T20:11:33.567Z"
   },
   {
    "duration": 139,
    "start_time": "2023-03-21T20:11:33.593Z"
   },
   {
    "duration": 15,
    "start_time": "2023-03-21T20:11:33.734Z"
   },
   {
    "duration": 167,
    "start_time": "2023-03-21T20:11:33.751Z"
   },
   {
    "duration": 15,
    "start_time": "2023-03-21T20:11:33.919Z"
   },
   {
    "duration": 190,
    "start_time": "2023-03-21T20:11:33.935Z"
   },
   {
    "duration": 14,
    "start_time": "2023-03-21T20:11:34.127Z"
   },
   {
    "duration": 4,
    "start_time": "2023-03-21T20:11:34.143Z"
   },
   {
    "duration": 165,
    "start_time": "2023-03-21T20:11:34.149Z"
   },
   {
    "duration": 9,
    "start_time": "2023-03-21T20:11:34.316Z"
   },
   {
    "duration": 43,
    "start_time": "2023-03-21T20:11:34.326Z"
   },
   {
    "duration": 37,
    "start_time": "2023-03-21T20:11:34.371Z"
   },
   {
    "duration": 194,
    "start_time": "2023-03-21T20:11:34.410Z"
   },
   {
    "duration": 54,
    "start_time": "2023-03-21T20:11:34.606Z"
   },
   {
    "duration": 37,
    "start_time": "2023-03-21T20:11:34.663Z"
   },
   {
    "duration": 6,
    "start_time": "2023-03-21T20:11:34.710Z"
   },
   {
    "duration": 155,
    "start_time": "2023-03-21T20:11:34.718Z"
   },
   {
    "duration": 31,
    "start_time": "2023-03-21T20:11:34.875Z"
   },
   {
    "duration": 5,
    "start_time": "2023-03-21T20:11:34.907Z"
   },
   {
    "duration": 171,
    "start_time": "2023-03-21T20:11:34.914Z"
   },
   {
    "duration": 61,
    "start_time": "2023-03-21T20:11:35.087Z"
   },
   {
    "duration": 71,
    "start_time": "2023-03-21T20:36:36.327Z"
   },
   {
    "duration": 14,
    "start_time": "2023-03-21T20:36:44.103Z"
   },
   {
    "duration": 57,
    "start_time": "2023-03-21T20:54:37.584Z"
   },
   {
    "duration": 64,
    "start_time": "2023-03-21T20:59:49.939Z"
   },
   {
    "duration": 22,
    "start_time": "2023-03-21T21:40:02.444Z"
   },
   {
    "duration": 5,
    "start_time": "2023-03-21T21:41:10.168Z"
   },
   {
    "duration": 175,
    "start_time": "2023-03-21T21:55:16.805Z"
   },
   {
    "duration": 694,
    "start_time": "2023-03-21T21:56:44.798Z"
   },
   {
    "duration": 4,
    "start_time": "2023-03-21T21:56:45.494Z"
   },
   {
    "duration": 135,
    "start_time": "2023-03-21T21:56:45.499Z"
   },
   {
    "duration": 18,
    "start_time": "2023-03-21T21:56:45.636Z"
   },
   {
    "duration": 1891,
    "start_time": "2023-03-21T21:56:45.655Z"
   },
   {
    "duration": 9,
    "start_time": "2023-03-21T21:56:47.548Z"
   },
   {
    "duration": 19,
    "start_time": "2023-03-21T21:56:47.558Z"
   },
   {
    "duration": 231,
    "start_time": "2023-03-21T21:56:47.579Z"
   },
   {
    "duration": 13,
    "start_time": "2023-03-21T21:56:47.812Z"
   },
   {
    "duration": 22,
    "start_time": "2023-03-21T21:56:47.828Z"
   },
   {
    "duration": 7,
    "start_time": "2023-03-21T21:56:47.852Z"
   },
   {
    "duration": 9,
    "start_time": "2023-03-21T21:56:47.860Z"
   },
   {
    "duration": 12,
    "start_time": "2023-03-21T21:56:47.889Z"
   },
   {
    "duration": 6,
    "start_time": "2023-03-21T21:56:47.902Z"
   },
   {
    "duration": 26,
    "start_time": "2023-03-21T21:56:47.909Z"
   },
   {
    "duration": 10,
    "start_time": "2023-03-21T21:56:47.937Z"
   },
   {
    "duration": 81,
    "start_time": "2023-03-21T21:56:47.948Z"
   },
   {
    "duration": 6,
    "start_time": "2023-03-21T21:56:48.031Z"
   },
   {
    "duration": 6,
    "start_time": "2023-03-21T21:56:48.039Z"
   },
   {
    "duration": 13,
    "start_time": "2023-03-21T21:56:48.046Z"
   },
   {
    "duration": 2,
    "start_time": "2023-03-21T21:56:48.061Z"
   },
   {
    "duration": 5,
    "start_time": "2023-03-21T21:56:48.088Z"
   },
   {
    "duration": 3,
    "start_time": "2023-03-21T21:56:48.095Z"
   },
   {
    "duration": 5,
    "start_time": "2023-03-21T21:56:48.100Z"
   },
   {
    "duration": 4,
    "start_time": "2023-03-21T21:56:48.107Z"
   },
   {
    "duration": 6,
    "start_time": "2023-03-21T21:56:48.112Z"
   },
   {
    "duration": 5,
    "start_time": "2023-03-21T21:56:48.119Z"
   },
   {
    "duration": 3,
    "start_time": "2023-03-21T21:56:48.128Z"
   },
   {
    "duration": 5,
    "start_time": "2023-03-21T21:56:48.132Z"
   },
   {
    "duration": 7,
    "start_time": "2023-03-21T21:56:48.138Z"
   },
   {
    "duration": 383,
    "start_time": "2023-03-21T21:56:48.146Z"
   },
   {
    "duration": 7,
    "start_time": "2023-03-21T21:56:48.531Z"
   },
   {
    "duration": 7,
    "start_time": "2023-03-21T21:56:48.539Z"
   },
   {
    "duration": 468,
    "start_time": "2023-03-21T21:56:48.547Z"
   },
   {
    "duration": 3,
    "start_time": "2023-03-21T21:56:49.017Z"
   },
   {
    "duration": 14,
    "start_time": "2023-03-21T21:56:49.021Z"
   },
   {
    "duration": 71,
    "start_time": "2023-03-21T21:56:49.036Z"
   },
   {
    "duration": 144,
    "start_time": "2023-03-21T21:56:49.109Z"
   },
   {
    "duration": 7,
    "start_time": "2023-03-21T21:56:49.255Z"
   },
   {
    "duration": 282,
    "start_time": "2023-03-21T21:56:49.264Z"
   },
   {
    "duration": 325,
    "start_time": "2023-03-21T21:56:49.547Z"
   },
   {
    "duration": 138,
    "start_time": "2023-03-21T21:56:49.874Z"
   },
   {
    "duration": 135,
    "start_time": "2023-03-21T21:56:50.014Z"
   },
   {
    "duration": 15,
    "start_time": "2023-03-21T21:56:50.150Z"
   },
   {
    "duration": 30,
    "start_time": "2023-03-21T21:56:50.167Z"
   },
   {
    "duration": 4,
    "start_time": "2023-03-21T21:56:50.199Z"
   },
   {
    "duration": 5,
    "start_time": "2023-03-21T21:56:50.205Z"
   },
   {
    "duration": 7,
    "start_time": "2023-03-21T21:56:50.211Z"
   },
   {
    "duration": 6,
    "start_time": "2023-03-21T21:56:50.219Z"
   },
   {
    "duration": 5,
    "start_time": "2023-03-21T21:56:50.226Z"
   },
   {
    "duration": 399,
    "start_time": "2023-03-21T21:56:50.233Z"
   },
   {
    "duration": 3,
    "start_time": "2023-03-21T21:56:50.634Z"
   },
   {
    "duration": 32,
    "start_time": "2023-03-21T21:56:50.639Z"
   },
   {
    "duration": 194,
    "start_time": "2023-03-21T21:56:50.673Z"
   },
   {
    "duration": 20,
    "start_time": "2023-03-21T21:56:50.869Z"
   },
   {
    "duration": 179,
    "start_time": "2023-03-21T21:56:50.890Z"
   },
   {
    "duration": 19,
    "start_time": "2023-03-21T21:56:51.070Z"
   },
   {
    "duration": 162,
    "start_time": "2023-03-21T21:56:51.090Z"
   },
   {
    "duration": 9,
    "start_time": "2023-03-21T21:56:51.253Z"
   },
   {
    "duration": 189,
    "start_time": "2023-03-21T21:56:51.264Z"
   },
   {
    "duration": 8,
    "start_time": "2023-03-21T21:56:51.454Z"
   },
   {
    "duration": 147,
    "start_time": "2023-03-21T21:56:51.464Z"
   },
   {
    "duration": 8,
    "start_time": "2023-03-21T21:56:51.613Z"
   },
   {
    "duration": 193,
    "start_time": "2023-03-21T21:56:51.622Z"
   },
   {
    "duration": 9,
    "start_time": "2023-03-21T21:56:51.817Z"
   },
   {
    "duration": 165,
    "start_time": "2023-03-21T21:56:51.827Z"
   },
   {
    "duration": 7,
    "start_time": "2023-03-21T21:56:51.994Z"
   },
   {
    "duration": 120,
    "start_time": "2023-03-21T21:56:52.003Z"
   },
   {
    "duration": 7,
    "start_time": "2023-03-21T21:56:52.125Z"
   },
   {
    "duration": 185,
    "start_time": "2023-03-21T21:56:52.133Z"
   },
   {
    "duration": 279,
    "start_time": "2023-03-21T21:56:52.320Z"
   },
   {
    "duration": 10,
    "start_time": "2023-03-21T21:56:52.601Z"
   },
   {
    "duration": 169,
    "start_time": "2023-03-21T21:56:52.613Z"
   },
   {
    "duration": 10,
    "start_time": "2023-03-21T21:56:52.784Z"
   },
   {
    "duration": 189,
    "start_time": "2023-03-21T21:56:52.795Z"
   },
   {
    "duration": 10,
    "start_time": "2023-03-21T21:56:52.987Z"
   },
   {
    "duration": 136,
    "start_time": "2023-03-21T21:56:52.998Z"
   },
   {
    "duration": 139,
    "start_time": "2023-03-21T21:56:53.136Z"
   },
   {
    "duration": 372,
    "start_time": "2023-03-21T21:56:53.276Z"
   },
   {
    "duration": 8,
    "start_time": "2023-03-21T21:56:53.650Z"
   },
   {
    "duration": 30,
    "start_time": "2023-03-21T21:56:53.660Z"
   },
   {
    "duration": 129,
    "start_time": "2023-03-21T21:56:53.698Z"
   },
   {
    "duration": 323,
    "start_time": "2023-03-21T21:56:53.829Z"
   },
   {
    "duration": 18,
    "start_time": "2023-03-21T21:56:54.154Z"
   },
   {
    "duration": 17,
    "start_time": "2023-03-21T21:56:54.174Z"
   },
   {
    "duration": 154,
    "start_time": "2023-03-21T21:56:54.192Z"
   },
   {
    "duration": 17,
    "start_time": "2023-03-21T21:56:54.348Z"
   },
   {
    "duration": 21,
    "start_time": "2023-03-21T21:56:54.367Z"
   },
   {
    "duration": 143,
    "start_time": "2023-03-21T21:56:54.390Z"
   },
   {
    "duration": 18,
    "start_time": "2023-03-21T21:56:54.535Z"
   },
   {
    "duration": 5,
    "start_time": "2023-03-21T21:56:54.555Z"
   },
   {
    "duration": 155,
    "start_time": "2023-03-21T21:56:54.562Z"
   },
   {
    "duration": 14,
    "start_time": "2023-03-21T21:56:54.718Z"
   },
   {
    "duration": 4,
    "start_time": "2023-03-21T21:56:54.734Z"
   },
   {
    "duration": 178,
    "start_time": "2023-03-21T21:56:54.740Z"
   },
   {
    "duration": 15,
    "start_time": "2023-03-21T21:56:54.920Z"
   },
   {
    "duration": 123,
    "start_time": "2023-03-21T21:56:54.937Z"
   },
   {
    "duration": 27,
    "start_time": "2023-03-21T21:56:55.061Z"
   },
   {
    "duration": 156,
    "start_time": "2023-03-21T21:56:55.090Z"
   },
   {
    "duration": 13,
    "start_time": "2023-03-21T21:56:55.248Z"
   },
   {
    "duration": 183,
    "start_time": "2023-03-21T21:56:55.262Z"
   },
   {
    "duration": 14,
    "start_time": "2023-03-21T21:56:55.446Z"
   },
   {
    "duration": 12,
    "start_time": "2023-03-21T21:56:55.462Z"
   },
   {
    "duration": 145,
    "start_time": "2023-03-21T21:56:55.476Z"
   },
   {
    "duration": 9,
    "start_time": "2023-03-21T21:56:55.623Z"
   },
   {
    "duration": 56,
    "start_time": "2023-03-21T21:56:55.634Z"
   },
   {
    "duration": 16,
    "start_time": "2023-03-21T21:56:55.692Z"
   },
   {
    "duration": 178,
    "start_time": "2023-03-21T21:56:55.709Z"
   },
   {
    "duration": 41,
    "start_time": "2023-03-21T21:56:55.889Z"
   },
   {
    "duration": 16,
    "start_time": "2023-03-21T21:56:55.931Z"
   },
   {
    "duration": 4,
    "start_time": "2023-03-21T21:56:55.949Z"
   },
   {
    "duration": 167,
    "start_time": "2023-03-21T21:56:55.955Z"
   },
   {
    "duration": 19,
    "start_time": "2023-03-21T21:56:56.124Z"
   },
   {
    "duration": 5,
    "start_time": "2023-03-21T21:56:56.145Z"
   },
   {
    "duration": 163,
    "start_time": "2023-03-21T21:56:56.152Z"
   },
   {
    "duration": 39,
    "start_time": "2023-03-21T21:56:56.317Z"
   },
   {
    "duration": 258,
    "start_time": "2023-03-21T22:04:54.490Z"
   },
   {
    "duration": 205,
    "start_time": "2023-03-21T22:05:16.081Z"
   },
   {
    "duration": 183,
    "start_time": "2023-03-21T22:06:01.544Z"
   },
   {
    "duration": 180,
    "start_time": "2023-03-21T22:07:16.848Z"
   },
   {
    "duration": 305,
    "start_time": "2023-03-21T22:10:51.301Z"
   },
   {
    "duration": 189,
    "start_time": "2023-03-21T22:11:40.311Z"
   },
   {
    "duration": 197,
    "start_time": "2023-03-21T22:12:18.595Z"
   },
   {
    "duration": 195,
    "start_time": "2023-03-21T22:14:11.379Z"
   },
   {
    "duration": 196,
    "start_time": "2023-03-21T22:14:56.521Z"
   },
   {
    "duration": 180,
    "start_time": "2023-03-21T22:15:26.476Z"
   },
   {
    "duration": 178,
    "start_time": "2023-03-21T22:16:17.420Z"
   },
   {
    "duration": 177,
    "start_time": "2023-03-21T22:16:24.469Z"
   },
   {
    "duration": 354,
    "start_time": "2023-03-21T22:16:40.127Z"
   },
   {
    "duration": 121,
    "start_time": "2023-03-21T22:17:07.440Z"
   },
   {
    "duration": 300,
    "start_time": "2023-03-21T22:17:49.838Z"
   },
   {
    "duration": 140,
    "start_time": "2023-03-21T22:17:54.452Z"
   },
   {
    "duration": 191,
    "start_time": "2023-03-21T22:18:47.612Z"
   },
   {
    "duration": 145,
    "start_time": "2023-03-21T22:19:17.917Z"
   },
   {
    "duration": 160,
    "start_time": "2023-03-21T22:20:55.019Z"
   },
   {
    "duration": 115,
    "start_time": "2023-03-21T22:21:58.133Z"
   },
   {
    "duration": 145,
    "start_time": "2023-03-21T22:22:35.580Z"
   },
   {
    "duration": 143,
    "start_time": "2023-03-21T22:22:41.091Z"
   },
   {
    "duration": 148,
    "start_time": "2023-03-21T22:22:46.871Z"
   },
   {
    "duration": 149,
    "start_time": "2023-03-21T22:23:21.467Z"
   },
   {
    "duration": 198,
    "start_time": "2023-03-21T22:25:38.984Z"
   },
   {
    "duration": 9,
    "start_time": "2023-03-21T22:25:40.106Z"
   },
   {
    "duration": 9,
    "start_time": "2023-03-21T22:28:54.632Z"
   },
   {
    "duration": 51,
    "start_time": "2023-03-21T22:29:08.549Z"
   },
   {
    "duration": 197,
    "start_time": "2023-03-21T22:33:03.473Z"
   },
   {
    "duration": 212,
    "start_time": "2023-03-21T22:33:11.906Z"
   },
   {
    "duration": 219,
    "start_time": "2023-03-21T22:33:19.734Z"
   },
   {
    "duration": 139,
    "start_time": "2023-03-21T22:34:46.610Z"
   },
   {
    "duration": 191,
    "start_time": "2023-03-21T22:35:32.673Z"
   },
   {
    "duration": 310,
    "start_time": "2023-03-21T22:36:26.164Z"
   },
   {
    "duration": 138,
    "start_time": "2023-03-21T22:37:13.731Z"
   },
   {
    "duration": 150,
    "start_time": "2023-03-21T22:37:54.790Z"
   },
   {
    "duration": 377,
    "start_time": "2023-03-21T22:39:18.974Z"
   },
   {
    "duration": 113,
    "start_time": "2023-03-21T22:41:37.918Z"
   },
   {
    "duration": 14,
    "start_time": "2023-03-21T23:20:19.927Z"
   },
   {
    "duration": 9,
    "start_time": "2023-03-21T23:21:49.978Z"
   },
   {
    "duration": 13,
    "start_time": "2023-03-21T23:22:00.733Z"
   },
   {
    "duration": 132,
    "start_time": "2023-03-21T23:22:10.607Z"
   },
   {
    "duration": 78,
    "start_time": "2023-03-21T23:29:10.714Z"
   },
   {
    "duration": 17,
    "start_time": "2023-03-21T23:29:17.888Z"
   },
   {
    "duration": 14,
    "start_time": "2023-03-21T23:29:55.434Z"
   },
   {
    "duration": 10,
    "start_time": "2023-03-21T23:30:42.142Z"
   },
   {
    "duration": 13,
    "start_time": "2023-03-21T23:30:55.305Z"
   },
   {
    "duration": 14,
    "start_time": "2023-03-21T23:31:40.956Z"
   },
   {
    "duration": 13,
    "start_time": "2023-03-21T23:31:51.964Z"
   },
   {
    "duration": 12,
    "start_time": "2023-03-21T23:32:19.803Z"
   },
   {
    "duration": 18,
    "start_time": "2023-03-21T23:33:24.600Z"
   },
   {
    "duration": 18,
    "start_time": "2023-03-21T23:33:41.194Z"
   },
   {
    "duration": 18,
    "start_time": "2023-03-21T23:33:59.016Z"
   },
   {
    "duration": 18,
    "start_time": "2023-03-21T23:34:42.262Z"
   },
   {
    "duration": 129,
    "start_time": "2023-03-21T23:35:57.871Z"
   },
   {
    "duration": 39,
    "start_time": "2023-03-21T23:57:20.156Z"
   },
   {
    "duration": 30,
    "start_time": "2023-03-21T23:57:59.701Z"
   },
   {
    "duration": 52,
    "start_time": "2023-03-21T23:58:13.946Z"
   },
   {
    "duration": 32,
    "start_time": "2023-03-22T00:00:38.080Z"
   },
   {
    "duration": 39,
    "start_time": "2023-03-22T00:15:16.489Z"
   },
   {
    "duration": 44,
    "start_time": "2023-03-22T00:16:44.667Z"
   },
   {
    "duration": 7,
    "start_time": "2023-03-22T00:17:09.488Z"
   },
   {
    "duration": 7,
    "start_time": "2023-03-22T00:18:02.901Z"
   },
   {
    "duration": 9,
    "start_time": "2023-03-22T00:18:18.569Z"
   },
   {
    "duration": 9,
    "start_time": "2023-03-22T00:18:33.024Z"
   },
   {
    "duration": 78,
    "start_time": "2023-03-22T00:26:33.759Z"
   },
   {
    "duration": 137,
    "start_time": "2023-03-22T00:36:42.813Z"
   },
   {
    "duration": 148,
    "start_time": "2023-03-22T00:41:33.563Z"
   },
   {
    "duration": 9,
    "start_time": "2023-03-22T00:41:59.388Z"
   },
   {
    "duration": 82,
    "start_time": "2023-03-22T00:43:08.736Z"
   },
   {
    "duration": 140,
    "start_time": "2023-03-22T00:43:13.138Z"
   },
   {
    "duration": 687,
    "start_time": "2023-03-22T00:43:20.556Z"
   },
   {
    "duration": 3,
    "start_time": "2023-03-22T00:43:21.245Z"
   },
   {
    "duration": 124,
    "start_time": "2023-03-22T00:43:21.249Z"
   },
   {
    "duration": 21,
    "start_time": "2023-03-22T00:43:21.375Z"
   },
   {
    "duration": 1842,
    "start_time": "2023-03-22T00:43:21.398Z"
   },
   {
    "duration": 9,
    "start_time": "2023-03-22T00:43:23.243Z"
   },
   {
    "duration": 4,
    "start_time": "2023-03-22T00:43:23.254Z"
   },
   {
    "duration": 219,
    "start_time": "2023-03-22T00:43:23.259Z"
   },
   {
    "duration": 18,
    "start_time": "2023-03-22T00:43:23.480Z"
   },
   {
    "duration": 10,
    "start_time": "2023-03-22T00:43:23.501Z"
   },
   {
    "duration": 7,
    "start_time": "2023-03-22T00:43:23.513Z"
   },
   {
    "duration": 11,
    "start_time": "2023-03-22T00:43:23.522Z"
   },
   {
    "duration": 22,
    "start_time": "2023-03-22T00:43:23.535Z"
   },
   {
    "duration": 16,
    "start_time": "2023-03-22T00:43:23.558Z"
   },
   {
    "duration": 30,
    "start_time": "2023-03-22T00:43:23.576Z"
   },
   {
    "duration": 11,
    "start_time": "2023-03-22T00:43:23.607Z"
   },
   {
    "duration": 79,
    "start_time": "2023-03-22T00:43:23.619Z"
   },
   {
    "duration": 8,
    "start_time": "2023-03-22T00:43:23.699Z"
   },
   {
    "duration": 8,
    "start_time": "2023-03-22T00:43:23.708Z"
   },
   {
    "duration": 13,
    "start_time": "2023-03-22T00:43:23.720Z"
   },
   {
    "duration": 3,
    "start_time": "2023-03-22T00:43:23.735Z"
   },
   {
    "duration": 6,
    "start_time": "2023-03-22T00:43:23.740Z"
   },
   {
    "duration": 9,
    "start_time": "2023-03-22T00:43:23.749Z"
   },
   {
    "duration": 32,
    "start_time": "2023-03-22T00:43:23.760Z"
   },
   {
    "duration": 4,
    "start_time": "2023-03-22T00:43:23.793Z"
   },
   {
    "duration": 8,
    "start_time": "2023-03-22T00:43:23.798Z"
   },
   {
    "duration": 11,
    "start_time": "2023-03-22T00:43:23.807Z"
   },
   {
    "duration": 6,
    "start_time": "2023-03-22T00:43:23.822Z"
   },
   {
    "duration": 5,
    "start_time": "2023-03-22T00:43:23.830Z"
   },
   {
    "duration": 6,
    "start_time": "2023-03-22T00:43:23.836Z"
   },
   {
    "duration": 390,
    "start_time": "2023-03-22T00:43:23.844Z"
   },
   {
    "duration": 7,
    "start_time": "2023-03-22T00:43:24.236Z"
   },
   {
    "duration": 7,
    "start_time": "2023-03-22T00:43:24.245Z"
   },
   {
    "duration": 454,
    "start_time": "2023-03-22T00:43:24.254Z"
   },
   {
    "duration": 4,
    "start_time": "2023-03-22T00:43:24.709Z"
   },
   {
    "duration": 14,
    "start_time": "2023-03-22T00:43:24.715Z"
   },
   {
    "duration": 72,
    "start_time": "2023-03-22T00:43:24.731Z"
   },
   {
    "duration": 300,
    "start_time": "2023-03-22T00:43:24.805Z"
   },
   {
    "duration": 7,
    "start_time": "2023-03-22T00:43:25.107Z"
   },
   {
    "duration": 306,
    "start_time": "2023-03-22T00:43:25.116Z"
   },
   {
    "duration": 283,
    "start_time": "2023-03-22T00:43:25.424Z"
   },
   {
    "duration": 130,
    "start_time": "2023-03-22T00:43:25.709Z"
   },
   {
    "duration": 128,
    "start_time": "2023-03-22T00:43:25.841Z"
   },
   {
    "duration": 26,
    "start_time": "2023-03-22T00:43:25.971Z"
   },
   {
    "duration": 18,
    "start_time": "2023-03-22T00:43:25.999Z"
   },
   {
    "duration": 4,
    "start_time": "2023-03-22T00:43:26.019Z"
   },
   {
    "duration": 15,
    "start_time": "2023-03-22T00:43:26.025Z"
   },
   {
    "duration": 76,
    "start_time": "2023-03-22T00:43:26.042Z"
   },
   {
    "duration": 5,
    "start_time": "2023-03-22T00:43:26.120Z"
   },
   {
    "duration": 11,
    "start_time": "2023-03-22T00:43:26.126Z"
   },
   {
    "duration": 6,
    "start_time": "2023-03-22T00:43:26.139Z"
   },
   {
    "duration": 5,
    "start_time": "2023-03-22T00:43:26.147Z"
   },
   {
    "duration": 407,
    "start_time": "2023-03-22T00:43:26.154Z"
   },
   {
    "duration": 5,
    "start_time": "2023-03-22T00:43:26.563Z"
   },
   {
    "duration": 38,
    "start_time": "2023-03-22T00:43:26.569Z"
   },
   {
    "duration": 194,
    "start_time": "2023-03-22T00:43:26.609Z"
   },
   {
    "duration": 10,
    "start_time": "2023-03-22T00:43:26.805Z"
   },
   {
    "duration": 197,
    "start_time": "2023-03-22T00:43:26.816Z"
   },
   {
    "duration": 8,
    "start_time": "2023-03-22T00:43:27.015Z"
   },
   {
    "duration": 183,
    "start_time": "2023-03-22T00:43:27.024Z"
   },
   {
    "duration": 9,
    "start_time": "2023-03-22T00:43:27.208Z"
   },
   {
    "duration": 347,
    "start_time": "2023-03-22T00:43:27.218Z"
   },
   {
    "duration": 9,
    "start_time": "2023-03-22T00:43:27.566Z"
   },
   {
    "duration": 145,
    "start_time": "2023-03-22T00:43:27.588Z"
   },
   {
    "duration": 7,
    "start_time": "2023-03-22T00:43:27.734Z"
   },
   {
    "duration": 214,
    "start_time": "2023-03-22T00:43:27.743Z"
   },
   {
    "duration": 45,
    "start_time": "2023-03-22T00:43:27.959Z"
   },
   {
    "duration": 9,
    "start_time": "2023-03-22T00:43:28.005Z"
   },
   {
    "duration": 172,
    "start_time": "2023-03-22T00:43:28.016Z"
   },
   {
    "duration": 8,
    "start_time": "2023-03-22T00:43:28.189Z"
   },
   {
    "duration": 125,
    "start_time": "2023-03-22T00:43:28.199Z"
   },
   {
    "duration": 7,
    "start_time": "2023-03-22T00:43:28.325Z"
   },
   {
    "duration": 255,
    "start_time": "2023-03-22T00:43:28.333Z"
   },
   {
    "duration": 215,
    "start_time": "2023-03-22T00:43:28.590Z"
   },
   {
    "duration": 9,
    "start_time": "2023-03-22T00:43:28.806Z"
   },
   {
    "duration": 163,
    "start_time": "2023-03-22T00:43:28.816Z"
   },
   {
    "duration": 12,
    "start_time": "2023-03-22T00:43:28.981Z"
   },
   {
    "duration": 196,
    "start_time": "2023-03-22T00:43:28.995Z"
   },
   {
    "duration": 9,
    "start_time": "2023-03-22T00:43:29.193Z"
   },
   {
    "duration": 148,
    "start_time": "2023-03-22T00:43:29.203Z"
   },
   {
    "duration": 145,
    "start_time": "2023-03-22T00:43:29.353Z"
   },
   {
    "duration": 367,
    "start_time": "2023-03-22T00:43:29.505Z"
   },
   {
    "duration": 17,
    "start_time": "2023-03-22T00:43:29.873Z"
   },
   {
    "duration": 12,
    "start_time": "2023-03-22T00:43:29.891Z"
   },
   {
    "duration": 127,
    "start_time": "2023-03-22T00:43:29.905Z"
   },
   {
    "duration": 347,
    "start_time": "2023-03-22T00:43:30.034Z"
   },
   {
    "duration": 20,
    "start_time": "2023-03-22T00:43:30.383Z"
   },
   {
    "duration": 5,
    "start_time": "2023-03-22T00:43:30.405Z"
   },
   {
    "duration": 151,
    "start_time": "2023-03-22T00:43:30.411Z"
   },
   {
    "duration": 17,
    "start_time": "2023-03-22T00:43:30.563Z"
   },
   {
    "duration": 17,
    "start_time": "2023-03-22T00:43:30.588Z"
   },
   {
    "duration": 145,
    "start_time": "2023-03-22T00:43:30.607Z"
   },
   {
    "duration": 16,
    "start_time": "2023-03-22T00:43:30.754Z"
   },
   {
    "duration": 32,
    "start_time": "2023-03-22T00:43:30.772Z"
   },
   {
    "duration": 159,
    "start_time": "2023-03-22T00:43:30.806Z"
   },
   {
    "duration": 25,
    "start_time": "2023-03-22T00:43:30.967Z"
   },
   {
    "duration": 23,
    "start_time": "2023-03-22T00:43:30.994Z"
   },
   {
    "duration": 161,
    "start_time": "2023-03-22T00:43:31.019Z"
   },
   {
    "duration": 16,
    "start_time": "2023-03-22T00:43:31.189Z"
   },
   {
    "duration": 134,
    "start_time": "2023-03-22T00:43:31.207Z"
   },
   {
    "duration": 15,
    "start_time": "2023-03-22T00:43:31.343Z"
   },
   {
    "duration": 150,
    "start_time": "2023-03-22T00:43:31.360Z"
   },
   {
    "duration": 16,
    "start_time": "2023-03-22T00:43:31.512Z"
   },
   {
    "duration": 209,
    "start_time": "2023-03-22T00:43:31.530Z"
   },
   {
    "duration": 14,
    "start_time": "2023-03-22T00:43:31.741Z"
   },
   {
    "duration": 33,
    "start_time": "2023-03-22T00:43:31.756Z"
   },
   {
    "duration": 151,
    "start_time": "2023-03-22T00:43:31.790Z"
   },
   {
    "duration": 13,
    "start_time": "2023-03-22T00:43:31.943Z"
   },
   {
    "duration": 148,
    "start_time": "2023-03-22T00:43:31.957Z"
   },
   {
    "duration": 12,
    "start_time": "2023-03-22T00:43:32.107Z"
   },
   {
    "duration": 190,
    "start_time": "2023-03-22T00:43:32.120Z"
   },
   {
    "duration": 8,
    "start_time": "2023-03-22T00:43:32.312Z"
   },
   {
    "duration": 48,
    "start_time": "2023-03-22T00:43:32.322Z"
   },
   {
    "duration": 22,
    "start_time": "2023-03-22T00:43:32.371Z"
   },
   {
    "duration": 168,
    "start_time": "2023-03-22T00:43:32.394Z"
   },
   {
    "duration": 50,
    "start_time": "2023-03-22T00:43:32.564Z"
   },
   {
    "duration": 16,
    "start_time": "2023-03-22T00:43:32.616Z"
   },
   {
    "duration": 11,
    "start_time": "2023-03-22T00:43:32.633Z"
   },
   {
    "duration": 144,
    "start_time": "2023-03-22T00:43:32.646Z"
   },
   {
    "duration": 17,
    "start_time": "2023-03-22T00:43:32.792Z"
   },
   {
    "duration": 6,
    "start_time": "2023-03-22T00:43:32.811Z"
   },
   {
    "duration": 151,
    "start_time": "2023-03-22T00:43:32.819Z"
   },
   {
    "duration": 40,
    "start_time": "2023-03-22T00:43:32.972Z"
   },
   {
    "duration": 8,
    "start_time": "2023-03-22T00:43:33.014Z"
   },
   {
    "duration": 9,
    "start_time": "2023-03-22T00:43:33.024Z"
   },
   {
    "duration": 72,
    "start_time": "2023-03-22T00:43:33.035Z"
   },
   {
    "duration": 0,
    "start_time": "2023-03-22T00:43:33.109Z"
   },
   {
    "duration": 0,
    "start_time": "2023-03-22T00:43:33.110Z"
   },
   {
    "duration": 142,
    "start_time": "2023-03-22T00:43:42.162Z"
   },
   {
    "duration": 9,
    "start_time": "2023-03-22T00:43:46.807Z"
   },
   {
    "duration": 767,
    "start_time": "2023-03-22T21:16:06.722Z"
   },
   {
    "duration": 5,
    "start_time": "2023-03-22T21:16:07.492Z"
   },
   {
    "duration": 160,
    "start_time": "2023-03-22T21:16:07.500Z"
   },
   {
    "duration": 17,
    "start_time": "2023-03-22T21:16:07.662Z"
   },
   {
    "duration": 2271,
    "start_time": "2023-03-22T21:16:07.682Z"
   },
   {
    "duration": 12,
    "start_time": "2023-03-22T21:16:09.955Z"
   },
   {
    "duration": 23,
    "start_time": "2023-03-22T21:16:09.969Z"
   },
   {
    "duration": 303,
    "start_time": "2023-03-22T21:16:09.996Z"
   },
   {
    "duration": 20,
    "start_time": "2023-03-22T21:16:10.301Z"
   },
   {
    "duration": 22,
    "start_time": "2023-03-22T21:16:10.323Z"
   },
   {
    "duration": 17,
    "start_time": "2023-03-22T21:16:10.348Z"
   },
   {
    "duration": 33,
    "start_time": "2023-03-22T21:16:10.367Z"
   },
   {
    "duration": 50,
    "start_time": "2023-03-22T21:16:10.403Z"
   },
   {
    "duration": 19,
    "start_time": "2023-03-22T21:16:10.458Z"
   },
   {
    "duration": 66,
    "start_time": "2023-03-22T21:16:10.480Z"
   },
   {
    "duration": 18,
    "start_time": "2023-03-22T21:16:10.549Z"
   },
   {
    "duration": 189,
    "start_time": "2023-03-22T21:16:10.569Z"
   },
   {
    "duration": 11,
    "start_time": "2023-03-22T21:16:10.761Z"
   },
   {
    "duration": 26,
    "start_time": "2023-03-22T21:16:10.774Z"
   },
   {
    "duration": 15,
    "start_time": "2023-03-22T21:16:10.802Z"
   },
   {
    "duration": 3,
    "start_time": "2023-03-22T21:16:10.819Z"
   },
   {
    "duration": 16,
    "start_time": "2023-03-22T21:16:10.824Z"
   },
   {
    "duration": 6,
    "start_time": "2023-03-22T21:16:10.842Z"
   },
   {
    "duration": 12,
    "start_time": "2023-03-22T21:16:10.850Z"
   },
   {
    "duration": 34,
    "start_time": "2023-03-22T21:16:10.864Z"
   },
   {
    "duration": 9,
    "start_time": "2023-03-22T21:16:10.900Z"
   },
   {
    "duration": 24,
    "start_time": "2023-03-22T21:16:10.911Z"
   },
   {
    "duration": 18,
    "start_time": "2023-03-22T21:16:10.937Z"
   },
   {
    "duration": 26,
    "start_time": "2023-03-22T21:16:10.958Z"
   },
   {
    "duration": 19,
    "start_time": "2023-03-22T21:16:10.987Z"
   },
   {
    "duration": 657,
    "start_time": "2023-03-22T21:16:11.009Z"
   },
   {
    "duration": 9,
    "start_time": "2023-03-22T21:16:11.668Z"
   },
   {
    "duration": 22,
    "start_time": "2023-03-22T21:16:11.679Z"
   },
   {
    "duration": 537,
    "start_time": "2023-03-22T21:16:11.703Z"
   },
   {
    "duration": 4,
    "start_time": "2023-03-22T21:16:12.242Z"
   },
   {
    "duration": 21,
    "start_time": "2023-03-22T21:16:12.247Z"
   },
   {
    "duration": 108,
    "start_time": "2023-03-22T21:16:12.271Z"
   },
   {
    "duration": 229,
    "start_time": "2023-03-22T21:16:12.381Z"
   },
   {
    "duration": 8,
    "start_time": "2023-03-22T21:16:12.611Z"
   },
   {
    "duration": 341,
    "start_time": "2023-03-22T21:16:12.621Z"
   },
   {
    "duration": 354,
    "start_time": "2023-03-22T21:16:12.968Z"
   },
   {
    "duration": 189,
    "start_time": "2023-03-22T21:16:13.324Z"
   },
   {
    "duration": 197,
    "start_time": "2023-03-22T21:16:13.515Z"
   },
   {
    "duration": 19,
    "start_time": "2023-03-22T21:16:13.714Z"
   },
   {
    "duration": 34,
    "start_time": "2023-03-22T21:16:13.735Z"
   },
   {
    "duration": 94,
    "start_time": "2023-03-22T21:16:13.772Z"
   },
   {
    "duration": 33,
    "start_time": "2023-03-22T21:16:13.868Z"
   },
   {
    "duration": 53,
    "start_time": "2023-03-22T21:16:13.903Z"
   },
   {
    "duration": 6,
    "start_time": "2023-03-22T21:16:13.958Z"
   },
   {
    "duration": 31,
    "start_time": "2023-03-22T21:16:13.966Z"
   },
   {
    "duration": 6,
    "start_time": "2023-03-22T21:16:14.000Z"
   },
   {
    "duration": 16,
    "start_time": "2023-03-22T21:16:14.008Z"
   },
   {
    "duration": 510,
    "start_time": "2023-03-22T21:16:14.026Z"
   },
   {
    "duration": 6,
    "start_time": "2023-03-22T21:16:14.539Z"
   },
   {
    "duration": 40,
    "start_time": "2023-03-22T21:16:14.547Z"
   },
   {
    "duration": 240,
    "start_time": "2023-03-22T21:16:14.597Z"
   },
   {
    "duration": 17,
    "start_time": "2023-03-22T21:16:14.840Z"
   },
   {
    "duration": 244,
    "start_time": "2023-03-22T21:16:14.859Z"
   },
   {
    "duration": 13,
    "start_time": "2023-03-22T21:16:15.106Z"
   },
   {
    "duration": 254,
    "start_time": "2023-03-22T21:16:15.120Z"
   },
   {
    "duration": 23,
    "start_time": "2023-03-22T21:16:15.376Z"
   },
   {
    "duration": 437,
    "start_time": "2023-03-22T21:16:15.401Z"
   },
   {
    "duration": 11,
    "start_time": "2023-03-22T21:16:15.840Z"
   },
   {
    "duration": 184,
    "start_time": "2023-03-22T21:16:15.852Z"
   },
   {
    "duration": 9,
    "start_time": "2023-03-22T21:16:16.039Z"
   },
   {
    "duration": 255,
    "start_time": "2023-03-22T21:16:16.050Z"
   },
   {
    "duration": 47,
    "start_time": "2023-03-22T21:16:16.307Z"
   },
   {
    "duration": 10,
    "start_time": "2023-03-22T21:16:16.356Z"
   },
   {
    "duration": 207,
    "start_time": "2023-03-22T21:16:16.368Z"
   },
   {
    "duration": 21,
    "start_time": "2023-03-22T21:16:16.577Z"
   },
   {
    "duration": 145,
    "start_time": "2023-03-22T21:16:16.600Z"
   },
   {
    "duration": 9,
    "start_time": "2023-03-22T21:16:16.747Z"
   },
   {
    "duration": 291,
    "start_time": "2023-03-22T21:16:16.759Z"
   },
   {
    "duration": 253,
    "start_time": "2023-03-22T21:16:17.051Z"
   },
   {
    "duration": 10,
    "start_time": "2023-03-22T21:16:17.306Z"
   },
   {
    "duration": 192,
    "start_time": "2023-03-22T21:16:17.318Z"
   },
   {
    "duration": 11,
    "start_time": "2023-03-22T21:16:17.512Z"
   },
   {
    "duration": 253,
    "start_time": "2023-03-22T21:16:17.525Z"
   },
   {
    "duration": 21,
    "start_time": "2023-03-22T21:16:17.781Z"
   },
   {
    "duration": 176,
    "start_time": "2023-03-22T21:16:17.804Z"
   },
   {
    "duration": 169,
    "start_time": "2023-03-22T21:16:17.981Z"
   },
   {
    "duration": 444,
    "start_time": "2023-03-22T21:16:18.153Z"
   },
   {
    "duration": 11,
    "start_time": "2023-03-22T21:16:18.599Z"
   },
   {
    "duration": 33,
    "start_time": "2023-03-22T21:16:18.612Z"
   },
   {
    "duration": 146,
    "start_time": "2023-03-22T21:16:18.647Z"
   },
   {
    "duration": 399,
    "start_time": "2023-03-22T21:16:18.798Z"
   },
   {
    "duration": 21,
    "start_time": "2023-03-22T21:16:19.199Z"
   },
   {
    "duration": 13,
    "start_time": "2023-03-22T21:16:19.222Z"
   },
   {
    "duration": 204,
    "start_time": "2023-03-22T21:16:19.237Z"
   },
   {
    "duration": 26,
    "start_time": "2023-03-22T21:16:19.444Z"
   },
   {
    "duration": 5,
    "start_time": "2023-03-22T21:16:19.472Z"
   },
   {
    "duration": 175,
    "start_time": "2023-03-22T21:16:19.497Z"
   },
   {
    "duration": 29,
    "start_time": "2023-03-22T21:16:19.674Z"
   },
   {
    "duration": 7,
    "start_time": "2023-03-22T21:16:19.704Z"
   },
   {
    "duration": 159,
    "start_time": "2023-03-22T21:16:19.713Z"
   },
   {
    "duration": 25,
    "start_time": "2023-03-22T21:16:19.874Z"
   },
   {
    "duration": 14,
    "start_time": "2023-03-22T21:16:19.900Z"
   },
   {
    "duration": 198,
    "start_time": "2023-03-22T21:16:19.916Z"
   },
   {
    "duration": 17,
    "start_time": "2023-03-22T21:16:20.116Z"
   },
   {
    "duration": 148,
    "start_time": "2023-03-22T21:16:20.136Z"
   },
   {
    "duration": 21,
    "start_time": "2023-03-22T21:16:20.286Z"
   },
   {
    "duration": 196,
    "start_time": "2023-03-22T21:16:20.309Z"
   },
   {
    "duration": 25,
    "start_time": "2023-03-22T21:16:20.506Z"
   },
   {
    "duration": 232,
    "start_time": "2023-03-22T21:16:20.533Z"
   },
   {
    "duration": 29,
    "start_time": "2023-03-22T21:16:20.767Z"
   },
   {
    "duration": 5,
    "start_time": "2023-03-22T21:16:20.799Z"
   },
   {
    "duration": 169,
    "start_time": "2023-03-22T21:16:20.806Z"
   },
   {
    "duration": 26,
    "start_time": "2023-03-22T21:16:20.977Z"
   },
   {
    "duration": 205,
    "start_time": "2023-03-22T21:16:21.005Z"
   },
   {
    "duration": 14,
    "start_time": "2023-03-22T21:16:21.212Z"
   },
   {
    "duration": 185,
    "start_time": "2023-03-22T21:16:21.228Z"
   },
   {
    "duration": 9,
    "start_time": "2023-03-22T21:16:21.415Z"
   },
   {
    "duration": 62,
    "start_time": "2023-03-22T21:16:21.426Z"
   },
   {
    "duration": 20,
    "start_time": "2023-03-22T21:16:21.499Z"
   },
   {
    "duration": 224,
    "start_time": "2023-03-22T21:16:21.521Z"
   },
   {
    "duration": 52,
    "start_time": "2023-03-22T21:16:21.747Z"
   },
   {
    "duration": 17,
    "start_time": "2023-03-22T21:16:21.801Z"
   },
   {
    "duration": 7,
    "start_time": "2023-03-22T21:16:21.820Z"
   },
   {
    "duration": 179,
    "start_time": "2023-03-22T21:16:21.829Z"
   },
   {
    "duration": 25,
    "start_time": "2023-03-22T21:16:22.010Z"
   },
   {
    "duration": 5,
    "start_time": "2023-03-22T21:16:22.037Z"
   },
   {
    "duration": 199,
    "start_time": "2023-03-22T21:16:22.052Z"
   },
   {
    "duration": 47,
    "start_time": "2023-03-22T21:16:22.253Z"
   },
   {
    "duration": 10,
    "start_time": "2023-03-22T21:16:22.302Z"
   },
   {
    "duration": 10,
    "start_time": "2023-03-22T21:16:22.313Z"
   },
   {
    "duration": 185,
    "start_time": "2023-03-22T21:16:22.325Z"
   },
   {
    "duration": 20,
    "start_time": "2023-03-22T21:24:09.348Z"
   },
   {
    "duration": 248,
    "start_time": "2023-03-22T21:25:15.735Z"
   },
   {
    "duration": 393,
    "start_time": "2023-03-22T21:27:08.690Z"
   },
   {
    "duration": 459,
    "start_time": "2023-03-22T21:29:28.623Z"
   },
   {
    "duration": 145,
    "start_time": "2023-03-22T21:29:29.620Z"
   },
   {
    "duration": 4393,
    "start_time": "2023-03-22T21:29:34.025Z"
   },
   {
    "duration": 460,
    "start_time": "2023-03-22T21:29:38.420Z"
   },
   {
    "duration": 1241,
    "start_time": "2023-03-22T21:29:38.883Z"
   },
   {
    "duration": 280,
    "start_time": "2023-03-22T21:29:40.127Z"
   },
   {
    "duration": 687,
    "start_time": "2023-03-22T21:29:56.450Z"
   },
   {
    "duration": 3,
    "start_time": "2023-03-22T21:29:57.140Z"
   },
   {
    "duration": 185,
    "start_time": "2023-03-22T21:29:57.145Z"
   },
   {
    "duration": 26,
    "start_time": "2023-03-22T21:29:57.333Z"
   },
   {
    "duration": 2350,
    "start_time": "2023-03-22T21:29:57.361Z"
   },
   {
    "duration": 17,
    "start_time": "2023-03-22T21:29:59.714Z"
   },
   {
    "duration": 7,
    "start_time": "2023-03-22T21:29:59.734Z"
   },
   {
    "duration": 284,
    "start_time": "2023-03-22T21:29:59.743Z"
   },
   {
    "duration": 24,
    "start_time": "2023-03-22T21:30:00.030Z"
   },
   {
    "duration": 24,
    "start_time": "2023-03-22T21:30:00.058Z"
   },
   {
    "duration": 36,
    "start_time": "2023-03-22T21:30:00.084Z"
   },
   {
    "duration": 24,
    "start_time": "2023-03-22T21:30:00.122Z"
   },
   {
    "duration": 183,
    "start_time": "2023-03-22T21:30:00.148Z"
   },
   {
    "duration": 26,
    "start_time": "2023-03-22T21:30:00.333Z"
   },
   {
    "duration": 43,
    "start_time": "2023-03-22T21:30:00.361Z"
   },
   {
    "duration": 41,
    "start_time": "2023-03-22T21:30:00.406Z"
   },
   {
    "duration": 103,
    "start_time": "2023-03-22T21:30:00.449Z"
   },
   {
    "duration": 9,
    "start_time": "2023-03-22T21:30:00.555Z"
   },
   {
    "duration": 73,
    "start_time": "2023-03-22T21:30:00.565Z"
   },
   {
    "duration": 62,
    "start_time": "2023-03-22T21:30:00.641Z"
   },
   {
    "duration": 13,
    "start_time": "2023-03-22T21:30:00.705Z"
   },
   {
    "duration": 21,
    "start_time": "2023-03-22T21:30:00.720Z"
   },
   {
    "duration": 13,
    "start_time": "2023-03-22T21:30:00.743Z"
   },
   {
    "duration": 31,
    "start_time": "2023-03-22T21:30:00.758Z"
   },
   {
    "duration": 21,
    "start_time": "2023-03-22T21:30:00.791Z"
   },
   {
    "duration": 32,
    "start_time": "2023-03-22T21:30:00.814Z"
   },
   {
    "duration": 34,
    "start_time": "2023-03-22T21:30:00.848Z"
   },
   {
    "duration": 18,
    "start_time": "2023-03-22T21:30:00.890Z"
   },
   {
    "duration": 15,
    "start_time": "2023-03-22T21:30:00.910Z"
   },
   {
    "duration": 65,
    "start_time": "2023-03-22T21:30:00.927Z"
   },
   {
    "duration": 517,
    "start_time": "2023-03-22T21:30:00.995Z"
   },
   {
    "duration": 10,
    "start_time": "2023-03-22T21:30:01.516Z"
   },
   {
    "duration": 90,
    "start_time": "2023-03-22T21:30:01.528Z"
   },
   {
    "duration": 685,
    "start_time": "2023-03-22T21:30:01.621Z"
   },
   {
    "duration": 4,
    "start_time": "2023-03-22T21:30:02.308Z"
   },
   {
    "duration": 38,
    "start_time": "2023-03-22T21:30:02.314Z"
   },
   {
    "duration": 94,
    "start_time": "2023-03-22T21:30:02.354Z"
   },
   {
    "duration": 392,
    "start_time": "2023-03-22T21:30:02.450Z"
   },
   {
    "duration": 10,
    "start_time": "2023-03-22T21:30:02.844Z"
   },
   {
    "duration": 361,
    "start_time": "2023-03-22T21:30:02.855Z"
   },
   {
    "duration": 358,
    "start_time": "2023-03-22T21:30:03.218Z"
   },
   {
    "duration": 209,
    "start_time": "2023-03-22T21:30:03.579Z"
   },
   {
    "duration": 222,
    "start_time": "2023-03-22T21:30:03.798Z"
   },
   {
    "duration": 25,
    "start_time": "2023-03-22T21:30:04.022Z"
   },
   {
    "duration": 49,
    "start_time": "2023-03-22T21:30:04.049Z"
   },
   {
    "duration": 5,
    "start_time": "2023-03-22T21:30:04.101Z"
   },
   {
    "duration": 24,
    "start_time": "2023-03-22T21:30:04.109Z"
   },
   {
    "duration": 85,
    "start_time": "2023-03-22T21:30:04.136Z"
   },
   {
    "duration": 29,
    "start_time": "2023-03-22T21:30:04.223Z"
   },
   {
    "duration": 6,
    "start_time": "2023-03-22T21:30:04.254Z"
   },
   {
    "duration": 12,
    "start_time": "2023-03-22T21:30:04.262Z"
   },
   {
    "duration": 7,
    "start_time": "2023-03-22T21:30:04.298Z"
   },
   {
    "duration": 11,
    "start_time": "2023-03-22T21:30:04.307Z"
   },
   {
    "duration": 459,
    "start_time": "2023-03-22T21:30:04.321Z"
   },
   {
    "duration": 5,
    "start_time": "2023-03-22T21:30:04.783Z"
   },
   {
    "duration": 37,
    "start_time": "2023-03-22T21:30:04.801Z"
   },
   {
    "duration": 232,
    "start_time": "2023-03-22T21:30:04.841Z"
   },
   {
    "duration": 9,
    "start_time": "2023-03-22T21:30:05.075Z"
   },
   {
    "duration": 306,
    "start_time": "2023-03-22T21:30:05.098Z"
   },
   {
    "duration": 13,
    "start_time": "2023-03-22T21:30:05.406Z"
   },
   {
    "duration": 245,
    "start_time": "2023-03-22T21:30:05.421Z"
   },
   {
    "duration": 12,
    "start_time": "2023-03-22T21:30:05.669Z"
   },
   {
    "duration": 464,
    "start_time": "2023-03-22T21:30:05.697Z"
   },
   {
    "duration": 10,
    "start_time": "2023-03-22T21:30:06.163Z"
   },
   {
    "duration": 192,
    "start_time": "2023-03-22T21:30:06.175Z"
   },
   {
    "duration": 9,
    "start_time": "2023-03-22T21:30:06.369Z"
   },
   {
    "duration": 257,
    "start_time": "2023-03-22T21:30:06.380Z"
   },
   {
    "duration": 59,
    "start_time": "2023-03-22T21:30:06.640Z"
   },
   {
    "duration": 14,
    "start_time": "2023-03-22T21:30:06.701Z"
   },
   {
    "duration": 270,
    "start_time": "2023-03-22T21:30:06.716Z"
   },
   {
    "duration": 244,
    "start_time": "2023-03-22T21:30:06.988Z"
   },
   {
    "duration": 10,
    "start_time": "2023-03-22T21:30:07.233Z"
   },
   {
    "duration": 261,
    "start_time": "2023-03-22T21:30:07.245Z"
   },
   {
    "duration": 11,
    "start_time": "2023-03-22T21:30:07.509Z"
   },
   {
    "duration": 261,
    "start_time": "2023-03-22T21:30:07.523Z"
   },
   {
    "duration": 353,
    "start_time": "2023-03-22T21:30:07.786Z"
   },
   {
    "duration": 13,
    "start_time": "2023-03-22T21:30:08.141Z"
   },
   {
    "duration": 210,
    "start_time": "2023-03-22T21:30:08.156Z"
   },
   {
    "duration": 10,
    "start_time": "2023-03-22T21:30:08.368Z"
   },
   {
    "duration": 281,
    "start_time": "2023-03-22T21:30:08.380Z"
   },
   {
    "duration": 10,
    "start_time": "2023-03-22T21:30:08.663Z"
   },
   {
    "duration": 193,
    "start_time": "2023-03-22T21:30:08.698Z"
   },
   {
    "duration": 182,
    "start_time": "2023-03-22T21:30:08.898Z"
   },
   {
    "duration": 457,
    "start_time": "2023-03-22T21:30:09.082Z"
   },
   {
    "duration": 12,
    "start_time": "2023-03-22T21:30:09.541Z"
   },
   {
    "duration": 13,
    "start_time": "2023-03-22T21:30:09.555Z"
   },
   {
    "duration": 290,
    "start_time": "2023-03-22T21:30:09.571Z"
   },
   {
    "duration": 288,
    "start_time": "2023-03-22T21:30:09.863Z"
   },
   {
    "duration": 303,
    "start_time": "2023-03-22T21:30:10.153Z"
   },
   {
    "duration": 42,
    "start_time": "2023-03-22T21:30:10.458Z"
   },
   {
    "duration": 19,
    "start_time": "2023-03-22T21:30:10.506Z"
   },
   {
    "duration": 188,
    "start_time": "2023-03-22T21:30:10.528Z"
   },
   {
    "duration": 21,
    "start_time": "2023-03-22T21:30:10.718Z"
   },
   {
    "duration": 6,
    "start_time": "2023-03-22T21:30:10.740Z"
   },
   {
    "duration": 180,
    "start_time": "2023-03-22T21:30:10.748Z"
   },
   {
    "duration": 19,
    "start_time": "2023-03-22T21:30:10.930Z"
   },
   {
    "duration": 5,
    "start_time": "2023-03-22T21:30:10.951Z"
   },
   {
    "duration": 197,
    "start_time": "2023-03-22T21:30:10.959Z"
   },
   {
    "duration": 17,
    "start_time": "2023-03-22T21:30:11.157Z"
   },
   {
    "duration": 23,
    "start_time": "2023-03-22T21:30:11.176Z"
   },
   {
    "duration": 191,
    "start_time": "2023-03-22T21:30:11.201Z"
   },
   {
    "duration": 16,
    "start_time": "2023-03-22T21:30:11.398Z"
   },
   {
    "duration": 147,
    "start_time": "2023-03-22T21:30:11.416Z"
   },
   {
    "duration": 17,
    "start_time": "2023-03-22T21:30:11.565Z"
   },
   {
    "duration": 164,
    "start_time": "2023-03-22T21:30:11.597Z"
   },
   {
    "duration": 35,
    "start_time": "2023-03-22T21:30:11.763Z"
   },
   {
    "duration": 190,
    "start_time": "2023-03-22T21:30:11.800Z"
   },
   {
    "duration": 16,
    "start_time": "2023-03-22T21:30:11.997Z"
   },
   {
    "duration": 7,
    "start_time": "2023-03-22T21:30:12.015Z"
   },
   {
    "duration": 180,
    "start_time": "2023-03-22T21:30:12.024Z"
   },
   {
    "duration": 16,
    "start_time": "2023-03-22T21:30:12.206Z"
   },
   {
    "duration": 180,
    "start_time": "2023-03-22T21:30:12.224Z"
   },
   {
    "duration": 14,
    "start_time": "2023-03-22T21:30:12.406Z"
   },
   {
    "duration": 192,
    "start_time": "2023-03-22T21:30:12.422Z"
   },
   {
    "duration": 10,
    "start_time": "2023-03-22T21:30:12.616Z"
   },
   {
    "duration": 49,
    "start_time": "2023-03-22T21:30:12.628Z"
   },
   {
    "duration": 32,
    "start_time": "2023-03-22T21:30:12.679Z"
   },
   {
    "duration": 214,
    "start_time": "2023-03-22T21:30:12.713Z"
   },
   {
    "duration": 51,
    "start_time": "2023-03-22T21:30:12.929Z"
   },
   {
    "duration": 31,
    "start_time": "2023-03-22T21:30:12.981Z"
   },
   {
    "duration": 9,
    "start_time": "2023-03-22T21:30:13.014Z"
   },
   {
    "duration": 177,
    "start_time": "2023-03-22T21:30:13.025Z"
   },
   {
    "duration": 25,
    "start_time": "2023-03-22T21:30:13.205Z"
   },
   {
    "duration": 6,
    "start_time": "2023-03-22T21:30:13.232Z"
   },
   {
    "duration": 226,
    "start_time": "2023-03-22T21:30:13.241Z"
   },
   {
    "duration": 56,
    "start_time": "2023-03-22T21:30:13.469Z"
   },
   {
    "duration": 12,
    "start_time": "2023-03-22T21:30:13.527Z"
   },
   {
    "duration": 14,
    "start_time": "2023-03-22T21:30:13.542Z"
   },
   {
    "duration": 202,
    "start_time": "2023-03-22T21:30:13.558Z"
   },
   {
    "duration": 639,
    "start_time": "2023-03-22T21:30:13.762Z"
   },
   {
    "duration": 4103,
    "start_time": "2023-03-22T21:30:14.403Z"
   },
   {
    "duration": 462,
    "start_time": "2023-03-22T21:30:18.508Z"
   },
   {
    "duration": 982,
    "start_time": "2023-03-22T21:30:18.972Z"
   },
   {
    "duration": 244,
    "start_time": "2023-03-22T21:30:19.957Z"
   },
   {
    "duration": 64,
    "start_time": "2023-03-23T19:54:50.898Z"
   },
   {
    "duration": 968,
    "start_time": "2023-03-23T19:55:05.094Z"
   },
   {
    "duration": 5,
    "start_time": "2023-03-23T19:55:06.065Z"
   },
   {
    "duration": 516,
    "start_time": "2023-03-23T19:55:06.075Z"
   },
   {
    "duration": 19,
    "start_time": "2023-03-23T19:55:06.599Z"
   },
   {
    "duration": 2302,
    "start_time": "2023-03-23T19:55:06.621Z"
   },
   {
    "duration": 13,
    "start_time": "2023-03-23T19:55:08.925Z"
   },
   {
    "duration": 13,
    "start_time": "2023-03-23T19:55:08.940Z"
   },
   {
    "duration": 314,
    "start_time": "2023-03-23T19:55:08.955Z"
   },
   {
    "duration": 21,
    "start_time": "2023-03-23T19:55:09.274Z"
   },
   {
    "duration": 21,
    "start_time": "2023-03-23T19:55:09.297Z"
   },
   {
    "duration": 9,
    "start_time": "2023-03-23T19:55:09.320Z"
   },
   {
    "duration": 18,
    "start_time": "2023-03-23T19:55:09.330Z"
   },
   {
    "duration": 44,
    "start_time": "2023-03-23T19:55:09.350Z"
   },
   {
    "duration": 7,
    "start_time": "2023-03-23T19:55:09.398Z"
   },
   {
    "duration": 24,
    "start_time": "2023-03-23T19:55:09.406Z"
   },
   {
    "duration": 19,
    "start_time": "2023-03-23T19:55:09.432Z"
   },
   {
    "duration": 112,
    "start_time": "2023-03-23T19:55:09.453Z"
   },
   {
    "duration": 10,
    "start_time": "2023-03-23T19:55:09.569Z"
   },
   {
    "duration": 10,
    "start_time": "2023-03-23T19:55:09.582Z"
   },
   {
    "duration": 18,
    "start_time": "2023-03-23T19:55:09.594Z"
   },
   {
    "duration": 3,
    "start_time": "2023-03-23T19:55:09.613Z"
   },
   {
    "duration": 66,
    "start_time": "2023-03-23T19:55:09.618Z"
   },
   {
    "duration": 9,
    "start_time": "2023-03-23T19:55:09.686Z"
   },
   {
    "duration": 8,
    "start_time": "2023-03-23T19:55:09.697Z"
   },
   {
    "duration": 5,
    "start_time": "2023-03-23T19:55:09.707Z"
   },
   {
    "duration": 7,
    "start_time": "2023-03-23T19:55:09.714Z"
   },
   {
    "duration": 12,
    "start_time": "2023-03-23T19:55:09.723Z"
   },
   {
    "duration": 43,
    "start_time": "2023-03-23T19:55:09.737Z"
   },
   {
    "duration": 6,
    "start_time": "2023-03-23T19:55:09.782Z"
   },
   {
    "duration": 7,
    "start_time": "2023-03-23T19:55:09.790Z"
   },
   {
    "duration": 488,
    "start_time": "2023-03-23T19:55:09.798Z"
   },
   {
    "duration": 9,
    "start_time": "2023-03-23T19:55:10.288Z"
   },
   {
    "duration": 14,
    "start_time": "2023-03-23T19:55:10.299Z"
   },
   {
    "duration": 581,
    "start_time": "2023-03-23T19:55:10.315Z"
   },
   {
    "duration": 4,
    "start_time": "2023-03-23T19:55:10.898Z"
   },
   {
    "duration": 17,
    "start_time": "2023-03-23T19:55:10.904Z"
   },
   {
    "duration": 92,
    "start_time": "2023-03-23T19:55:10.923Z"
   },
   {
    "duration": 299,
    "start_time": "2023-03-23T19:55:11.018Z"
   },
   {
    "duration": 8,
    "start_time": "2023-03-23T19:55:11.319Z"
   },
   {
    "duration": 358,
    "start_time": "2023-03-23T19:55:11.330Z"
   },
   {
    "duration": 387,
    "start_time": "2023-03-23T19:55:11.695Z"
   },
   {
    "duration": 143,
    "start_time": "2023-03-23T19:55:12.084Z"
   },
   {
    "duration": 163,
    "start_time": "2023-03-23T19:55:12.229Z"
   },
   {
    "duration": 18,
    "start_time": "2023-03-23T19:55:12.394Z"
   },
   {
    "duration": 47,
    "start_time": "2023-03-23T19:55:12.414Z"
   },
   {
    "duration": 19,
    "start_time": "2023-03-23T19:55:12.465Z"
   },
   {
    "duration": 23,
    "start_time": "2023-03-23T19:55:12.486Z"
   },
   {
    "duration": 76,
    "start_time": "2023-03-23T19:55:12.511Z"
   },
   {
    "duration": 21,
    "start_time": "2023-03-23T19:55:12.589Z"
   },
   {
    "duration": 5,
    "start_time": "2023-03-23T19:55:12.613Z"
   },
   {
    "duration": 27,
    "start_time": "2023-03-23T19:55:12.620Z"
   },
   {
    "duration": 47,
    "start_time": "2023-03-23T19:55:12.649Z"
   },
   {
    "duration": 9,
    "start_time": "2023-03-23T19:55:12.700Z"
   },
   {
    "duration": 563,
    "start_time": "2023-03-23T19:55:12.711Z"
   },
   {
    "duration": 15,
    "start_time": "2023-03-23T19:55:13.276Z"
   },
   {
    "duration": 38,
    "start_time": "2023-03-23T19:55:13.293Z"
   },
   {
    "duration": 245,
    "start_time": "2023-03-23T19:55:13.333Z"
   },
   {
    "duration": 11,
    "start_time": "2023-03-23T19:55:13.580Z"
   },
   {
    "duration": 243,
    "start_time": "2023-03-23T19:55:13.593Z"
   },
   {
    "duration": 14,
    "start_time": "2023-03-23T19:55:13.837Z"
   },
   {
    "duration": 221,
    "start_time": "2023-03-23T19:55:13.866Z"
   },
   {
    "duration": 11,
    "start_time": "2023-03-23T19:55:14.089Z"
   },
   {
    "duration": 439,
    "start_time": "2023-03-23T19:55:14.102Z"
   },
   {
    "duration": 13,
    "start_time": "2023-03-23T19:55:14.548Z"
   },
   {
    "duration": 159,
    "start_time": "2023-03-23T19:55:14.563Z"
   },
   {
    "duration": 9,
    "start_time": "2023-03-23T19:55:14.724Z"
   },
   {
    "duration": 254,
    "start_time": "2023-03-23T19:55:14.741Z"
   },
   {
    "duration": 49,
    "start_time": "2023-03-23T19:55:14.997Z"
   },
   {
    "duration": 30,
    "start_time": "2023-03-23T19:55:15.052Z"
   },
   {
    "duration": 212,
    "start_time": "2023-03-23T19:55:15.084Z"
   },
   {
    "duration": 218,
    "start_time": "2023-03-23T19:55:15.298Z"
   },
   {
    "duration": 8,
    "start_time": "2023-03-23T19:55:15.518Z"
   },
   {
    "duration": 271,
    "start_time": "2023-03-23T19:55:15.528Z"
   },
   {
    "duration": 10,
    "start_time": "2023-03-23T19:55:15.801Z"
   },
   {
    "duration": 222,
    "start_time": "2023-03-23T19:55:15.812Z"
   },
   {
    "duration": 292,
    "start_time": "2023-03-23T19:55:16.036Z"
   },
   {
    "duration": 17,
    "start_time": "2023-03-23T19:55:16.330Z"
   },
   {
    "duration": 186,
    "start_time": "2023-03-23T19:55:16.350Z"
   },
   {
    "duration": 13,
    "start_time": "2023-03-23T19:55:16.538Z"
   },
   {
    "duration": 266,
    "start_time": "2023-03-23T19:55:16.555Z"
   },
   {
    "duration": 11,
    "start_time": "2023-03-23T19:55:16.823Z"
   },
   {
    "duration": 187,
    "start_time": "2023-03-23T19:55:16.836Z"
   },
   {
    "duration": 189,
    "start_time": "2023-03-23T19:55:17.024Z"
   },
   {
    "duration": 432,
    "start_time": "2023-03-23T19:55:17.215Z"
   },
   {
    "duration": 10,
    "start_time": "2023-03-23T19:55:17.650Z"
   },
   {
    "duration": 27,
    "start_time": "2023-03-23T19:55:17.663Z"
   },
   {
    "duration": 286,
    "start_time": "2023-03-23T19:55:17.693Z"
   },
   {
    "duration": 261,
    "start_time": "2023-03-23T19:55:17.981Z"
   },
   {
    "duration": 263,
    "start_time": "2023-03-23T19:55:18.244Z"
   },
   {
    "duration": 18,
    "start_time": "2023-03-23T19:55:18.509Z"
   },
   {
    "duration": 19,
    "start_time": "2023-03-23T19:55:18.529Z"
   },
   {
    "duration": 180,
    "start_time": "2023-03-23T19:55:18.550Z"
   },
   {
    "duration": 27,
    "start_time": "2023-03-23T19:55:18.733Z"
   },
   {
    "duration": 18,
    "start_time": "2023-03-23T19:55:18.765Z"
   },
   {
    "duration": 152,
    "start_time": "2023-03-23T19:55:18.784Z"
   },
   {
    "duration": 24,
    "start_time": "2023-03-23T19:55:18.938Z"
   },
   {
    "duration": 18,
    "start_time": "2023-03-23T19:55:18.964Z"
   },
   {
    "duration": 146,
    "start_time": "2023-03-23T19:55:18.983Z"
   },
   {
    "duration": 20,
    "start_time": "2023-03-23T19:55:19.131Z"
   },
   {
    "duration": 22,
    "start_time": "2023-03-23T19:55:19.153Z"
   },
   {
    "duration": 155,
    "start_time": "2023-03-23T19:55:19.177Z"
   },
   {
    "duration": 25,
    "start_time": "2023-03-23T19:55:19.334Z"
   },
   {
    "duration": 145,
    "start_time": "2023-03-23T19:55:19.365Z"
   },
   {
    "duration": 15,
    "start_time": "2023-03-23T19:55:19.512Z"
   },
   {
    "duration": 163,
    "start_time": "2023-03-23T19:55:19.529Z"
   },
   {
    "duration": 14,
    "start_time": "2023-03-23T19:55:19.694Z"
   },
   {
    "duration": 199,
    "start_time": "2023-03-23T19:55:19.709Z"
   },
   {
    "duration": 15,
    "start_time": "2023-03-23T19:55:19.910Z"
   },
   {
    "duration": 23,
    "start_time": "2023-03-23T19:55:19.927Z"
   },
   {
    "duration": 156,
    "start_time": "2023-03-23T19:55:19.952Z"
   },
   {
    "duration": 16,
    "start_time": "2023-03-23T19:55:20.110Z"
   },
   {
    "duration": 171,
    "start_time": "2023-03-23T19:55:20.128Z"
   },
   {
    "duration": 13,
    "start_time": "2023-03-23T19:55:20.303Z"
   },
   {
    "duration": 189,
    "start_time": "2023-03-23T19:55:20.318Z"
   },
   {
    "duration": 11,
    "start_time": "2023-03-23T19:55:20.508Z"
   },
   {
    "duration": 74,
    "start_time": "2023-03-23T19:55:20.521Z"
   },
   {
    "duration": 15,
    "start_time": "2023-03-23T19:55:20.598Z"
   },
   {
    "duration": 197,
    "start_time": "2023-03-23T19:55:20.614Z"
   },
   {
    "duration": 64,
    "start_time": "2023-03-23T19:55:20.812Z"
   },
   {
    "duration": 24,
    "start_time": "2023-03-23T19:55:20.879Z"
   },
   {
    "duration": 5,
    "start_time": "2023-03-23T19:55:20.905Z"
   },
   {
    "duration": 189,
    "start_time": "2023-03-23T19:55:20.918Z"
   },
   {
    "duration": 19,
    "start_time": "2023-03-23T19:55:21.109Z"
   },
   {
    "duration": 21,
    "start_time": "2023-03-23T19:55:21.129Z"
   },
   {
    "duration": 245,
    "start_time": "2023-03-23T19:55:21.152Z"
   },
   {
    "duration": 36,
    "start_time": "2023-03-23T19:55:21.398Z"
   },
   {
    "duration": 35,
    "start_time": "2023-03-23T19:55:21.442Z"
   },
   {
    "duration": 20,
    "start_time": "2023-03-23T19:55:21.481Z"
   },
   {
    "duration": 381,
    "start_time": "2023-03-23T19:55:21.503Z"
   },
   {
    "duration": 482,
    "start_time": "2023-03-23T19:55:21.886Z"
   },
   {
    "duration": 4147,
    "start_time": "2023-03-23T19:55:22.370Z"
   },
   {
    "duration": 470,
    "start_time": "2023-03-23T19:55:26.519Z"
   },
   {
    "duration": 996,
    "start_time": "2023-03-23T19:55:26.991Z"
   },
   {
    "duration": 224,
    "start_time": "2023-03-23T19:55:27.989Z"
   },
   {
    "duration": 23,
    "start_time": "2023-03-23T19:55:36.108Z"
   },
   {
    "duration": 23,
    "start_time": "2023-03-23T19:55:42.627Z"
   },
   {
    "duration": 17,
    "start_time": "2023-03-23T19:55:57.697Z"
   }
  ],
  "kernelspec": {
   "display_name": "Python 3 (ipykernel)",
   "language": "python",
   "name": "python3"
  },
  "language_info": {
   "codemirror_mode": {
    "name": "ipython",
    "version": 3
   },
   "file_extension": ".py",
   "mimetype": "text/x-python",
   "name": "python",
   "nbconvert_exporter": "python",
   "pygments_lexer": "ipython3",
   "version": "3.9.5"
  },
  "toc": {
   "base_numbering": 1,
   "nav_menu": {},
   "number_sections": true,
   "sideBar": true,
   "skip_h1_title": true,
   "title_cell": "Table of Contents",
   "title_sidebar": "Contents",
   "toc_cell": false,
   "toc_position": {
    "height": "calc(100% - 180px)",
    "left": "10px",
    "top": "150px",
    "width": "299.594px"
   },
   "toc_section_display": true,
   "toc_window_display": true
  }
 },
 "nbformat": 4,
 "nbformat_minor": 2
}
