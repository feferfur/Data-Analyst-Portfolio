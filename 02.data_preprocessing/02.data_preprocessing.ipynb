{
 "cells": [
  {
   "cell_type": "markdown",
   "id": "905755a0",
   "metadata": {
    "deletable": false,
    "editable": false,
    "id": "c81daeeb"
   },
   "source": [
    "# Исследование надежности заемщиков\n"
   ]
  },
  {
   "cell_type": "markdown",
   "id": "c51b82af",
   "metadata": {},
   "source": [
    "Заказчик — кредитный отдел банка. Нужно разобраться, влияет ли семейное положение и количество детей клиента на факт погашения кредита в срок. Входные данные от банка — статистика о платёжеспособности клиентов.\n",
    "Результаты исследования будут учтены при построении модели кредитного скоринга — специальной системы, которая оценивает способность потенциального заёмщика вернуть кредит банку."
   ]
  },
  {
   "cell_type": "markdown",
   "id": "00c8786f",
   "metadata": {
    "deletable": false,
    "editable": false,
    "id": "744d7639"
   },
   "source": [
    "## Откройте таблицу и изучите общую информацию о данных"
   ]
  },
  {
   "cell_type": "markdown",
   "id": "5fc8cde4",
   "metadata": {
    "deletable": false,
    "editable": false,
    "id": "e7a14c31"
   },
   "source": [
    "**Задание 1. Импортируйте библиотеку pandas. Считайте данные из csv-файла в датафрейм и сохраните в переменную `data`. Путь к файлу:**\n",
    "\n",
    "`/datasets/data.csv`"
   ]
  },
  {
   "cell_type": "code",
   "execution_count": 1,
   "id": "e0038b97",
   "metadata": {
    "deletable": false,
    "id": "7bcf75c9"
   },
   "outputs": [],
   "source": [
    "import pandas as pd\n",
    "\n",
    "try:\n",
    "    data = pd.read_csv('/datasets/data.csv')\n",
    "except:\n",
    "    data = pd.read_csv('https://code.s3.yandex.net/datasets/data.csv')"
   ]
  },
  {
   "cell_type": "markdown",
   "id": "306f379d",
   "metadata": {
    "deletable": false,
    "editable": false,
    "id": "b8038fe3"
   },
   "source": [
    "**Задание 2. Выведите первые 20 строчек датафрейма `data` на экран.**"
   ]
  },
  {
   "cell_type": "code",
   "execution_count": 2,
   "id": "b486d989",
   "metadata": {
    "deletable": false,
    "id": "2a7cab99",
    "outputId": "1a8f3ef2-d323-4ec2-ddf7-89670b5944c4"
   },
   "outputs": [
    {
     "data": {
      "text/html": [
       "<div>\n",
       "<style scoped>\n",
       "    .dataframe tbody tr th:only-of-type {\n",
       "        vertical-align: middle;\n",
       "    }\n",
       "\n",
       "    .dataframe tbody tr th {\n",
       "        vertical-align: top;\n",
       "    }\n",
       "\n",
       "    .dataframe thead th {\n",
       "        text-align: right;\n",
       "    }\n",
       "</style>\n",
       "<table border=\"1\" class=\"dataframe\">\n",
       "  <thead>\n",
       "    <tr style=\"text-align: right;\">\n",
       "      <th></th>\n",
       "      <th>children</th>\n",
       "      <th>days_employed</th>\n",
       "      <th>dob_years</th>\n",
       "      <th>education</th>\n",
       "      <th>education_id</th>\n",
       "      <th>family_status</th>\n",
       "      <th>family_status_id</th>\n",
       "      <th>gender</th>\n",
       "      <th>income_type</th>\n",
       "      <th>debt</th>\n",
       "      <th>total_income</th>\n",
       "      <th>purpose</th>\n",
       "    </tr>\n",
       "  </thead>\n",
       "  <tbody>\n",
       "    <tr>\n",
       "      <th>0</th>\n",
       "      <td>1</td>\n",
       "      <td>-8437.673028</td>\n",
       "      <td>42</td>\n",
       "      <td>высшее</td>\n",
       "      <td>0</td>\n",
       "      <td>женат / замужем</td>\n",
       "      <td>0</td>\n",
       "      <td>F</td>\n",
       "      <td>сотрудник</td>\n",
       "      <td>0</td>\n",
       "      <td>253875.639453</td>\n",
       "      <td>покупка жилья</td>\n",
       "    </tr>\n",
       "    <tr>\n",
       "      <th>1</th>\n",
       "      <td>1</td>\n",
       "      <td>-4024.803754</td>\n",
       "      <td>36</td>\n",
       "      <td>среднее</td>\n",
       "      <td>1</td>\n",
       "      <td>женат / замужем</td>\n",
       "      <td>0</td>\n",
       "      <td>F</td>\n",
       "      <td>сотрудник</td>\n",
       "      <td>0</td>\n",
       "      <td>112080.014102</td>\n",
       "      <td>приобретение автомобиля</td>\n",
       "    </tr>\n",
       "    <tr>\n",
       "      <th>2</th>\n",
       "      <td>0</td>\n",
       "      <td>-5623.422610</td>\n",
       "      <td>33</td>\n",
       "      <td>Среднее</td>\n",
       "      <td>1</td>\n",
       "      <td>женат / замужем</td>\n",
       "      <td>0</td>\n",
       "      <td>M</td>\n",
       "      <td>сотрудник</td>\n",
       "      <td>0</td>\n",
       "      <td>145885.952297</td>\n",
       "      <td>покупка жилья</td>\n",
       "    </tr>\n",
       "    <tr>\n",
       "      <th>3</th>\n",
       "      <td>3</td>\n",
       "      <td>-4124.747207</td>\n",
       "      <td>32</td>\n",
       "      <td>среднее</td>\n",
       "      <td>1</td>\n",
       "      <td>женат / замужем</td>\n",
       "      <td>0</td>\n",
       "      <td>M</td>\n",
       "      <td>сотрудник</td>\n",
       "      <td>0</td>\n",
       "      <td>267628.550329</td>\n",
       "      <td>дополнительное образование</td>\n",
       "    </tr>\n",
       "    <tr>\n",
       "      <th>4</th>\n",
       "      <td>0</td>\n",
       "      <td>340266.072047</td>\n",
       "      <td>53</td>\n",
       "      <td>среднее</td>\n",
       "      <td>1</td>\n",
       "      <td>гражданский брак</td>\n",
       "      <td>1</td>\n",
       "      <td>F</td>\n",
       "      <td>пенсионер</td>\n",
       "      <td>0</td>\n",
       "      <td>158616.077870</td>\n",
       "      <td>сыграть свадьбу</td>\n",
       "    </tr>\n",
       "    <tr>\n",
       "      <th>5</th>\n",
       "      <td>0</td>\n",
       "      <td>-926.185831</td>\n",
       "      <td>27</td>\n",
       "      <td>высшее</td>\n",
       "      <td>0</td>\n",
       "      <td>гражданский брак</td>\n",
       "      <td>1</td>\n",
       "      <td>M</td>\n",
       "      <td>компаньон</td>\n",
       "      <td>0</td>\n",
       "      <td>255763.565419</td>\n",
       "      <td>покупка жилья</td>\n",
       "    </tr>\n",
       "    <tr>\n",
       "      <th>6</th>\n",
       "      <td>0</td>\n",
       "      <td>-2879.202052</td>\n",
       "      <td>43</td>\n",
       "      <td>высшее</td>\n",
       "      <td>0</td>\n",
       "      <td>женат / замужем</td>\n",
       "      <td>0</td>\n",
       "      <td>F</td>\n",
       "      <td>компаньон</td>\n",
       "      <td>0</td>\n",
       "      <td>240525.971920</td>\n",
       "      <td>операции с жильем</td>\n",
       "    </tr>\n",
       "    <tr>\n",
       "      <th>7</th>\n",
       "      <td>0</td>\n",
       "      <td>-152.779569</td>\n",
       "      <td>50</td>\n",
       "      <td>СРЕДНЕЕ</td>\n",
       "      <td>1</td>\n",
       "      <td>женат / замужем</td>\n",
       "      <td>0</td>\n",
       "      <td>M</td>\n",
       "      <td>сотрудник</td>\n",
       "      <td>0</td>\n",
       "      <td>135823.934197</td>\n",
       "      <td>образование</td>\n",
       "    </tr>\n",
       "    <tr>\n",
       "      <th>8</th>\n",
       "      <td>2</td>\n",
       "      <td>-6929.865299</td>\n",
       "      <td>35</td>\n",
       "      <td>ВЫСШЕЕ</td>\n",
       "      <td>0</td>\n",
       "      <td>гражданский брак</td>\n",
       "      <td>1</td>\n",
       "      <td>F</td>\n",
       "      <td>сотрудник</td>\n",
       "      <td>0</td>\n",
       "      <td>95856.832424</td>\n",
       "      <td>на проведение свадьбы</td>\n",
       "    </tr>\n",
       "    <tr>\n",
       "      <th>9</th>\n",
       "      <td>0</td>\n",
       "      <td>-2188.756445</td>\n",
       "      <td>41</td>\n",
       "      <td>среднее</td>\n",
       "      <td>1</td>\n",
       "      <td>женат / замужем</td>\n",
       "      <td>0</td>\n",
       "      <td>M</td>\n",
       "      <td>сотрудник</td>\n",
       "      <td>0</td>\n",
       "      <td>144425.938277</td>\n",
       "      <td>покупка жилья для семьи</td>\n",
       "    </tr>\n",
       "    <tr>\n",
       "      <th>10</th>\n",
       "      <td>2</td>\n",
       "      <td>-4171.483647</td>\n",
       "      <td>36</td>\n",
       "      <td>высшее</td>\n",
       "      <td>0</td>\n",
       "      <td>женат / замужем</td>\n",
       "      <td>0</td>\n",
       "      <td>M</td>\n",
       "      <td>компаньон</td>\n",
       "      <td>0</td>\n",
       "      <td>113943.491460</td>\n",
       "      <td>покупка недвижимости</td>\n",
       "    </tr>\n",
       "    <tr>\n",
       "      <th>11</th>\n",
       "      <td>0</td>\n",
       "      <td>-792.701887</td>\n",
       "      <td>40</td>\n",
       "      <td>среднее</td>\n",
       "      <td>1</td>\n",
       "      <td>женат / замужем</td>\n",
       "      <td>0</td>\n",
       "      <td>F</td>\n",
       "      <td>сотрудник</td>\n",
       "      <td>0</td>\n",
       "      <td>77069.234271</td>\n",
       "      <td>покупка коммерческой недвижимости</td>\n",
       "    </tr>\n",
       "    <tr>\n",
       "      <th>12</th>\n",
       "      <td>0</td>\n",
       "      <td>NaN</td>\n",
       "      <td>65</td>\n",
       "      <td>среднее</td>\n",
       "      <td>1</td>\n",
       "      <td>гражданский брак</td>\n",
       "      <td>1</td>\n",
       "      <td>M</td>\n",
       "      <td>пенсионер</td>\n",
       "      <td>0</td>\n",
       "      <td>NaN</td>\n",
       "      <td>сыграть свадьбу</td>\n",
       "    </tr>\n",
       "    <tr>\n",
       "      <th>13</th>\n",
       "      <td>0</td>\n",
       "      <td>-1846.641941</td>\n",
       "      <td>54</td>\n",
       "      <td>неоконченное высшее</td>\n",
       "      <td>2</td>\n",
       "      <td>женат / замужем</td>\n",
       "      <td>0</td>\n",
       "      <td>F</td>\n",
       "      <td>сотрудник</td>\n",
       "      <td>0</td>\n",
       "      <td>130458.228857</td>\n",
       "      <td>приобретение автомобиля</td>\n",
       "    </tr>\n",
       "    <tr>\n",
       "      <th>14</th>\n",
       "      <td>0</td>\n",
       "      <td>-1844.956182</td>\n",
       "      <td>56</td>\n",
       "      <td>высшее</td>\n",
       "      <td>0</td>\n",
       "      <td>гражданский брак</td>\n",
       "      <td>1</td>\n",
       "      <td>F</td>\n",
       "      <td>компаньон</td>\n",
       "      <td>1</td>\n",
       "      <td>165127.911772</td>\n",
       "      <td>покупка жилой недвижимости</td>\n",
       "    </tr>\n",
       "    <tr>\n",
       "      <th>15</th>\n",
       "      <td>1</td>\n",
       "      <td>-972.364419</td>\n",
       "      <td>26</td>\n",
       "      <td>среднее</td>\n",
       "      <td>1</td>\n",
       "      <td>женат / замужем</td>\n",
       "      <td>0</td>\n",
       "      <td>F</td>\n",
       "      <td>сотрудник</td>\n",
       "      <td>0</td>\n",
       "      <td>116820.904450</td>\n",
       "      <td>строительство собственной недвижимости</td>\n",
       "    </tr>\n",
       "    <tr>\n",
       "      <th>16</th>\n",
       "      <td>0</td>\n",
       "      <td>-1719.934226</td>\n",
       "      <td>35</td>\n",
       "      <td>среднее</td>\n",
       "      <td>1</td>\n",
       "      <td>женат / замужем</td>\n",
       "      <td>0</td>\n",
       "      <td>F</td>\n",
       "      <td>сотрудник</td>\n",
       "      <td>0</td>\n",
       "      <td>289202.704229</td>\n",
       "      <td>недвижимость</td>\n",
       "    </tr>\n",
       "    <tr>\n",
       "      <th>17</th>\n",
       "      <td>0</td>\n",
       "      <td>-2369.999720</td>\n",
       "      <td>33</td>\n",
       "      <td>высшее</td>\n",
       "      <td>0</td>\n",
       "      <td>гражданский брак</td>\n",
       "      <td>1</td>\n",
       "      <td>M</td>\n",
       "      <td>сотрудник</td>\n",
       "      <td>0</td>\n",
       "      <td>90410.586745</td>\n",
       "      <td>строительство недвижимости</td>\n",
       "    </tr>\n",
       "    <tr>\n",
       "      <th>18</th>\n",
       "      <td>0</td>\n",
       "      <td>400281.136913</td>\n",
       "      <td>53</td>\n",
       "      <td>среднее</td>\n",
       "      <td>1</td>\n",
       "      <td>вдовец / вдова</td>\n",
       "      <td>2</td>\n",
       "      <td>F</td>\n",
       "      <td>пенсионер</td>\n",
       "      <td>0</td>\n",
       "      <td>56823.777243</td>\n",
       "      <td>на покупку подержанного автомобиля</td>\n",
       "    </tr>\n",
       "    <tr>\n",
       "      <th>19</th>\n",
       "      <td>0</td>\n",
       "      <td>-10038.818549</td>\n",
       "      <td>48</td>\n",
       "      <td>СРЕДНЕЕ</td>\n",
       "      <td>1</td>\n",
       "      <td>в разводе</td>\n",
       "      <td>3</td>\n",
       "      <td>F</td>\n",
       "      <td>сотрудник</td>\n",
       "      <td>0</td>\n",
       "      <td>242831.107982</td>\n",
       "      <td>на покупку своего автомобиля</td>\n",
       "    </tr>\n",
       "  </tbody>\n",
       "</table>\n",
       "</div>"
      ],
      "text/plain": [
       "    children  days_employed  dob_years            education  education_id  \\\n",
       "0          1   -8437.673028         42               высшее             0   \n",
       "1          1   -4024.803754         36              среднее             1   \n",
       "2          0   -5623.422610         33              Среднее             1   \n",
       "3          3   -4124.747207         32              среднее             1   \n",
       "4          0  340266.072047         53              среднее             1   \n",
       "5          0    -926.185831         27               высшее             0   \n",
       "6          0   -2879.202052         43               высшее             0   \n",
       "7          0    -152.779569         50              СРЕДНЕЕ             1   \n",
       "8          2   -6929.865299         35               ВЫСШЕЕ             0   \n",
       "9          0   -2188.756445         41              среднее             1   \n",
       "10         2   -4171.483647         36               высшее             0   \n",
       "11         0    -792.701887         40              среднее             1   \n",
       "12         0            NaN         65              среднее             1   \n",
       "13         0   -1846.641941         54  неоконченное высшее             2   \n",
       "14         0   -1844.956182         56               высшее             0   \n",
       "15         1    -972.364419         26              среднее             1   \n",
       "16         0   -1719.934226         35              среднее             1   \n",
       "17         0   -2369.999720         33               высшее             0   \n",
       "18         0  400281.136913         53              среднее             1   \n",
       "19         0  -10038.818549         48              СРЕДНЕЕ             1   \n",
       "\n",
       "       family_status  family_status_id gender income_type  debt  \\\n",
       "0    женат / замужем                 0      F   сотрудник     0   \n",
       "1    женат / замужем                 0      F   сотрудник     0   \n",
       "2    женат / замужем                 0      M   сотрудник     0   \n",
       "3    женат / замужем                 0      M   сотрудник     0   \n",
       "4   гражданский брак                 1      F   пенсионер     0   \n",
       "5   гражданский брак                 1      M   компаньон     0   \n",
       "6    женат / замужем                 0      F   компаньон     0   \n",
       "7    женат / замужем                 0      M   сотрудник     0   \n",
       "8   гражданский брак                 1      F   сотрудник     0   \n",
       "9    женат / замужем                 0      M   сотрудник     0   \n",
       "10   женат / замужем                 0      M   компаньон     0   \n",
       "11   женат / замужем                 0      F   сотрудник     0   \n",
       "12  гражданский брак                 1      M   пенсионер     0   \n",
       "13   женат / замужем                 0      F   сотрудник     0   \n",
       "14  гражданский брак                 1      F   компаньон     1   \n",
       "15   женат / замужем                 0      F   сотрудник     0   \n",
       "16   женат / замужем                 0      F   сотрудник     0   \n",
       "17  гражданский брак                 1      M   сотрудник     0   \n",
       "18    вдовец / вдова                 2      F   пенсионер     0   \n",
       "19         в разводе                 3      F   сотрудник     0   \n",
       "\n",
       "     total_income                                 purpose  \n",
       "0   253875.639453                           покупка жилья  \n",
       "1   112080.014102                 приобретение автомобиля  \n",
       "2   145885.952297                           покупка жилья  \n",
       "3   267628.550329              дополнительное образование  \n",
       "4   158616.077870                         сыграть свадьбу  \n",
       "5   255763.565419                           покупка жилья  \n",
       "6   240525.971920                       операции с жильем  \n",
       "7   135823.934197                             образование  \n",
       "8    95856.832424                   на проведение свадьбы  \n",
       "9   144425.938277                 покупка жилья для семьи  \n",
       "10  113943.491460                    покупка недвижимости  \n",
       "11   77069.234271       покупка коммерческой недвижимости  \n",
       "12            NaN                         сыграть свадьбу  \n",
       "13  130458.228857                 приобретение автомобиля  \n",
       "14  165127.911772              покупка жилой недвижимости  \n",
       "15  116820.904450  строительство собственной недвижимости  \n",
       "16  289202.704229                            недвижимость  \n",
       "17   90410.586745              строительство недвижимости  \n",
       "18   56823.777243      на покупку подержанного автомобиля  \n",
       "19  242831.107982            на покупку своего автомобиля  "
      ]
     },
     "execution_count": 2,
     "metadata": {},
     "output_type": "execute_result"
    }
   ],
   "source": [
    "data.head(20)"
   ]
  },
  {
   "cell_type": "markdown",
   "id": "2a8434ca",
   "metadata": {
    "deletable": false,
    "editable": false,
    "id": "1c12e233"
   },
   "source": [
    "**Задание 3. Выведите основную информацию о датафрейме с помощью метода `info()`.**"
   ]
  },
  {
   "cell_type": "code",
   "execution_count": 3,
   "id": "73f23dfe",
   "metadata": {
    "deletable": false,
    "id": "2b757bca",
    "outputId": "15376089-8dad-46c9-b520-c05248d43158"
   },
   "outputs": [
    {
     "name": "stdout",
     "output_type": "stream",
     "text": [
      "<class 'pandas.core.frame.DataFrame'>\n",
      "RangeIndex: 21525 entries, 0 to 21524\n",
      "Data columns (total 12 columns):\n",
      " #   Column            Non-Null Count  Dtype  \n",
      "---  ------            --------------  -----  \n",
      " 0   children          21525 non-null  int64  \n",
      " 1   days_employed     19351 non-null  float64\n",
      " 2   dob_years         21525 non-null  int64  \n",
      " 3   education         21525 non-null  object \n",
      " 4   education_id      21525 non-null  int64  \n",
      " 5   family_status     21525 non-null  object \n",
      " 6   family_status_id  21525 non-null  int64  \n",
      " 7   gender            21525 non-null  object \n",
      " 8   income_type       21525 non-null  object \n",
      " 9   debt              21525 non-null  int64  \n",
      " 10  total_income      19351 non-null  float64\n",
      " 11  purpose           21525 non-null  object \n",
      "dtypes: float64(2), int64(5), object(5)\n",
      "memory usage: 2.0+ MB\n"
     ]
    }
   ],
   "source": [
    "data.info()"
   ]
  },
  {
   "cell_type": "markdown",
   "id": "d315524b",
   "metadata": {
    "deletable": false,
    "editable": false,
    "id": "333ec665"
   },
   "source": [
    "## Предобработка данных"
   ]
  },
  {
   "cell_type": "markdown",
   "id": "fe8bc343",
   "metadata": {
    "deletable": false,
    "editable": false,
    "id": "02d92d53"
   },
   "source": [
    "### Удаление пропусков"
   ]
  },
  {
   "cell_type": "markdown",
   "id": "9d4230c4",
   "metadata": {
    "deletable": false,
    "editable": false,
    "id": "cd84967c"
   },
   "source": [
    "**Задание 4. Выведите количество пропущенных значений для каждого столбца. Используйте комбинацию двух методов.**"
   ]
  },
  {
   "cell_type": "code",
   "execution_count": 4,
   "id": "05a5186f",
   "metadata": {
    "deletable": false,
    "id": "7f9b2309",
    "outputId": "81f4d817-781c-465c-ed15-91ce4446810d"
   },
   "outputs": [
    {
     "data": {
      "text/plain": [
       "children               0\n",
       "days_employed       2174\n",
       "dob_years              0\n",
       "education              0\n",
       "education_id           0\n",
       "family_status          0\n",
       "family_status_id       0\n",
       "gender                 0\n",
       "income_type            0\n",
       "debt                   0\n",
       "total_income        2174\n",
       "purpose                0\n",
       "dtype: int64"
      ]
     },
     "execution_count": 4,
     "metadata": {},
     "output_type": "execute_result"
    }
   ],
   "source": [
    "data.isna().sum()"
   ]
  },
  {
   "cell_type": "markdown",
   "id": "efa9796a",
   "metadata": {
    "deletable": false,
    "editable": false,
    "id": "db86e27b"
   },
   "source": [
    "**Задание 5. В двух столбцах есть пропущенные значения. Один из них — `days_employed`. Пропуски в этом столбце вы обработаете на следующем этапе. Другой столбец с пропущенными значениями — `total_income` — хранит данные о доходах. На сумму дохода сильнее всего влияет тип занятости, поэтому заполнить пропуски в этом столбце нужно медианным значением по каждому типу из столбца `income_type`. Например, у человека с типом занятости `сотрудник` пропуск в столбце `total_income` должен быть заполнен медианным доходом среди всех записей с тем же типом.**"
   ]
  },
  {
   "cell_type": "code",
   "execution_count": 5,
   "id": "c01be54a",
   "metadata": {
    "deletable": false,
    "id": "42006a93"
   },
   "outputs": [],
   "source": [
    "for t in data['income_type'].unique():\n",
    "    data.loc[(data['income_type'] == t) & (data['total_income'].isna()), 'total_income'] = \\\n",
    "    data.loc[(data['income_type'] == t), 'total_income'].median()"
   ]
  },
  {
   "cell_type": "markdown",
   "id": "bd086c2c",
   "metadata": {
    "deletable": false,
    "editable": false,
    "id": "89da5ece"
   },
   "source": [
    "### Обработка аномальных значений"
   ]
  },
  {
   "cell_type": "markdown",
   "id": "6f668866",
   "metadata": {
    "deletable": false,
    "editable": false,
    "id": "57964554"
   },
   "source": [
    "**Задание 6. В данных могут встречаться артефакты (аномалии) — значения, которые не отражают действительность и появились по какой-то ошибке. таким артефактом будет отрицательное количество дней трудового стажа в столбце `days_employed`. Для реальных данных это нормально. Обработайте значения в этом столбце: замените все отрицательные значения положительными с помощью метода `abs()`.**"
   ]
  },
  {
   "cell_type": "code",
   "execution_count": 6,
   "id": "3a1538ca",
   "metadata": {
    "deletable": false,
    "id": "f6f055bf"
   },
   "outputs": [],
   "source": [
    "data['days_employed'] = data['days_employed'].abs()"
   ]
  },
  {
   "cell_type": "markdown",
   "id": "bfcc6d98",
   "metadata": {
    "deletable": false,
    "editable": false,
    "id": "6107dd2f"
   },
   "source": [
    "**Задание 7. Для каждого типа занятости выведите медианное значение трудового стажа `days_employed` в днях.**"
   ]
  },
  {
   "cell_type": "code",
   "execution_count": 7,
   "id": "d517ef48",
   "metadata": {
    "deletable": false,
    "id": "85a5faf6",
    "outputId": "801ef80e-522b-4668-f34e-565af7432bcf"
   },
   "outputs": [
    {
     "data": {
      "text/plain": [
       "income_type\n",
       "безработный        366413.652744\n",
       "в декрете            3296.759962\n",
       "госслужащий          2689.368353\n",
       "компаньон            1547.382223\n",
       "пенсионер          365213.306266\n",
       "предприниматель       520.848083\n",
       "сотрудник            1574.202821\n",
       "студент               578.751554\n",
       "Name: days_employed, dtype: float64"
      ]
     },
     "execution_count": 7,
     "metadata": {},
     "output_type": "execute_result"
    }
   ],
   "source": [
    "data.groupby('income_type')['days_employed'].agg('median')"
   ]
  },
  {
   "cell_type": "markdown",
   "id": "fb088f1b",
   "metadata": {
    "deletable": false,
    "editable": false,
    "id": "38d1a030"
   },
   "source": [
    "У двух типов (безработные и пенсионеры) получатся аномально большие значения. Исправить такие значения сложно, поэтому оставьте их как есть. Тем более этот столбец не понадобится вам для исследования."
   ]
  },
  {
   "cell_type": "markdown",
   "id": "3f6a4bf4",
   "metadata": {
    "deletable": false,
    "editable": false,
    "id": "d8a9f147"
   },
   "source": [
    "**Задание 8. Выведите перечень уникальных значений столбца `children`.**"
   ]
  },
  {
   "cell_type": "code",
   "execution_count": 8,
   "id": "906bbb86",
   "metadata": {
    "deletable": false,
    "id": "ef5056eb",
    "outputId": "6975b15c-7f95-4697-d16d-a0c79b657b03"
   },
   "outputs": [
    {
     "data": {
      "text/plain": [
       "array([ 1,  0,  3,  2, -1,  4, 20,  5])"
      ]
     },
     "execution_count": 8,
     "metadata": {},
     "output_type": "execute_result"
    }
   ],
   "source": [
    "data['children'].unique()"
   ]
  },
  {
   "cell_type": "markdown",
   "id": "69dee399",
   "metadata": {
    "deletable": false,
    "editable": false,
    "id": "40b9ebf2"
   },
   "source": [
    "**Задание 9. В столбце `children` есть два аномальных значения. Удалите строки, в которых встречаются такие аномальные значения из датафрейма `data`.**"
   ]
  },
  {
   "cell_type": "code",
   "execution_count": 9,
   "id": "1aaa60a8",
   "metadata": {
    "deletable": false,
    "id": "3ff9801d"
   },
   "outputs": [],
   "source": [
    "data = data[(data['children'] != -1) & (data['children'] != 20)]"
   ]
  },
  {
   "cell_type": "markdown",
   "id": "fb7bebda",
   "metadata": {
    "deletable": false,
    "editable": false,
    "id": "bbc4d0ce"
   },
   "source": [
    "**Задание 10. Ещё раз выведите перечень уникальных значений столбца `children`, чтобы убедиться, что артефакты удалены.**"
   ]
  },
  {
   "cell_type": "code",
   "execution_count": 10,
   "id": "e2a15117",
   "metadata": {
    "deletable": false,
    "id": "ad4fa8b7",
    "outputId": "b2097101-d49d-44d9-901b-32a65c9463d1"
   },
   "outputs": [
    {
     "data": {
      "text/plain": [
       "array([1, 0, 3, 2, 4, 5])"
      ]
     },
     "execution_count": 10,
     "metadata": {},
     "output_type": "execute_result"
    }
   ],
   "source": [
    "data['children'].unique()"
   ]
  },
  {
   "cell_type": "markdown",
   "id": "ae9e70f9",
   "metadata": {
    "deletable": false,
    "editable": false,
    "id": "75440b63"
   },
   "source": [
    "### Удаление пропусков (продолжение)"
   ]
  },
  {
   "cell_type": "markdown",
   "id": "89ba1753",
   "metadata": {
    "deletable": false,
    "editable": false,
    "id": "f4ea573f"
   },
   "source": [
    "**Задание 11. Заполните пропуски в столбце `days_employed` медианными значениями по каждого типа занятости `income_type`.**"
   ]
  },
  {
   "cell_type": "code",
   "execution_count": 11,
   "id": "809d7624",
   "metadata": {
    "deletable": false,
    "id": "af6b1a7e"
   },
   "outputs": [],
   "source": [
    "for t in data['income_type'].unique():\n",
    "    data.loc[(data['income_type'] == t) & (data['days_employed'].isna()), 'days_employed'] = \\\n",
    "    data.loc[(data['income_type'] == t), 'days_employed'].median()"
   ]
  },
  {
   "cell_type": "markdown",
   "id": "151e6018",
   "metadata": {
    "deletable": false,
    "editable": false,
    "id": "2753f40d"
   },
   "source": [
    "**Задание 12. Убедитесь, что все пропуски заполнены. Проверьте себя и ещё раз выведите количество пропущенных значений для каждого столбца с помощью двух методов.**"
   ]
  },
  {
   "cell_type": "code",
   "execution_count": 12,
   "id": "fa03dcb8",
   "metadata": {
    "deletable": false,
    "id": "55f78bc2",
    "outputId": "8da1e4e1-358e-4e87-98c9-f261bce0a7b2"
   },
   "outputs": [
    {
     "data": {
      "text/plain": [
       "children            0\n",
       "days_employed       0\n",
       "dob_years           0\n",
       "education           0\n",
       "education_id        0\n",
       "family_status       0\n",
       "family_status_id    0\n",
       "gender              0\n",
       "income_type         0\n",
       "debt                0\n",
       "total_income        0\n",
       "purpose             0\n",
       "dtype: int64"
      ]
     },
     "execution_count": 12,
     "metadata": {},
     "output_type": "execute_result"
    }
   ],
   "source": [
    "data.isna().sum()"
   ]
  },
  {
   "cell_type": "markdown",
   "id": "e24f8620",
   "metadata": {
    "deletable": false,
    "editable": false,
    "id": "ddc81e43"
   },
   "source": [
    "### Изменение типов данных"
   ]
  },
  {
   "cell_type": "markdown",
   "id": "019149b7",
   "metadata": {
    "deletable": false,
    "editable": false,
    "id": "42d19d24"
   },
   "source": [
    "**Задание 13. Замените вещественный тип данных в столбце `total_income` на целочисленный с помощью метода `astype()`.**"
   ]
  },
  {
   "cell_type": "code",
   "execution_count": 13,
   "id": "5f5eb3a6",
   "metadata": {
    "deletable": false,
    "id": "920b65ad"
   },
   "outputs": [],
   "source": [
    "data['total_income'] = data['total_income'].astype(int)"
   ]
  },
  {
   "cell_type": "markdown",
   "id": "e0afa841",
   "metadata": {
    "deletable": false,
    "editable": false,
    "id": "80c420ba"
   },
   "source": [
    "### Обработка дубликатов"
   ]
  },
  {
   "cell_type": "markdown",
   "id": "0df67af2",
   "metadata": {
    "deletable": false,
    "editable": false
   },
   "source": [
    "**Задание 14. Обработайте неявные дубликаты в столбце `education`. В этом столбце есть одни и те же значения, но записанные по-разному: с использованием заглавных и строчных букв. Приведите их к нижнему регистру. Проверьте остальные столбцы.**"
   ]
  },
  {
   "cell_type": "code",
   "execution_count": 14,
   "id": "d2bd68da",
   "metadata": {
    "deletable": false
   },
   "outputs": [],
   "source": [
    "data['education'] = data['education'].str.lower()"
   ]
  },
  {
   "cell_type": "markdown",
   "id": "14b13221",
   "metadata": {
    "deletable": false,
    "editable": false,
    "id": "dc587695"
   },
   "source": [
    "**Задание 15. Выведите на экран количество строк-дубликатов в данных. Если такие строки присутствуют, удалите их.**"
   ]
  },
  {
   "cell_type": "code",
   "execution_count": 15,
   "id": "36b9b278",
   "metadata": {
    "deletable": false,
    "id": "3ee445e4",
    "outputId": "9684deba-1934-42d1-99e1-cda61740f822"
   },
   "outputs": [
    {
     "data": {
      "text/plain": [
       "71"
      ]
     },
     "execution_count": 15,
     "metadata": {},
     "output_type": "execute_result"
    }
   ],
   "source": [
    "data.duplicated().sum()"
   ]
  },
  {
   "cell_type": "code",
   "execution_count": 16,
   "id": "a4696b48",
   "metadata": {
    "deletable": false,
    "id": "8575fe05"
   },
   "outputs": [],
   "source": [
    "data = data.drop_duplicates()"
   ]
  },
  {
   "cell_type": "markdown",
   "id": "35c9c852",
   "metadata": {
    "deletable": false,
    "editable": false,
    "id": "9904cf55"
   },
   "source": [
    "### Категоризация данных"
   ]
  },
  {
   "cell_type": "markdown",
   "id": "4c6d7394",
   "metadata": {
    "deletable": false,
    "editable": false,
    "id": "72fcc8a2"
   },
   "source": [
    "**Задание 16. На основании диапазонов, указанных ниже, создайте в датафрейме `data` столбец `total_income_category` с категориями:**\n",
    "\n",
    "- 0–30000 — `'E'`;\n",
    "- 30001–50000 — `'D'`;\n",
    "- 50001–200000 — `'C'`;\n",
    "- 200001–1000000 — `'B'`;\n",
    "- 1000001 и выше — `'A'`.\n",
    "\n",
    "\n",
    "**Например, кредитополучателю с доходом 25000 нужно назначить категорию `'E'`, а клиенту, получающему 235000, — `'B'`. Используйте собственную функцию с именем `categorize_income()` и метод `apply()`.**"
   ]
  },
  {
   "cell_type": "code",
   "execution_count": 17,
   "id": "42dc954b",
   "metadata": {
    "deletable": false,
    "id": "e1771346"
   },
   "outputs": [],
   "source": [
    "def categorize_income(income):\n",
    "    try:\n",
    "        if 0 <= income <= 30000:\n",
    "            return 'E'\n",
    "        elif 30001 <= income <= 50000:\n",
    "            return 'D'\n",
    "        elif 50001 <= income <= 200000:\n",
    "            return 'C'\n",
    "        elif 200001 <= income <= 1000000:\n",
    "            return 'B'\n",
    "        elif income >= 1000001:\n",
    "            return 'A'\n",
    "    except:\n",
    "        pass"
   ]
  },
  {
   "cell_type": "code",
   "execution_count": 18,
   "id": "8f8796e2",
   "metadata": {
    "deletable": false,
    "id": "d5f3586d"
   },
   "outputs": [],
   "source": [
    "data['total_income_category'] = data['total_income'].apply(categorize_income)"
   ]
  },
  {
   "cell_type": "markdown",
   "id": "83f6cdef",
   "metadata": {
    "deletable": false,
    "editable": false,
    "id": "dde49b5c"
   },
   "source": [
    "**Задание 17. Выведите на экран перечень уникальных целей взятия кредита из столбца `purpose`.**"
   ]
  },
  {
   "cell_type": "code",
   "execution_count": 19,
   "id": "4e109629",
   "metadata": {
    "deletable": false,
    "id": "f67ce9b3",
    "outputId": "673c12d9-7d7e-4ae0-9812-c622c89dd244"
   },
   "outputs": [
    {
     "data": {
      "text/plain": [
       "array(['покупка жилья', 'приобретение автомобиля',\n",
       "       'дополнительное образование', 'сыграть свадьбу',\n",
       "       'операции с жильем', 'образование', 'на проведение свадьбы',\n",
       "       'покупка жилья для семьи', 'покупка недвижимости',\n",
       "       'покупка коммерческой недвижимости', 'покупка жилой недвижимости',\n",
       "       'строительство собственной недвижимости', 'недвижимость',\n",
       "       'строительство недвижимости', 'на покупку подержанного автомобиля',\n",
       "       'на покупку своего автомобиля',\n",
       "       'операции с коммерческой недвижимостью',\n",
       "       'строительство жилой недвижимости', 'жилье',\n",
       "       'операции со своей недвижимостью', 'автомобили',\n",
       "       'заняться образованием', 'сделка с подержанным автомобилем',\n",
       "       'получение образования', 'автомобиль', 'свадьба',\n",
       "       'получение дополнительного образования', 'покупка своего жилья',\n",
       "       'операции с недвижимостью', 'получение высшего образования',\n",
       "       'свой автомобиль', 'сделка с автомобилем',\n",
       "       'профильное образование', 'высшее образование',\n",
       "       'покупка жилья для сдачи', 'на покупку автомобиля', 'ремонт жилью',\n",
       "       'заняться высшим образованием'], dtype=object)"
      ]
     },
     "execution_count": 19,
     "metadata": {},
     "output_type": "execute_result"
    }
   ],
   "source": [
    "data['purpose'].unique()"
   ]
  },
  {
   "cell_type": "markdown",
   "id": "3c001cd6",
   "metadata": {
    "deletable": false,
    "editable": false,
    "id": "85d0aef0"
   },
   "source": [
    "**Задание 18. Создайте функцию, которая на основании данных из столбца `purpose` сформирует новый столбец `purpose_category`, в который войдут следующие категории:**\n",
    "\n",
    "- `'операции с автомобилем'`,\n",
    "- `'операции с недвижимостью'`,\n",
    "- `'проведение свадьбы'`,\n",
    "- `'получение образования'`.\n",
    "\n",
    "**Например, если в столбце `purpose` находится подстрока `'на покупку автомобиля'`, то в столбце `purpose_category` должна появиться строка `'операции с автомобилем'`.**\n",
    "\n",
    "**Используйте собственную функцию с именем `categorize_purpose()` и метод `apply()`. Изучите данные в столбце `purpose` и определите, какие подстроки помогут вам правильно определить категорию.**"
   ]
  },
  {
   "cell_type": "code",
   "execution_count": 20,
   "id": "3ab75801",
   "metadata": {
    "deletable": false,
    "id": "e149fab4"
   },
   "outputs": [],
   "source": [
    "def categorize_purpose(row):\n",
    "    try:\n",
    "        if 'автом' in row:\n",
    "            return 'операции с автомобилем'\n",
    "        elif 'жил' in row or 'недвиж' in row:\n",
    "            return 'операции с недвижимостью'\n",
    "        elif 'свад' in row:\n",
    "            return 'проведение свадьбы'\n",
    "        elif 'образов' in row:\n",
    "            return 'получение образования'\n",
    "    except:\n",
    "        return 'нет категории'"
   ]
  },
  {
   "cell_type": "code",
   "execution_count": 21,
   "id": "081e9fd1",
   "metadata": {
    "deletable": false,
    "id": "bf36e69b"
   },
   "outputs": [],
   "source": [
    "data['purpose_category'] = data['purpose'].apply(categorize_purpose)"
   ]
  },
  {
   "cell_type": "markdown",
   "id": "c8b7451e",
   "metadata": {
    "deletable": false,
    "editable": false,
    "id": "09b242bf"
   },
   "source": [
    "### Шаг 3. Исследуйте данные и ответьте на вопросы"
   ]
  },
  {
   "cell_type": "markdown",
   "id": "bc157d95",
   "metadata": {
    "deletable": false,
    "editable": false,
    "id": "c5d66278"
   },
   "source": [
    "#### 3.1 Есть ли зависимость между количеством детей и возвратом кредита в срок?"
   ]
  },
  {
   "cell_type": "code",
   "execution_count": 34,
   "id": "ce62433e",
   "metadata": {
    "deletable": false,
    "id": "2cacfc4a"
   },
   "outputs": [
    {
     "data": {
      "text/plain": [
       "{0: 0.07543822297920659,\n",
       " 1: 0.09234608985024959,\n",
       " 2: 0.09454191033138401,\n",
       " 3: 0.08181818181818182,\n",
       " 4: 0.0975609756097561,\n",
       " 5: 0.0}"
      ]
     },
     "execution_count": 34,
     "metadata": {},
     "output_type": "execute_result"
    }
   ],
   "source": [
    "# создадим словарь с парами: количество детей - доля невозвращенных кредитов\n",
    "ctd = {}\n",
    "for children in sorted(data['children'].unique()):\n",
    "    ctd[children] = data.loc[data['children'] == children]['debt'].mean()\n",
    "ctd"
   ]
  },
  {
   "cell_type": "code",
   "execution_count": 35,
   "id": "02a40263",
   "metadata": {},
   "outputs": [
    {
     "data": {
      "text/html": [
       "<style  type=\"text/css\" >\n",
       "</style><table id=\"T_2a0f9_\" ><thead>    <tr>        <th class=\"blank level0\" ></th>        <th class=\"col_heading level0 col0\" >number_of_children</th>        <th class=\"col_heading level0 col1\" >debt_percentage</th>        <th class=\"col_heading level0 col2\" >number_of_loaners</th>        <th class=\"col_heading level0 col3\" >number_of_debtors</th>    </tr></thead><tbody>\n",
       "                <tr>\n",
       "                        <th id=\"T_2a0f9_level0_row0\" class=\"row_heading level0 row0\" >0</th>\n",
       "                        <td id=\"T_2a0f9_row0_col0\" class=\"data row0 col0\" >0</td>\n",
       "                        <td id=\"T_2a0f9_row0_col1\" class=\"data row0 col1\" >7.54%</td>\n",
       "                        <td id=\"T_2a0f9_row0_col2\" class=\"data row0 col2\" >14091</td>\n",
       "                        <td id=\"T_2a0f9_row0_col3\" class=\"data row0 col3\" >1063</td>\n",
       "            </tr>\n",
       "            <tr>\n",
       "                        <th id=\"T_2a0f9_level0_row1\" class=\"row_heading level0 row1\" >1</th>\n",
       "                        <td id=\"T_2a0f9_row1_col0\" class=\"data row1 col0\" >1</td>\n",
       "                        <td id=\"T_2a0f9_row1_col1\" class=\"data row1 col1\" >9.23%</td>\n",
       "                        <td id=\"T_2a0f9_row1_col2\" class=\"data row1 col2\" >4808</td>\n",
       "                        <td id=\"T_2a0f9_row1_col3\" class=\"data row1 col3\" >444</td>\n",
       "            </tr>\n",
       "            <tr>\n",
       "                        <th id=\"T_2a0f9_level0_row2\" class=\"row_heading level0 row2\" >2</th>\n",
       "                        <td id=\"T_2a0f9_row2_col0\" class=\"data row2 col0\" >2</td>\n",
       "                        <td id=\"T_2a0f9_row2_col1\" class=\"data row2 col1\" >9.45%</td>\n",
       "                        <td id=\"T_2a0f9_row2_col2\" class=\"data row2 col2\" >2052</td>\n",
       "                        <td id=\"T_2a0f9_row2_col3\" class=\"data row2 col3\" >194</td>\n",
       "            </tr>\n",
       "            <tr>\n",
       "                        <th id=\"T_2a0f9_level0_row3\" class=\"row_heading level0 row3\" >3</th>\n",
       "                        <td id=\"T_2a0f9_row3_col0\" class=\"data row3 col0\" >3</td>\n",
       "                        <td id=\"T_2a0f9_row3_col1\" class=\"data row3 col1\" >8.18%</td>\n",
       "                        <td id=\"T_2a0f9_row3_col2\" class=\"data row3 col2\" >330</td>\n",
       "                        <td id=\"T_2a0f9_row3_col3\" class=\"data row3 col3\" >27</td>\n",
       "            </tr>\n",
       "            <tr>\n",
       "                        <th id=\"T_2a0f9_level0_row4\" class=\"row_heading level0 row4\" >4</th>\n",
       "                        <td id=\"T_2a0f9_row4_col0\" class=\"data row4 col0\" >4</td>\n",
       "                        <td id=\"T_2a0f9_row4_col1\" class=\"data row4 col1\" >9.76%</td>\n",
       "                        <td id=\"T_2a0f9_row4_col2\" class=\"data row4 col2\" >41</td>\n",
       "                        <td id=\"T_2a0f9_row4_col3\" class=\"data row4 col3\" >4</td>\n",
       "            </tr>\n",
       "            <tr>\n",
       "                        <th id=\"T_2a0f9_level0_row5\" class=\"row_heading level0 row5\" >5</th>\n",
       "                        <td id=\"T_2a0f9_row5_col0\" class=\"data row5 col0\" >5</td>\n",
       "                        <td id=\"T_2a0f9_row5_col1\" class=\"data row5 col1\" >0.00%</td>\n",
       "                        <td id=\"T_2a0f9_row5_col2\" class=\"data row5 col2\" >9</td>\n",
       "                        <td id=\"T_2a0f9_row5_col3\" class=\"data row5 col3\" >0</td>\n",
       "            </tr>\n",
       "    </tbody></table>"
      ],
      "text/plain": [
       "<pandas.io.formats.style.Styler at 0x7f019142b3a0>"
      ]
     },
     "execution_count": 35,
     "metadata": {},
     "output_type": "execute_result"
    }
   ],
   "source": [
    "# приведем словарь в более наглядный вид\n",
    "columns = ['number_of_children', 'debt_percentage']\n",
    "children_to_debt = pd.DataFrame(ctd.items(), columns=columns)\n",
    "children_to_debt['number_of_loaners'] = data.groupby('children')['debt'].count()\n",
    "children_to_debt['number_of_debtors'] = data.groupby('children')['debt'].sum()\n",
    "children_to_debt.style.format({'debt_percentage' : '{:.2%}'.format})"
   ]
  },
  {
   "cell_type": "markdown",
   "id": "bf6f6dc1",
   "metadata": {
    "deletable": false,
    "id": "3a6b99ec"
   },
   "source": [
    "**Вывод:** \n",
    "\n",
    "Заемщики без детей лучше всего отдают кредиты, доля должников здесь составляет 7,54%; заемщики с одним или двумя детьми отдают кредиты менее охотно - 9,23% и 9,45% должников соответственно. Выборка для заемщиков с тремя и больше детьми слишком мала, данных недостаточно для корректных выводов по данным категориям."
   ]
  },
  {
   "cell_type": "markdown",
   "id": "12c5c04e",
   "metadata": {
    "deletable": false,
    "editable": false,
    "id": "97be82ca"
   },
   "source": [
    "#### 3.2 Есть ли зависимость между семейным положением и возвратом кредита в срок?"
   ]
  },
  {
   "cell_type": "code",
   "execution_count": 24,
   "id": "58c85ac9",
   "metadata": {
    "deletable": false,
    "id": "dc3f7ee8"
   },
   "outputs": [
    {
     "data": {
      "text/plain": [
       "{'Не женат / не замужем': 0.09763948497854077,\n",
       " 'в разводе': 0.07064760302775441,\n",
       " 'вдовец / вдова': 0.06624605678233439,\n",
       " 'гражданский брак': 0.09313014029995162,\n",
       " 'женат / замужем': 0.07560557866405676}"
      ]
     },
     "execution_count": 24,
     "metadata": {},
     "output_type": "execute_result"
    }
   ],
   "source": [
    "# по аналогии с предыдущим пунктом создадим словарь с парами: семейное положение - доля невозвращенных кредитов\n",
    "std = {}\n",
    "for status in sorted(data['family_status'].unique()):\n",
    "    std[status] = data.loc[data['family_status'] == status]['debt'].mean()\n",
    "std"
   ]
  },
  {
   "cell_type": "code",
   "execution_count": 50,
   "id": "52350423",
   "metadata": {},
   "outputs": [
    {
     "data": {
      "text/html": [
       "<style  type=\"text/css\" >\n",
       "</style><table id=\"T_2bbd4_\" ><thead>    <tr>        <th class=\"blank level0\" ></th>        <th class=\"col_heading level0 col0\" >family_status</th>        <th class=\"col_heading level0 col1\" >debt_percentage</th>        <th class=\"col_heading level0 col2\" >number_of_loaners</th>        <th class=\"col_heading level0 col3\" >number_of_debtors</th>    </tr></thead><tbody>\n",
       "                <tr>\n",
       "                        <th id=\"T_2bbd4_level0_row0\" class=\"row_heading level0 row0\" >0</th>\n",
       "                        <td id=\"T_2bbd4_row0_col0\" class=\"data row0 col0\" >Не женат / не замужем</td>\n",
       "                        <td id=\"T_2bbd4_row0_col1\" class=\"data row0 col1\" >9.76%</td>\n",
       "                        <td id=\"T_2bbd4_row0_col2\" class=\"data row0 col2\" >2796</td>\n",
       "                        <td id=\"T_2bbd4_row0_col3\" class=\"data row0 col3\" >273</td>\n",
       "            </tr>\n",
       "            <tr>\n",
       "                        <th id=\"T_2bbd4_level0_row1\" class=\"row_heading level0 row1\" >1</th>\n",
       "                        <td id=\"T_2bbd4_row1_col0\" class=\"data row1 col0\" >в разводе</td>\n",
       "                        <td id=\"T_2bbd4_row1_col1\" class=\"data row1 col1\" >7.06%</td>\n",
       "                        <td id=\"T_2bbd4_row1_col2\" class=\"data row1 col2\" >1189</td>\n",
       "                        <td id=\"T_2bbd4_row1_col3\" class=\"data row1 col3\" >84</td>\n",
       "            </tr>\n",
       "            <tr>\n",
       "                        <th id=\"T_2bbd4_level0_row2\" class=\"row_heading level0 row2\" >2</th>\n",
       "                        <td id=\"T_2bbd4_row2_col0\" class=\"data row2 col0\" >вдовец / вдова</td>\n",
       "                        <td id=\"T_2bbd4_row2_col1\" class=\"data row2 col1\" >6.62%</td>\n",
       "                        <td id=\"T_2bbd4_row2_col2\" class=\"data row2 col2\" >951</td>\n",
       "                        <td id=\"T_2bbd4_row2_col3\" class=\"data row2 col3\" >63</td>\n",
       "            </tr>\n",
       "            <tr>\n",
       "                        <th id=\"T_2bbd4_level0_row3\" class=\"row_heading level0 row3\" >3</th>\n",
       "                        <td id=\"T_2bbd4_row3_col0\" class=\"data row3 col0\" >гражданский брак</td>\n",
       "                        <td id=\"T_2bbd4_row3_col1\" class=\"data row3 col1\" >9.31%</td>\n",
       "                        <td id=\"T_2bbd4_row3_col2\" class=\"data row3 col2\" >4134</td>\n",
       "                        <td id=\"T_2bbd4_row3_col3\" class=\"data row3 col3\" >385</td>\n",
       "            </tr>\n",
       "            <tr>\n",
       "                        <th id=\"T_2bbd4_level0_row4\" class=\"row_heading level0 row4\" >4</th>\n",
       "                        <td id=\"T_2bbd4_row4_col0\" class=\"data row4 col0\" >женат / замужем</td>\n",
       "                        <td id=\"T_2bbd4_row4_col1\" class=\"data row4 col1\" >7.56%</td>\n",
       "                        <td id=\"T_2bbd4_row4_col2\" class=\"data row4 col2\" >12261</td>\n",
       "                        <td id=\"T_2bbd4_row4_col3\" class=\"data row4 col3\" >927</td>\n",
       "            </tr>\n",
       "    </tbody></table>"
      ],
      "text/plain": [
       "<pandas.io.formats.style.Styler at 0x7f01268b2160>"
      ]
     },
     "execution_count": 50,
     "metadata": {},
     "output_type": "execute_result"
    }
   ],
   "source": [
    "# создадим наглядную таблицу\n",
    "columns = ['family_status', 'debt_percentage']\n",
    "status_to_debt = pd.DataFrame(std.items(), columns=columns)\n",
    "status_to_debt['number_of_loaners'] = data.groupby('family_status')['debt'].count().values\n",
    "status_to_debt['number_of_debtors'] = data.groupby('family_status')['debt'].sum().values\n",
    "status_to_debt.style.format({'debt_percentage' : '{:.2%}'.format})"
   ]
  },
  {
   "cell_type": "markdown",
   "id": "81a6f416",
   "metadata": {
    "deletable": false,
    "id": "1cef7837"
   },
   "source": [
    "**Вывод:** \n",
    "\n",
    "Среди неженатых или состоящих в гражданском браке заемщиков самый высокий процент должников - 9,76% и 9,31% соответственно. Заемщики, состоящие в браке или разведенные относятся к кредитам более ответственно - 7,56% и 7,06% должников соответственно. Для вдов и вдовцов выборка слишком мала, чтобы делать корректные выводы. "
   ]
  },
  {
   "cell_type": "markdown",
   "id": "e1a60e9c",
   "metadata": {
    "deletable": false,
    "editable": false,
    "id": "1e8b2fca"
   },
   "source": [
    "#### 3.3 Есть ли зависимость между уровнем дохода и возвратом кредита в срок?"
   ]
  },
  {
   "cell_type": "code",
   "execution_count": 26,
   "id": "cb008e15",
   "metadata": {
    "deletable": false,
    "id": "cd7e3720"
   },
   "outputs": [
    {
     "data": {
      "text/plain": [
       "{'A': 0.08,\n",
       " 'B': 0.07060231352213801,\n",
       " 'C': 0.08498209911437724,\n",
       " 'D': 0.06017191977077364,\n",
       " 'E': 0.09090909090909091}"
      ]
     },
     "execution_count": 26,
     "metadata": {},
     "output_type": "execute_result"
    }
   ],
   "source": [
    "# здесь словарь с парами: категория уровня дохода - доля невозвращенных кредитов\n",
    "itd = {}\n",
    "for income in sorted(data['total_income_category'].unique()):\n",
    "    itd[income] = data.loc[data['total_income_category'] == income]['debt'].mean()\n",
    "itd"
   ]
  },
  {
   "cell_type": "code",
   "execution_count": 51,
   "id": "f7b5adc2",
   "metadata": {},
   "outputs": [
    {
     "data": {
      "text/html": [
       "<style  type=\"text/css\" >\n",
       "</style><table id=\"T_b1c38_\" ><thead>    <tr>        <th class=\"blank level0\" ></th>        <th class=\"col_heading level0 col0\" >total_income_category</th>        <th class=\"col_heading level0 col1\" >debt_percentage</th>        <th class=\"col_heading level0 col2\" >number_of_loaners</th>        <th class=\"col_heading level0 col3\" >number_of_debtors</th>    </tr></thead><tbody>\n",
       "                <tr>\n",
       "                        <th id=\"T_b1c38_level0_row0\" class=\"row_heading level0 row0\" >0</th>\n",
       "                        <td id=\"T_b1c38_row0_col0\" class=\"data row0 col0\" >A</td>\n",
       "                        <td id=\"T_b1c38_row0_col1\" class=\"data row0 col1\" >8.00%</td>\n",
       "                        <td id=\"T_b1c38_row0_col2\" class=\"data row0 col2\" >25</td>\n",
       "                        <td id=\"T_b1c38_row0_col3\" class=\"data row0 col3\" >2</td>\n",
       "            </tr>\n",
       "            <tr>\n",
       "                        <th id=\"T_b1c38_level0_row1\" class=\"row_heading level0 row1\" >1</th>\n",
       "                        <td id=\"T_b1c38_row1_col0\" class=\"data row1 col0\" >B</td>\n",
       "                        <td id=\"T_b1c38_row1_col1\" class=\"data row1 col1\" >7.06%</td>\n",
       "                        <td id=\"T_b1c38_row1_col2\" class=\"data row1 col2\" >5014</td>\n",
       "                        <td id=\"T_b1c38_row1_col3\" class=\"data row1 col3\" >354</td>\n",
       "            </tr>\n",
       "            <tr>\n",
       "                        <th id=\"T_b1c38_level0_row2\" class=\"row_heading level0 row2\" >2</th>\n",
       "                        <td id=\"T_b1c38_row2_col0\" class=\"data row2 col0\" >C</td>\n",
       "                        <td id=\"T_b1c38_row2_col1\" class=\"data row2 col1\" >8.50%</td>\n",
       "                        <td id=\"T_b1c38_row2_col2\" class=\"data row2 col2\" >15921</td>\n",
       "                        <td id=\"T_b1c38_row2_col3\" class=\"data row2 col3\" >1353</td>\n",
       "            </tr>\n",
       "            <tr>\n",
       "                        <th id=\"T_b1c38_level0_row3\" class=\"row_heading level0 row3\" >3</th>\n",
       "                        <td id=\"T_b1c38_row3_col0\" class=\"data row3 col0\" >D</td>\n",
       "                        <td id=\"T_b1c38_row3_col1\" class=\"data row3 col1\" >6.02%</td>\n",
       "                        <td id=\"T_b1c38_row3_col2\" class=\"data row3 col2\" >349</td>\n",
       "                        <td id=\"T_b1c38_row3_col3\" class=\"data row3 col3\" >21</td>\n",
       "            </tr>\n",
       "            <tr>\n",
       "                        <th id=\"T_b1c38_level0_row4\" class=\"row_heading level0 row4\" >4</th>\n",
       "                        <td id=\"T_b1c38_row4_col0\" class=\"data row4 col0\" >E</td>\n",
       "                        <td id=\"T_b1c38_row4_col1\" class=\"data row4 col1\" >9.09%</td>\n",
       "                        <td id=\"T_b1c38_row4_col2\" class=\"data row4 col2\" >22</td>\n",
       "                        <td id=\"T_b1c38_row4_col3\" class=\"data row4 col3\" >2</td>\n",
       "            </tr>\n",
       "    </tbody></table>"
      ],
      "text/plain": [
       "<pandas.io.formats.style.Styler at 0x7f01268dce50>"
      ]
     },
     "execution_count": 51,
     "metadata": {},
     "output_type": "execute_result"
    }
   ],
   "source": [
    "# таблица\n",
    "columns = ['total_income_category', 'debt_percentage']\n",
    "income_to_debt = pd.DataFrame(itd.items(), columns=columns)\n",
    "income_to_debt['number_of_loaners'] = data.groupby('total_income_category')['debt'].count().values\n",
    "income_to_debt['number_of_debtors'] = data.groupby('total_income_category')['debt'].sum().values\n",
    "income_to_debt.style.format({'debt_percentage' : '{:.2%}'.format})"
   ]
  },
  {
   "cell_type": "markdown",
   "id": "709d2a55",
   "metadata": {
    "deletable": false,
    "id": "e8593def"
   },
   "source": [
    "**Вывод:** \n",
    "\n",
    "Самый низкий процент должников среди тех заемщиков, чей доход составляет от 200 000 до 1 000 000 - 7,06% должников, самый высокий - у тех, чей доход от 50 000 до 200 000 - 8,50% должников. Для всех остальных мы имеем слишком маленькую выборку, и сравнивать некорректно.\n"
   ]
  },
  {
   "cell_type": "markdown",
   "id": "e153e151",
   "metadata": {
    "deletable": false,
    "editable": false,
    "id": "99ecbd1f"
   },
   "source": [
    "#### 3.4 Как разные цели кредита влияют на его возврат в срок?"
   ]
  },
  {
   "cell_type": "code",
   "execution_count": 28,
   "id": "6d232c0c",
   "metadata": {
    "deletable": false,
    "id": "2b687290"
   },
   "outputs": [
    {
     "data": {
      "text/plain": [
       "{'операции с автомобилем': 0.09347978499649451,\n",
       " 'операции с недвижимостью': 0.07255139056831923,\n",
       " 'получение образования': 0.09252758274824474,\n",
       " 'проведение свадьбы': 0.07911802853437094}"
      ]
     },
     "execution_count": 28,
     "metadata": {},
     "output_type": "execute_result"
    }
   ],
   "source": [
    "# словарь с парами: категория цели кредита - доля невозвращенных кредитов\n",
    "ptd = {}\n",
    "for purpose in sorted(data['purpose_category'].unique()):\n",
    "    ptd[purpose] = data.loc[data['purpose_category'] == purpose]['debt'].mean()\n",
    "ptd"
   ]
  },
  {
   "cell_type": "code",
   "execution_count": 56,
   "id": "d5ef0bcd",
   "metadata": {},
   "outputs": [
    {
     "data": {
      "text/html": [
       "<style  type=\"text/css\" >\n",
       "</style><table id=\"T_2f9b8_\" ><thead>    <tr>        <th class=\"blank level0\" ></th>        <th class=\"col_heading level0 col0\" >purpose_category</th>        <th class=\"col_heading level0 col1\" >debt_percentage</th>        <th class=\"col_heading level0 col2\" >number_of_loaners</th>        <th class=\"col_heading level0 col3\" >number_of_debtors</th>    </tr></thead><tbody>\n",
       "                <tr>\n",
       "                        <th id=\"T_2f9b8_level0_row0\" class=\"row_heading level0 row0\" >0</th>\n",
       "                        <td id=\"T_2f9b8_row0_col0\" class=\"data row0 col0\" >операции с автомобилем</td>\n",
       "                        <td id=\"T_2f9b8_row0_col1\" class=\"data row0 col1\" >9.35%</td>\n",
       "                        <td id=\"T_2f9b8_row0_col2\" class=\"data row0 col2\" >4279</td>\n",
       "                        <td id=\"T_2f9b8_row0_col3\" class=\"data row0 col3\" >400</td>\n",
       "            </tr>\n",
       "            <tr>\n",
       "                        <th id=\"T_2f9b8_level0_row1\" class=\"row_heading level0 row1\" >1</th>\n",
       "                        <td id=\"T_2f9b8_row1_col0\" class=\"data row1 col0\" >операции с недвижимостью</td>\n",
       "                        <td id=\"T_2f9b8_row1_col1\" class=\"data row1 col1\" >7.26%</td>\n",
       "                        <td id=\"T_2f9b8_row1_col2\" class=\"data row1 col2\" >10751</td>\n",
       "                        <td id=\"T_2f9b8_row1_col3\" class=\"data row1 col3\" >780</td>\n",
       "            </tr>\n",
       "            <tr>\n",
       "                        <th id=\"T_2f9b8_level0_row2\" class=\"row_heading level0 row2\" >2</th>\n",
       "                        <td id=\"T_2f9b8_row2_col0\" class=\"data row2 col0\" >получение образования</td>\n",
       "                        <td id=\"T_2f9b8_row2_col1\" class=\"data row2 col1\" >9.25%</td>\n",
       "                        <td id=\"T_2f9b8_row2_col2\" class=\"data row2 col2\" >3988</td>\n",
       "                        <td id=\"T_2f9b8_row2_col3\" class=\"data row2 col3\" >369</td>\n",
       "            </tr>\n",
       "            <tr>\n",
       "                        <th id=\"T_2f9b8_level0_row3\" class=\"row_heading level0 row3\" >3</th>\n",
       "                        <td id=\"T_2f9b8_row3_col0\" class=\"data row3 col0\" >проведение свадьбы</td>\n",
       "                        <td id=\"T_2f9b8_row3_col1\" class=\"data row3 col1\" >7.91%</td>\n",
       "                        <td id=\"T_2f9b8_row3_col2\" class=\"data row3 col2\" >2313</td>\n",
       "                        <td id=\"T_2f9b8_row3_col3\" class=\"data row3 col3\" >183</td>\n",
       "            </tr>\n",
       "    </tbody></table>"
      ],
      "text/plain": [
       "<pandas.io.formats.style.Styler at 0x7f01268dc970>"
      ]
     },
     "execution_count": 56,
     "metadata": {},
     "output_type": "execute_result"
    }
   ],
   "source": [
    "# таблица\n",
    "columns = ['purpose_category', 'debt_percentage']\n",
    "purpose_to_debt = pd.DataFrame(ptd.items(), columns=columns)\n",
    "purpose_to_debt['number_of_loaners'] = data.groupby('purpose_category')['debt'].count().values\n",
    "purpose_to_debt['number_of_debtors'] = data.groupby('purpose_category')['debt'].sum().values\n",
    "purpose_to_debt.style.format({'debt_percentage' : '{:.2%}'.format})"
   ]
  },
  {
   "cell_type": "markdown",
   "id": "f332c716",
   "metadata": {
    "deletable": false,
    "id": "b4bb2ce6"
   },
   "source": [
    "**Вывод:** \n",
    "\n",
    "Кредиты, взятые на автомобиль или образование (9,35% и 9,25% должников соответственно) возвращают реже, чем кредиты, взятые на недвижимость или свадьбу (7.26% и 7,91% должников). И это справедливо, ведь должникам по ипотеке грозит изъятие ипотечной недвидимости."
   ]
  },
  {
   "cell_type": "markdown",
   "id": "9e797f45",
   "metadata": {
    "deletable": false,
    "editable": false,
    "id": "09c3ac4c"
   },
   "source": [
    "#### 3.5 Приведите возможные причины появления пропусков в исходных данных."
   ]
  },
  {
   "cell_type": "markdown",
   "id": "6bc03fc4",
   "metadata": {
    "deletable": false,
    "id": "9da2ceda"
   },
   "source": [
    "*Ответ:* \n",
    "\n",
    "Все пропуски находятся в двух столбцах - с данными о трудовом стаже и доходах, причем в одной строке оба значения пропущены. Это может быть связано с тем, что заемщик не предоставил эту информацию.\n",
    "\n",
    "Возможно, данные были утеряны из-за технического сбоя в системе сбора информации. \n",
    "\n",
    "Возможно, [ДАННЫЕ УДАЛЕНЫ] были утеряны в ходе ████████████ ████ или из-за ██████ ███ ████████.(Очень захотелось пошутить, извини, если неуместно)"
   ]
  },
  {
   "cell_type": "markdown",
   "id": "a0a2a3d8",
   "metadata": {
    "deletable": false,
    "editable": false,
    "id": "7b0487d6"
   },
   "source": [
    "#### 3.6 Объясните, почему заполнить пропуски медианным значением — лучшее решение для количественных переменных."
   ]
  },
  {
   "cell_type": "markdown",
   "id": "6bb6b8dd",
   "metadata": {
    "deletable": false,
    "id": "7ecf2b8e"
   },
   "source": [
    "*Ответ:* \n",
    "\n",
    "Медианные значения используют для получения более объективной информации, если в выборке присутствуют выдаюшиеся значения"
   ]
  },
  {
   "cell_type": "markdown",
   "id": "2f4ac3bd",
   "metadata": {
    "deletable": false,
    "editable": false,
    "id": "6db5255a"
   },
   "source": [
    "### Шаг 4: общий вывод."
   ]
  },
  {
   "cell_type": "markdown",
   "id": "4cd114b8",
   "metadata": {
    "deletable": false,
    "id": "bad65432"
   },
   "source": [
    "В этом проекте я изучила данные, нашла в них пропуски (порядка 2000 строк с пропусками значений в столбце с данными о трудовом стаже и данными о доходах) и заполнила их медианными значениями.\n",
    "\n",
    "Нашла аномалии, такие как отрицательные значения в столбце с данными о трудовом стаже, а также нереалистичные данные о количестве детей; первую аномалию исправила, изменив значения на положительные, вторую - удалив строки с нереалистичными значениями.\n",
    "\n",
    "Нашла и обработала неявные дубликаты в столбце с данными об образовании, приведя все значения к нижнему регистру, после чего удалила явные дубликаты (71 строка).\n",
    "\n",
    "Создала два новых столбца с категориями для двух столбцов: с данными о доходе и с целями взятия кредита.\n",
    "\n",
    "Используя обработанный датафрейм, смогла найти зависимости между невозвращенными кредитами и количеством детей, семейным положением, уровнем дохода и целью кредита."
   ]
  },
  {
   "cell_type": "markdown",
   "id": "bf6147b1",
   "metadata": {},
   "source": [
    "Заемщики без детей вероятнее вернут кредит в срок, чем заемщики с ребенком или двумя, по статистике здесь 7,54% против 9,23% и 9,45% соответственно.\n",
    "\n",
    "Заемщики, состоящие в браке или разведенные, вероятнее вернут кредит, чем не состоящие или состоящие в гражданском браке, по статистике: 7,56% и 7,06% против 9,76% и 9,31%.\n",
    "\n",
    "Заемщики, имеющие доход от 200 000 до 1 000 000 вероятнее вернут кредит, чем имеющие доход от 50 000 до 200 000, по статистике 7,06% против 8,50%.\n",
    "\n",
    "Заемщики, планирующие свадьбу или покупку недвижимости вероятнее вернут кредит, чем планирующие покупку автомобия или получение образования, по статистике 7,91% и 7,26% против 9,35% и 9,25%.\n",
    "\n",
    "Однако, в данных были обнаружены пропуски (в порядка 2 000 строк), которые могли повлиять на результаты исследования. Этим пропускам, возможно, стал причиной сбой в системе сбора информации, это стоит проверить.\n",
    "\n",
    "Также были обнаружены категории, для которых данных недостаточно для корректных выводов, такие как: заемщики с тремя и более детьми, вдовы/вдовцы, заемщики с доходом менее 50 000 или более 1 000 000. В таких случаях стоит уделить заемщикам особое внимание, а не полагаться на статистику."
   ]
  }
 ],
 "metadata": {
  "ExecuteTimeLog": [
   {
    "duration": 76,
    "start_time": "2023-02-20T12:05:55.969Z"
   },
   {
    "duration": 41,
    "start_time": "2023-02-20T12:06:02.768Z"
   },
   {
    "duration": 495,
    "start_time": "2023-02-20T12:06:18.850Z"
   },
   {
    "duration": 21,
    "start_time": "2023-02-20T12:06:19.347Z"
   },
   {
    "duration": 13,
    "start_time": "2023-02-20T12:06:19.369Z"
   },
   {
    "duration": 8,
    "start_time": "2023-02-20T12:06:19.384Z"
   },
   {
    "duration": 30,
    "start_time": "2023-02-20T12:06:19.394Z"
   },
   {
    "duration": 3,
    "start_time": "2023-02-20T12:06:19.426Z"
   },
   {
    "duration": 17,
    "start_time": "2023-02-20T12:06:19.430Z"
   },
   {
    "duration": 6,
    "start_time": "2023-02-20T12:06:19.449Z"
   },
   {
    "duration": 10,
    "start_time": "2023-02-20T12:06:19.456Z"
   },
   {
    "duration": 21,
    "start_time": "2023-02-20T12:06:19.468Z"
   },
   {
    "duration": 31,
    "start_time": "2023-02-20T12:06:19.491Z"
   },
   {
    "duration": 9,
    "start_time": "2023-02-20T12:06:19.524Z"
   },
   {
    "duration": 8,
    "start_time": "2023-02-20T12:06:19.535Z"
   },
   {
    "duration": 25,
    "start_time": "2023-02-20T12:06:19.545Z"
   },
   {
    "duration": 24,
    "start_time": "2023-02-20T12:06:19.572Z"
   },
   {
    "duration": 17,
    "start_time": "2023-02-20T12:06:19.597Z"
   },
   {
    "duration": 3,
    "start_time": "2023-02-20T12:06:19.615Z"
   },
   {
    "duration": 12,
    "start_time": "2023-02-20T12:06:19.620Z"
   },
   {
    "duration": 6,
    "start_time": "2023-02-20T12:06:19.634Z"
   },
   {
    "duration": 6,
    "start_time": "2023-02-20T12:06:19.641Z"
   },
   {
    "duration": 18,
    "start_time": "2023-02-20T12:06:19.648Z"
   },
   {
    "duration": 22,
    "start_time": "2023-02-20T12:06:19.667Z"
   },
   {
    "duration": 10,
    "start_time": "2023-02-20T12:06:19.691Z"
   },
   {
    "duration": 7,
    "start_time": "2023-02-20T12:06:19.702Z"
   },
   {
    "duration": 5,
    "start_time": "2023-02-20T12:06:19.710Z"
   },
   {
    "duration": 725,
    "start_time": "2023-02-24T19:10:49.761Z"
   },
   {
    "duration": 25,
    "start_time": "2023-02-24T19:10:50.488Z"
   },
   {
    "duration": 17,
    "start_time": "2023-02-24T19:10:50.514Z"
   },
   {
    "duration": 10,
    "start_time": "2023-02-24T19:10:50.533Z"
   },
   {
    "duration": 32,
    "start_time": "2023-02-24T19:10:50.549Z"
   },
   {
    "duration": 3,
    "start_time": "2023-02-24T19:10:50.582Z"
   },
   {
    "duration": 13,
    "start_time": "2023-02-24T19:10:50.587Z"
   },
   {
    "duration": 5,
    "start_time": "2023-02-24T19:10:50.601Z"
   },
   {
    "duration": 10,
    "start_time": "2023-02-24T19:10:50.607Z"
   },
   {
    "duration": 31,
    "start_time": "2023-02-24T19:10:50.620Z"
   },
   {
    "duration": 41,
    "start_time": "2023-02-24T19:10:50.653Z"
   },
   {
    "duration": 10,
    "start_time": "2023-02-24T19:10:50.695Z"
   },
   {
    "duration": 4,
    "start_time": "2023-02-24T19:10:50.707Z"
   },
   {
    "duration": 15,
    "start_time": "2023-02-24T19:10:50.712Z"
   },
   {
    "duration": 37,
    "start_time": "2023-02-24T19:10:50.729Z"
   },
   {
    "duration": 18,
    "start_time": "2023-02-24T19:10:50.767Z"
   },
   {
    "duration": 4,
    "start_time": "2023-02-24T19:10:50.787Z"
   },
   {
    "duration": 12,
    "start_time": "2023-02-24T19:10:50.792Z"
   },
   {
    "duration": 6,
    "start_time": "2023-02-24T19:10:50.806Z"
   },
   {
    "duration": 35,
    "start_time": "2023-02-24T19:10:50.813Z"
   },
   {
    "duration": 9,
    "start_time": "2023-02-24T19:10:50.850Z"
   },
   {
    "duration": 8,
    "start_time": "2023-02-24T19:10:50.861Z"
   },
   {
    "duration": 6,
    "start_time": "2023-02-24T19:10:50.870Z"
   },
   {
    "duration": 9,
    "start_time": "2023-02-24T19:10:50.878Z"
   },
   {
    "duration": 478,
    "start_time": "2023-02-24T20:20:30.913Z"
   },
   {
    "duration": 21,
    "start_time": "2023-02-24T20:20:31.395Z"
   },
   {
    "duration": 30,
    "start_time": "2023-02-24T20:20:31.418Z"
   },
   {
    "duration": 11,
    "start_time": "2023-02-24T20:20:31.450Z"
   },
   {
    "duration": 55,
    "start_time": "2023-02-24T20:20:31.463Z"
   },
   {
    "duration": 3,
    "start_time": "2023-02-24T20:20:31.520Z"
   },
   {
    "duration": 37,
    "start_time": "2023-02-24T20:20:31.524Z"
   },
   {
    "duration": 15,
    "start_time": "2023-02-24T20:20:31.562Z"
   },
   {
    "duration": 35,
    "start_time": "2023-02-24T20:20:31.578Z"
   },
   {
    "duration": 25,
    "start_time": "2023-02-24T20:20:31.615Z"
   },
   {
    "duration": 52,
    "start_time": "2023-02-24T20:20:31.641Z"
   },
   {
    "duration": 11,
    "start_time": "2023-02-24T20:20:31.694Z"
   },
   {
    "duration": 21,
    "start_time": "2023-02-24T20:20:31.706Z"
   },
   {
    "duration": 24,
    "start_time": "2023-02-24T20:20:31.729Z"
   },
   {
    "duration": 48,
    "start_time": "2023-02-24T20:20:31.755Z"
   },
   {
    "duration": 26,
    "start_time": "2023-02-24T20:20:31.805Z"
   },
   {
    "duration": 26,
    "start_time": "2023-02-24T20:20:31.833Z"
   },
   {
    "duration": 22,
    "start_time": "2023-02-24T20:20:31.861Z"
   },
   {
    "duration": 10,
    "start_time": "2023-02-24T20:20:31.885Z"
   },
   {
    "duration": 24,
    "start_time": "2023-02-24T20:20:31.896Z"
   },
   {
    "duration": 32,
    "start_time": "2023-02-24T20:20:31.922Z"
   },
   {
    "duration": 18,
    "start_time": "2023-02-24T20:20:31.956Z"
   },
   {
    "duration": 12,
    "start_time": "2023-02-24T20:20:31.976Z"
   },
   {
    "duration": 7,
    "start_time": "2023-02-24T20:20:31.990Z"
   },
   {
    "duration": 63,
    "start_time": "2023-02-24T22:23:36.025Z"
   },
   {
    "duration": 15,
    "start_time": "2023-02-24T22:24:07.655Z"
   },
   {
    "duration": 13,
    "start_time": "2023-02-24T22:32:48.653Z"
   },
   {
    "duration": 9,
    "start_time": "2023-02-24T22:34:15.454Z"
   },
   {
    "duration": 7,
    "start_time": "2023-02-24T22:38:47.207Z"
   },
   {
    "duration": 420,
    "start_time": "2023-02-24T22:47:01.744Z"
   },
   {
    "duration": 15,
    "start_time": "2023-02-24T22:47:07.164Z"
   },
   {
    "duration": 7,
    "start_time": "2023-02-24T22:47:09.744Z"
   },
   {
    "duration": 13,
    "start_time": "2023-02-24T22:48:29.477Z"
   },
   {
    "duration": 8,
    "start_time": "2023-02-24T22:48:31.404Z"
   },
   {
    "duration": 6,
    "start_time": "2023-02-24T22:54:25.039Z"
   },
   {
    "duration": 705,
    "start_time": "2023-02-24T22:58:54.533Z"
   },
   {
    "duration": 9,
    "start_time": "2023-02-24T23:00:08.045Z"
   },
   {
    "duration": 20,
    "start_time": "2023-02-25T19:17:43.692Z"
   },
   {
    "duration": 17,
    "start_time": "2023-02-25T19:21:53.504Z"
   },
   {
    "duration": 8,
    "start_time": "2023-02-25T19:24:14.059Z"
   },
   {
    "duration": 12,
    "start_time": "2023-02-25T19:25:23.261Z"
   },
   {
    "duration": 8,
    "start_time": "2023-02-25T19:26:51.091Z"
   },
   {
    "duration": 9,
    "start_time": "2023-02-25T19:28:32.933Z"
   },
   {
    "duration": 11,
    "start_time": "2023-02-25T19:28:50.369Z"
   },
   {
    "duration": 17,
    "start_time": "2023-02-25T19:29:50.798Z"
   },
   {
    "duration": 13,
    "start_time": "2023-02-25T19:29:57.970Z"
   },
   {
    "duration": 12,
    "start_time": "2023-02-25T19:30:21.347Z"
   },
   {
    "duration": 9,
    "start_time": "2023-02-25T19:30:31.540Z"
   },
   {
    "duration": 12,
    "start_time": "2023-02-25T19:30:42.364Z"
   },
   {
    "duration": 16,
    "start_time": "2023-02-25T19:30:47.413Z"
   },
   {
    "duration": 10,
    "start_time": "2023-02-25T19:30:53.964Z"
   },
   {
    "duration": 12,
    "start_time": "2023-02-25T19:31:01.288Z"
   },
   {
    "duration": 14,
    "start_time": "2023-02-25T19:31:16.651Z"
   },
   {
    "duration": 16,
    "start_time": "2023-02-25T19:31:38.500Z"
   },
   {
    "duration": 7,
    "start_time": "2023-02-25T19:32:13.187Z"
   },
   {
    "duration": 817,
    "start_time": "2023-02-25T20:03:10.791Z"
   },
   {
    "duration": 27,
    "start_time": "2023-02-25T20:03:53.818Z"
   },
   {
    "duration": 8,
    "start_time": "2023-02-25T20:04:33.796Z"
   },
   {
    "duration": 81,
    "start_time": "2023-02-25T20:27:32.746Z"
   },
   {
    "duration": 57,
    "start_time": "2023-02-25T20:27:38.515Z"
   },
   {
    "duration": 12,
    "start_time": "2023-02-25T20:27:48.134Z"
   },
   {
    "duration": 9,
    "start_time": "2023-02-25T20:28:07.452Z"
   },
   {
    "duration": 7,
    "start_time": "2023-02-25T20:28:59.068Z"
   },
   {
    "duration": 16,
    "start_time": "2023-02-25T21:52:10.464Z"
   },
   {
    "duration": 17,
    "start_time": "2023-02-25T21:52:18.823Z"
   },
   {
    "duration": 7,
    "start_time": "2023-02-25T21:53:01.217Z"
   },
   {
    "duration": 555,
    "start_time": "2023-02-27T19:05:30.421Z"
   },
   {
    "duration": 24,
    "start_time": "2023-02-27T19:05:30.979Z"
   },
   {
    "duration": 19,
    "start_time": "2023-02-27T19:05:31.005Z"
   },
   {
    "duration": 25,
    "start_time": "2023-02-27T19:05:31.026Z"
   },
   {
    "duration": 70,
    "start_time": "2023-02-27T19:05:31.053Z"
   },
   {
    "duration": 5,
    "start_time": "2023-02-27T19:05:31.125Z"
   },
   {
    "duration": 46,
    "start_time": "2023-02-27T19:05:31.132Z"
   },
   {
    "duration": 16,
    "start_time": "2023-02-27T19:05:31.180Z"
   },
   {
    "duration": 32,
    "start_time": "2023-02-27T19:05:31.198Z"
   },
   {
    "duration": 37,
    "start_time": "2023-02-27T19:05:31.234Z"
   },
   {
    "duration": 64,
    "start_time": "2023-02-27T19:05:31.273Z"
   },
   {
    "duration": 14,
    "start_time": "2023-02-27T19:05:31.338Z"
   },
   {
    "duration": 24,
    "start_time": "2023-02-27T19:05:31.353Z"
   },
   {
    "duration": 20,
    "start_time": "2023-02-27T19:05:31.379Z"
   },
   {
    "duration": 42,
    "start_time": "2023-02-27T19:05:31.401Z"
   },
   {
    "duration": 16,
    "start_time": "2023-02-27T19:05:31.445Z"
   },
   {
    "duration": 8,
    "start_time": "2023-02-27T19:05:31.463Z"
   },
   {
    "duration": 25,
    "start_time": "2023-02-27T19:05:31.473Z"
   },
   {
    "duration": 34,
    "start_time": "2023-02-27T19:05:31.500Z"
   },
   {
    "duration": 28,
    "start_time": "2023-02-27T19:05:31.536Z"
   },
   {
    "duration": 21,
    "start_time": "2023-02-27T19:05:31.565Z"
   },
   {
    "duration": 22,
    "start_time": "2023-02-27T19:05:31.588Z"
   },
   {
    "duration": 442,
    "start_time": "2023-02-27T19:05:31.612Z"
   },
   {
    "duration": 20,
    "start_time": "2023-02-27T19:05:32.056Z"
   },
   {
    "duration": 7,
    "start_time": "2023-02-27T19:05:32.077Z"
   },
   {
    "duration": 25,
    "start_time": "2023-02-27T19:05:32.085Z"
   },
   {
    "duration": 6,
    "start_time": "2023-02-27T19:05:32.112Z"
   },
   {
    "duration": 42,
    "start_time": "2023-02-27T19:05:32.120Z"
   },
   {
    "duration": 17,
    "start_time": "2023-02-27T19:05:32.164Z"
   },
   {
    "duration": 461,
    "start_time": "2023-02-27T19:20:39.496Z"
   },
   {
    "duration": 21,
    "start_time": "2023-02-27T19:20:39.960Z"
   },
   {
    "duration": 15,
    "start_time": "2023-02-27T19:20:39.982Z"
   },
   {
    "duration": 14,
    "start_time": "2023-02-27T19:20:39.999Z"
   },
   {
    "duration": 65,
    "start_time": "2023-02-27T19:20:40.016Z"
   },
   {
    "duration": 3,
    "start_time": "2023-02-27T19:20:40.083Z"
   },
   {
    "duration": 10,
    "start_time": "2023-02-27T19:20:40.088Z"
   },
   {
    "duration": 5,
    "start_time": "2023-02-27T19:20:40.099Z"
   },
   {
    "duration": 11,
    "start_time": "2023-02-27T19:20:40.106Z"
   },
   {
    "duration": 5,
    "start_time": "2023-02-27T19:20:40.119Z"
   },
   {
    "duration": 56,
    "start_time": "2023-02-27T19:20:40.125Z"
   },
   {
    "duration": 15,
    "start_time": "2023-02-27T19:20:40.183Z"
   },
   {
    "duration": 5,
    "start_time": "2023-02-27T19:20:40.200Z"
   },
   {
    "duration": 12,
    "start_time": "2023-02-27T19:20:40.208Z"
   },
   {
    "duration": 42,
    "start_time": "2023-02-27T19:20:40.222Z"
   },
   {
    "duration": 17,
    "start_time": "2023-02-27T19:20:40.265Z"
   },
   {
    "duration": 4,
    "start_time": "2023-02-27T19:20:40.283Z"
   },
   {
    "duration": 12,
    "start_time": "2023-02-27T19:20:40.288Z"
   },
   {
    "duration": 9,
    "start_time": "2023-02-27T19:20:40.301Z"
   },
   {
    "duration": 3,
    "start_time": "2023-02-27T19:20:40.312Z"
   },
   {
    "duration": 13,
    "start_time": "2023-02-27T19:20:40.316Z"
   },
   {
    "duration": 35,
    "start_time": "2023-02-27T19:20:40.331Z"
   },
   {
    "duration": 293,
    "start_time": "2023-02-27T19:20:40.368Z"
   },
   {
    "duration": 18,
    "start_time": "2023-02-27T19:20:40.663Z"
   },
   {
    "duration": 7,
    "start_time": "2023-02-27T19:20:40.683Z"
   },
   {
    "duration": 28,
    "start_time": "2023-02-27T19:20:40.692Z"
   },
   {
    "duration": 33,
    "start_time": "2023-02-27T19:20:40.722Z"
   },
   {
    "duration": 28,
    "start_time": "2023-02-27T19:20:40.758Z"
   },
   {
    "duration": 8,
    "start_time": "2023-02-27T19:20:40.788Z"
   },
   {
    "duration": 23,
    "start_time": "2023-02-27T19:34:51.826Z"
   },
   {
    "duration": 16,
    "start_time": "2023-02-27T19:35:33.781Z"
   },
   {
    "duration": 17,
    "start_time": "2023-02-27T19:37:13.188Z"
   },
   {
    "duration": 489,
    "start_time": "2023-02-27T19:37:29.030Z"
   },
   {
    "duration": 25,
    "start_time": "2023-02-27T19:37:29.521Z"
   },
   {
    "duration": 29,
    "start_time": "2023-02-27T19:37:29.547Z"
   },
   {
    "duration": 17,
    "start_time": "2023-02-27T19:37:29.578Z"
   },
   {
    "duration": 38,
    "start_time": "2023-02-27T19:37:29.597Z"
   },
   {
    "duration": 3,
    "start_time": "2023-02-27T19:37:29.637Z"
   },
   {
    "duration": 19,
    "start_time": "2023-02-27T19:37:29.642Z"
   },
   {
    "duration": 11,
    "start_time": "2023-02-27T19:37:29.663Z"
   },
   {
    "duration": 21,
    "start_time": "2023-02-27T19:37:29.675Z"
   },
   {
    "duration": 5,
    "start_time": "2023-02-27T19:37:29.698Z"
   },
   {
    "duration": 43,
    "start_time": "2023-02-27T19:37:29.704Z"
   },
   {
    "duration": 10,
    "start_time": "2023-02-27T19:37:29.749Z"
   },
   {
    "duration": 16,
    "start_time": "2023-02-27T19:37:29.761Z"
   },
   {
    "duration": 24,
    "start_time": "2023-02-27T19:37:29.779Z"
   },
   {
    "duration": 48,
    "start_time": "2023-02-27T19:37:29.804Z"
   },
   {
    "duration": 16,
    "start_time": "2023-02-27T19:37:29.853Z"
   },
   {
    "duration": 4,
    "start_time": "2023-02-27T19:37:29.871Z"
   },
   {
    "duration": 16,
    "start_time": "2023-02-27T19:37:29.877Z"
   },
   {
    "duration": 5,
    "start_time": "2023-02-27T19:37:29.895Z"
   },
   {
    "duration": 8,
    "start_time": "2023-02-27T19:37:29.902Z"
   },
   {
    "duration": 24,
    "start_time": "2023-02-27T19:37:29.912Z"
   },
   {
    "duration": 35,
    "start_time": "2023-02-27T19:37:29.938Z"
   },
   {
    "duration": 300,
    "start_time": "2023-02-27T19:37:29.974Z"
   },
   {
    "duration": 20,
    "start_time": "2023-02-27T19:37:30.276Z"
   },
   {
    "duration": 24,
    "start_time": "2023-02-27T19:37:30.298Z"
   },
   {
    "duration": 98,
    "start_time": "2023-02-27T19:37:30.324Z"
   },
   {
    "duration": 18,
    "start_time": "2023-02-27T19:37:30.424Z"
   },
   {
    "duration": 75,
    "start_time": "2023-02-27T19:37:30.445Z"
   },
   {
    "duration": 42,
    "start_time": "2023-02-27T19:37:30.522Z"
   },
   {
    "duration": 56,
    "start_time": "2023-02-28T19:08:00.701Z"
   },
   {
    "duration": 744,
    "start_time": "2023-02-28T19:08:20.436Z"
   },
   {
    "duration": 21,
    "start_time": "2023-02-28T19:08:21.182Z"
   },
   {
    "duration": 14,
    "start_time": "2023-02-28T19:08:21.204Z"
   },
   {
    "duration": 9,
    "start_time": "2023-02-28T19:08:21.220Z"
   },
   {
    "duration": 36,
    "start_time": "2023-02-28T19:08:21.231Z"
   },
   {
    "duration": 4,
    "start_time": "2023-02-28T19:08:21.268Z"
   },
   {
    "duration": 14,
    "start_time": "2023-02-28T19:08:21.273Z"
   },
   {
    "duration": 8,
    "start_time": "2023-02-28T19:08:21.289Z"
   },
   {
    "duration": 16,
    "start_time": "2023-02-28T19:08:21.298Z"
   },
   {
    "duration": 8,
    "start_time": "2023-02-28T19:08:21.316Z"
   },
   {
    "duration": 40,
    "start_time": "2023-02-28T19:08:21.326Z"
   },
   {
    "duration": 10,
    "start_time": "2023-02-28T19:08:21.368Z"
   },
   {
    "duration": 12,
    "start_time": "2023-02-28T19:08:21.379Z"
   },
   {
    "duration": 17,
    "start_time": "2023-02-28T19:08:21.394Z"
   },
   {
    "duration": 24,
    "start_time": "2023-02-28T19:08:21.412Z"
   },
   {
    "duration": 20,
    "start_time": "2023-02-28T19:08:21.437Z"
   },
   {
    "duration": 4,
    "start_time": "2023-02-28T19:08:21.458Z"
   },
   {
    "duration": 25,
    "start_time": "2023-02-28T19:08:21.463Z"
   },
   {
    "duration": 7,
    "start_time": "2023-02-28T19:08:21.489Z"
   },
   {
    "duration": 9,
    "start_time": "2023-02-28T19:08:21.497Z"
   },
   {
    "duration": 14,
    "start_time": "2023-02-28T19:08:21.508Z"
   },
   {
    "duration": 15,
    "start_time": "2023-02-28T19:08:21.523Z"
   },
   {
    "duration": 419,
    "start_time": "2023-02-28T19:08:21.539Z"
   },
   {
    "duration": 19,
    "start_time": "2023-02-28T19:08:21.960Z"
   },
   {
    "duration": 7,
    "start_time": "2023-02-28T19:08:21.981Z"
   },
   {
    "duration": 19,
    "start_time": "2023-02-28T19:08:21.990Z"
   },
   {
    "duration": 10,
    "start_time": "2023-02-28T19:08:22.011Z"
   },
   {
    "duration": 16,
    "start_time": "2023-02-28T19:08:22.048Z"
   },
   {
    "duration": 9,
    "start_time": "2023-02-28T19:08:22.065Z"
   },
   {
    "duration": 14,
    "start_time": "2023-02-28T19:10:40.455Z"
   },
   {
    "duration": 13,
    "start_time": "2023-02-28T19:11:42.152Z"
   },
   {
    "duration": 12,
    "start_time": "2023-02-28T19:11:44.472Z"
   },
   {
    "duration": 11,
    "start_time": "2023-02-28T19:13:42.531Z"
   },
   {
    "duration": 13,
    "start_time": "2023-02-28T19:15:06.568Z"
   },
   {
    "duration": 12,
    "start_time": "2023-02-28T19:15:08.462Z"
   },
   {
    "duration": 14,
    "start_time": "2023-02-28T19:32:32.839Z"
   },
   {
    "duration": 16,
    "start_time": "2023-02-28T19:33:11.779Z"
   },
   {
    "duration": 88,
    "start_time": "2023-02-28T19:37:02.047Z"
   },
   {
    "duration": 15,
    "start_time": "2023-02-28T19:37:22.801Z"
   },
   {
    "duration": 9,
    "start_time": "2023-02-28T19:38:17.743Z"
   },
   {
    "duration": 10,
    "start_time": "2023-02-28T19:39:45.564Z"
   },
   {
    "duration": 7,
    "start_time": "2023-02-28T19:39:49.685Z"
   },
   {
    "duration": 16,
    "start_time": "2023-02-28T19:39:54.748Z"
   },
   {
    "duration": 8,
    "start_time": "2023-02-28T19:40:00.237Z"
   },
   {
    "duration": 19,
    "start_time": "2023-02-28T19:42:12.966Z"
   },
   {
    "duration": 14,
    "start_time": "2023-02-28T19:42:59.895Z"
   },
   {
    "duration": 19,
    "start_time": "2023-02-28T19:44:42.384Z"
   },
   {
    "duration": 67,
    "start_time": "2023-02-28T19:45:42.221Z"
   },
   {
    "duration": 12,
    "start_time": "2023-02-28T19:45:49.204Z"
   },
   {
    "duration": 18,
    "start_time": "2023-02-28T19:46:39.406Z"
   },
   {
    "duration": 14,
    "start_time": "2023-02-28T19:48:38.795Z"
   },
   {
    "duration": 6,
    "start_time": "2023-02-28T20:02:27.210Z"
   },
   {
    "duration": 51,
    "start_time": "2023-02-28T20:03:06.269Z"
   },
   {
    "duration": 8,
    "start_time": "2023-02-28T20:03:11.499Z"
   },
   {
    "duration": 9,
    "start_time": "2023-02-28T20:03:30.644Z"
   },
   {
    "duration": 17,
    "start_time": "2023-02-28T20:04:59.033Z"
   },
   {
    "duration": 92,
    "start_time": "2023-03-01T15:35:57.177Z"
   },
   {
    "duration": 89,
    "start_time": "2023-03-01T15:38:50.331Z"
   }
  ],
  "colab": {
   "name": "dpp_template_part2.ipynb",
   "provenance": []
  },
  "kernelspec": {
   "display_name": "Python 3 (ipykernel)",
   "language": "python",
   "name": "python3"
  },
  "language_info": {
   "codemirror_mode": {
    "name": "ipython",
    "version": 3
   },
   "file_extension": ".py",
   "mimetype": "text/x-python",
   "name": "python",
   "nbconvert_exporter": "python",
   "pygments_lexer": "ipython3",
   "version": "3.9.5"
  },
  "toc": {
   "base_numbering": 1,
   "nav_menu": {},
   "number_sections": true,
   "sideBar": true,
   "skip_h1_title": true,
   "title_cell": "Table of Contents",
   "title_sidebar": "Contents",
   "toc_cell": false,
   "toc_position": {},
   "toc_section_display": true,
   "toc_window_display": false
  }
 },
 "nbformat": 4,
 "nbformat_minor": 5
}
